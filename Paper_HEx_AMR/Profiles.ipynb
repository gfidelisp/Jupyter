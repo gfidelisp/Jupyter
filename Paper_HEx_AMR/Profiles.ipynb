{
 "cells": [
  {
   "cell_type": "code",
   "execution_count": 1,
   "metadata": {},
   "outputs": [],
   "source": [
    "import matplotlib.pyplot as plt\n",
    "import numpy as np\n",
    "\n",
    "from numpy import *\n",
    "import xlrd\n",
    "plt.rc('text',usetex = True)\n",
    "plt.rc('font', family='serif')"
   ]
  },
  {
   "cell_type": "code",
   "execution_count": 69,
   "metadata": {},
   "outputs": [],
   "source": [
    "Theta = np.arange(0,np.pi,np.pi/1000)\n",
    "M_prof = np.zeros(len(Theta))\n",
    "H_prof = np.zeros(len(Theta))"
   ]
  },
  {
   "cell_type": "code",
   "execution_count": 81,
   "metadata": {},
   "outputs": [
    {
     "data": {
      "text/plain": [
       "(3.1384510609362035, 0.0)"
      ]
     },
     "execution_count": 81,
     "metadata": {},
     "output_type": "execute_result"
    }
   ],
   "source": [
    "Theta[999],M_prof[999]"
   ]
  },
  {
   "cell_type": "code",
   "execution_count": 251,
   "metadata": {},
   "outputs": [],
   "source": [
    "M_prof[0:75] = 0.5 + 0.5/Theta[75]*Theta[0:75]\n",
    "M_prof[75:425] = 1\n",
    "M_prof[425:575] = 0.9*Theta[425:575]/(Theta[425] - Theta[575]) +(0.1 + 0.9*Theta[575]/(Theta[575] - Theta[425]))\n",
    "M_prof[575:925] = 0.1\n",
    "M_prof[925:999] = 0.4*Theta[925:999]/(Theta[999] - Theta[925]) + 0.1 + 0.4*Theta[925]/(Theta[925] - Theta[999])\n",
    "\n",
    "H_prof[0:75] = 0\n",
    "H_prof[75:425] = 0.8\n",
    "H_prof[425:575] = 0\n",
    "H_prof[575:925] = -0.8\n",
    "H_prof[925:1000] = 0\n"
   ]
  },
  {
   "cell_type": "code",
   "execution_count": 253,
   "metadata": {},
   "outputs": [
    {
     "data": {
      "image/png": "[encoded data removed]",
      "text/plain": [
       "<Figure size 432x288 with 2 Axes>"
      ]
     },
     "metadata": {
      "needs_background": "light"
     },
     "output_type": "display_data"
    }
   ],
   "source": [
    "fig, ax1 = plt.subplots()\n",
    "\n",
    "ax1.plot(Theta,M_prof,'k--', label =  'Magnetic Profile')\n",
    "\n",
    "ax2 = ax1.twinx()\n",
    "\n",
    "ax2.plot(Theta,H_prof,'k-', label =  'Hydraulic Profile')\n",
    "ax1.set_ylim([-1.1,1.3])\n",
    "\n",
    "ax2.set_ylim([-1.1,1.3])\n",
    "\n",
    "ax1.grid()\n",
    "ax1.set_ylabel('$B \\ [T]$')\n",
    "ax2.set_ylabel('$\\dot{m}_\\mathrm{f} \\ [kg s^{-1}$]')\n",
    "ax1.set_xlabel(r'$ \\theta \\ [-]$')\n",
    "ax2.grid()\n",
    "\n",
    "x1 = [0, np.pi/4, np.pi/2, 3*np.pi/4, np.pi]\n",
    "squad = ['0','$\\pi$/4','$\\pi$/2','3$\\pi$/4','$\\pi$']\n",
    "\n",
    "y1 = [0.1, 1]\n",
    "B_label = ['$B_\\mathrm{min}$','$B_\\mathrm{max}$']\n",
    "\n",
    "ax1.set_xticks(x1)\n",
    "ax1.set_xticklabels(squad, minor=False, rotation=0)\n",
    "\n",
    "ax1.text(Theta[250]*0.9,1.15,r'$\\tau_\\mathrm{M}$',size = 12)\n",
    "ax2.text(Theta[750]*0.98,-1.05,r'$\\tau_\\mathrm{B}$',size = 12)\n",
    "\n",
    "ax2.arrow(Theta[575],-0.9,Theta[925]-Theta[575]-0.1,0,head_width=0.05, head_length=0.1, fc='k', ec='k')\n",
    "ax2.arrow(Theta[925],-0.9,-(Theta[925]-Theta[575]-0.1),0,head_width=0.05, head_length=0.1, fc='k', ec='k')\n",
    "\n",
    "ax1.arrow(Theta[75],1.1,Theta[425]-Theta[75]-0.1,0,head_width=0.05, head_length=0.1, fc='k', ec='k')\n",
    "ax1.arrow(Theta[425],1.1,-(Theta[425]-Theta[75]-0.1),0,head_width=0.05, head_length=0.1, fc='k', ec='k')\n",
    "\n",
    "y2 = [-0.8, 0,0.8]\n",
    "B_label_2 = ['$ - \\dot{m}_\\mathrm{f,max}$','$ \\dot{m}_\\mathrm{f,min}$','$\\dot{m}_\\mathrm{f,max}$']\n",
    "\n",
    "ax1.set_yticks(y1)\n",
    "ax1.set_yticklabels(B_label, minor=False, rotation=0)\n",
    "\n",
    "ax2.set_yticks(y2)\n",
    "ax2.set_yticklabels(B_label_2, minor=False, rotation=0)\n",
    "\n",
    "fig.legend(loc=1, bbox_to_anchor=(1,1), bbox_transform=ax1.transAxes)\n",
    "\n",
    "fig.savefig('Profiles.eps',format = 'eps', dpi=1200,bbox_inches='tight')"
   ]
  },
  {
   "cell_type": "code",
   "execution_count": null,
   "metadata": {},
   "outputs": [],
   "source": []
  },
  {
   "cell_type": "code",
   "execution_count": null,
   "metadata": {},
   "outputs": [],
   "source": []
  }
 ],
 "metadata": {
  "kernelspec": {
   "display_name": "Python 3",
   "language": "python",
   "name": "python3"
  },
  "language_info": {
   "codemirror_mode": {
    "name": "ipython",
    "version": 3
   },
   "file_extension": ".py",
   "mimetype": "text/x-python",
   "name": "python",
   "nbconvert_exporter": "python",
   "pygments_lexer": "ipython3",
   "version": "3.7.3"
  }
 },
 "nbformat": 4,
 "nbformat_minor": 2
}
