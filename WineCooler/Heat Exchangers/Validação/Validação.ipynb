{
 "cells": [
  {
   "cell_type": "code",
   "execution_count": 1,
   "metadata": {},
   "outputs": [],
   "source": [
    "import numpy as np\n",
    "import matplotlib.pyplot as plt\n",
    "import math\n",
    "import scipy as sp\n",
    "from matplotlib import *\n",
    "from __future__ import division\n",
    "\n",
    "import CoolProp.CoolProp as CP\n",
    "from scipy.optimize import curve_fit\n",
    "from scipy.optimize import fsolve\n",
    "\n",
    "import xlrd\n",
    "\n",
    "rc('text',usetex = True)\n",
    "rc('font', family='Times New Roman')"
   ]
  },
  {
   "cell_type": "code",
   "execution_count": 2,
   "metadata": {},
   "outputs": [],
   "source": [
    "mpl_params = {'text.usetex': True,\n",
    "              'font.family': 'serif',\n",
    "              'font.serif': 'Computer Modern',\n",
    "              'text.latex.preamble': [r'\\usepackage{engsymbols}',\n",
    "                                      r'\\usepackage{magref}']}\n",
    "#plt.rcParams.update(mpl_params)"
   ]
  },
  {
   "cell_type": "code",
   "execution_count": 3,
   "metadata": {},
   "outputs": [],
   "source": [
    "def set_all_fontsizes_from_axis(ax):\n",
    "    \n",
    "    for item in ([ax.title, ax.xaxis.label, ax.yaxis.label] +\n",
    "        ax.get_xticklabels() + ax.get_yticklabels()):\n",
    "            \n",
    "        item.set_fontsize(16)"
   ]
  },
  {
   "cell_type": "code",
   "execution_count": 4,
   "metadata": {},
   "outputs": [
    {
     "data": {
      "text/plain": [
       "0.7072891359796488"
      ]
     },
     "execution_count": 4,
     "metadata": {},
     "output_type": "execute_result"
    }
   ],
   "source": [
    "CP.PropsSI('Prandtl','T',25+273.15,'P',100000,'air')"
   ]
  },
  {
   "cell_type": "code",
   "execution_count": 5,
   "metadata": {},
   "outputs": [],
   "source": [
    "def HEX(L1,L2,L3,Di,De,Xt,Xl,Nfin,Deltaf,delta_h,arranjo,vazao_cfm,m_fluid,x_f,p_d,T_a_in,T_a_out):\n",
    "    \n",
    "    \n",
    "    ## Properties - Air\n",
    "    rho_a_i  = CP.PropsSI('D','T',T_a_in+273.15,'P',100000,'air') \n",
    "    rho_a_o = CP.PropsSI('D','T',T_a_out+273.15,'P',100000,'air') \n",
    "    rho = (rho_a_i + rho_a_o)/2\n",
    "    \n",
    "    \n",
    "    mi = 18.5e-6\n",
    "    cp_ar = 1005\n",
    "    Pr_ar = 0.707 #aprox para 25ºC\n",
    "    \n",
    "    ## Properties - Water\n",
    "    rho_f_i=992 #T = 40ºC\n",
    "    rho_f_o= 993.3 #T = 37ºC\n",
    "    rho_f_m=((1/2)*(1/rho_f_i+1/rho_f_o))**(-1) \n",
    "    mi_f= 0.0006572 #0.001136 #T = 40ºC\n",
    "    Pr_f = 4.342 #40ºC\n",
    "    k_f = 0.56285 #40ºC\n",
    "    \n",
    "    \n",
    "    Dc = De+2*Deltaf\n",
    "    N_r = L2/Xl\n",
    "    if (arranjo == 0): \n",
    "        N_t = (L2*L3)/(Xl*Xt)\n",
    "    #if (arranjo == 1):\n",
    "        #N_t = (L3/Xt)*(L2/Xl+1)/2+(L3/Xt-1)*(L2/Xl-1)/2\n",
    "    if (arranjo == 2):\n",
    "        N_t = 0.5*(L2/Xl)*(2*L3/Xt-1)\n",
    "        N_t = 12\n",
    "    print(N_t)\n",
    "    #N_t = 12\n",
    "      \n",
    "    theta = np.arctan(p_d/x_f) #*180/(np.pi)\n",
    "    \n",
    "    p_f = 1/Nfin\n",
    "    \n",
    "    k_w = 238.8 #aproximado\n",
    "    Rt_CD = math.log(De/Di)/(2*np.pi*L1*N_t*k_w)\n",
    "    \n",
    "    Delta_Pe_list = []\n",
    "    Rte_list = []\n",
    "    \n",
    "    vazao = vazao_cfm *0.00047194745 #m^3/s\n",
    "        #Perda de carga externa\n",
    "    if (arranjo==0):\n",
    "        Amin_e = ((Xt-De)*L1-(Xt-De)*Deltaf*Nfin*L1)*(L3/Xt)\n",
    "    else:\n",
    "        pt = ((Xt/2)**2+Xl**2)**0.5\n",
    "        a = ((Xt-De)-(Xt-De)*Deltaf*Nfin)/2\n",
    "        b = (pt-De)-(Xt-De)*Deltaf*Nfin\n",
    "        if (a<b):\n",
    "            c=2*a\n",
    "        else:\n",
    "            c=2*b\n",
    "        Amin_e = ((L3/Xt-1)*c+(Xt-De)-(Xt-De)*Deltaf*Nfin)*L1       \n",
    "\n",
    "    Afr = L1*L3\n",
    "    sigma = Amin_e/Afr\n",
    "    Ae_p = np.pi*De*(L1-Deltaf*Nfin*L1)*N_t+2*(L2*L3-np.pi*De**2*N_t/4)\n",
    "    Ae_f = 2*Nfin*L1*(L2*L3/np.cos(theta)-np.pi*De**2*N_t/4)+2*L3*Deltaf*Nfin*L1/np.cos(theta)\n",
    "    Ae = Ae_p+Ae_f\n",
    "    At = np.pi*De*L1*N_t\n",
    "    sigmae = (L1*L3-L3*Deltaf*Nfin*L1)/(L3*L1)\n",
    "    d_h=(4*Amin_e*L2)/Ae\n",
    "    print(d_h)\n",
    "    d_c = Dc\n",
    "\n",
    "    uar = vazao/(L1*L3)\n",
    "    u_max = uar/sigma\n",
    "\n",
    "    Re = u_max*rho*Dc/mi\n",
    "    print(Re)\n",
    "    c5 = 0.4606-0.01336*((p_f/Xl)**0.58)*(math.log(Ae/At))*(math.tan(theta))**(-1.5)\n",
    "    c6 = 3.247*(p_f/Xt)**1.4*math.log(Ae/At)\n",
    "    c7 = -20.113/(math.log(Re))   \n",
    "    fe = 0.01915*(Re**c5)*((math.tan(theta))**c6)*((p_f/Xl)**c7)*((math.log(Ae/At))**(-5.35))*((d_h/d_c)**1.3796)*(N_r**(-0.0916))   \n",
    "    Ge = rho*u_max\n",
    "\n",
    "    Delta_Pe = Ge**2/(2*rho)*((fe*(Ae/Amin_e)*(rho_a_i/rho))+(1+sigmae**2)*(rho_a_i/rho_a_o-1)) #+(1+sigmae**2))#falta um termo\n",
    "    #Delta_Pe_list.append(Delta_Pe) \n",
    "\n",
    "\n",
    "        #Resistência térmica externa\n",
    "\n",
    "    c1 = -0.229 + 0.115*((p_f/d_c)**0.6)*((Xl/d_h)**0.54)*(N_r**(-0.284))*math.log(0.5*math.tan(theta)) \n",
    "    c2 = -0.251 + (0.232*N_r**(1.37))/(math.log(Re)-2.303)\n",
    "    c3 = -0.439*(p_f/d_h)**(0.09)*(Xl/Xt)**(-1.75)*N_r**(-0.93)\n",
    "    c4 = 0.502*(math.log(Re)-2.54)\n",
    "\n",
    "    je = 0.324*(Re**c1)*((p_f/Xl)**c2)*((math.tan(theta))**c3)*((Xl/Xt)**c4)*N_r**0.428\n",
    "\n",
    "\n",
    "    he = je*rho*u_max*cp_ar*Pr_ar**(-0.666666)\n",
    "    m = ((2*he)/(k_w*Deltaf))**0.5\n",
    "\n",
    "    P_m = Xt/2\n",
    "    P_l = (((Xt/2)**2+Xl**2)**0.5)/2\n",
    "    R_eq =1.27*P_m*(P_l/P_m-0.3)**0.5\n",
    "    phi = (R_eq/(Di/2)-1)*(1+0.35*math.log(R_eq/(Di/2)))\n",
    "    eta = math.tanh(m*(Di/2)*phi)/(m*(Di/2)*phi)\n",
    "    eta_e =1-(Ae_f/Ae)*(1-eta)\n",
    "\n",
    "    Rt_CE = 1/(eta_e*he*Ae)\n",
    "    Rte_list.append(Rt_CE)\n",
    "\n",
    "\n",
    "    Lh=(L1+2*delta_h)*N_t\n",
    "    Ai=np.pi*Di*L1*N_t\n",
    "    Amin_i = np.pi*(Di**2)/4\n",
    "    Gi=m_fluid/Amin_i\n",
    "    Re_i=(Gi*Di)/mi_f\n",
    "    if Re_i<2300:\n",
    "        f_i=16/Re_i\n",
    "        Nusselt_i=3.66\n",
    "    else:\n",
    "        if Re_i>2300 and Re_i<4000:\n",
    "            f_i=0.0054+(2.3*10**(-8))*Re_i**(3/2)\n",
    "        if Re_i>4000 and Re_i<(10**7):\n",
    "            f_i=0.00128+0.1143*Re_i**(-1/3.2154)\n",
    "        if Re_i>2300 and Re_i<(5*(10**6)):\n",
    "            Nusselt_i =((f_i/2)*(Re_i-1000)*Pr_f)/(1+12.7*((f_i/2)**0.5)*(Pr_f**(2/3)-1))\n",
    "\n",
    "    h_hex_i=(Nusselt_i*k_f)/Di\n",
    "    Rt_CI=1/(h_hex_i*Ai)\n",
    "    Delta_Pi=((Gi**2)/(2*rho_f_i))*(2*(rho_f_i/rho_f_o-1)+4*f_i*Lh*rho_f_i/(Di*rho_f_m))\n",
    "\n",
    "    W_p = Delta_Pi*m_fluid/rho_f_i\n",
    "    \n",
    "    #Rte_array = np.array(Rte_list)\n",
    "    UA_array = (Rt_CD+Rt_CE+Rt_CI)**-1\n",
    "    W_array  = (np.asarray(Delta_Pe_list)*0.00047194745*rho)*x/(rho*0.1)\n",
    "    \n",
    "    print(theta*180/np.pi)\n",
    "    \n",
    "    return(UA_array,Delta_Pe)\n"
   ]
  },
  {
   "cell_type": "code",
   "execution_count": 12,
   "metadata": {},
   "outputs": [],
   "source": [
    "L1 = 0.11\n",
    "L2 = 0.043 #0.0215 #0.043\n",
    "L3 = 0.1524 #0.125 #0.152\n",
    "\n",
    "Di = 0.00694 #694\n",
    "De = 0.00794 #794\n",
    "\n",
    "Xt = 0.0254\n",
    "Xl = 0.0215\n",
    "\n",
    "Nfin = 39/L1\n",
    "\n",
    "Deltaf = 0.0002 #0.00025\n",
    "\n",
    "delta_h = 0.0016\n",
    "\n",
    "arranjo = 2\n",
    "x = 80\n",
    "m_fluid = 36.7/3600"
   ]
  },
  {
   "cell_type": "code",
   "execution_count": 13,
   "metadata": {},
   "outputs": [],
   "source": [
    "cfm_1 = [41.5,50.5,59.0,69.6,79.4]\n",
    "m_fluid_1 = [36.7,42.2,46.6,47.8,49.8]\n",
    "UA_1 =  [8.4,9.0,9.5,9.9,10.3]\n",
    "dP_1 = [4.2,6.4,8.6,11.6,14.8]\n",
    "W_1  = [0.818420218,1.520958305,2.400131873,3.807149077,5.542601938]\n",
    "\n",
    "cfm_2 = [39.8,48.8,60.0,70.4,80.5]\n",
    "m_fluid_2 = [42.5,47.3,53.1,57.3,60.9]\n",
    "UA_2 = [9.9,10.7,11.8,12.6,13.3]\n",
    "dP_2 = [6.9,10.3,15.3,20.8,26.1]\n",
    "W_2 = [1.286586999,2.382417293,4.3189455,6.914383018,9.914460144]\n",
    "Ta_i_2 = [20.5,20.5,20.3,20.3,20.2]\n",
    "Ta_o_2 = [26.7,26.1,25.5,25.0,24.6]\n",
    "E_2 = [0.326,0.295,0.268,0.247,0.230]\n",
    "\n",
    "\n",
    "cfm_3 = [39.8,51.6,59.8,70.4,79.9]\n",
    "m_fluid_3 = [70.3,84.2,94.3,100.5,110.8]\n",
    "UA_3 =  [19.2,21.7,23.3,24.9,26.6]\n",
    "dP_3 = [8.7,14.3,18.9,25.3,32.4]\n",
    "W_3  = [1.628977996,3.489680235,5.334170713,8.411238811,12.20898464]\n",
    "Ta_i_3 = [20.3,20.0,20.0,20.3,20.4]\n",
    "Ta_o_3 = [30.4,29.4,28.9,28.5,28.1]\n",
    "E_3 = [0.534,0.487,0.462,0.430,0.412]"
   ]
  },
  {
   "cell_type": "code",
   "execution_count": 14,
   "metadata": {},
   "outputs": [],
   "source": [
    "cp_a  = CP.PropsSI('C','T',5+273.15,'P',100000,'air') \n",
    "rho_a  = CP.PropsSI('D','T',5+273.15,'P',100000,'air') \n",
    "cp_w  = CP.PropsSI('C','T',5+273.15,'P',100000,'water')"
   ]
  },
  {
   "cell_type": "code",
   "execution_count": 15,
   "metadata": {},
   "outputs": [],
   "source": [
    "def E(UA,C_ar,C_agua,N):\n",
    "    Cr = C_ar/C_agua\n",
    "    NTU = UA/C_ar\n",
    "    if N == 1:\n",
    "        Ef = (1-np.exp(-Cr*(1-np.exp(-NTU))))/Cr\n",
    "    else:\n",
    "        K = 1- np.exp(-NTU/2)\n",
    "        Ef = (1-np.exp(-2*K*Cr)*(1+Cr*K**2))/Cr\n",
    "    return(Ef,Ef*Cr)"
   ]
  },
  {
   "cell_type": "code",
   "execution_count": 40,
   "metadata": {
    "scrolled": true
   },
   "outputs": [
    {
     "name": "stdout",
     "output_type": "stream",
     "text": [
      "12\n",
      "0.003426266753651556\n",
      "923.6110928989544\n",
      "18.43494882292201\n",
      "12\n",
      "0.003426266753651556\n",
      "1200.020724781818\n",
      "18.43494882292201\n",
      "12\n",
      "0.003426266753651556\n",
      "1391.8574629879229\n",
      "18.43494882292201\n",
      "12\n",
      "0.003426266753651556\n",
      "1638.7950266618352\n",
      "18.43494882292201\n",
      "12\n",
      "0.003426266753651556\n",
      "1860.8380725963443\n",
      "18.43494882292201\n"
     ]
    }
   ],
   "source": [
    "UA_3_n = []\n",
    "dP_3_n = []\n",
    "E_3_n = []\n",
    "Ecr_3_n = []\n",
    "for i in range(5):\n",
    "    A,B = HEX(L1,L2,L3,Di,De,Xt,Xl,Nfin,Deltaf,delta_h,arranjo,cfm_3[i],m_fluid_3[i]/3600,0.0036,0.0012,Ta_i_3[i],Ta_o_3[i])\n",
    "    C,D = E(A,cfm_3[i]*0.00047194745*rho_a*cp_a,m_fluid_3[i]/3600*cp_w,2)\n",
    "    UA_3_n.append(A)\n",
    "    dP_3_n.append(B)\n",
    "    E_3_n.append(C)\n",
    "    Ecr_3_n.append(D)"
   ]
  },
  {
   "cell_type": "code",
   "execution_count": 41,
   "metadata": {
    "scrolled": false
   },
   "outputs": [
    {
     "data": {
      "image/png": "[encoded data removed]",
      "text/plain": [
       "<Figure size 432x288 with 1 Axes>"
      ]
     },
     "metadata": {},
     "output_type": "display_data"
    }
   ],
   "source": [
    "#plt.plot(UA_1,'xr--')\n",
    "#plt.plot(UA_1_n,'xb--')\n",
    "\n",
    "#plt.plot(cfm_2,UA_2,'^r-')\n",
    "\n",
    "plt.errorbar(cfm_2, UA_2_n,yerr=0.15*np.array(UA_2), fmt='^r',elinewidth=1, capsize=2,label = 'HEX 2 - Numerical')\n",
    "plt.plot(cfm_2,UA_2,'^b',label = 'HEX 2 - Experimental')\n",
    "\n",
    "plt.errorbar(cfm_3,UA_3_n,yerr=0.15*np.array(UA_3_n), fmt='or',elinewidth=1, capsize=2,label = 'HEX 5 - Numerical')\n",
    "plt.plot(cfm_3,UA_3,'bo',label = 'HEX 5 - Experimental')\n",
    "\n",
    "plt.ylabel('UA$_\\mathrm{HEx}$ [W/K]')\n",
    "plt.xlabel('$\\dot{V}_\\mathrm{fan}$ [cfm]')\n",
    "plt.legend()\n",
    "plt.grid()\n",
    "\n",
    "plt.ylim([7,37])\n",
    "\n",
    "plt.savefig('UA.eps',format = 'eps', dpi=1000,bbox_inches='tight')"
   ]
  },
  {
   "cell_type": "code",
   "execution_count": 42,
   "metadata": {},
   "outputs": [],
   "source": [
    "A = np.arange(0,32)"
   ]
  },
  {
   "cell_type": "code",
   "execution_count": 43,
   "metadata": {},
   "outputs": [
    {
     "data": {
      "image/png": "[encoded data removed]",
      "text/plain": [
       "<Figure size 432x288 with 1 Axes>"
      ]
     },
     "metadata": {},
     "output_type": "display_data"
    }
   ],
   "source": [
    "plt.plot(UA_2,UA_2_n,'ro',label = 'HEx 2')\n",
    "plt.plot(UA_3,UA_3_n,'bo',label = 'HEx 5')\n",
    "\n",
    "plt.plot(A,0.9*A,'k--')\n",
    "plt.plot(A,1.1*A,'k--')\n",
    "plt.plot(A,A,'k-')\n",
    "plt.xlim([7,30])\n",
    "plt.ylim([7,30])\n",
    "\n",
    "plt.ylabel('Numerical UA$_\\mathrm{HEx}$  [W K$^{-1}$]')\n",
    "plt.xlabel('Experimental UA$_\\mathrm{HEx}$ [W K$^{-1}$]')\n",
    "plt.text(7+(30-7)/3.2,7+(30-7)/2, '+10\\%' )\n",
    "\n",
    "plt.text(7+(30-7)/2.1,7+(30-7)/3, '-10\\%' )\n",
    "\n",
    "plt.legend()\n",
    "plt.grid()\n",
    "\n",
    "plt.savefig('UA.eps',format = 'eps', dpi=1000,bbox_inches='tight')"
   ]
  },
  {
   "cell_type": "code",
   "execution_count": 44,
   "metadata": {},
   "outputs": [
    {
     "data": {
      "image/png": "[encoded data removed]",
      "text/plain": [
       "<Figure size 432x288 with 1 Axes>"
      ]
     },
     "metadata": {},
     "output_type": "display_data"
    }
   ],
   "source": [
    "plt.plot(E_2,E_2_n,'ro',label = 'HEx 2')\n",
    "plt.plot(E_3,E_3_n,'bo',label = 'HEx 5')\n",
    "\n",
    "plt.plot(A,0.9*A,'k--')\n",
    "plt.plot(A,1.1*A,'k--')\n",
    "plt.plot(A,A,'k-')\n",
    "plt.xlim([0.2,0.6])\n",
    "plt.ylim([0.2,0.6])\n",
    "\n",
    "plt.ylabel('Numerical $\\epsilon$   [-]')\n",
    "plt.xlabel('Experimental $\\epsilon$ [-]')\n",
    "plt.text(0.2+(0.4)/3.2,0.2+(0.4)/2, '+10\\%' )\n",
    "\n",
    "plt.text(0.2+(0.4)/2.1,0.2+(0.4)/3, '-10\\%' )\n",
    "\n",
    "plt.legend()\n",
    "plt.grid()\n",
    "\n",
    "plt.savefig('E.eps',format = 'eps', dpi=1000,bbox_inches='tight')"
   ]
  },
  {
   "cell_type": "code",
   "execution_count": 172,
   "metadata": {},
   "outputs": [
    {
     "data": {
      "text/plain": [
       "<matplotlib.legend.Legend at 0x1f4701589e8>"
      ]
     },
     "execution_count": 172,
     "metadata": {},
     "output_type": "execute_result"
    },
    {
     "data": {
      "image/png": "[encoded data removed]",
      "text/plain": [
       "<Figure size 432x288 with 1 Axes>"
      ]
     },
     "metadata": {},
     "output_type": "display_data"
    }
   ],
   "source": [
    "plt.errorbar(cfm_2, dP_2_n,yerr=0.15*np.array(dP_2_n), fmt='^r',label = 'HEX 1 - Numerical')\n",
    "#plt.plot(cfm_2,dP_2,'^b',label = 'HEX 1 - Experimental')\n",
    "\n",
    "plt.errorbar(cfm_3, dP_3_n,yerr=0.15*np.array(dP_3_n), fmt='or',label = 'HEX 2 - Numerical')\n",
    "#plt.plot(cfm_3,dP_3,'ob',label = 'HEX 2 -Experimental')\n",
    "plt.legend()"
   ]
  },
  {
   "cell_type": "code",
   "execution_count": 173,
   "metadata": {},
   "outputs": [],
   "source": [
    "def dP(X,a,b,c): \n",
    "    V = X\n",
    "    return (a*V**2 + b*V + c)"
   ]
  },
  {
   "cell_type": "code",
   "execution_count": 174,
   "metadata": {},
   "outputs": [],
   "source": [
    "M = curve_fit(dP,cfm_2, dP_2_n)\n",
    "M2 = curve_fit(dP,cfm_3, dP_3_n)\n",
    "a_fan = -0.5304\n",
    "b_fan = 50.442"
   ]
  },
  {
   "cell_type": "code",
   "execution_count": 175,
   "metadata": {},
   "outputs": [
    {
     "data": {
      "text/plain": [
       "[<matplotlib.lines.Line2D at 0x1f477095588>]"
      ]
     },
     "execution_count": 175,
     "metadata": {},
     "output_type": "execute_result"
    },
    {
     "data": {
      "image/png": "[encoded data removed]",
      "text/plain": [
       "<Figure size 432x288 with 1 Axes>"
      ]
     },
     "metadata": {},
     "output_type": "display_data"
    }
   ],
   "source": [
    "plt.plot(cfm_3,dP_3_n,'o')\n",
    "plt.plot(cfm_3,a_fan*np.array(cfm_3)+b_fan)\n",
    "plt.plot(cfm_3,dP(np.array(cfm_3),M2[0][0],M2[0][1],M2[0][2]),'o')"
   ]
  },
  {
   "cell_type": "code",
   "execution_count": 176,
   "metadata": {},
   "outputs": [],
   "source": [
    "cfm_1 = max(np.roots([M[0][0],M[0][1]-a_fan,M[0][2]-b_fan]))\n",
    "cfm_2 = max(np.roots([M2[0][0],M2[0][1]-a_fan,M2[0][2]-b_fan]))"
   ]
  },
  {
   "cell_type": "code",
   "execution_count": 177,
   "metadata": {},
   "outputs": [
    {
     "name": "stdout",
     "output_type": "stream",
     "text": [
      "12\n",
      "0.0034134272299746857\n",
      "1598.1756953745714\n",
      "18.924644416051233\n",
      "6.000000000000001\n",
      "0.003221172860529384\n",
      "1724.4185635125589\n",
      "23.304890539203114\n"
     ]
    }
   ],
   "source": [
    "[UA_15,dP_15] = HEX(0.11,0.043,0.1524,0.00694,0.00796,0.0254,0.0215,39/0.11,0.0002,0.0016,2,cfm_2,150/3600,0.0035,0.0012,6,4)\n",
    "[UA_16,dP_16] = HEX(0.112,0.0221,0.1524,0.00694,0.0085,0.0254,0.0221,39/0.11,0.0002,0.0016,0,cfm_2,150/3600,0.00325,0.0014,6,4)"
   ]
  },
  {
   "cell_type": "code",
   "execution_count": 182,
   "metadata": {},
   "outputs": [],
   "source": [
    "def E(UA,C_ar,C_agua,N):\n",
    "    Cr = C_ar/C_agua\n",
    "    NTU = UA/C_ar\n",
    "    if N == 1:\n",
    "        Ef = (1-np.exp(-Cr*(1-np.exp(-NTU))))/Cr\n",
    "    else:\n",
    "        K = 1- np.exp(-NTU/2)\n",
    "        Ef = (1-np.exp(-2*K*Cr)*(1+Cr*K**2))/Cr\n",
    "    return(Ef,Ef*Cr)"
   ]
  },
  {
   "cell_type": "code",
   "execution_count": 195,
   "metadata": {},
   "outputs": [],
   "source": [
    "cp_a  = CP.PropsSI('C','T',5+273.15,'P',100000,'air') \n",
    "rho_a  = CP.PropsSI('D','T',5+273.15,'P',100000,'air') \n",
    "cp_w  = CP.PropsSI('C','T',5+273.15,'P',100000,'water')"
   ]
  },
  {
   "cell_type": "code",
   "execution_count": 184,
   "metadata": {},
   "outputs": [],
   "source": [
    "[E_15,ECr_15] = E(UA_15,cfm_2*0.00047194745*rho_a*cp_a,150/3600*cp_w,2)\n",
    "[E_16,ECr_16] = E(UA_16,cfm_1*0.00047194745*rho_a*cp_a,150/3600*cp_w,1)"
   ]
  },
  {
   "cell_type": "code",
   "execution_count": 185,
   "metadata": {},
   "outputs": [],
   "source": [
    "workbook = xlrd.open_workbook('Data.xlsx')\n",
    "worksheet = workbook.sheet_by_name('Plan1')"
   ]
  },
  {
   "cell_type": "code",
   "execution_count": 186,
   "metadata": {},
   "outputs": [],
   "source": [
    "N = 15\n",
    "m_f = np.zeros(N)\n",
    "T_w_in = np.zeros(N)\n",
    "T_w_out = np.zeros(N)\n",
    "T_a_in = np.zeros(N)\n",
    "T_a_o = np.zeros(N)\n",
    "T_gab = np.zeros(N)\n",
    "T_amb = np.zeros(N)\n",
    "\n",
    "for i in range(N):\n",
    "    m_f[i] = worksheet.cell(0, i).value\n",
    "    T_w_in[i] = worksheet.cell(1, i).value\n",
    "    T_w_out[i] = worksheet.cell(2, i).value\n",
    "    T_a_in[i] = worksheet.cell(5, i).value\n",
    "    T_a_o[i] = worksheet.cell(3, i).value\n",
    "    T_gab[i] = worksheet.cell(4, i).value\n",
    "    T_amb[i] = worksheet.cell(6, i).value"
   ]
  },
  {
   "cell_type": "code",
   "execution_count": 187,
   "metadata": {},
   "outputs": [],
   "source": [
    "UA_gab = 1.75\n",
    "W = 4.32\n",
    "T_gab_mod = np.zeros(N)\n",
    "\n",
    "for i in range(8):\n",
    "    T_gab_mod[i] = (UA_gab*T_amb[i]+E_15*cfm_2*0.00047194745*rho_a*cp_a*T_w_in[i]+W)/(UA_gab+E_15*cfm_2*0.00047194745*rho_a*cp_a)\n",
    "    \n",
    "for i in range(8,15):\n",
    "    T_gab_mod[i] = (UA_gab*T_amb[i]+E_16*cfm_1*0.00047194745*rho_a*cp_a*T_w_in[i]+W)/(UA_gab+E_16*cfm_1*0.00047194745*rho_a*cp_a) \n"
   ]
  },
  {
   "cell_type": "code",
   "execution_count": 188,
   "metadata": {},
   "outputs": [],
   "source": [
    "def Balanco(T_gab,E,Ca,UA,T_f,Wp,T_amb):\n",
    "    f = E*Ca*(T_gab+(UA*(T_gab-T_f)+Wp)/(2*Ca)-T_f) - UA*(T_amb - T_gab) - Wp\n",
    "    return f"
   ]
  },
  {
   "cell_type": "code",
   "execution_count": 189,
   "metadata": {},
   "outputs": [],
   "source": [
    "T_gab_mod_2 = np.zeros(15)\n",
    "\n",
    "for i in range(8):\n",
    "    T_gab_mod_2[i] = fsolve(lambda T_gab: Balanco(T_gab,E_15,cfm_2*0.00047194745*rho_a*cp_a,UA_gab,T_w_in[i],W,T_amb[i]),T_w_in[i])\n",
    "    \n",
    "for i in range(8,15):\n",
    "    T_gab_mod_2[i] = fsolve(lambda T_gab: Balanco(T_gab,E_16,cfm_1*0.00047194745*rho_a*cp_a,UA_gab,T_w_in[i],W,T_amb[i]),T_w_in[i])"
   ]
  },
  {
   "cell_type": "code",
   "execution_count": 190,
   "metadata": {},
   "outputs": [
    {
     "data": {
      "image/png": "[encoded data removed]",
      "text/plain": [
       "<Figure size 432x288 with 1 Axes>"
      ]
     },
     "metadata": {},
     "output_type": "display_data"
    }
   ],
   "source": [
    "plt.plot(T_w_in[8:15]+273.15,T_gab[8:15]+273.15,'b^', label = 'HEx 2 - Experimental')\n",
    "#plt.plot(T_w_in[8:15],T_gab_mod[8:15],'b--', label = 'Numerical C.Tal 016')\n",
    "plt.plot(T_w_in[8:15]+273.15,T_gab_mod_2[8:15]+273.15,'b--', label = 'HEx 2 - Numerical')\n",
    "\n",
    "plt.plot(T_w_in[0:8]+273.15,T_gab[0:8]+273.15,'ro' , label = 'HEx 5 - Experimental')\n",
    "#plt.plot(T_w_in[0:8],T_gab_mod[0:8],'r--', label = 'Numerical C.Tal 015')\n",
    "plt.plot(T_w_in[0:8]+273.15,T_gab_mod_2[0:8]+273.15,'r--', label = 'HEx 5 - Numerical')\n",
    "\n",
    "\n",
    "\n",
    "plt.xlabel('T$_\\mathrm{l,in}$ [K]')\n",
    "plt.ylabel('T$_\\mathrm{cab}$ [K]')\n",
    "\n",
    "plt.grid()\n",
    "\n",
    "plt.legend()\n",
    "\n",
    "\n",
    "plt.savefig('Qc.eps',format = 'eps', dpi=1000,bbox_inches='tight')"
   ]
  },
  {
   "cell_type": "code",
   "execution_count": 191,
   "metadata": {},
   "outputs": [
    {
     "data": {
      "image/png": "[encoded data removed]",
      "text/plain": [
       "<Figure size 432x288 with 1 Axes>"
      ]
     },
     "metadata": {},
     "output_type": "display_data"
    }
   ],
   "source": [
    "plt.plot(T_w_in[0:8],T_gab_mod_2[0:8]-T_gab[0:8],'ro', label = ' C.Tal 015')\n",
    "plt.plot(T_w_in[8:15],T_gab_mod_2[8:15]-T_gab[8:15],'bo', label = 'C.Tal 016')\n",
    "\n",
    "plt.xlabel('Fluid Inlet Temperature[$^{\\circ} C$]')\n",
    "plt.ylabel('Error [$^{\\circ} C$]')\n",
    "plt.grid()\n",
    "\n",
    "plt.savefig('Error.png',format = 'png', dpi=1000,bbox_inches='tight')"
   ]
  },
  {
   "cell_type": "code",
   "execution_count": null,
   "metadata": {},
   "outputs": [],
   "source": []
  }
 ],
 "metadata": {
  "kernelspec": {
   "display_name": "Python 3",
   "language": "python",
   "name": "python3"
  },
  "language_info": {
   "codemirror_mode": {
    "name": "ipython",
    "version": 3
   },
   "file_extension": ".py",
   "mimetype": "text/x-python",
   "name": "python",
   "nbconvert_exporter": "python",
   "pygments_lexer": "ipython3",
   "version": "3.6.5"
  }
 },
 "nbformat": 4,
 "nbformat_minor": 2
}
