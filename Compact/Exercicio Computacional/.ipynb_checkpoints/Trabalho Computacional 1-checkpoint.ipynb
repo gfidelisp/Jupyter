{
 "cells": [
  {
   "cell_type": "code",
   "execution_count": 1,
   "metadata": {
    "collapsed": true
   },
   "outputs": [],
   "source": [
    "import numpy as np\n",
    "import matplotlib.pyplot as plt\n",
    "import CoolProp.CoolProp as prop\n",
    "from scipy.optimize import curve_fit\n",
    "from scipy.optimize import fsolve\n",
    "from __future__ import division\n",
    "\n",
    "plt.rc('text',usetex = True)\n",
    "plt.rc('font', family='serif')"
   ]
  },
  {
   "cell_type": "markdown",
   "metadata": {},
   "source": [
    "Dados de entrada"
   ]
  },
  {
   "cell_type": "code",
   "execution_count": 2,
   "metadata": {
    "collapsed": true
   },
   "outputs": [],
   "source": [
    "V_a = 50/3600  #Vazao volumetrica de ar na entrada\n",
    "m_b = 2.8/3600 #Vazao massica de refrigerante na entrada na entrada\n",
    "\n",
    "T_a_in = -15+273.15    #Temperatura do ar na entrada\n",
    "p_b_in = 78500 # Pressao do refrigerante na entrada\n",
    "x_b_in = 0.43  # Titulo do refrigerante na entrada"
   ]
  },
  {
   "cell_type": "markdown",
   "metadata": {},
   "source": [
    "Dados geometricos de entrada"
   ]
  },
  {
   "cell_type": "code",
   "execution_count": 58,
   "metadata": {
    "collapsed": true
   },
   "outputs": [],
   "source": [
    "W = 0.3  # Comprimento do envelopeo\n",
    "L = 0.19 # Altura do envelope\n",
    "H = 0.06 # Espessura do envelope\n",
    "\n",
    "\n",
    "A_f_b = 53.2*10**-2   # Area das aletas grandes\n",
    "A_f_s = 49.4*10**-2   # Area das aletas pequenas\n",
    "\n",
    "d_e = 7.9*10**-3      # Diametro externo dos tubos\n",
    "d_i = 6.7*10**-3      # Diametro interno dos tubos \n",
    "L_s = 7.8             # Comprimento da serpentina\n",
    "\n",
    "X_l = 19*10**-3       # Espacamento transversal das aletas\n",
    "X_t = 11*10**-3       # Espacamento longitudinal das aletas\n",
    "\n",
    "sigma_f = 0.15*10**-3 # Espessura das aletas"
   ]
  },
  {
   "cell_type": "markdown",
   "metadata": {},
   "source": [
    "Calculos geometricos - Primeira Zona"
   ]
  },
  {
   "cell_type": "code",
   "execution_count": 68,
   "metadata": {},
   "outputs": [],
   "source": [
    "nf_1 = 23\n",
    "nt_1 = 6\n",
    "\n",
    "T_1 = 3*X_l\n",
    "\n",
    "A_p_1 = np.pi*d_e*(W-nf_1*sigma_f)*nt_1+2*(T_1*H - np.pi*(d_e**2)/4*nt_1)\n",
    "A_s_1 = 2*(T_1*H - np.pi*(d_e**2)/4*nt_1)*(nf_1+1)+H*sigma_f*nf_1\n",
    "A_t_1 = A_p_1 + A_s_1\n",
    "\n",
    "a_1 = (X_t-d_e) - (X_t-d_e)*(sigma_f)*nf_1/W\n",
    "b_1 = ((X_t/2)**2+X_l**2)**(0.5) - d_e -(X_t-d_e)*sigma_f*nf_1/W\n",
    "\n",
    "c_1 = min(a_1,2*b_1)\n",
    "\n",
    "A_c_1 = (H/X_t-1)*c_1*W+(X_t-d_e)*W -(X_t - d_e)*sigma_f*nf_1 "
   ]
  },
  {
   "cell_type": "markdown",
   "metadata": {},
   "source": [
    "Calculos geometricos - Segunda Zona"
   ]
  },
  {
   "cell_type": "code",
   "execution_count": 69,
   "metadata": {},
   "outputs": [],
   "source": [
    "nf_2 = 47\n",
    "nt_2 = 6\n",
    "T_2 = 3*X_l\n",
    "A_p_2 = np.pi*d_e*(W-nf_2*sigma_f)*nt_2+2*(T_2*H - np.pi*d_e**2/4*nt_2)\n",
    "A_s_2 = 2*(T_2*H - np.pi*d_e**2/4*nt_2)*(nf_2+1)\n",
    "A_t_2 = A_p_2+A_s_2\n",
    "\n",
    "a_2 = (X_t - d_e) - (X_t-d_e)*sigma_f*nf_2/W\n",
    "b_2 = ((X_t/2)**2+X_l**2)**(1/2) - d_e - (X_t-d_e)*sigma_f*nf_2/W\n",
    "\n",
    "c_2 = min(a_2,2*b_2)\n",
    "\n",
    "A_c_2 = (H/X_t-1)*c_2*W+(X_t-d_e)*W -(X_t - d_e)*sigma_f*nf_2"
   ]
  },
  {
   "cell_type": "markdown",
   "metadata": {},
   "source": [
    "Calculos geometricos - Terceira Zona"
   ]
  },
  {
   "cell_type": "code",
   "execution_count": 79,
   "metadata": {},
   "outputs": [],
   "source": [
    "nf_3 = 47\n",
    "nt_3 = 8\n",
    "T_3 = 4*X_l\n",
    "A_p_3 = np.pi*d_e*(W-nf_3*sigma_f)*nt_3+2*(T_3*H - np.pi*d_e**2/4*nt_3)\n",
    "A_s_3 = 2*(T_3*H - np.pi*d_e**2/4*nt_3)*(nf_3+1)+H*sigma_f*nf_3\n",
    "A_t_3 = A_p_3+A_s_3\n",
    "\n",
    "a_3 = (X_t - d_e) - (X_t-d_e)*sigma_f*nf_3/W\n",
    "b_3 = ((X_t/2)**2+X_l**2)**(1/2) - d_e - (X_t-d_e)*sigma_f*nf_3/W\n",
    "\n",
    "c_3 = min(a_3,2*b_3)\n",
    "\n",
    "A_c_3 = (H/X_t-1)*c_3*W+(X_t-d_e)*W -(X_t - d_e)*sigma_f*nf_3"
   ]
  },
  {
   "cell_type": "code",
   "execution_count": 84,
   "metadata": {},
   "outputs": [],
   "source": [
    "A_p=np.zeros((10,2))\n",
    "A_s=np.zeros((10,2))\n",
    "A_t=np.zeros((10,2))\n",
    "A_c=np.zeros((10,2))\n",
    "\n",
    "A_p[0:4,:]=A_p_1\n",
    "A_p[4:7,:]=A_p_2\n",
    "A_p[7:10,:]=A_p_3\n",
    "\n",
    "A_s[0:4,:]=A_s_1\n",
    "A_s[4:7,:]=A_s_2\n",
    "A_s[7:10,:]=A_s_3\n",
    "\n",
    "A_c[0:4,:]=A_c_1\n",
    "A_c[4:7,:]=A_c_2\n",
    "A_c[7:10,:]=A_c_3\n",
    "\n",
    "A_t[0:4,:]=A_t_1\n",
    "A_t[4:7,:]=A_t_2\n",
    "A_t[7:10,:]=A_t_3"
   ]
  },
  {
   "cell_type": "markdown",
   "metadata": {},
   "source": [
    "Relacoes Empiricas ar"
   ]
  },
  {
   "cell_type": "code",
   "execution_count": 5,
   "metadata": {
    "collapsed": true
   },
   "outputs": [],
   "source": [
    "def h_a(V_a,A_c,T,phi):\n",
    "    rho = prop.PropsSI('D','P',100000,'T',T+273.15,'Air')\n",
    "    mu = prop.PropsSI('V','P',100000,'T',T+273.15,'Air')\n",
    "    Pr = prop.PropsSI('PRANDTL','P',100000,'T',T+273.15,'Air')\n",
    "    cp  = prop.PropsSI('C','P',100000,'T',T+273.15,'Air')\n",
    "    \n",
    "    G = V_a*rho/A_c\n",
    "    Re = G*d_e/mu\n",
    "    j = 0.138*Re**(-0.281)*phi**(-0.407)\n",
    "    St = j*Pr**(2/3)\n",
    "    h = St*G*cp\n",
    "    return h"
   ]
  },
  {
   "cell_type": "code",
   "execution_count": 6,
   "metadata": {
    "collapsed": true
   },
   "outputs": [],
   "source": [
    "def fd(Re):\n",
    "    A = (2.457*np.log(1/(7/Re)**0.9))**16\n",
    "    B = (37530/Re)**16\n",
    "    f = 8*((8/Re)**12+(A+B)**(-3/2))**(1/12)\n",
    "    return f"
   ]
  },
  {
   "cell_type": "code",
   "execution_count": 7,
   "metadata": {
    "collapsed": true
   },
   "outputs": [],
   "source": [
    "def dpz(x,p,d_i,m_b):\n",
    "    rho_l = prop.PropsSI('D','P',p,'Q',0,'R134a')\n",
    "    rho_v = prop.PropsSI('D','P',p,'Q',1,'R134a')\n",
    "    \n",
    "    mu_l = prop.PropsSI('V','P',p,'Q',0,'R134a')\n",
    "    mu_v = prop.PropsSI('V','P',p,'Q',1,'R134a')\n",
    "    \n",
    "    G = m_b/(np.pi*d_i**2/4)\n",
    "    \n",
    "    Re_lo = G*(1-x)*d_i/mu_l\n",
    "    Re_vo = G*x*d_i/mu_l\n",
    "    \n",
    "    f_lo = fd(Re_lo)\n",
    "    f_vo = fd(Re_lo)\n",
    "    \n",
    "    dp_lo = f_lo*G**2/(2*d_i*rho_l)\n",
    "    dp_vo = f_vo*G**2/(2*d_i*rho_v)\n",
    "    \n",
    "    A = dp_lo + 2*(dp_vo-dp_lo)*x\n",
    "    dp = A*(1-x)**(1/3)+dp_vo*x**3\n",
    "    \n",
    "    return dp"
   ]
  },
  {
   "cell_type": "code",
   "execution_count": 8,
   "metadata": {
    "collapsed": true
   },
   "outputs": [],
   "source": [
    "def bif(x,p,d_i,m_b):\n",
    "    rho_l = prop.PropsSI('D','P',p,'Q',0,'R134a')\n",
    "    rho_v = prop.PropsSI('D','P',p,'Q',1,'R134a')\n",
    "    \n",
    "    mu_l = prop.PropsSI('V','P',p,'Q',0,'R134a')\n",
    "    mu_v = prop.PropsSI('V','P',p,'Q',1,'R134a') \n",
    "    \n",
    "    Pr = prop.PropsSI('PRANDTL','P',p,'Q',0,'R134a')\n",
    "    k = prop.PropsSI('L','P',p,'Q',0,'R134a')\n",
    "    \n",
    "    Xtt = (((1-x)/x)**0.9)*((rho_v/rho_l)**0.5)*((mu_l/mu_v)**0.1)\n",
    "    \n",
    "    G = m_b/(np.pi*d_i**2/4)\n",
    "    h_DB = (k/d_i)*0.023*(G*d_i/mu_l)**0.8*Pr**0.4\n",
    "    h    = h_DB*3.775*Xtt**(-0.6285)\n",
    "    \n",
    "    mu_h = ((1-x)/mu_l + x/mu_v)**-1\n",
    "    Re_h = G*d_i/mu_h\n",
    "    \n",
    "    f = fd(Re_h)\n",
    "    \n",
    "    return h,f"
   ]
  },
  {
   "cell_type": "code",
   "execution_count": 9,
   "metadata": {
    "collapsed": true
   },
   "outputs": [],
   "source": [
    "def mon(p,T,d_i,m_b):\n",
    "\n",
    "    mu = prop.PropsSI('V','P',p,'T',T,'R134a')\n",
    "    Pr = prop.PropsSI('PRANDTL','T',T,'Q',0,'R134a')\n",
    "    k = prop.PropsSI('L','P',p,'T',T,'R134a')\n",
    "    \n",
    "    G = m_b/(np.pi*d_i**2/4)\n",
    "    h = (k/d_i)*0.023*(G*d_i/mu)**0.8*Pr**0.4\n",
    "    \n",
    "    Re = G*d_i/mu\n",
    "    f = fd(Re)\n",
    "    \n",
    "    return (h,f)"
   ]
  },
  {
   "cell_type": "markdown",
   "metadata": {},
   "source": [
    "Definicoes numericas"
   ]
  },
  {
   "cell_type": "code",
   "execution_count": 10,
   "metadata": {
    "collapsed": true
   },
   "outputs": [],
   "source": [
    "N_L = 5000\n",
    "N_H = 1\n",
    "N_W = 2\n",
    "\n",
    "dx = (10*L)/N_L\n",
    "dy = H/N_H\n",
    "dz = W/N_W"
   ]
  },
  {
   "cell_type": "code",
   "execution_count": 11,
   "metadata": {
    "collapsed": true
   },
   "outputs": [],
   "source": [
    "p_i = np.zeros((N_L*N_H))\n",
    "T_i = np.zeros((N_L*N_H))\n",
    "h_i = np.zeros((N_L*N_H))\n",
    "x_i = np.zeros((N_L*N_H))\n",
    "rho_i = np.zeros((N_L*N_H))\n",
    "\n",
    "T_w = (-15+273.15)*np.ones((N_L*N_H))\n",
    "\n",
    "T_a = (-20+273.15)*np.ones((N_L*N_H))\n",
    "\n",
    "T_a_f = np.zeros((N_L*N_H))\n",
    "T_w_f = np.zeros((N_L*N_H))\n",
    "T_i_f = np.zeros((N_L*N_H))\n",
    "\n",
    "hc_i = np.zeros((N_L*N_H))\n",
    "f_i = np.zeros((N_L*N_H))\n",
    "h_ar = np.zeros((N_L*N_H))"
   ]
  },
  {
   "cell_type": "code",
   "execution_count": 24,
   "metadata": {},
   "outputs": [
    {
     "name": "stdout",
     "output_type": "stream",
     "text": [
      "812.392930485\n",
      "0.0\n"
     ]
    }
   ],
   "source": [
    "G_i = m_b/(np.pi*d_i**2/4)\n",
    "\n",
    "A_i = np.pi*d_i*dx\n",
    "A_e = 2*(dz*dy*np.pi*d_e**2/4) + np.pi*d_e*(dx-sigma_f) + 2*sigma_f*(dz+dy)\n",
    "A_c_V = dy*dx-dx*d_e-sigma_f*dy\n",
    "D_h = 4*A_c_V*dx/A_e\n",
    "\n",
    "p_i[0] = p_b_in\n",
    "h_i[0] = prop.PropsSI('H','P',78500,'Q',x_b_in,'R134a')\n",
    "T_i[0] = prop.PropsSI('T','P',78500,'Q',x_b_in,'R134a')\n",
    "T_a[0] = T_a_in\n",
    "x_i[0] = x_b_in\n",
    "rho_i[0] = prop.PropsSI('D','P',p_i[0],'Q',x_i[0],'R134a')\n",
    "\n",
    "rho = prop.PropsSI('D','P',100000,'T',T_i[0],'Air')\n",
    "G_a = V_a*rho/A_c\n",
    "\n",
    "erro = 1\n",
    "\n",
    "while erro>10**-4:\n",
    "    for i in range(len(p_i)-1):\n",
    "        if h_i[i] < prop.PropsSI('H','P',p_i[i],'Q',1,'R134a'):\n",
    "            rho_i[i] = prop.PropsSI('D','P',p_i[i],'Q',x_i[i],'R134a')\n",
    "                        \n",
    "            [hc_i[i],f_i[i]] = bif(x_i[i],p_i[i],d_i,m_b)\n",
    "            p_i[i+1] = p_i[i] - dpz(x_i[i],p_i[i],d_i,m_b)*dx\n",
    "            h_i[i+1] = h_i[i] + 4*(dx/d_i)*hc_i[i]*(T_w[i]-T_i[i])/G_i\n",
    "            x_i[i+1] = prop.PropsSI('Q','P',p_i[i+1],'H',h_i[i+1],'R134a')\n",
    "            T_i[i+1] = prop.PropsSI('T','P',p_i[i+1],'H',h_i[i+1],'R134a')\n",
    "\n",
    "        else:\n",
    "            rho_i[i] = prop.PropsSI('D','P',p_i[i],'T',T_i[i],'R134a')\n",
    "            [hc_i[i],f_i[i]] = mon(p_i[i],T_i[i],d_i,m_b)\n",
    "            p_i[i+1] = p_i[i] - dx*G_i**2*f_i[i]/(d_i*rho_i[i]*2)\n",
    "            h_i[i+1] = h_i[i] + 4*(dx/d_i)*hc_i[i]*(T_w[i]-T_i[i])/G_i\n",
    "            x_i[i+1] = 1\n",
    "            T_i[i+1] = prop.PropsSI('T','P',p_i[i+1],'H',h_i[i+1],'R134a')\n",
    "\n",
    "        h_ar[i] = h_a(V_a,A_c,T_a[i],phi)\n",
    "        T_w[i] = (A_i*hc_i[i]*T_i[i]+A_e*h_ar[i]*T_a[i])/(A_i*hc_i[i]+A_e*h_ar[i])\n",
    "\n",
    "\n",
    "        cp_a = prop.PropsSI('C','P',100000,'T',T_i[i],'Air')\n",
    "        T_a[i+1] = T_a[i] - 4*(dx/D_h)*h_ar[i]*(T_a[i]-T_w[i])/(G_a*cp_a)\n",
    "        \n",
    "    erro = max(abs(T_w-T_w_f)+abs(T_i-T_i_f)+abs(T_a-T_a_f))\n",
    "    \n",
    "    T_w_f = T_w\n",
    "    T_a_f = T_a\n",
    "    T_i_f = T_i\n",
    "    print(erro)"
   ]
  },
  {
   "cell_type": "code",
   "execution_count": 25,
   "metadata": {},
   "outputs": [
    {
     "data": {
      "image/png": "[encoded data removed]",
      "text/plain": [
       "<matplotlib.figure.Figure at 0x1d039f54908>"
      ]
     },
     "metadata": {},
     "output_type": "display_data"
    }
   ],
   "source": [
    "plt.plot(T_i)\n",
    "plt.plot(T_w)\n",
    "plt.plot(T_a)\n",
    "plt.show()"
   ]
  },
  {
   "cell_type": "code",
   "execution_count": 30,
   "metadata": {},
   "outputs": [
    {
     "data": {
      "image/png": "[encoded data removed]",
      "text/plain": [
       "<matplotlib.figure.Figure at 0x1d03ea4d2b0>"
      ]
     },
     "metadata": {},
     "output_type": "display_data"
    }
   ],
   "source": [
    "plt.plot(hc_i)\n",
    "plt.show()"
   ]
  },
  {
   "cell_type": "code",
   "execution_count": 31,
   "metadata": {},
   "outputs": [
    {
     "data": {
      "text/plain": [
       "133.84505409311862"
      ]
     },
     "execution_count": 31,
     "metadata": {},
     "output_type": "execute_result"
    }
   ],
   "source": []
  }
 ],
 "metadata": {
  "kernelspec": {
   "display_name": "Python 3",
   "language": "python",
   "name": "python3"
  },
  "language_info": {
   "codemirror_mode": {
    "name": "ipython",
    "version": 3
   },
   "file_extension": ".py",
   "mimetype": "text/x-python",
   "name": "python",
   "nbconvert_exporter": "python",
   "pygments_lexer": "ipython3",
   "version": "3.6.1"
  }
 },
 "nbformat": 4,
 "nbformat_minor": 2
}
