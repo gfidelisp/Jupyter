{
 "cells": [
  {
   "cell_type": "code",
   "execution_count": 1,
   "metadata": {},
   "outputs": [],
   "source": [
    "from numpy import *\n",
    "from matplotlib import *\n",
    "from pylab import *\n",
    "from scipy import *\n",
    "from numpy import*\n",
    "import csv\n",
    "import xlrd\n",
    "\n",
    "rc('text',usetex = True)\n",
    "rc('font', family='serif')\n",
    "\n",
    "from scipy.optimize import curve_fit"
   ]
  },
  {
   "cell_type": "code",
   "execution_count": 2,
   "metadata": {},
   "outputs": [],
   "source": [
    "Prop = xlrd.open_workbook('Gd-Y.xlsx')\n",
    "SpecHeat = Prop.sheet_by_name('C')\n",
    "dTad = Prop.sheet_by_name('dT')"
   ]
  },
  {
   "cell_type": "code",
   "execution_count": 3,
   "metadata": {},
   "outputs": [],
   "source": [
    "T_exp = dTad.col_values(0)\n",
    "B_exp = dTad.col_values(1)\n",
    "\n",
    "K = len(dTad.col_values(0))\n",
    "\n",
    "dT = zeros([4,K])\n",
    "C = zeros([4,K])\n",
    "for i in range(4):\n",
    "    dT[i,:] = (dTad.col_values(i+2))\n",
    "    C[i,:] = (SpecHeat.col_values(i+2))"
   ]
  },
  {
   "cell_type": "code",
   "execution_count": 4,
   "metadata": {},
   "outputs": [],
   "source": [
    "def Properties(SpecHeat,dTad,B_l_int,B_h_int):\n",
    "    T_exp = dTad.col_values(0)\n",
    "    B_exp = dTad.col_values(1)\n",
    "\n",
    "    K = len(dTad.col_values(0))\n",
    "\n",
    "    dT = zeros([4,K])\n",
    "    C = zeros([4,K])\n",
    "    for i in range(4):\n",
    "        dT[i,:] = (dTad.col_values(i+2))\n",
    "        C[i,:] = (SpecHeat.col_values(i+2))\n",
    "\n",
    "    C_d = ([],[],[],[])\n",
    "    C_m = ([],[],[],[])\n",
    "    dT_d = ([],[],[],[])\n",
    "    dT_m = ([],[],[],[])\n",
    "    dT_ad = ([],[],[],[])\n",
    "\n",
    "    for i in range(K):\n",
    "        if B_exp[i] == B_l_int:\n",
    "            for j in range(4):\n",
    "                C_d[j].append(C[j,i])\n",
    "                dT_d[j].append(dT[j,i])       \n",
    "\n",
    "        if B_exp[i] == B_h_int:\n",
    "            for j in range(4):\n",
    "                C_m[j].append(C[j,i])\n",
    "                dT_m[j].append(dT[j,i])\n",
    "                \n",
    "                \n",
    "                \n",
    "    \n",
    "                \n",
    "                \n",
    "            \n",
    "    return(C_m,C_d,dT_m,dT_d)"
   ]
  },
  {
   "cell_type": "code",
   "execution_count": 5,
   "metadata": {},
   "outputs": [],
   "source": [
    "(C_m,C_d,dT_m,dT_d) = Properties(SpecHeat,dTad,0.33,1.14)\n",
    "T = arange(min(T_exp),max(T_exp)+0.01,0.1)\n",
    "\n",
    "dT_ad = np.array(dT_m)-np.array(dT_d)\n",
    "T_dem = zeros([4,len(T)])\n",
    "\n",
    "for j in range(4):\n",
    "    T_dem[j] = T + dT_ad[j] "
   ]
  },
  {
   "cell_type": "code",
   "execution_count": 13,
   "metadata": {},
   "outputs": [],
   "source": [
    "def Cdt(T_m,L_m,Th,Tc,T,T_dem,C_m,C_d,dT_ad):\n",
    "    \n",
    "    C_mag = []\n",
    "    C_dmag = []\n",
    "    dT_mag = []\n",
    "    dT_dmag = []\n",
    "    T_t = []\n",
    "    T_int = []\n",
    "    \n",
    "    N_l = len(T_m)\n",
    "    a = zeros(N_l)\n",
    "    \n",
    "    L = 0\n",
    "    for i in range(N_l):\n",
    "        L = L + L_m[i]\n",
    "        T_tr = Tc + L/100*(Th-Tc)\n",
    "        T_t.append(T_tr)\n",
    "        \n",
    "    \n",
    "    for i in range(N_l):\n",
    "        if T_m[i] == 273:\n",
    "            a[i] = 3\n",
    "        elif T_m[i] == 277:\n",
    "            a[i] = 2\n",
    "        elif T_m [i] == 283:\n",
    "            a[i] = 1\n",
    "\n",
    "    dT_ad_d = zeros([4,len(T)])\n",
    "    \n",
    "    for k in range(4):\n",
    "        for i in range(len(T)):\n",
    "            for j in range(len(T_dem[k])):\n",
    "                #print(k,i,j)\n",
    "                if T_dem[k][j] > T[i] and T_dem[k][j-1] < T[i]:\n",
    "                    dT_ad_d[k][i] = dT_ad[k][j-1] + (T[i]-T_dem[k][j-1])/(T_dem[k][j]- T_dem[k][i])*(dT_ad[k][j]-dT_ad[k][j-1])\n",
    "                    \n",
    "    for j in range(N_l):\n",
    "        for i in range(len(T)): \n",
    "            #print(Tc,T[i])\n",
    "            if T[i] > Tc-0.01 and T[i] < T_t[j]:\n",
    "                C_mag.append(C_m[int(a[j])][i])\n",
    "                C_dmag.append(C_d[int(a[j])][i])\n",
    "                dT_mag.append(dT_ad[int(a[j])][i])\n",
    "                dT_dmag.append(dT_ad_d[int(a[j])][i])\n",
    "                T_int.append(T[i])\n",
    "                if T[i+1] > T_t[j]:\n",
    "                    Tc = T_t[j]\n",
    "                          \n",
    "    return(C_mag,C_dmag,dT_mag,dT_dmag,T_int,dT_ad_d)"
   ]
  },
  {
   "cell_type": "code",
   "execution_count": 14,
   "metadata": {
    "scrolled": false
   },
   "outputs": [],
   "source": [
    "(C_mag,C_dmag,dT_mag,dT_dmag,T_int,dT_ad_d) = Cdt([273,300],[50,50],300,270,T,T_dem,C_m,C_d,dT_ad)"
   ]
  },
  {
   "cell_type": "code",
   "execution_count": 15,
   "metadata": {
    "scrolled": true
   },
   "outputs": [
    {
     "data": {
      "image/png": "[encoded data removed]",
      "text/plain": [
       "<Figure size 432x288 with 1 Axes>"
      ]
     },
     "metadata": {},
     "output_type": "display_data"
    }
   ],
   "source": [
    "plt.plot(T_int,dT_mag,label = 'mag')\n",
    "plt.plot(T_int,dT_dmag, label = 'dmag')\n",
    "plt.legend()\n",
    "plt.show()"
   ]
  },
  {
   "cell_type": "code",
   "execution_count": null,
   "metadata": {},
   "outputs": [],
   "source": []
  }
 ],
 "metadata": {
  "kernelspec": {
   "display_name": "Python 3",
   "language": "python",
   "name": "python3"
  },
  "language_info": {
   "codemirror_mode": {
    "name": "ipython",
    "version": 3
   },
   "file_extension": ".py",
   "mimetype": "text/x-python",
   "name": "python",
   "nbconvert_exporter": "python",
   "pygments_lexer": "ipython3",
   "version": "3.6.5"
  }
 },
 "nbformat": 4,
 "nbformat_minor": 2
}
