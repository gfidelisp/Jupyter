{
 "cells": [
  {
   "cell_type": "code",
   "execution_count": 1,
   "metadata": {},
   "outputs": [],
   "source": [
    "from numpy import *\n",
    "from matplotlib import *\n",
    "from pylab import *\n",
    "from scipy import *\n",
    "from numpy import*\n",
    "import csv\n",
    "import xlrd\n",
    "\n",
    "rc('text',usetex = True)\n",
    "rc('font', family='serif')\n",
    "\n",
    "from scipy.optimize import curve_fit"
   ]
  },
  {
   "cell_type": "code",
   "execution_count": 300,
   "metadata": {},
   "outputs": [],
   "source": [
    "def eta(X,a,b,c,d,e,f,g,h,i,j): \n",
    "    Pi1,Pi2,Pi3,Pi4,Pi5,Pi6,Pi7,Pi8 = X\n",
    "    return (a*(Pi1**b)*(Pi2**c)*(Pi3**d)*(Pi4**e)*(Pi5**f)*(Pi6**g)*(Pi7**h)*Pi8**i)"
   ]
  },
  {
   "cell_type": "code",
   "execution_count": 301,
   "metadata": {},
   "outputs": [],
   "source": [
    "workbook = xlrd.open_workbook('Input.xlsm')\n",
    "worksheet = workbook.sheet_by_name('Input_Csg')"
   ]
  },
  {
   "cell_type": "code",
   "execution_count": 302,
   "metadata": {},
   "outputs": [],
   "source": [
    "N = 70\n",
    "phi = zeros(N)\n",
    "L = zeros(N)\n",
    "D = zeros(N)\n",
    "CA_s= zeros(N)\n",
    "CA_f= zeros(N)\n",
    "ha = zeros(N)\n",
    "csg = zeros(N)\n",
    "dT = zeros(N)\n",
    "Qc = zeros(N)\n",
    "Qcf = zeros(N)\n",
    "\n",
    "\n",
    "for i in range(N):\n",
    "    phi[i] = worksheet.cell(0, i).value\n",
    "    L[i] = worksheet.cell(1, i).value\n",
    "    D[i] = worksheet.cell(2, i).value\n",
    "    ha[i] = worksheet.cell(5, i).value\n",
    "    CA_s[i] = worksheet.cell(3, i).value\n",
    "    CA_f[i] = worksheet.cell(4, i).value\n",
    "    csg[i] = worksheet.cell(6, i).value\n",
    "    dT[i] = worksheet.cell(7, i).value\n",
    "    Qc[i] = worksheet.cell(8, i).value\n",
    "    #Qcf[i] = worksheet.cell(9, i).value"
   ]
  },
  {
   "cell_type": "code",
   "execution_count": 303,
   "metadata": {},
   "outputs": [
    {
     "data": {
      "text/plain": [
       "Text(0,0.5,'$\\\\eta$ [-]')"
      ]
     },
     "execution_count": 303,
     "metadata": {},
     "output_type": "execute_result"
    },
    {
     "data": {
      "image/png": "[encoded data removed]",
      "text/plain": [
       "<Figure size 432x288 with 1 Axes>"
      ]
     },
     "metadata": {},
     "output_type": "display_data"
    }
   ],
   "source": [
    "plt.plot(phi,Qc,'o')\n",
    "plt.grid()\n",
    "plt.xlabel('$\\phi$ [-]')\n",
    "#plt.ylabel('$\\dot{Q}_\\mathrm{C}$ [W]')\n",
    "plt.ylabel('$\\eta$ [-]')\n",
    "#plt.savefig('Eta.png',format = 'png', dpi=1000,bbox_inches='tight')"
   ]
  },
  {
   "cell_type": "code",
   "execution_count": 304,
   "metadata": {},
   "outputs": [
    {
     "data": {
      "text/plain": [
       "array([ 6.57365000e-10,  3.74882753e-01, -1.52705841e+00, -7.71513027e-01,\n",
       "       -4.99999682e-01, -3.83440568e-01, -6.86921440e-01, -3.73922565e-02,\n",
       "       -9.29550634e-03,  0.00000000e+00])"
      ]
     },
     "execution_count": 304,
     "metadata": {},
     "output_type": "execute_result"
    }
   ],
   "source": [
    "M = curve_fit(eta,(phi,L,D/L,ha,dT,CA_s,CA_f,csg), Qc,p0 =([0,1,0,0,0,0,0,0,0,0]),bounds=([0,0,-2,-0.8,-0.5,-0.4,-0.7,-0.2,-0.5,-0.5], [2,2,0,0,0,0,0,0,0,1]))\n",
    "#M = curve_fit(eta,phi, Qc,bounds=([-100,-100], [100,100]))\n",
    "M[0]"
   ]
  },
  {
   "cell_type": "code",
   "execution_count": 305,
   "metadata": {},
   "outputs": [
    {
     "data": {
      "image/png": "[encoded data removed]",
      "text/plain": [
       "<Figure size 432x288 with 1 Axes>"
      ]
     },
     "metadata": {},
     "output_type": "display_data"
    }
   ],
   "source": [
    "plt.plot(phi,Qc,'o',label = 'Numerical')\n",
    "plt.plot(phi,eta((phi,L,D/L,ha,dT,CA_s,CA_f,csg),M[0][0],M[0][1],M[0][2],M[0][3],M[0][4],M[0][5],M[0][6],M[0][7],M[0][8],M[0][9]),'o',label = 'Fitting')\n",
    "plt.xlabel('$\\phi$ [-]')\n",
    "plt.ylabel('$\\eta$ [-]')\n",
    "plt.legend()\n",
    "plt.grid()"
   ]
  },
  {
   "cell_type": "code",
   "execution_count": 306,
   "metadata": {},
   "outputs": [],
   "source": [
    "Erro_rel = (Qc-eta((phi,L,D/L,ha,dT,CA_s,CA_f,csg),M[0][0],M[0][1],M[0][2],M[0][3],M[0][4],M[0][5],M[0][6],M[0][7],M[0][8],M[0][9]))/Qc*100"
   ]
  },
  {
   "cell_type": "code",
   "execution_count": 307,
   "metadata": {},
   "outputs": [
    {
     "data": {
      "image/png": "[encoded data removed]",
      "text/plain": [
       "<Figure size 432x288 with 1 Axes>"
      ]
     },
     "metadata": {},
     "output_type": "display_data"
    }
   ],
   "source": [
    "plt.plot(phi,abs(Erro_rel),'o')\n",
    "plt.xlabel('$\\phi$ [-]')\n",
    "plt.ylabel('Error [$\\%$]')\n",
    "plt.grid()"
   ]
  },
  {
   "cell_type": "code",
   "execution_count": null,
   "metadata": {},
   "outputs": [],
   "source": []
  }
 ],
 "metadata": {
  "kernelspec": {
   "display_name": "Python 3",
   "language": "python",
   "name": "python3"
  },
  "language_info": {
   "codemirror_mode": {
    "name": "ipython",
    "version": 3
   },
   "file_extension": ".py",
   "mimetype": "text/x-python",
   "name": "python",
   "nbconvert_exporter": "python",
   "pygments_lexer": "ipython3",
   "version": "3.6.5"
  }
 },
 "nbformat": 4,
 "nbformat_minor": 2
}
