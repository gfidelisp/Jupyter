{
 "cells": [
  {
   "cell_type": "code",
   "execution_count": 1,
   "metadata": {},
   "outputs": [],
   "source": [
    "from numpy import *\n",
    "from matplotlib import *\n",
    "from pylab import *\n",
    "from scipy import *\n",
    "from numpy import*\n",
    "import csv\n",
    "import xlrd\n",
    "\n",
    "rc('text',usetex = True)\n",
    "rc('font', family='serif')\n",
    "\n",
    "from scipy.optimize import curve_fit"
   ]
  },
  {
   "cell_type": "code",
   "execution_count": 12,
   "metadata": {},
   "outputs": [],
   "source": [
    "def dTad(X,a,b,c): \n",
    "    T,H = X\n",
    "    return (a)"
   ]
  },
  {
   "cell_type": "code",
   "execution_count": 13,
   "metadata": {},
   "outputs": [],
   "source": [
    "workbook = xlrd.open_workbook('Input.xlsm')\n",
    "worksheet = workbook.sheet_by_name('dTad')"
   ]
  },
  {
   "cell_type": "code",
   "execution_count": 14,
   "metadata": {},
   "outputs": [],
   "source": [
    "N = 6511\n",
    "H = zeros(N)\n",
    "T = zeros(N)\n",
    "dT = zeros(N)\n",
    "\n",
    "\n",
    "for i in range(N):\n",
    "    H[i] = worksheet.cell(0, i).value\n",
    "    T[i] = worksheet.cell(1, i).value\n",
    "    dT[i] = worksheet.cell(2, i).value"
   ]
  },
  {
   "cell_type": "code",
   "execution_count": 15,
   "metadata": {
    "scrolled": false
   },
   "outputs": [
    {
     "data": {
      "text/plain": [
       "Text(0,0.5,'$\\\\eta$ [-]')"
      ]
     },
     "execution_count": 15,
     "metadata": {},
     "output_type": "execute_result"
    },
    {
     "data": {
      "image/png": "[encoded data removed]",
      "text/plain": [
       "<Figure size 432x288 with 1 Axes>"
      ]
     },
     "metadata": {},
     "output_type": "display_data"
    }
   ],
   "source": [
    "plt.plot(T,dT,'o')\n",
    "plt.grid()\n",
    "plt.xlabel('$\\phi$ [-]')\n",
    "#plt.ylabel('$\\dot{Q}_\\mathrm{C}$ [W]')\n",
    "plt.ylabel('$\\eta$ [-]')\n",
    "#plt.savefig('Eta.png',format = 'png', dpi=1000,bbox_inches='tight')"
   ]
  },
  {
   "cell_type": "code",
   "execution_count": 21,
   "metadata": {},
   "outputs": [
    {
     "data": {
      "text/plain": [
       "(array([ 0.46734662, 12.23618205, -3.96483747]),\n",
       " array([[ 3.11151827e+13, -2.24460795e+14,  5.65273422e+11],\n",
       "        [-2.24460795e+14,  3.13154290e+15,  2.18366626e+13],\n",
       "        [ 5.65273422e+11,  2.18366626e+13,  1.23297565e+13]]))"
      ]
     },
     "execution_count": 21,
     "metadata": {},
     "output_type": "execute_result"
    }
   ],
   "source": [
    "M = curve_fit(dTad,(H,T),dT)\n",
    "#M = curve_fit(eta,phi, Qc,bounds=([-100,-100], [100,100]))\n",
    "M"
   ]
  },
  {
   "cell_type": "markdown",
   "metadata": {},
   "source": [
    "def eta(X,a,b,c,d,e,f,g,h,i):\n",
    "\n",
    "    Pi1,Pi2,Pi3,Pi4,Pi5,Pi6,Pi7 = X\n",
    "    \n",
    "    return (a*(Pi1**b)*(Pi2**c)*(Pi3**d)*(Pi4**e)*(Pi5**f)*(Pi6**g)*Pi7**h)"
   ]
  },
  {
   "cell_type": "code",
   "execution_count": 19,
   "metadata": {
    "scrolled": false
   },
   "outputs": [
    {
     "data": {
      "image/png": "[encoded data removed]",
      "text/plain": [
       "<Figure size 432x288 with 1 Axes>"
      ]
     },
     "metadata": {},
     "output_type": "display_data"
    }
   ],
   "source": [
    "plt.plot(T,dT,'o',label = 'Numerical')\n",
    "plt.plot(T,dTad((H,T),M[0][0],M[0][1],M[0][2]),'o',label = 'Fitting')\n",
    "plt.xlabel('$\\phi$ [-]')\n",
    "plt.ylabel('$\\eta$ [-]')\n",
    "plt.legend()\n",
    "plt.grid()\n"
   ]
  },
  {
   "cell_type": "code",
   "execution_count": 288,
   "metadata": {},
   "outputs": [],
   "source": [
    "Erro_rel = (Qc-eta((phi,L,D/L,dp,dT,CA_s,CA_f,Wp),M[0][0],M[0][1],M[0][2],M[0][3],M[0][4],M[0][5],M[0][6],M[0][7],M[0][8]))/Qc*100"
   ]
  },
  {
   "cell_type": "code",
   "execution_count": 289,
   "metadata": {
    "scrolled": true
   },
   "outputs": [
    {
     "data": {
      "image/png": "[encoded data removed]",
      "text/plain": [
       "<Figure size 432x288 with 1 Axes>"
      ]
     },
     "metadata": {},
     "output_type": "display_data"
    }
   ],
   "source": [
    "plt.plot(phi,abs(Erro_rel),'o')\n",
    "plt.xlabel('$\\phi$ [-]')\n",
    "plt.ylabel('Error [$\\%$]')\n",
    "plt.grid()\n",
    "\n",
    "plt.savefig('Error_Restricted_8.png',format = 'png', dpi=1000,bbox_inches='tight')"
   ]
  },
  {
   "cell_type": "code",
   "execution_count": 290,
   "metadata": {},
   "outputs": [
    {
     "data": {
      "text/plain": [
       "224.8230252730225"
      ]
     },
     "execution_count": 290,
     "metadata": {},
     "output_type": "execute_result"
    }
   ],
   "source": [
    "sum(abs(Erro_rel))"
   ]
  },
  {
   "cell_type": "code",
   "execution_count": null,
   "metadata": {},
   "outputs": [],
   "source": []
  }
 ],
 "metadata": {
  "kernelspec": {
   "display_name": "Python 3",
   "language": "python",
   "name": "python3"
  },
  "language_info": {
   "codemirror_mode": {
    "name": "ipython",
    "version": 3
   },
   "file_extension": ".py",
   "mimetype": "text/x-python",
   "name": "python",
   "nbconvert_exporter": "python",
   "pygments_lexer": "ipython3",
   "version": "3.6.5"
  }
 },
 "nbformat": 4,
 "nbformat_minor": 2
}
