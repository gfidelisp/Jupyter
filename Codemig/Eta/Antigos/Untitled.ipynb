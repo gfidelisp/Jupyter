{
 "cells": [
  {
   "cell_type": "code",
   "execution_count": 1,
   "metadata": {
    "collapsed": true
   },
   "outputs": [],
   "source": [
    "from numpy import *\n",
    "from matplotlib import *\n",
    "from pylab import *\n",
    "from scipy import *\n",
    "from numpy import*\n",
    "import csv\n",
    "\n",
    "rc('text',usetex = True)\n",
    "rc('font', family='serif')"
   ]
  },
  {
   "cell_type": "code",
   "execution_count": 2,
   "metadata": {
    "collapsed": true
   },
   "outputs": [],
   "source": [
    "RC = 37.5\n",
    "Max_25  = RC*0.2*0.25\n",
    "Max_50  = RC*0.2*0.5\n",
    "Max_100 = RC*0.2*1\n",
    "Max_l_50 = RC*0.1*0.5\n",
    "Max_l_75 = RC*0.15*0.5\n",
    "QC_25 = [1.45809825,3.16454961,4.77250148,6.35218593,7.90258643,9.408054,10.84756198,12.19201752,13.40444289,14.43725706]\n",
    "QC_50 = [3.0384136,6.3353658,9.49660629,12.61070103,15.64844271,18.56768137,21.3160182,23.83037134,26.03232156,27.81901864]\n",
    "QC_100 =[6.23304375,12.63993181,18.88223043,24.96001454,30.77587729,36.22105863,41.17693602,45.50657211,49.04296585,51.56481261]\n",
    "QC_l_50=[1.39420384,3.11048391,4.74339069,6.32662699,7.86034101,9.32787479,10.70439147,11.95556999,13.03751319,13.89147785]\n",
    "QC_l_75=[2.27347643,4.81489796,7.23706994,9.61575439,11.93367443,14.15964979,16.25163558,18.15843822,19.81423548,21.13307324]"
   ]
  },
  {
   "cell_type": "code",
   "execution_count": 3,
   "metadata": {
    "collapsed": false
   },
   "outputs": [
    {
     "data": {
      "text/plain": [
       "37.5"
      ]
     },
     "execution_count": 3,
     "metadata": {},
     "output_type": "execute_result"
    }
   ],
   "source": [
    "RC"
   ]
  },
  {
   "cell_type": "code",
   "execution_count": 4,
   "metadata": {
    "collapsed": false
   },
   "outputs": [],
   "source": [
    "phi = [0.1,0.2,0.3,0.4,0.5,0.6,0.7,0.8,0.9,1]\n",
    "for i in range(0,10):\n",
    "    QC_25[i] =  QC_25[i]/Max_25\n",
    "    QC_50[i] =  QC_50[i]/Max_50\n",
    "    QC_100[i] = QC_100[i]/Max_100\n",
    "    QC_l_50[i]= QC_l_50[i]/Max_l_50\n",
    "    QC_l_75[i]= QC_l_75[i]/Max_l_75"
   ]
  },
  {
   "cell_type": "code",
   "execution_count": 5,
   "metadata": {
    "collapsed": false
   },
   "outputs": [
    {
     "data": {
      "image/png": "[encoded data removed]",
      "text/plain": [
       "<matplotlib.figure.Figure at 0x267f1ed74e0>"
      ]
     },
     "metadata": {},
     "output_type": "display_data"
    }
   ],
   "source": [
    "fig, ax = plt.subplots()\n",
    "plot(phi,QC_25,label = 'f = 0.25 Hz - L = 100 mm' )\n",
    "plot(phi,QC_50,label = 'f = 0.5 Hz - L = 100 mm')\n",
    "plot(phi,QC_100,label = 'f = 1 Hz - - L = 100 mm')\n",
    "plot(phi,QC_l_50,label = 'f = 0.5 Hz - L = 50 mm')\n",
    "plot(phi,QC_l_75,label = 'f = 0.5 Hz - L = 75 mm')\n",
    "ylabel('$\\eta$ [-]')\n",
    "xlabel('$\\phi$ [-]')\n",
    "legend(loc=2)\n",
    "grid(True)\n",
    "show()\n",
    "\n",
    "fig.savefig('eta_RC_.pdf',format = 'pdf', dpi=1000,bbox_inches='tight')"
   ]
  },
  {
   "cell_type": "code",
   "execution_count": 6,
   "metadata": {
    "collapsed": true
   },
   "outputs": [],
   "source": [
    "QH_25 = [1.91077303,3.73444858,5.49354393,7.24623045,8.9807394,10.68441719,12.33144324,13.89698947,15.3455912,16.62761222]\n",
    "QH_50 = [3.8202248,7.39107379,10.9174537,4.43994333,17.92477973,21.32950386,24.60460641,27.68995777,30.51073409,32.9706412]\n",
    "QH_100= [7.60289969,14.69280119,21.82442921,28.94146209,35.9530387,42.76163784,49.26425042,55.34120042,60.83684067,65.55633312]\n",
    "WP_25 = [0.00348471,0.01404952,0.0318605,0.05708367,0.08988509,0.1304308,0.17888685,0.23541926,0.30019409,0.37337738]\n"
   ]
  },
  {
   "cell_type": "code",
   "execution_count": 7,
   "metadata": {
    "collapsed": false
   },
   "outputs": [
    {
     "ename": "NameError",
     "evalue": "name 'W_P' is not defined",
     "output_type": "error",
     "traceback": [
      "\u001b[0;31m---------------------------------------------------------------------------\u001b[0m",
      "\u001b[0;31mNameError\u001b[0m                                 Traceback (most recent call last)",
      "\u001b[0;32m<ipython-input-7-7401c3e5baac>\u001b[0m in \u001b[0;36m<module>\u001b[0;34m()\u001b[0m\n\u001b[1;32m      1\u001b[0m \u001b[0mW_25\u001b[0m \u001b[1;33m=\u001b[0m \u001b[0mzeros\u001b[0m\u001b[1;33m(\u001b[0m\u001b[1;36m10\u001b[0m\u001b[1;33m)\u001b[0m\u001b[1;33m\u001b[0m\u001b[0m\n\u001b[1;32m      2\u001b[0m \u001b[1;32mfor\u001b[0m \u001b[0mi\u001b[0m \u001b[1;32min\u001b[0m \u001b[0mrange\u001b[0m\u001b[1;33m(\u001b[0m\u001b[1;36m0\u001b[0m\u001b[1;33m,\u001b[0m\u001b[1;36m10\u001b[0m\u001b[1;33m)\u001b[0m\u001b[1;33m:\u001b[0m\u001b[1;33m\u001b[0m\u001b[0m\n\u001b[0;32m----> 3\u001b[0;31m     \u001b[0mW_25\u001b[0m\u001b[1;33m[\u001b[0m\u001b[0mi\u001b[0m\u001b[1;33m]\u001b[0m \u001b[1;33m=\u001b[0m  \u001b[1;33m(\u001b[0m\u001b[0mQH_25\u001b[0m\u001b[1;33m[\u001b[0m\u001b[0mi\u001b[0m\u001b[1;33m]\u001b[0m\u001b[1;33m-\u001b[0m\u001b[0mQC_25\u001b[0m\u001b[1;33m[\u001b[0m\u001b[0mi\u001b[0m\u001b[1;33m]\u001b[0m\u001b[1;33m-\u001b[0m\u001b[0mW_P\u001b[0m\u001b[1;33m[\u001b[0m\u001b[0mi\u001b[0m\u001b[1;33m]\u001b[0m\u001b[1;33m)\u001b[0m\u001b[1;33m/\u001b[0m\u001b[0mMax_25\u001b[0m\u001b[1;33m\u001b[0m\u001b[0m\n\u001b[0m",
      "\u001b[0;31mNameError\u001b[0m: name 'W_P' is not defined"
     ]
    }
   ],
   "source": [
    "W_25 = zeros(10)\n",
    "for i in range(0,10):\n",
    "    W_25[i] =  (QH_25[i]-QC_25[i]-W_P[i])/Max_25"
   ]
  },
  {
   "cell_type": "code",
   "execution_count": null,
   "metadata": {
    "collapsed": false
   },
   "outputs": [],
   "source": [
    "plot(phi,list(W_25[0]/25))\n",
    "show()"
   ]
  },
  {
   "cell_type": "code",
   "execution_count": null,
   "metadata": {
    "collapsed": false
   },
   "outputs": [],
   "source": [
    "W_25"
   ]
  }
 ],
 "metadata": {
  "anaconda-cloud": {},
  "kernelspec": {
   "display_name": "Python [conda root]",
   "language": "python",
   "name": "conda-root-py"
  },
  "language_info": {
   "codemirror_mode": {
    "name": "ipython",
    "version": 3
   },
   "file_extension": ".py",
   "mimetype": "text/x-python",
   "name": "python",
   "nbconvert_exporter": "python",
   "pygments_lexer": "ipython3",
   "version": "3.5.3"
  }
 },
 "nbformat": 4,
 "nbformat_minor": 1
}
