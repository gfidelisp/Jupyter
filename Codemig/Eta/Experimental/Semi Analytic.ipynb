{
 "cells": [
  {
   "cell_type": "code",
   "execution_count": 5,
   "metadata": {},
   "outputs": [],
   "source": [
    "from numpy import *\n",
    "from matplotlib import *\n",
    "from pylab import *\n",
    "from numpy import*\n",
    "import csv\n",
    "import xlrd\n",
    "\n",
    "rc('text',usetex = True)\n",
    "rc('font', family='serif')\n",
    "\n",
    "from scipy.optimize import curve_fit\n",
    "from scipy import integrate\n",
    "from scipy.optimize import fsolve\n",
    "\n",
    "from IPython.core.interactiveshell import InteractiveShell\n",
    "InteractiveShell.ast_node_interactivity = \"all\""
   ]
  },
  {
   "cell_type": "code",
   "execution_count": 6,
   "metadata": {},
   "outputs": [],
   "source": [
    "def eta2(X,a,b,c,d,e,f,g,h,i,j): \n",
    "    Pi1,Pi2,Pi3,Pi4,Pi5,Pi6,Pi7 = X\n",
    "    return (a*Pi1 + b*Pi2 + c*Pi3+d*Pi4+e*Pi5+f*Pi6+g*Pi7)"
   ]
  },
  {
   "cell_type": "code",
   "execution_count": 7,
   "metadata": {},
   "outputs": [],
   "source": [
    "def Prop_int(Prop,T,B,T_int,B_int):\n",
    "    i = 0\n",
    "    i_int = 0\n",
    "    while T_int > T[i]:\n",
    "            i_int = i\n",
    "            i = i+1\n",
    "    j = 0 \n",
    "    j_int = 0\n",
    "    while B_int > B[j]:\n",
    "            j_int = j\n",
    "            j = j+1\n",
    "                   \n",
    "    Prop_int  = Prop[j_int+1][i_int] \n",
    "    return Prop_int"
   ]
  },
  {
   "cell_type": "code",
   "execution_count": 64,
   "metadata": {},
   "outputs": [],
   "source": [
    "def H_eff(H,Tc,Th,n,M):\n",
    "    N_cas = (2*n/np.sqrt(np.pi))*(2*(2*n/(np.sqrt(np.pi)))+1)**-1\n",
    "    N_t = 1/3 + (1-0.36)*(N_cas-1/3)\n",
    "    T_e = np.arange(Tc,Th+0.01,0.1)\n",
    "    M_eff = zeros([len(H),len(T_e)]) \n",
    "    H_eff = zeros([len(H),len(T_e)])\n",
    "    for i in range(len(H)):\n",
    "        for j in range(len(T_e)):\n",
    "            M_eff[i][j] = Prop_int(M_m,T,B,T_e[j],H[i])*4*np.pi*10**-7\n",
    "            H_ef = fsolve(lambda H_ef: ft(H_ef,M_m,T,B,H[i],T_e[j],N_t),H[i])\n",
    "            #print(H_ef)\n",
    "            H_eff[i][j] = H_ef\n",
    "            \n",
    "    return (H_eff)"
   ]
  },
  {
   "cell_type": "code",
   "execution_count": 9,
   "metadata": {},
   "outputs": [],
   "source": [
    "def Mean_C(T,B,H,Tc,Th,n,cp_m):\n",
    "\n",
    "    T_p = np.arange(Tc,Th+0.01,0.1)\n",
    "    H_e = H_eff(H,Tc,Th,n,M_m)\n",
    "    \n",
    "    C_low = []\n",
    "    C_high = []\n",
    "    for i in range(len(T_p)):\n",
    "        #print(H_e[0][i])\n",
    "        C_low.append(Prop_int(cp_m,T,B,T_p[i],H_e[0][i]))\n",
    "        C_high.append(Prop_int(cp_m,T,B,T_p[i],H_e[1][i]))\n",
    "\n",
    "    C_low_mean = integrate.simps(C_low,T_p)/(Th-Tc)\n",
    "    C_high_mean = integrate.simps(C_high,T_p)/(Th-Tc)\n",
    "    return(C_low_mean,C_high_mean)"
   ]
  },
  {
   "cell_type": "code",
   "execution_count": 10,
   "metadata": {},
   "outputs": [],
   "source": [
    "def Mean_dT(T,B,Tc,Th,H,n,dT_m,T_dm):\n",
    "    \n",
    "    T_p = np.arange(Tc,Th+0.01,0.1)\n",
    "    \n",
    "    H_e = H_eff(H,Tc,Th,n,M_m)\n",
    "    \n",
    "    dT_low_mag = []\n",
    "    dT_high_mag = []\n",
    "    dT_low_dmag = []\n",
    "    dT_high_dmag = []\n",
    "\n",
    "    \n",
    "    for i in range(len(T_p)):\n",
    "        j = 0\n",
    "        j_l = 0\n",
    "        \n",
    "        while H_e[0][i] > B[j]:\n",
    "            j_l = j\n",
    "            j = j+1\n",
    "    \n",
    "        j_h = 0\n",
    "        \n",
    "        while H_e[1][i] > B[j]:\n",
    "            j_h = j\n",
    "            j = j+1\n",
    "            \n",
    "        dT_low_mag.append(Prop_int(dT_m,T,B,T_p[i],H_e[0][i]))\n",
    "        dT_high_mag.append(Prop_int(dT_m,T,B,T_p[i],H_e[1][i]))\n",
    "        dT_low_dmag.append(Prop_int(dT_m,T_dm[j_l],B,T_p[i],H_e[0][i]))\n",
    "        dT_high_dmag.append(Prop_int(dT_m,T_dm[j_h],B,T_p[i],H_e[1][i]))\n",
    "        \n",
    "    dT_mag = np.array(dT_high_mag) - np.array(dT_low_mag)\n",
    "    dT_dmag = np.array(dT_high_dmag) - np.array(dT_low_dmag)\n",
    "    \n",
    "    dT_mag_mean = integrate.simps(dT_mag,T_p)/(Th-Tc)\n",
    "    dT_dmag_mean = integrate.simps(dT_dmag,T_p)/(Th-Tc)\n",
    "    \n",
    "    return(dT_mag_mean,dT_dmag_mean)"
   ]
  },
  {
   "cell_type": "code",
   "execution_count": 61,
   "metadata": {},
   "outputs": [],
   "source": [
    "def ft(H_ef,M_m,T,B,H_ap,T_in,N_t):\n",
    "    f = H_ef +Prop_int(M_m,T,B,T_in,H_ef)*4*np.pi*10**-7*N_t - H_ap\n",
    "    return f"
   ]
  },
  {
   "cell_type": "code",
   "execution_count": null,
   "metadata": {},
   "outputs": [],
   "source": [
    "Propriedades = xlrd.open_workbook('Tc_290.xlsx')\n",
    "Prop = Propriedades.sheet_by_name('Prop')"
   ]
  },
  {
   "cell_type": "code",
   "execution_count": 82,
   "metadata": {},
   "outputs": [],
   "source": [
    "workbook = xlrd.open_workbook('Input.xlsx')\n",
    "worksheet = workbook.sheet_by_name('Input_N')\n",
    "worksheet_E = workbook.sheet_by_name('Input_E')"
   ]
  },
  {
   "cell_type": "code",
   "execution_count": 14,
   "metadata": {},
   "outputs": [],
   "source": [
    "T = np.arange(242.5,309.59,0.1)\n",
    "B = np.arange(0,2.001,0.01)"
   ]
  },
  {
   "cell_type": "code",
   "execution_count": 15,
   "metadata": {},
   "outputs": [],
   "source": [
    "N =len(Prop.col(0))\n",
    "\n",
    "T_v = []\n",
    "B_v = []\n",
    "cp_v = []\n",
    "dS_v = []\n",
    "dT_v = []\n",
    "M_v = []\n",
    "\n",
    "for i in range(N):\n",
    "    T_v.append(Prop.cell(i,0).value)\n",
    "    B_v.append(Prop.cell(i,1).value)\n",
    "    cp_v.append(Prop.cell(i,2).value)\n",
    "    dS_v.append(Prop.cell(i,3).value)\n",
    "    dT_v.append(Prop.cell(i,4).value)\n",
    "    M_v.append(Prop.cell(i,5).value)"
   ]
  },
  {
   "cell_type": "code",
   "execution_count": 16,
   "metadata": {},
   "outputs": [],
   "source": [
    "cp_m = zeros([len(B),len(T)])\n",
    "dS_m = zeros([len(B),len(T)])\n",
    "dT_m = zeros([len(B),len(T)])\n",
    "M_m  = zeros([len(B),len(T)])\n",
    "\n",
    "cp_a = np.array(cp_v)\n",
    "dS_a = np.array(dS_v)\n",
    "dT_a = np.array(dT_v)\n",
    "M_a = np.array(M_v)\n",
    "\n",
    "for k in range(len(B)):\n",
    "    cp_m[k] = cp_a[len(T)*k:len(T)*(k+1)]\n",
    "    dS_m[k] = dS_a[len(T)*k:len(T)*(k+1)]\n",
    "    dT_m[k] = dT_a[len(T)*k:len(T)*(k+1)]\n",
    "    M_m[k] = M_a[len(T)*k:len(T)*(k+1)]  "
   ]
  },
  {
   "cell_type": "code",
   "execution_count": 110,
   "metadata": {},
   "outputs": [],
   "source": [
    "#tau = np.arange(0,1,0.01)\n",
    "#H = 1.69*np.abs(np.sin(pi*tau+pi/4))\n",
    "H = [0.33,1.52]\n",
    "T_dm = T+dT_m"
   ]
  },
  {
   "cell_type": "code",
   "execution_count": 111,
   "metadata": {},
   "outputs": [],
   "source": [
    "N1 = 111\n",
    "\n",
    "Qc = zeros(N1)\n",
    "f = zeros(N1)\n",
    "mf = zeros(N1)\n",
    "ms = zeros(N1)\n",
    "Wp = zeros(N1)\n",
    "Q_reg_HB= zeros(N1)\n",
    "Q_pas_CB = zeros(N1)\n",
    "Q_at_CB = zeros(N1)\n",
    "dT = zeros(N1)\n",
    "Q_cas = zeros(N1)\n",
    "\n",
    "\n",
    "\n",
    "for i in range(N1):\n",
    "    Qc[i] = worksheet_E.cell(0, i).value\n",
    "    f[i] = worksheet_E.cell(1, i).value\n",
    "    mf[i] = worksheet_E.cell(2, i).value\n",
    "    ms[i] = worksheet_E.cell(3, i).value\n",
    "    Wp[i] = worksheet_E.cell(4, i).value\n",
    "    \n",
    "    Q_reg_HB[i] = worksheet_E.cell(5, i).value\n",
    "    Q_pas_CB[i] = worksheet_E.cell(6, i).value\n",
    "    Q_at_CB[i] = worksheet_E.cell(7, i).value\n",
    "    dT[i] = worksheet_E.cell(9, i).value\n",
    "    Q_cas[i] = worksheet_E.cell(10, i).value"
   ]
  },
  {
   "cell_type": "code",
   "execution_count": 112,
   "metadata": {},
   "outputs": [],
   "source": [
    "for i in range(N1):\n",
    "    if dT[i] <0.1:\n",
    "        dT[i] = 0.2\n",
    "\n",
    "Th = 300*ones(N1)\n",
    "Tc = Th - dT"
   ]
  },
  {
   "cell_type": "code",
   "execution_count": 113,
   "metadata": {
    "scrolled": false
   },
   "outputs": [
    {
     "name": "stdout",
     "output_type": "stream",
     "text": [
      "0\n"
     ]
    },
    {
     "name": "stderr",
     "output_type": "stream",
     "text": [
      "C:\\Users\\Usuario\\Anaconda_new\\lib\\site-packages\\scipy\\optimize\\minpack.py:163: RuntimeWarning: The iteration is not making good progress, as measured by the \n",
      "  improvement from the last ten iterations.\n",
      "  warnings.warn(msg, RuntimeWarning)\n"
     ]
    },
    {
     "name": "stdout",
     "output_type": "stream",
     "text": [
      "1\n",
      "2\n",
      "3\n",
      "4\n",
      "5\n",
      "6\n",
      "7\n",
      "8\n",
      "9\n",
      "10\n",
      "11\n",
      "12\n",
      "13\n",
      "14\n",
      "15\n",
      "16\n",
      "17\n",
      "18\n",
      "19\n",
      "20\n",
      "21\n",
      "22\n",
      "23\n",
      "24\n",
      "25\n",
      "26\n",
      "27\n",
      "28\n",
      "29\n",
      "30\n",
      "31\n",
      "32\n",
      "33\n",
      "34\n",
      "35\n",
      "36\n",
      "37\n",
      "38\n",
      "39\n",
      "40\n",
      "41\n",
      "42\n",
      "43\n",
      "44\n",
      "45\n",
      "46\n",
      "47\n",
      "48\n",
      "49\n",
      "50\n",
      "51\n",
      "52\n",
      "53\n",
      "54\n",
      "55\n",
      "56\n",
      "57\n",
      "58\n",
      "59\n",
      "60\n",
      "61\n",
      "62\n",
      "63\n",
      "64\n",
      "65\n",
      "66\n",
      "67\n",
      "68\n",
      "69\n",
      "70\n",
      "71\n",
      "72\n",
      "73\n",
      "74\n",
      "75\n",
      "76\n",
      "77\n",
      "78\n",
      "79\n",
      "80\n",
      "81\n",
      "82\n",
      "83\n",
      "84\n",
      "85\n",
      "86\n",
      "87\n",
      "88\n",
      "89\n",
      "90\n",
      "91\n",
      "92\n",
      "93\n",
      "94\n",
      "95\n",
      "96\n",
      "97\n",
      "98\n",
      "99\n",
      "100\n",
      "101\n",
      "102\n",
      "103\n",
      "104\n",
      "105\n",
      "106\n",
      "107\n",
      "108\n",
      "109\n",
      "110\n"
     ]
    }
   ],
   "source": [
    "C_low = zeros(N1)\n",
    "C_high = zeros(N1)\n",
    "\n",
    "\n",
    "dT_mag = zeros(N1)\n",
    "dT_dmag = zeros(N1)\n",
    "\n",
    "for i in range(N1):\n",
    "    print(i)\n",
    "    C_low[i],C_high[i] = Mean_C(T,B,H,Tc[i],Th[i],100/22.4,cp_m)\n",
    "    dT_mag[i],dT_dmag[i]     = Mean_dT(T,B,Tc[i],Th[i],H,100/22.4,dT_m,T_dm)"
   ]
  },
  {
   "cell_type": "code",
   "execution_count": 114,
   "metadata": {},
   "outputs": [],
   "source": [
    "W_mag_CB = ms*f*C_low*dT_dmag\n",
    "W_mag_HB = ms*f*C_high*dT_dmag\n",
    "phi = mf/3600*3885/(2*f*ms*C_low)"
   ]
  },
  {
   "cell_type": "code",
   "execution_count": 117,
   "metadata": {},
   "outputs": [
    {
     "name": "stderr",
     "output_type": "stream",
     "text": [
      "C:\\Users\\Usuario\\Anaconda_new\\lib\\site-packages\\scipy\\optimize\\minpack.py:794: OptimizeWarning: Covariance of the parameters could not be estimated\n",
      "  category=OptimizeWarning)\n"
     ]
    },
    {
     "data": {
      "text/plain": [
       "array([-1.21137795e+00,  1.18200720e+00,  2.57821366e+00, -8.49082076e-03,\n",
       "       -5.43145079e-04,  4.59043559e-02,  5.70589904e+00,  1.00000000e+00,\n",
       "        1.00000000e+00,  1.00000000e+00])"
      ]
     },
     "execution_count": 117,
     "metadata": {},
     "output_type": "execute_result"
    }
   ],
   "source": [
    "M = curve_fit(eta2,(W_mag_CB,W_mag_HB,Wp,Q_reg_HB,Q_pas_CB,Q_at_CB,Q_cas), Qc)\n",
    "M[0]"
   ]
  },
  {
   "cell_type": "code",
   "execution_count": 118,
   "metadata": {},
   "outputs": [
    {
     "data": {
      "text/plain": [
       "[<matplotlib.lines.Line2D at 0x28e45331358>]"
      ]
     },
     "execution_count": 118,
     "metadata": {},
     "output_type": "execute_result"
    },
    {
     "data": {
      "text/plain": [
       "[<matplotlib.lines.Line2D at 0x28e459723c8>]"
      ]
     },
     "execution_count": 118,
     "metadata": {},
     "output_type": "execute_result"
    },
    {
     "data": {
      "text/plain": [
       "Text(0.5,0,'$\\\\phi$ [-]')"
      ]
     },
     "execution_count": 118,
     "metadata": {},
     "output_type": "execute_result"
    },
    {
     "data": {
      "text/plain": [
       "Text(0,0.5,'$\\\\eta$ [-]')"
      ]
     },
     "execution_count": 118,
     "metadata": {},
     "output_type": "execute_result"
    },
    {
     "data": {
      "text/plain": [
       "<matplotlib.legend.Legend at 0x28e453317f0>"
      ]
     },
     "execution_count": 118,
     "metadata": {},
     "output_type": "execute_result"
    },
    {
     "data": {
      "image/png": "[encoded data removed]",
      "text/plain": [
       "<Figure size 432x288 with 1 Axes>"
      ]
     },
     "metadata": {},
     "output_type": "display_data"
    }
   ],
   "source": [
    "plt.plot(phi,Qc,'o',label = 'Numerical')\n",
    "#plt.plot(phir,Qcr,'o',label = 'Numerical')\n",
    "plt.plot(phi,eta2((W_mag_CB,W_mag_HB,Wp,Q_reg_HB,Q_pas_CB,Q_at_CB,Q_cas),M[0][0],M[0][1],M[0][2],M[0][3],M[0][4],M[0][5],M[0][6],M[0][7],M[0][8],M[0][9]),'o',label = 'Fitting')\n",
    "\n",
    "plt.xlabel('$\\phi$ [-]')\n",
    "plt.ylabel('$\\eta$ [-]')\n",
    "plt.legend()\n",
    "plt.grid()\n",
    "#plt.savefig('Fitting_Restricted_8_Reduced.png',format = 'png', dpi=1000,bbox_inches='tight')"
   ]
  },
  {
   "cell_type": "code",
   "execution_count": 212,
   "metadata": {},
   "outputs": [],
   "source": [
    "#Erro_rel = (Qc-eta((phi,L,D/L,ha,dT,CA_s,CA_f,ddT,C,E),M[0][0],M[0][1],M[0][2],M[0][3],M[0][4],M[0][5],M[0][6],M[0][7],M[0][8],M[0][9],M[0][10]))/Qc*100\n",
    "Erro_rel2 = (Qc-eta2((W_mag_CB,W_mag_HB,Wp,Q_reg_HB,Q_pas_CB,Q_at_CB,Q_cas),M1[0][0],M1[0][1],M1[0][2],M1[0][3],M1[0][4],M1[0][5],M1[0][6],M1[0][7],M1[0][8],M1[0][9]))/(Qc)*100"
   ]
  },
  {
   "cell_type": "code",
   "execution_count": 213,
   "metadata": {
    "scrolled": true
   },
   "outputs": [
    {
     "data": {
      "image/png": "[encoded data removed]",
      "text/plain": [
       "<Figure size 432x288 with 1 Axes>"
      ]
     },
     "metadata": {},
     "output_type": "display_data"
    }
   ],
   "source": [
    "#plt.plot(phi,abs(Erro_rel),'o')\n",
    "plt.plot(phi,abs(Erro_rel2),'o')\n",
    "plt.xlabel('$\\phi$ [-]')\n",
    "plt.ylabel('Error [$\\%$]')\n",
    "plt.grid()\n",
    "\n",
    "plt.savefig('Error_Restricted_8.png',format = 'png', dpi=1000,bbox_inches='tight')"
   ]
  },
  {
   "cell_type": "code",
   "execution_count": 138,
   "metadata": {},
   "outputs": [
    {
     "data": {
      "text/plain": [
       "21.684531197869152"
      ]
     },
     "execution_count": 138,
     "metadata": {},
     "output_type": "execute_result"
    }
   ],
   "source": [
    "max(abs(Erro_rel))"
   ]
  }
 ],
 "metadata": {
  "kernelspec": {
   "display_name": "Python 3",
   "language": "python",
   "name": "python3"
  },
  "language_info": {
   "codemirror_mode": {
    "name": "ipython",
    "version": 3
   },
   "file_extension": ".py",
   "mimetype": "text/x-python",
   "name": "python",
   "nbconvert_exporter": "python",
   "pygments_lexer": "ipython3",
   "version": "3.6.5"
  }
 },
 "nbformat": 4,
 "nbformat_minor": 2
}
