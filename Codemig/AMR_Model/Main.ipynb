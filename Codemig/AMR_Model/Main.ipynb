{
 "cells": [
  {
   "cell_type": "code",
   "execution_count": 1,
   "metadata": {},
   "outputs": [],
   "source": [
    "from numpy import *\n",
    "from scipy import *\n",
    "import numpy as np\n",
    "from matplotlib import *\n",
    "\n",
    "from scipy import integrate\n",
    "from scipy import interpolate\n",
    "from scipy.optimize import curve_fit\n",
    "import matplotlib.pyplot as plt\n",
    "\n",
    "import xlrd\n",
    "\n",
    "rc('text',usetex = True)\n",
    "rc('font', family='serif',size = 12)"
   ]
  },
  {
   "cell_type": "code",
   "execution_count": 2,
   "metadata": {},
   "outputs": [],
   "source": [
    "def Properties(C,dT,B_exp,K,B_l_int,B_h_int,T,N_ml): #Get the properties on the low and high field\n",
    "\n",
    "    C_l = zeros([N_ml,len(T)])\n",
    "    C_h = zeros([N_ml,len(T)])\n",
    "    dT_l = zeros([N_ml,len(T)])\n",
    "    dT_h = zeros([N_ml,len(T)])\n",
    "    \n",
    "\n",
    "    for i in range(K):\n",
    "        #print(B_exp[i],B_h_int)\n",
    "        if B_exp[i] == B_l_int:\n",
    "            for j in range(N_ml):\n",
    "                C_l[j][i]=C[j,i]\n",
    "                dT_l[j][i]=dT[j,i]\n",
    "\n",
    "        if B_exp[i] == B_h_int and B_exp[i-1]< B_h_int:\n",
    "            A = i\n",
    "        if B_exp[i] == B_h_int:\n",
    "            for j in range(N_ml):\n",
    "                C_h[j][i-A]=C[j,i]\n",
    "                dT_h[j][i-A]=dT[j,i]\n",
    "                \n",
    "    return(C_l,C_h,dT_l,dT_h)"
   ]
  },
  {
   "cell_type": "code",
   "execution_count": 3,
   "metadata": {},
   "outputs": [],
   "source": [
    "def SubMetrics(Th,Tc,T_l,T_layer,L_layer,C_h,C_l,dT_ad,dT_ad_d):\n",
    "\n",
    "    #Th = 312\n",
    "    #Tc = 282\n",
    "\n",
    "    C_mag = []\n",
    "    C_dmag = []\n",
    "    dT_mag = []\n",
    "    dT_dmag = []\n",
    "\n",
    "    T_int = np.arange(Tc,Th+0.01,0.1)\n",
    "\n",
    "\n",
    "    #T_layer = np.arange(282,310.1,30/(15))\n",
    "    #L_layer = (100/len(T_layer))*ones(len(T_layer))\n",
    "    N_l = len(T_layer)\n",
    "\n",
    "    A = np.int((Tc - min(T_exp))/0.1)\n",
    "\n",
    "\n",
    "\n",
    "    T_t = []\n",
    "    L = 0\n",
    "\n",
    "    for i in range(N_l):\n",
    "        L = L + L_layer[i]\n",
    "        T_tr = Tc + 0.001 +L/100*(Th-Tc)\n",
    "        T_t.append(T_tr)\n",
    "    \n",
    "    \n",
    "    k = 0    \n",
    "    for i in range (len(T_int)):\n",
    "        #print(T_int[i])\n",
    "        if T_int[i] <=T_t[k]:\n",
    "            #print(T_int[i],T_t[k])\n",
    "            for j in range(len(T_l)):\n",
    "                #print(T_layer[k],T_l[j])\n",
    "                if T_layer[k] >= T_l[j] and T_layer[k] < T_l[j+1]:\n",
    "                    #print('Hello')\n",
    "                    #print(T_int[i],T_t[k],T_layer[k],T_l[j],T_l[j+1])\n",
    "                    C_mag.append(C_h[j+1][int(i+A)]-(C_h[j+1][int(i+A)]-C_h[j][int(i+A)])*(T_l[j+1]-T_layer[k])/(T_l[j+1]-T_l[j]))\n",
    "                    C_dmag.append(C_l[j+1][int(i+A)]-(C_l[j+1][int(i+A)]-C_l[j][int(i+A)])*(T_l[j+1]-T_layer[k])/(T_l[j+1]-T_l[j]))\n",
    "                    dT_mag.append(dT_ad[j+1][int(i+A)]-(dT_ad[j+1][int(i+A)]-dT_ad[j][int(i+A)])*(T_l[j+1]-T_layer[k])/(T_l[j+1]-T_l[j]))\n",
    "                    dT_dmag.append(dT_ad_d[j+1][int(i+A)]-(dT_ad_d[j+1][int(i+A)]-dT_ad_d[j][int(i+A)])*(T_l[j+1]-T_layer[k])/(T_l[j+1]-T_l[j]))\n",
    "                    #print(T_int[i],C_h[j+1][int(i+A)],C_h[j][int(i+A)],(C_h[j+1][int(i+A)]-(C_h[j+1][int(i+A)]-C_h[j][int(i+A)])*(T_l[j+1]-T_layer[k])/(T_l[j+1]-T_l[j])))\n",
    "        else:\n",
    "            for j in range(len(T_l)):\n",
    "                if T_layer[k+1] >= T_l[j] and T_layer[k+1] < T_l[j+1]:\n",
    "                    C_mag.append(C_h[j][int(i+A)]+(C_h[j+1][int(i+A)]-C_h[j][int(i+A)])*(T_layer[k+1]-T_l[j])/(T_l[j+1]-T_l[j]))\n",
    "                    C_dmag.append(C_l[j][int(i+A)]+(C_l[j+1][int(i+A)]-C_l[j][int(i+A)])*(T_layer[k+1]-T_l[j])/(T_l[j+1]-T_l[j]))\n",
    "                    dT_mag.append(dT_ad[j][int(i+A)]+(dT_ad[j+1][int(i+A)]-dT_ad[j][int(i+A)])*(T_layer[k+1]-T_l[j])/(T_l[j+1]-T_l[j]))\n",
    "                    dT_dmag.append(dT_ad_d[j][int(i+A)]+(dT_ad_d[j+1][int(i+A)]-dT_ad_d[j][int(i+A)])*(T_layer[k+1]-T_l[j])/(T_l[j+1]-T_l[j]))\n",
    "                    #print(T_int[i],C_h[j+1][int(i+A)],C_h[j][int(i+A)],T_l[j+1],T_l[j],T_layer[k],(C_h[j+1][int(i+A)]-(C_h[j+1][int(i+A)]-C_h[j][int(i+A)])*(T_l[j+1]-T_layer[k])/(T_l[j+1]-T_l[j])))\n",
    "            k = k + 1\n",
    "\n",
    "            \n",
    "    return (C_mag,C_dmag,dT_mag,dT_dmag)"
   ]
  },
  {
   "cell_type": "code",
   "execution_count": 4,
   "metadata": {},
   "outputs": [],
   "source": [
    "def Parameters(C_mag,C_dmag,dT_mag,dT_dmag,T_int):\n",
    "\n",
    "    C_mag_mean   = integrate.simps(C_mag,T_int)/(max(T_int)-min(T_int))\n",
    "    C_dmag_mean  = integrate.simps(C_dmag,T_int)/(max(T_int)-min(T_int))\n",
    "    \n",
    "    dT_mag_mean  = integrate.simps(dT_mag,T_int)/(max(T_int)-min(T_int))\n",
    "    dT_dmag_mean = integrate.simps(dT_dmag,T_int)/(max(T_int)-min(T_int))\n",
    "    \n",
    "    CdT_mag_mean   = integrate.simps(np.array(C_mag)*np.array(dT_mag),T_int)/(max(T_int)-min(T_int))\n",
    "    CdT_dmag_mean  = integrate.simps(np.array(C_dmag)*np.array(dT_dmag),T_int)/(max(T_int)-min(T_int))\n",
    "    return C_mag_mean, C_dmag_mean, dT_mag_mean,dT_dmag_mean,CdT_mag_mean,CdT_dmag_mean"
   ]
  },
  {
   "cell_type": "code",
   "execution_count": 5,
   "metadata": {},
   "outputs": [],
   "source": [
    "def Metrics (SpecHeat,dTad,B_l_int,B_h_int,T_arg,N_ml,Th,Tc,T_l,T_layer,L_layer):\n",
    "    (C_l,C_h,dT_l,dT_h) = Properties(C,dT,np.round(B_exp,2),K,B_l_int,B_h_int,T_arg,N_ml) #Properties of low and high fields\n",
    "    dT_ad = np.array(dT_h)-np.array(dT_l)\n",
    "             \n",
    "    T_dem = zeros([N_ml,len(T_arg)])\n",
    "    for j in range(N_ml):\n",
    "        T_dem[j] = T_arg + dT_ad[j]\n",
    "             \n",
    "    dT_ad_d = np.zeros([N_ml,len(T_arg)])\n",
    "    for i in range(N_ml):\n",
    "        for j in range(len(T_arg)):\n",
    "            for k in range(len(T_dem[i])):\n",
    "                if  T_arg[j] > T_dem[i][k] and T_arg[j] <= T_dem[i][k+1]:\n",
    "                    dT_ad_d[i][j] = (dT_ad[i][k] + (T_arg[j] - T_dem[i][k])*(dT_ad[i][k+1]-dT_ad[i][k])/(T_arg[k+1]-T_arg[k]))\n",
    "\n",
    "    (C_mag,C_dmag,dT_mag,dT_dmag) = SubMetrics(Th,Tc,T_l,T_layer,L_layer,C_h,C_l,dT_ad,dT_ad_d)\n",
    "    \n",
    "    T_int = np.arange(Tc,Th+0.01,0.1)\n",
    "    \n",
    "    C_mag_mean, C_dmag_mean, dT_mag_mean,dT_dmag_mean,CdT_mag_mean,CdT_dmag_mean = Parameters(C_mag,C_dmag,dT_mag,dT_dmag,T_int)\n",
    "    \n",
    "    return C_mag_mean, C_dmag_mean, dT_mag_mean,dT_dmag_mean,CdT_mag_mean,CdT_dmag_mean"
   ]
  },
  {
   "cell_type": "markdown",
   "metadata": {},
   "source": [
    "HEx inputs"
   ]
  },
  {
   "cell_type": "code",
   "execution_count": 6,
   "metadata": {},
   "outputs": [],
   "source": [
    "def fan(V,a,b,c):\n",
    "    P = a*V**2+b*V + c\n",
    "    return P"
   ]
  },
  {
   "cell_type": "code",
   "execution_count": 7,
   "metadata": {},
   "outputs": [],
   "source": [
    "N_r = 3\n",
    "N_l = 4\n",
    "Xt = 0.2\n",
    "Xl = 0.3\n",
    "L2 = N_r*Xl\n",
    "L3 = Xt*N_l"
   ]
  },
  {
   "cell_type": "code",
   "execution_count": 8,
   "metadata": {},
   "outputs": [
    {
     "data": {
      "text/plain": [
       "(0.8999999999999999, 0.8)"
      ]
     },
     "execution_count": 8,
     "metadata": {},
     "output_type": "execute_result"
    }
   ],
   "source": [
    "L2,L3"
   ]
  },
  {
   "cell_type": "code",
   "execution_count": 9,
   "metadata": {},
   "outputs": [],
   "source": [
    "if N_r%2 == 0:\n",
    "    arranjo = 2\n",
    "else:\n",
    "    arranjo = 1\n",
    "\n",
    "if arranjo == 0:\n",
    "    N_t = L2*L3/(Xt*Xl)\n",
    "elif arranjo == 1:\n",
    "    N_t = (L3/Xt)*(L2/Xl+1)/2 + (L3/Xt-1)*(L2/Xl-1)/2\n",
    "elif arranjo == 2:\n",
    "    N_t = 0.5*(L2/Xl)*(2*L3/Xt-1)"
   ]
  },
  {
   "cell_type": "code",
   "execution_count": 10,
   "metadata": {},
   "outputs": [
    {
     "data": {
      "text/plain": [
       "(1, 11.0)"
      ]
     },
     "execution_count": 10,
     "metadata": {},
     "output_type": "execute_result"
    }
   ],
   "source": [
    "arranjo,N_t"
   ]
  },
  {
   "cell_type": "code",
   "execution_count": 11,
   "metadata": {},
   "outputs": [],
   "source": [
    "def HEx(Xl,Xt,N_r,N_l,L1,Di,De,pf,xf,sigmaf,sigmah,pd,m_f,Nucleos):\n",
    "    \n",
    "    #Geometric definition\n",
    "    #Xt = 0.0381\n",
    "    #Xl = 0.033\n",
    "    \n",
    "    #N_r = 3\n",
    "    L2 = N_r*Xl\n",
    "    L3 = N_l*Xt\n",
    "    \n",
    "    #L2 = 0.033*4 #0.0215 #0.043\n",
    "      #0.125 #0.152\n",
    "\n",
    "    #Di = 0.01588 #694\n",
    "    #De = 0.0163 #794\n",
    "\n",
    "\n",
    "    \n",
    "    #pf = 1/Beta\n",
    "    #Nfin =100\n",
    "    #Beta = Nfin/L1   #Fin density [1/m]\n",
    "    \n",
    "    #pf = 5*10**-3\n",
    "    Beta = 1/pf\n",
    "    Nfin = Beta*L1\n",
    "    \n",
    "    #xf = 0.007\n",
    "    \n",
    "    #sigmaf = 0.00015\n",
    "    #sigmah = 0.0016\n",
    "    \n",
    "    #pd = 0.0018\n",
    "    \n",
    "    \n",
    "    \n",
    "    #Properties of air at 25ºC\n",
    "    \n",
    "    rho_a = 1.168      #[kg/m3] Density\n",
    "    mu_a  = 0.00001849 #[kg/(m.s)] Viscosity\n",
    "    cp_a  = 1004      #[kJ/kg.K] Specific heat\n",
    "    Pr_a  = 0.7281     #[-] Prandtl number\n",
    "    \n",
    "    #Properties of the wall\n",
    "    \n",
    "    k_w = 273 #[W/m.K] Thermal conductivity of the aluminum\n",
    "    \n",
    "    #Properties of the water\n",
    "    \n",
    "    rho_w = 997        #[kg/m3] Density (25ºC)\n",
    "    cp_w  = 4181       #[kJ/kg.K] Specific heat\n",
    "    mu_wc = 0.001138   #[kg/(m.s)] Viscosity in the cold line (15ºC)\n",
    "    mu_wh = 0.0007193  #[kg/(m.s)] Viscosity in the hot line (35ºC)\n",
    "    Pr_wc = 8.092      #[-] Prandtl number in the cold line (15ºC)\n",
    "    Pr_wh = 4.835      #[-] Prandtl number in the hot line  (35ºC)\n",
    "    k_wc = 0.5888      #[-] Thermal conductivity in the cold line (15ºC)\n",
    "    k_wh = 0.6217      #[-] Thermal conductivity in the hot line (35ºC)\n",
    "    \n",
    "    #Geometric calculation\n",
    "    \n",
    "    \n",
    "    # Arranjo == 0 - Inline arrangement\n",
    "    # Arranjo == 1 - Staggered Arrangement - Numero impar de fileiras - Última fila com o mesmo numero de tubos que a primeira\n",
    "    # Arranjo == 2 - Staggered Arrangement - Numero par de fileiras   - Última fila com um tubo a menos que a primeira\n",
    "    \n",
    "    \n",
    "    arranjo = 1\n",
    "    \n",
    "    N_t = N_r*N_l\n",
    "    \n",
    "    #print(L1,L2,L3,N_r,N_l,N_t,Nucleos)\n",
    "    \n",
    "    #if N_r%2 == 0:\n",
    "        #arranjo = 2\n",
    "    #else:\n",
    "        #arranjo = 1\n",
    "    \n",
    "       \n",
    "    #if arranjo == 0:\n",
    "        #N_t = L2*L3/(Xt*Xl)\n",
    "    #elif arranjo == 1:\n",
    "        #N_t = (L3/Xt)*(L2/Xl+1)/2 + (L3/Xt-1)*(L2/Xl-1)/2\n",
    "    #elif arranjo == 2:\n",
    "        #N_t = 0.5*(L2/Xl)*(2*L3/Xt-1)\n",
    "        \n",
    "    \n",
    "    dc = De + 2*sigmaf\n",
    "    \n",
    "    theta = np.arctan(pd/xf)\n",
    "\n",
    "\n",
    "    \n",
    "    \n",
    "    if arranjo  == 0:\n",
    "        A_min_o = ((Xt-De)*L1 - (Xt-De)*sigmaf*Beta*L1)*L3/Xt #Minimum free flow area\n",
    "    else:\n",
    "        a = ((Xt - De) - (Xt - De)*sigmaf*Beta)/2\n",
    "        b = ((Xt/2)**2+Xl**2)**0.5 - De - (Xt-De)*sigmaf*Beta\n",
    "        if a<b:\n",
    "            c = 2*a\n",
    "        else:\n",
    "            c = 2*b\n",
    "        A_min_o = ((L3/Xt-1)*c + (Xt-De)-(Xt-De)*sigmaf*Beta)*L1 #Minimum free flow area\n",
    "    \n",
    "    \n",
    "    A_fr = L1*L3 #Frontal area\n",
    "    sigma = A_min_o/A_fr\n",
    "    \n",
    "    \n",
    "    A_p = np.pi*De*(L1-sigmaf*Beta*L1)*N_t+2*(L2*L3 - np.pi*De**2*N_t/4) #Primary surface area  - exposed tubes and header plates\n",
    "    A_f = 2*(L2*L3-(np.pi*De**2/4)*N_t)*Beta*L1 + 2*L3*sigmaf*Beta*L1     #Secondary surface are - fin surface\n",
    "    A_s = A_p + A_f       #Total heat transfer area\n",
    "    A_t = np.pi*De*L1*N_t #External tube area\n",
    "    \n",
    "    sigma_o = (L3*L1 - L3*sigmaf*Beta*L1)/(L3*L1) #area concentration/expansion ratio\n",
    "    D_h = 4*A_min_o*L2/A_s #Hydraulic diameter\n",
    "    #print(D_h*1000,Beta,pf*1000)\n",
    "    #Correlation parameters\n",
    "    \n",
    "    c1 = -0.1707 - 1.374*((Xl/sigmaf)**(-0.493))*((pf/dc)**(-0.886))*((N_r)**(-0.143))*((pd/xf)**(-0.0296))\n",
    "    c2 = 0.1714 - 0.07372*((pf/Xl)**0.25)*(np.log(A_s/A_t))*((pd/xf)**(-0.2))\n",
    "    c3 = 0.426*((pf/Xt)**0.3)*(np.log(A_s/A_t))\n",
    "    \n",
    "    VFR = np.arange(1,2000,1)\n",
    "    dP_o = np.zeros(len(VFR))\n",
    "    Rt_o = np.zeros(len(VFR))\n",
    "    Re = np.zeros(len(VFR)) \n",
    "    for i in range(len(VFR)):\n",
    "        vazao = VFR[i]*0.00047194745\n",
    "        \n",
    "        u_air = vazao/(L1*L3)\n",
    "        u_max = u_air/sigma\n",
    "        \n",
    "        Re[i] = u_max*rho_a*dc/(mu_a)\n",
    "\n",
    "        \n",
    "        c4 = -10.2192/np.log(Re[i])\n",
    "        \n",
    "        \n",
    "        #Pressure drop correlation\n",
    "        f_o  = 0.05273*(Re[i]**c2)*((pd/xf)**c3)*((pf/Xt)**c4)*((np.log(A_s/A_t))**(-2.726))*(D_h/dc)**0.1325*((N_r)**0.02305)\n",
    "        \n",
    "        G_o = rho_a*u_max\n",
    "        \n",
    "        dP_o[i] = G_o**2/(2*rho_a)*((f_o)*(A_s/A_min_o))\n",
    "        #Coulburn factor\n",
    "        \n",
    "        j_o = 1.7910*((Re[i])**c1)*((Xl/sigmaf)**(-0.456))*((N_r)**(-0.27))*((pf/dc)**(-1.343))*((pd/xf)**0.317)\n",
    "        h_o = j_o*rho_a*u_max*cp_a*Pr_a**(-0.66666)\n",
    "        \n",
    "        #Fin efficiency\n",
    "        \n",
    "        m = ((2*h_o)/(k_w*sigmaf))**0.5\n",
    "        \n",
    "        Pm = Xt/2\n",
    "        Pl = (((Xt/2)**2+Xl**2)**0.5)/2\n",
    "        R_eq = 1.27*Pm*(Pl/Pm-0.3)**0.5\n",
    "        phi = (R_eq/(Di/2)-1)*(1+0.35*np.log(R_eq/(Di/2)))\n",
    "        eta = math.tanh(m*(Di/2)*phi)/(m*(Di/2)*phi)\n",
    "        eta_o = 1 - (A_f/A_s)*(1-eta)\n",
    "        \n",
    "        Rt_o[i] = 1/(eta_o*h_o*A_s)\n",
    "    \n",
    "    \n",
    "    \n",
    "    #Internal flow\n",
    "    \n",
    "    Lh=(L1+2*sigmah)*N_t\n",
    "    A_i = np.pi*Di*L1*N_t\n",
    "    A_min_i = np.pi*(Di**2)/4\n",
    "    G_i = m_f/A_min_i\n",
    "    \n",
    "    Re_ic = G_i*Di/mu_wc \n",
    "    Re_ih = G_i*Di/mu_wh\n",
    "    \n",
    "    A_c = (2.457*np.log(1/((7/Re_ic)**0.9+0.27*(0.0015*10**(-3)/Di))))**16\n",
    "    B_c = (37530/Re_ic)**16\n",
    "    \n",
    "    A_h = (2.457*np.log(1/((7/Re_ih)**0.9+0.27*(0.0015*10**(-3)/Di))))**16\n",
    "    B_h = (37530/Re_ih)**16\n",
    "    \n",
    "    f_c = (8*((8/Re_ic)**12 + (A_c + B_c)**(-3/2))**(1/12))/4\n",
    "    f_h = (8*((8/Re_ih)**12 + (A_h + B_h)**(-3/2))**(1/12))/4\n",
    "    \n",
    "    if Re_ih < 2300:\n",
    "        Nu_ih = 3.66\n",
    "    else:\n",
    "        Nu_ih = ((f_h/2)*(Re_ih-1000)*Pr_wh)/(1+12.7*((f_h/2)**0.5)*(Pr_wh**(2/3)-1))\n",
    "                                              \n",
    "    if Re_ic < 2300:\n",
    "        Nu_ic = 3.66\n",
    "    else:\n",
    "        Nu_ic = ((f_c/2)*(Re_ic-1000)*Pr_wc)/(1+12.7*((f_c/2)**0.5)*(Pr_wc**(2/3)-1))   \n",
    "    \n",
    "    \n",
    "    h_i_c = Nu_ic*k_wc/Di\n",
    "    h_i_h = Nu_ih*k_wh/Di\n",
    "       \n",
    "    #print(Nu_ic, h_i_c,f_c,Re_ic)    \n",
    "    \n",
    "    Rt_i_c = 1/(h_i_c*A_i)\n",
    "    Rt_i_h = 1/(h_i_h*A_i)\n",
    "    \n",
    "    K_bend = 26\n",
    "    dP_i_c = f_c*G_i**2*4*(Lh/Di+N_t*np.pi*Xt/2/Di + N_t*K_bend)/(2*rho_w)  #f_c*G_i**2*4*50/(2*rho_w)\n",
    "    dP_i_h = f_h*G_i**2*4*(Lh/Di+N_t*np.pi*Xt/2/Di + N_t*K_bend)/(2*rho_w) #f_c*G_i**2*4*50/(2*rho_w)\n",
    "    #http://hydroneng.com/pipelines/\n",
    "    #http://www.thermopedia.com/content/577/\n",
    "    #print(200*f_c,np.pi*Xt/2,Lh)\n",
    "                                              \n",
    "    W_p_c = dP_i_c*m_f/rho_w\n",
    "    W_p_h = dP_i_h*m_f/rho_w\n",
    "    \n",
    "    \n",
    "    #Performance metrics\n",
    "    \n",
    "    UA_h = (Rt_o+Rt_i_h)**-1\n",
    "    UA_c = (Rt_o+Rt_i_c)**-1\n",
    "    #print(UA_h,UA_c)\n",
    "    W_o = VFR*0.00047194745*dP_o/0.1\n",
    "    \n",
    "    NTU_c = UA_c/(VFR*0.00047194745*rho_a*cp_a)\n",
    "    NTU_h = UA_h/(VFR*0.00047194745*rho_a*cp_a)\n",
    "    \n",
    "    C_r = (VFR*0.00047194745*rho_a*cp_a)/(m_f*cp_w)\n",
    "    \n",
    "    if N_r == 1:\n",
    "        Eff_h = (1-np.exp(-C_r*(1-np.exp(-NTU_h))))/C_r\n",
    "        Eff_c = (1-np.exp(-C_r*(1-np.exp(-NTU_c))))/C_r\n",
    "    elif N_r == 2:\n",
    "        K = (1-np.exp(-NTU_h/2))\n",
    "        Eff_h = (1-np.exp(-2*K*C_r)*((1+C_r*K**2)))/C_r\n",
    "        K = (1-np.exp(-NTU_c/2))\n",
    "        Eff_c = (1-np.exp(-2*K*C_r)*((1+C_r*K**2)))/C_r\n",
    "    elif N_r == 3:\n",
    "        K = (1-np.exp(-NTU_h/3))\n",
    "        Eff_h = (1-np.exp(-3*K*C_r)*(1+C_r*K**2*(3-K)+3*C_r**2*K**4/2))/C_r\n",
    "        K = (1-np.exp(-NTU_c/3))\n",
    "        Eff_c = (1-np.exp(-3*K*C_r)*(1+C_r*K**2*(3-K)+3*C_r**2*K**4/2))/C_r\n",
    "    elif N_r ==4:\n",
    "        K = (1-np.exp(-NTU_h/4))\n",
    "        Eff_h = (1-np.exp(-4*K*C_r)*(1+C_r*K**2*(6-4*K+K**2)+4*C_r**2*K**4*(2-K)+8*C_r**3*K**6/3))/C_r\n",
    "        K = (1-np.exp(-NTU_c/4))\n",
    "        Eff_c = (1-np.exp(-4*K*C_r)*(1+C_r*K**2*(6-4*K+K**2)+4*C_r**2*K**4*(2-K)+8*C_r**3*K**6/3))/C_r\n",
    "    else:\n",
    "        Eff_h = 1 - np.exp(NTU_h**0.22*(np.exp(-C_r*NTU_h**0.78)-1)/C_r)\n",
    "        Eff_c = 1 - np.exp(NTU_c**0.22*(np.exp(-C_r*NTU_c**0.78)-1)/C_r)\n",
    "    \n",
    "    \n",
    "    \n",
    "    ECr_c = Eff_c*C_r\n",
    "    ECr_h = Eff_h*C_r\n",
    "    \n",
    "    #Fan\n",
    "    \n",
    "    #https://www.ebmpapst.com/en/products/axial-fans/axialfansdetail.php?pID=139216\n",
    "    #https://www.ebmpapst.com/en/products/axial-fans/axialfansdetail.php?pID=128164\n",
    "    \n",
    "    dP_low = np.array([37,35,30,22,11,0]) \n",
    "    V_low  = np.array([1000,1250,1500,1750,2000,2250])*0.588578/Nucleos\n",
    "    #V_low  = np.array([2500,2700,3000,3400,3700,4250])*0.588578/Nucleos\n",
    "    \n",
    "    #dP_low = np.array([40,30,20,10,0])\n",
    "    #V_low = np.array([2000,2400,2700,3000,3250])*0.588578/Nucleos\n",
    "    \n",
    "    \n",
    "    #dP_v = np.array([0,7,20,32,40,47,54])\n",
    "    #V = np.array([2900,2750,2500,2250,2000,1750,1500])*0.588578\n",
    "    \n",
    "    \n",
    "    #https://www.coolstore.pl/data/links/14dfdc7caabd364370879f08e2576560/4244_370.pdf\n",
    "    #https://www.coolstore.pl/data/links/ebe5db23a298ac8d489ecac34f4111d0/4246_374.pdf\n",
    "    \n",
    "    dP_high = np.array([120,115,105,95,75,55,30,0])\n",
    "    V_high  = np.array([2000,1500,2000,2500,3000,3500,4000,4500])*0.588578\n",
    "    \n",
    "    Coef_fan_l = curve_fit(fan,V_low,dP_low,maxfev=10000)\n",
    "    Coef_fan_h = curve_fit(fan,V_high,dP_high,maxfev=1000)\n",
    "    \n",
    "    aux_low = fan(VFR,Coef_fan_l[0][0],Coef_fan_l[0][1],Coef_fan_l[0][2])-dP_o\n",
    "    Inter_low = np.abs(aux_low).argmin()\n",
    "    \n",
    "    \n",
    "    erro_dp = abs(dP_o[Inter_low] - fan(VFR[Inter_low],Coef_fan_l[0][0],Coef_fan_l[0][1],Coef_fan_l[0][2]))\n",
    "    \n",
    "    if erro_dp > 1:\n",
    "        print(dP_o[Inter_low],fan(VFR[Inter_low],Coef_fan_l[0][0],Coef_fan_l[0][1],Coef_fan_l[0][2]))\n",
    "    \n",
    "    aux_high = fan(VFR,Coef_fan_h[0][0],Coef_fan_h[0][1],Coef_fan_h[0][2])-dP_o\n",
    "    Inter_high = np.abs(aux_high).argmin() \n",
    "    \n",
    "    #print(UA_c[Inter_low],Eff_c[Inter_low],C_r[Inter_low],m_f*3600,VFR[Inter_low],VFR[Inter_low]*Nucleos)\n",
    "\n",
    "    return(W_o[Inter_low],ECr_c[Inter_low],ECr_h[Inter_low],dP_o[Inter_low],N_r,N_l,L1,pf,W_p_c,W_p_h,VFR[Inter_low],erro_dp,Eff_c[Inter_low],Eff_h[Inter_low])"
   ]
  },
  {
   "cell_type": "code",
   "execution_count": 12,
   "metadata": {
    "scrolled": true
   },
   "outputs": [
    {
     "data": {
      "text/plain": [
       "(80.64796608589468,\n",
       " 4.1891558981266286e-05,\n",
       " 4.189350357330923e-05,\n",
       " 37.639506648282826,\n",
       " 1,\n",
       " 5,\n",
       " 0.11,\n",
       " 0.004,\n",
       " 4081574508.1482077,\n",
       " 4075351699.4919033,\n",
       " 454,\n",
       " 0.05851595900664819,\n",
       " 0.10456152220779373,\n",
       " 0.10456637591839865)"
      ]
     },
     "execution_count": 12,
     "metadata": {},
     "output_type": "execute_result"
    }
   ],
   "source": [
    "HEx(27.5*10**-3,31.75*10**-3,1,5,0.11,0.00694,0.00794,4*10**-3,7*10**-3,0.15*10**-3, 0.00030,0.0018,150,1)"
   ]
  },
  {
   "cell_type": "code",
   "execution_count": 13,
   "metadata": {},
   "outputs": [
    {
     "ename": "NameError",
     "evalue": "name 'Nucleos' is not defined",
     "output_type": "error",
     "traceback": [
      "\u001b[1;31m---------------------------------------------------------------------------\u001b[0m",
      "\u001b[1;31mNameError\u001b[0m                                 Traceback (most recent call last)",
      "\u001b[1;32m<ipython-input-13-5754a4218636>\u001b[0m in \u001b[0;36m<module>\u001b[1;34m\u001b[0m\n\u001b[0;32m      1\u001b[0m \u001b[1;31m#Nucleos = np.array([1,2,4,8,16])\u001b[0m\u001b[1;33m\u001b[0m\u001b[1;33m\u001b[0m\u001b[1;33m\u001b[0m\u001b[0m\n\u001b[1;32m----> 2\u001b[1;33m \u001b[1;36m3040\u001b[0m\u001b[1;33m/\u001b[0m\u001b[0mNucleos\u001b[0m\u001b[1;33m\u001b[0m\u001b[1;33m\u001b[0m\u001b[0m\n\u001b[0m",
      "\u001b[1;31mNameError\u001b[0m: name 'Nucleos' is not defined"
     ]
    }
   ],
   "source": [
    "#Nucleos = np.array([1,2,4,8,16])\n",
    "3040/Nucleos"
   ]
  },
  {
   "cell_type": "code",
   "execution_count": null,
   "metadata": {},
   "outputs": [],
   "source": [
    "sigmaf = 0.00010 #0.00015\n",
    "sigmah = 0.00030 #0.0016\n",
    "pd = 0.0018\n",
    "\n",
    "Di = 0.0117\n",
    "De = 0.0127\n",
    "\n",
    "Nucleos = 7\n",
    "\n",
    "#De = np.array(0.0127,0.01588,(0.01588-0.0127)/2)\n",
    "#Di = De - 0.0015\n",
    "\n",
    "#N_circuitos = 10\n",
    "\n",
    "m_f = np.arange(4*640/3600/Nucleos,4*650/3600/Nucleos,4*5/3600/Nucleos) #3040/3600/Nucleos #\n",
    "\n",
    "#Xt = np.arange(31.75*10**-3,1.01*38.1*10**-3,(38.1*10**-3-31.75*10**-3)/2)\n",
    "\n",
    "Xt = (31.75*10**-3)\n",
    "\n",
    "#Xl = np.arange(27.5*10**-3,1.01*33*10**-3,(33*10**-3-27.5*10**-3)/2)\n",
    "\n",
    "Xl = 27.5*10**-3\n",
    "\n",
    "pf = np.array([6,8,10,12,15])*10**-3#np.array([2.1,3.175,5.08,6.3])*10**-3 #np.array([2.1,2.54,3.175,4.2333,5.08,6.3])*10**-3 #np.arange(2.1*10**-3,1.01*6.3*10**-3,(6.3*10**-3-2.1*10**-3)/5) #min = 2.98 mm\n",
    "\n",
    "N_r = np.arange(3,10.1,1)\n",
    "\n",
    "#N_r = 3\n",
    "\n",
    "N_l =[1,2]\n",
    "\n",
    "#N_l = 30\n",
    "L1  = np.arange(0.7,0.9,0.05) #np.arange(0.4,0.73,0.05)\n",
    "\n",
    "#L1 = 0.8\n",
    "#xf = np.arange(6.87*10**-3,1.01*8.25*10**-3,(8.25*10**-3-6.87*10**-3))\n",
    "\n",
    "xf = 7*10**-3\n",
    "#sigmaf = np.arange(0.00010,0.00021,0.00005)\n",
    "\n",
    "sigmaf = 0.15*10**-3"
   ]
  },
  {
   "cell_type": "code",
   "execution_count": null,
   "metadata": {
    "scrolled": true
   },
   "outputs": [],
   "source": [
    "W_l = np.zeros([size(m_f),size(Xl),size(Xt),size(N_r),size(N_l),size(L1),size(pf),size(xf),size(sigmaf)])\n",
    "W_h = np.zeros([size(m_f),size(Xl),size(Xt),size(N_r),size(N_l),size(L1),size(pf),size(xf),size(sigmaf)])\n",
    "\n",
    "W_p_h = np.zeros([size(m_f),size(Xl),size(Xt),size(N_r),size(N_l),size(L1),size(pf),size(xf),size(sigmaf)])\n",
    "W_p_c = np.zeros([size(m_f),size(Xl),size(Xt),size(N_r),size(N_l),size(L1),size(pf),size(xf),size(sigmaf)])\n",
    "\n",
    "\n",
    "ECr_c_l = np.zeros([size(m_f),size(Xl),size(Xt),size(N_r),size(N_l),size(L1),size(pf),size(xf),size(sigmaf)])\n",
    "ECr_h_l = np.zeros([size(m_f),size(Xl),size(Xt),size(N_r),size(N_l),size(L1),size(pf),size(xf),size(sigmaf)])\n",
    "\n",
    "E_c = np.zeros([size(m_f),size(Xl),size(Xt),size(N_r),size(N_l),size(L1),size(pf),size(xf),size(sigmaf)])\n",
    "E_h = np.zeros([size(m_f),size(Xl),size(Xt),size(N_r),size(N_l),size(L1),size(pf),size(xf),size(sigmaf)])"
   ]
  },
  {
   "cell_type": "code",
   "execution_count": null,
   "metadata": {},
   "outputs": [],
   "source": [
    "ECr_c_h = np.zeros([size(m_f),size(Xl),size(Xt),size(N_r),size(N_l),size(L1),size(pf),size(xf),size(sigmaf)])\n",
    "ECr_h_h = np.zeros([size(m_f),size(Xl),size(Xt),size(N_r),size(N_l),size(L1),size(pf),size(xf),size(sigmaf)])\n",
    "\n",
    "\n",
    "print(size(W_l))\n",
    "\n",
    "dP_o = np.zeros([size(m_f),size(Xl),size(Xt),size(N_r),size(N_l),size(L1),size(pf),size(xf),size(sigmaf)])\n",
    "Nr= np.zeros([size(m_f),size(Xl),size(Xt),size(N_r),size(N_l),size(L1),size(pf),size(xf),size(sigmaf)])\n",
    "Nl = np.zeros([size(m_f),size(Xl),size(Xt),size(N_r),size(N_l),size(L1),size(pf),size(xf),size(sigmaf)])\n",
    "L_1 = np.zeros([size(m_f),size(Xl),size(Xt),size(N_r),size(N_l),size(L1),size(pf),size(xf),size(sigmaf)])\n",
    "p_f = np.zeros([size(m_f),size(Xl),size(Xt),size(N_r),size(N_l),size(L1),size(pf),size(xf),size(sigmaf)])\n",
    "CFM = np.zeros([size(m_f),size(Xl),size(Xt),size(N_r),size(N_l),size(L1),size(pf),size(xf),size(sigmaf)])\n",
    "erro_dp = np.zeros([size(m_f),size(Xl),size(Xt),size(N_r),size(N_l),size(L1),size(pf),size(xf),size(sigmaf)])"
   ]
  },
  {
   "cell_type": "code",
   "execution_count": null,
   "metadata": {
    "scrolled": true
   },
   "outputs": [],
   "source": [
    "w = 0\n",
    "\n",
    "for p in range(len(m_f)):\n",
    "    for i in range(size(Xl)):\n",
    "        for j in range(size(Xt)):\n",
    "            for k in range(size(N_r)):\n",
    "                for l in range(size(N_l)):\n",
    "                    for m in range(size(L1)):\n",
    "                        for n in range(size(pf)):\n",
    "                            for o in range(size(xf)):\n",
    "                                for q in range(size(sigmaf)):\n",
    "                                    A,B,C,D,E,F,G,H,I,J,K,O,P,Q = HEx(Xl,Xt,N_r[k],N_l[l],L1[m],Di,De,pf[n],xf,sigmaf,sigmah,pd,m_f[p],Nucleos)\n",
    "                                    \n",
    "                                    W_l[p][i][j][k][l][m][n][o][q] = A\n",
    "                                    ECr_c_l[p][i][j][k][l][m][n][o][q] = B\n",
    "                                    ECr_h_l[p][i][j][k][l][m][n][o][q] = C\n",
    "                                    E_c[p][i][j][k][l][m][n][o][q] = P\n",
    "                                    E_h[p][i][j][k][l][m][n][o][q] = Q\n",
    "                                    dP_o[p][i][j][k][l][m][n][o][q] = D\n",
    "                                    \n",
    "                                    Nr[p][i][j][k][l][m][n][o][q] = E\n",
    "                                    Nl[p][i][j][k][l][m][n][o][q] = F\n",
    "                                    L_1[p][i][j][k][l][m][n][o][q] = G\n",
    "                                    p_f[p][i][j][k][l][m][n][o][q] = H\n",
    "                                   \n",
    "                                    \n",
    "                                    W_p_h[p][i][j][k][l][m][n][o][q] = I\n",
    "                                    W_p_c[p][i][j][k][l][m][n][o][q] = J\n",
    "                                    CFM[p][i][j][k][l][m][n][o][q] = K\n",
    "                                    erro_dp[p][i][j][k][l][m][n][o][q] = O\n",
    "                                \n",
    "                                    #print(F,G)\n",
    "                                    w = w+1\n",
    "                        print(w/size(W_l)*100)"
   ]
  },
  {
   "cell_type": "code",
   "execution_count": null,
   "metadata": {},
   "outputs": [],
   "source": [
    "#L1,L2,L3,Xl,N_l,N_t,Nucleo"
   ]
  },
  {
   "cell_type": "code",
   "execution_count": null,
   "metadata": {
    "scrolled": false
   },
   "outputs": [],
   "source": [
    "print(L1,L2,L3,Xl,Xt,N_r,N_l)"
   ]
  },
  {
   "cell_type": "code",
   "execution_count": null,
   "metadata": {},
   "outputs": [],
   "source": [
    "W_array_L = np.zeros([size(m_f),np.int(size(W_l)/size(m_f))])\n",
    "Ec_array_L = np.zeros([size(m_f),np.int(size(W_l)/size(m_f))])\n",
    "Eh_array_L = np.zeros([size(m_f),np.int(size(W_l)/size(m_f))])\n",
    "\n",
    "E_array_h = np.zeros([size(m_f),np.int(size(W_l)/size(m_f))])\n",
    "E_array_c = np.zeros([size(m_f),np.int(size(W_l)/size(m_f))])\n",
    "dP_o_array_L = np.zeros([size(m_f),np.int(size(W_h)/size(m_f))])\n",
    "\n",
    "Nr_array = np.zeros([size(m_f),np.int(size(W_h)/size(m_f))])\n",
    "Nl_array = np.zeros([size(m_f),np.int(size(W_h)/size(m_f))])\n",
    "L1_array = np.zeros([size(m_f),np.int(size(W_h)/size(m_f))])\n",
    "pf_array = np.zeros([size(m_f),np.int(size(W_h)/size(m_f))])\n",
    "\n",
    "W_array_H = np.zeros([size(m_f),np.int(size(W_h)/size(m_f))])\n",
    "Ec_array_H = np.zeros([size(m_f),np.int(size(W_h)/size(m_f))])\n",
    "Eh_array_H = np.zeros([size(m_f),np.int(size(W_h)/size(m_f))])\n",
    "\n",
    "W_p_h_array = np.zeros([size(m_f),np.int(size(W_h)/size(m_f))])\n",
    "W_p_c_array = np.zeros([size(m_f),np.int(size(W_l)/size(m_f))])\n",
    "\n",
    "Nr_array = np.zeros([size(m_f),np.int(size(W_h)/size(m_f))])\n",
    "Nl_array = np.zeros([size(m_f),np.int(size(W_h)/size(m_f))])\n",
    "L1_array = np.zeros([size(m_f),np.int(size(W_h)/size(m_f))])\n",
    "pf_array = np.zeros([size(m_f),np.int(size(W_h)/size(m_f))])\n",
    "CFM_array = np.zeros([size(m_f),np.int(size(W_h)/size(m_f))])\n",
    "erro_array = np.zeros([size(m_f),np.int(size(W_h)/size(m_f))])"
   ]
  },
  {
   "cell_type": "code",
   "execution_count": null,
   "metadata": {
    "scrolled": true
   },
   "outputs": [],
   "source": [
    "w=0\n",
    "\n",
    "for p in range(size(m_f)):\n",
    "    for i in range(size(Xl)):\n",
    "        for j in range(size(Xt)):\n",
    "            for k in range(size(N_r)):\n",
    "                for l in range(size(N_l)):\n",
    "                    for m in range(size(L1)):\n",
    "                        for n in range(size(pf)):\n",
    "                            for o in range(size(xf)):\n",
    "                                for q in range(size(sigmaf)):\n",
    "                                    W_array_L[p][w-p*np.int(size(W_l)/size(m_f))] = W_l[p][i][j][k][l][m][n][o][q]\n",
    "                                    Ec_array_L[p][w-p*np.int(size(W_l)/size(m_f))] = ECr_c_l[p][i][j][k][l][m][n][o][q]\n",
    "                                    Eh_array_L[p][w-p*np.int(size(W_l)/size(m_f))] = ECr_h_l[p][i][j][k][l][m][n][o][q]\n",
    "                                    E_array_h[p][w-p*np.int(size(W_l)/size(m_f))] = E_c[p][i][j][k][l][m][n][o][q]\n",
    "                                    E_array_c[p][w-p*np.int(size(W_l)/size(m_f))] = E_h[p][i][j][k][l][m][n][o][q]\n",
    "                                    dP_o_array_L[p][w-p*np.int(size(W_h)/size(m_f))] = dP_o[p][i][j][k][l][m][n][o][q]\n",
    "                                    \n",
    "                                    Nr_array[p][w-p*np.int(size(W_h)/size(m_f))] = Nr[p][i][j][k][l][m][n][o][q]\n",
    "                                    Nl_array[p][w-p*np.int(size(W_h)/size(m_f))] = Nl[p][i][j][k][l][m][n][o][q]\n",
    "                                    L1_array[p][w-p*np.int(size(W_h)/size(m_f))] = L_1[p][i][j][k][l][m][n][o][q]\n",
    "                                    pf_array[p][w-p*np.int(size(W_h)/size(m_f))] = p_f[p][i][j][k][l][m][n][o][q]\n",
    "                                    \n",
    "                                    W_p_h_array[p][w-p*np.int(size(W_h)/size(m_f))] = W_p_h[p][i][j][k][l][m][n][o][q]\n",
    "                                    W_p_c_array[p][w-p*np.int(size(W_l)/size(m_f))] = W_p_c[p][i][j][k][l][m][n][o][q]\n",
    "                                    CFM_array[p][w-p*np.int(size(W_l)/size(m_f))] = CFM[p][i][j][k][l][m][n][o][q]\n",
    "                                    erro_array[p][w-p*np.int(size(W_l)/size(m_f))] = erro_dp[p][i][j][k][l][m][n][o][q]\n",
    "                                    \n",
    "                                    Nr_array[p][w-p*np.int(size(W_h)/size(m_f))] = N_r[k]\n",
    "                                    # Nl_array[p][w-p*np.int(size(W_h)/size(m_f))] = N_l[l]\n",
    "                                    L1_array[p][w-p*np.int(size(W_h)/size(m_f))] = L1[m]\n",
    "                                    pf_array[p][w-p*np.int(size(W_h)/size(m_f))] = pf[n]\n",
    "\n",
    "                    \n",
    "                                    w = w+1\n",
    "                                    #print(p,i,j,k,l,m,n,o,q)"
   ]
  },
  {
   "cell_type": "code",
   "execution_count": null,
   "metadata": {
    "scrolled": true
   },
   "outputs": [],
   "source": []
  },
  {
   "cell_type": "code",
   "execution_count": null,
   "metadata": {
    "scrolled": true
   },
   "outputs": [],
   "source": [
    "for i in range(len(m_f)):\n",
    "    plt.plot(Nucleos*CFM_array[i]*0.00047194745*1.168*1004,'o')"
   ]
  },
  {
   "cell_type": "code",
   "execution_count": null,
   "metadata": {},
   "outputs": [],
   "source": [
    "#plt.plot(erro_array[0],'o')\n",
    "#plt.plot(erro_array[1],'o')\n",
    "#plt.plot(erro_array[2],'o')\n",
    "#plt.plot(erro_array[3],'o')\n",
    "#plt.plot(erro_array[4],'o')"
   ]
  },
  {
   "cell_type": "code",
   "execution_count": null,
   "metadata": {
    "scrolled": true
   },
   "outputs": [],
   "source": [
    "for i in range(len(m_f)):\n",
    "    plt.plot(CFM_array[i],'o')\n",
    "plt.ylim(0,1500)"
   ]
  },
  {
   "cell_type": "code",
   "execution_count": null,
   "metadata": {},
   "outputs": [],
   "source": [
    "len(E_array_c[i]*Nucleos*CFM_array[i]*0.00047194745*1.168*1004)"
   ]
  },
  {
   "cell_type": "markdown",
   "metadata": {
    "scrolled": true
   },
   "source": [
    "for i in range(size(m_f)):\n",
    "    plt.plot(np.array(W_t_L[i])*Nucleos,E_array_c[i]*Nucleos*CFM_array[i]*0.00047194745*1.168*1004,'.')\n",
    "plt.grid()\n",
    "plt.xlabel('$\\dot{W}_\\mathrm{T}$ [W]')\n",
    "plt.ylabel('$\\epsilon C_\\mathrm{r}$ [-]')\n",
    "#plt.xlim([0,2000])\n",
    "plt.show()"
   ]
  },
  {
   "cell_type": "code",
   "execution_count": null,
   "metadata": {},
   "outputs": [],
   "source": [
    "for i in range(size(m_f)):\n",
    "    plt.plot(CFM_array[i]*Nucleos,Ec_array_L[i],'.')"
   ]
  },
  {
   "cell_type": "code",
   "execution_count": null,
   "metadata": {},
   "outputs": [],
   "source": [
    "len(W_t_L[i]),Nucleos"
   ]
  },
  {
   "cell_type": "code",
   "execution_count": null,
   "metadata": {
    "scrolled": false
   },
   "outputs": [],
   "source": [
    "W_t_L = W_array_L+W_p_h_array/0.9\n",
    "#W_t_H = 2*W_array_H+W_p_h_array/0.9+W_p_c_array/0.9\n",
    "\n",
    "\n",
    "for i in range(size(m_f)):\n",
    "    plt.plot(np.array(W_t_L[i])*Nucleos,Ec_array_L[i],'.') #+ , label = '$\\dot{m}_\\mathrm{f}$ = ' + str(np.round(m_f[i]*3600,0)' [kg/h] - Low Fan')\n",
    "    #plt.plot(W_t_L_2[4],Ec_array_2[4],'.', label = '$\\dot{m}_\\mathrm{f}$ = ' + str(np.round(m_f[i]*3600,0)) + ' [kg/h] - Low Fan')\n",
    "    #plt.plot(W_t_H[i],Ec_array_H[i],'.', label = '$\\dot{m}_\\mathrm{f}$ = ' + str(np.round(m_f[i]*3600,0)) + ' [kg/h] - High Fan')\n",
    "#plt.legend(bbox_to_anchor=(1, 1))\n",
    "#plt.legend()\n",
    "plt.grid()\n",
    "plt.xlabel('$\\dot{W}_\\mathrm{T}$ [W]')\n",
    "plt.ylabel('$\\epsilon C_\\mathrm{r}$ [-]')\n",
    "#plt.xlim([0,2000])\n",
    "plt.show()"
   ]
  },
  {
   "cell_type": "code",
   "execution_count": null,
   "metadata": {},
   "outputs": [],
   "source": [
    "W_t_L = W_array_L+W_p_h_array/0.9\n",
    "\n",
    "#plt.plot(W_p_h_array/W_p_c_array,'o')"
   ]
  },
  {
   "cell_type": "code",
   "execution_count": null,
   "metadata": {},
   "outputs": [],
   "source": [
    "Ec_p_L = [[] for i in range(len(m_f))]\n",
    "W_p_L = [[] for i in range(len(m_f))]\n",
    "W_p_LA = [[] for i in range(len(m_f))]\n",
    "W_p_LW = [[] for i in range(len(m_f))]\n",
    "\n",
    "pf_p = []\n",
    "Nr_p = []\n",
    "Nl_p = []\n",
    "L1_p = []\n",
    "\n",
    "Ec_p_T = []\n",
    "W_p_T =[]\n",
    "W_p_W =[]\n",
    "W_p_A =[]\n",
    "m_f_T = []\n",
    "CFM_p = []\n",
    "\n",
    "for k in range(size(m_f)):\n",
    "    for i in range(len(Ec_array_L[k])):\n",
    "        A = 0\n",
    "        for j in  range(len(Ec_array_L[k])):\n",
    "            if Ec_array_L[k][i] < Ec_array_L[k][j] and W_t_L[k][i] > W_t_L[k][j]:\n",
    "                #print(i,j)\n",
    "                A = 1\n",
    "                #break\n",
    "        if A == 0 :\n",
    "            Ec_p_L[k].append(Ec_array_L[k][i])\n",
    "            W_p_L[k].append(W_t_L[k][i])\n",
    "            W_p_LA[k].append(W_array_L[k][i])\n",
    "            W_p_LW[k].append(W_p_h_array[k][i]/0.9)\n",
    "            \n",
    "            \n",
    "            \n",
    "            if Ec_array_L[k][i]>0.04 and W_t_L[k][i] < 3000 :\n",
    "                Ec_p_T.append(Ec_array_L[k][i])\n",
    "                CFM_p.append(CFM_array[k][i])\n",
    "                W_p_T.append(W_t_L[k][i]*Nucleos)\n",
    "                W_p_W.append(W_p_h_array[k][i]/0.9*Nucleos)\n",
    "                W_p_A.append(W_array_L[k][i]*Nucleos)\n",
    "                m_f_T.append(m_f[k])\n",
    "                pf_p.append(pf_array[k][i])\n",
    "                Nr_p.append(Nr_array[k][i])\n",
    "                Nl_p.append(Nl_array[k][i])\n",
    "                L1_p.append(L1_array[k][i])"
   ]
  },
  {
   "cell_type": "code",
   "execution_count": null,
   "metadata": {},
   "outputs": [],
   "source": []
  },
  {
   "cell_type": "code",
   "execution_count": null,
   "metadata": {},
   "outputs": [],
   "source": [
    "plt.plot(Ec_p_T,np.array(CFM_p)*24/np.array(Nl_p),'o')"
   ]
  },
  {
   "cell_type": "code",
   "execution_count": null,
   "metadata": {
    "scrolled": true
   },
   "outputs": [],
   "source": [
    "import xlsxwriter\n",
    "\n",
    "workbook = xlsxwriter.Workbook('HEx.xlsx')\n",
    "Data = workbook.add_worksheet('Data')\n",
    "#C = workbook.add_worksheet('C')\n",
    "\n",
    "for i in range(len(m_f_T)):\n",
    "    Data.write(i,0,m_f_T[i]*3600) \n",
    "    Data.write(i,1,Ec_p_T[i])\n",
    "    Data.write(i,2,W_p_T[i])\n",
    "    Data.write(i,3,W_p_A[i])\n",
    "    Data.write(i,4,W_p_W[i])\n",
    "    Data.write(i,5,pf_p[i])\n",
    "    Data.write(i,6,Nr_p[i])\n",
    "    Data.write(i,7,Nl_p[i])\n",
    "    Data.write(i,8,L1_p[i])\n",
    "    Data.write(i,9,CFM_p[i]*Nucleos)\n",
    "\n",
    "workbook.close()"
   ]
  },
  {
   "cell_type": "markdown",
   "metadata": {},
   "source": [
    "Ec_p_H = [[] for i in range(len(m_f))]\n",
    "W_p_H = [[] for i in range(len(m_f))]\n",
    "\n",
    "Ec_p_T_H = []\n",
    "W_p_T_H =[]\n",
    "m_f_T_H = []\n",
    "\n",
    "for k in range(size(m_f)):\n",
    "    for i in range(len(Ec_array_H[k])):\n",
    "        A = 0\n",
    "        for j in  range(len(Ec_array_H[k])):\n",
    "            if Ec_array_H[k][i] < Ec_array_H[k][j] and W_t_H[k][i] > W_t_H[k][j]:\n",
    "                #print(i,j)\n",
    "                A = 1\n",
    "                #break\n",
    "        if A == 0 :\n",
    "            Ec_p_H[k].append(Ec_array_H[k][i])\n",
    "            W_p_H[k].append(W_t_H[k][i])\n",
    "            if Ec_array_H[k][i]>0.04 and W_t_H[k][i] < 2000 :\n",
    "                Ec_p_T_H.append(Ec_array_H[k][i])\n",
    "                W_p_T_H.append(W_t_H[k][i])\n",
    "                m_f_T_H.append(m_f[k])"
   ]
  },
  {
   "cell_type": "code",
   "execution_count": null,
   "metadata": {
    "scrolled": false
   },
   "outputs": [],
   "source": [
    "plt.plot(W_t_L[0],Ec_array_L[0],'o')\n",
    "#plt.plot(np.array(W_p_L[1])-np.array(W_p_LW[1]) - np.array(W_p_LA[1]),'.')\n",
    "plt.plot()"
   ]
  },
  {
   "cell_type": "code",
   "execution_count": null,
   "metadata": {
    "scrolled": false
   },
   "outputs": [],
   "source": [
    "#W_t_L = 2*W_array_L+W_p_h_array_L/0.9+W_p_c_array_L/0.9\n",
    "#for i in range(size(m_f)):\n",
    "plt.plot(np.array(W_t_L[0])*Nucleos[0],Ec_array_L[0],'x', label = '$\\dot{m}_\\mathrm{f}$ = ' + str(np.round(m_f[0]*3600,0)) + ' [kg/h]')\n",
    "    #plt.plot(W_p_F[i],Ec_p_F[i],'.', label = '$\\dot{m}_\\mathrm{f}$ = ' + str(np.round(m_f[i]*3600,0)) + ' [kg/h]')\n",
    "plt.legend(bbox_to_anchor=(1, 1))\n",
    "plt.legend()\n",
    "plt.grid()\n",
    "plt.xlabel('$\\dot{W}_\\mathrm{T}$ [W]')\n",
    "plt.ylabel('$\\epsilon C_\\mathrm{r}$ [-]')\n",
    "plt.xlim([0,1000])\n",
    "#plt.show()\n",
    "plt.savefig('ECr_Wt.png',format = 'png', dpi=500,bbox_inches='tight')"
   ]
  },
  {
   "cell_type": "code",
   "execution_count": null,
   "metadata": {
    "scrolled": true
   },
   "outputs": [],
   "source": [
    "plt.plot(np.array(W_p_L[i])*Nucleos,Ec_p_L[i])"
   ]
  },
  {
   "cell_type": "code",
   "execution_count": null,
   "metadata": {
    "scrolled": false
   },
   "outputs": [],
   "source": [
    "for i in range(size(m_f)):\n",
    "    plt.plot(np.array(W_p_L[i])*Nucleos,Ec_p_L[i],'.') #, label = 'N$_\\mathrm{circ}$ = ' + str(np.round(Nucleos[i]))\n",
    "    #plt.plot(np.array(W_p_L[i])*Nucleos,np.array(W_p_W)*Nucleos,'.')\n",
    "    #plt.plot(np.array(W_p_L[0])*Nucleos,Ec_p_L[0],'.', label = '$\\dot{m}_\\mathrm{f}$ = ' + str(np.round(m_f[0]*3600,0)) + ' [kg/h]')\n",
    "    #plt.plot(np.array(W_p_L[74])*Nucleos,Ec_p_L[74],'.', label = '$\\dot{m}_\\mathrm{f}$ = ' + str(np.round(m_f[74]*3600,0)) + ' [kg/h]')\n",
    "\n",
    "#plt.plot(W_p_H[i],Ec_p_H[i],'.', label = '$\\dot{m}_\\mathrm{f}$ = ' + str(np.round(m_f[i]*3600,0)) + ' [kg/h] - High')\n",
    "#plt.legend(bbox_to_anchor=(1, 1))\n",
    "#plt.legend()\n",
    "plt.grid()\n",
    "plt.xlabel('$\\dot{W}_\\mathrm{T}$ [W]')\n",
    "plt.ylabel('$\\epsilon C_\\mathrm{r}$ [-]')\n",
    "#plt.xlim([0,200])\n",
    "#plt.ylim(0.025,0.2)\n",
    "#plt.show()\n",
    "plt.savefig('ECr_Wt_Pareto_Multi_C.png',format = 'png', dpi=500,bbox_inches='tight')"
   ]
  },
  {
   "cell_type": "code",
   "execution_count": null,
   "metadata": {},
   "outputs": [],
   "source": [
    "plt.plot(Nucleos[0]*np.array(W_p_L[0]),Ec_p_L[0],'.', label = '$\\dot{m}_\\mathrm{f}$ = ' + str(np.round(m_f[0]*3600,0)) + ' [kg/h] - Low')\n",
    "plt.plot(Nucleos[1]*np.array(W_p_L[1]),Ec_p_L[1],'.', label = '$\\dot{m}_\\mathrm{f}$ = ' + str(np.round(m_f[1]*3600,0)) + ' [kg/h] - Low')\n",
    "plt.plot(Nucleos[2]*np.array(W_p_L[2]),Ec_p_L[2],'.', label = '$\\dot{m}_\\mathrm{f}$ = ' + str(np.round(m_f[2]*3600,0)) + ' [kg/h] - Low')\n",
    "plt.plot(Nucleos[3]*np.array(W_p_L[3]),Ec_p_L[3],'.', label = '$\\dot{m}_\\mathrm{f}$ = ' + str(np.round(m_f[3]*3600,0)) + ' [kg/h] - Low')\n",
    "plt.legend(bbox_to_anchor=(1, 1))\n",
    "plt.legend()\n",
    "plt.grid()\n",
    "plt.xlabel('$\\dot{W}_\\mathrm{T}$ [W]')\n",
    "plt.ylabel('$\\epsilon C_\\mathrm{r}$ [-]')\n",
    "plt.xlim([50,500])\n",
    "#plt.show()\n",
    "plt.savefig('ECr_Wt_Pareto.png',format = 'png', dpi=500,bbox_inches='tight')"
   ]
  },
  {
   "cell_type": "code",
   "execution_count": null,
   "metadata": {},
   "outputs": [],
   "source": [
    "def Paretto_HEx(X,a,b,c,d,e,f):\n",
    "    P1,P2= X\n",
    "    return (a*P1**b*P2**c+d*P1**1 + f*P2**1)  "
   ]
  },
  {
   "cell_type": "code",
   "execution_count": null,
   "metadata": {
    "scrolled": false
   },
   "outputs": [],
   "source": [
    "Paret_Hex = curve_fit(Paretto_HEx,(m_f_T,W_p_T),Ec_p_T,maxfev=1000000)\n",
    "Paret_Hex"
   ]
  },
  {
   "cell_type": "code",
   "execution_count": null,
   "metadata": {},
   "outputs": [],
   "source": [
    "plt.plot(W_p_T,Ec_p_T,'o',label = 'Numerical')\n",
    "plt.plot(np.array(W_p_W) +np.array(W_p_A) ,Ec_p_T,'o',label = 'Numerical')"
   ]
  },
  {
   "cell_type": "code",
   "execution_count": null,
   "metadata": {
    "scrolled": false
   },
   "outputs": [],
   "source": [
    "plt.plot(W_p_T,Ec_p_T,'o',label = 'Numerical')\n",
    "#plt.plot(W_p_T_H,Ec_p_T_H,'o')\n",
    "plt.plot(W_p_T,Paretto_HEx((np.array(m_f_T),np.array(W_p_T)),Paret_Hex[0][0],Paret_Hex[0][1],Paret_Hex[0][2],Paret_Hex[0][3],Paret_Hex[0][4],Paret_Hex[0][5]),'x',label = 'Fitting')\n",
    "#plt.savefig('ECr_Wt_Pareto.png',format = 'png', dpi=500,bbox_inches='tight')\n",
    "plt.legend()\n",
    "plt.grid()\n",
    "plt.xlabel('$\\dot{W}_\\mathrm{T}$ [W]')\n",
    "plt.ylabel('$\\epsilon C_\\mathrm{r}$ [-]')\n",
    "plt.savefig('Fitting.png',format = 'png', dpi=500,bbox_inches='tight')"
   ]
  },
  {
   "cell_type": "code",
   "execution_count": null,
   "metadata": {},
   "outputs": [],
   "source": []
  },
  {
   "cell_type": "code",
   "execution_count": null,
   "metadata": {},
   "outputs": [],
   "source": [
    "Erro_HEx = abs(Ec_p_T - Paretto_HEx((np.array(m_f_T),np.array(W_p_T)),Paret_Hex[0][0],Paret_Hex[0][1],Paret_Hex[0][2],Paret_Hex[0][3],Paret_Hex[0][4],Paret_Hex[0][5]))/Ec_p_T*100\n",
    "plt.plot(W_p_T,Erro_HEx,'x')"
   ]
  },
  {
   "cell_type": "code",
   "execution_count": null,
   "metadata": {},
   "outputs": [],
   "source": [
    "len(2600/(np.array(Ec_p_L[i])*m_f[i]*4000)*m_f[i]),len(Ec_p_L[i])"
   ]
  },
  {
   "cell_type": "code",
   "execution_count": null,
   "metadata": {},
   "outputs": [],
   "source": [
    "W_t_L_c = W_array_L+W_p_c_array/0.9\n",
    "W_t_H_h = W_array_H+W_p_h_array/0.9"
   ]
  },
  {
   "cell_type": "code",
   "execution_count": null,
   "metadata": {},
   "outputs": [],
   "source": [
    "dT_L = [[] for i in range(len(m_f))]\n",
    "dT_H = [[] for i in range(len(m_f))]\n",
    "\n",
    "Qc = 2650\n",
    "#Qc = 0\n",
    "#Qh = 1.5*2650\n",
    "Qh = 0\n",
    "for i in range(len(m_f)):\n",
    "    dT_L[i].append((Qc+Qh)/(np.array(Ec_p_L[i])*m_f[i]*4000))\n",
    "    dT_H[i].append((Qc+Qh)/(np.array(Ec_p_H[i])*m_f[i]*4000))"
   ]
  },
  {
   "cell_type": "code",
   "execution_count": null,
   "metadata": {
    "scrolled": true
   },
   "outputs": [],
   "source": [
    "for i in range(len(m_f)):\n",
    "    plt.plot(Ec_p_L[i],dT_L[i][0],'o')\n",
    "    #plt.plot(W_p_H[i],dT_H[i][0],'o')\n",
    "plt.grid()\n",
    "#plt.xlim([0,1000])"
   ]
  },
  {
   "cell_type": "code",
   "execution_count": null,
   "metadata": {
    "scrolled": true
   },
   "outputs": [],
   "source": [
    "for i in range(len(m_f)):\n",
    "    #plt.plot(Ec_p_L[i],dT_L[i][0],'o')\n",
    "    plt.plot(np.array(W_p_L[i])/2,17-dT_L[i][0],'o')\n",
    "plt.grid()\n",
    "plt.xlabel('$\\dot{W}_\\mathrm{T}$ [W]')\n",
    "plt.ylabel('$T_\\mathrm{CE}$ [$^o$C]')\n",
    "plt.xlim([0,500])\n",
    "plt.savefig('TCE.png',format = 'png', dpi=500,bbox_inches='tight')"
   ]
  },
  {
   "cell_type": "code",
   "execution_count": null,
   "metadata": {
    "scrolled": true
   },
   "outputs": [],
   "source": [
    "plt.plot(W_p_L[0],dT_L[0][0],'o')\n",
    "plt.plot(W_p_H[0],dT_H[0][0],'o')"
   ]
  },
  {
   "cell_type": "code",
   "execution_count": null,
   "metadata": {},
   "outputs": [],
   "source": [
    "plt.plot(W_array_,Ec_final,'.')\n",
    "plt.plot(W_p_F,Ec_p_F,'x')\n",
    "\n",
    "#plt.plot(W_t_L,Ec_array_L,'.')\n",
    "#plt.plot(W_p_L,Ec_p_L,'x')\n",
    "\n",
    "plt.grid()\n",
    "plt.xlabel('$\\dot{W}_\\mathrm{T}$ [W]')\n",
    "plt.ylabel('$\\epsilon C_\\mathrm{r}$ [-]')\n",
    "plt.show()\n",
    "plt.savefig('Fan_Both_mf_2400.pdf',format = 'pdf', dpi=500,bbox_inches='tight')"
   ]
  },
  {
   "cell_type": "code",
   "execution_count": null,
   "metadata": {},
   "outputs": [],
   "source": [
    "aux = arange(0,600,1)\n",
    "\n",
    "plt.plot(W_p_F,Ec_p_F,'x')\n",
    "plt.plot(aux,(0.14/450)*array(aux)+0.04-14/450)\n",
    "plt.grid()\n",
    "plt.xlabel('$\\dot{W}_\\mathrm{T}$ [W]')\n",
    "plt.ylabel('$\\epsilon C_\\mathrm{r}$ [-]')\n",
    "\n",
    "plt.xlim([80,580])\n",
    "plt.ylim([0.03,0.19])\n",
    "plt.show()\n",
    "#plt.savefig('Fan_Both_mf_2400_Paretto.pdf',format = 'pdf', dpi=500,bbox_inches='tight')"
   ]
  },
  {
   "cell_type": "code",
   "execution_count": null,
   "metadata": {},
   "outputs": [],
   "source": [
    "plt.plot(W_p_c_array/m_f/100,'o',label = 'Hot')\n",
    "plt.plot(W_p_h_array/m_f/100,'o', label = 'Cold')\n",
    "plt.legend()"
   ]
  },
  {
   "cell_type": "code",
   "execution_count": null,
   "metadata": {
    "scrolled": true
   },
   "outputs": [],
   "source": [
    "W = []\n",
    "Ec = []\n",
    "Eh = []\n",
    "Re_dc = []\n",
    "dP = []\n",
    "\n",
    "for i in range(len(N_r)):\n",
    "    A = HEx(Xl,Xt,N_r[i],N_l,L1,Di,De,pf,xf,sigmaf,sigmah,pd,m_f)\n",
    "    W.append(A[0])\n",
    "    Ec.append(A[1])\n",
    "    Eh.append(A[2])\n",
    "    Re_dc.append(A[3])\n",
    "    dP.append(A[4])"
   ]
  },
  {
   "cell_type": "code",
   "execution_count": null,
   "metadata": {},
   "outputs": [],
   "source": [
    "\n",
    "A[0]\n",
    "\n",
    "fan(2250*0.588578,A[0][0],A[0][1],A[0][2])"
   ]
  },
  {
   "cell_type": "code",
   "execution_count": null,
   "metadata": {},
   "outputs": [],
   "source": [
    "aux = fan(VFR,A[0][0],A[0][1],A[0][2])-dP[0]\n",
    "inter = np.abs(aux).argmin()\n"
   ]
  },
  {
   "cell_type": "code",
   "execution_count": null,
   "metadata": {},
   "outputs": [],
   "source": [
    "plt.plot(aux)"
   ]
  },
  {
   "cell_type": "code",
   "execution_count": null,
   "metadata": {},
   "outputs": [],
   "source": [
    "dP_v = np.array([37,35,30,22,11,0])\n",
    "V  = np.array([1000,1250,1500,1750,2000,2250])*0.588578\n",
    "A = curve_fit(fan,V,dP_v,maxfev=10000)\n",
    "VFR = np.arange(10,1500,1)\n",
    "plt.plot(VFR,fan(VFR,A[0][0],A[0][1],A[0][2]))\n",
    "plt.plot(VFR,dP[0])\n",
    "plt.ylim([8,10])\n",
    "plt.grid()\n",
    "plt.plot()"
   ]
  },
  {
   "cell_type": "markdown",
   "metadata": {},
   "source": [
    "https://www.ebmpapst.com/en/products/axial-fans/axialfansdetail.php?pID=139216"
   ]
  },
  {
   "cell_type": "code",
   "execution_count": null,
   "metadata": {
    "scrolled": true
   },
   "outputs": [],
   "source": [
    "for i in range(len(N_r)):\n",
    "    plt.plot(VFR,dP[i],label = str(round(N_r[i])))\n",
    "plt.plot(V,dP_v)\n",
    "plt.legend()\n",
    "plt.grid()"
   ]
  },
  {
   "cell_type": "code",
   "execution_count": null,
   "metadata": {
    "scrolled": true
   },
   "outputs": [],
   "source": [
    "for i in range(len(N_r)):\n",
    "    plt.plot(VFR,W[i],label = str(round(N_r[i])))\n",
    "    #plt.ylim([0,50])"
   ]
  },
  {
   "cell_type": "code",
   "execution_count": null,
   "metadata": {
    "scrolled": true
   },
   "outputs": [],
   "source": [
    "for i in range(len(N_r)):\n",
    "    plt.plot(W[i],Ec[i],label = r'X$_\\mathrm{l}$ = ' + str(round(N_r[i]*1000,1)) + 'mm')\n",
    "plt.legend()\n",
    "plt.xlabel('$\\dot{W}_\\mathrm{fan}$ [W]')\n",
    "plt.ylabel('$ \\epsilon C_\\mathrm{r}$ [-]')\n",
    "plt.grid()\n",
    "#plt.savefig('X_l.pdf',format = 'pdf', dpi=500,bbox_inches='tight')"
   ]
  },
  {
   "cell_type": "code",
   "execution_count": null,
   "metadata": {},
   "outputs": [],
   "source": [
    "Di = 0.15\n",
    "m_f = 2000/3600\n",
    "A_min_i = np.pi*(0.15**2)/4\n",
    "G_i = m_f/A_min_i\n",
    "\n",
    "mu_wc = 0.001138   #[kg/(m.s)] Viscosity in the cold line (15ºC)\n",
    "mu_wh = 0.0007193 \n",
    "\n",
    "Re_ic = G_i*Di/mu_wc \n",
    "Re_ih = G_i*Di/mu_wh \n",
    "Re_ic,Re_ih"
   ]
  },
  {
   "cell_type": "markdown",
   "metadata": {},
   "source": [
    "Constant inputs"
   ]
  },
  {
   "cell_type": "code",
   "execution_count": 12,
   "metadata": {},
   "outputs": [],
   "source": [
    "##Properties of the solid \n",
    "\n",
    "rho_s = 7000  #[kg/m3] Density of the solid\n",
    "k_s   = 8 #[W/(m2.K)] #Thermal conductivity of the solid\n",
    "\n",
    "## Propertis of the fluid\n",
    "\n",
    "rho_f = 1000  #[kg/m3] Density of the fluid\n",
    "c_f   = 4181  #[kJ/(kg.K)] # Specific heat of the fluid\n",
    "Pr_f  = 6.136 #[-] Prandtl of the fluid\n",
    "mu_f  = 0.00061 #0.0008901 #[kg/m-2] #Viscosity of the fluid\n",
    "k_f   = 0.6065  #[W/(m2.K)] #Thermal conductivity of the fluid\n",
    "\n",
    "## Porous medium\n",
    "d_p = 500*10**(-6) #[m] Particle diameter\n",
    "#Epsilon = 0.55  #[-] Porosity\n",
    "Epsilon_dp = 0.465"
   ]
  },
  {
   "cell_type": "markdown",
   "metadata": {},
   "source": [
    "Properties Calculation"
   ]
  },
  {
   "cell_type": "code",
   "execution_count": 13,
   "metadata": {},
   "outputs": [],
   "source": [
    "Prop = xlrd.open_workbook('La-Fe-Si.xlsx') #Import Properties File\n",
    "SpecHeat = Prop.sheet_by_name('C') # #Import Specific Heat\n",
    "dTad = Prop.sheet_by_name('dT') #Import Adiabatic Temperature Change\n",
    "\n",
    "T_exp = dTad.col_values(0) #Import experimented temperatures \n",
    "B_exp = dTad.col_values(1) #Import experimented magnetic fields\n",
    "\n",
    "T_arg = arange(min(T_exp),max(T_exp)+0.01,0.1)\n",
    "\n",
    "K = len(dTad.col_values(0)) #Import data number\n",
    "\n",
    "T_l = arange(278,321,2)#ture of Curie of the multilayer\n",
    "N_ml = len(T_l) #Number of Multilayer Layers\n",
    "\n",
    "\n",
    "\n",
    "dT = zeros([N_ml,K])\n",
    "C = zeros([N_ml,K])\n",
    "for i in range(N_ml):\n",
    "    dT[i,:] = (dTad.col_values(i+2))    #Data of Adiabatic Temperature change\n",
    "    C[i,:] = (SpecHeat.col_values(i+2)) #Data of specific heat"
   ]
  },
  {
   "cell_type": "markdown",
   "metadata": {},
   "source": [
    "Importing AMR simulation inputs"
   ]
  },
  {
   "cell_type": "code",
   "execution_count": 79,
   "metadata": {
    "scrolled": true
   },
   "outputs": [],
   "source": [
    "Data = xlrd.open_workbook('AMR_Inputs_2.xlsx') #Import inputs File\n",
    "Inputs = Data.sheet_by_name('Data_new') \n",
    "\n",
    "L   = array(Inputs.col_values(0)) #Import AMR Length [mm]\n",
    "H   = array(Inputs.col_values(1)) #Import AMR Height [mm]\n",
    "W   = array(Inputs.col_values(2)) #Import AMR Width [mm]\n",
    "T_c = array(Inputs.col_values(3))+273 #Import temperature span [K]\n",
    "T_h = array(Inputs.col_values(4))+273 #Import temperature span [K]\n",
    "B   = array(Inputs.col_values(5)) #Import magnetic field [T]\n",
    "f   = array(Inputs.col_values(6)) #Import frequency [Hz]\n",
    "m_f = array(Inputs.col_values(7))/3600 #Import mass flow rate [kg/h]\n",
    "Q_c = array(Inputs.col_values(8)) #Import Cooling capacity [W]\n",
    "Q_h = array(Inputs.col_values(9)) #Import Rejected heat [W]\n",
    "W_p = array(Inputs.col_values(10)) #Import Pumping power [W]\n",
    "W_m = array(Inputs.col_values(11)) #Import Magnetic power [W]\n",
    "T_c_ml = array(Inputs.col_values(12))+273 #Import temperature span [K]\n",
    "T_h_ml = array(Inputs.col_values(13))+273 #Import temperature span [K]\n",
    "Epsilon =array(Inputs.col_values(14))\n",
    "Epsilon_dp = Epsilon - 0.09"
   ]
  },
  {
   "cell_type": "code",
   "execution_count": 80,
   "metadata": {},
   "outputs": [
    {
     "data": {
      "text/plain": [
       "998"
      ]
     },
     "execution_count": 80,
     "metadata": {},
     "output_type": "execute_result"
    }
   ],
   "source": [
    "len(T_c)"
   ]
  },
  {
   "cell_type": "code",
   "execution_count": 81,
   "metadata": {},
   "outputs": [
    {
     "data": {
      "text/plain": [
       "196.97"
      ]
     },
     "execution_count": 81,
     "metadata": {},
     "output_type": "execute_result"
    }
   ],
   "source": [
    "Q_c[822]"
   ]
  },
  {
   "cell_type": "code",
   "execution_count": 82,
   "metadata": {
    "scrolled": true
   },
   "outputs": [],
   "source": [
    "T_layer = [[] for i in range(len(T_c_ml))]\n",
    "L_layer = [[] for i in range(len(T_c_ml))]\n",
    "for i in range(len(T_c)):\n",
    "    T_layer[i].append(arange(T_c[i]-0.1,T_h[i]-0.1,(T_h[i] - T_c[i])/15))\n",
    "    L_layer[i].append(100/len(T_layer[i][0])*ones(len(T_layer[i][0])))"
   ]
  },
  {
   "cell_type": "markdown",
   "metadata": {},
   "source": [
    "Calculation"
   ]
  },
  {
   "cell_type": "code",
   "execution_count": 83,
   "metadata": {},
   "outputs": [
    {
     "data": {
      "text/plain": [
       "[<matplotlib.lines.Line2D at 0x25e074a8eb8>]"
      ]
     },
     "execution_count": 83,
     "metadata": {},
     "output_type": "execute_result"
    },
    {
     "data": {
      "image/png": "[encoded data removed]",
      "text/plain": [
       "<Figure size 432x288 with 1 Axes>"
      ]
     },
     "metadata": {
      "needs_background": "light"
     },
     "output_type": "display_data"
    }
   ],
   "source": [
    "plt.plot(W)"
   ]
  },
  {
   "cell_type": "code",
   "execution_count": null,
   "metadata": {},
   "outputs": [],
   "source": []
  },
  {
   "cell_type": "code",
   "execution_count": 84,
   "metadata": {},
   "outputs": [],
   "source": [
    "#Porous medium\n",
    "m_s   = L*W*H*10**-9*(1-Epsilon)*rho_s #mass of the AMR\n",
    "Beta = (1-Epsilon)*6/d_p\n",
    "v_s   = (m_f)/(rho_f*W*H*10**-6) #Superficial velocity\n",
    "\n",
    "#Dimensionless Numbers\n",
    "Re_dp = d_p*v_s*rho_f/(mu_f) #Reynolds number\n",
    "Nu = 2*(1+4*(1-Epsilon_dp)/Epsilon_dp)+((1-Epsilon_dp)**0.5)*Re_dp**0.6*Pr_f**(1/3) # Nusselt number\n",
    "Pe = Re_dp*Pr_f\n",
    "\n",
    "h_int = Nu*k_f/d_p\n",
    "\n",
    "#Effective conduction\n",
    "k_e_f = k_f*Epsilon #Fluid effective conduction\n",
    "\n",
    "\n",
    "a_0 = exp(-1.084-6.778*(Epsilon-0.298))\n",
    "f_0 = 0.8\n",
    "k_e_s = k_f*((1-a_0)*(Epsilon*f_0+(1-Epsilon*f_0)*k_s/k_f)/(1-Epsilon*(1-f_0)+k_s/k_f*Epsilon*(1-f_0))+a_0*(2*((k_s/k_f)**2)*(1-Epsilon)+(1+2*Epsilon)*k_s/k_f)/((2+Epsilon)*k_s/k_f+(1-Epsilon))) #Solid effective conduction\n",
    "\n",
    "D_ = (k_f*rho_f/c_f)*0.75*Pe/2\n",
    "\n",
    "k_s_eff = k_e_s\n",
    "k_f_eff = k_e_f + rho_f*c_f*D_"
   ]
  },
  {
   "cell_type": "code",
   "execution_count": 85,
   "metadata": {},
   "outputs": [
    {
     "data": {
      "text/plain": [
       "(41836.86326125127, 0.00061, 77.08143594414086, 44.0, 48.0)"
      ]
     },
     "execution_count": 85,
     "metadata": {},
     "output_type": "execute_result"
    }
   ],
   "source": [
    "h_int[377],mu_f,Re_dp[317],H[317],W[317]"
   ]
  },
  {
   "cell_type": "code",
   "execution_count": 86,
   "metadata": {},
   "outputs": [
    {
     "data": {
      "text/plain": [
       "(46483.45249142712, 38.321065532916, 0.18004115226337447, 147.57471496997908)"
      ]
     },
     "execution_count": 86,
     "metadata": {},
     "output_type": "execute_result"
    }
   ],
   "source": [
    "h_int[215],Nu[215],v_s[215],Re_dp[215]"
   ]
  },
  {
   "cell_type": "code",
   "execution_count": 87,
   "metadata": {},
   "outputs": [],
   "source": [
    "C_H = zeros(len(L))\n",
    "C_L = zeros(len(L))\n",
    "dT_mg = zeros(len(L))\n",
    "dT_dmg = zeros(len(L))\n",
    "CdT_mg = zeros(len(L))\n",
    "CdT_dmg = zeros(len(L))"
   ]
  },
  {
   "cell_type": "markdown",
   "metadata": {
    "scrolled": true
   },
   "source": [
    "for i in range(len(L)):\n",
    "    print(i)\n",
    "    C_H[i],C_L[i],dT_mg[i],dT_dmg[i],CdT_mg[i],CdT_dmg[i] = Metrics (SpecHeat,dTad,0,B[i],T_arg,N_ml,T_h[i],T_c[i],T_l,T_layer[i][0],L_layer[i][0])"
   ]
  },
  {
   "cell_type": "markdown",
   "metadata": {},
   "source": [
    "Porous Medium Eff"
   ]
  },
  {
   "cell_type": "code",
   "execution_count": 88,
   "metadata": {},
   "outputs": [],
   "source": [
    "def Prop_param(X):\n",
    "    T_c,T_h,B = X\n",
    "    C_H = 1.65161038/100*T_c+2.59946197*T_h-1.14324309*100*B\n",
    "    C_L = 10.16443738*T_c-5.32568341*T_h-0.71305997*B\n",
    "    dT_mg = -0.01057708*T_c+0.01163704*T_h+1.73509682*B\n",
    "    dT_dmg = -0.01229483*T_c+0.01376157*T_h+0.76454655*B\n",
    "    CdT_mg = -9.517569*T_c+11.49711993*T_h+820.04168503*B\n",
    "    CdT_dmg = 4.39480124*T_c-7.07931118/10*T_h+9.15928168*100*B\n",
    "    return(C_H,C_L,dT_mg,dT_dmg,CdT_mg,CdT_dmg)"
   ]
  },
  {
   "cell_type": "code",
   "execution_count": 89,
   "metadata": {
    "scrolled": true
   },
   "outputs": [
    {
     "name": "stdout",
     "output_type": "stream",
     "text": [
      "0\n",
      "1\n",
      "2\n",
      "3\n",
      "4\n",
      "5\n",
      "6\n",
      "7\n",
      "8\n",
      "9\n",
      "10\n",
      "11\n",
      "12\n",
      "13\n",
      "14\n",
      "15\n",
      "16\n",
      "17\n",
      "18\n",
      "19\n",
      "20\n",
      "21\n",
      "22\n",
      "23\n",
      "24\n",
      "25\n",
      "26\n",
      "27\n",
      "28\n",
      "29\n",
      "30\n",
      "31\n",
      "32\n",
      "33\n",
      "34\n",
      "35\n",
      "36\n",
      "37\n",
      "38\n",
      "39\n",
      "40\n",
      "41\n",
      "42\n",
      "43\n",
      "44\n",
      "45\n",
      "46\n",
      "47\n",
      "48\n",
      "49\n",
      "50\n",
      "51\n",
      "52\n",
      "53\n",
      "54\n",
      "55\n",
      "56\n",
      "57\n",
      "58\n",
      "59\n",
      "60\n",
      "61\n",
      "62\n",
      "63\n",
      "64\n",
      "65\n",
      "66\n",
      "67\n",
      "68\n",
      "69\n",
      "70\n",
      "71\n",
      "72\n",
      "73\n",
      "74\n",
      "75\n",
      "76\n",
      "77\n",
      "78\n",
      "79\n",
      "80\n",
      "81\n",
      "82\n",
      "83\n",
      "84\n",
      "85\n",
      "86\n",
      "87\n",
      "88\n",
      "89\n",
      "90\n",
      "91\n",
      "92\n",
      "93\n",
      "94\n",
      "95\n",
      "96\n",
      "97\n",
      "98\n",
      "99\n",
      "100\n",
      "101\n",
      "102\n",
      "103\n",
      "104\n",
      "105\n",
      "106\n",
      "107\n",
      "108\n",
      "109\n",
      "110\n",
      "111\n",
      "112\n",
      "113\n",
      "114\n",
      "115\n",
      "116\n",
      "117\n",
      "118\n",
      "119\n",
      "120\n",
      "121\n",
      "122\n",
      "123\n",
      "124\n",
      "125\n",
      "126\n",
      "127\n",
      "128\n",
      "129\n",
      "130\n",
      "131\n",
      "132\n",
      "133\n",
      "134\n",
      "135\n",
      "136\n",
      "137\n",
      "138\n",
      "139\n",
      "140\n",
      "141\n",
      "142\n",
      "143\n",
      "144\n",
      "145\n",
      "146\n",
      "147\n",
      "148\n",
      "149\n",
      "150\n",
      "151\n",
      "152\n",
      "153\n",
      "154\n",
      "155\n",
      "156\n",
      "157\n",
      "158\n",
      "159\n",
      "160\n",
      "161\n",
      "162\n",
      "163\n",
      "164\n",
      "165\n",
      "166\n",
      "167\n",
      "168\n",
      "169\n",
      "170\n",
      "171\n",
      "172\n",
      "173\n",
      "174\n",
      "175\n",
      "176\n",
      "177\n",
      "178\n",
      "179\n",
      "180\n",
      "181\n",
      "182\n",
      "183\n",
      "184\n",
      "185\n",
      "186\n",
      "187\n",
      "188\n",
      "189\n",
      "190\n",
      "191\n",
      "192\n",
      "193\n",
      "194\n",
      "195\n",
      "196\n",
      "197\n",
      "198\n",
      "199\n",
      "200\n",
      "201\n",
      "202\n",
      "203\n",
      "204\n",
      "205\n",
      "206\n",
      "207\n",
      "208\n",
      "209\n",
      "210\n",
      "211\n",
      "212\n",
      "213\n",
      "214\n",
      "215\n",
      "216\n",
      "217\n",
      "218\n",
      "219\n",
      "220\n",
      "221\n",
      "222\n",
      "223\n",
      "224\n",
      "225\n",
      "226\n",
      "227\n",
      "228\n",
      "229\n",
      "230\n",
      "231\n",
      "232\n",
      "233\n",
      "234\n",
      "235\n",
      "236\n",
      "237\n",
      "238\n",
      "239\n",
      "240\n",
      "241\n",
      "242\n",
      "243\n",
      "244\n",
      "245\n",
      "246\n",
      "247\n",
      "248\n",
      "249\n",
      "250\n",
      "251\n",
      "252\n",
      "253\n",
      "254\n",
      "255\n",
      "256\n",
      "257\n",
      "258\n",
      "259\n",
      "260\n",
      "261\n",
      "262\n",
      "263\n",
      "264\n",
      "265\n",
      "266\n",
      "267\n",
      "268\n",
      "269\n",
      "270\n",
      "271\n",
      "272\n",
      "273\n",
      "274\n",
      "275\n",
      "276\n",
      "277\n",
      "278\n",
      "279\n",
      "280\n",
      "281\n",
      "282\n",
      "283\n",
      "284\n",
      "285\n",
      "286\n",
      "287\n",
      "288\n",
      "289\n",
      "290\n",
      "291\n",
      "292\n",
      "293\n",
      "294\n",
      "295\n",
      "296\n",
      "297\n",
      "298\n",
      "299\n",
      "300\n",
      "301\n",
      "302\n",
      "303\n",
      "304\n",
      "305\n",
      "306\n",
      "307\n",
      "308\n",
      "309\n",
      "310\n",
      "311\n",
      "312\n",
      "313\n",
      "314\n",
      "315\n",
      "316\n",
      "317\n",
      "318\n",
      "319\n",
      "320\n",
      "321\n",
      "322\n",
      "323\n",
      "324\n",
      "325\n",
      "326\n",
      "327\n",
      "328\n",
      "329\n",
      "330\n",
      "331\n",
      "332\n",
      "333\n",
      "334\n",
      "335\n",
      "336\n",
      "337\n",
      "338\n",
      "339\n",
      "340\n",
      "341\n",
      "342\n",
      "343\n",
      "344\n",
      "345\n",
      "346\n",
      "347\n",
      "348\n",
      "349\n",
      "350\n",
      "351\n",
      "352\n",
      "353\n",
      "354\n",
      "355\n",
      "356\n",
      "357\n",
      "358\n",
      "359\n",
      "360\n",
      "361\n",
      "362\n",
      "363\n",
      "364\n",
      "365\n",
      "366\n",
      "367\n",
      "368\n",
      "369\n",
      "370\n",
      "371\n",
      "372\n",
      "373\n",
      "374\n",
      "375\n",
      "376\n",
      "377\n",
      "378\n",
      "379\n",
      "380\n",
      "381\n",
      "382\n",
      "383\n",
      "384\n",
      "385\n",
      "386\n",
      "387\n",
      "388\n",
      "389\n",
      "390\n",
      "391\n",
      "392\n",
      "393\n",
      "394\n",
      "395\n",
      "396\n",
      "397\n",
      "398\n",
      "399\n",
      "400\n",
      "401\n",
      "402\n",
      "403\n",
      "404\n",
      "405\n",
      "406\n",
      "407\n",
      "408\n",
      "409\n",
      "410\n",
      "411\n",
      "412\n",
      "413\n",
      "414\n",
      "415\n",
      "416\n",
      "417\n",
      "418\n",
      "419\n",
      "420\n",
      "421\n",
      "422\n",
      "423\n",
      "424\n",
      "425\n",
      "426\n",
      "427\n",
      "428\n",
      "429\n",
      "430\n",
      "431\n",
      "432\n",
      "433\n",
      "434\n",
      "435\n",
      "436\n",
      "437\n",
      "438\n",
      "439\n",
      "440\n",
      "441\n",
      "442\n",
      "443\n",
      "444\n",
      "445\n",
      "446\n",
      "447\n",
      "448\n",
      "449\n",
      "450\n",
      "451\n",
      "452\n",
      "453\n",
      "454\n",
      "455\n",
      "456\n",
      "457\n",
      "458\n",
      "459\n",
      "460\n",
      "461\n",
      "462\n",
      "463\n",
      "464\n",
      "465\n",
      "466\n",
      "467\n",
      "468\n",
      "469\n",
      "470\n",
      "471\n",
      "472\n",
      "473\n",
      "474\n",
      "475\n",
      "476\n",
      "477\n",
      "478\n",
      "479\n",
      "480\n",
      "481\n",
      "482\n",
      "483\n",
      "484\n",
      "485\n",
      "486\n",
      "487\n",
      "488\n",
      "489\n",
      "490\n",
      "491\n",
      "492\n",
      "493\n",
      "494\n",
      "495\n",
      "496\n",
      "497\n",
      "498\n",
      "499\n",
      "500\n",
      "501\n",
      "502\n",
      "503\n",
      "504\n",
      "505\n",
      "506\n",
      "507\n",
      "508\n",
      "509\n",
      "510\n",
      "511\n",
      "512\n",
      "513\n",
      "514\n",
      "515\n",
      "516\n",
      "517\n",
      "518\n",
      "519\n",
      "520\n",
      "521\n",
      "522\n",
      "523\n",
      "524\n",
      "525\n",
      "526\n",
      "527\n",
      "528\n",
      "529\n",
      "530\n",
      "531\n",
      "532\n",
      "533\n",
      "534\n",
      "535\n",
      "536\n",
      "537\n",
      "538\n",
      "539\n",
      "540\n",
      "541\n",
      "542\n",
      "543\n",
      "544\n",
      "545\n",
      "546\n",
      "547\n",
      "548\n",
      "549\n",
      "550\n",
      "551\n",
      "552\n",
      "553\n",
      "554\n",
      "555\n",
      "556\n",
      "557\n",
      "558\n",
      "559\n",
      "560\n",
      "561\n",
      "562\n",
      "563\n",
      "564\n",
      "565\n",
      "566\n",
      "567\n",
      "568\n",
      "569\n",
      "570\n",
      "571\n",
      "572\n",
      "573\n",
      "574\n",
      "575\n",
      "576\n",
      "577\n",
      "578\n",
      "579\n",
      "580\n",
      "581\n",
      "582\n",
      "583\n",
      "584\n",
      "585\n",
      "586\n",
      "587\n",
      "588\n",
      "589\n",
      "590\n",
      "591\n",
      "592\n",
      "593\n",
      "594\n",
      "595\n",
      "596\n",
      "597\n",
      "598\n",
      "599\n",
      "600\n",
      "601\n",
      "602\n",
      "603\n",
      "604\n",
      "605\n",
      "606\n",
      "607\n",
      "608\n",
      "609\n",
      "610\n",
      "611\n",
      "612\n",
      "613\n",
      "614\n",
      "615\n",
      "616\n",
      "617\n",
      "618\n",
      "619\n",
      "620\n",
      "621\n",
      "622\n",
      "623\n",
      "624\n",
      "625\n",
      "626\n",
      "627\n",
      "628\n",
      "629\n",
      "630\n",
      "631\n",
      "632\n",
      "633\n",
      "634\n",
      "635\n",
      "636\n",
      "637\n",
      "638\n",
      "639\n",
      "640\n",
      "641\n",
      "642\n",
      "643\n",
      "644\n",
      "645\n",
      "646\n",
      "647\n",
      "648\n",
      "649\n",
      "650\n",
      "651\n",
      "652\n",
      "653\n",
      "654\n",
      "655\n",
      "656\n",
      "657\n",
      "658\n",
      "659\n",
      "660\n",
      "661\n",
      "662\n",
      "663\n",
      "664\n",
      "665\n",
      "666\n",
      "667\n",
      "668\n",
      "669\n",
      "670\n",
      "671\n",
      "672\n",
      "673\n",
      "674\n",
      "675\n",
      "676\n",
      "677\n",
      "678\n",
      "679\n",
      "680\n",
      "681\n",
      "682\n",
      "683\n",
      "684\n",
      "685\n",
      "686\n",
      "687\n",
      "688\n",
      "689\n",
      "690\n",
      "691\n",
      "692\n",
      "693\n",
      "694\n",
      "695\n",
      "696\n",
      "697\n",
      "698\n",
      "699\n",
      "700\n",
      "701\n",
      "702\n",
      "703\n",
      "704\n",
      "705\n",
      "706\n",
      "707\n",
      "708\n",
      "709\n",
      "710\n",
      "711\n",
      "712\n",
      "713\n",
      "714\n",
      "715\n",
      "716\n",
      "717\n",
      "718\n",
      "719\n",
      "720\n",
      "721\n",
      "722\n",
      "723\n",
      "724\n",
      "725\n",
      "726\n",
      "727\n",
      "728\n",
      "729\n",
      "730\n",
      "731\n",
      "732\n",
      "733\n",
      "734\n",
      "735\n",
      "736\n",
      "737\n",
      "738\n",
      "739\n",
      "740\n",
      "741\n",
      "742\n",
      "743\n",
      "744\n",
      "745\n",
      "746\n",
      "747\n",
      "748\n",
      "749\n",
      "750\n",
      "751\n",
      "752\n",
      "753\n",
      "754\n",
      "755\n",
      "756\n",
      "757\n",
      "758\n",
      "759\n",
      "760\n",
      "761\n",
      "762\n",
      "763\n",
      "764\n",
      "765\n",
      "766\n",
      "767\n",
      "768\n",
      "769\n",
      "770\n",
      "771\n",
      "772\n",
      "773\n",
      "774\n",
      "775\n",
      "776\n",
      "777\n",
      "778\n",
      "779\n",
      "780\n",
      "781\n",
      "782\n",
      "783\n",
      "784\n",
      "785\n",
      "786\n",
      "787\n",
      "788\n",
      "789\n",
      "790\n",
      "791\n",
      "792\n",
      "793\n",
      "794\n",
      "795\n",
      "796\n",
      "797\n",
      "798\n",
      "799\n",
      "800\n",
      "801\n",
      "802\n",
      "803\n",
      "804\n",
      "805\n",
      "806\n",
      "807\n",
      "808\n",
      "809\n",
      "810\n",
      "811\n",
      "812\n",
      "813\n",
      "814\n",
      "815\n",
      "816\n",
      "817\n",
      "818\n",
      "819\n",
      "820\n",
      "821\n",
      "822\n",
      "823\n",
      "824\n",
      "825\n",
      "826\n",
      "827\n",
      "828\n",
      "829\n",
      "830\n",
      "831\n",
      "832\n",
      "833\n",
      "834\n",
      "835\n",
      "836\n",
      "837\n",
      "838\n",
      "839\n",
      "840\n",
      "841\n",
      "842\n",
      "843\n",
      "844\n",
      "845\n",
      "846\n",
      "847\n",
      "848\n",
      "849\n",
      "850\n",
      "851\n",
      "852\n",
      "853\n",
      "854\n",
      "855\n",
      "856\n",
      "857\n",
      "858\n",
      "859\n",
      "860\n",
      "861\n",
      "862\n",
      "863\n",
      "864\n",
      "865\n",
      "866\n",
      "867\n",
      "868\n",
      "869\n",
      "870\n",
      "871\n",
      "872\n",
      "873\n",
      "874\n",
      "875\n",
      "876\n",
      "877\n",
      "878\n",
      "879\n",
      "880\n",
      "881\n",
      "882\n",
      "883\n",
      "884\n",
      "885\n",
      "886\n",
      "887\n",
      "888\n",
      "889\n",
      "890\n",
      "891\n",
      "892\n",
      "893\n",
      "894\n",
      "895\n",
      "896\n",
      "897\n",
      "898\n",
      "899\n",
      "900\n",
      "901\n",
      "902\n",
      "903\n",
      "904\n",
      "905\n",
      "906\n",
      "907\n",
      "908\n",
      "909\n",
      "910\n",
      "911\n",
      "912\n",
      "913\n",
      "914\n",
      "915\n",
      "916\n",
      "917\n",
      "918\n",
      "919\n",
      "920\n",
      "921\n",
      "922\n",
      "923\n",
      "924\n",
      "925\n",
      "926\n",
      "927\n",
      "928\n",
      "929\n",
      "930\n",
      "931\n",
      "932\n",
      "933\n",
      "934\n",
      "935\n",
      "936\n",
      "937\n",
      "938\n",
      "939\n",
      "940\n",
      "941\n",
      "942\n",
      "943\n",
      "944\n",
      "945\n",
      "946\n",
      "947\n",
      "948\n",
      "949\n",
      "950\n",
      "951\n",
      "952\n",
      "953\n",
      "954\n",
      "955\n",
      "956\n",
      "957\n",
      "958\n",
      "959\n",
      "960\n",
      "961\n",
      "962\n",
      "963\n",
      "964\n",
      "965\n",
      "966\n",
      "967\n",
      "968\n",
      "969\n",
      "970\n",
      "971\n",
      "972\n",
      "973\n",
      "974\n",
      "975\n",
      "976\n",
      "977\n",
      "978\n",
      "979\n",
      "980\n",
      "981\n",
      "982\n",
      "983\n",
      "984\n",
      "985\n",
      "986\n",
      "987\n",
      "988\n",
      "989\n",
      "990\n",
      "991\n",
      "992\n",
      "993\n",
      "994\n",
      "995\n",
      "996\n",
      "997\n"
     ]
    }
   ],
   "source": [
    "for i in range(len(L)):\n",
    "    print(i)\n",
    "    C_H[i],C_L[i],dT_mg[i],dT_dmg[i],CdT_mg[i],CdT_dmg[i] = Prop_param((T_c[i],T_h[i],B[i]))"
   ]
  },
  {
   "cell_type": "code",
   "execution_count": 90,
   "metadata": {
    "scrolled": true
   },
   "outputs": [
    {
     "data": {
      "text/plain": [
       "(672.9755302506001,\n",
       " 1233.3220701402001,\n",
       " 2.9667124188,\n",
       " 1.8445322870000003,\n",
       " 2000.4034528202,\n",
       " 2264.9454677119998)"
      ]
     },
     "execution_count": 90,
     "metadata": {},
     "output_type": "execute_result"
    }
   ],
   "source": [
    "C_H[215],C_L[215],dT_mg[215],dT_dmg[215],CdT_mg[215],CdT_dmg[215]"
   ]
  },
  {
   "cell_type": "code",
   "execution_count": 91,
   "metadata": {},
   "outputs": [
    {
     "data": {
      "text/plain": [
       "[<matplotlib.lines.Line2D at 0x25e073c7ac8>]"
      ]
     },
     "execution_count": 91,
     "metadata": {},
     "output_type": "execute_result"
    },
    {
     "data": {
      "image/png": "[encoded data removed]",
      "text/plain": [
       "<Figure size 432x288 with 1 Axes>"
      ]
     },
     "metadata": {
      "needs_background": "light"
     },
     "output_type": "display_data"
    }
   ],
   "source": [
    "plt.plot(B,C_L,'o')"
   ]
  },
  {
   "cell_type": "code",
   "execution_count": 92,
   "metadata": {},
   "outputs": [],
   "source": [
    "def Prop(X,a,b,c): \n",
    "    P1,P2,P3= X\n",
    "    return (a*P1+b*P2+c*P3)"
   ]
  },
  {
   "cell_type": "code",
   "execution_count": 93,
   "metadata": {},
   "outputs": [],
   "source": [
    "Pp = CdT_mg[0:192]"
   ]
  },
  {
   "cell_type": "code",
   "execution_count": 94,
   "metadata": {},
   "outputs": [
    {
     "ename": "ValueError",
     "evalue": "operands could not be broadcast together with shapes (998,) (192,) ",
     "output_type": "error",
     "traceback": [
      "\u001b[1;31m---------------------------------------------------------------------------\u001b[0m",
      "\u001b[1;31mValueError\u001b[0m                                Traceback (most recent call last)",
      "\u001b[1;32m<ipython-input-94-24f6ce09f4e9>\u001b[0m in \u001b[0;36m<module>\u001b[1;34m\u001b[0m\n\u001b[1;32m----> 1\u001b[1;33m \u001b[0mCoef_Ch\u001b[0m \u001b[1;33m=\u001b[0m \u001b[0mcurve_fit\u001b[0m\u001b[1;33m(\u001b[0m\u001b[0mProp\u001b[0m\u001b[1;33m,\u001b[0m\u001b[1;33m(\u001b[0m\u001b[0mT_c\u001b[0m\u001b[1;33m,\u001b[0m\u001b[0mT_h\u001b[0m\u001b[1;33m,\u001b[0m\u001b[0mB\u001b[0m\u001b[1;33m)\u001b[0m\u001b[1;33m,\u001b[0m\u001b[0mPp\u001b[0m\u001b[1;33m,\u001b[0m\u001b[0mmaxfev\u001b[0m\u001b[1;33m=\u001b[0m\u001b[1;36m10000\u001b[0m\u001b[1;33m)\u001b[0m\u001b[1;33m\u001b[0m\u001b[1;33m\u001b[0m\u001b[0m\n\u001b[0m\u001b[0;32m      2\u001b[0m \u001b[0mCoef_Ch\u001b[0m\u001b[1;33m\u001b[0m\u001b[1;33m\u001b[0m\u001b[0m\n",
      "\u001b[1;32m~\\Anaconda3\\lib\\site-packages\\scipy\\optimize\\minpack.py\u001b[0m in \u001b[0;36mcurve_fit\u001b[1;34m(f, xdata, ydata, p0, sigma, absolute_sigma, check_finite, bounds, method, jac, **kwargs)\u001b[0m\n\u001b[0;32m    742\u001b[0m         \u001b[1;31m# Remove full_output from kwargs, otherwise we're passing it in twice.\u001b[0m\u001b[1;33m\u001b[0m\u001b[1;33m\u001b[0m\u001b[1;33m\u001b[0m\u001b[0m\n\u001b[0;32m    743\u001b[0m         \u001b[0mreturn_full\u001b[0m \u001b[1;33m=\u001b[0m \u001b[0mkwargs\u001b[0m\u001b[1;33m.\u001b[0m\u001b[0mpop\u001b[0m\u001b[1;33m(\u001b[0m\u001b[1;34m'full_output'\u001b[0m\u001b[1;33m,\u001b[0m \u001b[1;32mFalse\u001b[0m\u001b[1;33m)\u001b[0m\u001b[1;33m\u001b[0m\u001b[1;33m\u001b[0m\u001b[0m\n\u001b[1;32m--> 744\u001b[1;33m         \u001b[0mres\u001b[0m \u001b[1;33m=\u001b[0m \u001b[0mleastsq\u001b[0m\u001b[1;33m(\u001b[0m\u001b[0mfunc\u001b[0m\u001b[1;33m,\u001b[0m \u001b[0mp0\u001b[0m\u001b[1;33m,\u001b[0m \u001b[0mDfun\u001b[0m\u001b[1;33m=\u001b[0m\u001b[0mjac\u001b[0m\u001b[1;33m,\u001b[0m \u001b[0mfull_output\u001b[0m\u001b[1;33m=\u001b[0m\u001b[1;36m1\u001b[0m\u001b[1;33m,\u001b[0m \u001b[1;33m**\u001b[0m\u001b[0mkwargs\u001b[0m\u001b[1;33m)\u001b[0m\u001b[1;33m\u001b[0m\u001b[1;33m\u001b[0m\u001b[0m\n\u001b[0m\u001b[0;32m    745\u001b[0m         \u001b[0mpopt\u001b[0m\u001b[1;33m,\u001b[0m \u001b[0mpcov\u001b[0m\u001b[1;33m,\u001b[0m \u001b[0minfodict\u001b[0m\u001b[1;33m,\u001b[0m \u001b[0merrmsg\u001b[0m\u001b[1;33m,\u001b[0m \u001b[0mier\u001b[0m \u001b[1;33m=\u001b[0m \u001b[0mres\u001b[0m\u001b[1;33m\u001b[0m\u001b[1;33m\u001b[0m\u001b[0m\n\u001b[0;32m    746\u001b[0m         \u001b[0mcost\u001b[0m \u001b[1;33m=\u001b[0m \u001b[0mnp\u001b[0m\u001b[1;33m.\u001b[0m\u001b[0msum\u001b[0m\u001b[1;33m(\u001b[0m\u001b[0minfodict\u001b[0m\u001b[1;33m[\u001b[0m\u001b[1;34m'fvec'\u001b[0m\u001b[1;33m]\u001b[0m \u001b[1;33m**\u001b[0m \u001b[1;36m2\u001b[0m\u001b[1;33m)\u001b[0m\u001b[1;33m\u001b[0m\u001b[1;33m\u001b[0m\u001b[0m\n",
      "\u001b[1;32m~\\Anaconda3\\lib\\site-packages\\scipy\\optimize\\minpack.py\u001b[0m in \u001b[0;36mleastsq\u001b[1;34m(func, x0, args, Dfun, full_output, col_deriv, ftol, xtol, gtol, maxfev, epsfcn, factor, diag)\u001b[0m\n\u001b[0;32m    382\u001b[0m     \u001b[1;32mif\u001b[0m \u001b[1;32mnot\u001b[0m \u001b[0misinstance\u001b[0m\u001b[1;33m(\u001b[0m\u001b[0margs\u001b[0m\u001b[1;33m,\u001b[0m \u001b[0mtuple\u001b[0m\u001b[1;33m)\u001b[0m\u001b[1;33m:\u001b[0m\u001b[1;33m\u001b[0m\u001b[1;33m\u001b[0m\u001b[0m\n\u001b[0;32m    383\u001b[0m         \u001b[0margs\u001b[0m \u001b[1;33m=\u001b[0m \u001b[1;33m(\u001b[0m\u001b[0margs\u001b[0m\u001b[1;33m,\u001b[0m\u001b[1;33m)\u001b[0m\u001b[1;33m\u001b[0m\u001b[1;33m\u001b[0m\u001b[0m\n\u001b[1;32m--> 384\u001b[1;33m     \u001b[0mshape\u001b[0m\u001b[1;33m,\u001b[0m \u001b[0mdtype\u001b[0m \u001b[1;33m=\u001b[0m \u001b[0m_check_func\u001b[0m\u001b[1;33m(\u001b[0m\u001b[1;34m'leastsq'\u001b[0m\u001b[1;33m,\u001b[0m \u001b[1;34m'func'\u001b[0m\u001b[1;33m,\u001b[0m \u001b[0mfunc\u001b[0m\u001b[1;33m,\u001b[0m \u001b[0mx0\u001b[0m\u001b[1;33m,\u001b[0m \u001b[0margs\u001b[0m\u001b[1;33m,\u001b[0m \u001b[0mn\u001b[0m\u001b[1;33m)\u001b[0m\u001b[1;33m\u001b[0m\u001b[1;33m\u001b[0m\u001b[0m\n\u001b[0m\u001b[0;32m    385\u001b[0m     \u001b[0mm\u001b[0m \u001b[1;33m=\u001b[0m \u001b[0mshape\u001b[0m\u001b[1;33m[\u001b[0m\u001b[1;36m0\u001b[0m\u001b[1;33m]\u001b[0m\u001b[1;33m\u001b[0m\u001b[1;33m\u001b[0m\u001b[0m\n\u001b[0;32m    386\u001b[0m     \u001b[1;32mif\u001b[0m \u001b[0mn\u001b[0m \u001b[1;33m>\u001b[0m \u001b[0mm\u001b[0m\u001b[1;33m:\u001b[0m\u001b[1;33m\u001b[0m\u001b[1;33m\u001b[0m\u001b[0m\n",
      "\u001b[1;32m~\\Anaconda3\\lib\\site-packages\\scipy\\optimize\\minpack.py\u001b[0m in \u001b[0;36m_check_func\u001b[1;34m(checker, argname, thefunc, x0, args, numinputs, output_shape)\u001b[0m\n\u001b[0;32m     24\u001b[0m def _check_func(checker, argname, thefunc, x0, args, numinputs,\n\u001b[0;32m     25\u001b[0m                 output_shape=None):\n\u001b[1;32m---> 26\u001b[1;33m     \u001b[0mres\u001b[0m \u001b[1;33m=\u001b[0m \u001b[0matleast_1d\u001b[0m\u001b[1;33m(\u001b[0m\u001b[0mthefunc\u001b[0m\u001b[1;33m(\u001b[0m\u001b[1;33m*\u001b[0m\u001b[1;33m(\u001b[0m\u001b[1;33m(\u001b[0m\u001b[0mx0\u001b[0m\u001b[1;33m[\u001b[0m\u001b[1;33m:\u001b[0m\u001b[0mnuminputs\u001b[0m\u001b[1;33m]\u001b[0m\u001b[1;33m,\u001b[0m\u001b[1;33m)\u001b[0m \u001b[1;33m+\u001b[0m \u001b[0margs\u001b[0m\u001b[1;33m)\u001b[0m\u001b[1;33m)\u001b[0m\u001b[1;33m)\u001b[0m\u001b[1;33m\u001b[0m\u001b[1;33m\u001b[0m\u001b[0m\n\u001b[0m\u001b[0;32m     27\u001b[0m     \u001b[1;32mif\u001b[0m \u001b[1;33m(\u001b[0m\u001b[0moutput_shape\u001b[0m \u001b[1;32mis\u001b[0m \u001b[1;32mnot\u001b[0m \u001b[1;32mNone\u001b[0m\u001b[1;33m)\u001b[0m \u001b[1;32mand\u001b[0m \u001b[1;33m(\u001b[0m\u001b[0mshape\u001b[0m\u001b[1;33m(\u001b[0m\u001b[0mres\u001b[0m\u001b[1;33m)\u001b[0m \u001b[1;33m!=\u001b[0m \u001b[0moutput_shape\u001b[0m\u001b[1;33m)\u001b[0m\u001b[1;33m:\u001b[0m\u001b[1;33m\u001b[0m\u001b[1;33m\u001b[0m\u001b[0m\n\u001b[0;32m     28\u001b[0m         \u001b[1;32mif\u001b[0m \u001b[1;33m(\u001b[0m\u001b[0moutput_shape\u001b[0m\u001b[1;33m[\u001b[0m\u001b[1;36m0\u001b[0m\u001b[1;33m]\u001b[0m \u001b[1;33m!=\u001b[0m \u001b[1;36m1\u001b[0m\u001b[1;33m)\u001b[0m\u001b[1;33m:\u001b[0m\u001b[1;33m\u001b[0m\u001b[1;33m\u001b[0m\u001b[0m\n",
      "\u001b[1;32m~\\Anaconda3\\lib\\site-packages\\scipy\\optimize\\minpack.py\u001b[0m in \u001b[0;36mfunc_wrapped\u001b[1;34m(params)\u001b[0m\n\u001b[0;32m    454\u001b[0m     \u001b[1;32mif\u001b[0m \u001b[0mtransform\u001b[0m \u001b[1;32mis\u001b[0m \u001b[1;32mNone\u001b[0m\u001b[1;33m:\u001b[0m\u001b[1;33m\u001b[0m\u001b[1;33m\u001b[0m\u001b[0m\n\u001b[0;32m    455\u001b[0m         \u001b[1;32mdef\u001b[0m \u001b[0mfunc_wrapped\u001b[0m\u001b[1;33m(\u001b[0m\u001b[0mparams\u001b[0m\u001b[1;33m)\u001b[0m\u001b[1;33m:\u001b[0m\u001b[1;33m\u001b[0m\u001b[1;33m\u001b[0m\u001b[0m\n\u001b[1;32m--> 456\u001b[1;33m             \u001b[1;32mreturn\u001b[0m \u001b[0mfunc\u001b[0m\u001b[1;33m(\u001b[0m\u001b[0mxdata\u001b[0m\u001b[1;33m,\u001b[0m \u001b[1;33m*\u001b[0m\u001b[0mparams\u001b[0m\u001b[1;33m)\u001b[0m \u001b[1;33m-\u001b[0m \u001b[0mydata\u001b[0m\u001b[1;33m\u001b[0m\u001b[1;33m\u001b[0m\u001b[0m\n\u001b[0m\u001b[0;32m    457\u001b[0m     \u001b[1;32melif\u001b[0m \u001b[0mtransform\u001b[0m\u001b[1;33m.\u001b[0m\u001b[0mndim\u001b[0m \u001b[1;33m==\u001b[0m \u001b[1;36m1\u001b[0m\u001b[1;33m:\u001b[0m\u001b[1;33m\u001b[0m\u001b[1;33m\u001b[0m\u001b[0m\n\u001b[0;32m    458\u001b[0m         \u001b[1;32mdef\u001b[0m \u001b[0mfunc_wrapped\u001b[0m\u001b[1;33m(\u001b[0m\u001b[0mparams\u001b[0m\u001b[1;33m)\u001b[0m\u001b[1;33m:\u001b[0m\u001b[1;33m\u001b[0m\u001b[1;33m\u001b[0m\u001b[0m\n",
      "\u001b[1;31mValueError\u001b[0m: operands could not be broadcast together with shapes (998,) (192,) "
     ]
    }
   ],
   "source": [
    "Coef_Ch = curve_fit(Prop,(T_c,T_h,B),Pp,maxfev=10000)\n",
    "Coef_Ch"
   ]
  },
  {
   "cell_type": "code",
   "execution_count": 95,
   "metadata": {
    "scrolled": true
   },
   "outputs": [
    {
     "ename": "NameError",
     "evalue": "name 'Coef_Ch' is not defined",
     "output_type": "error",
     "traceback": [
      "\u001b[1;31m---------------------------------------------------------------------------\u001b[0m",
      "\u001b[1;31mNameError\u001b[0m                                 Traceback (most recent call last)",
      "\u001b[1;32m<ipython-input-95-dea2afd368cf>\u001b[0m in \u001b[0;36m<module>\u001b[1;34m\u001b[0m\n\u001b[0;32m      1\u001b[0m \u001b[0merr\u001b[0m \u001b[1;33m=\u001b[0m \u001b[0mnp\u001b[0m\u001b[1;33m.\u001b[0m\u001b[0marange\u001b[0m\u001b[1;33m(\u001b[0m\u001b[0mmin\u001b[0m\u001b[1;33m(\u001b[0m\u001b[0mPp\u001b[0m\u001b[1;33m)\u001b[0m\u001b[1;33m,\u001b[0m\u001b[0mmax\u001b[0m\u001b[1;33m(\u001b[0m\u001b[0mPp\u001b[0m\u001b[1;33m)\u001b[0m\u001b[1;33m,\u001b[0m\u001b[1;33m(\u001b[0m\u001b[0mmax\u001b[0m\u001b[1;33m(\u001b[0m\u001b[0mPp\u001b[0m\u001b[1;33m)\u001b[0m\u001b[1;33m-\u001b[0m\u001b[0mmin\u001b[0m\u001b[1;33m(\u001b[0m\u001b[0mPp\u001b[0m\u001b[1;33m)\u001b[0m\u001b[1;33m)\u001b[0m\u001b[1;33m/\u001b[0m\u001b[1;36m100\u001b[0m\u001b[1;33m)\u001b[0m\u001b[1;33m\u001b[0m\u001b[1;33m\u001b[0m\u001b[0m\n\u001b[1;32m----> 2\u001b[1;33m \u001b[0mplt\u001b[0m\u001b[1;33m.\u001b[0m\u001b[0mplot\u001b[0m\u001b[1;33m(\u001b[0m\u001b[0mPp\u001b[0m\u001b[1;33m,\u001b[0m\u001b[0mProp\u001b[0m\u001b[1;33m(\u001b[0m\u001b[1;33m(\u001b[0m\u001b[0mT_c\u001b[0m\u001b[1;33m,\u001b[0m\u001b[0mT_h\u001b[0m\u001b[1;33m,\u001b[0m\u001b[0mB\u001b[0m\u001b[1;33m)\u001b[0m\u001b[1;33m,\u001b[0m\u001b[0mCoef_Ch\u001b[0m\u001b[1;33m[\u001b[0m\u001b[1;36m0\u001b[0m\u001b[1;33m]\u001b[0m\u001b[1;33m[\u001b[0m\u001b[1;36m0\u001b[0m\u001b[1;33m]\u001b[0m\u001b[1;33m,\u001b[0m\u001b[0mCoef_Ch\u001b[0m\u001b[1;33m[\u001b[0m\u001b[1;36m0\u001b[0m\u001b[1;33m]\u001b[0m\u001b[1;33m[\u001b[0m\u001b[1;36m1\u001b[0m\u001b[1;33m]\u001b[0m\u001b[1;33m,\u001b[0m\u001b[0mCoef_Ch\u001b[0m\u001b[1;33m[\u001b[0m\u001b[1;36m0\u001b[0m\u001b[1;33m]\u001b[0m\u001b[1;33m[\u001b[0m\u001b[1;36m2\u001b[0m\u001b[1;33m]\u001b[0m\u001b[1;33m)\u001b[0m\u001b[1;33m,\u001b[0m\u001b[1;34m'o'\u001b[0m\u001b[1;33m)\u001b[0m\u001b[1;33m\u001b[0m\u001b[1;33m\u001b[0m\u001b[0m\n\u001b[0m\u001b[0;32m      3\u001b[0m \u001b[0mplt\u001b[0m\u001b[1;33m.\u001b[0m\u001b[0mplot\u001b[0m\u001b[1;33m(\u001b[0m\u001b[0merr\u001b[0m\u001b[1;33m,\u001b[0m\u001b[0merr\u001b[0m\u001b[1;33m*\u001b[0m\u001b[1;36m1.01\u001b[0m\u001b[1;33m,\u001b[0m\u001b[1;34m'k'\u001b[0m\u001b[1;33m)\u001b[0m\u001b[1;33m\u001b[0m\u001b[1;33m\u001b[0m\u001b[0m\n\u001b[0;32m      4\u001b[0m \u001b[0mplt\u001b[0m\u001b[1;33m.\u001b[0m\u001b[0mplot\u001b[0m\u001b[1;33m(\u001b[0m\u001b[0merr\u001b[0m\u001b[1;33m,\u001b[0m\u001b[0merr\u001b[0m\u001b[1;33m*\u001b[0m\u001b[1;36m0.99\u001b[0m\u001b[1;33m,\u001b[0m\u001b[1;34m'k'\u001b[0m\u001b[1;33m)\u001b[0m\u001b[1;33m\u001b[0m\u001b[1;33m\u001b[0m\u001b[0m\n",
      "\u001b[1;31mNameError\u001b[0m: name 'Coef_Ch' is not defined"
     ]
    }
   ],
   "source": [
    "err = np.arange(min(Pp),max(Pp),(max(Pp)-min(Pp))/100)\n",
    "plt.plot(Pp,Prop((T_c,T_h,B),Coef_Ch[0][0],Coef_Ch[0][1],Coef_Ch[0][2]),'o')\n",
    "plt.plot(err,err*1.01,'k')\n",
    "plt.plot(err,err*0.99,'k')"
   ]
  },
  {
   "cell_type": "code",
   "execution_count": 96,
   "metadata": {},
   "outputs": [
    {
     "ename": "NameError",
     "evalue": "name 'Coef_Ch' is not defined",
     "output_type": "error",
     "traceback": [
      "\u001b[1;31m---------------------------------------------------------------------------\u001b[0m",
      "\u001b[1;31mNameError\u001b[0m                                 Traceback (most recent call last)",
      "\u001b[1;32m<ipython-input-96-8c17356ab2e5>\u001b[0m in \u001b[0;36m<module>\u001b[1;34m\u001b[0m\n\u001b[1;32m----> 1\u001b[1;33m \u001b[0mErro\u001b[0m \u001b[1;33m=\u001b[0m \u001b[0mabs\u001b[0m\u001b[1;33m(\u001b[0m\u001b[0mPp\u001b[0m \u001b[1;33m-\u001b[0m \u001b[0mProp\u001b[0m\u001b[1;33m(\u001b[0m\u001b[1;33m(\u001b[0m\u001b[0mT_c\u001b[0m\u001b[1;33m,\u001b[0m\u001b[0mT_h\u001b[0m\u001b[1;33m,\u001b[0m\u001b[0mB\u001b[0m\u001b[1;33m)\u001b[0m\u001b[1;33m,\u001b[0m\u001b[0mCoef_Ch\u001b[0m\u001b[1;33m[\u001b[0m\u001b[1;36m0\u001b[0m\u001b[1;33m]\u001b[0m\u001b[1;33m[\u001b[0m\u001b[1;36m0\u001b[0m\u001b[1;33m]\u001b[0m\u001b[1;33m,\u001b[0m\u001b[0mCoef_Ch\u001b[0m\u001b[1;33m[\u001b[0m\u001b[1;36m0\u001b[0m\u001b[1;33m]\u001b[0m\u001b[1;33m[\u001b[0m\u001b[1;36m1\u001b[0m\u001b[1;33m]\u001b[0m\u001b[1;33m,\u001b[0m\u001b[0mCoef_Ch\u001b[0m\u001b[1;33m[\u001b[0m\u001b[1;36m0\u001b[0m\u001b[1;33m]\u001b[0m\u001b[1;33m[\u001b[0m\u001b[1;36m2\u001b[0m\u001b[1;33m]\u001b[0m\u001b[1;33m)\u001b[0m\u001b[1;33m)\u001b[0m\u001b[1;33m/\u001b[0m\u001b[0mPp\u001b[0m\u001b[1;33m*\u001b[0m\u001b[1;36m100\u001b[0m\u001b[1;33m\u001b[0m\u001b[1;33m\u001b[0m\u001b[0m\n\u001b[0m\u001b[0;32m      2\u001b[0m \u001b[0mplt\u001b[0m\u001b[1;33m.\u001b[0m\u001b[0mplot\u001b[0m\u001b[1;33m(\u001b[0m\u001b[0mT_c\u001b[0m\u001b[1;33m-\u001b[0m\u001b[1;36m273\u001b[0m\u001b[1;33m,\u001b[0m\u001b[0mErro\u001b[0m\u001b[1;33m,\u001b[0m\u001b[1;34m'o'\u001b[0m\u001b[1;33m)\u001b[0m\u001b[1;33m\u001b[0m\u001b[1;33m\u001b[0m\u001b[0m\n",
      "\u001b[1;31mNameError\u001b[0m: name 'Coef_Ch' is not defined"
     ]
    }
   ],
   "source": [
    "Erro = abs(Pp - Prop((T_c,T_h,B),Coef_Ch[0][0],Coef_Ch[0][1],Coef_Ch[0][2]))/Pp*100\n",
    "plt.plot(T_c-273,Erro,'o')"
   ]
  },
  {
   "cell_type": "code",
   "execution_count": 97,
   "metadata": {},
   "outputs": [
    {
     "data": {
      "text/plain": [
       "[<matplotlib.lines.Line2D at 0x25e078a6d30>]"
      ]
     },
     "execution_count": 97,
     "metadata": {},
     "output_type": "execute_result"
    },
    {
     "data": {
      "image/png": "[encoded data removed]",
      "text/plain": [
       "<Figure size 432x288 with 1 Axes>"
      ]
     },
     "metadata": {
      "needs_background": "light"
     },
     "output_type": "display_data"
    }
   ],
   "source": [
    "plt.plot(T_h,C_H,'o')"
   ]
  },
  {
   "cell_type": "code",
   "execution_count": 98,
   "metadata": {},
   "outputs": [],
   "source": [
    "NTU_f  = h_int*Beta*(L*W*H*10**(-9))/(m_f*c_f) \n",
    "\n",
    "\n",
    "Eff = Data.sheet_by_name('Eff') \n",
    "\n",
    "Effect = []\n",
    "\n",
    "for i in range(7):\n",
    "     Effect.append(array(Eff.col_values(i)))\n",
    "\n",
    "phi = np.arange(0.1,2.01,0.1)\n",
    "NTU = np.arange(50,351,50)\n",
    "NN,PP = np.meshgrid(NTU,phi)\n",
    "\n",
    "Effectiv = interpolate.interp2d(phi,NTU,Effect,kind = 'linear')"
   ]
  },
  {
   "cell_type": "markdown",
   "metadata": {},
   "source": [
    "Model Parameters - Similarity"
   ]
  },
  {
   "cell_type": "code",
   "execution_count": 99,
   "metadata": {},
   "outputs": [],
   "source": [
    "DT_ad = np.log((dT_mg + T_h)/T_c)*dT_mg"
   ]
  },
  {
   "cell_type": "code",
   "execution_count": 100,
   "metadata": {
    "scrolled": true
   },
   "outputs": [],
   "source": [
    "Pi_1 = k_s_eff*(T_h-T_c)/(rho_s*f*L**2*CdT_dmg)\n",
    "Pi_2 = Epsilon/(1-Epsilon)*k_f_eff*(T_h-T_c)/(rho_s*f*L**2*CdT_dmg)\n",
    "Pi_3 = W_p/(m_s*f*CdT_dmg)\n",
    "Pi_4 = CdT_mg/CdT_dmg\n",
    "Pi_5 = h_int*Beta/(f*rho_s*CdT_dmg) #dT_sf unknown\n",
    "Pi_6 = ((m_f)*c_f)/(m_s*C_L*f)\n",
    "Pi_7 = (T_h-T_c)/(dT_dmg)\n",
    "Pi_11 = ((m_f)*c_f)/(m_s*C_H*f)\n",
    "Pi_12 = dT_dmg/dT_mg\n",
    "\n",
    "Pi_8 = Q_c/(m_s*f*CdT_dmg)\n",
    "Pi_9 = Q_h/(m_s*f*CdT_dmg)\n",
    "Pi_10 = W_m/(m_s*f)\n",
    "\n",
    "Efness_HB = zeros(len(Pi_6))\n",
    "Efness_CB = zeros(len(Pi_6))\n",
    "\n",
    "for i in range(len(Pi_6)):\n",
    "    Efness_HB[i] = Effectiv(Pi_6[i]/2,NTU_f[i])\n",
    "    Efness_CB[i] = Effectiv(Pi_11[i]/2,NTU_f[i])"
   ]
  },
  {
   "cell_type": "code",
   "execution_count": null,
   "metadata": {},
   "outputs": [],
   "source": []
  },
  {
   "cell_type": "code",
   "execution_count": null,
   "metadata": {},
   "outputs": [],
   "source": []
  },
  {
   "cell_type": "code",
   "execution_count": 101,
   "metadata": {},
   "outputs": [
    {
     "data": {
      "text/plain": [
       "array([20.96000547, 19.29575821, 19.22978987, 19.28915778, 20.96000547,\n",
       "       20.96000547, 20.96000547, 20.96000547, 17.45892967, 19.29575821,\n",
       "       17.71213201, 17.86502921, 19.22978987, 17.65653193, 19.28915778,\n",
       "       19.29575821, 19.29575821, 19.22978987, 19.29575821, 19.22978987,\n",
       "       19.22978987, 19.28915778, 19.28915778, 20.96000547, 16.36873052,\n",
       "       17.45892967, 19.28915778, 15.98720649, 20.96000547, 16.32123341,\n",
       "       17.45892967, 17.71213201, 17.65653193, 19.29575821, 17.71213201,\n",
       "       19.22978987, 17.86502921, 20.96000547, 20.96000547, 17.65653193,\n",
       "       17.45892967, 17.86502921, 17.45892967, 19.28915778, 19.29575821,\n",
       "       19.29575821, 19.22978987, 17.45892967, 19.22978987, 20.96000547,\n",
       "       17.71213201, 17.71213201, 17.65653193, 19.29575821, 17.65653193,\n",
       "       17.71213201, 19.22978987, 19.29575821, 17.65653193, 19.28915778,\n",
       "       17.45892967, 17.86502921, 19.22978987, 19.28915778, 17.86502921,\n",
       "       14.74431526, 15.98720649, 16.36873052, 17.86502921, 16.32123341,\n",
       "       15.98720649, 17.45892967, 16.36873052, 17.45892967, 20.96000547,\n",
       "       17.71213201, 20.96000547, 19.28915778, 17.65653193, 20.96000547,\n",
       "       15.98720649, 19.28915778, 16.32123341, 20.96000547, 20.96000547,\n",
       "       19.29575821, 15.34062742, 16.36873052, 17.45892967, 19.22978987,\n",
       "       16.32123341, 20.96000547, 17.71213201, 19.29575821, 17.86502921,\n",
       "       19.29575821, 17.71213201, 19.22978987, 16.69068812, 19.22978987,\n",
       "       15.98720649, 17.65653193, 17.65653193, 17.45892967, 16.54508217,\n",
       "       15.98720649, 15.98720649, 19.29575821, 15.34062742, 14.74431526,\n",
       "       17.45892967, 16.36873052, 17.45892967, 16.36873052, 16.40199473,\n",
       "       19.22978987, 16.36873052, 14.74431526, 17.71213201, 20.96000547,\n",
       "       17.86502921, 19.28915778, 15.98720649, 17.86502921, 16.32123341,\n",
       "       17.65653193, 19.29575821, 16.261361  , 16.32123341, 15.34062742,\n",
       "       19.28915778, 16.32123341, 19.22978987, 19.28915778, 16.69068812,\n",
       "       17.71213201, 16.12311841, 19.29575821, 20.96000547, 17.65653193,\n",
       "       16.54508217, 15.34062742, 16.36873052, 19.22978987, 14.74431526,\n",
       "       16.69068812, 15.98720649, 15.98720649, 17.71213201, 17.86502921,\n",
       "       16.32123341, 17.71213201, 19.29575821, 15.72214279, 15.34062742,\n",
       "       17.65653193, 14.74431526, 17.65653193, 16.40199473, 17.45892967,\n",
       "       15.98720649, 19.22978987, 15.85356678, 16.54508217, 19.28915778,\n",
       "       15.5290422 , 15.5290422 , 15.34062742, 15.5290422 , 16.261361  ,\n",
       "       15.34062742, 15.72214279, 16.36873052, 15.34062742, 16.40199473,\n",
       "       17.45892967, 16.69068812, 15.92010618, 14.74431526, 15.98720649,\n",
       "       15.98720649, 15.34062742, 17.86502921, 15.34062742, 15.98720649,\n",
       "       15.34062742, 19.28915778, 15.34062742, 16.12311841, 15.34062742,\n",
       "       16.32123341, 15.34062742, 15.59287986, 16.261361  , 16.54508217,\n",
       "       16.69068812, 15.34062742, 17.86502921, 17.86502921, 15.34062742,\n",
       "       15.5290422 , 16.12311841, 15.72214279, 15.98720649, 17.45892967,\n",
       "       15.34062742, 16.69068812, 19.29575821, 15.72214279, 15.34062742,\n",
       "       16.12311841, 15.34062742, 16.40199473, 16.36873052, 16.54508217,\n",
       "       15.72214279, 15.34062742, 15.5290422 , 15.34062742, 16.32123341,\n",
       "       16.36873052, 15.92010618, 19.28915778, 15.92010618, 15.72214279,\n",
       "       15.5290422 , 15.85356678, 15.34062742, 19.22978987, 15.72214279,\n",
       "       15.5290422 , 17.71213201, 15.34062742, 15.34062742, 16.54508217,\n",
       "       15.98720649, 15.5290422 , 15.34062742, 16.261361  , 15.72214279,\n",
       "       14.74431526, 16.40199473, 15.72214279, 15.34062742, 15.34062742,\n",
       "       19.28915778, 16.32123341, 15.72214279, 16.12311841, 15.34062742,\n",
       "       16.36873052, 15.34062742, 17.65653193, 16.36873052, 14.74431526,\n",
       "       17.45892967, 15.34062742, 15.34062742, 15.34062742, 15.34062742,\n",
       "       15.92010618, 15.72214279, 15.72214279, 15.72214279, 16.32123341,\n",
       "       15.5290422 , 16.40199473, 15.85356678, 15.34062742, 16.32123341,\n",
       "       15.5290422 , 15.34062742, 16.69068812, 14.74431526, 15.5290422 ,\n",
       "       15.5290422 , 16.12311841, 15.34062742, 15.92010618, 15.34062742,\n",
       "       15.34062742, 16.261361  , 15.34062742, 17.71213201, 15.34062742,\n",
       "       15.34062742, 15.34062742, 15.34062742, 15.34062742, 15.59287986,\n",
       "       16.69068812, 15.34062742, 15.34062742, 15.34062742, 15.34062742,\n",
       "       15.72214279, 16.261361  , 17.65653193, 15.34062742, 15.34062742,\n",
       "       15.34062742, 16.54508217, 15.72214279, 16.69068812, 15.34062742,\n",
       "       15.98720649, 15.34062742, 15.72214279, 15.34062742, 15.72214279,\n",
       "       16.12311841, 15.34062742, 15.34062742, 16.33137511, 15.72214279,\n",
       "       15.72214279, 15.34062742, 15.5290422 , 15.34062742, 15.72214279,\n",
       "       15.34062742, 14.74431526, 15.92010618, 15.5290422 , 15.5290422 ,\n",
       "       15.5290422 , 15.92010618, 15.5290422 , 16.12311841, 15.92010618,\n",
       "       15.34062742, 14.74431526, 15.34062742, 15.5290422 , 15.34062742,\n",
       "       15.5290422 , 15.92010618, 16.33137511, 15.72214279, 16.54508217,\n",
       "       15.72214279, 15.5290422 , 16.12311841, 15.5290422 , 15.5290422 ,\n",
       "       16.12311841, 14.74431526, 15.72214279, 15.92010618, 15.72214279,\n",
       "       15.34062742, 16.33137511, 15.72214279, 15.59287986, 15.5290422 ,\n",
       "       15.34062742, 16.12311841, 15.92010618, 15.5290422 , 15.72214279,\n",
       "       15.92010618, 15.34062742, 15.5290422 , 15.34062742, 16.40199473,\n",
       "       15.85356678, 15.34062742, 16.54508217, 15.5290422 , 15.72214279,\n",
       "       15.5290422 , 15.5290422 , 15.34062742, 15.98720649, 16.33137511,\n",
       "       15.5290422 , 15.34062742, 15.5290422 , 15.34062742, 15.72214279,\n",
       "       15.92010618, 15.92010618, 15.34062742, 15.92010618, 15.72214279,\n",
       "       16.12311841, 15.72214279, 15.5290422 , 15.34062742, 15.5290422 ,\n",
       "       17.71213201, 15.5290422 , 15.92010618, 15.72214279, 15.34062742,\n",
       "       15.34062742, 15.5290422 , 15.5290422 , 15.5290422 , 16.40199473,\n",
       "       15.72214279, 15.5290422 , 15.34062742, 17.86502921, 15.72214279,\n",
       "       15.5290422 , 15.5290422 , 15.98720649, 15.5290422 , 15.5290422 ,\n",
       "       15.92010618, 15.34062742, 15.34062742, 15.72214279, 16.261361  ,\n",
       "       15.34062742, 15.92010618, 17.65653193, 16.40199473, 15.85356678,\n",
       "       16.69068812, 15.34062742, 15.72214279, 15.72214279, 15.92010618,\n",
       "       15.72214279, 15.98720649, 15.34062742, 15.5290422 , 17.45892967,\n",
       "       15.5290422 , 15.34062742, 15.92010618, 15.34062742, 15.5290422 ,\n",
       "       15.34062742, 16.69068812, 15.34062742, 15.92010618, 15.34062742,\n",
       "       15.5290422 , 15.34062742, 14.74431526, 15.34062742, 15.34062742,\n",
       "       15.34062742, 16.261361  , 15.34062742, 16.69068812, 15.34062742,\n",
       "       15.34062742, 15.34062742, 15.72214279, 15.34062742, 15.5290422 ,\n",
       "       15.72214279, 15.34062742, 15.85356678, 15.34062742, 15.34062742,\n",
       "       15.72214279, 15.34062742, 15.59287986, 15.5290422 , 15.72214279,\n",
       "       16.12311841, 15.72214279, 16.261361  , 16.54508217, 15.34062742,\n",
       "       15.5290422 , 19.28915778, 15.34062742, 15.72214279, 15.34062742,\n",
       "       15.5290422 , 15.72214279, 15.5290422 , 15.34062742, 17.71213201,\n",
       "       15.34062742, 15.34062742, 15.72214279, 17.86502921, 15.98720649,\n",
       "       16.54508217, 15.34062742, 15.5290422 , 15.34062742, 15.92010618,\n",
       "       15.92010618, 15.72214279, 15.72214279, 15.34062742, 15.72214279,\n",
       "       15.5290422 , 16.12311841, 15.34062742, 16.12311841, 15.34062742,\n",
       "       15.72214279, 16.54508217, 15.72214279, 15.72214279, 15.5290422 ,\n",
       "       15.34062742, 15.72214279, 15.5290422 , 16.33137511, 15.34062742,\n",
       "       15.34062742, 15.5290422 , 15.34062742, 15.72214279, 15.92010618,\n",
       "       15.92010618, 15.5290422 , 15.92010618, 15.5290422 , 15.72214279,\n",
       "       15.5290422 , 15.34062742, 15.5290422 , 15.72214279, 15.5290422 ,\n",
       "       15.98720649, 15.72214279, 15.34062742, 15.34062742, 15.59287986,\n",
       "       16.12311841, 15.34062742, 15.5290422 , 15.92010618, 15.72214279,\n",
       "       15.34062742, 16.40199473, 15.34062742, 15.92010618, 15.5290422 ,\n",
       "       15.34062742, 15.34062742, 15.5290422 , 15.34062742, 15.5290422 ,\n",
       "       15.5290422 , 15.92010618, 17.65653193, 15.72214279, 15.34062742,\n",
       "       15.5290422 , 15.34062742, 15.5290422 , 15.34062742, 15.5290422 ,\n",
       "       15.34062742, 16.40199473, 15.92010618, 15.5290422 , 15.34062742,\n",
       "       15.98720649, 15.34062742, 16.69068812, 15.34062742, 15.34062742,\n",
       "       15.5290422 , 16.40199473, 15.34062742, 16.12311841, 15.59287986,\n",
       "       15.5290422 , 16.69068812, 15.5290422 , 16.69068812, 15.34062742,\n",
       "       15.34062742, 15.72214279, 15.98720649, 15.85356678, 15.72214279,\n",
       "       15.34062742, 15.34062742, 15.98720649, 15.72214279, 15.5290422 ,\n",
       "       16.261361  , 15.92010618, 15.34062742, 15.5290422 , 15.5290422 ,\n",
       "       15.34062742, 15.34062742, 16.33137511, 16.36873052, 15.5290422 ,\n",
       "       15.34062742, 16.261361  , 15.5290422 , 15.34062742, 15.85356678,\n",
       "       16.54508217, 15.72214279, 15.34062742, 16.261361  , 15.34062742,\n",
       "       15.72214279, 15.34062742, 16.54508217, 17.86502921, 15.34062742,\n",
       "       16.54508217, 15.34062742, 15.92010618, 15.72214279, 15.85356678,\n",
       "       15.5290422 , 15.5290422 , 15.72214279, 16.12311841, 16.32123341,\n",
       "       15.5290422 , 15.34062742, 15.34062742, 15.5290422 , 15.34062742,\n",
       "       15.34062742, 16.12311841, 15.72214279, 15.5290422 , 15.72214279,\n",
       "       15.34062742, 16.40199473, 16.12311841, 15.34062742, 16.69068812,\n",
       "       15.5290422 , 16.69068812, 15.5290422 , 15.5290422 , 16.40199473,\n",
       "       15.34062742, 15.59287986, 16.40199473, 16.36873052, 15.72214279,\n",
       "       15.34062742, 15.5290422 , 15.72214279, 16.12311841, 15.98720649,\n",
       "       15.92010618, 15.72214279, 15.34062742, 15.34062742, 15.34062742,\n",
       "       15.98720649, 15.59287986, 15.98720649, 16.261361  , 17.86502921,\n",
       "       16.32123341, 16.54508217, 15.34062742, 16.54508217, 15.5290422 ,\n",
       "       17.71213201, 16.261361  , 16.261361  , 15.59287986, 15.34062742,\n",
       "       15.34062742, 15.34062742, 15.85356678, 15.5290422 , 15.5290422 ,\n",
       "       15.72214279, 15.34062742, 15.5290422 , 15.92010618, 15.34062742,\n",
       "       15.85356678, 16.69068812, 15.72214279, 15.34062742, 15.85356678,\n",
       "       16.12311841, 15.34062742, 15.34062742, 17.65653193, 16.40199473,\n",
       "       16.40199473, 15.92010618, 16.12311841, 16.12311841, 15.34062742,\n",
       "       15.34062742, 15.34062742, 16.36873052, 15.72214279, 15.34062742,\n",
       "       15.72214279, 15.72214279, 15.5290422 , 15.34062742, 15.34062742,\n",
       "       15.34062742, 15.34062742, 15.34062742, 15.34062742, 15.72214279,\n",
       "       15.34062742, 15.72214279, 15.34062742, 16.54508217, 15.72214279,\n",
       "       15.72214279, 14.74431526, 15.98720649, 15.34062742, 15.34062742,\n",
       "       16.32123341, 15.34062742, 16.261361  , 15.98720649, 16.261361  ,\n",
       "       15.34062742, 15.98720649, 15.34062742, 15.34062742, 15.59287986,\n",
       "       15.34062742, 15.98720649, 15.72214279, 15.5290422 , 15.72214279,\n",
       "       15.59287986, 16.40199473, 15.59287986, 15.85356678, 16.12311841,\n",
       "       15.85356678, 16.12311841, 14.74431526, 15.85356678, 15.72214279,\n",
       "       15.34062742, 15.5290422 , 15.72214279, 15.72214279, 15.5290422 ,\n",
       "       15.5290422 , 15.5290422 , 15.5290422 , 15.5290422 , 15.5290422 ,\n",
       "       15.5290422 , 16.261361  , 15.5290422 , 15.5290422 , 15.72214279,\n",
       "       15.5290422 , 15.34062742, 15.92010618, 15.5290422 , 15.5290422 ,\n",
       "       15.98720649, 15.72214279, 15.98720649, 15.72214279, 15.34062742,\n",
       "       15.34062742, 15.5290422 , 15.92010618, 15.72214279, 15.5290422 ,\n",
       "       15.92010618, 15.5290422 , 15.34062742, 15.5290422 , 15.92010618,\n",
       "       15.72214279, 15.72214279, 15.34062742, 15.34062742, 15.5290422 ,\n",
       "       15.5290422 , 15.72214279, 15.5290422 , 15.72214279, 14.74431526,\n",
       "       16.12311841, 15.34062742, 15.34062742, 15.34062742, 15.5290422 ,\n",
       "       15.5290422 , 16.12311841, 15.92010618, 16.33137511, 16.12311841,\n",
       "       15.34062742, 15.92010618, 15.59287986, 16.33137511, 15.34062742,\n",
       "       15.34062742, 15.92010618, 15.72214279, 15.5290422 , 15.85356678,\n",
       "       15.5290422 , 15.5290422 , 15.72214279, 15.59287986, 15.85356678,\n",
       "       15.92010618, 15.72214279, 15.59287986, 15.92010618, 16.12311841,\n",
       "       15.72214279, 15.34062742, 15.34062742, 15.92010618, 15.34062742,\n",
       "       15.34062742, 16.33137511, 15.34062742, 15.5290422 , 15.92010618,\n",
       "       16.33137511, 15.92010618, 15.5290422 , 15.72214279, 15.5290422 ,\n",
       "       15.34062742, 15.34062742, 15.34062742, 15.72214279, 15.34062742,\n",
       "       15.34062742, 16.12311841, 16.36873052, 15.72214279, 15.34062742,\n",
       "       15.34062742, 15.34062742, 15.5290422 , 15.34062742, 17.86502921,\n",
       "       15.72214279, 15.34062742, 15.34062742, 15.98720649, 15.34062742,\n",
       "       15.98720649, 15.92010618, 15.72214279, 15.72214279, 15.34062742,\n",
       "       15.72214279, 15.34062742, 15.5290422 , 15.34062742, 15.34062742,\n",
       "       15.92010618, 15.5290422 , 15.72214279, 15.34062742, 15.92010618,\n",
       "       15.34062742, 15.34062742, 15.72214279, 15.72214279, 15.5290422 ,\n",
       "       15.72214279, 15.34062742, 15.34062742, 15.34062742, 15.72214279,\n",
       "       15.5290422 , 15.72214279, 15.34062742, 15.5290422 , 16.32123341,\n",
       "       15.72214279, 15.5290422 , 15.72214279, 15.34062742, 15.34062742,\n",
       "       15.85356678, 15.34062742, 15.72214279, 15.72214279, 15.5290422 ,\n",
       "       15.5290422 , 15.34062742, 15.72214279, 15.34062742, 15.5290422 ,\n",
       "       15.59287986, 15.72214279, 15.92010618, 15.34062742, 15.92010618,\n",
       "       15.34062742, 15.5290422 , 15.59287986, 15.72214279, 15.5290422 ,\n",
       "       15.34062742, 15.72214279, 15.5290422 , 16.12311841, 15.92010618,\n",
       "       15.5290422 , 15.5290422 , 15.5290422 , 15.34062742, 15.5290422 ,\n",
       "       15.5290422 , 15.34062742, 15.34062742, 15.72214279, 15.92010618,\n",
       "       15.34062742, 15.34062742, 16.33137511, 15.5290422 , 15.72214279,\n",
       "       15.92010618, 15.92010618, 15.5290422 , 15.92010618, 15.34062742,\n",
       "       15.34062742, 15.5290422 , 15.34062742, 15.34062742, 15.5290422 ,\n",
       "       15.34062742, 15.5290422 , 15.92010618, 15.5290422 , 15.72214279,\n",
       "       15.34062742, 15.92010618, 15.5290422 , 15.34062742, 15.34062742,\n",
       "       15.72214279, 15.34062742, 15.72214279, 15.72214279, 15.5290422 ,\n",
       "       15.34062742, 15.5290422 , 15.34062742, 15.5290422 , 15.34062742,\n",
       "       15.5290422 , 15.34062742, 15.34062742, 15.34062742, 16.33137511,\n",
       "       15.5290422 , 15.34062742, 15.34062742, 15.72214279, 15.72214279,\n",
       "       15.5290422 , 15.34062742, 15.34062742, 15.59287986, 15.34062742,\n",
       "       15.34062742, 15.5290422 , 15.92010618, 15.5290422 , 15.34062742,\n",
       "       15.72214279, 15.5290422 , 15.34062742, 15.5290422 , 15.5290422 ,\n",
       "       15.34062742, 15.34062742, 15.34062742, 15.34062742, 15.5290422 ,\n",
       "       15.34062742, 15.5290422 , 15.34062742, 15.34062742, 16.36873052,\n",
       "       16.32123341, 14.74431526, 14.74431526])"
      ]
     },
     "execution_count": 101,
     "metadata": {},
     "output_type": "execute_result"
    }
   ],
   "source": [
    "Pi_7"
   ]
  },
  {
   "cell_type": "code",
   "execution_count": 102,
   "metadata": {},
   "outputs": [
    {
     "data": {
      "text/plain": [
       "(0.9578394882138638, 0.9518044578865916, 92.56120859811747, 0.45, 6600.0)"
      ]
     },
     "execution_count": 102,
     "metadata": {},
     "output_type": "execute_result"
    }
   ],
   "source": [
    "Efness_HB[215],Efness_CB[215],NTU_f[800],Epsilon[800],Beta[800]"
   ]
  },
  {
   "cell_type": "markdown",
   "metadata": {},
   "source": [
    "Model Parameters - Integral"
   ]
  },
  {
   "cell_type": "code",
   "execution_count": 103,
   "metadata": {},
   "outputs": [],
   "source": [
    "FE = 0.25\n",
    "Q_pas_CB = Efness_CB*(T_h - T_c)*m_f*FE*c_f\n",
    "Q_act_CB = dT_mg*m_f*c_f*FE\n",
    "\n",
    "Q_pas_HB = Efness_HB*(T_h - T_c)*m_f*FE*c_f\n",
    "Q_act_HB = dT_dmg*m_f*c_f*FE\n",
    "\n",
    "Q_span = (T_h - T_c)*m_f*c_f*FE\n",
    "Q_cond = ((1-Epsilon)*k_s_eff + Epsilon*k_f_eff)*(W*H*10**-6)*(T_h-T_c)/L\n",
    "W_mag  = m_s*f*(CdT_mg - CdT_dmg)"
   ]
  },
  {
   "cell_type": "code",
   "execution_count": 104,
   "metadata": {},
   "outputs": [
    {
     "data": {
      "text/plain": [
       "(3.070818228, 0.9617636842823747, 0.36)"
      ]
     },
     "execution_count": 104,
     "metadata": {},
     "output_type": "execute_result"
    }
   ],
   "source": [
    "dT_mg[c],Efness_CB[800],Epsilon_dp[800]"
   ]
  },
  {
   "cell_type": "code",
   "execution_count": 105,
   "metadata": {
    "scrolled": true
   },
   "outputs": [
    {
     "data": {
      "text/plain": [
       "(5385.247812183554,\n",
       " 592.9163557286959,\n",
       " 5599.346180555555,\n",
       " 5442.41807056324,\n",
       " 365.00111946209734,\n",
       " -263.7389234049293,\n",
       " 27.03,\n",
       " 195.42)"
      ]
     },
     "execution_count": 105,
     "metadata": {},
     "output_type": "execute_result"
    }
   ],
   "source": [
    "c = 800\n",
    "Q_pas_CB[c],Q_act_CB[c],Q_span[c],Q_pas_HB[c],Q_act_HB[c],W_mag[c],W_p[c],Q_c[c]\n"
   ]
  },
  {
   "cell_type": "code",
   "execution_count": 106,
   "metadata": {},
   "outputs": [
    {
     "data": {
      "text/plain": [
       "(0.2087641805897749,\n",
       " 0.6148366673922159,\n",
       " -0.23593392363874716,\n",
       " -0.05441171736651465,\n",
       " -0.5143441605436332)"
      ]
     },
     "execution_count": 106,
     "metadata": {},
     "output_type": "execute_result"
    }
   ],
   "source": [
    "Coef[0][0],Coef[0][1],Coef[0][2],Coef[0][3],Coef[0][4]"
   ]
  },
  {
   "cell_type": "code",
   "execution_count": 107,
   "metadata": {},
   "outputs": [
    {
     "data": {
      "text/plain": [
       "(5385.247812183554,\n",
       " 592.9163557286959,\n",
       " 5599.346180555555,\n",
       " -263.7389234049293,\n",
       " 27.03)"
      ]
     },
     "execution_count": 107,
     "metadata": {},
     "output_type": "execute_result"
    }
   ],
   "source": [
    "(Q_pas_CB[c],Q_act_CB[c],Q_span[c],W_mag[c],W_p[c])"
   ]
  },
  {
   "cell_type": "code",
   "execution_count": 108,
   "metadata": {},
   "outputs": [
    {
     "data": {
      "text/plain": [
       "168.16561389120503"
      ]
     },
     "execution_count": 108,
     "metadata": {},
     "output_type": "execute_result"
    }
   ],
   "source": [
    "fit_int((Q_pas_CB[c],Q_act_CB[c],Q_span[c],W_mag[c],W_p[c]),Coef[0][0],Coef[0][1],Coef[0][2],Coef[0][3],Coef[0][4])"
   ]
  },
  {
   "cell_type": "code",
   "execution_count": 109,
   "metadata": {},
   "outputs": [
    {
     "data": {
      "text/plain": [
       "(array([131.13113466, 185.29193341]), 316.4216368343429)"
      ]
     },
     "execution_count": 109,
     "metadata": {},
     "output_type": "execute_result"
    }
   ],
   "source": [
    "a = 214\n",
    "b= 216\n",
    "fit_int((Q_pas_CB[a:b],Q_act_CB[a:b],Q_span[a:b],W_mag[a:b],W_p[a:b]),Coef[0][0],Coef[0][1],Coef[0][2],Coef[0][3],Coef[0][4]),fit_int((6691.56396771,760.6222080902222,6736.055555555555,-832.6677836679357,8.240634724535698),Coef[0][0],Coef[0][1],Coef[0][2],Coef[0][3],Coef[0][4])\n"
   ]
  },
  {
   "cell_type": "code",
   "execution_count": 110,
   "metadata": {},
   "outputs": [
    {
     "data": {
      "text/plain": [
       "[<matplotlib.lines.Line2D at 0x25e088b6da0>]"
      ]
     },
     "execution_count": 110,
     "metadata": {},
     "output_type": "execute_result"
    },
    {
     "data": {
      "image/png": "[encoded data removed]",
      "text/plain": [
       "<Figure size 432x288 with 1 Axes>"
      ]
     },
     "metadata": {
      "needs_background": "light"
     },
     "output_type": "display_data"
    }
   ],
   "source": [
    "plt.plot(Pi_6/2,Efness_HB,'o')\n",
    "plt.plot(Pi_11/2,Efness_CB,'o')"
   ]
  },
  {
   "cell_type": "code",
   "execution_count": 111,
   "metadata": {},
   "outputs": [
    {
     "data": {
      "text/plain": [
       "[<matplotlib.lines.Line2D at 0x25e0893db38>]"
      ]
     },
     "execution_count": 111,
     "metadata": {},
     "output_type": "execute_result"
    },
    {
     "data": {
      "image/png": "[encoded data removed]",
      "text/plain": [
       "<Figure size 432x288 with 1 Axes>"
      ]
     },
     "metadata": {
      "needs_background": "light"
     },
     "output_type": "display_data"
    }
   ],
   "source": [
    "plt.plot(Pi_6,Pi_10,'o')"
   ]
  },
  {
   "cell_type": "code",
   "execution_count": 112,
   "metadata": {},
   "outputs": [],
   "source": [
    "def fit_sim(X,a,b,c,d,e,f): \n",
    "    P1,P2,P3= X\n",
    "    return (a*P1**b*P2**c*P3**d + 0*e*P2**f)"
   ]
  },
  {
   "cell_type": "code",
   "execution_count": 113,
   "metadata": {},
   "outputs": [],
   "source": [
    "def fit_sim1(X,a,b,c,d,e): \n",
    "    P1,P2= X\n",
    "    return ((a*(P1**b)*P2**c)+d*(P1*P2)**e)"
   ]
  },
  {
   "cell_type": "code",
   "execution_count": 114,
   "metadata": {},
   "outputs": [],
   "source": [
    "def fit_int(X,a,b,c,d,e): \n",
    "    P1,P2,P3,P4,P5= X\n",
    "    return (a*P1+b*P2+c*P3+d*P4+e*P5)"
   ]
  },
  {
   "cell_type": "code",
   "execution_count": 115,
   "metadata": {},
   "outputs": [],
   "source": [
    "def fit_int_h(X,a,b,c,d,e): \n",
    "    P1,P2,P3,P4,P5= X\n",
    "    return (a*P1+b*P2+c*P3+d*P4+e*P5)"
   ]
  },
  {
   "cell_type": "code",
   "execution_count": 116,
   "metadata": {
    "scrolled": true
   },
   "outputs": [
    {
     "data": {
      "text/plain": [
       "[<matplotlib.lines.Line2D at 0x25e08997cc0>]"
      ]
     },
     "execution_count": 116,
     "metadata": {},
     "output_type": "execute_result"
    },
    {
     "data": {
      "image/png": "[encoded data removed]",
      "text/plain": [
       "<Figure size 432x288 with 1 Axes>"
      ]
     },
     "metadata": {
      "needs_background": "light"
     },
     "output_type": "display_data"
    }
   ],
   "source": [
    "plt.plot(Q_c[a:b],'o')"
   ]
  },
  {
   "cell_type": "code",
   "execution_count": 117,
   "metadata": {},
   "outputs": [
    {
     "data": {
      "text/plain": [
       "array([  -81.59841728,  -110.66352584,  -114.72933577,   -93.01562081,\n",
       "        -122.39762592,  -163.19683456,  -107.24363414,   -81.59841728,\n",
       "        -143.79444433,  -165.99528877,  -122.08072937,  -104.43282433,\n",
       "        -172.09400365,  -126.14653929,  -139.52343121,  -110.66352584,\n",
       "        -221.32705169,  -114.72933577,  -145.44349111,  -229.45867153,\n",
       "        -150.78712701,   -93.01562081,  -186.03124161,   -81.59841728,\n",
       "        -133.4979329 ,  -215.6916665 ,  -122.24910163,  -155.21164786,\n",
       "        -139.88300105,  -137.56374282,  -143.79444433,  -183.12109406,\n",
       "        -189.21980894,  -110.66352584,  -122.08072937,  -114.72933577,\n",
       "        -156.6492365 ,  -163.19683456,  -163.19683456,  -126.14653929,\n",
       "        -287.58888867,  -104.43282433,  -188.98698398,   -93.01562081,\n",
       "        -189.70890145,  -221.32705169,  -196.67886132,  -143.79444433,\n",
       "        -229.45867153,  -208.5292886 ,  -244.16145874,  -160.4489586 ,\n",
       "        -252.29307859,  -221.32705169,  -165.7925945 ,  -122.08072937,\n",
       "        -229.45867153,  -282.80678827,  -126.14653929,  -186.03124161,\n",
       "        -287.58888867,  -208.86564866,  -293.19719141,  -159.45534995,\n",
       "        -137.25456912,  -166.62885139,  -155.21164786,  -133.4979329 ,\n",
       "        -104.43282433,  -137.56374282,  -232.81747179,  -246.50476171,\n",
       "        -200.24689935,  -367.47469107,  -373.02133613,  -244.16145874,\n",
       "        -186.51066806,  -237.7065865 ,  -252.29307859,  -209.82450157,\n",
       "        -155.21164786,  -186.03124161,  -206.34561423,  -279.7660021 ,\n",
       "        -186.51066806,  -505.89040386,  -575.43037834,  -133.4979329 ,\n",
       "        -287.58888867,  -524.47696351,  -137.56374282,  -244.79525183,\n",
       "        -209.28125035,  -252.94520193,  -208.86564866,  -379.41780289,\n",
       "        -311.98408617,  -262.23848175,  -234.93335815,  -393.35772263,\n",
       "        -310.42329572,  -322.37448931,  -216.25121022,  -657.34603124,\n",
       "        -236.72749013,  -310.42329572,  -203.99245147,  -284.56335217,\n",
       "        -470.80667319,  -166.62885139,  -493.00952343,  -175.45442609,\n",
       "        -328.67301562,  -266.9958658 ,  -238.52162212,  -295.01829197,\n",
       "        -266.9958658 ,  -166.62885139,  -244.16145874,  -373.02133613,\n",
       "        -179.02769886,  -425.21426654,  -396.65198898,  -266.8838844 ,\n",
       "        -275.12748564,  -252.29307859,  -331.99057753,  -240.3157541 ,\n",
       "        -180.79806199,  -353.10500489,  -212.60713327,  -275.12748564,\n",
       "        -344.1880073 ,  -318.9106999 ,  -262.34224994,  -558.08333427,\n",
       "        -242.10988608,  -252.94520193,  -373.02133613,  -576.66989392,\n",
       "        -264.34569732,  -431.57278375,  -341.16138407,  -262.23848175,\n",
       "        -333.25770278,  -266.96972517,  -243.90401807,  -266.07711062,\n",
       "        -279.04166713,  -208.86564866,  -351.55178721,  -418.5625007 ,\n",
       "        -505.89040386,  -263.9917675 ,  -470.80667319,  -288.33494696,\n",
       "        -249.94327708,  -432.50242044,  -266.3491447 ,  -369.75714257,\n",
       "        -709.53896165,  -524.47696351,  -245.69815005,  -269.00851152,\n",
       "        -239.18302493,  -393.01550314,  -242.60216243,  -392.33889432,\n",
       "        -195.69907769,  -268.35259208,  -470.80667319,  -247.49228203,\n",
       "        -228.85359925,  -242.75969086,  -271.04729786,  -431.383333  ,\n",
       "        -293.66669769,  -316.51049252,  -425.82928688,  -310.42329572,\n",
       "        -532.15422124,  -294.25417074,  -477.40719695,  -470.80667319,\n",
       "        -354.76948082,  -470.80667319,  -279.04686242,  -194.80715933,\n",
       "        -270.35603946,  -575.43037834,  -235.82355912,  -470.80667319,\n",
       "        -249.28641401,  -273.08608421,  -295.90936267,  -298.11619311,\n",
       "        -245.21180895,  -358.05539771,  -238.70359847,  -470.80667319,\n",
       "        -393.01550314,  -223.81713913,  -316.790121  ,  -272.35948684,\n",
       "        -657.34603124,  -470.80667319,  -299.00609219,  -505.89040386,\n",
       "        -518.38383437,  -470.80667319,  -275.12487055,  -392.33889432,\n",
       "        -298.15202765,  -610.27626468,  -300.39283786,  -518.38383437,\n",
       "        -479.52531528,  -393.01550314,  -197.80419255,  -628.86282433,\n",
       "        -266.9958658 ,  -215.42495397,  -212.60713327,  -217.60096361,\n",
       "        -211.193414  ,  -480.35228161,  -274.36293422,  -294.25417074,\n",
       "        -524.47696351,  -263.9917675 ,  -517.55127985,  -313.92187553,\n",
       "        -392.33889432,  -245.21180895,  -301.2895329 ,  -277.16365689,\n",
       "        -203.85320593,  -197.80419255,  -300.39469263,  -209.72679307,\n",
       "        -218.99791897,  -302.66948261,  -316.790121  ,  -392.33889432,\n",
       "        -197.80419255,  -425.21426654,  -275.12748564,  -211.193414  ,\n",
       "        -223.81713913,  -197.80419255,  -305.13813234,  -294.25417074,\n",
       "        -324.37681533,  -457.70719851,  -333.25770278,  -328.67301562,\n",
       "        -204.34317413,  -215.78639188,  -245.21180895,  -215.78639188,\n",
       "        -217.60096361,  -276.3663816 ,  -263.9917675 ,  -211.193414  ,\n",
       "        -314.43141216,  -203.85320593,  -303.5729736 ,  -279.20244324,\n",
       "        -245.21180895,  -471.64711825,  -524.02067085,  -294.25417074,\n",
       "        -333.71215647,  -761.73189206,  -524.02067085,  -524.02067085,\n",
       "        -302.6373576 ,  -204.34317413,  -217.60096361,  -245.21180895,\n",
       "        -397.2431305 ,  -304.94612736,  -523.11852576,  -366.24218811,\n",
       "        -575.43037834,  -523.11852576,  -523.11852576,  -523.11852576,\n",
       "        -294.25417074,  -278.36982898,  -333.89013628,  -397.2431305 ,\n",
       "        -529.65750733,  -529.65750733,  -397.2431305 ,  -281.24122958,\n",
       "        -305.85641431,  -378.43961788,  -397.2431305 ,  -397.2431305 ,\n",
       "        -294.25417074,  -336.2606394 ,  -575.98203818,  -331.04245921,\n",
       "        -529.65750733,  -304.88002258,  -294.25417074,  -431.98652864,\n",
       "        -206.04603391,  -319.99002121,  -307.22277211,  -294.25417074,\n",
       "        -863.14556751,  -817.21578875,  -575.98203818,  -575.98203818,\n",
       "        -575.43037834,  -213.48990294,  -529.65750733,  -767.97605091,\n",
       "        -706.21000978,  -285.64945952,  -835.58770025,  -213.48990294,\n",
       "        -776.32691978,  -213.48990294,  -759.62518205,  -853.95961175,\n",
       "        -826.4017445 ,  -835.58770025,  -863.14556751,  -571.29891904,\n",
       "        -791.21677021,  -582.24518983,  -784.67778864,  -782.79631078,\n",
       "        -633.02098504,  -817.21578875,  -774.37585134,  -336.4399784 ,\n",
       "        -219.99313958,  -582.24518983,  -826.4017445 ,  -320.23485441,\n",
       "        -582.24518983,  -757.53493246,  -380.86594603,  -219.99313958,\n",
       "        -765.9553919 ,  -322.65660472,  -588.50834148,  -749.11447302,\n",
       "        -703.97804667,  -283.28001593,  -266.86237867,  -588.50834148,\n",
       "        -308.13985502,  -633.02098504,  -711.6330098 ,  -639.98004243,\n",
       "        -696.32308354,  -575.43037834,  -582.24518983,  -719.28797292,\n",
       "        -338.80912233,  -307.12268756,  -719.28797292,  -333.57055428,\n",
       "        -582.24518983,  -774.37585134,  -711.6330098 ,  -646.93909981,\n",
       "        -588.50834148,  -309.49941686,  -749.11447302,  -266.86237867,\n",
       "        -653.8981572 ,  -320.23485441,  -588.50834148,  -633.580242  ,\n",
       "        -696.32308354,  -227.88755461,  -215.78639188,  -696.32308354,\n",
       "        -703.97804667,  -757.53493246,  -639.98004243,  -711.6330098 ,\n",
       "        -215.78639188,  -582.24518983,  -558.08333427,  -711.6330098 ,\n",
       "        -696.32308354,  -774.37585134,  -653.8981572 ,  -588.50834148,\n",
       "        -640.46970882,  -646.93909981,  -436.68389237,  -338.98982052,\n",
       "        -639.98004243,  -436.68389237,  -647.35917563,  -268.54154828,\n",
       "        -703.97804667,  -436.68389237,  -222.38531556,  -310.42329572,\n",
       "        -646.93909981,  -436.68389237,  -696.32308354,  -588.50834148,\n",
       "        -575.43037834,  -309.36535254,  -341.35760526,  -653.8981572 ,\n",
       "        -386.84615752,  -576.66989392,  -336.09864935,  -311.77606162,\n",
       "        -373.75761524,  -359.64398646,  -703.97804667,  -230.39281527,\n",
       "        -474.76573878,  -230.39281527,  -399.11566593,  -441.38125611,\n",
       "        -323.46954991,  -657.34603124,  -323.46954991,  -269.73298985,\n",
       "        -474.76573878,  -441.38125611,  -296.51375408,  -269.73298985,\n",
       "        -369.66407946,  -441.38125611,  -348.16154177,  -269.73298985,\n",
       "        -480.35228161,  -269.73298985,  -333.25770278,  -269.73298985,\n",
       "        -441.38125611,  -323.67958782,  -341.53966265,  -441.38125611,\n",
       "        -363.07882624,  -575.43037834,  -323.67958782,  -269.73298985,\n",
       "        -479.98503182,  -323.67958782,  -232.89807593,  -475.1851815 ,\n",
       "        -269.73298985,  -312.70673643,  -441.38125611,  -479.52531528,\n",
       "        -287.99101909,  -441.38125611,  -311.60801752,  -232.89807593,\n",
       "        -479.98503182,  -343.90608819,  -314.05270637,  -338.62674441,\n",
       "        -376.61191612,  -326.9490786 ,  -232.89807593,  -425.21426654,\n",
       "        -441.38125611,  -479.98503182,  -326.9490786 ,  -485.20432486,\n",
       "        -290.39094425,  -480.35228161,  -296.70628883,  -279.04166713,\n",
       "        -235.40333659,  -326.9490786 ,  -290.39094425,  -313.298473  ,\n",
       "        -465.63494358,  -372.48711895,  -235.40333659,  -485.20432486,\n",
       "        -490.4236179 ,  -569.71888653,  -522.24231266,  -290.39094425,\n",
       "        -479.98503182,  -326.9490786 ,  -575.98203818,  -582.24518983,\n",
       "        -568.15119934,  -588.50834148,  -344.08950477,  -539.46597969,\n",
       "        -633.580242  ,  -365.85157566,  -351.98902333,  -527.983535  ,\n",
       "        -533.72475735,  -485.51938172,  -314.99017713,  -291.12259492,\n",
       "        -668.63109988,  -490.4236179 ,  -593.41257766,  -485.20432486,\n",
       "        -575.43037834,  -351.98902333,  -574.46654392,  -569.71888653,\n",
       "        -480.35228161,  -626.69077519,  -533.72475735,  -633.580242  ,\n",
       "        -587.09723308,  -647.35917563,  -293.54861654,  -527.983535  ,\n",
       "        -291.12259492,  -346.45457112,  -351.98902333,  -539.46597969,\n",
       "        -706.21000978,  -316.32935112,  -341.15483948,  -539.46597969,\n",
       "        -533.72475735,  -683.66266384,  -387.18792567,  -593.41257766,\n",
       "        -379.46621701,  -294.25417074,  -574.46654392,  -293.54861654,\n",
       "        -647.35917563,  -238.09763919,  -533.72475735,  -490.4236179 ,\n",
       "        -640.46970882,  -355.8165049 ,  -626.69077519,  -288.33494696,\n",
       "        -527.983535  ,  -539.46597969,  -293.54861654,  -575.43037834,\n",
       "        -480.35228161,  -294.25417074,  -355.8165049 ,  -296.70628883,\n",
       "        -375.31015844,  -313.34538759,  -355.8165049 ,  -359.64398646,\n",
       "        -346.63934689,  -490.4236179 ,  -413.80307402,  -359.64398646,\n",
       "        -296.70628883,  -533.72475735,  -368.62432509,  -479.52531528,\n",
       "        -273.55428116,  -317.27361784,  -355.8165049 ,  -405.43802263,\n",
       "        -239.18776163,  -395.11519326,  -359.64398646,  -539.46597969,\n",
       "        -633.580242  ,  -709.53896165,  -349.00305405,  -316.790121  ,\n",
       "        -296.70628883,  -359.64398646,  -343.68293455,  -387.18792567,\n",
       "        -388.16345989,  -382.32051789,  -263.29716596,  -392.33889432,\n",
       "        -632.56267537,  -320.23485441,  -359.64398646,  -299.70332205,\n",
       "        -445.75406659,  -343.28039888,  -391.39815539,  -323.67958782,\n",
       "        -378.13319793,  -320.23485441,  -395.60838511,  -349.18918901,\n",
       "        -416.96319285,  -422.386828  ,  -323.67958782,  -371.39707452,\n",
       "        -479.52531528,  -422.386828  ,  -323.67958782,  -408.53425949,\n",
       "        -477.40719695,  -359.64398646,  -398.13259705,  -395.60838511,\n",
       "        -341.83133192,  -351.55153698,  -346.21102961,  -426.97980588,\n",
       "        -426.97980588,  -422.386828  ,  -385.17481877,  -353.73533868,\n",
       "        -426.97980588,  -323.67958782,  -395.60838511,  -426.97980588,\n",
       "        -431.57278375,  -431.57278375,  -380.95623742,  -351.73903113,\n",
       "        -349.3471139 ,  -387.18792567,  -353.10500489,  -420.12331168,\n",
       "        -374.16982395,  -485.51938172,  -453.84853279,  -349.3471139 ,\n",
       "        -441.2119658 ,  -569.30640784,  -465.79615187,  -411.63049635,\n",
       "        -470.80667319,  -354.10001991,  -401.15000083,  -400.49379869,\n",
       "        -348.73912468,  -353.10500489,  -465.79615187,  -256.33274709,\n",
       "        -273.55428116,  -388.02911965,  -265.9567333 ,  -322.65660472,\n",
       "        -470.80667319,  -359.64398646,  -639.36708704,  -383.77927691,\n",
       "        -354.28887325,  -376.94257338,  -423.28343052,  -238.70359847,\n",
       "        -412.69122847,  -457.31446958,  -299.70332205,  -444.58140003,\n",
       "        -640.46970882,  -558.08333427,  -414.72673321,  -404.16740462,\n",
       "        -351.26721975,  -485.51938172,  -639.36708704,  -359.64398646,\n",
       "        -390.88342053,  -640.46970882,  -249.15391836,  -258.12528378,\n",
       "        -639.36708704,  -640.46970882,  -265.9567333 ,  -639.36708704,\n",
       "        -386.6023164 ,  -493.89399157,  -322.65660472,  -485.51938172,\n",
       "        -379.7153228 ,  -426.44354935,  -299.70332205,  -241.76067979,\n",
       "        -576.66989392,  -460.78040636,  -447.95083427,  -265.9567333 ,\n",
       "        -417.82297007,  -407.18480841,  -485.51938172,  -249.75276838,\n",
       "        -263.7389234 ,  -610.27626468,  -258.12528378,  -485.51938172,\n",
       "        -527.983535  ,  -393.73772141,  -249.15391836,  -263.7389234 ,\n",
       "        -299.70332205,  -359.64398646,  -241.76067979,  -299.70332205,\n",
       "        -241.76067979,  -258.12528378,  -241.76067979,  -389.42535589,\n",
       "        -249.75276838,  -497.66574631,  -391.09891482,  -382.48807223,\n",
       "        -428.47418928,  -429.60366818,  -647.35917563,  -359.64398646,\n",
       "        -628.86282433,  -647.35917563,  -464.24634315,  -420.91920694,\n",
       "        -451.3202685 ,  -647.35917563,  -410.2022122 ,  -359.64398646,\n",
       "        -647.35917563,  -396.5920223 ,  -359.64398646,  -354.76948082,\n",
       "        -703.97804667,  -391.39815539,  -703.97804667,  -392.24839539,\n",
       "        -501.43750104,  -385.26082166,  -432.76378702,  -467.71227993,\n",
       "        -424.0154438 ,  -454.68970273,  -499.88655416,  -413.21961599,\n",
       "        -703.97804667,  -251.83404145,  -391.39815539,  -268.88050394,\n",
       "        -268.88050394,  -711.6330098 ,  -260.93210359,  -260.93210359,\n",
       "        -260.93210359,  -711.6330098 ,  -326.16512949,  -533.72475735,\n",
       "        -505.20925578,  -533.72475735,  -533.72475735,  -435.92390585,\n",
       "        -711.6330098 ,  -719.28797292,  -773.69231505,  -326.16512949,\n",
       "        -711.6330098 ,  -471.17821672,  -427.11168066,  -458.05913696,\n",
       "        -416.23701978,  -863.14556751,  -719.28797292,  -711.6330098 ,\n",
       "        -773.69231505,  -938.63739556,  -948.84401306,  -278.52923342,\n",
       "        -711.6330098 ,  -719.28797292,  -956.7510465 ,  -928.43077806,\n",
       "        -782.19782963,  -774.37585134,  -263.7389234 ,  -719.28797292,\n",
       "        -271.80427457,  -533.72475735,  -946.45937385,  -790.70334422,\n",
       "        -860.4176126 ,  -761.73189206, -1010.04657661,  -719.28797292,\n",
       "        -799.2088588 ,  -879.12974468,  -869.77367864,  -869.77367864,\n",
       "        -508.98101052,  -851.06154655,  -998.81929736,  -925.87602856,\n",
       "        -263.7389234 ,  -936.16770121,  -439.08402469,  -915.58435591,\n",
       "        -539.46597969,  -879.12974468,  -851.06154655,  -782.19782963,\n",
       "        -395.35167211,  -474.6441535 ,  -395.35167211,  -782.79631078,\n",
       "        -860.4176126 ,  -430.20791752,  -461.42857119,  -425.53077328,\n",
       "        -281.59121867,  -419.25442357,  -580.26923629, -1010.04657661,\n",
       "        -946.45937385,  -539.46597969,  -719.28797292,  -851.06154655,\n",
       "        -799.2088588 ,  -395.60838511,  -998.81929736,  -791.21677021,\n",
       "        -790.70334422,  -580.26923629,  -915.58435591,  -851.06154655,\n",
       "        -869.77367864,  -281.59121867,  -869.77367864,  -395.60838511,\n",
       "        -395.60838511,  -539.46597969,  -782.19782963,  -539.46597969,\n",
       "        -329.67365426,  -925.87602856,  -305.13813234,  -580.7818885 ,\n",
       "        -539.46597969,  -539.46597969,  -329.67365426,  -790.70334422,\n",
       "       -1054.95569362,  -477.40719695,  -946.45937385,  -539.46597969,\n",
       "        -329.67365426,  -709.53896165,  -329.67365426,  -512.75276525,\n",
       "        -851.06154655,  -351.98902333,  -586.64837222,  -329.67365426,\n",
       "        -860.4176126 , -1054.95569362,  -284.65320392,  -799.2088588 ,\n",
       "        -539.46597969, -1021.27385586, -1043.72841437,  -478.11009029,\n",
       "        -967.04271915, -1021.27385586,  -399.6044294 ,  -329.67365426,\n",
       "        -464.79800542,  -860.4176126 ,  -284.65320392,  -586.64837222,\n",
       "        -959.05063056,  -399.6044294 ,  -329.67365426,  -354.9222652 ,\n",
       "        -587.09723308,  -586.64837222,  -399.6044294 ,  -284.65320392,\n",
       "        -314.43141216,  -354.9222652 ,  -593.02750816,  -430.2088063 ,\n",
       "        -287.71518917,  -399.6044294 ,  -516.52451999,  -287.71518917,\n",
       "        -354.9222652 ,  -430.2088063 ,  -355.8165049 ,  -593.02750816,\n",
       "        -599.4066441 ,  -586.64837222,  -593.41257766,  -711.6330098 ,\n",
       "        -481.57602707,  -703.97804667,  -638.29615991,  -659.34730851,\n",
       "        -696.32308354,  -719.28797292,  -358.78164244,  -468.16743965,\n",
       "        -430.2088063 ,  -587.09723308,  -725.28203936,  -645.31320945,\n",
       "        -652.33025898,  -694.40702142,  -765.9553919 ,  -355.8165049 ,\n",
       "        -652.33025898,  -717.56328488,  -599.4066441 ,  -434.88683932,\n",
       "        -593.02750816,  -659.34730851,  -791.21677021,  -774.37585134,\n",
       "        -702.1257759 ,  -359.64398646,  -725.28203936,  -817.21578875,\n",
       "        -358.78164244,  -645.31320945,  -696.32308354,  -835.58770025,\n",
       "        -434.88683932,  -382.97769595,  -659.34730851,  -359.64398646,\n",
       "        -652.33025898,  -362.64101968,  -791.21677021,  -652.33025898,\n",
       "        -439.56487234,  -782.79631078,  -765.9553919 ,  -434.88683932,\n",
       "        -520.29627473,  -439.56487234,  -702.1257759 ,  -358.78164244,\n",
       "        -659.34730851,  -599.4066441 ,  -387.18792567,  -362.64101968,\n",
       "        -645.31320945,  -473.22968693,  -474.42200653,  -439.56487234,\n",
       "        -434.88683932,  -439.56487234,  -391.39815539,  -479.52531528,\n",
       "        -652.33025898,  -599.4066441 ,  -395.60838511,  -362.64101968,\n",
       "        -544.81052583,  -478.37552325,  -659.34730851,  -483.52135958,\n",
       "        -516.25056756,  -516.25056756,  -391.39815539,  -439.56487234,\n",
       "        -863.14556751,  -524.06802946,  -395.60838511,  -395.60838511,\n",
       "        -521.86420718,  -417.79385013,  -521.86420718,  -483.52135958,\n",
       "        -516.25056756,  -521.86420718,  -527.47784681,  -521.86420718,\n",
       "        -426.97980588,  -395.60838511,  -431.57278375,  -527.47784681,\n",
       "        -483.52135958,  -426.97980588,  -575.43037834,  -569.30640784,\n",
       "        -431.57278375,  -575.43037834,  -610.27626468,  -628.86282433,\n",
       "        -380.86594603,  -761.73189206])"
      ]
     },
     "execution_count": 117,
     "metadata": {},
     "output_type": "execute_result"
    }
   ],
   "source": [
    "W_mag"
   ]
  },
  {
   "cell_type": "code",
   "execution_count": 138,
   "metadata": {},
   "outputs": [],
   "source": [
    "a = 150\n",
    "b = 1200"
   ]
  },
  {
   "cell_type": "code",
   "execution_count": 139,
   "metadata": {
    "scrolled": false
   },
   "outputs": [
    {
     "data": {
      "text/plain": [
       "(array([ 0.37368837,  0.6607661 , -0.39388932,  2.        , -0.48610417]),\n",
       " array([[ 1.07897130e-04, -5.77450289e-05, -1.02212894e-04,\n",
       "          1.72255243e+01,  8.08145748e-05],\n",
       "        [-5.77450289e-05,  8.36030733e-04, -1.85173768e-05,\n",
       "         -3.56682549e+01, -4.20759125e-04],\n",
       "        [-1.02212894e-04, -1.85173768e-05,  1.03748834e-04,\n",
       "         -1.47440967e+01, -4.75280875e-05],\n",
       "        [ 1.72255243e+01, -3.56682549e+01, -1.47440967e+01,\n",
       "          6.65429086e+06,  2.99419630e+01],\n",
       "        [ 8.08145748e-05, -4.20759125e-04, -4.75280875e-05,\n",
       "          2.99419630e+01,  1.02429235e-03]]))"
      ]
     },
     "execution_count": 139,
     "metadata": {},
     "output_type": "execute_result"
    }
   ],
   "source": []
  },
  {
   "cell_type": "code",
   "execution_count": 140,
   "metadata": {},
   "outputs": [
    {
     "data": {
      "text/plain": [
       "(array([ 0.80394296,  1.43811362, -0.83043379,  2.        ,  0.60414166]),\n",
       " array([[ 1.36445605e-04, -4.51461700e-05, -1.30999329e-04,\n",
       "          7.74720008e+00,  5.35197082e-05],\n",
       "        [-4.51461700e-05,  1.44752698e-03, -3.93868752e-05,\n",
       "         -2.65004073e+01, -3.56001934e-04],\n",
       "        [-1.30999329e-04, -3.93868752e-05,  1.30661464e-04,\n",
       "         -6.41552756e+00, -3.41427085e-05],\n",
       "        [ 7.74720008e+00, -2.65004073e+01, -6.41552756e+00,\n",
       "          2.15379571e+06,  1.06993798e+01],\n",
       "        [ 5.35197082e-05, -3.56001934e-04, -3.41427085e-05,\n",
       "          1.06993798e+01,  4.41460740e-04]]))"
      ]
     },
     "execution_count": 140,
     "metadata": {},
     "output_type": "execute_result"
    }
   ],
   "source": []
  },
  {
   "cell_type": "code",
   "execution_count": 141,
   "metadata": {},
   "outputs": [
    {
     "data": {
      "text/plain": [
       "(array([1.33211241, 1.30832234, 1.28743239, 1.33227458, 0.88807494,\n",
       "        0.6660562 , 1.01356379, 0.9990843 , 1.26519811, 0.87221489,\n",
       "        1.30847878, 1.3324368 , 0.85828826, 1.28758387, 0.88818306,\n",
       "        0.98124175, 0.65416117, 0.96557429, 0.99546265, 0.64371619,\n",
       "        0.97956812, 0.99920594, 0.66613729, 0.6660562 , 1.30863525,\n",
       "        0.84346541, 1.01368718, 1.2653444 , 0.58279918, 1.28773539,\n",
       "        0.94889858, 0.87231918, 0.85838925, 0.65416117, 0.98135908,\n",
       "        0.64371619, 0.8882912 , 0.3330281 , 0.49954215, 0.9656879 ,\n",
       "        0.63259906, 0.9993276 , 0.96265074, 0.66613729, 0.57239102,\n",
       "        0.32708058, 0.56325167, 0.63259906, 0.3218581 , 0.26063069,\n",
       "        0.65423939, 0.99558168, 0.64379193, 0.49062088, 0.97968338,\n",
       "        0.65423939, 0.48278715, 0.25597611, 0.64379193, 0.33306865,\n",
       "        0.31629953, 0.6662184 , 0.25188895, 0.58287013, 1.01381061,\n",
       "        1.26549073, 0.9490083 , 0.98147644, 0.6662184 , 0.96580154,\n",
       "        0.84356294, 0.55352417, 0.8724235 , 0.24753876, 0.14569979,\n",
       "        0.32711969, 0.29139959, 0.26066242, 0.32189597, 0.38853278,\n",
       "        0.6326722 , 0.49960297, 0.85849026, 0.19426639, 0.58279918,\n",
       "        0.14309776, 0.45782777, 0.65431763, 0.47444929, 0.14081292,\n",
       "        0.64386769, 0.3330281 , 0.57245946, 0.28619551, 0.3331092 ,\n",
       "        0.19079701, 0.25600672, 0.28162583, 0.70452604, 0.18775056,\n",
       "        0.3163361 , 0.25191858, 0.56331794, 0.13838104, 0.70453418,\n",
       "        0.6326722 , 0.96276205, 0.38159402, 0.55956728, 0.94911805,\n",
       "        0.18450806, 0.99570073, 0.27676209, 0.65431763, 0.70454233,\n",
       "        0.37550111, 0.32715881, 0.63274537, 0.49067954, 0.21854969,\n",
       "        0.5829411 , 0.14571753, 0.24756738, 0.26069416, 0.32193385,\n",
       "        0.48284395, 0.32708058, 0.70455048, 0.97979866, 0.67400374,\n",
       "        0.29143507, 0.64386769, 0.3218581 , 0.19429004, 0.63091884,\n",
       "        0.14311487, 0.70455862, 0.57239102, 0.29139959, 0.14082949,\n",
       "        0.63092614, 0.55145761, 0.25603733, 0.56325167, 0.31637268,\n",
       "        0.61998291, 0.70456677, 0.55358818, 0.28622973, 0.4996638 ,\n",
       "        0.25194823, 0.19081982, 0.21464663, 0.97194717, 0.50009636,\n",
       "        0.28165897, 0.84366049, 0.18777265, 0.63093343, 0.36901612,\n",
       "        0.13839704, 0.21121938, 0.70457492, 0.61999008, 0.38858009,\n",
       "        0.63114169, 0.93421786, 0.63904205, 1.08734723, 0.63094073,\n",
       "        0.46765768, 0.70458306, 0.57252792, 0.92794292, 0.61999725,\n",
       "        0.31629953, 0.56362083, 0.770703  , 0.24759601, 0.47450415,\n",
       "        0.18452939, 0.81312965, 0.14573528, 0.44873511, 0.27679409,\n",
       "        0.47306412, 0.33306865, 1.07796238, 0.63094802, 0.40916975,\n",
       "        0.56338423, 0.43521899, 0.70459121, 0.62000442, 0.56362735,\n",
       "        0.55520858, 0.91866349, 0.1943137 , 0.29147055, 0.44332866,\n",
       "        0.57667769, 1.0071172 , 0.7509786 , 0.63095532, 0.20757156,\n",
       "        0.4244061 , 0.55355617, 0.28619551, 0.42288964, 0.4135932 ,\n",
       "        0.62001159, 0.57740855, 0.56363386, 0.14313198, 0.555215  ,\n",
       "        0.40366738, 0.52285259, 0.54784381, 0.98442019, 0.14084606,\n",
       "        0.49073822, 0.98937302, 0.58287013, 0.97947929, 0.97902446,\n",
       "        0.51638866, 0.63096261, 0.74392712, 0.28162583, 0.83983785,\n",
       "        0.40142174, 0.38163964, 0.54821374, 0.84600084, 0.55356257,\n",
       "        0.62001876, 0.97591022, 0.93938136, 0.56364038, 0.97399282,\n",
       "        0.96287338, 0.55522142, 0.69986487, 0.52875053, 0.90721076,\n",
       "        0.2185763 , 0.48290077, 0.92594482, 0.92001517, 0.88147429,\n",
       "        0.28626396, 0.70932586, 0.3755453 , 0.19084264, 0.63274537,\n",
       "        0.55352417, 0.9653752 , 0.71954896, 0.80447933, 0.73724279,\n",
       "        0.91720026, 0.63096991, 0.79265595, 0.89055839, 0.28169212,\n",
       "        0.88943717, 0.55356897, 0.62002593, 0.77852838, 0.18779474,\n",
       "        0.35802073, 0.68337492, 0.49598633, 0.13841305, 0.37003485,\n",
       "        0.38204897, 0.5636469 , 0.91554938, 0.87756815, 0.76295782,\n",
       "        0.54464949, 0.55522784, 0.36006938, 0.32711969, 0.38262901,\n",
       "        0.4014287 , 0.36980098, 0.38196549, 0.68337492, 0.63097721,\n",
       "        0.49572195, 0.5158151 , 0.32919256, 0.33399829, 0.49659218,\n",
       "        0.6200331 , 0.55357538, 0.32189597, 0.48057308, 0.47096162,\n",
       "        0.65742397, 0.49599207, 0.32005057, 0.49998622, 0.34360975,\n",
       "        0.56365342, 0.64012334, 0.47863418, 0.84621532, 0.66172617,\n",
       "        0.55523426, 0.62282271, 0.14892304, 0.181346  , 0.30491304,\n",
       "        0.32870058, 0.38705246, 0.84339112, 0.35562408, 0.18002844,\n",
       "        0.1910278 , 0.5536522 , 0.1666082 , 0.81390192, 0.17354394,\n",
       "        0.7962084 , 0.18813457, 0.1548183 , 0.17692599, 0.16955702,\n",
       "        0.15187201, 0.18455073, 0.16889562, 0.29410562, 0.16868115,\n",
       "        0.1753267 , 0.26857832, 0.18429471, 0.18336603, 0.49572768,\n",
       "        0.82662692, 0.30059325, 0.17987476, 0.65662619, 0.287618  ,\n",
       "        0.20266068, 0.2768261 , 0.79831778, 0.19301352, 0.79522951,\n",
       "        0.27681009, 0.21552429, 0.21054924, 0.62004027, 0.75020525,\n",
       "        0.26815978, 0.55358178, 0.27441698, 0.20170613, 0.25301295,\n",
       "        0.22293062, 0.36714691, 0.30708087, 0.1946321 , 0.4959978 ,\n",
       "        0.56365993, 0.19817086, 0.499992  , 0.29410562, 0.18658297,\n",
       "        0.20701418, 0.23939333, 0.27248493, 0.55524068, 0.21874107,\n",
       "        0.71717734, 0.22771955, 0.62517104, 0.28329783, 0.27326185,\n",
       "        0.23177707, 0.78389404, 0.76083456, 0.2264692 , 0.21939584,\n",
       "        0.20748594, 0.25885171, 0.20524483, 0.78442633, 0.31789358,\n",
       "        0.2146723 , 0.21055289, 0.23531565, 0.18979992, 0.23161219,\n",
       "        0.28978557, 0.25753901, 0.24523219, 0.42674149, 0.49573341,\n",
       "        0.26469047, 0.43827504, 0.24378162, 0.3886274 , 0.21939584,\n",
       "        0.45557537, 0.74737429, 0.55358818, 0.24912476, 0.40655777,\n",
       "        0.24062352, 0.29843588, 0.35608827, 0.56366645, 0.49600354,\n",
       "        0.23745116, 0.63057518, 0.21124423, 0.49999778, 0.5552471 ,\n",
       "        0.44284494, 0.66528789, 0.22824245, 0.70281374, 0.3918389 ,\n",
       "        0.71362626, 0.36905878, 0.39214763, 0.60334903, 0.27676209,\n",
       "        0.58388616, 0.63697777, 0.40221874, 0.37773044, 0.76436006,\n",
       "        0.65113283, 0.44774885, 0.40079795, 0.56971158, 0.66528789,\n",
       "        0.4718272 , 0.68887966, 0.47455902, 0.60866765, 0.38349732,\n",
       "        0.5622705 , 0.49573914, 0.40944826, 0.45586979, 0.36272345,\n",
       "        0.57799835, 0.62282271, 0.35811063, 0.59765815, 0.67038781,\n",
       "        0.39842495, 0.63697777, 0.55359458, 0.39214763, 0.47242518,\n",
       "        0.65307616, 0.42386545, 0.56367297, 0.68120052, 0.36589565,\n",
       "        0.49600927, 0.55525352, 0.50000356, 0.44285006, 0.52161402,\n",
       "        0.69741958, 0.29143507, 0.44116608, 0.37368066, 0.5293993 ,\n",
       "        0.3399515 , 0.58762914, 0.36435545, 0.75922603, 0.57245946,\n",
       "        0.64877365, 0.54496987, 0.60049693, 0.3331092 , 0.3163361 ,\n",
       "        0.44775403, 0.6541801 , 0.3451416 , 0.32179173, 0.26598336,\n",
       "        0.33262664, 0.61765399, 0.38665568, 0.56443308, 0.25301295,\n",
       "        0.24220463, 0.28737071, 0.23355852, 0.49574487, 0.26894617,\n",
       "        0.34600061, 0.45587506, 0.51310318, 0.30904146, 0.28309632,\n",
       "        0.34339131, 0.55360098, 0.59253633, 0.22705109, 0.32698192,\n",
       "        0.23591769, 0.35292675, 0.34724135, 0.52725775, 0.27236353,\n",
       "        0.27030829, 0.38270428, 0.2378713 , 0.29253286, 0.22411403,\n",
       "        0.24663695, 0.20839396, 0.55332463, 0.31375965, 0.60983666,\n",
       "        0.49601501, 0.54495096, 0.27838288, 0.1874235 , 0.55525994,\n",
       "        0.50000935, 0.27366452, 0.28781459, 0.20903841, 0.61443704,\n",
       "        0.2380624 , 0.44285518, 0.51469377, 0.27665272, 0.56619264,\n",
       "        0.21035994, 0.88196922, 0.29725114, 0.33476721, 0.21822008,\n",
       "        0.47418634, 0.24180305, 0.56331794, 0.32083693, 0.28310123,\n",
       "        0.57906066, 0.33839444, 0.44823584, 0.55794534, 0.48126374,\n",
       "        0.52759775, 0.44775921, 0.55044597, 0.46357022, 0.43172938,\n",
       "        0.49575061, 0.34255249, 0.39998898, 0.44588444, 0.53617657,\n",
       "        0.30432854, 0.45588033, 0.44853851, 0.82400498, 0.55360738,\n",
       "        0.47418634, 0.4082416 , 0.88964773, 0.41890737, 0.43880691,\n",
       "        0.29017876, 0.33027331, 0.20759557, 0.49602074, 0.51113727,\n",
       "        0.54904481, 0.45650073, 0.50001513, 0.41498627, 0.38601363,\n",
       "        0.4428603 , 0.80948702, 0.36980098, 0.32843597, 0.48362288,\n",
       "        0.46711703, 0.75163377, 0.36220054, 0.38168528, 0.39569145,\n",
       "        0.4600395 , 0.44776439, 0.49148667, 0.37639595, 0.49575634,\n",
       "        0.3999936 , 0.35386426, 0.45610754, 0.4558856 , 0.43261407,\n",
       "        0.36271087, 0.46790342, 0.40824632, 0.21860291, 0.60866765,\n",
       "        0.41891222, 0.38283007, 0.46493026, 0.49602648, 0.50002091,\n",
       "        0.34797256, 0.34207472, 0.36860861, 0.44286542, 0.37558949,\n",
       "        0.35092148, 0.47969931, 0.38926419, 0.34502364, 0.33028477,\n",
       "        0.33323374, 0.44776956, 0.49576207, 0.4252998 , 0.57261672,\n",
       "        0.40728568, 0.39999823, 0.45589087, 0.44562231, 0.36469583,\n",
       "        0.42890403, 0.37514093, 0.25213266, 0.30816214, 0.40825104,\n",
       "        0.29735459, 0.49603221, 0.41891706, 0.32715881, 0.50002669,\n",
       "        0.41449428, 0.31086532, 0.79690322, 0.75273968, 0.44287054,\n",
       "        0.80139215, 0.68714006, 0.30005781, 0.58035752, 0.32844166,\n",
       "        0.44777474, 0.4957678 , 0.45589615, 0.40000285, 0.5829411 ,\n",
       "        0.32193385, 0.36470005, 0.69218251, 0.37514527, 0.31258552,\n",
       "        0.28622973, 0.40825576, 0.41892191, 0.50003247, 0.42203054,\n",
       "        0.31251722, 0.55912493, 0.44287566, 0.30275579, 0.798472  ,\n",
       "        0.80102001, 0.30256444, 0.29292605, 0.75043658, 0.29460222,\n",
       "        0.44777992, 0.3351259 , 0.64853668, 0.40630269, 0.45590142,\n",
       "        0.40000748, 0.65821036, 0.8054347 , 0.28165897, 0.36470427,\n",
       "        0.37514961, 0.7180103 , 0.40826048, 0.41892675, 0.39319615,\n",
       "        0.78985243, 0.58872188, 0.21469797, 0.75759122, 0.38533223,\n",
       "        0.39160978, 0.44288078, 0.72772132, 0.60319865, 0.63697777,\n",
       "        0.55912493, 0.76858475, 0.62423821, 0.74226335, 0.72863869,\n",
       "        0.72120623, 0.4477851 , 0.74908586, 0.33512977, 0.54141232,\n",
       "        0.45590669, 0.36910146, 0.4000121 , 0.26933937, 0.53789234,\n",
       "        0.21126909, 0.27327133, 0.36470848, 0.40826521, 0.37515395,\n",
       "        0.28113525, 0.41893159, 0.52373728, 0.29096515, 0.4428859 ,\n",
       "        0.50958222, 0.55358818, 0.26185955, 0.53723961, 0.26893684,\n",
       "        0.44779027, 0.33513365, 0.45591196, 0.40001673, 0.3647127 ,\n",
       "        0.40826993, 0.37515828, 0.31637268, 0.41893644, 0.24947431,\n",
       "        0.69235799, 0.51150358, 0.65316909, 0.67633111, 0.24063187,\n",
       "        0.65144324, 0.66591975, 0.69004728, 0.24593993, 0.61380429,\n",
       "        0.37274349, 0.33513752, 0.34915213, 0.35858867, 0.40002135,\n",
       "        0.25124798, 0.22648098, 0.2197459 , 0.58678146, 0.23532382,\n",
       "        0.36471692, 0.40827465, 0.37516262, 0.41894128, 0.15629547,\n",
       "        0.21940345, 0.26009474, 0.22452298, 0.147296  , 0.1419905 ,\n",
       "        0.64136785, 0.24063187, 0.23178913, 0.14344912, 0.15392828,\n",
       "        0.20701059, 0.22357787, 0.622501  , 0.22294222, 0.61148805,\n",
       "        0.33263818, 0.15002675, 0.19586727, 0.17226756, 0.20761957,\n",
       "        0.14475763, 0.23709728, 0.186316  , 0.1621398 , 0.16503229,\n",
       "        0.16937524, 0.3351414 , 0.18239778, 0.148374  , 0.16581329,\n",
       "        0.64180336, 0.15792015, 0.40002598, 0.17633806, 0.32084806,\n",
       "        0.15924444, 0.18963579, 0.21178776, 0.49364921, 0.36472113,\n",
       "        0.47772504, 0.21071374, 0.17950569, 0.40827937, 0.37516696,\n",
       "        0.46612766, 0.57502943, 0.41894613, 0.32059546, 0.14717026,\n",
       "        0.1526588 , 0.32792559, 0.24417481, 0.18529298, 0.18950089,\n",
       "        0.4600395 , 0.15078658, 0.19945769, 0.20064452, 0.32908806,\n",
       "        0.17896997, 0.19253099, 0.17227054, 0.58387603, 0.16792759,\n",
       "        0.47290774, 0.48899303, 0.33500312, 0.21656493, 0.30905218,\n",
       "        0.52116363, 0.16976122, 0.57252792, 0.32598405, 0.34679901,\n",
       "        0.31377053, 0.53274504, 0.20382935, 0.12184613, 0.29147055,\n",
       "        0.15529085, 0.36095407, 0.54432646, 0.27679409, 0.4980008 ,\n",
       "        0.33514527, 0.19687379, 0.53433504, 0.29299961, 0.56362881,\n",
       "        0.17950569, 0.12425892, 0.54849912, 0.19427822, 0.32084806,\n",
       "        0.13872847, 0.12666952, 0.36472535, 0.13818733, 0.1363158 ,\n",
       "        0.42677511, 0.50958222, 0.3751713 , 0.18674382, 0.55734588,\n",
       "        0.29936917, 0.13801185, 0.43314488, 0.52116363, 0.48078748,\n",
       "        0.298109  , 0.30573872, 0.44588444, 0.57061602, 0.56338423,\n",
       "        0.49131567, 0.27814213, 0.41981169, 0.53081481, 0.46180888,\n",
       "        0.33514915, 0.53523826, 0.50535326, 0.43139271, 0.48480245,\n",
       "        0.28238858, 0.26328414, 0.31635465, 0.28095652, 0.19816742,\n",
       "        0.36472957, 0.20701059, 0.27214907, 0.22004687, 0.21762275,\n",
       "        0.19109333, 0.45272015, 0.37517564, 0.44586897, 0.31312169,\n",
       "        0.19302357, 0.2528521 , 0.23162426, 0.23512149, 0.19462197,\n",
       "        0.49895726, 0.23934507, 0.20179386, 0.26753066, 0.38797064,\n",
       "        0.28875825, 0.22776781, 0.17050415, 0.18336603, 0.22284289,\n",
       "        0.42111308, 0.19477833, 0.18576907, 0.46324852, 0.25671244,\n",
       "        0.22116133, 0.17103143, 0.39376125, 0.45036489, 0.22390734,\n",
       "        0.45650073, 0.23548467, 0.43167088, 0.17211268, 0.24320548,\n",
       "        0.36481454, 0.1785437 , 0.19783886, 0.37928473, 0.33515303,\n",
       "        0.35323313, 0.22635222, 0.4737769 , 0.23162828, 0.27390044,\n",
       "        0.41820322, 0.43868992, 0.26250294, 0.33953422, 0.31582933,\n",
       "        0.35902383, 0.38797064, 0.3735006 , 0.39569145, 0.30256444,\n",
       "        0.24899608, 0.28027022, 0.37639595, 0.44921848, 0.2963459 ,\n",
       "        0.32374755, 0.23741899, 0.30796033, 0.28952531, 0.29676344,\n",
       "        0.40212545, 0.38218666, 0.1533465 , 0.3351569 , 0.3731789 ,\n",
       "        0.38283007, 0.28470482, 0.38039748, 0.27987932, 0.31322461,\n",
       "        0.30158886, 0.28711757, 0.27023299, 0.28229207, 0.34797256,\n",
       "        0.39248125, 0.33323374, 0.27264579, 0.31848888, 0.35092148,\n",
       "        0.24329012, 0.25434435, 0.33913168, 0.24550185, 0.28626396,\n",
       "        0.28169212, 0.5536522 , 0.2768261 ]),\n",
       " array([2.19574242, 2.22834195, 2.19553834, 2.26872801, 1.46382828,\n",
       "        1.09787121, 1.67067358, 1.64680682, 2.22813177, 1.4855613 ,\n",
       "        2.30354793, 2.34673244, 1.46369223, 2.26851014, 1.51248534,\n",
       "        1.67125647, 1.11417098, 1.64665376, 1.69547757, 1.09776917,\n",
       "        1.6705183 , 1.70154601, 1.134364  , 1.09787121, 2.38400759,\n",
       "        1.48542118, 1.72620609, 2.30332333, 0.96063731, 2.34649934,\n",
       "        1.67109883, 1.53569862, 1.51234009, 1.11417098, 1.72766095,\n",
       "        1.09776917, 1.5644883 , 0.54893561, 0.82340341, 1.7013826 ,\n",
       "        1.11406589, 1.76004933, 1.69531765, 1.134364  , 0.97489961,\n",
       "        0.55708549, 0.96054803, 1.11406589, 0.54888459, 0.42960178,\n",
       "        1.15177397, 1.75269952, 1.13425507, 0.83562823, 1.72604032,\n",
       "        1.15177397, 0.82332688, 0.43597995, 1.13425507, 0.567182  ,\n",
       "        0.55703294, 1.17336622, 0.42956185, 0.9925685 , 1.78555729,\n",
       "        2.38376702, 1.7274925 , 1.78800569, 1.17336622, 1.7598745 ,\n",
       "        1.53554888, 0.97480765, 1.58933839, 0.43593883, 0.24015933,\n",
       "        0.57588698, 0.48031865, 0.44388157, 0.56712753, 0.64042487,\n",
       "        1.15166166, 0.850773  , 1.56433289, 0.32021244, 0.96063731,\n",
       "        0.2437249 , 0.84764432, 1.1920038 , 0.83554941, 0.24013701,\n",
       "        1.17324967, 0.54893561, 1.00780222, 0.4874498 , 0.58668311,\n",
       "        0.32496654, 0.45069416, 0.48027401, 1.26125093, 0.32018268,\n",
       "        0.57583083, 0.44383894, 0.99247319, 0.24370191, 1.26545052,\n",
       "        1.15166166, 1.75252862, 0.64993307, 1.03600973, 1.78782526,\n",
       "        0.32493588, 1.81391882, 0.48740383, 1.1920038 , 1.26967817,\n",
       "        0.64036535, 0.5960019 , 1.19188351, 0.86383048, 0.36023899,\n",
       "        1.02669544, 0.24814213, 0.45065022, 0.4591433 , 0.58662483,\n",
       "        0.8506913 , 0.55708549, 1.27393415, 1.78537993, 1.2478829 ,\n",
       "        0.49628425, 1.17324967, 0.54888459, 0.33085617, 1.12947845,\n",
       "        0.25195056, 1.27821877, 0.97489961, 0.48031865, 0.2481183 ,\n",
       "        1.13323927, 1.0209951 , 0.46643627, 0.96054803, 0.59594175,\n",
       "        1.10990082, 1.28253231, 1.00770396, 0.50390111, 0.88002467,\n",
       "        0.4590977 , 0.33593407, 0.36558735, 1.78122955, 0.92590242,\n",
       "        0.49623659, 1.58917801, 0.3308244 , 1.13702522, 0.64987177,\n",
       "        0.25192599, 0.36020551, 1.28687505, 1.11359646, 0.66171234,\n",
       "        1.16256047, 1.72082554, 1.18315314, 2.00288923, 1.14083656,\n",
       "        0.86584388, 1.29124731, 1.04300332, 1.71803809, 1.11731679,\n",
       "        0.55703294, 1.00900075, 1.40528402, 0.4663892 , 0.86374625,\n",
       "        0.33590132, 1.50546728, 0.25667386, 0.83080973, 0.50385198,\n",
       "        0.87585364, 0.567182  , 1.99579132, 1.14467353, 0.75755652,\n",
       "        1.02659346, 0.80578535, 1.29564938, 1.12106206, 1.01236041,\n",
       "        0.99394103, 1.70085771, 0.34223181, 0.51334772, 0.82079998,\n",
       "        1.06223799, 1.82712419, 1.37627364, 1.14853639, 0.36555287,\n",
       "        0.78576583, 0.99098287, 0.4874498 , 0.77500459, 0.76574632,\n",
       "        1.12483252, 1.06904192, 1.01574253, 0.26075083, 0.99725056,\n",
       "        0.73977711, 0.96803439, 1.00912609, 1.82260282, 0.25664836,\n",
       "        0.89400285, 1.80400245, 0.9925685 , 1.78596243, 1.79419967,\n",
       "        0.95118584, 1.15242542, 1.3773424 , 0.48027401, 1.53912068,\n",
       "        0.73941723, 0.67186815, 1.01498924, 1.56632659, 0.99428255,\n",
       "        1.12862843, 1.79762272, 1.73921576, 1.01914732, 1.78497849,\n",
       "        1.81373578, 1.0005822 , 1.28260057, 0.97895412, 1.67965358,\n",
       "        0.37221319, 0.87993725, 1.69692378, 1.66910264, 1.63200383,\n",
       "        0.52150166, 1.31327997, 0.66164879, 0.34766777, 1.19188351,\n",
       "        0.97480765, 1.787342  , 1.3322075 , 1.48945167, 1.36496671,\n",
       "        1.67240412, 1.15634088, 1.45265323, 1.63207319, 0.51329673,\n",
       "        1.63833969, 0.99760427, 1.13245005, 1.44140484, 0.34219782,\n",
       "        0.65947275, 1.26523314, 0.88792066, 0.26072452, 0.68160271,\n",
       "        0.70373267, 1.02257502, 1.69509209, 1.60013975, 1.41257674,\n",
       "        1.00839022, 1.00393617, 0.66664974, 0.57588698, 0.70841772,\n",
       "        0.74322437, 0.6846673 , 0.70718925, 1.26523314, 1.16028303,\n",
       "        0.88744735, 0.95500485, 0.60948291, 0.61838047, 0.91941461,\n",
       "        1.13629763, 1.00094826, 0.56712753, 0.88975607, 0.87196095,\n",
       "        1.21718631, 0.89087716, 0.58653756, 0.89508131, 0.63617559,\n",
       "        1.02602585, 1.18515509, 0.87716428, 1.56672368, 1.21270604,\n",
       "        1.0073127 , 1.15312387, 0.27572327, 0.32735432, 0.55879592,\n",
       "        0.60238993, 0.71660752, 1.55352306, 0.6584195 , 0.32992738,\n",
       "        0.35367804, 1.04289807, 0.30378997, 1.49920407, 0.31966725,\n",
       "        1.46661268, 0.34304071, 0.28517469, 0.32098128, 0.30916679,\n",
       "        0.28118314, 0.34763269, 0.31270146, 0.54174137, 0.31230438,\n",
       "        0.32295107, 0.48972019, 0.33267716, 0.33604397, 0.89040228,\n",
       "        1.51490979, 0.55369155, 0.32633096, 1.2095028 , 0.5297912 ,\n",
       "        0.36766946, 0.52144904, 1.46302932, 0.35193689, 1.45736963,\n",
       "        0.5124995 , 0.38905082, 0.38586101, 1.14017145, 1.38187506,\n",
       "        0.49648389, 1.00431475, 0.50036628, 0.37154188, 0.46368172,\n",
       "        0.40648711, 0.67975342, 0.56564173, 0.36035121, 0.89385343,\n",
       "        1.02950004, 0.36690305, 0.89806166, 0.54174137, 0.34193948,\n",
       "        0.3813193 , 0.44096155, 0.50449169, 1.01071203, 0.39485754,\n",
       "        1.32103779, 0.42161092, 1.15156255, 0.52451121, 0.50079067,\n",
       "        0.42261755, 1.4293363 , 1.40864564, 0.41293929, 0.40207366,\n",
       "        0.3764235 , 0.47438207, 0.37806016, 1.45232457, 0.58555869,\n",
       "        0.37792583, 0.38783758, 0.42906973, 0.34783499, 0.42881794,\n",
       "        0.53652291, 0.47438583, 0.45171671, 0.78605611, 0.89337696,\n",
       "        0.48508242, 0.80730087, 0.45134899, 0.68446363, 0.40207366,\n",
       "        0.83916801, 1.37666043, 1.00770396, 0.45888681, 0.74887778,\n",
       "        0.43874799, 0.55253852, 0.65927892, 1.03299785, 0.89684964,\n",
       "        0.43962848, 1.14977783, 0.37217744, 0.90106192, 1.01413437,\n",
       "        0.7927863 , 1.23174596, 0.41828631, 1.28800478, 0.714471  ,\n",
       "        1.30782024, 0.67180264, 0.72604096, 1.1113665 , 0.48740383,\n",
       "        1.07551596, 1.17933123, 0.73339738, 0.69934827, 1.40794817,\n",
       "        1.20553859, 0.80156535, 0.74205657, 1.0388004 , 1.23174596,\n",
       "        0.86910381, 1.27542489, 0.89391263, 1.12691651, 0.71002535,\n",
       "        1.04101461, 0.89637158, 0.75807218, 0.81610354, 0.67156362,\n",
       "        1.0701339 , 1.15312387, 0.65628798, 1.10653301, 1.23485166,\n",
       "        0.73016961, 1.17933123, 1.01111611, 0.72604096, 0.87467067,\n",
       "        1.19685367, 0.78476486, 1.0365195 , 1.25476863, 0.67055511,\n",
       "        0.89986602, 1.01757997, 0.9040823 , 0.79542604, 0.96574124,\n",
       "        1.28464407, 0.49628425, 0.81679608, 0.68482223, 0.98015529,\n",
       "        0.62618929, 1.07691284, 0.67114128, 1.40566753, 1.00780222,\n",
       "        1.2011707 , 1.00898339, 1.10049487, 0.58668311, 0.57583083,\n",
       "        0.80423432, 1.21118046, 0.63574944, 0.59578067, 0.48498859,\n",
       "        0.60650458, 1.13193758, 0.70860078, 1.04501851, 0.46368172,\n",
       "        0.44613996, 0.52135141, 0.43242145, 0.89938634, 0.49793985,\n",
       "        0.63409466, 0.81882092, 0.94033356, 0.56636182, 0.52146229,\n",
       "        0.63577116, 1.01455146, 1.09144953, 0.40985826, 0.60539003,\n",
       "        0.43678935, 0.65008965, 0.64289932, 0.9662738 , 0.49662206,\n",
       "        0.49287459, 0.70493976, 0.43372964, 0.53884436, 0.41072041,\n",
       "        0.45430426, 0.38583059, 1.01922174, 0.57500857, 1.12331667,\n",
       "        0.90290274, 0.99869909, 0.51541143, 0.34700487, 1.02104906,\n",
       "        0.907123  , 0.50667564, 0.53015332, 0.38115635, 1.12604207,\n",
       "        0.44076016, 0.79808342, 0.95292876, 0.50444288, 1.04292457,\n",
       "        0.3894705 , 1.63292017, 0.5475354 , 0.61980408, 0.40196051,\n",
       "        0.87344933, 0.44089872, 0.99247319, 0.58797869, 0.52414722,\n",
       "        1.0666274 , 0.62651972, 0.82564862, 1.0330068 , 0.88648589,\n",
       "        0.97681981, 0.80692113, 1.00367188, 0.85389449, 0.7993245 ,\n",
       "        0.90242145, 0.63421813, 0.71606505, 0.82553186, 0.99270306,\n",
       "        0.56057196, 0.82155646, 0.83044574, 1.49491979, 1.01801023,\n",
       "        0.87344933, 0.73083899, 1.63872756, 0.74993299, 0.81242818,\n",
       "        0.5372509 , 0.60527218, 0.37788898, 0.90596004, 0.93673075,\n",
       "        1.01652793, 0.84518738, 0.91018422, 0.76052056, 0.71103555,\n",
       "        0.80075861, 1.476002  , 0.6846673 , 0.60497773, 0.89083141,\n",
       "        0.8648429 , 1.39161086, 0.65382151, 0.69533555, 0.72886206,\n",
       "        0.85173922, 0.80962594, 0.90531647, 0.69687755, 0.90547712,\n",
       "        0.71844933, 0.6485059 , 0.8444594 , 0.82431034, 0.80096246,\n",
       "        0.66471855, 0.86629887, 0.73327247, 0.38501079, 1.12691651,\n",
       "        0.75243004, 0.70878998, 0.84774429, 0.90903811, 0.91326617,\n",
       "        0.64096406, 0.63010026, 0.67552698, 0.8034518 , 0.68439564,\n",
       "        0.64639596, 0.88813834, 0.72070242, 0.63553216, 0.61150508,\n",
       "        0.61696495, 0.81234895, 0.90855355, 0.78340052, 1.04940046,\n",
       "        0.75406827, 0.72084954, 0.82708273, 0.82504654, 0.65288284,\n",
       "        0.7900395 , 0.67158178, 0.46442735, 0.56763343, 0.7357222 ,\n",
       "        0.55053657, 0.91213716, 0.75494377, 0.5960019 , 0.91636906,\n",
       "        0.76741461, 0.57261267, 1.46043695, 1.36562943, 0.80616316,\n",
       "        1.46124198, 1.25928056, 0.55554145, 1.07450179, 0.60809267,\n",
       "        0.81509034, 0.91165095, 0.82987385, 0.72326584, 1.02669544,\n",
       "        0.58662483, 0.65505674, 1.28153994, 0.67381794, 0.57578127,\n",
       "        0.50390111, 0.73818836, 0.75747436, 0.91949311, 0.78136761,\n",
       "        0.57860939, 1.03519075, 0.80889289, 0.55767494, 1.47078222,\n",
       "        1.46798155, 0.56018234, 0.53956862, 1.36833064, 0.5454407 ,\n",
       "        0.8178503 , 0.59994639, 1.18853446, 0.75224832, 0.83268386,\n",
       "        0.7256984 , 1.21864227, 1.49122049, 0.49623659, 0.65724517,\n",
       "        0.67606905, 1.30920525, 0.74067111, 0.76002197, 0.72798224,\n",
       "        1.46237073, 1.08998796, 0.39112625, 1.38839219, 0.7134226 ,\n",
       "        0.71767987, 0.81164117, 1.34045975, 1.11679094, 1.17933123,\n",
       "        1.03519075, 1.42299471, 1.15574461, 1.37426202, 1.33533261,\n",
       "        1.33527586, 0.82062901, 1.38689353, 0.60194403, 0.99221403,\n",
       "        0.83551297, 0.69526538, 0.72814737, 0.49866784, 0.99587971,\n",
       "        0.38497255, 0.50594766, 0.65944827, 0.74317061, 0.67833525,\n",
       "        0.5205073 , 0.76258678, 0.96967235, 0.53870686, 0.81440818,\n",
       "        0.94346499, 1.00770396, 0.47989437, 0.9895932 , 0.49286449,\n",
       "        0.82342666, 0.60395502, 0.83836136, 0.73061293, 0.66166619,\n",
       "        0.74568704, 0.68061669, 0.59594175, 0.76516895, 0.45719666,\n",
       "        1.28186483, 0.94218754, 1.19702399, 1.23947165, 0.44324294,\n",
       "        1.19995583, 1.22662151, 1.27106432, 0.45302036, 1.13062505,\n",
       "        0.68659201, 0.60597949, 0.64313682, 0.6605189 , 0.73309525,\n",
       "        0.46279778, 0.41931777, 0.40068015, 1.0808491 , 0.43346553,\n",
       "        0.66389908, 0.74822057, 0.68291353, 0.76776867, 0.28937294,\n",
       "        0.40621409, 0.47909348, 0.40939059, 0.26994058, 0.26154593,\n",
       "        1.16945697, 0.44324294, 0.42914553, 0.2642327 , 0.28066967,\n",
       "        0.37937595, 0.40973782, 1.15252825, 0.41276593, 1.12635854,\n",
       "        0.61271819, 0.27494507, 0.36078672, 0.31570447, 0.39108678,\n",
       "        0.26262104, 0.43897329, 0.34495439, 0.3001934 , 0.30398881,\n",
       "        0.31198852, 0.60801758, 0.33258037, 0.26783536, 0.30082047,\n",
       "        1.18826556, 0.28794837, 0.73559449, 0.3183143 , 0.59403351,\n",
       "        0.29483281, 0.345778  , 0.38813078, 0.90929986, 0.66614709,\n",
       "        0.87996761, 0.38813386, 0.32896936, 0.75077137, 0.68522593,\n",
       "        0.8499276 , 1.05382209, 0.77038612, 0.58456718, 0.26699806,\n",
       "        0.27976866, 0.60713719, 0.45207697, 0.33785942, 0.35085104,\n",
       "        0.85173922, 0.2721904 , 0.36928554, 0.3695864 , 0.6000524 ,\n",
       "        0.32306526, 0.35105705, 0.31732165, 1.07003474, 0.30932195,\n",
       "        0.8755641 , 0.90534519, 0.62024087, 0.39688561, 0.57219404,\n",
       "        0.96490737, 0.30798286, 1.04300332, 0.5974115 , 0.64208034,\n",
       "        0.58092983, 0.98634976, 0.37545285, 0.22559177, 0.51334772,\n",
       "        0.28459226, 0.6682877 , 1.00779215, 0.50385198, 0.9220226 ,\n",
       "        0.61006942, 0.35897563, 0.97924392, 0.53696289, 1.04352946,\n",
       "        0.32896936, 0.23005893, 1.01033318, 0.35969603, 0.59403351,\n",
       "        0.25295464, 0.23332474, 0.66841037, 0.25584665, 0.24855543,\n",
       "        0.79015193, 0.94346499, 0.68755403, 0.34223425, 1.02662888,\n",
       "        0.548636  , 0.25552177, 0.80194524, 0.96490737, 0.8811105 ,\n",
       "        0.54911559, 0.5603091 , 0.82553186, 1.05107242, 1.02659346,\n",
       "        0.90040489, 0.5123367 , 0.76936382, 0.98277603, 0.85501514,\n",
       "        0.61213516, 0.99096583, 0.92613075, 0.79058765, 0.89300416,\n",
       "        0.52015863, 0.48745691, 0.57976428, 0.5201764 , 0.3650236 ,\n",
       "        0.67068909, 0.37937595, 0.49623102, 0.40740534, 0.39680885,\n",
       "        0.35379937, 0.8339087 , 0.68989802, 0.81711744, 0.57676889,\n",
       "        0.3573731 , 0.46338695, 0.42665096, 0.42656024, 0.3548697 ,\n",
       "        0.91907728, 0.44087266, 0.37170349, 0.49531912, 0.71464036,\n",
       "        0.53189153, 0.42170026, 0.31567957, 0.33604397, 0.40632714,\n",
       "        0.77966898, 0.36062195, 0.33533858, 0.85330192, 0.47046156,\n",
       "        0.40326102, 0.31185519, 0.72530663, 0.82118609, 0.4145528 ,\n",
       "        0.84518738, 0.43376181, 0.79921621, 0.31865768, 0.44798351,\n",
       "        0.67543516, 0.32887678, 0.36073532, 0.69864095, 0.61421494,\n",
       "        0.65399278, 0.41272599, 0.87269515, 0.42884772, 0.50711243,\n",
       "        0.76641607, 0.81221159, 0.48107347, 0.62224409, 0.58175636,\n",
       "        0.66471397, 0.71464036, 0.69151695, 0.72886206, 0.56018234,\n",
       "        0.45864978, 0.51890574, 0.69687755, 0.83170467, 0.53494487,\n",
       "        0.59634168, 0.43956891, 0.57017254, 0.53059574, 0.54386063,\n",
       "        0.74071347, 0.70759874, 0.28391307, 0.61630889, 0.69092133,\n",
       "        0.70878998, 0.52442514, 0.69360896, 0.51553658, 0.57991908,\n",
       "        0.5527039 , 0.52886942, 0.50032234, 0.51998086, 0.64096406,\n",
       "        0.72665864, 0.61696495, 0.50478951, 0.58966562, 0.64639596,\n",
       "        0.45043901, 0.46850127, 0.62788468, 0.45453391, 0.52150166,\n",
       "        0.51329673, 1.04289807, 0.52144904]))"
      ]
     },
     "execution_count": 141,
     "metadata": {},
     "output_type": "execute_result"
    }
   ],
   "source": [
    "Pi_6,Pi_11"
   ]
  },
  {
   "cell_type": "code",
   "execution_count": 142,
   "metadata": {},
   "outputs": [],
   "source": [
    "import scipy.integrate as integrate\n",
    "DTT = np.zeros(len(dT_mg))\n",
    "for i in range(len(dT_mg)):\n",
    "    T_int = np.arange(T_c[i],T_h[i]+0.01,0.1)\n",
    "    dT_med = (dT_mg + dT_dmg)/2\n",
    "    DTT[i] = integrate.simps(dT_med[i]*np.log(1+dT_med[i]/T_int),T_int)"
   ]
  },
  {
   "cell_type": "code",
   "execution_count": 143,
   "metadata": {},
   "outputs": [],
   "source": [
    "DT_ad = np.log((dT_mg + T_h)/T_c)*dT_mg\n",
    "Pi_6 = ((m_f)*c_f)/(m_s*C_L*f)\n",
    "Pi_7 = (T_h-T_c)/(dT_dmg)\n",
    "\n",
    "Pi_11 = ((m_f)*c_f)/(m_s*C_H*f)\n",
    "Pi_12 = dT_dmg/dT_mg"
   ]
  },
  {
   "cell_type": "code",
   "execution_count": 144,
   "metadata": {},
   "outputs": [],
   "source": [
    "def fit_sim(X,a,b,c,d,e,f): \n",
    "    P1,P2,P3= X\n",
    "    return ((a*P1**b+c*(P2)**d)*P3**e)"
   ]
  },
  {
   "cell_type": "code",
   "execution_count": 145,
   "metadata": {},
   "outputs": [
    {
     "data": {
      "text/plain": [
       "[<matplotlib.lines.Line2D at 0x25e08d11080>]"
      ]
     },
     "execution_count": 145,
     "metadata": {},
     "output_type": "execute_result"
    },
    {
     "data": {
      "image/png": "[encoded data removed]",
      "text/plain": [
       "<Figure size 432x288 with 1 Axes>"
      ]
     },
     "metadata": {
      "needs_background": "light"
     },
     "output_type": "display_data"
    }
   ],
   "source": [
    "plt.plot(dT_mg,'o')"
   ]
  },
  {
   "cell_type": "code",
   "execution_count": 146,
   "metadata": {},
   "outputs": [],
   "source": [
    "Pi_10 = W_m/(m_s*f*(C_L-C_H)*(T_h - T_c))"
   ]
  },
  {
   "cell_type": "code",
   "execution_count": 147,
   "metadata": {},
   "outputs": [],
   "source": [
    "K = (C_L-C_H)*(T_h - T_c)"
   ]
  },
  {
   "cell_type": "code",
   "execution_count": 183,
   "metadata": {},
   "outputs": [],
   "source": [
    "a = 400\n",
    "b = 1500"
   ]
  },
  {
   "cell_type": "code",
   "execution_count": 184,
   "metadata": {
    "scrolled": false
   },
   "outputs": [
    {
     "data": {
      "text/plain": [
       "(array([-4.24746211e-05,  8.59623501e-01,  3.06311253e-05,  8.29382882e-01,\n",
       "         6.04968831e-01,  1.00000000e+00]),\n",
       " array([[inf, inf, inf, inf, inf, inf],\n",
       "        [inf, inf, inf, inf, inf, inf],\n",
       "        [inf, inf, inf, inf, inf, inf],\n",
       "        [inf, inf, inf, inf, inf, inf],\n",
       "        [inf, inf, inf, inf, inf, inf],\n",
       "        [inf, inf, inf, inf, inf, inf]]))"
      ]
     },
     "execution_count": 184,
     "metadata": {},
     "output_type": "execute_result"
    }
   ],
   "source": [
    "Coef_sim = curve_fit(fit_sim,(Pi_6[a:b],Pi_11[a:b],K[a:b]),Pi_10[a:b],maxfev=10000000)\n",
    "Coef_sim"
   ]
  },
  {
   "cell_type": "code",
   "execution_count": 185,
   "metadata": {},
   "outputs": [],
   "source": [
    "W_mag = (m_s*f*(C_L-C_H)*(T_h - T_c))*fit_sim((Pi_6,Pi_11,K),Coef_sim[0][0],Coef_sim[0][1],Coef_sim[0][2],Coef_sim[0][3],Coef_sim[0][4],Coef_sim[0][5])"
   ]
  },
  {
   "cell_type": "code",
   "execution_count": 194,
   "metadata": {},
   "outputs": [
    {
     "data": {
      "text/plain": [
       "(array([ 0.59410225,  0.88061713, -0.62088895, -1.        , -0.34465627]),\n",
       " array([[ 1.40770060e-04,  1.51279052e-04, -1.42911040e-04,\n",
       "         -1.11223016e-03,  3.06629143e-05],\n",
       "        [ 1.51279052e-04,  5.70166235e-04, -1.89901050e-04,\n",
       "         -1.85934599e-03, -9.58466115e-05],\n",
       "        [-1.42911040e-04, -1.89901050e-04,  1.48582524e-04,\n",
       "          1.15316587e-03, -2.05635349e-05],\n",
       "        [-1.11223016e-03, -1.85934599e-03,  1.15316587e-03,\n",
       "          1.48483906e-02, -1.19333144e-04],\n",
       "        [ 3.06629143e-05, -9.58466115e-05, -2.05635349e-05,\n",
       "         -1.19333144e-04,  3.31469504e-04]]))"
      ]
     },
     "execution_count": 194,
     "metadata": {},
     "output_type": "execute_result"
    }
   ],
   "source": [
    "Coef = curve_fit(fit_int,(Q_pas_CB[a:b],Q_act_CB[a:b],Q_span[a:b],W_mag[a:b],W_p[a:b]),Q_c[a:b],maxfev=10000, bounds = ([0,0,-1,-1,-20],[10,10,0,2,0]))\n",
    "Coef"
   ]
  },
  {
   "cell_type": "code",
   "execution_count": 187,
   "metadata": {},
   "outputs": [
    {
     "data": {
      "text/plain": [
       "(array([ 0.71673365,  1.42540766, -0.74956013,  0.63910187,  0.64031711]),\n",
       " array([[ 1.71088836e-04,  1.48483360e-04, -1.70657764e-04,\n",
       "         -6.03171867e-04,  3.04876969e-05],\n",
       "        [ 1.48483360e-04,  1.64491882e-03, -2.34832834e-04,\n",
       "         -1.69530231e-03, -2.16281717e-04],\n",
       "        [-1.70657764e-04, -2.34832834e-04,  1.75434620e-04,\n",
       "          6.35594329e-04, -1.73833067e-05],\n",
       "        [-6.03171867e-04, -1.69530231e-03,  6.35594329e-04,\n",
       "          7.71812101e-03, -1.66111164e-06],\n",
       "        [ 3.04876969e-05, -2.16281717e-04, -1.73833067e-05,\n",
       "         -1.66111164e-06,  3.11684730e-04]]))"
      ]
     },
     "execution_count": 187,
     "metadata": {},
     "output_type": "execute_result"
    }
   ],
   "source": [
    "Coef_h = curve_fit(fit_int_h,(Q_pas_HB[a:b],Q_act_HB[a:b],Q_span[a:b],W_mag[a:b],W_p[a:b]),Q_h[a:b],maxfev=10000, bounds = ([0,0,-1,-1,0],[10,10,0,2,10]))\n",
    "Coef_h"
   ]
  },
  {
   "cell_type": "code",
   "execution_count": 188,
   "metadata": {},
   "outputs": [
    {
     "data": {
      "text/plain": [
       "[<matplotlib.lines.Line2D at 0x25e08c797b8>]"
      ]
     },
     "execution_count": 188,
     "metadata": {},
     "output_type": "execute_result"
    },
    {
     "data": {
      "image/png": "[encoded data removed]",
      "text/plain": [
       "<Figure size 432x288 with 1 Axes>"
      ]
     },
     "metadata": {
      "needs_background": "light"
     },
     "output_type": "display_data"
    }
   ],
   "source": [
    "plt.plot(W_mag[a:b],Pi_10[a:b],'o')"
   ]
  },
  {
   "cell_type": "code",
   "execution_count": 189,
   "metadata": {},
   "outputs": [
    {
     "data": {
      "text/plain": [
       "[<matplotlib.lines.Line2D at 0x25e7ebebbe0>]"
      ]
     },
     "execution_count": 189,
     "metadata": {},
     "output_type": "execute_result"
    },
    {
     "data": {
      "image/png": "[encoded data removed]",
      "text/plain": [
       "<Figure size 432x288 with 1 Axes>"
      ]
     },
     "metadata": {
      "needs_background": "light"
     },
     "output_type": "display_data"
    }
   ],
   "source": [
    "plt.plot(Pi_6[a:b],Pi_10[a:b],'o')"
   ]
  },
  {
   "cell_type": "code",
   "execution_count": 190,
   "metadata": {},
   "outputs": [],
   "source": [
    "a = 400\n",
    "b = 1500"
   ]
  },
  {
   "cell_type": "code",
   "execution_count": 191,
   "metadata": {},
   "outputs": [],
   "source": [
    "Error = abs(Q_c[a:b] - fit_int((Q_pas_CB[a:b],Q_act_CB[a:b],Q_span[a:b],W_mag[a:b],W_p[a:b]),Coef[0][0],Coef[0][1],Coef[0][2],Coef[0][3],Coef[0][4]))/(Q_c[a:b])*100\n",
    "Error_h = abs(Q_h[a:b] - fit_int_h((Q_pas_HB[a:b],Q_act_HB[a:b],Q_span[a:b],W_mag[a:b],W_p[a:b]),Coef_h[0][0],Coef_h[0][1],Coef_h[0][2],Coef_h[0][3],Coef_h[0][4]))/(Q_h[a:b])*100\n",
    "Error_sim = abs(Pi_10[a:b] - fit_sim((Pi_6[a:b],Pi_11[a:b],K[a:b]),Coef_sim[0][0],Coef_sim[0][1],Coef_sim[0][2],Coef_sim[0][3],Coef_sim[0][4],Coef_sim[0][5]))/(Pi_10[a:b])*100"
   ]
  },
  {
   "cell_type": "code",
   "execution_count": 192,
   "metadata": {
    "scrolled": false
   },
   "outputs": [
    {
     "data": {
      "image/png": "[encoded data removed]",
      "text/plain": [
       "<Figure size 432x288 with 1 Axes>"
      ]
     },
     "metadata": {
      "needs_background": "light"
     },
     "output_type": "display_data"
    }
   ],
   "source": [
    "plt.plot(Q_h[a:b],Error_h,'s', label = '$\\dot{Q}_\\mathrm{h}$')\n",
    "plt.plot(Q_c[a:b],Error,'o',label ='$\\dot{Q}_\\mathrm{c}$' )\n",
    "#plt.plot(Pi_6[a:b],Error_sim,'o',label ='$\\dot{Q}_\\mathrm{c}$' )\n",
    "\n",
    "plt.grid()\n",
    "plt.xlabel('Numerical Cooling Capacity [W]')\n",
    "plt.ylabel('Error [\\%]')\n",
    "plt.legend()\n",
    "#plt.ylim(0,50)\n",
    "#plt.xlim(150,300)\n",
    "\n",
    "#plt.ylim([0,50])\n",
    "plt.savefig('Erro_Rest.png',format = 'png', dpi=500,bbox_inches='tight')\n",
    "plt.show()"
   ]
  },
  {
   "cell_type": "code",
   "execution_count": 156,
   "metadata": {
    "scrolled": true
   },
   "outputs": [
    {
     "data": {
      "text/plain": [
       "[<matplotlib.lines.Line2D at 0x25e08e90e48>]"
      ]
     },
     "execution_count": 156,
     "metadata": {},
     "output_type": "execute_result"
    },
    {
     "data": {
      "image/png": "[encoded data removed]",
      "text/plain": [
       "<Figure size 432x288 with 1 Axes>"
      ]
     },
     "metadata": {
      "needs_background": "light"
     },
     "output_type": "display_data"
    }
   ],
   "source": [
    "plt.plot(Q_c[a:b],Error_sim,'o')"
   ]
  },
  {
   "cell_type": "code",
   "execution_count": 1483,
   "metadata": {},
   "outputs": [
    {
     "data": {
      "text/plain": [
       "8.23293172690763"
      ]
     },
     "execution_count": 1483,
     "metadata": {},
     "output_type": "execute_result"
    }
   ],
   "source": [
    "K = 0\n",
    "for i in range(len(Error_sim)):\n",
    "    if Error_sim[i] > 13:\n",
    "        K = K+1\n",
    "K/len(Error_sim)*100"
   ]
  },
  {
   "cell_type": "code",
   "execution_count": 1414,
   "metadata": {},
   "outputs": [
    {
     "data": {
      "text/plain": [
       "[<matplotlib.lines.Line2D at 0x223aa9e3748>]"
      ]
     },
     "execution_count": 1414,
     "metadata": {},
     "output_type": "execute_result"
    },
    {
     "data": {
      "image/png": "[encoded data removed]",
      "text/plain": [
       "<Figure size 432x288 with 1 Axes>"
      ]
     },
     "metadata": {
      "needs_background": "light"
     },
     "output_type": "display_data"
    }
   ],
   "source": [
    "plt.plot(W_m[a:b],(m_s[a:b]*f[a:b]*CdT_dmg[a:b])*fit_sim((Pi_6[a:b],Pi_4[a:b],Pi_11[a:b]),Coef_sim[0][0],Coef_sim[0][1],Coef_sim[0][2],Coef_sim[0][3],Coef_sim[0][4],Coef_sim[0][5]),'o',label ='Integral' )"
   ]
  },
  {
   "cell_type": "code",
   "execution_count": 1244,
   "metadata": {},
   "outputs": [],
   "source": [
    "erro= np.arange(100,230,1)\n",
    "erro_h= np.arange(100,275,1)"
   ]
  },
  {
   "cell_type": "code",
   "execution_count": 1245,
   "metadata": {
    "scrolled": false
   },
   "outputs": [
    {
     "data": {
      "image/png": "[encoded data removed]",
      "text/plain": [
       "<Figure size 432x288 with 1 Axes>"
      ]
     },
     "metadata": {
      "needs_background": "light"
     },
     "output_type": "display_data"
    }
   ],
   "source": [
    "#plt.plot(Q_c[a:b],m_s[a:b]*f[a:b]*CdT_dmg[a:b]*fit_sim((Pi_6[a:b],Pi_4[a:b]),Coef_sim[0][0],Coef_sim[0][1],Coef_sim[0][2],Coef_sim[0][3]),'s', label = 'Similarity')\n",
    "plt.plot(Q_c[a:b],fit_int((Q_pas_CB[a:b],Q_act_CB[a:b],Q_span[a:b],W_mag[a:b],W_p[a:b]),Coef[0][0],Coef[0][1],Coef[0][2],Coef[0][3],Coef[0][4]),'o',label ='Integral' )\n",
    "plt.plot(erro,0.9*erro,'k--')\n",
    "plt.plot(erro,1.1*erro,'k--')\n",
    "plt.grid()\n",
    "plt.ylabel('Analytical Cooling Capacity [W]')\n",
    "plt.xlabel('Numerical Cooling Capacity [W]')\n",
    "plt.legend()\n",
    "\n",
    "plt.savefig('ErrorBar.png',format = 'png', dpi=500,bbox_inches='tight')\n",
    "plt.show()"
   ]
  },
  {
   "cell_type": "code",
   "execution_count": 1246,
   "metadata": {},
   "outputs": [
    {
     "data": {
      "image/png": "[encoded data removed]",
      "text/plain": [
       "<Figure size 432x288 with 1 Axes>"
      ]
     },
     "metadata": {
      "needs_background": "light"
     },
     "output_type": "display_data"
    }
   ],
   "source": [
    "#plt.plot(Q_c[a:b],m_s[a:b]*f[a:b]*CdT_dmg[a:b]*fit_sim((Pi_6[a:b],Pi_4[a:b]),Coef_sim[0][0],Coef_sim[0][1],Coef_sim[0][2],Coef_sim[0][3]),'s', label = 'Similarity')\n",
    "plt.plot(Q_h[a:b],fit_int((Q_pas_HB[a:b],Q_act_HB[a:b],Q_span[a:b],W_mag[a:b],W_p[a:b]),Coef_h[0][0],Coef_h[0][1],Coef_h[0][2],Coef_h[0][3],Coef_h[0][4]),'o',label ='Integral' )\n",
    "plt.plot(erro_h,0.9*erro_h,'k--')\n",
    "plt.plot(erro_h,1.1*erro_h,'k--')\n",
    "plt.grid()\n",
    "plt.ylabel('Analytical Cooling Capacity [W]')\n",
    "plt.xlabel('Numerical Cooling Capacity [W]')\n",
    "plt.legend()\n",
    "\n",
    "plt.savefig('ErrorBar.png',format = 'png', dpi=500,bbox_inches='tight')\n",
    "plt.show()"
   ]
  },
  {
   "cell_type": "code",
   "execution_count": null,
   "metadata": {},
   "outputs": [],
   "source": [
    "plt.plot(Q_c[a:b],m_s[a:b]*f[a:b]*CdT_dmg[a:b]*fit_sim((Pi_6[a:b],Pi_4[a:b]),Coef_sim[0][0],Coef_sim[0][1],Coef_sim[0][2],Coef_sim[0][3]),'o')\n",
    "plt.plot(erro,0.9*erro,'k--')\n",
    "plt.plot(erro,1.1*erro,'k--')\n",
    "plt.ylabel('Integral Cooling Capacity [W]')\n",
    "plt.xlabel('Numerical Cooling Capacity [W]')\n",
    "#plt.legend()\n",
    "plt.show()\n",
    "plt.savefig('X_l.pdf',format = 'pdf', dpi=500,bbox_inches='tight')"
   ]
  },
  {
   "cell_type": "code",
   "execution_count": null,
   "metadata": {
    "scrolled": true
   },
   "outputs": [],
   "source": [
    "plt.plot(Pi_6[0:72],Pi_10[0:72],'o',label = 'B = 1.1 T')\n",
    "plt.plot(Pi_6[72:144],Pi_10[72:144],'o',label = 'B = 1.3 T')\n",
    "plt.plot(Pi_6[144:216],Pi_10[144:216],'o',label = 'B = 1.5 T')\n",
    "plt.plot(Pi_6[216:288],Pi_10[216:288],'o',label = 'B = 1.6 T')\n",
    "plt.grid()\n",
    "plt.xlabel('$\\phi$ [-]')\n",
    "plt.ylabel('$\\dot{W}_\\mathrm{M}^*$ [-]')\n",
    "plt.legend()\n",
    "plt.show()"
   ]
  },
  {
   "cell_type": "code",
   "execution_count": null,
   "metadata": {},
   "outputs": [],
   "source": [
    "plt.plot(Pi_6[0:72],Pi_9[0:72],'o',label = 'B = 1.1 T')\n",
    "plt.plot(Pi_6[72:144],Pi_9[72:144],'o',label = 'B = 1.3 T')\n",
    "plt.plot(Pi_6[144:216],Pi_9[144:216],'o',label = 'B = 1.5 T')\n",
    "plt.plot(Pi_6[216:288],Pi_9[216:288],'o',label = 'B = 1.6 T')\n",
    "plt.grid()\n",
    "plt.xlabel('$\\phi$ [-]')\n",
    "plt.ylabel('$\\dot{Q}_\\mathrm{H}^*$ [-]')\n",
    "plt.legend()\n",
    "plt.show()"
   ]
  },
  {
   "cell_type": "code",
   "execution_count": null,
   "metadata": {},
   "outputs": [],
   "source": [
    "a = 0*72\n",
    "b = 4*72"
   ]
  },
  {
   "cell_type": "code",
   "execution_count": null,
   "metadata": {
    "scrolled": false
   },
   "outputs": [],
   "source": [
    "Coef_Wm = curve_fit(fitting_W,(Pi_6[a:b],Pi_4[a:b]),Pi_10[a:b],maxfev=10000)\n",
    "Coef_Wm"
   ]
  },
  {
   "cell_type": "code",
   "execution_count": null,
   "metadata": {
    "scrolled": false
   },
   "outputs": [],
   "source": [
    "plt.plot(Pi_6[a:b],Pi_8[a:b],'o')\n",
    "plt.plot(Pi_6[a:b],fitting((Pi_6[a:b],Pi_4[a:b]),Coef[0][0],Coef[0][1],Coef[0][2],Coef[0][3]),'o')"
   ]
  },
  {
   "cell_type": "code",
   "execution_count": null,
   "metadata": {
    "scrolled": true
   },
   "outputs": [],
   "source": [
    "plt.plot(Pi_6[a:b],Pi_9[a:b],'o')\n",
    "plt.plot(Pi_6[a:b],fitting((Pi_6[a:b],Pi_4[a:b]),Coef_Qh[0][0],Coef_Qh[0][1],Coef_Qh[0][2],Coef_Qh[0][3]),'o')"
   ]
  },
  {
   "cell_type": "code",
   "execution_count": null,
   "metadata": {
    "scrolled": true
   },
   "outputs": [],
   "source": [
    "plt.plot(Pi_6[a:b],Pi_10[a:b],'o')\n",
    "plt.plot(Pi_6[a:b],fitting_W((Pi_6[a:b],Pi_4[a:b]),Coef_Wm[0][0],Coef_Wm[0][1],Coef_Wm[0][2],0,Coef_Wm[0][4]),'o')"
   ]
  },
  {
   "cell_type": "code",
   "execution_count": null,
   "metadata": {},
   "outputs": [],
   "source": [
    "erro1 = abs((Pi_8 - fitting((Pi_6[a:b],Pi_4[a:b]),Coef[0][0],Coef[0][1],Coef[0][2],Coef[0][3]))/Pi_8*100)\n",
    "erro2 = abs((Pi_9 - fitting((Pi_6[a:b],Pi_4[a:b]),Coef_Qh[0][0],Coef_Qh[0][1],Coef_Qh[0][2],Coef_Qh[0][3]))/Pi_9*100)\n",
    "erro3 = abs((Pi_10 - fitting_W((Pi_6[a:b],Pi_4[a:b]),Coef_Wm[0][0],Coef_Wm[0][1],Coef_Wm[0][2],Coef_Wm[0][3],Coef_Wm[0][4]))/Pi_10*100)\n",
    "j=0\n",
    "h=0\n",
    "k=0\n",
    "for i in range(len(erro1)):\n",
    "    if erro1[i] >= 10:\n",
    "        j = j+1\n",
    "    if erro2[i] >= 10:\n",
    "        h = h+1\n",
    "    if erro3[i] >= 10:\n",
    "        k = k+1\n",
    "j/len(erro1),h/len(erro2),k/len(erro3)"
   ]
  },
  {
   "cell_type": "code",
   "execution_count": null,
   "metadata": {
    "scrolled": true
   },
   "outputs": [],
   "source": [
    "plt.plot(Pi_6,Q_c,'o')"
   ]
  },
  {
   "cell_type": "code",
   "execution_count": null,
   "metadata": {
    "scrolled": true
   },
   "outputs": [],
   "source": [
    "plt.plot(Pi_6,erro1,'o')\n",
    "plt.ylim([0,25])"
   ]
  },
  {
   "cell_type": "code",
   "execution_count": null,
   "metadata": {
    "scrolled": true
   },
   "outputs": [],
   "source": [
    "plt.plot(Pi_6,erro1,'o',label = '$\\dot{Q}_\\mathrm{C}$')\n",
    "plt.plot(Pi_6,erro2,'o',label = '$\\dot{Q}_\\mathrm{H}$')\n",
    "plt.plot(Pi_6,erro3,'o',label = '$\\dot{W}_\\mathrm{M}$')\n",
    "plt.ylim(0,30)\n",
    "plt.xlabel('$\\phi$ [-]')\n",
    "plt.legend()\n",
    "plt.ylabel('Error [$\\%$]')\n",
    "plt.grid()"
   ]
  },
  {
   "cell_type": "code",
   "execution_count": null,
   "metadata": {},
   "outputs": [],
   "source": [
    "plt.plot(Pi_6,erro3,'o')"
   ]
  },
  {
   "cell_type": "code",
   "execution_count": null,
   "metadata": {},
   "outputs": [],
   "source": [
    "plt.plot(Pi_8,fitting((Pi_6,Pi_7),Coef[0][0],Coef[0][1],Coef[0][2]),'o')\n",
    "plt.plot(Pi_8,0.9*Pi_8)\n",
    "plt.plot(Pi_8,1.1*Pi_8)\n",
    "plt.grid()"
   ]
  },
  {
   "cell_type": "code",
   "execution_count": null,
   "metadata": {},
   "outputs": [],
   "source": [
    "error_bar = np.arange(0,700)"
   ]
  },
  {
   "cell_type": "code",
   "execution_count": null,
   "metadata": {},
   "outputs": [],
   "source": [
    "K = (m_s*f*CdT_dmg)\n",
    "plt.plot(Pi_8[0:72]*K[0:72],K[0:72]*fitting((Pi_6[0:72],Pi_4[0:72]),Coef[0][0],Coef[0][1],Coef[0][2],Coef[0][3]),'o', label = 'B = 1.1 T')\n",
    "plt.plot(Pi_8[72:2*72]*K[72:2*72],K[72:2*72]*fitting((Pi_6[72:2*72],Pi_4[72:2*72]),Coef[0][0],Coef[0][1],Coef[0][2],Coef[0][3]),'X', label = 'B = 1.3 T')\n",
    "plt.plot(Pi_8[2*72:3*72]*K[2*72:3*72],K[2*72:3*72]*fitting((Pi_6[2*72:3*72],Pi_4[2*72:3*72]),Coef[0][0],Coef[0][1],Coef[0][2],Coef[0][3]),'s', label = 'B = 1.5 T')\n",
    "plt.plot(Pi_8[3*72:4*72]*K[3*72:4*72],K[3*72:4*72]*fitting((Pi_6[3*72:4*72],Pi_4[3*72:4*72]),Coef[0][0],Coef[0][1],Coef[0][2],Coef[0][3]),'^', label = 'B = 1.6 T')\n",
    "plt.plot(error_bar,0.92*error_bar,'k--')\n",
    "plt.plot(error_bar,1.08*error_bar,'k--')\n",
    "plt.text(100,80,'- 8\\%')\n",
    "plt.text(80,110,'+ 8\\%')\n",
    "\n",
    "\n",
    "plt.xlabel('Numerical Cooling Capacity [W]')\n",
    "plt.ylabel('Fitting Cooling Capacity [W]')\n",
    "\n",
    "plt.grid()\n",
    "plt.legend()\n",
    "plt.xlim(0,180)\n",
    "plt.ylim(0,180)"
   ]
  },
  {
   "cell_type": "code",
   "execution_count": null,
   "metadata": {},
   "outputs": [],
   "source": [
    "plt.plot((Pi_9*K)[0:72],K[0:72]*fitting((Pi_6[0:72],Pi_4[0:72]),Coef_Qh[0][0],Coef_Qh[0][1],Coef_Qh[0][2],Coef_Qh[0][3]),'o', label = 'B = 1.1 T')\n",
    "plt.plot((Pi_9*K)[72:2*72],K[72:144]*fitting((Pi_6[72:2*72],Pi_4[72:2*72]),Coef_Qh[0][0],Coef_Qh[0][1],Coef_Qh[0][2],Coef_Qh[0][3]),'X', label = 'B = 1.3 T')\n",
    "plt.plot((Pi_9*K)[2*72:3*72],K[144:216]*fitting((Pi_6[2*72:3*72],Pi_4[2*72:3*72]),Coef_Qh[0][0],Coef_Qh[0][1],Coef_Qh[0][2],Coef_Qh[0][3]),'s', label = 'B = 1.5 T')\n",
    "plt.plot((Pi_9*K)[3*72:4*72],K[216:288]*fitting((Pi_6[3*72:4*72],Pi_4[3*72:4*72]),Coef_Qh[0][0],Coef_Qh[0][1],Coef_Qh[0][2],Coef_Qh[0][3]),'^', label = 'B = 1.6 T')\n",
    "plt.plot(error_bar,0.9*error_bar,'k--')\n",
    "plt.plot(error_bar,1.1*error_bar,'k--')\n",
    "plt.text(300,230,'- 10\\%')\n",
    "plt.text(250,350,'+ 10\\%')\n",
    "\n",
    "\n",
    "plt.xlabel('Numerical Rejected Heat [W]')\n",
    "plt.ylabel('Fitting Rejected Heat [W]')\n",
    "\n",
    "plt.grid()\n",
    "plt.legend()\n",
    "plt.xlim(20,550)\n",
    "plt.ylim(20,550)"
   ]
  },
  {
   "cell_type": "code",
   "execution_count": null,
   "metadata": {},
   "outputs": [],
   "source": [
    "plt.plot((Pi_10*K)[0:72],K[0:72]*fitting_W((Pi_6[0:72],Pi_4[0:72]),Coef_Wm[0][0],Coef_Wm[0][1],Coef_Wm[0][2],Coef_Wm[0][3],Coef_Wm[0][4]),'o', label = 'B = 1.1 T')\n",
    "plt.plot((Pi_10*K)[72:2*72],K[72:144]*fitting_W((Pi_6[72:2*72],Pi_4[72:2*72]),Coef_Wm[0][0],Coef_Wm[0][1],Coef_Wm[0][2],Coef_Wm[0][3],Coef_Wm[0][4]),'X', label = 'B = 1.3 T')\n",
    "plt.plot((Pi_10*K)[2*72:3*72],K[144:216]*fitting_W((Pi_6[2*72:3*72],Pi_4[2*72:3*72]),Coef_Wm[0][0],Coef_Wm[0][1],Coef_Wm[0][2],Coef_Wm[0][3],Coef_Wm[0][4]),'s', label = 'B = 1.5 T')\n",
    "plt.plot((Pi_10*K)[3*72:4*72],K[216:288]*fitting_W((Pi_6[3*72:4*72],Pi_4[3*72:4*72]),Coef_Wm[0][0],Coef_Wm[0][1],Coef_Wm[0][2],Coef_Wm[0][3],Coef_Wm[0][4]),'^', label = 'B = 1.6 T')\n",
    "plt.plot(error_bar,0.9*error_bar,'k--')\n",
    "plt.plot(error_bar,1.1*error_bar,'k--')\n",
    "plt.text(40,31.5,'- 8\\%')\n",
    "plt.text(31.5,45,'+ 8\\%')\n",
    "\n",
    "\n",
    "plt.xlabel('Numerical Magnetic Work[W]')\n",
    "plt.ylabel('Fitting Magnetic Work [W]')\n",
    "\n",
    "plt.grid()\n",
    "plt.legend()\n",
    "plt.xlim(5,70)\n",
    "plt.ylim(5,70)"
   ]
  },
  {
   "cell_type": "code",
   "execution_count": null,
   "metadata": {},
   "outputs": [],
   "source": []
  }
 ],
 "metadata": {
  "kernelspec": {
   "display_name": "Python 3",
   "language": "python",
   "name": "python3"
  },
  "language_info": {
   "codemirror_mode": {
    "name": "ipython",
    "version": 3
   },
   "file_extension": ".py",
   "mimetype": "text/x-python",
   "name": "python",
   "nbconvert_exporter": "python",
   "pygments_lexer": "ipython3",
   "version": "3.7.3"
  }
 },
 "nbformat": 4,
 "nbformat_minor": 2
}
