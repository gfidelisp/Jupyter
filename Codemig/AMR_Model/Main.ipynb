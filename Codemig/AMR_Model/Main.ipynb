{
 "cells": [
  {
   "cell_type": "code",
   "execution_count": 41,
   "metadata": {},
   "outputs": [],
   "source": [
    "from numpy import *\n",
    "from scipy import *\n",
    "import numpy as np\n",
    "\n",
    "from scipy import integrate\n",
    "from scipy.optimize import curve_fit\n",
    "import matplotlib.pyplot as plt\n",
    "\n",
    "import xlrd"
   ]
  },
  {
   "cell_type": "code",
   "execution_count": 2,
   "metadata": {},
   "outputs": [],
   "source": [
    "def Properties(SpecHeat,dTad,B_l_int,B_h_int,T,N_ml): #Get the properties on the low and high field\n",
    "\n",
    "    C_l = zeros([N_ml,len(T)])\n",
    "    C_h = zeros([N_ml,len(T)])\n",
    "    dT_l = zeros([N_ml,len(T)])\n",
    "    dT_h = zeros([N_ml,len(T)])\n",
    "    \n",
    "\n",
    "    for i in range(K):\n",
    "        if B_exp[i] == B_l_int:\n",
    "            for j in range(N_ml):\n",
    "                C_l[j][i]=C[j,i]\n",
    "                dT_l[j][i]=dT[j,i]\n",
    "\n",
    "        if B_exp[i] == B_h_int and B_exp[i-1]< B_h_int:\n",
    "            A = i\n",
    "        if B_exp[i] == B_h_int:\n",
    "            for j in range(N_ml):\n",
    "                C_h[j][i-A]=C[j,i]\n",
    "                dT_h[j][i-A]=dT[j,i]\n",
    "                \n",
    "    return(C_l,C_h,dT_l,dT_h)"
   ]
  },
  {
   "cell_type": "code",
   "execution_count": 3,
   "metadata": {},
   "outputs": [],
   "source": [
    "def SubMetrics(Th,Tc,T_l,T_layer,L_layer,C_h,C_l,dT_ad,dT_ad_d):\n",
    "\n",
    "    Th = 312\n",
    "    Tc = 282\n",
    "\n",
    "    C_mag = []\n",
    "    C_dmag = []\n",
    "    dT_mag = []\n",
    "    dT_dmag = []\n",
    "\n",
    "    T_int = np.arange(Tc,Th+0.01,0.1)\n",
    "\n",
    "\n",
    "    #T_layer = np.arange(282,310.1,30/(15))\n",
    "    #L_layer = (100/len(T_layer))*ones(len(T_layer))\n",
    "    N_l = len(T_layer)\n",
    "\n",
    "    A = np.int((Tc - min(T_exp))/0.1)\n",
    "\n",
    "\n",
    "\n",
    "    T_t = []\n",
    "    L = 0\n",
    "\n",
    "    for i in range(N_l):\n",
    "        L = L + L_layer[i]\n",
    "        T_tr = Tc + 0.001 +L/100*(Th-Tc)\n",
    "        T_t.append(T_tr)\n",
    "\n",
    "    k = 0    \n",
    "    for i in range (len(T_int)):\n",
    "        #print(T_int[i])\n",
    "        if T_int[i] <=T_t[k]:\n",
    "            #print(T_int[i],T_t[k])\n",
    "            for j in range(len(T_l)):\n",
    "                #print(T_layer[k],T_l[j])\n",
    "                if T_layer[k] >= T_l[j] and T_layer[k] < T_l[j+1]:\n",
    "                    #print('Hello')\n",
    "                    #print(T_int[i],T_t[k],T_layer[k],T_l[j],T_l[j+1])\n",
    "                    C_mag.append(C_h[j+1][int(i+A)]-(C_h[j+1][int(i+A)]-C_h[j][int(i+A)])*(T_l[j+1]-T_layer[k])/(T_l[j+1]-T_l[j]))\n",
    "                    C_dmag.append(C_l[j+1][int(i+A)]-(C_l[j+1][int(i+A)]-C_l[j][int(i+A)])*(T_l[j+1]-T_layer[k])/(T_l[j+1]-T_l[j]))\n",
    "                    dT_mag.append(dT_ad[j+1][int(i+A)]-(dT_ad[j+1][int(i+A)]-dT_ad[j][int(i+A)])*(T_l[j+1]-T_layer[k])/(T_l[j+1]-T_l[j]))\n",
    "                    dT_dmag.append(dT_ad_d[j+1][int(i+A)]-(dT_ad_d[j+1][int(i+A)]-dT_ad_d[j][int(i+A)])*(T_l[j+1]-T_layer[k])/(T_l[j+1]-T_l[j]))\n",
    "                    #print(T_int[i],C_h[j+1][int(i+A)],C_h[j][int(i+A)],(C_h[j+1][int(i+A)]-(C_h[j+1][int(i+A)]-C_h[j][int(i+A)])*(T_l[j+1]-T_layer[k])/(T_l[j+1]-T_l[j])))\n",
    "        else:\n",
    "            for j in range(len(T_l)):\n",
    "                if T_layer[k+1] >= T_l[j] and T_layer[k+1] < T_l[j+1]:\n",
    "                    C_mag.append(C_h[j][int(i+A)]+(C_h[j+1][int(i+A)]-C_h[j][int(i+A)])*(T_layer[k+1]-T_l[j])/(T_l[j+1]-T_l[j]))\n",
    "                    C_dmag.append(C_l[j][int(i+A)]+(C_l[j+1][int(i+A)]-C_l[j][int(i+A)])*(T_layer[k+1]-T_l[j])/(T_l[j+1]-T_l[j]))\n",
    "                    dT_mag.append(dT_ad[j][int(i+A)]+(dT_ad[j+1][int(i+A)]-dT_ad[j][int(i+A)])*(T_layer[k+1]-T_l[j])/(T_l[j+1]-T_l[j]))\n",
    "                    dT_dmag.append(dT_ad_d[j][int(i+A)]+(dT_ad_d[j+1][int(i+A)]-dT_ad_d[j][int(i+A)])*(T_layer[k+1]-T_l[j])/(T_l[j+1]-T_l[j]))\n",
    "                    #print(T_int[i],C_h[j+1][int(i+A)],C_h[j][int(i+A)],T_l[j+1],T_l[j],T_layer[k],(C_h[j+1][int(i+A)]-(C_h[j+1][int(i+A)]-C_h[j][int(i+A)])*(T_l[j+1]-T_layer[k])/(T_l[j+1]-T_l[j])))\n",
    "            k = k + 1\n",
    "            \n",
    "    return (C_mag,C_dmag,dT_mag,dT_dmag)"
   ]
  },
  {
   "cell_type": "code",
   "execution_count": 4,
   "metadata": {},
   "outputs": [],
   "source": [
    "def Parameters(C_mag,C_dmag,dT_mag,dT_dmag,T_int):\n",
    "    C_mag_mean   = integrate.simps(C_mag,T_int)/(max(T_int)-min(T_int))\n",
    "    C_dmag_mean  = integrate.simps(C_dmag,T_int)/(max(T_int)-min(T_int))\n",
    "    \n",
    "    dT_mag_mean  = integrate.simps(dT_mag,T_int)/(max(T_int)-min(T_int))\n",
    "    dT_dmag_mean = integrate.simps(dT_dmag,T_int)/(max(T_int)-min(T_int))\n",
    "    \n",
    "    CdT_mag_mean   = integrate.simps(np.array(C_mag)*np.array(dT_mag),T_int)/(max(T_int)-min(T_int))\n",
    "    CdT_dmag_mean  = integrate.simps(np.array(C_dmag)*np.array(dT_dmag),T_int)/(max(T_int)-min(T_int))\n",
    "    return C_mag_mean, C_dmag_mean, dT_mag_mean,dT_dmag_mean,CdT_mag_mean,CdT_dmag_mean"
   ]
  },
  {
   "cell_type": "code",
   "execution_count": 5,
   "metadata": {},
   "outputs": [],
   "source": [
    "def Metrics (SpecHeat,dTad,B_l_int,B_h_int,T_arg,N_ml,Th,Tc,T_l,T_layer,L_layer):\n",
    "    (C_l,C_h,dT_l,dT_h) = Properties(SpecHeat,dTad,B_l_int,B_h_int,T_arg,N_ml) #Properties of low and high fields\n",
    "    dT_ad = np.array(dT_h)-np.array(dT_l)\n",
    "             \n",
    "    T_dem = zeros([N_ml,len(T_arg)])\n",
    "    for j in range(N_ml):\n",
    "        T_dem[j] = T_arg + dT_ad[j]\n",
    "             \n",
    "    dT_ad_d = np.zeros([N_ml,len(T_arg)])\n",
    "    for i in range(N_ml):\n",
    "        for j in range(len(T_arg)):\n",
    "            for k in range(len(T_dem[i])):\n",
    "                if  T_arg[j] > T_dem[i][k] and T_arg[j] <= T_dem[i][k+1]:\n",
    "                    dT_ad_d[i][j] = (dT_ad[i][k] + (T_arg[j] - T_dem[i][k])*(dT_ad[i][k+1]-dT_ad[i][k])/(T_arg[k+1]-T_arg[k]))\n",
    "\n",
    "    (C_mag,C_dmag,dT_mag,dT_dmag) = SubMetrics(Th,Tc,T_l,T_layer,L_layer,C_h,C_l,dT_ad,dT_ad_d)\n",
    "    \n",
    "    T_int = np.arange(Tc,Th+0.01,0.1)\n",
    "    \n",
    "    C_mag_mean, C_dmag_mean, dT_mag_mean,dT_dmag_mean,CdT_mag_mean,CdT_dmag_mean = Parameters(C_mag,C_dmag,dT_mag,dT_dmag,T_int)\n",
    "    \n",
    "    return C_mag_mean, C_dmag_mean, dT_mag_mean,dT_dmag_mean,CdT_mag_mean,CdT_dmag_mean"
   ]
  },
  {
   "cell_type": "markdown",
   "metadata": {},
   "source": [
    "Constant inputs"
   ]
  },
  {
   "cell_type": "code",
   "execution_count": 6,
   "metadata": {},
   "outputs": [],
   "source": [
    "##Properties of the solid \n",
    "\n",
    "rho_s = 7900  #[kg/m3] Density of the solid\n",
    "k_s   = 8 #[W/(m2.K)] #Thermal conductivity of the solid\n",
    "\n",
    "## Propertis of the fluid\n",
    "\n",
    "rho_f = 1000  #[kg/m3] Density of the fluid\n",
    "c_f   = 4181  #[kJ/(kg.K)] # Specific heat of the fluid\n",
    "Pr_f  = 6.136 #[-] Prandtl of the fluid\n",
    "mu_f  = 0.0008901 #[kg/m-2] #Viscosity of the fluid\n",
    "k_f   = 0.6065  #[W/(m2.K)] #Thermal conductivity of the fluid\n",
    "\n",
    "## Porous medium\n",
    "d_p = 500*10**(-6) #[m] Particle diameter\n",
    "Epsilon = 0.45  #[-] Porosity"
   ]
  },
  {
   "cell_type": "markdown",
   "metadata": {},
   "source": [
    "Properties Calculation"
   ]
  },
  {
   "cell_type": "code",
   "execution_count": 7,
   "metadata": {},
   "outputs": [],
   "source": [
    "Prop = xlrd.open_workbook('La-Fe-Si.xlsx') #Import Properties File\n",
    "SpecHeat = Prop.sheet_by_name('C') # #Import Specific Heat\n",
    "dTad = Prop.sheet_by_name('dT') #Import Adiabatic Temperature Change\n",
    "\n",
    "T_exp = dTad.col_values(0) #Import experimented temperatures \n",
    "B_exp = dTad.col_values(1) #Import experimented magnetic fields\n",
    "\n",
    "T_arg = arange(min(T_exp),max(T_exp)+0.01,0.1)\n",
    "\n",
    "K = len(dTad.col_values(0)) #Import data number\n",
    "\n",
    "T_l = arange(270,315,2)#ture of Curie of the multilayer\n",
    "N_ml = len(T_l) #Number of Multilayer Layers\n",
    "\n",
    "\n",
    "\n",
    "dT = zeros([N_ml,K])\n",
    "C = zeros([N_ml,K])\n",
    "for i in range(N_ml):\n",
    "    dT[i,:] = (dTad.col_values(i+2))    #Data of Adiabatic Temperature change\n",
    "    C[i,:] = (SpecHeat.col_values(i+2)) #Data of specific heat"
   ]
  },
  {
   "cell_type": "code",
   "execution_count": 8,
   "metadata": {},
   "outputs": [],
   "source": [
    "T_layer = arange(283,313.1,30/14)\n",
    "L_layer = 100/len(T_layer)*ones(len(T_layer))"
   ]
  },
  {
   "cell_type": "markdown",
   "metadata": {},
   "source": [
    "Importing AMR simulation inputs"
   ]
  },
  {
   "cell_type": "code",
   "execution_count": 9,
   "metadata": {},
   "outputs": [],
   "source": [
    "Data = xlrd.open_workbook('AMR_Inputs.xlsx') #Import inputs File\n",
    "Inputs = Data.sheet_by_name('Data') \n",
    "\n",
    "L   = array(Inputs.col_values(0)) #Import AMR Length [mm]\n",
    "H   = array(Inputs.col_values(1)) #Import AMR Height [mm]\n",
    "W   = array(Inputs.col_values(2)) #Import AMR Width [mm]\n",
    "T_c = array(Inputs.col_values(3)) #Import temperature span [K]\n",
    "T_h = array(Inputs.col_values(4)) #Import temperature span [K]\n",
    "B   = array(Inputs.col_values(5)) #Import magnetic field [T]\n",
    "f   = array(Inputs.col_values(6)) #Import frequency [Hz]\n",
    "m_f = array(Inputs.col_values(7)) #Import mass flow rate [kg/h]\n",
    "Q_c = array(Inputs.col_values(8)) #Import Cooling capacity [W]\n",
    "Q_h = array(Inputs.col_values(9)) #Import Rejected heat [W]\n",
    "W_p = array(Inputs.col_values(10)) #Import Pumping power [W]\n",
    "W_m = array(Inputs.col_values(11)) #Import Magnetic power [W]"
   ]
  },
  {
   "cell_type": "markdown",
   "metadata": {},
   "source": [
    "Calculation"
   ]
  },
  {
   "cell_type": "code",
   "execution_count": 10,
   "metadata": {},
   "outputs": [],
   "source": [
    "#Porous medium\n",
    "m_s   = L*W*H*10**-9*(1-Epsilon)*rho_s #mass of the AMR\n",
    "Beta = (1-Epsilon)*6/d_p\n",
    "v_s   = (m_f/3600)/(rho_f*W*H*10**-6) #Superficial velocity\n",
    "\n",
    "#Dimensionless Numbers\n",
    "Re_dp = d_p*v_s*rho_f/((1-Epsilon)*mu_f) #Reynolds number\n",
    "Nu = 2*(1+4*(1-Epsilon)/Epsilon)+((1-Epsilon)**0.5)*Re_dp**0.6*Pr_f**(1/3) # Nusselt number\n",
    "Pe = Re_dp*Pr_f\n",
    "\n",
    "h_int = Nu*k_f/d_p\n",
    "\n",
    "#Effective conduction\n",
    "k_e_f = k_f*Epsilon #Fluid effective conduction\n",
    "\n",
    "\n",
    "a_0 = exp(-1.084-6.778*(Epsilon-0.298))\n",
    "f_0 = 0.8\n",
    "k_e_s = k_f*((1-a_0)*(Epsilon*f_0+(1-Epsilon*f_0)*k_s/k_f)/(1-Epsilon*(1-f_0)+k_s/k_f*Epsilon*(1-f_0))+a_0*(2*((k_s/k_f)**2)*(1-Epsilon)+(1+2*Epsilon)*k_s/k_f)/((2+Epsilon)*k_s/k_f+(1-Epsilon))) #Solid effective conduction\n",
    "\n",
    "D_ = (k_f*rho_f/c_f)*0.75*Pe/2\n",
    "\n",
    "k_s_eff = k_e_s\n",
    "k_f_eff = k_e_f + rho_f*c_f*D_"
   ]
  },
  {
   "cell_type": "code",
   "execution_count": 11,
   "metadata": {},
   "outputs": [],
   "source": [
    "C_H = zeros(len(L))\n",
    "C_L = zeros(len(L))\n",
    "dT_mg = zeros(len(L))\n",
    "dT_dmg = zeros(len(L))\n",
    "CdT_mg = zeros(len(L))\n",
    "CdT_dmg = zeros(len(L))"
   ]
  },
  {
   "cell_type": "code",
   "execution_count": 12,
   "metadata": {},
   "outputs": [
    {
     "name": "stdout",
     "output_type": "stream",
     "text": [
      "0\n",
      "1\n",
      "2\n",
      "3\n",
      "4\n",
      "5\n",
      "6\n",
      "7\n",
      "8\n",
      "9\n",
      "10\n",
      "11\n",
      "12\n",
      "13\n",
      "14\n",
      "15\n",
      "16\n",
      "17\n",
      "18\n",
      "19\n",
      "20\n",
      "21\n",
      "22\n",
      "23\n",
      "24\n",
      "25\n",
      "26\n",
      "27\n",
      "28\n",
      "29\n",
      "30\n",
      "31\n",
      "32\n",
      "33\n",
      "34\n",
      "35\n",
      "36\n",
      "37\n",
      "38\n",
      "39\n",
      "40\n",
      "41\n",
      "42\n",
      "43\n",
      "44\n",
      "45\n",
      "46\n",
      "47\n",
      "48\n",
      "49\n",
      "50\n",
      "51\n",
      "52\n",
      "53\n",
      "54\n",
      "55\n",
      "56\n",
      "57\n",
      "58\n",
      "59\n",
      "60\n",
      "61\n",
      "62\n",
      "63\n",
      "64\n",
      "65\n",
      "66\n",
      "67\n",
      "68\n",
      "69\n",
      "70\n",
      "71\n",
      "72\n",
      "73\n",
      "74\n",
      "75\n",
      "76\n",
      "77\n",
      "78\n",
      "79\n",
      "80\n",
      "81\n",
      "82\n",
      "83\n",
      "84\n",
      "85\n",
      "86\n",
      "87\n",
      "88\n",
      "89\n",
      "90\n",
      "91\n",
      "92\n",
      "93\n",
      "94\n",
      "95\n",
      "96\n",
      "97\n",
      "98\n",
      "99\n",
      "100\n",
      "101\n",
      "102\n",
      "103\n",
      "104\n",
      "105\n",
      "106\n",
      "107\n",
      "108\n",
      "109\n",
      "110\n",
      "111\n",
      "112\n",
      "113\n",
      "114\n",
      "115\n",
      "116\n",
      "117\n",
      "118\n",
      "119\n",
      "120\n",
      "121\n",
      "122\n",
      "123\n",
      "124\n",
      "125\n",
      "126\n",
      "127\n",
      "128\n",
      "129\n",
      "130\n",
      "131\n",
      "132\n",
      "133\n",
      "134\n",
      "135\n",
      "136\n",
      "137\n",
      "138\n",
      "139\n",
      "140\n",
      "141\n",
      "142\n",
      "143\n",
      "144\n",
      "145\n",
      "146\n",
      "147\n",
      "148\n",
      "149\n",
      "150\n",
      "151\n",
      "152\n",
      "153\n",
      "154\n",
      "155\n",
      "156\n",
      "157\n",
      "158\n",
      "159\n",
      "160\n",
      "161\n",
      "162\n",
      "163\n",
      "164\n",
      "165\n",
      "166\n",
      "167\n",
      "168\n",
      "169\n",
      "170\n",
      "171\n",
      "172\n",
      "173\n",
      "174\n",
      "175\n",
      "176\n",
      "177\n",
      "178\n",
      "179\n",
      "180\n",
      "181\n",
      "182\n",
      "183\n",
      "184\n",
      "185\n",
      "186\n",
      "187\n",
      "188\n",
      "189\n",
      "190\n",
      "191\n",
      "192\n",
      "193\n",
      "194\n",
      "195\n",
      "196\n",
      "197\n",
      "198\n",
      "199\n",
      "200\n",
      "201\n",
      "202\n",
      "203\n",
      "204\n",
      "205\n",
      "206\n",
      "207\n",
      "208\n",
      "209\n",
      "210\n",
      "211\n",
      "212\n",
      "213\n",
      "214\n",
      "215\n",
      "216\n",
      "217\n",
      "218\n",
      "219\n",
      "220\n",
      "221\n",
      "222\n",
      "223\n",
      "224\n",
      "225\n",
      "226\n",
      "227\n",
      "228\n",
      "229\n",
      "230\n",
      "231\n",
      "232\n",
      "233\n",
      "234\n",
      "235\n",
      "236\n",
      "237\n",
      "238\n",
      "239\n",
      "240\n",
      "241\n",
      "242\n",
      "243\n",
      "244\n",
      "245\n",
      "246\n",
      "247\n",
      "248\n",
      "249\n",
      "250\n",
      "251\n",
      "252\n",
      "253\n",
      "254\n",
      "255\n",
      "256\n",
      "257\n",
      "258\n",
      "259\n",
      "260\n",
      "261\n",
      "262\n",
      "263\n",
      "264\n",
      "265\n",
      "266\n",
      "267\n",
      "268\n",
      "269\n",
      "270\n",
      "271\n",
      "272\n",
      "273\n",
      "274\n",
      "275\n",
      "276\n",
      "277\n",
      "278\n",
      "279\n",
      "280\n",
      "281\n",
      "282\n",
      "283\n",
      "284\n",
      "285\n",
      "286\n",
      "287\n"
     ]
    }
   ],
   "source": [
    "for i in range(len(L)):\n",
    "    print(i)\n",
    "    C_H[i],C_L[i],dT_mg[i],dT_dmg[i],CdT_mg[i],CdT_dmg[i] = Metrics (SpecHeat,dTad,0,B[i],T_arg,N_ml,T_h[i],T_c[i],T_l,T_layer,L_layer)"
   ]
  },
  {
   "cell_type": "markdown",
   "metadata": {},
   "source": [
    "Model Parameters"
   ]
  },
  {
   "cell_type": "code",
   "execution_count": 29,
   "metadata": {
    "scrolled": true
   },
   "outputs": [],
   "source": [
    "Pi_1 = k_s_eff*(T_h-T_c)/(rho_s*f*L**2*CdT_dmg)\n",
    "Pi_2 = Epsilon/(1-Epsilon)*k_f_eff*(T_h-T_c)/(rho_s*f*L**2*CdT_dmg)\n",
    "Pi_3 = W_p/(m_s*f*CdT_dmg)\n",
    "Pi_4 = CdT_mg/CdT_dmg\n",
    "Pi_5 = h_int*Beta/(f*rho_s*CdT_dmg) #dT_sf unknown\n",
    "Pi_6 = ((m_f/3600)*c_f)/(m_s*C_L)\n",
    "Pi_7 = (T_h-T_c)/(dT_dmg)\n",
    "\n",
    "Pi_8 = Q_c/(m_s*f*CdT_dmg)\n",
    "Pi_9 = Q_h/(m_s*f*CdT_dmg)"
   ]
  },
  {
   "cell_type": "code",
   "execution_count": 39,
   "metadata": {},
   "outputs": [],
   "source": [
    "def fitting(X,a,b,c,d,e,f,g,h): \n",
    "    P1,P2,P3,P4,P5,P6,P7= X\n",
    "    return (a*(P1**b)*(P2**0)*(P3**0)*(P4**0)*(P5**0)*(P6**0)*(P7**0))"
   ]
  },
  {
   "cell_type": "code",
   "execution_count": 343,
   "metadata": {},
   "outputs": [],
   "source": [
    "def fitting(X,a,b,c,d): \n",
    "    P1,P2= X\n",
    "    return ((a*(P1**b)+c*(P1*P2)**(d)))"
   ]
  },
  {
   "cell_type": "code",
   "execution_count": 337,
   "metadata": {},
   "outputs": [
    {
     "data": {
      "text/plain": [
       "[<matplotlib.lines.Line2D at 0x1b2b81fe0b8>]"
      ]
     },
     "execution_count": 337,
     "metadata": {},
     "output_type": "execute_result"
    },
    {
     "data": {
      "image/png": "[encoded data removed]",
      "text/plain": [
       "<Figure size 432x288 with 1 Axes>"
      ]
     },
     "metadata": {},
     "output_type": "display_data"
    }
   ],
   "source": [
    "#plt.plot(Pi_6,Q_c,'o')\n",
    "plt.plot(Pi_6[0:72],Pi_8[0:72],'o')\n",
    "plt.plot(Pi_6[72:144],Pi_8[72:144],'o')\n",
    "plt.plot(Pi_6[144:216],Pi_8[144:216],'o')\n",
    "plt.plot(Pi_6[216:288],Pi_8[216:288],'o')"
   ]
  },
  {
   "cell_type": "code",
   "execution_count": 344,
   "metadata": {},
   "outputs": [],
   "source": [
    "a = 0*72\n",
    "b = 4*72"
   ]
  },
  {
   "cell_type": "code",
   "execution_count": 345,
   "metadata": {
    "scrolled": true
   },
   "outputs": [
    {
     "data": {
      "text/plain": [
       "(array([ 0.05304403, -0.08375493, -0.02342622, -0.37236813]),\n",
       " array([[ 0.02621506, -0.08426113, -0.02479204,  0.12716167],\n",
       "        [-0.08426113,  0.2718741 ,  0.07969038, -0.40768248],\n",
       "        [-0.02479204,  0.07969038,  0.02344637, -0.12025804],\n",
       "        [ 0.12716167, -0.40768248, -0.12025804,  0.6179378 ]]))"
      ]
     },
     "execution_count": 345,
     "metadata": {},
     "output_type": "execute_result"
    }
   ],
   "source": [
    "Coef = curve_fit(fitting,(Pi_6[a:b],Pi_4[a:b]),Pi_8[a:b],maxfev=10000)\n",
    "Coef"
   ]
  },
  {
   "cell_type": "code",
   "execution_count": 346,
   "metadata": {},
   "outputs": [
    {
     "data": {
      "text/plain": [
       "[<matplotlib.lines.Line2D at 0x1b2b82e75f8>]"
      ]
     },
     "execution_count": 346,
     "metadata": {},
     "output_type": "execute_result"
    },
    {
     "data": {
      "image/png": "[encoded data removed]",
      "text/plain": [
       "<Figure size 432x288 with 1 Axes>"
      ]
     },
     "metadata": {},
     "output_type": "display_data"
    }
   ],
   "source": [
    "plt.plot(Pi_6[a:b],Pi_8[a:b],'o')\n",
    "plt.plot(Pi_6[a:b],fitting((Pi_6[a:b],Pi_4[a:b]),Coef[0][0],Coef[0][1],Coef[0][2],Coef[0][3]),'o')"
   ]
  },
  {
   "cell_type": "code",
   "execution_count": 332,
   "metadata": {},
   "outputs": [
    {
     "data": {
      "text/plain": [
       "[array([-4.76204752,  1.39354378,  4.78042105,  1.38147529])]"
      ]
     },
     "execution_count": 332,
     "metadata": {},
     "output_type": "execute_result"
    }
   ],
   "source": [
    "Cf=[]\n",
    "Cf.append(Coef[0])\n",
    "Cf"
   ]
  },
  {
   "cell_type": "code",
   "execution_count": 263,
   "metadata": {},
   "outputs": [],
   "source": [
    "a = 3\n",
    "erro.append(abs(Pi_8[a*72:(a+1)*72]-fitting((Pi_6[a*72:(a+1)*72]),Cf[a][0],Cf[a][1],Cf[a][2])/Pi_8[a*72:(a+1)*72]*100))"
   ]
  },
  {
   "cell_type": "code",
   "execution_count": 284,
   "metadata": {},
   "outputs": [],
   "source": [
    "erro1 = abs((Pi_8 -fitting((Pi_6,Pi_7),Coef[0][0],Coef[0][1],Coef[0][2]))/Pi_8*100)"
   ]
  },
  {
   "cell_type": "code",
   "execution_count": 288,
   "metadata": {},
   "outputs": [
    {
     "data": {
      "text/plain": [
       "(0, 25)"
      ]
     },
     "execution_count": 288,
     "metadata": {},
     "output_type": "execute_result"
    },
    {
     "data": {
      "image/png": "[encoded data removed]",
      "text/plain": [
       "<Figure size 432x288 with 1 Axes>"
      ]
     },
     "metadata": {},
     "output_type": "display_data"
    }
   ],
   "source": [
    "plt.plot(Pi_6,erro1,'o')\n",
    "plt.ylim([0,25])"
   ]
  },
  {
   "cell_type": "code",
   "execution_count": 303,
   "metadata": {},
   "outputs": [
    {
     "data": {
      "text/plain": [
       "8.333333333333332"
      ]
     },
     "execution_count": 303,
     "metadata": {},
     "output_type": "execute_result"
    }
   ],
   "source": [
    "j = 0\n",
    "for i in range(len(erro1)):\n",
    "    if erro1[i] > 12:\n",
    "        j=j+1\n",
    "(j/len(erro1))*100"
   ]
  },
  {
   "cell_type": "code",
   "execution_count": 294,
   "metadata": {},
   "outputs": [
    {
     "data": {
      "image/png": "[encoded data removed]",
      "text/plain": [
       "<Figure size 432x288 with 1 Axes>"
      ]
     },
     "metadata": {},
     "output_type": "display_data"
    }
   ],
   "source": [
    "plt.plot(Pi_8,fitting((Pi_6,Pi_7),Coef[0][0],Coef[0][1],Coef[0][2]),'o')\n",
    "plt.plot(Pi_8,0.9*Pi_8)\n",
    "plt.plot(Pi_8,1.1*Pi_8)\n",
    "plt.grid()"
   ]
  },
  {
   "cell_type": "code",
   "execution_count": 296,
   "metadata": {},
   "outputs": [
    {
     "data": {
      "text/plain": [
       "[<matplotlib.lines.Line2D at 0x1b2b7f366d8>]"
      ]
     },
     "execution_count": 296,
     "metadata": {},
     "output_type": "execute_result"
    },
    {
     "data": {
      "image/png": "[encoded data removed]",
      "text/plain": [
       "<Figure size 432x288 with 1 Axes>"
      ]
     },
     "metadata": {},
     "output_type": "display_data"
    }
   ],
   "source": [
    "plt.plot(Pi_6,Q_c,'o')"
   ]
  },
  {
   "cell_type": "code",
   "execution_count": 264,
   "metadata": {},
   "outputs": [
    {
     "data": {
      "text/plain": [
       "[<matplotlib.lines.Line2D at 0x1b2b6903240>]"
      ]
     },
     "execution_count": 264,
     "metadata": {},
     "output_type": "execute_result"
    },
    {
     "data": {
      "image/png": "[encoded data removed]",
      "text/plain": [
       "<Figure size 432x288 with 1 Axes>"
      ]
     },
     "metadata": {},
     "output_type": "display_data"
    }
   ],
   "source": [
    "plt.plot(erro[0],'o')\n",
    "plt.plot(erro[1],'o')\n",
    "plt.plot(erro[2],'o')\n",
    "plt.plot(erro[3],'o')"
   ]
  }
 ],
 "metadata": {
  "kernelspec": {
   "display_name": "Python 3",
   "language": "python",
   "name": "python3"
  },
  "language_info": {
   "codemirror_mode": {
    "name": "ipython",
    "version": 3
   },
   "file_extension": ".py",
   "mimetype": "text/x-python",
   "name": "python",
   "nbconvert_exporter": "python",
   "pygments_lexer": "ipython3",
   "version": "3.6.5"
  }
 },
 "nbformat": 4,
 "nbformat_minor": 2
}
