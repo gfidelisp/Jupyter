{
 "cells": [
  {
   "cell_type": "code",
   "execution_count": 1,
   "metadata": {},
   "outputs": [],
   "source": [
    "from numpy import *\n",
    "from scipy import *\n",
    "import numpy as np\n",
    "from matplotlib import *\n",
    "\n",
    "from scipy import integrate\n",
    "from scipy import interpolate\n",
    "from scipy.optimize import curve_fit\n",
    "import matplotlib.pyplot as plt\n",
    "\n",
    "import xlrd\n",
    "\n",
    "rc('text',usetex = True)\n",
    "rc('font', family='serif',size = 12)"
   ]
  },
  {
   "cell_type": "code",
   "execution_count": 1458,
   "metadata": {},
   "outputs": [],
   "source": [
    "def Properties(C,dT,B_exp,K,B_l_int,B_h_int,T,N_ml): #Get the properties on the low and high field\n",
    "\n",
    "    C_l = zeros([N_ml,len(T)])\n",
    "    C_h = zeros([N_ml,len(T)])\n",
    "    dT_l = zeros([N_ml,len(T)])\n",
    "    dT_h = zeros([N_ml,len(T)])\n",
    "    \n",
    "\n",
    "    for i in range(K):\n",
    "        #print(B_exp[i],B_h_int)\n",
    "        if B_exp[i] == B_l_int:\n",
    "            for j in range(N_ml):\n",
    "                C_l[j][i]=C[j,i]\n",
    "                dT_l[j][i]=dT[j,i]\n",
    "\n",
    "        if B_exp[i] == B_h_int and B_exp[i-1]< B_h_int:\n",
    "            A = i\n",
    "        if B_exp[i] == B_h_int:\n",
    "            for j in range(N_ml):\n",
    "                C_h[j][i-A]=C[j,i]\n",
    "                dT_h[j][i-A]=dT[j,i]\n",
    "                \n",
    "    return(C_l,C_h,dT_l,dT_h)"
   ]
  },
  {
   "cell_type": "code",
   "execution_count": 3,
   "metadata": {},
   "outputs": [],
   "source": [
    "def SubMetrics(Th,Tc,T_l,T_layer,L_layer,C_h,C_l,dT_ad,dT_ad_d):\n",
    "\n",
    "    #Th = 312\n",
    "    #Tc = 282\n",
    "\n",
    "    C_mag = []\n",
    "    C_dmag = []\n",
    "    dT_mag = []\n",
    "    dT_dmag = []\n",
    "\n",
    "    T_int = np.arange(Tc,Th+0.01,0.1)\n",
    "\n",
    "\n",
    "    #T_layer = np.arange(282,310.1,30/(15))\n",
    "    #L_layer = (100/len(T_layer))*ones(len(T_layer))\n",
    "    N_l = len(T_layer)\n",
    "\n",
    "    A = np.int((Tc - min(T_exp))/0.1)\n",
    "\n",
    "\n",
    "\n",
    "    T_t = []\n",
    "    L = 0\n",
    "\n",
    "    for i in range(N_l):\n",
    "        L = L + L_layer[i]\n",
    "        T_tr = Tc + 0.001 +L/100*(Th-Tc)\n",
    "        T_t.append(T_tr)\n",
    "    \n",
    "    \n",
    "    k = 0    \n",
    "    for i in range (len(T_int)):\n",
    "        #print(T_int[i])\n",
    "        if T_int[i] <=T_t[k]:\n",
    "            #print(T_int[i],T_t[k])\n",
    "            for j in range(len(T_l)):\n",
    "                #print(T_layer[k],T_l[j])\n",
    "                if T_layer[k] >= T_l[j] and T_layer[k] < T_l[j+1]:\n",
    "                    #print('Hello')\n",
    "                    #print(T_int[i],T_t[k],T_layer[k],T_l[j],T_l[j+1])\n",
    "                    C_mag.append(C_h[j+1][int(i+A)]-(C_h[j+1][int(i+A)]-C_h[j][int(i+A)])*(T_l[j+1]-T_layer[k])/(T_l[j+1]-T_l[j]))\n",
    "                    C_dmag.append(C_l[j+1][int(i+A)]-(C_l[j+1][int(i+A)]-C_l[j][int(i+A)])*(T_l[j+1]-T_layer[k])/(T_l[j+1]-T_l[j]))\n",
    "                    dT_mag.append(dT_ad[j+1][int(i+A)]-(dT_ad[j+1][int(i+A)]-dT_ad[j][int(i+A)])*(T_l[j+1]-T_layer[k])/(T_l[j+1]-T_l[j]))\n",
    "                    dT_dmag.append(dT_ad_d[j+1][int(i+A)]-(dT_ad_d[j+1][int(i+A)]-dT_ad_d[j][int(i+A)])*(T_l[j+1]-T_layer[k])/(T_l[j+1]-T_l[j]))\n",
    "                    #print(T_int[i],C_h[j+1][int(i+A)],C_h[j][int(i+A)],(C_h[j+1][int(i+A)]-(C_h[j+1][int(i+A)]-C_h[j][int(i+A)])*(T_l[j+1]-T_layer[k])/(T_l[j+1]-T_l[j])))\n",
    "        else:\n",
    "            for j in range(len(T_l)):\n",
    "                if T_layer[k+1] >= T_l[j] and T_layer[k+1] < T_l[j+1]:\n",
    "                    C_mag.append(C_h[j][int(i+A)]+(C_h[j+1][int(i+A)]-C_h[j][int(i+A)])*(T_layer[k+1]-T_l[j])/(T_l[j+1]-T_l[j]))\n",
    "                    C_dmag.append(C_l[j][int(i+A)]+(C_l[j+1][int(i+A)]-C_l[j][int(i+A)])*(T_layer[k+1]-T_l[j])/(T_l[j+1]-T_l[j]))\n",
    "                    dT_mag.append(dT_ad[j][int(i+A)]+(dT_ad[j+1][int(i+A)]-dT_ad[j][int(i+A)])*(T_layer[k+1]-T_l[j])/(T_l[j+1]-T_l[j]))\n",
    "                    dT_dmag.append(dT_ad_d[j][int(i+A)]+(dT_ad_d[j+1][int(i+A)]-dT_ad_d[j][int(i+A)])*(T_layer[k+1]-T_l[j])/(T_l[j+1]-T_l[j]))\n",
    "                    #print(T_int[i],C_h[j+1][int(i+A)],C_h[j][int(i+A)],T_l[j+1],T_l[j],T_layer[k],(C_h[j+1][int(i+A)]-(C_h[j+1][int(i+A)]-C_h[j][int(i+A)])*(T_l[j+1]-T_layer[k])/(T_l[j+1]-T_l[j])))\n",
    "            k = k + 1\n",
    "\n",
    "            \n",
    "    return (C_mag,C_dmag,dT_mag,dT_dmag)"
   ]
  },
  {
   "cell_type": "code",
   "execution_count": 4,
   "metadata": {},
   "outputs": [],
   "source": [
    "def Parameters(C_mag,C_dmag,dT_mag,dT_dmag,T_int):\n",
    "\n",
    "    C_mag_mean   = integrate.simps(C_mag,T_int)/(max(T_int)-min(T_int))\n",
    "    C_dmag_mean  = integrate.simps(C_dmag,T_int)/(max(T_int)-min(T_int))\n",
    "    \n",
    "    dT_mag_mean  = integrate.simps(dT_mag,T_int)/(max(T_int)-min(T_int))\n",
    "    dT_dmag_mean = integrate.simps(dT_dmag,T_int)/(max(T_int)-min(T_int))\n",
    "    \n",
    "    CdT_mag_mean   = integrate.simps(np.array(C_mag)*np.array(dT_mag),T_int)/(max(T_int)-min(T_int))\n",
    "    CdT_dmag_mean  = integrate.simps(np.array(C_dmag)*np.array(dT_dmag),T_int)/(max(T_int)-min(T_int))\n",
    "    return C_mag_mean, C_dmag_mean, dT_mag_mean,dT_dmag_mean,CdT_mag_mean,CdT_dmag_mean"
   ]
  },
  {
   "cell_type": "code",
   "execution_count": 5,
   "metadata": {},
   "outputs": [],
   "source": [
    "def Metrics (SpecHeat,dTad,B_l_int,B_h_int,T_arg,N_ml,Th,Tc,T_l,T_layer,L_layer):\n",
    "    (C_l,C_h,dT_l,dT_h) = Properties(C,dT,np.round(B_exp,2),K,B_l_int,B_h_int,T_arg,N_ml) #Properties of low and high fields\n",
    "    dT_ad = np.array(dT_h)-np.array(dT_l)\n",
    "             \n",
    "    T_dem = zeros([N_ml,len(T_arg)])\n",
    "    for j in range(N_ml):\n",
    "        T_dem[j] = T_arg + dT_ad[j]\n",
    "             \n",
    "    dT_ad_d = np.zeros([N_ml,len(T_arg)])\n",
    "    for i in range(N_ml):\n",
    "        for j in range(len(T_arg)):\n",
    "            for k in range(len(T_dem[i])):\n",
    "                if  T_arg[j] > T_dem[i][k] and T_arg[j] <= T_dem[i][k+1]:\n",
    "                    dT_ad_d[i][j] = (dT_ad[i][k] + (T_arg[j] - T_dem[i][k])*(dT_ad[i][k+1]-dT_ad[i][k])/(T_arg[k+1]-T_arg[k]))\n",
    "\n",
    "    (C_mag,C_dmag,dT_mag,dT_dmag) = SubMetrics(Th,Tc,T_l,T_layer,L_layer,C_h,C_l,dT_ad,dT_ad_d)\n",
    "    \n",
    "    T_int = np.arange(Tc,Th+0.01,0.1)\n",
    "    \n",
    "    C_mag_mean, C_dmag_mean, dT_mag_mean,dT_dmag_mean,CdT_mag_mean,CdT_dmag_mean = Parameters(C_mag,C_dmag,dT_mag,dT_dmag,T_int)\n",
    "    \n",
    "    return C_mag_mean, C_dmag_mean, dT_mag_mean,dT_dmag_mean,CdT_mag_mean,CdT_dmag_mean"
   ]
  },
  {
   "cell_type": "markdown",
   "metadata": {},
   "source": [
    "HEx inputs"
   ]
  },
  {
   "cell_type": "code",
   "execution_count": 6,
   "metadata": {},
   "outputs": [],
   "source": [
    "def fan(V,a,b,c):\n",
    "    P = a*V**2+b*V + c\n",
    "    return P"
   ]
  },
  {
   "cell_type": "code",
   "execution_count": 7,
   "metadata": {},
   "outputs": [],
   "source": [
    "N_r = 3\n",
    "N_l = 4\n",
    "Xt = 0.2\n",
    "Xl = 0.3\n",
    "L2 = N_r*Xl\n",
    "L3 = Xt*N_l"
   ]
  },
  {
   "cell_type": "code",
   "execution_count": 8,
   "metadata": {},
   "outputs": [
    {
     "data": {
      "text/plain": [
       "(0.8999999999999999, 0.8)"
      ]
     },
     "execution_count": 8,
     "metadata": {},
     "output_type": "execute_result"
    }
   ],
   "source": [
    "L2,L3"
   ]
  },
  {
   "cell_type": "code",
   "execution_count": 9,
   "metadata": {},
   "outputs": [],
   "source": [
    "if N_r%2 == 0:\n",
    "    arranjo = 2\n",
    "else:\n",
    "    arranjo = 1\n",
    "\n",
    "if arranjo == 0:\n",
    "    N_t = L2*L3/(Xt*Xl)\n",
    "elif arranjo == 1:\n",
    "    N_t = (L3/Xt)*(L2/Xl+1)/2 + (L3/Xt-1)*(L2/Xl-1)/2\n",
    "elif arranjo == 2:\n",
    "    N_t = 0.5*(L2/Xl)*(2*L3/Xt-1)"
   ]
  },
  {
   "cell_type": "code",
   "execution_count": 10,
   "metadata": {},
   "outputs": [
    {
     "data": {
      "text/plain": [
       "(1, 11.0)"
      ]
     },
     "execution_count": 10,
     "metadata": {},
     "output_type": "execute_result"
    }
   ],
   "source": [
    "arranjo,N_t"
   ]
  },
  {
   "cell_type": "code",
   "execution_count": 11,
   "metadata": {},
   "outputs": [],
   "source": [
    "def HEx(Xl,Xt,N_r,N_l,L1,Di,De,pf,xf,sigmaf,sigmah,pd,m_f,Nucleos):\n",
    "    \n",
    "    #Geometric definition\n",
    "    #Xt = 0.0381\n",
    "    #Xl = 0.033\n",
    "    \n",
    "    #N_r = 3\n",
    "    L2 = N_r*Xl\n",
    "    L3 = N_l*Xt\n",
    "    \n",
    "    #L2 = 0.033*4 #0.0215 #0.043\n",
    "      #0.125 #0.152\n",
    "\n",
    "    #Di = 0.01588 #694\n",
    "    #De = 0.0163 #794\n",
    "\n",
    "\n",
    "    \n",
    "    #pf = 1/Beta\n",
    "    #Nfin =100\n",
    "    #Beta = Nfin/L1   #Fin density [1/m]\n",
    "    \n",
    "    #pf = 5*10**-3\n",
    "    Beta = 1/pf\n",
    "    Nfin = Beta*L1\n",
    "    \n",
    "    #xf = 0.007\n",
    "    \n",
    "    #sigmaf = 0.00015\n",
    "    #sigmah = 0.0016\n",
    "    \n",
    "    #pd = 0.0018\n",
    "    \n",
    "    \n",
    "    \n",
    "    #Properties of air at 25ºC\n",
    "    \n",
    "    rho_a = 1.168      #[kg/m3] Density\n",
    "    mu_a  = 0.00001849 #[kg/(m.s)] Viscosity\n",
    "    cp_a  = 1004      #[kJ/kg.K] Specific heat\n",
    "    Pr_a  = 0.7281     #[-] Prandtl number\n",
    "    \n",
    "    #Properties of the wall\n",
    "    \n",
    "    k_w = 273 #[W/m.K] Thermal conductivity of the aluminum\n",
    "    \n",
    "    #Properties of the water\n",
    "    \n",
    "    rho_w = 997        #[kg/m3] Density (25ºC)\n",
    "    cp_w  = 4181       #[kJ/kg.K] Specific heat\n",
    "    mu_wc = 0.001138   #[kg/(m.s)] Viscosity in the cold line (15ºC)\n",
    "    mu_wh = 0.0007193  #[kg/(m.s)] Viscosity in the hot line (35ºC)\n",
    "    Pr_wc = 8.092      #[-] Prandtl number in the cold line (15ºC)\n",
    "    Pr_wh = 4.835      #[-] Prandtl number in the hot line  (35ºC)\n",
    "    k_wc = 0.5888      #[-] Thermal conductivity in the cold line (15ºC)\n",
    "    k_wh = 0.6217      #[-] Thermal conductivity in the hot line (35ºC)\n",
    "    \n",
    "    #Geometric calculation\n",
    "    \n",
    "    \n",
    "    # Arranjo == 0 - Inline arrangement\n",
    "    # Arranjo == 1 - Staggered Arrangement - Numero impar de fileiras - Última fila com o mesmo numero de tubos que a primeira\n",
    "    # Arranjo == 2 - Staggered Arrangement - Numero par de fileiras   - Última fila com um tubo a menos que a primeira\n",
    "    \n",
    "    \n",
    "    arranjo = 1\n",
    "    \n",
    "    N_t = N_r*N_l\n",
    "    \n",
    "    #print(L1,L2,L3,N_r,N_l,N_t,Nucleos)\n",
    "    \n",
    "    #if N_r%2 == 0:\n",
    "        #arranjo = 2\n",
    "    #else:\n",
    "        #arranjo = 1\n",
    "    \n",
    "       \n",
    "    #if arranjo == 0:\n",
    "        #N_t = L2*L3/(Xt*Xl)\n",
    "    #elif arranjo == 1:\n",
    "        #N_t = (L3/Xt)*(L2/Xl+1)/2 + (L3/Xt-1)*(L2/Xl-1)/2\n",
    "    #elif arranjo == 2:\n",
    "        #N_t = 0.5*(L2/Xl)*(2*L3/Xt-1)\n",
    "        \n",
    "    \n",
    "    dc = De + 2*sigmaf\n",
    "    \n",
    "    theta = np.arctan(pd/xf)\n",
    "\n",
    "\n",
    "    \n",
    "    \n",
    "    if arranjo  == 0:\n",
    "        A_min_o = ((Xt-De)*L1 - (Xt-De)*sigmaf*Beta*L1)*L3/Xt #Minimum free flow area\n",
    "    else:\n",
    "        a = ((Xt - De) - (Xt - De)*sigmaf*Beta)/2\n",
    "        b = ((Xt/2)**2+Xl**2)**0.5 - De - (Xt-De)*sigmaf*Beta\n",
    "        if a<b:\n",
    "            c = 2*a\n",
    "        else:\n",
    "            c = 2*b\n",
    "        A_min_o = ((L3/Xt-1)*c + (Xt-De)-(Xt-De)*sigmaf*Beta)*L1 #Minimum free flow area\n",
    "    \n",
    "    \n",
    "    A_fr = L1*L3 #Frontal area\n",
    "    sigma = A_min_o/A_fr\n",
    "    \n",
    "    \n",
    "    A_p = np.pi*De*(L1-sigmaf*Beta*L1)*N_t+2*(L2*L3 - np.pi*De**2*N_t/4) #Primary surface area  - exposed tubes and header plates\n",
    "    A_f = 2*(L2*L3-(np.pi*De**2/4)*N_t)*Beta*L1 + 2*L3*sigmaf*Beta*L1     #Secondary surface are - fin surface\n",
    "    A_s = A_p + A_f       #Total heat transfer area\n",
    "    A_t = np.pi*De*L1*N_t #External tube area\n",
    "    \n",
    "    sigma_o = (L3*L1 - L3*sigmaf*Beta*L1)/(L3*L1) #area concentration/expansion ratio\n",
    "    D_h = 4*A_min_o*L2/A_s #Hydraulic diameter\n",
    "    #print(D_h*1000,Beta,pf*1000)\n",
    "    #Correlation parameters\n",
    "    \n",
    "    c1 = -0.1707 - 1.374*((Xl/sigmaf)**(-0.493))*((pf/dc)**(-0.886))*((N_r)**(-0.143))*((pd/xf)**(-0.0296))\n",
    "    c2 = 0.1714 - 0.07372*((pf/Xl)**0.25)*(np.log(A_s/A_t))*((pd/xf)**(-0.2))\n",
    "    c3 = 0.426*((pf/Xt)**0.3)*(np.log(A_s/A_t))\n",
    "    \n",
    "    VFR = np.arange(1,2000,1)\n",
    "    dP_o = np.zeros(len(VFR))\n",
    "    Rt_o = np.zeros(len(VFR))\n",
    "    Re = np.zeros(len(VFR)) \n",
    "    for i in range(len(VFR)):\n",
    "        vazao = VFR[i]*0.00047194745\n",
    "        \n",
    "        u_air = vazao/(L1*L3)\n",
    "        u_max = u_air/sigma\n",
    "        \n",
    "        Re[i] = u_max*rho_a*dc/(mu_a)\n",
    "\n",
    "        \n",
    "        c4 = -10.2192/np.log(Re[i])\n",
    "        \n",
    "        \n",
    "        #Pressure drop correlation\n",
    "        f_o  = 0.05273*(Re[i]**c2)*((pd/xf)**c3)*((pf/Xt)**c4)*((np.log(A_s/A_t))**(-2.726))*(D_h/dc)**0.1325*((N_r)**0.02305)\n",
    "        \n",
    "        G_o = rho_a*u_max\n",
    "        \n",
    "        dP_o[i] = G_o**2/(2*rho_a)*((f_o)*(A_s/A_min_o))\n",
    "        #Coulburn factor\n",
    "        \n",
    "        j_o = 1.7910*((Re[i])**c1)*((Xl/sigmaf)**(-0.456))*((N_r)**(-0.27))*((pf/dc)**(-1.343))*((pd/xf)**0.317)\n",
    "        h_o = j_o*rho_a*u_max*cp_a*Pr_a**(-0.66666)\n",
    "        \n",
    "        #Fin efficiency\n",
    "        \n",
    "        m = ((2*h_o)/(k_w*sigmaf))**0.5\n",
    "        \n",
    "        Pm = Xt/2\n",
    "        Pl = (((Xt/2)**2+Xl**2)**0.5)/2\n",
    "        R_eq = 1.27*Pm*(Pl/Pm-0.3)**0.5\n",
    "        phi = (R_eq/(Di/2)-1)*(1+0.35*np.log(R_eq/(Di/2)))\n",
    "        eta = math.tanh(m*(Di/2)*phi)/(m*(Di/2)*phi)\n",
    "        eta_o = 1 - (A_f/A_s)*(1-eta)\n",
    "        \n",
    "        Rt_o[i] = 1/(eta_o*h_o*A_s)\n",
    "    \n",
    "    \n",
    "    \n",
    "    #Internal flow\n",
    "    \n",
    "    Lh=(L1+2*sigmah)*N_t\n",
    "    A_i = np.pi*Di*L1*N_t\n",
    "    A_min_i = np.pi*(Di**2)/4\n",
    "    G_i = m_f/A_min_i\n",
    "    \n",
    "    Re_ic = G_i*Di/mu_wc \n",
    "    Re_ih = G_i*Di/mu_wh\n",
    "    \n",
    "    A_c = (2.457*np.log(1/((7/Re_ic)**0.9+0.27*(0.0015*10**(-3)/Di))))**16\n",
    "    B_c = (37530/Re_ic)**16\n",
    "    \n",
    "    A_h = (2.457*np.log(1/((7/Re_ih)**0.9+0.27*(0.0015*10**(-3)/Di))))**16\n",
    "    B_h = (37530/Re_ih)**16\n",
    "    \n",
    "    f_c = (8*((8/Re_ic)**12 + (A_c + B_c)**(-3/2))**(1/12))/4\n",
    "    f_h = (8*((8/Re_ih)**12 + (A_h + B_h)**(-3/2))**(1/12))/4\n",
    "    \n",
    "    if Re_ih < 2300:\n",
    "        Nu_ih = 3.66\n",
    "    else:\n",
    "        Nu_ih = ((f_h/2)*(Re_ih-1000)*Pr_wh)/(1+12.7*((f_h/2)**0.5)*(Pr_wh**(2/3)-1))\n",
    "                                              \n",
    "    if Re_ic < 2300:\n",
    "        Nu_ic = 3.66\n",
    "    else:\n",
    "        Nu_ic = ((f_c/2)*(Re_ic-1000)*Pr_wc)/(1+12.7*((f_c/2)**0.5)*(Pr_wc**(2/3)-1))   \n",
    "    \n",
    "    \n",
    "    h_i_c = Nu_ic*k_wc/Di\n",
    "    h_i_h = Nu_ih*k_wh/Di\n",
    "       \n",
    "    #print(Nu_ic, h_i_c,f_c,Re_ic)    \n",
    "    \n",
    "    Rt_i_c = 1/(h_i_c*A_i)\n",
    "    Rt_i_h = 1/(h_i_h*A_i)\n",
    "    \n",
    "    K_bend = 26\n",
    "    dP_i_c = f_c*G_i**2*4*(Lh/Di+N_t*np.pi*Xt/2/Di + N_t*K_bend)/(2*rho_w)  #f_c*G_i**2*4*50/(2*rho_w)\n",
    "    dP_i_h = f_h*G_i**2*4*(Lh/Di+N_t*np.pi*Xt/2/Di + N_t*K_bend)/(2*rho_w) #f_c*G_i**2*4*50/(2*rho_w)\n",
    "    #http://hydroneng.com/pipelines/\n",
    "    #http://www.thermopedia.com/content/577/\n",
    "    #print(200*f_c,np.pi*Xt/2,Lh)\n",
    "                                              \n",
    "    W_p_c = dP_i_c*m_f/rho_w\n",
    "    W_p_h = dP_i_h*m_f/rho_w\n",
    "    \n",
    "    \n",
    "    #Performance metrics\n",
    "    \n",
    "    UA_h = (Rt_o+Rt_i_h)**-1\n",
    "    UA_c = (Rt_o+Rt_i_c)**-1\n",
    "    #print(UA_h,UA_c)\n",
    "    W_o = VFR*0.00047194745*dP_o/0.1\n",
    "    \n",
    "    NTU_c = UA_c/(VFR*0.00047194745*rho_a*cp_a)\n",
    "    NTU_h = UA_h/(VFR*0.00047194745*rho_a*cp_a)\n",
    "    \n",
    "    C_r = (VFR*0.00047194745*rho_a*cp_a)/(m_f*cp_w)\n",
    "    \n",
    "    if N_r == 1:\n",
    "        Eff_h = (1-np.exp(-C_r*(1-np.exp(-NTU_h))))/C_r\n",
    "        Eff_c = (1-np.exp(-C_r*(1-np.exp(-NTU_c))))/C_r\n",
    "    elif N_r == 2:\n",
    "        K = (1-np.exp(-NTU_h/2))\n",
    "        Eff_h = (1-np.exp(-2*K*C_r)*((1+C_r*K**2)))/C_r\n",
    "        K = (1-np.exp(-NTU_c/2))\n",
    "        Eff_c = (1-np.exp(-2*K*C_r)*((1+C_r*K**2)))/C_r\n",
    "    elif N_r == 3:\n",
    "        K = (1-np.exp(-NTU_h/3))\n",
    "        Eff_h = (1-np.exp(-3*K*C_r)*(1+C_r*K**2*(3-K)+3*C_r**2*K**4/2))/C_r\n",
    "        K = (1-np.exp(-NTU_c/3))\n",
    "        Eff_c = (1-np.exp(-3*K*C_r)*(1+C_r*K**2*(3-K)+3*C_r**2*K**4/2))/C_r\n",
    "    elif N_r ==4:\n",
    "        K = (1-np.exp(-NTU_h/4))\n",
    "        Eff_h = (1-np.exp(-4*K*C_r)*(1+C_r*K**2*(6-4*K+K**2)+4*C_r**2*K**4*(2-K)+8*C_r**3*K**6/3))/C_r\n",
    "        K = (1-np.exp(-NTU_c/4))\n",
    "        Eff_c = (1-np.exp(-4*K*C_r)*(1+C_r*K**2*(6-4*K+K**2)+4*C_r**2*K**4*(2-K)+8*C_r**3*K**6/3))/C_r\n",
    "    else:\n",
    "        Eff_h = 1 - np.exp(NTU_h**0.22*(np.exp(-C_r*NTU_h**0.78)-1)/C_r)\n",
    "        Eff_c = 1 - np.exp(NTU_c**0.22*(np.exp(-C_r*NTU_c**0.78)-1)/C_r)\n",
    "    \n",
    "    \n",
    "    \n",
    "    ECr_c = Eff_c*C_r\n",
    "    ECr_h = Eff_h*C_r\n",
    "    \n",
    "    #Fan\n",
    "    \n",
    "    #https://www.ebmpapst.com/en/products/axial-fans/axialfansdetail.php?pID=139216\n",
    "    #https://www.ebmpapst.com/en/products/axial-fans/axialfansdetail.php?pID=128164\n",
    "    \n",
    "    dP_low = np.array([37,35,30,22,11,0]) \n",
    "    V_low  = np.array([1000,1250,1500,1750,2000,2250])*0.588578/Nucleos\n",
    "    #V_low  = np.array([2500,2700,3000,3400,3700,4250])*0.588578/Nucleos\n",
    "    \n",
    "    #dP_low = np.array([40,30,20,10,0])\n",
    "    #V_low = np.array([2000,2400,2700,3000,3250])*0.588578/Nucleos\n",
    "    \n",
    "    \n",
    "    #dP_v = np.array([0,7,20,32,40,47,54])\n",
    "    #V = np.array([2900,2750,2500,2250,2000,1750,1500])*0.588578\n",
    "    \n",
    "    \n",
    "    #https://www.coolstore.pl/data/links/14dfdc7caabd364370879f08e2576560/4244_370.pdf\n",
    "    #https://www.coolstore.pl/data/links/ebe5db23a298ac8d489ecac34f4111d0/4246_374.pdf\n",
    "    \n",
    "    dP_high = np.array([120,115,105,95,75,55,30,0])\n",
    "    V_high  = np.array([2000,1500,2000,2500,3000,3500,4000,4500])*0.588578\n",
    "    \n",
    "    Coef_fan_l = curve_fit(fan,V_low,dP_low,maxfev=10000)\n",
    "    Coef_fan_h = curve_fit(fan,V_high,dP_high,maxfev=1000)\n",
    "    \n",
    "    aux_low = fan(VFR,Coef_fan_l[0][0],Coef_fan_l[0][1],Coef_fan_l[0][2])-dP_o\n",
    "    Inter_low = np.abs(aux_low).argmin()\n",
    "    \n",
    "    \n",
    "    erro_dp = abs(dP_o[Inter_low] - fan(VFR[Inter_low],Coef_fan_l[0][0],Coef_fan_l[0][1],Coef_fan_l[0][2]))\n",
    "    \n",
    "    if erro_dp > 1:\n",
    "        print(dP_o[Inter_low],fan(VFR[Inter_low],Coef_fan_l[0][0],Coef_fan_l[0][1],Coef_fan_l[0][2]))\n",
    "    \n",
    "    aux_high = fan(VFR,Coef_fan_h[0][0],Coef_fan_h[0][1],Coef_fan_h[0][2])-dP_o\n",
    "    Inter_high = np.abs(aux_high).argmin() \n",
    "    \n",
    "    #print(UA_c[Inter_low],Eff_c[Inter_low],C_r[Inter_low],m_f*3600,VFR[Inter_low],VFR[Inter_low]*Nucleos)\n",
    "\n",
    "    return(W_o[Inter_low],ECr_c[Inter_low],ECr_h[Inter_low],dP_o[Inter_low],N_r,N_l,L1,pf,W_p_c,W_p_h,VFR[Inter_low],erro_dp,Eff_c[Inter_low],Eff_h[Inter_low])"
   ]
  },
  {
   "cell_type": "code",
   "execution_count": 12,
   "metadata": {
    "scrolled": true
   },
   "outputs": [
    {
     "data": {
      "text/plain": [
       "(80.64796608589468,\n",
       " 4.1891558981266286e-05,\n",
       " 4.189350357330923e-05,\n",
       " 37.639506648282826,\n",
       " 1,\n",
       " 5,\n",
       " 0.11,\n",
       " 0.004,\n",
       " 4081574508.1482077,\n",
       " 4075351699.4919033,\n",
       " 454,\n",
       " 0.05851595900664819,\n",
       " 0.10456152220779373,\n",
       " 0.10456637591839865)"
      ]
     },
     "execution_count": 12,
     "metadata": {},
     "output_type": "execute_result"
    }
   ],
   "source": [
    "HEx(27.5*10**-3,31.75*10**-3,1,5,0.11,0.00694,0.00794,4*10**-3,7*10**-3,0.15*10**-3, 0.00030,0.0018,150,1)"
   ]
  },
  {
   "cell_type": "code",
   "execution_count": 13,
   "metadata": {},
   "outputs": [
    {
     "ename": "NameError",
     "evalue": "name 'Nucleos' is not defined",
     "output_type": "error",
     "traceback": [
      "\u001b[1;31m---------------------------------------------------------------------------\u001b[0m",
      "\u001b[1;31mNameError\u001b[0m                                 Traceback (most recent call last)",
      "\u001b[1;32m<ipython-input-13-5754a4218636>\u001b[0m in \u001b[0;36m<module>\u001b[1;34m\u001b[0m\n\u001b[0;32m      1\u001b[0m \u001b[1;31m#Nucleos = np.array([1,2,4,8,16])\u001b[0m\u001b[1;33m\u001b[0m\u001b[1;33m\u001b[0m\u001b[1;33m\u001b[0m\u001b[0m\n\u001b[1;32m----> 2\u001b[1;33m \u001b[1;36m3040\u001b[0m\u001b[1;33m/\u001b[0m\u001b[0mNucleos\u001b[0m\u001b[1;33m\u001b[0m\u001b[1;33m\u001b[0m\u001b[0m\n\u001b[0m",
      "\u001b[1;31mNameError\u001b[0m: name 'Nucleos' is not defined"
     ]
    }
   ],
   "source": [
    "#Nucleos = np.array([1,2,4,8,16])\n",
    "3040/Nucleos"
   ]
  },
  {
   "cell_type": "code",
   "execution_count": null,
   "metadata": {},
   "outputs": [],
   "source": [
    "sigmaf = 0.00010 #0.00015\n",
    "sigmah = 0.00030 #0.0016\n",
    "pd = 0.0018\n",
    "\n",
    "Di = 0.0117\n",
    "De = 0.0127\n",
    "\n",
    "Nucleos = 7\n",
    "\n",
    "#De = np.array(0.0127,0.01588,(0.01588-0.0127)/2)\n",
    "#Di = De - 0.0015\n",
    "\n",
    "#N_circuitos = 10\n",
    "\n",
    "m_f = np.arange(4*640/3600/Nucleos,4*650/3600/Nucleos,4*5/3600/Nucleos) #3040/3600/Nucleos #\n",
    "\n",
    "#Xt = np.arange(31.75*10**-3,1.01*38.1*10**-3,(38.1*10**-3-31.75*10**-3)/2)\n",
    "\n",
    "Xt = (31.75*10**-3)\n",
    "\n",
    "#Xl = np.arange(27.5*10**-3,1.01*33*10**-3,(33*10**-3-27.5*10**-3)/2)\n",
    "\n",
    "Xl = 27.5*10**-3\n",
    "\n",
    "pf = np.array([6,8,10,12,15])*10**-3#np.array([2.1,3.175,5.08,6.3])*10**-3 #np.array([2.1,2.54,3.175,4.2333,5.08,6.3])*10**-3 #np.arange(2.1*10**-3,1.01*6.3*10**-3,(6.3*10**-3-2.1*10**-3)/5) #min = 2.98 mm\n",
    "\n",
    "N_r = np.arange(3,10.1,1)\n",
    "\n",
    "#N_r = 3\n",
    "\n",
    "N_l =[1,2]\n",
    "\n",
    "#N_l = 30\n",
    "L1  = np.arange(0.7,0.9,0.05) #np.arange(0.4,0.73,0.05)\n",
    "\n",
    "#L1 = 0.8\n",
    "#xf = np.arange(6.87*10**-3,1.01*8.25*10**-3,(8.25*10**-3-6.87*10**-3))\n",
    "\n",
    "xf = 7*10**-3\n",
    "#sigmaf = np.arange(0.00010,0.00021,0.00005)\n",
    "\n",
    "sigmaf = 0.15*10**-3"
   ]
  },
  {
   "cell_type": "code",
   "execution_count": null,
   "metadata": {
    "scrolled": true
   },
   "outputs": [],
   "source": [
    "W_l = np.zeros([size(m_f),size(Xl),size(Xt),size(N_r),size(N_l),size(L1),size(pf),size(xf),size(sigmaf)])\n",
    "W_h = np.zeros([size(m_f),size(Xl),size(Xt),size(N_r),size(N_l),size(L1),size(pf),size(xf),size(sigmaf)])\n",
    "\n",
    "W_p_h = np.zeros([size(m_f),size(Xl),size(Xt),size(N_r),size(N_l),size(L1),size(pf),size(xf),size(sigmaf)])\n",
    "W_p_c = np.zeros([size(m_f),size(Xl),size(Xt),size(N_r),size(N_l),size(L1),size(pf),size(xf),size(sigmaf)])\n",
    "\n",
    "\n",
    "ECr_c_l = np.zeros([size(m_f),size(Xl),size(Xt),size(N_r),size(N_l),size(L1),size(pf),size(xf),size(sigmaf)])\n",
    "ECr_h_l = np.zeros([size(m_f),size(Xl),size(Xt),size(N_r),size(N_l),size(L1),size(pf),size(xf),size(sigmaf)])\n",
    "\n",
    "E_c = np.zeros([size(m_f),size(Xl),size(Xt),size(N_r),size(N_l),size(L1),size(pf),size(xf),size(sigmaf)])\n",
    "E_h = np.zeros([size(m_f),size(Xl),size(Xt),size(N_r),size(N_l),size(L1),size(pf),size(xf),size(sigmaf)])"
   ]
  },
  {
   "cell_type": "code",
   "execution_count": null,
   "metadata": {},
   "outputs": [],
   "source": [
    "ECr_c_h = np.zeros([size(m_f),size(Xl),size(Xt),size(N_r),size(N_l),size(L1),size(pf),size(xf),size(sigmaf)])\n",
    "ECr_h_h = np.zeros([size(m_f),size(Xl),size(Xt),size(N_r),size(N_l),size(L1),size(pf),size(xf),size(sigmaf)])\n",
    "\n",
    "\n",
    "print(size(W_l))\n",
    "\n",
    "dP_o = np.zeros([size(m_f),size(Xl),size(Xt),size(N_r),size(N_l),size(L1),size(pf),size(xf),size(sigmaf)])\n",
    "Nr= np.zeros([size(m_f),size(Xl),size(Xt),size(N_r),size(N_l),size(L1),size(pf),size(xf),size(sigmaf)])\n",
    "Nl = np.zeros([size(m_f),size(Xl),size(Xt),size(N_r),size(N_l),size(L1),size(pf),size(xf),size(sigmaf)])\n",
    "L_1 = np.zeros([size(m_f),size(Xl),size(Xt),size(N_r),size(N_l),size(L1),size(pf),size(xf),size(sigmaf)])\n",
    "p_f = np.zeros([size(m_f),size(Xl),size(Xt),size(N_r),size(N_l),size(L1),size(pf),size(xf),size(sigmaf)])\n",
    "CFM = np.zeros([size(m_f),size(Xl),size(Xt),size(N_r),size(N_l),size(L1),size(pf),size(xf),size(sigmaf)])\n",
    "erro_dp = np.zeros([size(m_f),size(Xl),size(Xt),size(N_r),size(N_l),size(L1),size(pf),size(xf),size(sigmaf)])"
   ]
  },
  {
   "cell_type": "code",
   "execution_count": null,
   "metadata": {
    "scrolled": true
   },
   "outputs": [],
   "source": [
    "w = 0\n",
    "\n",
    "for p in range(len(m_f)):\n",
    "    for i in range(size(Xl)):\n",
    "        for j in range(size(Xt)):\n",
    "            for k in range(size(N_r)):\n",
    "                for l in range(size(N_l)):\n",
    "                    for m in range(size(L1)):\n",
    "                        for n in range(size(pf)):\n",
    "                            for o in range(size(xf)):\n",
    "                                for q in range(size(sigmaf)):\n",
    "                                    A,B,C,D,E,F,G,H,I,J,K,O,P,Q = HEx(Xl,Xt,N_r[k],N_l[l],L1[m],Di,De,pf[n],xf,sigmaf,sigmah,pd,m_f[p],Nucleos)\n",
    "                                    \n",
    "                                    W_l[p][i][j][k][l][m][n][o][q] = A\n",
    "                                    ECr_c_l[p][i][j][k][l][m][n][o][q] = B\n",
    "                                    ECr_h_l[p][i][j][k][l][m][n][o][q] = C\n",
    "                                    E_c[p][i][j][k][l][m][n][o][q] = P\n",
    "                                    E_h[p][i][j][k][l][m][n][o][q] = Q\n",
    "                                    dP_o[p][i][j][k][l][m][n][o][q] = D\n",
    "                                    \n",
    "                                    Nr[p][i][j][k][l][m][n][o][q] = E\n",
    "                                    Nl[p][i][j][k][l][m][n][o][q] = F\n",
    "                                    L_1[p][i][j][k][l][m][n][o][q] = G\n",
    "                                    p_f[p][i][j][k][l][m][n][o][q] = H\n",
    "                                   \n",
    "                                    \n",
    "                                    W_p_h[p][i][j][k][l][m][n][o][q] = I\n",
    "                                    W_p_c[p][i][j][k][l][m][n][o][q] = J\n",
    "                                    CFM[p][i][j][k][l][m][n][o][q] = K\n",
    "                                    erro_dp[p][i][j][k][l][m][n][o][q] = O\n",
    "                                \n",
    "                                    #print(F,G)\n",
    "                                    w = w+1\n",
    "                        print(w/size(W_l)*100)"
   ]
  },
  {
   "cell_type": "code",
   "execution_count": null,
   "metadata": {},
   "outputs": [],
   "source": [
    "#L1,L2,L3,Xl,N_l,N_t,Nucleo"
   ]
  },
  {
   "cell_type": "code",
   "execution_count": null,
   "metadata": {
    "scrolled": false
   },
   "outputs": [],
   "source": [
    "print(L1,L2,L3,Xl,Xt,N_r,N_l)"
   ]
  },
  {
   "cell_type": "code",
   "execution_count": null,
   "metadata": {},
   "outputs": [],
   "source": [
    "W_array_L = np.zeros([size(m_f),np.int(size(W_l)/size(m_f))])\n",
    "Ec_array_L = np.zeros([size(m_f),np.int(size(W_l)/size(m_f))])\n",
    "Eh_array_L = np.zeros([size(m_f),np.int(size(W_l)/size(m_f))])\n",
    "\n",
    "E_array_h = np.zeros([size(m_f),np.int(size(W_l)/size(m_f))])\n",
    "E_array_c = np.zeros([size(m_f),np.int(size(W_l)/size(m_f))])\n",
    "dP_o_array_L = np.zeros([size(m_f),np.int(size(W_h)/size(m_f))])\n",
    "\n",
    "Nr_array = np.zeros([size(m_f),np.int(size(W_h)/size(m_f))])\n",
    "Nl_array = np.zeros([size(m_f),np.int(size(W_h)/size(m_f))])\n",
    "L1_array = np.zeros([size(m_f),np.int(size(W_h)/size(m_f))])\n",
    "pf_array = np.zeros([size(m_f),np.int(size(W_h)/size(m_f))])\n",
    "\n",
    "W_array_H = np.zeros([size(m_f),np.int(size(W_h)/size(m_f))])\n",
    "Ec_array_H = np.zeros([size(m_f),np.int(size(W_h)/size(m_f))])\n",
    "Eh_array_H = np.zeros([size(m_f),np.int(size(W_h)/size(m_f))])\n",
    "\n",
    "W_p_h_array = np.zeros([size(m_f),np.int(size(W_h)/size(m_f))])\n",
    "W_p_c_array = np.zeros([size(m_f),np.int(size(W_l)/size(m_f))])\n",
    "\n",
    "Nr_array = np.zeros([size(m_f),np.int(size(W_h)/size(m_f))])\n",
    "Nl_array = np.zeros([size(m_f),np.int(size(W_h)/size(m_f))])\n",
    "L1_array = np.zeros([size(m_f),np.int(size(W_h)/size(m_f))])\n",
    "pf_array = np.zeros([size(m_f),np.int(size(W_h)/size(m_f))])\n",
    "CFM_array = np.zeros([size(m_f),np.int(size(W_h)/size(m_f))])\n",
    "erro_array = np.zeros([size(m_f),np.int(size(W_h)/size(m_f))])"
   ]
  },
  {
   "cell_type": "code",
   "execution_count": null,
   "metadata": {
    "scrolled": true
   },
   "outputs": [],
   "source": [
    "w=0\n",
    "\n",
    "for p in range(size(m_f)):\n",
    "    for i in range(size(Xl)):\n",
    "        for j in range(size(Xt)):\n",
    "            for k in range(size(N_r)):\n",
    "                for l in range(size(N_l)):\n",
    "                    for m in range(size(L1)):\n",
    "                        for n in range(size(pf)):\n",
    "                            for o in range(size(xf)):\n",
    "                                for q in range(size(sigmaf)):\n",
    "                                    W_array_L[p][w-p*np.int(size(W_l)/size(m_f))] = W_l[p][i][j][k][l][m][n][o][q]\n",
    "                                    Ec_array_L[p][w-p*np.int(size(W_l)/size(m_f))] = ECr_c_l[p][i][j][k][l][m][n][o][q]\n",
    "                                    Eh_array_L[p][w-p*np.int(size(W_l)/size(m_f))] = ECr_h_l[p][i][j][k][l][m][n][o][q]\n",
    "                                    E_array_h[p][w-p*np.int(size(W_l)/size(m_f))] = E_c[p][i][j][k][l][m][n][o][q]\n",
    "                                    E_array_c[p][w-p*np.int(size(W_l)/size(m_f))] = E_h[p][i][j][k][l][m][n][o][q]\n",
    "                                    dP_o_array_L[p][w-p*np.int(size(W_h)/size(m_f))] = dP_o[p][i][j][k][l][m][n][o][q]\n",
    "                                    \n",
    "                                    Nr_array[p][w-p*np.int(size(W_h)/size(m_f))] = Nr[p][i][j][k][l][m][n][o][q]\n",
    "                                    Nl_array[p][w-p*np.int(size(W_h)/size(m_f))] = Nl[p][i][j][k][l][m][n][o][q]\n",
    "                                    L1_array[p][w-p*np.int(size(W_h)/size(m_f))] = L_1[p][i][j][k][l][m][n][o][q]\n",
    "                                    pf_array[p][w-p*np.int(size(W_h)/size(m_f))] = p_f[p][i][j][k][l][m][n][o][q]\n",
    "                                    \n",
    "                                    W_p_h_array[p][w-p*np.int(size(W_h)/size(m_f))] = W_p_h[p][i][j][k][l][m][n][o][q]\n",
    "                                    W_p_c_array[p][w-p*np.int(size(W_l)/size(m_f))] = W_p_c[p][i][j][k][l][m][n][o][q]\n",
    "                                    CFM_array[p][w-p*np.int(size(W_l)/size(m_f))] = CFM[p][i][j][k][l][m][n][o][q]\n",
    "                                    erro_array[p][w-p*np.int(size(W_l)/size(m_f))] = erro_dp[p][i][j][k][l][m][n][o][q]\n",
    "                                    \n",
    "                                    Nr_array[p][w-p*np.int(size(W_h)/size(m_f))] = N_r[k]\n",
    "                                    # Nl_array[p][w-p*np.int(size(W_h)/size(m_f))] = N_l[l]\n",
    "                                    L1_array[p][w-p*np.int(size(W_h)/size(m_f))] = L1[m]\n",
    "                                    pf_array[p][w-p*np.int(size(W_h)/size(m_f))] = pf[n]\n",
    "\n",
    "                    \n",
    "                                    w = w+1\n",
    "                                    #print(p,i,j,k,l,m,n,o,q)"
   ]
  },
  {
   "cell_type": "code",
   "execution_count": null,
   "metadata": {
    "scrolled": true
   },
   "outputs": [],
   "source": []
  },
  {
   "cell_type": "code",
   "execution_count": null,
   "metadata": {
    "scrolled": true
   },
   "outputs": [],
   "source": [
    "for i in range(len(m_f)):\n",
    "    plt.plot(Nucleos*CFM_array[i]*0.00047194745*1.168*1004,'o')"
   ]
  },
  {
   "cell_type": "code",
   "execution_count": null,
   "metadata": {},
   "outputs": [],
   "source": [
    "#plt.plot(erro_array[0],'o')\n",
    "#plt.plot(erro_array[1],'o')\n",
    "#plt.plot(erro_array[2],'o')\n",
    "#plt.plot(erro_array[3],'o')\n",
    "#plt.plot(erro_array[4],'o')"
   ]
  },
  {
   "cell_type": "code",
   "execution_count": null,
   "metadata": {
    "scrolled": true
   },
   "outputs": [],
   "source": [
    "for i in range(len(m_f)):\n",
    "    plt.plot(CFM_array[i],'o')\n",
    "plt.ylim(0,1500)"
   ]
  },
  {
   "cell_type": "code",
   "execution_count": null,
   "metadata": {},
   "outputs": [],
   "source": [
    "len(E_array_c[i]*Nucleos*CFM_array[i]*0.00047194745*1.168*1004)"
   ]
  },
  {
   "cell_type": "markdown",
   "metadata": {
    "scrolled": true
   },
   "source": [
    "for i in range(size(m_f)):\n",
    "    plt.plot(np.array(W_t_L[i])*Nucleos,E_array_c[i]*Nucleos*CFM_array[i]*0.00047194745*1.168*1004,'.')\n",
    "plt.grid()\n",
    "plt.xlabel('$\\dot{W}_\\mathrm{T}$ [W]')\n",
    "plt.ylabel('$\\epsilon C_\\mathrm{r}$ [-]')\n",
    "#plt.xlim([0,2000])\n",
    "plt.show()"
   ]
  },
  {
   "cell_type": "code",
   "execution_count": null,
   "metadata": {},
   "outputs": [],
   "source": [
    "for i in range(size(m_f)):\n",
    "    plt.plot(CFM_array[i]*Nucleos,Ec_array_L[i],'.')"
   ]
  },
  {
   "cell_type": "code",
   "execution_count": null,
   "metadata": {},
   "outputs": [],
   "source": [
    "len(W_t_L[i]),Nucleos"
   ]
  },
  {
   "cell_type": "code",
   "execution_count": null,
   "metadata": {
    "scrolled": false
   },
   "outputs": [],
   "source": [
    "W_t_L = W_array_L+W_p_h_array/0.9\n",
    "#W_t_H = 2*W_array_H+W_p_h_array/0.9+W_p_c_array/0.9\n",
    "\n",
    "\n",
    "for i in range(size(m_f)):\n",
    "    plt.plot(np.array(W_t_L[i])*Nucleos,Ec_array_L[i],'.') #+ , label = '$\\dot{m}_\\mathrm{f}$ = ' + str(np.round(m_f[i]*3600,0)' [kg/h] - Low Fan')\n",
    "    #plt.plot(W_t_L_2[4],Ec_array_2[4],'.', label = '$\\dot{m}_\\mathrm{f}$ = ' + str(np.round(m_f[i]*3600,0)) + ' [kg/h] - Low Fan')\n",
    "    #plt.plot(W_t_H[i],Ec_array_H[i],'.', label = '$\\dot{m}_\\mathrm{f}$ = ' + str(np.round(m_f[i]*3600,0)) + ' [kg/h] - High Fan')\n",
    "#plt.legend(bbox_to_anchor=(1, 1))\n",
    "#plt.legend()\n",
    "plt.grid()\n",
    "plt.xlabel('$\\dot{W}_\\mathrm{T}$ [W]')\n",
    "plt.ylabel('$\\epsilon C_\\mathrm{r}$ [-]')\n",
    "#plt.xlim([0,2000])\n",
    "plt.show()"
   ]
  },
  {
   "cell_type": "code",
   "execution_count": null,
   "metadata": {},
   "outputs": [],
   "source": [
    "W_t_L = W_array_L+W_p_h_array/0.9\n",
    "\n",
    "#plt.plot(W_p_h_array/W_p_c_array,'o')"
   ]
  },
  {
   "cell_type": "code",
   "execution_count": null,
   "metadata": {},
   "outputs": [],
   "source": [
    "Ec_p_L = [[] for i in range(len(m_f))]\n",
    "W_p_L = [[] for i in range(len(m_f))]\n",
    "W_p_LA = [[] for i in range(len(m_f))]\n",
    "W_p_LW = [[] for i in range(len(m_f))]\n",
    "\n",
    "pf_p = []\n",
    "Nr_p = []\n",
    "Nl_p = []\n",
    "L1_p = []\n",
    "\n",
    "Ec_p_T = []\n",
    "W_p_T =[]\n",
    "W_p_W =[]\n",
    "W_p_A =[]\n",
    "m_f_T = []\n",
    "CFM_p = []\n",
    "\n",
    "for k in range(size(m_f)):\n",
    "    for i in range(len(Ec_array_L[k])):\n",
    "        A = 0\n",
    "        for j in  range(len(Ec_array_L[k])):\n",
    "            if Ec_array_L[k][i] < Ec_array_L[k][j] and W_t_L[k][i] > W_t_L[k][j]:\n",
    "                #print(i,j)\n",
    "                A = 1\n",
    "                #break\n",
    "        if A == 0 :\n",
    "            Ec_p_L[k].append(Ec_array_L[k][i])\n",
    "            W_p_L[k].append(W_t_L[k][i])\n",
    "            W_p_LA[k].append(W_array_L[k][i])\n",
    "            W_p_LW[k].append(W_p_h_array[k][i]/0.9)\n",
    "            \n",
    "            \n",
    "            \n",
    "            if Ec_array_L[k][i]>0.04 and W_t_L[k][i] < 3000 :\n",
    "                Ec_p_T.append(Ec_array_L[k][i])\n",
    "                CFM_p.append(CFM_array[k][i])\n",
    "                W_p_T.append(W_t_L[k][i]*Nucleos)\n",
    "                W_p_W.append(W_p_h_array[k][i]/0.9*Nucleos)\n",
    "                W_p_A.append(W_array_L[k][i]*Nucleos)\n",
    "                m_f_T.append(m_f[k])\n",
    "                pf_p.append(pf_array[k][i])\n",
    "                Nr_p.append(Nr_array[k][i])\n",
    "                Nl_p.append(Nl_array[k][i])\n",
    "                L1_p.append(L1_array[k][i])"
   ]
  },
  {
   "cell_type": "code",
   "execution_count": null,
   "metadata": {},
   "outputs": [],
   "source": []
  },
  {
   "cell_type": "code",
   "execution_count": null,
   "metadata": {},
   "outputs": [],
   "source": [
    "plt.plot(Ec_p_T,np.array(CFM_p)*24/np.array(Nl_p),'o')"
   ]
  },
  {
   "cell_type": "code",
   "execution_count": null,
   "metadata": {
    "scrolled": true
   },
   "outputs": [],
   "source": [
    "import xlsxwriter\n",
    "\n",
    "workbook = xlsxwriter.Workbook('HEx.xlsx')\n",
    "Data = workbook.add_worksheet('Data')\n",
    "#C = workbook.add_worksheet('C')\n",
    "\n",
    "for i in range(len(m_f_T)):\n",
    "    Data.write(i,0,m_f_T[i]*3600) \n",
    "    Data.write(i,1,Ec_p_T[i])\n",
    "    Data.write(i,2,W_p_T[i])\n",
    "    Data.write(i,3,W_p_A[i])\n",
    "    Data.write(i,4,W_p_W[i])\n",
    "    Data.write(i,5,pf_p[i])\n",
    "    Data.write(i,6,Nr_p[i])\n",
    "    Data.write(i,7,Nl_p[i])\n",
    "    Data.write(i,8,L1_p[i])\n",
    "    Data.write(i,9,CFM_p[i]*Nucleos)\n",
    "\n",
    "workbook.close()"
   ]
  },
  {
   "cell_type": "markdown",
   "metadata": {},
   "source": [
    "Ec_p_H = [[] for i in range(len(m_f))]\n",
    "W_p_H = [[] for i in range(len(m_f))]\n",
    "\n",
    "Ec_p_T_H = []\n",
    "W_p_T_H =[]\n",
    "m_f_T_H = []\n",
    "\n",
    "for k in range(size(m_f)):\n",
    "    for i in range(len(Ec_array_H[k])):\n",
    "        A = 0\n",
    "        for j in  range(len(Ec_array_H[k])):\n",
    "            if Ec_array_H[k][i] < Ec_array_H[k][j] and W_t_H[k][i] > W_t_H[k][j]:\n",
    "                #print(i,j)\n",
    "                A = 1\n",
    "                #break\n",
    "        if A == 0 :\n",
    "            Ec_p_H[k].append(Ec_array_H[k][i])\n",
    "            W_p_H[k].append(W_t_H[k][i])\n",
    "            if Ec_array_H[k][i]>0.04 and W_t_H[k][i] < 2000 :\n",
    "                Ec_p_T_H.append(Ec_array_H[k][i])\n",
    "                W_p_T_H.append(W_t_H[k][i])\n",
    "                m_f_T_H.append(m_f[k])"
   ]
  },
  {
   "cell_type": "code",
   "execution_count": null,
   "metadata": {
    "scrolled": false
   },
   "outputs": [],
   "source": [
    "plt.plot(W_t_L[0],Ec_array_L[0],'o')\n",
    "#plt.plot(np.array(W_p_L[1])-np.array(W_p_LW[1]) - np.array(W_p_LA[1]),'.')\n",
    "plt.plot()"
   ]
  },
  {
   "cell_type": "code",
   "execution_count": null,
   "metadata": {
    "scrolled": false
   },
   "outputs": [],
   "source": [
    "#W_t_L = 2*W_array_L+W_p_h_array_L/0.9+W_p_c_array_L/0.9\n",
    "#for i in range(size(m_f)):\n",
    "plt.plot(np.array(W_t_L[0])*Nucleos[0],Ec_array_L[0],'x', label = '$\\dot{m}_\\mathrm{f}$ = ' + str(np.round(m_f[0]*3600,0)) + ' [kg/h]')\n",
    "    #plt.plot(W_p_F[i],Ec_p_F[i],'.', label = '$\\dot{m}_\\mathrm{f}$ = ' + str(np.round(m_f[i]*3600,0)) + ' [kg/h]')\n",
    "plt.legend(bbox_to_anchor=(1, 1))\n",
    "plt.legend()\n",
    "plt.grid()\n",
    "plt.xlabel('$\\dot{W}_\\mathrm{T}$ [W]')\n",
    "plt.ylabel('$\\epsilon C_\\mathrm{r}$ [-]')\n",
    "plt.xlim([0,1000])\n",
    "#plt.show()\n",
    "plt.savefig('ECr_Wt.png',format = 'png', dpi=500,bbox_inches='tight')"
   ]
  },
  {
   "cell_type": "code",
   "execution_count": null,
   "metadata": {
    "scrolled": true
   },
   "outputs": [],
   "source": [
    "plt.plot(np.array(W_p_L[i])*Nucleos,Ec_p_L[i])"
   ]
  },
  {
   "cell_type": "code",
   "execution_count": null,
   "metadata": {
    "scrolled": false
   },
   "outputs": [],
   "source": [
    "for i in range(size(m_f)):\n",
    "    plt.plot(np.array(W_p_L[i])*Nucleos,Ec_p_L[i],'.') #, label = 'N$_\\mathrm{circ}$ = ' + str(np.round(Nucleos[i]))\n",
    "    #plt.plot(np.array(W_p_L[i])*Nucleos,np.array(W_p_W)*Nucleos,'.')\n",
    "    #plt.plot(np.array(W_p_L[0])*Nucleos,Ec_p_L[0],'.', label = '$\\dot{m}_\\mathrm{f}$ = ' + str(np.round(m_f[0]*3600,0)) + ' [kg/h]')\n",
    "    #plt.plot(np.array(W_p_L[74])*Nucleos,Ec_p_L[74],'.', label = '$\\dot{m}_\\mathrm{f}$ = ' + str(np.round(m_f[74]*3600,0)) + ' [kg/h]')\n",
    "\n",
    "#plt.plot(W_p_H[i],Ec_p_H[i],'.', label = '$\\dot{m}_\\mathrm{f}$ = ' + str(np.round(m_f[i]*3600,0)) + ' [kg/h] - High')\n",
    "#plt.legend(bbox_to_anchor=(1, 1))\n",
    "#plt.legend()\n",
    "plt.grid()\n",
    "plt.xlabel('$\\dot{W}_\\mathrm{T}$ [W]')\n",
    "plt.ylabel('$\\epsilon C_\\mathrm{r}$ [-]')\n",
    "#plt.xlim([0,200])\n",
    "#plt.ylim(0.025,0.2)\n",
    "#plt.show()\n",
    "plt.savefig('ECr_Wt_Pareto_Multi_C.png',format = 'png', dpi=500,bbox_inches='tight')"
   ]
  },
  {
   "cell_type": "code",
   "execution_count": null,
   "metadata": {},
   "outputs": [],
   "source": [
    "plt.plot(Nucleos[0]*np.array(W_p_L[0]),Ec_p_L[0],'.', label = '$\\dot{m}_\\mathrm{f}$ = ' + str(np.round(m_f[0]*3600,0)) + ' [kg/h] - Low')\n",
    "plt.plot(Nucleos[1]*np.array(W_p_L[1]),Ec_p_L[1],'.', label = '$\\dot{m}_\\mathrm{f}$ = ' + str(np.round(m_f[1]*3600,0)) + ' [kg/h] - Low')\n",
    "plt.plot(Nucleos[2]*np.array(W_p_L[2]),Ec_p_L[2],'.', label = '$\\dot{m}_\\mathrm{f}$ = ' + str(np.round(m_f[2]*3600,0)) + ' [kg/h] - Low')\n",
    "plt.plot(Nucleos[3]*np.array(W_p_L[3]),Ec_p_L[3],'.', label = '$\\dot{m}_\\mathrm{f}$ = ' + str(np.round(m_f[3]*3600,0)) + ' [kg/h] - Low')\n",
    "plt.legend(bbox_to_anchor=(1, 1))\n",
    "plt.legend()\n",
    "plt.grid()\n",
    "plt.xlabel('$\\dot{W}_\\mathrm{T}$ [W]')\n",
    "plt.ylabel('$\\epsilon C_\\mathrm{r}$ [-]')\n",
    "plt.xlim([50,500])\n",
    "#plt.show()\n",
    "plt.savefig('ECr_Wt_Pareto.png',format = 'png', dpi=500,bbox_inches='tight')"
   ]
  },
  {
   "cell_type": "code",
   "execution_count": null,
   "metadata": {},
   "outputs": [],
   "source": [
    "def Paretto_HEx(X,a,b,c,d,e,f):\n",
    "    P1,P2= X\n",
    "    return (a*P1**b*P2**c+d*P1**1 + f*P2**1)  "
   ]
  },
  {
   "cell_type": "code",
   "execution_count": null,
   "metadata": {
    "scrolled": false
   },
   "outputs": [],
   "source": [
    "Paret_Hex = curve_fit(Paretto_HEx,(m_f_T,W_p_T),Ec_p_T,maxfev=1000000)\n",
    "Paret_Hex"
   ]
  },
  {
   "cell_type": "code",
   "execution_count": null,
   "metadata": {},
   "outputs": [],
   "source": [
    "plt.plot(W_p_T,Ec_p_T,'o',label = 'Numerical')\n",
    "plt.plot(np.array(W_p_W) +np.array(W_p_A) ,Ec_p_T,'o',label = 'Numerical')"
   ]
  },
  {
   "cell_type": "code",
   "execution_count": null,
   "metadata": {
    "scrolled": false
   },
   "outputs": [],
   "source": [
    "plt.plot(W_p_T,Ec_p_T,'o',label = 'Numerical')\n",
    "#plt.plot(W_p_T_H,Ec_p_T_H,'o')\n",
    "plt.plot(W_p_T,Paretto_HEx((np.array(m_f_T),np.array(W_p_T)),Paret_Hex[0][0],Paret_Hex[0][1],Paret_Hex[0][2],Paret_Hex[0][3],Paret_Hex[0][4],Paret_Hex[0][5]),'x',label = 'Fitting')\n",
    "#plt.savefig('ECr_Wt_Pareto.png',format = 'png', dpi=500,bbox_inches='tight')\n",
    "plt.legend()\n",
    "plt.grid()\n",
    "plt.xlabel('$\\dot{W}_\\mathrm{T}$ [W]')\n",
    "plt.ylabel('$\\epsilon C_\\mathrm{r}$ [-]')\n",
    "plt.savefig('Fitting.png',format = 'png', dpi=500,bbox_inches='tight')"
   ]
  },
  {
   "cell_type": "code",
   "execution_count": null,
   "metadata": {},
   "outputs": [],
   "source": []
  },
  {
   "cell_type": "code",
   "execution_count": null,
   "metadata": {},
   "outputs": [],
   "source": [
    "Erro_HEx = abs(Ec_p_T - Paretto_HEx((np.array(m_f_T),np.array(W_p_T)),Paret_Hex[0][0],Paret_Hex[0][1],Paret_Hex[0][2],Paret_Hex[0][3],Paret_Hex[0][4],Paret_Hex[0][5]))/Ec_p_T*100\n",
    "plt.plot(W_p_T,Erro_HEx,'x')"
   ]
  },
  {
   "cell_type": "code",
   "execution_count": null,
   "metadata": {},
   "outputs": [],
   "source": [
    "len(2600/(np.array(Ec_p_L[i])*m_f[i]*4000)*m_f[i]),len(Ec_p_L[i])"
   ]
  },
  {
   "cell_type": "code",
   "execution_count": null,
   "metadata": {},
   "outputs": [],
   "source": [
    "W_t_L_c = W_array_L+W_p_c_array/0.9\n",
    "W_t_H_h = W_array_H+W_p_h_array/0.9"
   ]
  },
  {
   "cell_type": "code",
   "execution_count": null,
   "metadata": {},
   "outputs": [],
   "source": [
    "dT_L = [[] for i in range(len(m_f))]\n",
    "dT_H = [[] for i in range(len(m_f))]\n",
    "\n",
    "Qc = 2650\n",
    "#Qc = 0\n",
    "#Qh = 1.5*2650\n",
    "Qh = 0\n",
    "for i in range(len(m_f)):\n",
    "    dT_L[i].append((Qc+Qh)/(np.array(Ec_p_L[i])*m_f[i]*4000))\n",
    "    dT_H[i].append((Qc+Qh)/(np.array(Ec_p_H[i])*m_f[i]*4000))"
   ]
  },
  {
   "cell_type": "code",
   "execution_count": null,
   "metadata": {
    "scrolled": true
   },
   "outputs": [],
   "source": [
    "for i in range(len(m_f)):\n",
    "    plt.plot(Ec_p_L[i],dT_L[i][0],'o')\n",
    "    #plt.plot(W_p_H[i],dT_H[i][0],'o')\n",
    "plt.grid()\n",
    "#plt.xlim([0,1000])"
   ]
  },
  {
   "cell_type": "code",
   "execution_count": null,
   "metadata": {
    "scrolled": true
   },
   "outputs": [],
   "source": [
    "for i in range(len(m_f)):\n",
    "    #plt.plot(Ec_p_L[i],dT_L[i][0],'o')\n",
    "    plt.plot(np.array(W_p_L[i])/2,17-dT_L[i][0],'o')\n",
    "plt.grid()\n",
    "plt.xlabel('$\\dot{W}_\\mathrm{T}$ [W]')\n",
    "plt.ylabel('$T_\\mathrm{CE}$ [$^o$C]')\n",
    "plt.xlim([0,500])\n",
    "plt.savefig('TCE.png',format = 'png', dpi=500,bbox_inches='tight')"
   ]
  },
  {
   "cell_type": "code",
   "execution_count": null,
   "metadata": {
    "scrolled": true
   },
   "outputs": [],
   "source": [
    "plt.plot(W_p_L[0],dT_L[0][0],'o')\n",
    "plt.plot(W_p_H[0],dT_H[0][0],'o')"
   ]
  },
  {
   "cell_type": "code",
   "execution_count": null,
   "metadata": {},
   "outputs": [],
   "source": [
    "plt.plot(W_array_,Ec_final,'.')\n",
    "plt.plot(W_p_F,Ec_p_F,'x')\n",
    "\n",
    "#plt.plot(W_t_L,Ec_array_L,'.')\n",
    "#plt.plot(W_p_L,Ec_p_L,'x')\n",
    "\n",
    "plt.grid()\n",
    "plt.xlabel('$\\dot{W}_\\mathrm{T}$ [W]')\n",
    "plt.ylabel('$\\epsilon C_\\mathrm{r}$ [-]')\n",
    "plt.show()\n",
    "plt.savefig('Fan_Both_mf_2400.pdf',format = 'pdf', dpi=500,bbox_inches='tight')"
   ]
  },
  {
   "cell_type": "code",
   "execution_count": null,
   "metadata": {},
   "outputs": [],
   "source": [
    "aux = arange(0,600,1)\n",
    "\n",
    "plt.plot(W_p_F,Ec_p_F,'x')\n",
    "plt.plot(aux,(0.14/450)*array(aux)+0.04-14/450)\n",
    "plt.grid()\n",
    "plt.xlabel('$\\dot{W}_\\mathrm{T}$ [W]')\n",
    "plt.ylabel('$\\epsilon C_\\mathrm{r}$ [-]')\n",
    "\n",
    "plt.xlim([80,580])\n",
    "plt.ylim([0.03,0.19])\n",
    "plt.show()\n",
    "#plt.savefig('Fan_Both_mf_2400_Paretto.pdf',format = 'pdf', dpi=500,bbox_inches='tight')"
   ]
  },
  {
   "cell_type": "code",
   "execution_count": null,
   "metadata": {},
   "outputs": [],
   "source": [
    "plt.plot(W_p_c_array/m_f/100,'o',label = 'Hot')\n",
    "plt.plot(W_p_h_array/m_f/100,'o', label = 'Cold')\n",
    "plt.legend()"
   ]
  },
  {
   "cell_type": "code",
   "execution_count": null,
   "metadata": {
    "scrolled": true
   },
   "outputs": [],
   "source": [
    "W = []\n",
    "Ec = []\n",
    "Eh = []\n",
    "Re_dc = []\n",
    "dP = []\n",
    "\n",
    "for i in range(len(N_r)):\n",
    "    A = HEx(Xl,Xt,N_r[i],N_l,L1,Di,De,pf,xf,sigmaf,sigmah,pd,m_f)\n",
    "    W.append(A[0])\n",
    "    Ec.append(A[1])\n",
    "    Eh.append(A[2])\n",
    "    Re_dc.append(A[3])\n",
    "    dP.append(A[4])"
   ]
  },
  {
   "cell_type": "code",
   "execution_count": null,
   "metadata": {},
   "outputs": [],
   "source": [
    "\n",
    "A[0]\n",
    "\n",
    "fan(2250*0.588578,A[0][0],A[0][1],A[0][2])"
   ]
  },
  {
   "cell_type": "code",
   "execution_count": null,
   "metadata": {},
   "outputs": [],
   "source": [
    "aux = fan(VFR,A[0][0],A[0][1],A[0][2])-dP[0]\n",
    "inter = np.abs(aux).argmin()\n"
   ]
  },
  {
   "cell_type": "code",
   "execution_count": null,
   "metadata": {},
   "outputs": [],
   "source": [
    "plt.plot(aux)"
   ]
  },
  {
   "cell_type": "code",
   "execution_count": null,
   "metadata": {},
   "outputs": [],
   "source": [
    "dP_v = np.array([37,35,30,22,11,0])\n",
    "V  = np.array([1000,1250,1500,1750,2000,2250])*0.588578\n",
    "A = curve_fit(fan,V,dP_v,maxfev=10000)\n",
    "VFR = np.arange(10,1500,1)\n",
    "plt.plot(VFR,fan(VFR,A[0][0],A[0][1],A[0][2]))\n",
    "plt.plot(VFR,dP[0])\n",
    "plt.ylim([8,10])\n",
    "plt.grid()\n",
    "plt.plot()"
   ]
  },
  {
   "cell_type": "markdown",
   "metadata": {},
   "source": [
    "https://www.ebmpapst.com/en/products/axial-fans/axialfansdetail.php?pID=139216"
   ]
  },
  {
   "cell_type": "code",
   "execution_count": null,
   "metadata": {
    "scrolled": true
   },
   "outputs": [],
   "source": [
    "for i in range(len(N_r)):\n",
    "    plt.plot(VFR,dP[i],label = str(round(N_r[i])))\n",
    "plt.plot(V,dP_v)\n",
    "plt.legend()\n",
    "plt.grid()"
   ]
  },
  {
   "cell_type": "code",
   "execution_count": null,
   "metadata": {
    "scrolled": true
   },
   "outputs": [],
   "source": [
    "for i in range(len(N_r)):\n",
    "    plt.plot(VFR,W[i],label = str(round(N_r[i])))\n",
    "    #plt.ylim([0,50])"
   ]
  },
  {
   "cell_type": "code",
   "execution_count": null,
   "metadata": {
    "scrolled": true
   },
   "outputs": [],
   "source": [
    "for i in range(len(N_r)):\n",
    "    plt.plot(W[i],Ec[i],label = r'X$_\\mathrm{l}$ = ' + str(round(N_r[i]*1000,1)) + 'mm')\n",
    "plt.legend()\n",
    "plt.xlabel('$\\dot{W}_\\mathrm{fan}$ [W]')\n",
    "plt.ylabel('$ \\epsilon C_\\mathrm{r}$ [-]')\n",
    "plt.grid()\n",
    "#plt.savefig('X_l.pdf',format = 'pdf', dpi=500,bbox_inches='tight')"
   ]
  },
  {
   "cell_type": "code",
   "execution_count": null,
   "metadata": {},
   "outputs": [],
   "source": [
    "Di = 0.15\n",
    "m_f = 2000/3600\n",
    "A_min_i = np.pi*(0.15**2)/4\n",
    "G_i = m_f/A_min_i\n",
    "\n",
    "mu_wc = 0.001138   #[kg/(m.s)] Viscosity in the cold line (15ºC)\n",
    "mu_wh = 0.0007193 \n",
    "\n",
    "Re_ic = G_i*Di/mu_wc \n",
    "Re_ih = G_i*Di/mu_wh \n",
    "Re_ic,Re_ih"
   ]
  },
  {
   "cell_type": "markdown",
   "metadata": {},
   "source": [
    "Constant inputs"
   ]
  },
  {
   "cell_type": "code",
   "execution_count": 442,
   "metadata": {},
   "outputs": [],
   "source": [
    "##Properties of the solid \n",
    "\n",
    "rho_s = 7900  #[kg/m3] Density of the solid\n",
    "k_s   = 8 #[W/(m2.K)] #Thermal conductivity of the solid\n",
    "\n",
    "## Propertis of the fluid\n",
    "\n",
    "rho_f = 1000  #[kg/m3] Density of the fluid\n",
    "c_f   = 4181  #[kJ/(kg.K)] # Specific heat of the fluid\n",
    "Pr_f  = 6.136 #[-] Prandtl of the fluid\n",
    "mu_f  = 0.00061 #0.0008901 #[kg/m-2] #Viscosity of the fluid\n",
    "k_f   = 0.6065  #[W/(m2.K)] #Thermal conductivity of the fluid\n",
    "\n",
    "## Porous medium\n",
    "d_p = 500*10**(-6) #[m] Particle diameter\n",
    "#Epsilon = 0.55  #[-] Porosity\n",
    "Epsilon_dp = 0.465"
   ]
  },
  {
   "cell_type": "markdown",
   "metadata": {},
   "source": [
    "Properties Calculation"
   ]
  },
  {
   "cell_type": "code",
   "execution_count": 443,
   "metadata": {},
   "outputs": [],
   "source": [
    "Prop = xlrd.open_workbook('La-Fe-Si.xlsx') #Import Properties File\n",
    "SpecHeat = Prop.sheet_by_name('C') # #Import Specific Heat\n",
    "dTad = Prop.sheet_by_name('dT') #Import Adiabatic Temperature Change\n",
    "\n",
    "T_exp = dTad.col_values(0) #Import experimented temperatures \n",
    "B_exp = dTad.col_values(1) #Import experimented magnetic fields\n",
    "\n",
    "T_arg = arange(min(T_exp),max(T_exp)+0.01,0.1)\n",
    "\n",
    "K = len(dTad.col_values(0)) #Import data number\n",
    "\n",
    "T_l = arange(278,321,2)#ture of Curie of the multilayer\n",
    "N_ml = len(T_l) #Number of Multilayer Layers\n",
    "\n",
    "\n",
    "\n",
    "dT = zeros([N_ml,K])\n",
    "C = zeros([N_ml,K])\n",
    "for i in range(N_ml):\n",
    "    dT[i,:] = (dTad.col_values(i+2))    #Data of Adiabatic Temperature change\n",
    "    C[i,:] = (SpecHeat.col_values(i+2)) #Data of specific heat"
   ]
  },
  {
   "cell_type": "markdown",
   "metadata": {},
   "source": [
    "Importing AMR simulation inputs"
   ]
  },
  {
   "cell_type": "code",
   "execution_count": 1126,
   "metadata": {
    "scrolled": true
   },
   "outputs": [],
   "source": [
    "Data = xlrd.open_workbook('AMR_Inputs_2.xlsx') #Import inputs File\n",
    "Inputs = Data.sheet_by_name('Data_new') \n",
    "\n",
    "L   = array(Inputs.col_values(0)) #Import AMR Length [mm]\n",
    "H   = array(Inputs.col_values(1)) #Import AMR Height [mm]\n",
    "W   = array(Inputs.col_values(2)) #Import AMR Width [mm]\n",
    "T_c = array(Inputs.col_values(3))+273 #Import temperature span [K]\n",
    "T_h = array(Inputs.col_values(4))+273 #Import temperature span [K]\n",
    "B   = array(Inputs.col_values(5)) #Import magnetic field [T]\n",
    "f   = array(Inputs.col_values(6)) #Import frequency [Hz]\n",
    "m_f = array(Inputs.col_values(7))/3600 #Import mass flow rate [kg/h]\n",
    "Q_c = array(Inputs.col_values(8)) #Import Cooling capacity [W]\n",
    "Q_h = array(Inputs.col_values(9)) #Import Rejected heat [W]\n",
    "W_p = array(Inputs.col_values(10)) #Import Pumping power [W]\n",
    "W_m = array(Inputs.col_values(11)) #Import Magnetic power [W]\n",
    "T_c_ml = array(Inputs.col_values(12))+273 #Import temperature span [K]\n",
    "T_h_ml = array(Inputs.col_values(13))+273 #Import temperature span [K]\n",
    "Epsilon =array(Inputs.col_values(14))\n",
    "Epsilon_dp = Epsilon - 0.09"
   ]
  },
  {
   "cell_type": "code",
   "execution_count": 1127,
   "metadata": {},
   "outputs": [
    {
     "data": {
      "text/plain": [
       "998"
      ]
     },
     "execution_count": 1127,
     "metadata": {},
     "output_type": "execute_result"
    }
   ],
   "source": [
    "len(T_c)"
   ]
  },
  {
   "cell_type": "code",
   "execution_count": 1128,
   "metadata": {},
   "outputs": [
    {
     "data": {
      "text/plain": [
       "168.332"
      ]
     },
     "execution_count": 1128,
     "metadata": {},
     "output_type": "execute_result"
    }
   ],
   "source": [
    "Q_c[822]"
   ]
  },
  {
   "cell_type": "code",
   "execution_count": 1129,
   "metadata": {
    "scrolled": true
   },
   "outputs": [],
   "source": [
    "T_layer = [[] for i in range(len(T_c_ml))]\n",
    "L_layer = [[] for i in range(len(T_c_ml))]\n",
    "for i in range(len(T_c)):\n",
    "    T_layer[i].append(arange(T_c[i]-0.1,T_h[i]-0.1,(T_h[i] - T_c[i])/15))\n",
    "    L_layer[i].append(100/len(T_layer[i][0])*ones(len(T_layer[i][0])))"
   ]
  },
  {
   "cell_type": "markdown",
   "metadata": {},
   "source": [
    "Calculation"
   ]
  },
  {
   "cell_type": "code",
   "execution_count": 1130,
   "metadata": {},
   "outputs": [
    {
     "data": {
      "text/plain": [
       "[<matplotlib.lines.Line2D at 0x223a9c7acc0>]"
      ]
     },
     "execution_count": 1130,
     "metadata": {},
     "output_type": "execute_result"
    },
    {
     "data": {
      "image/png": "[encoded data removed]",
      "text/plain": [
       "<Figure size 432x288 with 1 Axes>"
      ]
     },
     "metadata": {
      "needs_background": "light"
     },
     "output_type": "display_data"
    }
   ],
   "source": [
    "plt.plot(W)"
   ]
  },
  {
   "cell_type": "code",
   "execution_count": null,
   "metadata": {},
   "outputs": [],
   "source": []
  },
  {
   "cell_type": "code",
   "execution_count": 1131,
   "metadata": {},
   "outputs": [],
   "source": [
    "#Porous medium\n",
    "m_s   = L*W*H*10**-9*(1-Epsilon)*rho_s #mass of the AMR\n",
    "Beta = (1-Epsilon)*6/d_p\n",
    "v_s   = (m_f)/(rho_f*W*H*10**-6) #Superficial velocity\n",
    "\n",
    "#Dimensionless Numbers\n",
    "Re_dp = d_p*v_s*rho_f/(mu_f) #Reynolds number\n",
    "Nu = 2*(1+4*(1-Epsilon_dp)/Epsilon_dp)+((1-Epsilon_dp)**0.5)*Re_dp**0.6*Pr_f**(1/3) # Nusselt number\n",
    "Pe = Re_dp*Pr_f\n",
    "\n",
    "h_int = Nu*k_f/d_p\n",
    "\n",
    "#Effective conduction\n",
    "k_e_f = k_f*Epsilon #Fluid effective conduction\n",
    "\n",
    "\n",
    "a_0 = exp(-1.084-6.778*(Epsilon-0.298))\n",
    "f_0 = 0.8\n",
    "k_e_s = k_f*((1-a_0)*(Epsilon*f_0+(1-Epsilon*f_0)*k_s/k_f)/(1-Epsilon*(1-f_0)+k_s/k_f*Epsilon*(1-f_0))+a_0*(2*((k_s/k_f)**2)*(1-Epsilon)+(1+2*Epsilon)*k_s/k_f)/((2+Epsilon)*k_s/k_f+(1-Epsilon))) #Solid effective conduction\n",
    "\n",
    "D_ = (k_f*rho_f/c_f)*0.75*Pe/2\n",
    "\n",
    "k_s_eff = k_e_s\n",
    "k_f_eff = k_e_f + rho_f*c_f*D_"
   ]
  },
  {
   "cell_type": "code",
   "execution_count": 1132,
   "metadata": {},
   "outputs": [
    {
     "data": {
      "text/plain": [
       "(42808.979413562476, 0.00061, 99.37771906847914, 44.0, 44.0)"
      ]
     },
     "execution_count": 1132,
     "metadata": {},
     "output_type": "execute_result"
    }
   ],
   "source": [
    "h_int[377],mu_f,Re_dp[317],H[317],W[317]"
   ]
  },
  {
   "cell_type": "code",
   "execution_count": 1133,
   "metadata": {},
   "outputs": [
    {
     "data": {
      "text/plain": [
       "(44082.819511480084, 36.34197816280303, 0.0961317722681359, 78.79653464601304)"
      ]
     },
     "execution_count": 1133,
     "metadata": {},
     "output_type": "execute_result"
    }
   ],
   "source": [
    "h_int[215],Nu[215],v_s[215],Re_dp[215]"
   ]
  },
  {
   "cell_type": "code",
   "execution_count": 1134,
   "metadata": {},
   "outputs": [],
   "source": [
    "C_H = zeros(len(L))\n",
    "C_L = zeros(len(L))\n",
    "dT_mg = zeros(len(L))\n",
    "dT_dmg = zeros(len(L))\n",
    "CdT_mg = zeros(len(L))\n",
    "CdT_dmg = zeros(len(L))"
   ]
  },
  {
   "cell_type": "markdown",
   "metadata": {
    "scrolled": true
   },
   "source": [
    "for i in range(len(L)):\n",
    "    print(i)\n",
    "    C_H[i],C_L[i],dT_mg[i],dT_dmg[i],CdT_mg[i],CdT_dmg[i] = Metrics (SpecHeat,dTad,0,B[i],T_arg,N_ml,T_h[i],T_c[i],T_l,T_layer[i][0],L_layer[i][0])"
   ]
  },
  {
   "cell_type": "markdown",
   "metadata": {},
   "source": [
    "Porous Medium Eff"
   ]
  },
  {
   "cell_type": "code",
   "execution_count": 1135,
   "metadata": {},
   "outputs": [],
   "source": [
    "def Prop_param(X):\n",
    "    T_c,T_h,B = X\n",
    "    C_H = 1.65161038/100*T_c+2.59946197*T_h-1.14324309*100*B\n",
    "    C_L = 10.16443738*T_c-5.32568341*T_h-0.71305997*B\n",
    "    dT_mg = -0.01057708*T_c+0.01163704*T_h+1.73509682*B\n",
    "    dT_dmg = -0.01229483*T_c+0.01376157*T_h+0.76454655*B\n",
    "    CdT_mg = -9.517569*T_c+11.49711993*T_h+820.04168503*B\n",
    "    CdT_dmg = 4.39480124*T_c-7.07931118/10*T_h+9.15928168*100*B\n",
    "    return(C_H,C_L,dT_mg,dT_dmg,CdT_mg,CdT_dmg)"
   ]
  },
  {
   "cell_type": "code",
   "execution_count": 1136,
   "metadata": {
    "scrolled": true
   },
   "outputs": [
    {
     "name": "stdout",
     "output_type": "stream",
     "text": [
      "0\n",
      "1\n",
      "2\n",
      "3\n",
      "4\n",
      "5\n",
      "6\n",
      "7\n",
      "8\n",
      "9\n",
      "10\n",
      "11\n",
      "12\n",
      "13\n",
      "14\n",
      "15\n",
      "16\n",
      "17\n",
      "18\n",
      "19\n",
      "20\n",
      "21\n",
      "22\n",
      "23\n",
      "24\n",
      "25\n",
      "26\n",
      "27\n",
      "28\n",
      "29\n",
      "30\n",
      "31\n",
      "32\n",
      "33\n",
      "34\n",
      "35\n",
      "36\n",
      "37\n",
      "38\n",
      "39\n",
      "40\n",
      "41\n",
      "42\n",
      "43\n",
      "44\n",
      "45\n",
      "46\n",
      "47\n",
      "48\n",
      "49\n",
      "50\n",
      "51\n",
      "52\n",
      "53\n",
      "54\n",
      "55\n",
      "56\n",
      "57\n",
      "58\n",
      "59\n",
      "60\n",
      "61\n",
      "62\n",
      "63\n",
      "64\n",
      "65\n",
      "66\n",
      "67\n",
      "68\n",
      "69\n",
      "70\n",
      "71\n",
      "72\n",
      "73\n",
      "74\n",
      "75\n",
      "76\n",
      "77\n",
      "78\n",
      "79\n",
      "80\n",
      "81\n",
      "82\n",
      "83\n",
      "84\n",
      "85\n",
      "86\n",
      "87\n",
      "88\n",
      "89\n",
      "90\n",
      "91\n",
      "92\n",
      "93\n",
      "94\n",
      "95\n",
      "96\n",
      "97\n",
      "98\n",
      "99\n",
      "100\n",
      "101\n",
      "102\n",
      "103\n",
      "104\n",
      "105\n",
      "106\n",
      "107\n",
      "108\n",
      "109\n",
      "110\n",
      "111\n",
      "112\n",
      "113\n",
      "114\n",
      "115\n",
      "116\n",
      "117\n",
      "118\n",
      "119\n",
      "120\n",
      "121\n",
      "122\n",
      "123\n",
      "124\n",
      "125\n",
      "126\n",
      "127\n",
      "128\n",
      "129\n",
      "130\n",
      "131\n",
      "132\n",
      "133\n",
      "134\n",
      "135\n",
      "136\n",
      "137\n",
      "138\n",
      "139\n",
      "140\n",
      "141\n",
      "142\n",
      "143\n",
      "144\n",
      "145\n",
      "146\n",
      "147\n",
      "148\n",
      "149\n",
      "150\n",
      "151\n",
      "152\n",
      "153\n",
      "154\n",
      "155\n",
      "156\n",
      "157\n",
      "158\n",
      "159\n",
      "160\n",
      "161\n",
      "162\n",
      "163\n",
      "164\n",
      "165\n",
      "166\n",
      "167\n",
      "168\n",
      "169\n",
      "170\n",
      "171\n",
      "172\n",
      "173\n",
      "174\n",
      "175\n",
      "176\n",
      "177\n",
      "178\n",
      "179\n",
      "180\n",
      "181\n",
      "182\n",
      "183\n",
      "184\n",
      "185\n",
      "186\n",
      "187\n",
      "188\n",
      "189\n",
      "190\n",
      "191\n",
      "192\n",
      "193\n",
      "194\n",
      "195\n",
      "196\n",
      "197\n",
      "198\n",
      "199\n",
      "200\n",
      "201\n",
      "202\n",
      "203\n",
      "204\n",
      "205\n",
      "206\n",
      "207\n",
      "208\n",
      "209\n",
      "210\n",
      "211\n",
      "212\n",
      "213\n",
      "214\n",
      "215\n",
      "216\n",
      "217\n",
      "218\n",
      "219\n",
      "220\n",
      "221\n",
      "222\n",
      "223\n",
      "224\n",
      "225\n",
      "226\n",
      "227\n",
      "228\n",
      "229\n",
      "230\n",
      "231\n",
      "232\n",
      "233\n",
      "234\n",
      "235\n",
      "236\n",
      "237\n",
      "238\n",
      "239\n",
      "240\n",
      "241\n",
      "242\n",
      "243\n",
      "244\n",
      "245\n",
      "246\n",
      "247\n",
      "248\n",
      "249\n",
      "250\n",
      "251\n",
      "252\n",
      "253\n",
      "254\n",
      "255\n",
      "256\n",
      "257\n",
      "258\n",
      "259\n",
      "260\n",
      "261\n",
      "262\n",
      "263\n",
      "264\n",
      "265\n",
      "266\n",
      "267\n",
      "268\n",
      "269\n",
      "270\n",
      "271\n",
      "272\n",
      "273\n",
      "274\n",
      "275\n",
      "276\n",
      "277\n",
      "278\n",
      "279\n",
      "280\n",
      "281\n",
      "282\n",
      "283\n",
      "284\n",
      "285\n",
      "286\n",
      "287\n",
      "288\n",
      "289\n",
      "290\n",
      "291\n",
      "292\n",
      "293\n",
      "294\n",
      "295\n",
      "296\n",
      "297\n",
      "298\n",
      "299\n",
      "300\n",
      "301\n",
      "302\n",
      "303\n",
      "304\n",
      "305\n",
      "306\n",
      "307\n",
      "308\n",
      "309\n",
      "310\n",
      "311\n",
      "312\n",
      "313\n",
      "314\n",
      "315\n",
      "316\n",
      "317\n",
      "318\n",
      "319\n",
      "320\n",
      "321\n",
      "322\n",
      "323\n",
      "324\n",
      "325\n",
      "326\n",
      "327\n",
      "328\n",
      "329\n",
      "330\n",
      "331\n",
      "332\n",
      "333\n",
      "334\n",
      "335\n",
      "336\n",
      "337\n",
      "338\n",
      "339\n",
      "340\n",
      "341\n",
      "342\n",
      "343\n",
      "344\n",
      "345\n",
      "346\n",
      "347\n",
      "348\n",
      "349\n",
      "350\n",
      "351\n",
      "352\n",
      "353\n",
      "354\n",
      "355\n",
      "356\n",
      "357\n",
      "358\n",
      "359\n",
      "360\n",
      "361\n",
      "362\n",
      "363\n",
      "364\n",
      "365\n",
      "366\n",
      "367\n",
      "368\n",
      "369\n",
      "370\n",
      "371\n",
      "372\n",
      "373\n",
      "374\n",
      "375\n",
      "376\n",
      "377\n",
      "378\n",
      "379\n",
      "380\n",
      "381\n",
      "382\n",
      "383\n",
      "384\n",
      "385\n",
      "386\n",
      "387\n",
      "388\n",
      "389\n",
      "390\n",
      "391\n",
      "392\n",
      "393\n",
      "394\n",
      "395\n",
      "396\n",
      "397\n",
      "398\n",
      "399\n",
      "400\n",
      "401\n",
      "402\n",
      "403\n",
      "404\n",
      "405\n",
      "406\n",
      "407\n",
      "408\n",
      "409\n",
      "410\n",
      "411\n",
      "412\n",
      "413\n",
      "414\n",
      "415\n",
      "416\n",
      "417\n",
      "418\n",
      "419\n",
      "420\n",
      "421\n",
      "422\n",
      "423\n",
      "424\n",
      "425\n",
      "426\n",
      "427\n",
      "428\n",
      "429\n",
      "430\n",
      "431\n",
      "432\n",
      "433\n",
      "434\n",
      "435\n",
      "436\n",
      "437\n",
      "438\n",
      "439\n",
      "440\n",
      "441\n",
      "442\n",
      "443\n",
      "444\n",
      "445\n",
      "446\n",
      "447\n",
      "448\n",
      "449\n",
      "450\n",
      "451\n",
      "452\n",
      "453\n",
      "454\n",
      "455\n",
      "456\n",
      "457\n",
      "458\n",
      "459\n",
      "460\n",
      "461\n",
      "462\n",
      "463\n",
      "464\n",
      "465\n",
      "466\n",
      "467\n",
      "468\n",
      "469\n",
      "470\n",
      "471\n",
      "472\n",
      "473\n",
      "474\n",
      "475\n",
      "476\n",
      "477\n",
      "478\n",
      "479\n",
      "480\n",
      "481\n",
      "482\n",
      "483\n",
      "484\n",
      "485\n",
      "486\n",
      "487\n",
      "488\n",
      "489\n",
      "490\n",
      "491\n",
      "492\n",
      "493\n",
      "494\n",
      "495\n",
      "496\n",
      "497\n",
      "498\n",
      "499\n",
      "500\n",
      "501\n",
      "502\n",
      "503\n",
      "504\n",
      "505\n",
      "506\n",
      "507\n",
      "508\n",
      "509\n",
      "510\n",
      "511\n",
      "512\n",
      "513\n",
      "514\n",
      "515\n",
      "516\n",
      "517\n",
      "518\n",
      "519\n",
      "520\n",
      "521\n",
      "522\n",
      "523\n",
      "524\n",
      "525\n",
      "526\n",
      "527\n",
      "528\n",
      "529\n",
      "530\n",
      "531\n",
      "532\n",
      "533\n",
      "534\n",
      "535\n",
      "536\n",
      "537\n",
      "538\n",
      "539\n",
      "540\n",
      "541\n",
      "542\n",
      "543\n",
      "544\n",
      "545\n",
      "546\n",
      "547\n",
      "548\n",
      "549\n",
      "550\n",
      "551\n",
      "552\n",
      "553\n",
      "554\n",
      "555\n",
      "556\n",
      "557\n",
      "558\n",
      "559\n",
      "560\n",
      "561\n",
      "562\n",
      "563\n",
      "564\n",
      "565\n",
      "566\n",
      "567\n",
      "568\n",
      "569\n",
      "570\n",
      "571\n",
      "572\n",
      "573\n",
      "574\n",
      "575\n",
      "576\n",
      "577\n",
      "578\n",
      "579\n",
      "580\n",
      "581\n",
      "582\n",
      "583\n",
      "584\n",
      "585\n",
      "586\n",
      "587\n",
      "588\n",
      "589\n",
      "590\n",
      "591\n",
      "592\n",
      "593\n",
      "594\n",
      "595\n",
      "596\n",
      "597\n",
      "598\n",
      "599\n",
      "600\n",
      "601\n",
      "602\n",
      "603\n",
      "604\n",
      "605\n",
      "606\n",
      "607\n",
      "608\n",
      "609\n",
      "610\n",
      "611\n",
      "612\n",
      "613\n",
      "614\n",
      "615\n",
      "616\n",
      "617\n",
      "618\n",
      "619\n",
      "620\n",
      "621\n",
      "622\n",
      "623\n",
      "624\n",
      "625\n",
      "626\n",
      "627\n",
      "628\n",
      "629\n",
      "630\n",
      "631\n",
      "632\n",
      "633\n",
      "634\n",
      "635\n",
      "636\n",
      "637\n",
      "638\n",
      "639\n",
      "640\n",
      "641\n",
      "642\n",
      "643\n",
      "644\n",
      "645\n",
      "646\n",
      "647\n",
      "648\n",
      "649\n",
      "650\n",
      "651\n",
      "652\n",
      "653\n",
      "654\n",
      "655\n",
      "656\n",
      "657\n",
      "658\n",
      "659\n",
      "660\n",
      "661\n",
      "662\n",
      "663\n",
      "664\n",
      "665\n",
      "666\n",
      "667\n",
      "668\n",
      "669\n",
      "670\n",
      "671\n",
      "672\n",
      "673\n",
      "674\n",
      "675\n",
      "676\n",
      "677\n",
      "678\n",
      "679\n",
      "680\n",
      "681\n",
      "682\n",
      "683\n",
      "684\n",
      "685\n",
      "686\n",
      "687\n",
      "688\n",
      "689\n",
      "690\n",
      "691\n",
      "692\n",
      "693\n",
      "694\n",
      "695\n",
      "696\n",
      "697\n",
      "698\n",
      "699\n",
      "700\n",
      "701\n",
      "702\n",
      "703\n",
      "704\n",
      "705\n",
      "706\n",
      "707\n",
      "708\n",
      "709\n",
      "710\n",
      "711\n",
      "712\n",
      "713\n",
      "714\n",
      "715\n",
      "716\n",
      "717\n",
      "718\n",
      "719\n",
      "720\n",
      "721\n",
      "722\n",
      "723\n",
      "724\n",
      "725\n",
      "726\n",
      "727\n",
      "728\n",
      "729\n",
      "730\n",
      "731\n",
      "732\n",
      "733\n",
      "734\n",
      "735\n",
      "736\n",
      "737\n",
      "738\n",
      "739\n",
      "740\n",
      "741\n",
      "742\n",
      "743\n",
      "744\n",
      "745\n",
      "746\n",
      "747\n",
      "748\n",
      "749\n",
      "750\n",
      "751\n",
      "752\n",
      "753\n",
      "754\n",
      "755\n",
      "756\n",
      "757\n",
      "758\n",
      "759\n",
      "760\n",
      "761\n",
      "762\n",
      "763\n",
      "764\n",
      "765\n",
      "766\n",
      "767\n",
      "768\n",
      "769\n",
      "770\n",
      "771\n",
      "772\n",
      "773\n",
      "774\n",
      "775\n",
      "776\n",
      "777\n",
      "778\n",
      "779\n",
      "780\n",
      "781\n",
      "782\n",
      "783\n",
      "784\n",
      "785\n",
      "786\n",
      "787\n",
      "788\n",
      "789\n",
      "790\n",
      "791\n",
      "792\n",
      "793\n",
      "794\n",
      "795\n",
      "796\n",
      "797\n",
      "798\n",
      "799\n",
      "800\n",
      "801\n",
      "802\n",
      "803\n",
      "804\n",
      "805\n",
      "806\n",
      "807\n",
      "808\n",
      "809\n",
      "810\n",
      "811\n",
      "812\n",
      "813\n",
      "814\n",
      "815\n",
      "816\n",
      "817\n",
      "818\n",
      "819\n",
      "820\n",
      "821\n",
      "822\n",
      "823\n",
      "824\n",
      "825\n",
      "826\n",
      "827\n",
      "828\n",
      "829\n",
      "830\n",
      "831\n",
      "832\n",
      "833\n",
      "834\n",
      "835\n",
      "836\n",
      "837\n",
      "838\n",
      "839\n",
      "840\n",
      "841\n",
      "842\n",
      "843\n",
      "844\n",
      "845\n",
      "846\n",
      "847\n",
      "848\n",
      "849\n",
      "850\n",
      "851\n",
      "852\n",
      "853\n",
      "854\n",
      "855\n",
      "856\n",
      "857\n",
      "858\n",
      "859\n",
      "860\n",
      "861\n",
      "862\n",
      "863\n",
      "864\n",
      "865\n",
      "866\n",
      "867\n",
      "868\n",
      "869\n",
      "870\n",
      "871\n",
      "872\n",
      "873\n",
      "874\n",
      "875\n",
      "876\n",
      "877\n",
      "878\n",
      "879\n",
      "880\n",
      "881\n",
      "882\n",
      "883\n",
      "884\n",
      "885\n",
      "886\n",
      "887\n",
      "888\n",
      "889\n",
      "890\n",
      "891\n",
      "892\n",
      "893\n",
      "894\n",
      "895\n",
      "896\n",
      "897\n",
      "898\n",
      "899\n",
      "900\n",
      "901\n",
      "902\n",
      "903\n",
      "904\n",
      "905\n",
      "906\n",
      "907\n",
      "908\n",
      "909\n",
      "910\n",
      "911\n",
      "912\n",
      "913\n",
      "914\n",
      "915\n",
      "916\n",
      "917\n",
      "918\n",
      "919\n",
      "920\n",
      "921\n",
      "922\n",
      "923\n",
      "924\n",
      "925\n",
      "926\n",
      "927\n",
      "928\n",
      "929\n",
      "930\n",
      "931\n",
      "932\n",
      "933\n",
      "934\n",
      "935\n",
      "936\n",
      "937\n",
      "938\n",
      "939\n",
      "940\n",
      "941\n",
      "942\n",
      "943\n",
      "944\n",
      "945\n",
      "946\n",
      "947\n",
      "948\n",
      "949\n",
      "950\n",
      "951\n",
      "952\n",
      "953\n",
      "954\n",
      "955\n",
      "956\n",
      "957\n",
      "958\n",
      "959\n",
      "960\n",
      "961\n",
      "962\n",
      "963\n",
      "964\n",
      "965\n",
      "966\n",
      "967\n",
      "968\n",
      "969\n",
      "970\n",
      "971\n",
      "972\n",
      "973\n",
      "974\n",
      "975\n",
      "976\n",
      "977\n",
      "978\n",
      "979\n",
      "980\n",
      "981\n",
      "982\n",
      "983\n",
      "984\n",
      "985\n",
      "986\n",
      "987\n",
      "988\n",
      "989\n",
      "990\n",
      "991\n",
      "992\n",
      "993\n",
      "994\n",
      "995\n",
      "996\n",
      "997\n"
     ]
    }
   ],
   "source": [
    "for i in range(len(L)):\n",
    "    print(i)\n",
    "    C_H[i],C_L[i],dT_mg[i],dT_dmg[i],CdT_mg[i],CdT_dmg[i] = Prop_param((T_c[i],T_h[i],B[i]))"
   ]
  },
  {
   "cell_type": "code",
   "execution_count": 1137,
   "metadata": {
    "scrolled": true
   },
   "outputs": [
    {
     "data": {
      "text/plain": [
       "(679.8349887906002,\n",
       " 1233.3648537384001,\n",
       " 2.8626066096,\n",
       " 1.7986594940000002,\n",
       " 1951.2009517184,\n",
       " 2209.9897776319995)"
      ]
     },
     "execution_count": 1137,
     "metadata": {},
     "output_type": "execute_result"
    }
   ],
   "source": [
    "C_H[215],C_L[215],dT_mg[215],dT_dmg[215],CdT_mg[215],CdT_dmg[215]"
   ]
  },
  {
   "cell_type": "code",
   "execution_count": 1138,
   "metadata": {},
   "outputs": [
    {
     "data": {
      "text/plain": [
       "[<matplotlib.lines.Line2D at 0x223a93862b0>]"
      ]
     },
     "execution_count": 1138,
     "metadata": {},
     "output_type": "execute_result"
    },
    {
     "data": {
      "image/png": "[encoded data removed]",
      "text/plain": [
       "<Figure size 432x288 with 1 Axes>"
      ]
     },
     "metadata": {
      "needs_background": "light"
     },
     "output_type": "display_data"
    }
   ],
   "source": [
    "plt.plot(B,C_L,'o')"
   ]
  },
  {
   "cell_type": "code",
   "execution_count": 1139,
   "metadata": {},
   "outputs": [],
   "source": [
    "def Prop(X,a,b,c): \n",
    "    P1,P2,P3= X\n",
    "    return (a*P1+b*P2+c*P3)"
   ]
  },
  {
   "cell_type": "code",
   "execution_count": 1140,
   "metadata": {},
   "outputs": [],
   "source": [
    "Pp = CdT_mg[0:192]"
   ]
  },
  {
   "cell_type": "code",
   "execution_count": 1141,
   "metadata": {},
   "outputs": [
    {
     "ename": "ValueError",
     "evalue": "operands could not be broadcast together with shapes (998,) (192,) ",
     "output_type": "error",
     "traceback": [
      "\u001b[1;31m---------------------------------------------------------------------------\u001b[0m",
      "\u001b[1;31mValueError\u001b[0m                                Traceback (most recent call last)",
      "\u001b[1;32m<ipython-input-1141-24f6ce09f4e9>\u001b[0m in \u001b[0;36m<module>\u001b[1;34m\u001b[0m\n\u001b[1;32m----> 1\u001b[1;33m \u001b[0mCoef_Ch\u001b[0m \u001b[1;33m=\u001b[0m \u001b[0mcurve_fit\u001b[0m\u001b[1;33m(\u001b[0m\u001b[0mProp\u001b[0m\u001b[1;33m,\u001b[0m\u001b[1;33m(\u001b[0m\u001b[0mT_c\u001b[0m\u001b[1;33m,\u001b[0m\u001b[0mT_h\u001b[0m\u001b[1;33m,\u001b[0m\u001b[0mB\u001b[0m\u001b[1;33m)\u001b[0m\u001b[1;33m,\u001b[0m\u001b[0mPp\u001b[0m\u001b[1;33m,\u001b[0m\u001b[0mmaxfev\u001b[0m\u001b[1;33m=\u001b[0m\u001b[1;36m10000\u001b[0m\u001b[1;33m)\u001b[0m\u001b[1;33m\u001b[0m\u001b[1;33m\u001b[0m\u001b[0m\n\u001b[0m\u001b[0;32m      2\u001b[0m \u001b[0mCoef_Ch\u001b[0m\u001b[1;33m\u001b[0m\u001b[1;33m\u001b[0m\u001b[0m\n",
      "\u001b[1;32m~\\Anaconda3\\lib\\site-packages\\scipy\\optimize\\minpack.py\u001b[0m in \u001b[0;36mcurve_fit\u001b[1;34m(f, xdata, ydata, p0, sigma, absolute_sigma, check_finite, bounds, method, jac, **kwargs)\u001b[0m\n\u001b[0;32m    742\u001b[0m         \u001b[1;31m# Remove full_output from kwargs, otherwise we're passing it in twice.\u001b[0m\u001b[1;33m\u001b[0m\u001b[1;33m\u001b[0m\u001b[1;33m\u001b[0m\u001b[0m\n\u001b[0;32m    743\u001b[0m         \u001b[0mreturn_full\u001b[0m \u001b[1;33m=\u001b[0m \u001b[0mkwargs\u001b[0m\u001b[1;33m.\u001b[0m\u001b[0mpop\u001b[0m\u001b[1;33m(\u001b[0m\u001b[1;34m'full_output'\u001b[0m\u001b[1;33m,\u001b[0m \u001b[1;32mFalse\u001b[0m\u001b[1;33m)\u001b[0m\u001b[1;33m\u001b[0m\u001b[1;33m\u001b[0m\u001b[0m\n\u001b[1;32m--> 744\u001b[1;33m         \u001b[0mres\u001b[0m \u001b[1;33m=\u001b[0m \u001b[0mleastsq\u001b[0m\u001b[1;33m(\u001b[0m\u001b[0mfunc\u001b[0m\u001b[1;33m,\u001b[0m \u001b[0mp0\u001b[0m\u001b[1;33m,\u001b[0m \u001b[0mDfun\u001b[0m\u001b[1;33m=\u001b[0m\u001b[0mjac\u001b[0m\u001b[1;33m,\u001b[0m \u001b[0mfull_output\u001b[0m\u001b[1;33m=\u001b[0m\u001b[1;36m1\u001b[0m\u001b[1;33m,\u001b[0m \u001b[1;33m**\u001b[0m\u001b[0mkwargs\u001b[0m\u001b[1;33m)\u001b[0m\u001b[1;33m\u001b[0m\u001b[1;33m\u001b[0m\u001b[0m\n\u001b[0m\u001b[0;32m    745\u001b[0m         \u001b[0mpopt\u001b[0m\u001b[1;33m,\u001b[0m \u001b[0mpcov\u001b[0m\u001b[1;33m,\u001b[0m \u001b[0minfodict\u001b[0m\u001b[1;33m,\u001b[0m \u001b[0merrmsg\u001b[0m\u001b[1;33m,\u001b[0m \u001b[0mier\u001b[0m \u001b[1;33m=\u001b[0m \u001b[0mres\u001b[0m\u001b[1;33m\u001b[0m\u001b[1;33m\u001b[0m\u001b[0m\n\u001b[0;32m    746\u001b[0m         \u001b[0mcost\u001b[0m \u001b[1;33m=\u001b[0m \u001b[0mnp\u001b[0m\u001b[1;33m.\u001b[0m\u001b[0msum\u001b[0m\u001b[1;33m(\u001b[0m\u001b[0minfodict\u001b[0m\u001b[1;33m[\u001b[0m\u001b[1;34m'fvec'\u001b[0m\u001b[1;33m]\u001b[0m \u001b[1;33m**\u001b[0m \u001b[1;36m2\u001b[0m\u001b[1;33m)\u001b[0m\u001b[1;33m\u001b[0m\u001b[1;33m\u001b[0m\u001b[0m\n",
      "\u001b[1;32m~\\Anaconda3\\lib\\site-packages\\scipy\\optimize\\minpack.py\u001b[0m in \u001b[0;36mleastsq\u001b[1;34m(func, x0, args, Dfun, full_output, col_deriv, ftol, xtol, gtol, maxfev, epsfcn, factor, diag)\u001b[0m\n\u001b[0;32m    382\u001b[0m     \u001b[1;32mif\u001b[0m \u001b[1;32mnot\u001b[0m \u001b[0misinstance\u001b[0m\u001b[1;33m(\u001b[0m\u001b[0margs\u001b[0m\u001b[1;33m,\u001b[0m \u001b[0mtuple\u001b[0m\u001b[1;33m)\u001b[0m\u001b[1;33m:\u001b[0m\u001b[1;33m\u001b[0m\u001b[1;33m\u001b[0m\u001b[0m\n\u001b[0;32m    383\u001b[0m         \u001b[0margs\u001b[0m \u001b[1;33m=\u001b[0m \u001b[1;33m(\u001b[0m\u001b[0margs\u001b[0m\u001b[1;33m,\u001b[0m\u001b[1;33m)\u001b[0m\u001b[1;33m\u001b[0m\u001b[1;33m\u001b[0m\u001b[0m\n\u001b[1;32m--> 384\u001b[1;33m     \u001b[0mshape\u001b[0m\u001b[1;33m,\u001b[0m \u001b[0mdtype\u001b[0m \u001b[1;33m=\u001b[0m \u001b[0m_check_func\u001b[0m\u001b[1;33m(\u001b[0m\u001b[1;34m'leastsq'\u001b[0m\u001b[1;33m,\u001b[0m \u001b[1;34m'func'\u001b[0m\u001b[1;33m,\u001b[0m \u001b[0mfunc\u001b[0m\u001b[1;33m,\u001b[0m \u001b[0mx0\u001b[0m\u001b[1;33m,\u001b[0m \u001b[0margs\u001b[0m\u001b[1;33m,\u001b[0m \u001b[0mn\u001b[0m\u001b[1;33m)\u001b[0m\u001b[1;33m\u001b[0m\u001b[1;33m\u001b[0m\u001b[0m\n\u001b[0m\u001b[0;32m    385\u001b[0m     \u001b[0mm\u001b[0m \u001b[1;33m=\u001b[0m \u001b[0mshape\u001b[0m\u001b[1;33m[\u001b[0m\u001b[1;36m0\u001b[0m\u001b[1;33m]\u001b[0m\u001b[1;33m\u001b[0m\u001b[1;33m\u001b[0m\u001b[0m\n\u001b[0;32m    386\u001b[0m     \u001b[1;32mif\u001b[0m \u001b[0mn\u001b[0m \u001b[1;33m>\u001b[0m \u001b[0mm\u001b[0m\u001b[1;33m:\u001b[0m\u001b[1;33m\u001b[0m\u001b[1;33m\u001b[0m\u001b[0m\n",
      "\u001b[1;32m~\\Anaconda3\\lib\\site-packages\\scipy\\optimize\\minpack.py\u001b[0m in \u001b[0;36m_check_func\u001b[1;34m(checker, argname, thefunc, x0, args, numinputs, output_shape)\u001b[0m\n\u001b[0;32m     24\u001b[0m def _check_func(checker, argname, thefunc, x0, args, numinputs,\n\u001b[0;32m     25\u001b[0m                 output_shape=None):\n\u001b[1;32m---> 26\u001b[1;33m     \u001b[0mres\u001b[0m \u001b[1;33m=\u001b[0m \u001b[0matleast_1d\u001b[0m\u001b[1;33m(\u001b[0m\u001b[0mthefunc\u001b[0m\u001b[1;33m(\u001b[0m\u001b[1;33m*\u001b[0m\u001b[1;33m(\u001b[0m\u001b[1;33m(\u001b[0m\u001b[0mx0\u001b[0m\u001b[1;33m[\u001b[0m\u001b[1;33m:\u001b[0m\u001b[0mnuminputs\u001b[0m\u001b[1;33m]\u001b[0m\u001b[1;33m,\u001b[0m\u001b[1;33m)\u001b[0m \u001b[1;33m+\u001b[0m \u001b[0margs\u001b[0m\u001b[1;33m)\u001b[0m\u001b[1;33m)\u001b[0m\u001b[1;33m)\u001b[0m\u001b[1;33m\u001b[0m\u001b[1;33m\u001b[0m\u001b[0m\n\u001b[0m\u001b[0;32m     27\u001b[0m     \u001b[1;32mif\u001b[0m \u001b[1;33m(\u001b[0m\u001b[0moutput_shape\u001b[0m \u001b[1;32mis\u001b[0m \u001b[1;32mnot\u001b[0m \u001b[1;32mNone\u001b[0m\u001b[1;33m)\u001b[0m \u001b[1;32mand\u001b[0m \u001b[1;33m(\u001b[0m\u001b[0mshape\u001b[0m\u001b[1;33m(\u001b[0m\u001b[0mres\u001b[0m\u001b[1;33m)\u001b[0m \u001b[1;33m!=\u001b[0m \u001b[0moutput_shape\u001b[0m\u001b[1;33m)\u001b[0m\u001b[1;33m:\u001b[0m\u001b[1;33m\u001b[0m\u001b[1;33m\u001b[0m\u001b[0m\n\u001b[0;32m     28\u001b[0m         \u001b[1;32mif\u001b[0m \u001b[1;33m(\u001b[0m\u001b[0moutput_shape\u001b[0m\u001b[1;33m[\u001b[0m\u001b[1;36m0\u001b[0m\u001b[1;33m]\u001b[0m \u001b[1;33m!=\u001b[0m \u001b[1;36m1\u001b[0m\u001b[1;33m)\u001b[0m\u001b[1;33m:\u001b[0m\u001b[1;33m\u001b[0m\u001b[1;33m\u001b[0m\u001b[0m\n",
      "\u001b[1;32m~\\Anaconda3\\lib\\site-packages\\scipy\\optimize\\minpack.py\u001b[0m in \u001b[0;36mfunc_wrapped\u001b[1;34m(params)\u001b[0m\n\u001b[0;32m    454\u001b[0m     \u001b[1;32mif\u001b[0m \u001b[0mtransform\u001b[0m \u001b[1;32mis\u001b[0m \u001b[1;32mNone\u001b[0m\u001b[1;33m:\u001b[0m\u001b[1;33m\u001b[0m\u001b[1;33m\u001b[0m\u001b[0m\n\u001b[0;32m    455\u001b[0m         \u001b[1;32mdef\u001b[0m \u001b[0mfunc_wrapped\u001b[0m\u001b[1;33m(\u001b[0m\u001b[0mparams\u001b[0m\u001b[1;33m)\u001b[0m\u001b[1;33m:\u001b[0m\u001b[1;33m\u001b[0m\u001b[1;33m\u001b[0m\u001b[0m\n\u001b[1;32m--> 456\u001b[1;33m             \u001b[1;32mreturn\u001b[0m \u001b[0mfunc\u001b[0m\u001b[1;33m(\u001b[0m\u001b[0mxdata\u001b[0m\u001b[1;33m,\u001b[0m \u001b[1;33m*\u001b[0m\u001b[0mparams\u001b[0m\u001b[1;33m)\u001b[0m \u001b[1;33m-\u001b[0m \u001b[0mydata\u001b[0m\u001b[1;33m\u001b[0m\u001b[1;33m\u001b[0m\u001b[0m\n\u001b[0m\u001b[0;32m    457\u001b[0m     \u001b[1;32melif\u001b[0m \u001b[0mtransform\u001b[0m\u001b[1;33m.\u001b[0m\u001b[0mndim\u001b[0m \u001b[1;33m==\u001b[0m \u001b[1;36m1\u001b[0m\u001b[1;33m:\u001b[0m\u001b[1;33m\u001b[0m\u001b[1;33m\u001b[0m\u001b[0m\n\u001b[0;32m    458\u001b[0m         \u001b[1;32mdef\u001b[0m \u001b[0mfunc_wrapped\u001b[0m\u001b[1;33m(\u001b[0m\u001b[0mparams\u001b[0m\u001b[1;33m)\u001b[0m\u001b[1;33m:\u001b[0m\u001b[1;33m\u001b[0m\u001b[1;33m\u001b[0m\u001b[0m\n",
      "\u001b[1;31mValueError\u001b[0m: operands could not be broadcast together with shapes (998,) (192,) "
     ]
    }
   ],
   "source": [
    "Coef_Ch = curve_fit(Prop,(T_c,T_h,B),Pp,maxfev=10000)\n",
    "Coef_Ch"
   ]
  },
  {
   "cell_type": "code",
   "execution_count": 1142,
   "metadata": {
    "scrolled": true
   },
   "outputs": [
    {
     "ename": "NameError",
     "evalue": "name 'Coef_Ch' is not defined",
     "output_type": "error",
     "traceback": [
      "\u001b[1;31m---------------------------------------------------------------------------\u001b[0m",
      "\u001b[1;31mNameError\u001b[0m                                 Traceback (most recent call last)",
      "\u001b[1;32m<ipython-input-1142-dea2afd368cf>\u001b[0m in \u001b[0;36m<module>\u001b[1;34m\u001b[0m\n\u001b[0;32m      1\u001b[0m \u001b[0merr\u001b[0m \u001b[1;33m=\u001b[0m \u001b[0mnp\u001b[0m\u001b[1;33m.\u001b[0m\u001b[0marange\u001b[0m\u001b[1;33m(\u001b[0m\u001b[0mmin\u001b[0m\u001b[1;33m(\u001b[0m\u001b[0mPp\u001b[0m\u001b[1;33m)\u001b[0m\u001b[1;33m,\u001b[0m\u001b[0mmax\u001b[0m\u001b[1;33m(\u001b[0m\u001b[0mPp\u001b[0m\u001b[1;33m)\u001b[0m\u001b[1;33m,\u001b[0m\u001b[1;33m(\u001b[0m\u001b[0mmax\u001b[0m\u001b[1;33m(\u001b[0m\u001b[0mPp\u001b[0m\u001b[1;33m)\u001b[0m\u001b[1;33m-\u001b[0m\u001b[0mmin\u001b[0m\u001b[1;33m(\u001b[0m\u001b[0mPp\u001b[0m\u001b[1;33m)\u001b[0m\u001b[1;33m)\u001b[0m\u001b[1;33m/\u001b[0m\u001b[1;36m100\u001b[0m\u001b[1;33m)\u001b[0m\u001b[1;33m\u001b[0m\u001b[1;33m\u001b[0m\u001b[0m\n\u001b[1;32m----> 2\u001b[1;33m \u001b[0mplt\u001b[0m\u001b[1;33m.\u001b[0m\u001b[0mplot\u001b[0m\u001b[1;33m(\u001b[0m\u001b[0mPp\u001b[0m\u001b[1;33m,\u001b[0m\u001b[0mProp\u001b[0m\u001b[1;33m(\u001b[0m\u001b[1;33m(\u001b[0m\u001b[0mT_c\u001b[0m\u001b[1;33m,\u001b[0m\u001b[0mT_h\u001b[0m\u001b[1;33m,\u001b[0m\u001b[0mB\u001b[0m\u001b[1;33m)\u001b[0m\u001b[1;33m,\u001b[0m\u001b[0mCoef_Ch\u001b[0m\u001b[1;33m[\u001b[0m\u001b[1;36m0\u001b[0m\u001b[1;33m]\u001b[0m\u001b[1;33m[\u001b[0m\u001b[1;36m0\u001b[0m\u001b[1;33m]\u001b[0m\u001b[1;33m,\u001b[0m\u001b[0mCoef_Ch\u001b[0m\u001b[1;33m[\u001b[0m\u001b[1;36m0\u001b[0m\u001b[1;33m]\u001b[0m\u001b[1;33m[\u001b[0m\u001b[1;36m1\u001b[0m\u001b[1;33m]\u001b[0m\u001b[1;33m,\u001b[0m\u001b[0mCoef_Ch\u001b[0m\u001b[1;33m[\u001b[0m\u001b[1;36m0\u001b[0m\u001b[1;33m]\u001b[0m\u001b[1;33m[\u001b[0m\u001b[1;36m2\u001b[0m\u001b[1;33m]\u001b[0m\u001b[1;33m)\u001b[0m\u001b[1;33m,\u001b[0m\u001b[1;34m'o'\u001b[0m\u001b[1;33m)\u001b[0m\u001b[1;33m\u001b[0m\u001b[1;33m\u001b[0m\u001b[0m\n\u001b[0m\u001b[0;32m      3\u001b[0m \u001b[0mplt\u001b[0m\u001b[1;33m.\u001b[0m\u001b[0mplot\u001b[0m\u001b[1;33m(\u001b[0m\u001b[0merr\u001b[0m\u001b[1;33m,\u001b[0m\u001b[0merr\u001b[0m\u001b[1;33m*\u001b[0m\u001b[1;36m1.01\u001b[0m\u001b[1;33m,\u001b[0m\u001b[1;34m'k'\u001b[0m\u001b[1;33m)\u001b[0m\u001b[1;33m\u001b[0m\u001b[1;33m\u001b[0m\u001b[0m\n\u001b[0;32m      4\u001b[0m \u001b[0mplt\u001b[0m\u001b[1;33m.\u001b[0m\u001b[0mplot\u001b[0m\u001b[1;33m(\u001b[0m\u001b[0merr\u001b[0m\u001b[1;33m,\u001b[0m\u001b[0merr\u001b[0m\u001b[1;33m*\u001b[0m\u001b[1;36m0.99\u001b[0m\u001b[1;33m,\u001b[0m\u001b[1;34m'k'\u001b[0m\u001b[1;33m)\u001b[0m\u001b[1;33m\u001b[0m\u001b[1;33m\u001b[0m\u001b[0m\n",
      "\u001b[1;31mNameError\u001b[0m: name 'Coef_Ch' is not defined"
     ]
    }
   ],
   "source": [
    "err = np.arange(min(Pp),max(Pp),(max(Pp)-min(Pp))/100)\n",
    "plt.plot(Pp,Prop((T_c,T_h,B),Coef_Ch[0][0],Coef_Ch[0][1],Coef_Ch[0][2]),'o')\n",
    "plt.plot(err,err*1.01,'k')\n",
    "plt.plot(err,err*0.99,'k')"
   ]
  },
  {
   "cell_type": "code",
   "execution_count": 1143,
   "metadata": {},
   "outputs": [
    {
     "ename": "NameError",
     "evalue": "name 'Coef_Ch' is not defined",
     "output_type": "error",
     "traceback": [
      "\u001b[1;31m---------------------------------------------------------------------------\u001b[0m",
      "\u001b[1;31mNameError\u001b[0m                                 Traceback (most recent call last)",
      "\u001b[1;32m<ipython-input-1143-8c17356ab2e5>\u001b[0m in \u001b[0;36m<module>\u001b[1;34m\u001b[0m\n\u001b[1;32m----> 1\u001b[1;33m \u001b[0mErro\u001b[0m \u001b[1;33m=\u001b[0m \u001b[0mabs\u001b[0m\u001b[1;33m(\u001b[0m\u001b[0mPp\u001b[0m \u001b[1;33m-\u001b[0m \u001b[0mProp\u001b[0m\u001b[1;33m(\u001b[0m\u001b[1;33m(\u001b[0m\u001b[0mT_c\u001b[0m\u001b[1;33m,\u001b[0m\u001b[0mT_h\u001b[0m\u001b[1;33m,\u001b[0m\u001b[0mB\u001b[0m\u001b[1;33m)\u001b[0m\u001b[1;33m,\u001b[0m\u001b[0mCoef_Ch\u001b[0m\u001b[1;33m[\u001b[0m\u001b[1;36m0\u001b[0m\u001b[1;33m]\u001b[0m\u001b[1;33m[\u001b[0m\u001b[1;36m0\u001b[0m\u001b[1;33m]\u001b[0m\u001b[1;33m,\u001b[0m\u001b[0mCoef_Ch\u001b[0m\u001b[1;33m[\u001b[0m\u001b[1;36m0\u001b[0m\u001b[1;33m]\u001b[0m\u001b[1;33m[\u001b[0m\u001b[1;36m1\u001b[0m\u001b[1;33m]\u001b[0m\u001b[1;33m,\u001b[0m\u001b[0mCoef_Ch\u001b[0m\u001b[1;33m[\u001b[0m\u001b[1;36m0\u001b[0m\u001b[1;33m]\u001b[0m\u001b[1;33m[\u001b[0m\u001b[1;36m2\u001b[0m\u001b[1;33m]\u001b[0m\u001b[1;33m)\u001b[0m\u001b[1;33m)\u001b[0m\u001b[1;33m/\u001b[0m\u001b[0mPp\u001b[0m\u001b[1;33m*\u001b[0m\u001b[1;36m100\u001b[0m\u001b[1;33m\u001b[0m\u001b[1;33m\u001b[0m\u001b[0m\n\u001b[0m\u001b[0;32m      2\u001b[0m \u001b[0mplt\u001b[0m\u001b[1;33m.\u001b[0m\u001b[0mplot\u001b[0m\u001b[1;33m(\u001b[0m\u001b[0mT_c\u001b[0m\u001b[1;33m-\u001b[0m\u001b[1;36m273\u001b[0m\u001b[1;33m,\u001b[0m\u001b[0mErro\u001b[0m\u001b[1;33m,\u001b[0m\u001b[1;34m'o'\u001b[0m\u001b[1;33m)\u001b[0m\u001b[1;33m\u001b[0m\u001b[1;33m\u001b[0m\u001b[0m\n",
      "\u001b[1;31mNameError\u001b[0m: name 'Coef_Ch' is not defined"
     ]
    }
   ],
   "source": [
    "Erro = abs(Pp - Prop((T_c,T_h,B),Coef_Ch[0][0],Coef_Ch[0][1],Coef_Ch[0][2]))/Pp*100\n",
    "plt.plot(T_c-273,Erro,'o')"
   ]
  },
  {
   "cell_type": "code",
   "execution_count": 1144,
   "metadata": {},
   "outputs": [
    {
     "data": {
      "text/plain": [
       "[<matplotlib.lines.Line2D at 0x223abb3b128>]"
      ]
     },
     "execution_count": 1144,
     "metadata": {},
     "output_type": "execute_result"
    },
    {
     "data": {
      "image/png": "[encoded data removed]",
      "text/plain": [
       "<Figure size 432x288 with 1 Axes>"
      ]
     },
     "metadata": {
      "needs_background": "light"
     },
     "output_type": "display_data"
    }
   ],
   "source": [
    "plt.plot(T_h,C_H,'o')"
   ]
  },
  {
   "cell_type": "code",
   "execution_count": 1145,
   "metadata": {},
   "outputs": [],
   "source": [
    "NTU_f  = h_int*Beta*(L*W*H*10**(-9))/(m_f*c_f) \n",
    "\n",
    "\n",
    "Eff = Data.sheet_by_name('Eff') \n",
    "\n",
    "Effect = []\n",
    "\n",
    "for i in range(7):\n",
    "     Effect.append(array(Eff.col_values(i)))\n",
    "\n",
    "phi = np.arange(0.1,2.01,0.1)\n",
    "NTU = np.arange(50,351,50)\n",
    "NN,PP = np.meshgrid(NTU,phi)\n",
    "\n",
    "Effectiv = interpolate.interp2d(phi,NTU,Effect,kind = 'linear')"
   ]
  },
  {
   "cell_type": "markdown",
   "metadata": {},
   "source": [
    "Model Parameters - Similarity"
   ]
  },
  {
   "cell_type": "code",
   "execution_count": 1146,
   "metadata": {},
   "outputs": [],
   "source": [
    "DT_ad = np.log((dT_mg + T_h)/T_c)*dT_mg"
   ]
  },
  {
   "cell_type": "code",
   "execution_count": 1147,
   "metadata": {
    "scrolled": true
   },
   "outputs": [],
   "source": [
    "Pi_1 = k_s_eff*(T_h-T_c)/(rho_s*f*L**2*CdT_dmg)\n",
    "Pi_2 = Epsilon/(1-Epsilon)*k_f_eff*(T_h-T_c)/(rho_s*f*L**2*CdT_dmg)\n",
    "Pi_3 = W_p/(m_s*f*CdT_dmg)\n",
    "Pi_4 = CdT_mg/CdT_dmg\n",
    "Pi_5 = h_int*Beta/(f*rho_s*CdT_dmg) #dT_sf unknown\n",
    "Pi_6 = ((m_f)*c_f)/(m_s*C_L*f)\n",
    "Pi_7 = (T_h-T_c)/(dT_dmg)\n",
    "Pi_11 = ((m_f)*c_f)/(m_s*C_H*f)\n",
    "Pi_12 = dT_dmg/dT_mg\n",
    "\n",
    "Pi_8 = Q_c/(m_s*f*CdT_dmg)\n",
    "Pi_9 = Q_h/(m_s*f*CdT_dmg)\n",
    "Pi_10 = W_m/(m_s*f)\n",
    "\n",
    "Efness_HB = zeros(len(Pi_6))\n",
    "Efness_CB = zeros(len(Pi_6))\n",
    "\n",
    "for i in range(len(Pi_6)):\n",
    "    Efness_HB[i] = Effectiv(Pi_6[i]/2,NTU_f[i])\n",
    "    Efness_CB[i] = Effectiv(Pi_11[i]/2,NTU_f[i])"
   ]
  },
  {
   "cell_type": "code",
   "execution_count": null,
   "metadata": {},
   "outputs": [],
   "source": []
  },
  {
   "cell_type": "code",
   "execution_count": null,
   "metadata": {},
   "outputs": [],
   "source": []
  },
  {
   "cell_type": "code",
   "execution_count": 1148,
   "metadata": {},
   "outputs": [
    {
     "data": {
      "text/plain": [
       "array([15.34062742, 15.34062742, 15.34062742, 15.34062742, 15.5290422 ,\n",
       "       15.34062742, 15.34062742, 15.72214279, 15.34062742, 15.34062742,\n",
       "       15.92010618, 15.34062742, 15.5290422 , 15.5290422 , 15.34062742,\n",
       "       15.34062742, 15.34062742, 15.72214279, 15.34062742, 15.72214279,\n",
       "       15.34062742, 15.5290422 , 15.34062742, 15.5290422 , 15.72214279,\n",
       "       15.5290422 , 15.34062742, 15.34062742, 15.34062742, 15.72214279,\n",
       "       15.34062742, 15.5290422 , 15.72214279, 15.34062742, 15.34062742,\n",
       "       15.34062742, 15.5290422 , 15.34062742, 15.34062742, 15.34062742,\n",
       "       15.5290422 , 15.72214279, 15.34062742, 15.5290422 , 15.34062742,\n",
       "       15.72214279, 15.34062742, 15.34062742, 15.34062742, 15.34062742,\n",
       "       15.34062742, 15.72214279, 15.34062742, 15.72214279, 15.34062742,\n",
       "       15.34062742, 15.34062742, 15.34062742, 15.34062742, 15.34062742,\n",
       "       15.72214279, 15.34062742, 15.72214279, 15.34062742, 15.34062742,\n",
       "       15.34062742, 15.34062742, 15.34062742, 15.34062742, 15.34062742,\n",
       "       15.72214279, 15.5290422 , 15.72214279, 15.72214279, 15.5290422 ,\n",
       "       15.5290422 , 15.5290422 , 15.5290422 , 15.5290422 , 15.5290422 ,\n",
       "       15.5290422 , 15.5290422 , 15.5290422 , 15.5290422 , 15.5290422 ,\n",
       "       15.34062742, 15.92010618, 15.5290422 , 15.5290422 , 15.34062742,\n",
       "       15.34062742, 15.5290422 , 15.92010618, 15.72214279, 15.5290422 ,\n",
       "       15.92010618, 15.5290422 , 15.34062742, 15.5290422 , 15.92010618,\n",
       "       15.72214279, 15.72214279, 15.34062742, 15.34062742, 15.5290422 ,\n",
       "       15.72214279, 15.5290422 , 15.72214279, 16.12311841, 15.34062742,\n",
       "       15.34062742, 15.34062742, 15.5290422 , 15.5290422 , 15.92010618,\n",
       "       16.33137511, 16.12311841, 15.34062742, 15.92010618, 16.33137511,\n",
       "       15.34062742, 15.34062742, 15.92010618, 15.72214279, 15.5290422 ,\n",
       "       15.5290422 , 15.5290422 , 15.72214279, 15.92010618, 15.72214279,\n",
       "       15.92010618, 16.12311841, 15.72214279, 15.34062742, 15.34062742,\n",
       "       15.92010618, 15.34062742, 15.34062742, 16.33137511, 15.34062742,\n",
       "       15.5290422 , 15.92010618, 16.33137511, 15.92010618, 15.5290422 ,\n",
       "       15.72214279, 15.5290422 , 15.34062742, 15.34062742, 15.34062742,\n",
       "       15.72214279, 15.34062742, 15.34062742, 16.12311841, 15.72214279,\n",
       "       15.34062742, 15.34062742, 15.34062742, 15.5290422 , 15.34062742,\n",
       "       15.72214279, 15.34062742, 15.34062742, 15.34062742, 15.92010618,\n",
       "       15.72214279, 15.72214279, 15.34062742, 15.72214279, 15.34062742,\n",
       "       15.5290422 , 15.34062742, 15.34062742, 15.92010618, 15.5290422 ,\n",
       "       15.34062742, 15.92010618, 15.34062742, 15.34062742, 15.72214279,\n",
       "       15.5290422 , 15.72214279, 15.34062742, 15.34062742, 15.34062742,\n",
       "       15.72214279, 15.5290422 , 15.72214279, 15.34062742, 15.5290422 ,\n",
       "       15.72214279, 15.5290422 , 15.72214279, 15.34062742, 15.34062742,\n",
       "       15.34062742, 15.72214279, 15.72214279, 15.5290422 , 15.5290422 ,\n",
       "       15.34062742, 15.72214279, 15.34062742, 15.5290422 , 15.72214279,\n",
       "       15.92010618, 15.34062742, 15.92010618, 15.34062742, 15.5290422 ,\n",
       "       15.72214279, 15.5290422 , 15.34062742, 15.72214279, 15.5290422 ,\n",
       "       16.12311841, 15.92010618, 15.5290422 , 15.5290422 , 15.5290422 ,\n",
       "       15.34062742, 15.5290422 , 15.5290422 , 15.34062742, 15.34062742,\n",
       "       15.72214279, 15.92010618, 15.34062742, 15.34062742, 16.33137511,\n",
       "       15.5290422 , 15.72214279, 15.92010618, 15.92010618, 15.5290422 ,\n",
       "       15.92010618, 15.34062742, 15.34062742, 15.5290422 , 15.34062742,\n",
       "       15.34062742, 15.5290422 , 15.34062742, 15.5290422 , 15.92010618,\n",
       "       15.5290422 , 15.34062742, 15.92010618, 15.5290422 , 15.34062742,\n",
       "       15.34062742, 15.72214279, 15.34062742, 15.72214279, 15.72214279,\n",
       "       15.5290422 , 15.34062742, 15.5290422 , 15.34062742, 15.5290422 ,\n",
       "       15.34062742, 15.5290422 , 15.34062742, 15.34062742, 15.34062742,\n",
       "       16.33137511, 15.5290422 , 15.34062742, 15.34062742, 15.72214279,\n",
       "       15.72214279, 15.5290422 , 15.34062742, 15.34062742, 15.34062742,\n",
       "       15.34062742, 15.5290422 , 15.92010618, 15.5290422 , 15.34062742,\n",
       "       15.72214279, 15.5290422 , 15.34062742, 15.5290422 , 15.5290422 ,\n",
       "       15.34062742, 15.34062742, 15.34062742, 15.34062742, 15.5290422 ,\n",
       "       15.34062742, 15.5290422 , 15.34062742, 15.34062742, 15.92010618,\n",
       "       15.5290422 , 15.92010618, 15.92010618, 15.34062742, 15.5290422 ,\n",
       "       15.34062742, 15.34062742, 15.72214279, 15.72214279, 15.5290422 ,\n",
       "       15.34062742, 16.12311841, 15.72214279, 16.12311841, 15.92010618,\n",
       "       15.34062742, 15.34062742, 15.72214279, 15.34062742, 15.5290422 ,\n",
       "       15.5290422 , 15.34062742, 15.5290422 , 15.34062742, 15.34062742,\n",
       "       15.92010618, 15.34062742, 15.34062742, 15.34062742, 15.34062742,\n",
       "       15.34062742, 15.34062742, 15.5290422 , 15.72214279, 15.34062742,\n",
       "       15.72214279, 15.34062742, 15.34062742, 15.72214279, 15.5290422 ,\n",
       "       15.34062742, 15.72214279, 15.34062742, 15.72214279, 15.5290422 ,\n",
       "       15.34062742, 15.34062742, 15.34062742, 15.72214279, 15.34062742,\n",
       "       15.34062742, 15.72214279, 15.34062742, 15.34062742, 15.34062742,\n",
       "       15.34062742, 15.34062742, 15.72214279, 15.72214279, 15.34062742,\n",
       "       15.5290422 , 15.34062742, 15.5290422 , 15.5290422 , 15.34062742,\n",
       "       15.34062742, 15.34062742, 15.34062742, 15.34062742, 15.34062742,\n",
       "       15.34062742, 15.34062742, 15.34062742, 15.34062742, 15.34062742,\n",
       "       15.34062742, 15.34062742, 15.34062742, 15.72214279, 15.34062742,\n",
       "       15.34062742, 15.72214279, 15.72214279, 15.34062742, 15.34062742,\n",
       "       16.33137511, 15.72214279, 15.72214279, 15.5290422 , 15.34062742,\n",
       "       15.72214279, 15.34062742, 15.92010618, 15.5290422 , 15.5290422 ,\n",
       "       15.5290422 , 15.92010618, 15.5290422 , 16.12311841, 15.92010618,\n",
       "       15.34062742, 15.34062742, 15.5290422 , 15.34062742, 15.5290422 ,\n",
       "       15.92010618, 16.33137511, 15.72214279, 15.5290422 , 16.12311841,\n",
       "       15.5290422 , 15.5290422 , 16.12311841, 15.92010618, 15.34062742,\n",
       "       16.33137511, 15.72214279, 15.5290422 , 15.34062742, 15.92010618,\n",
       "       15.5290422 , 15.72214279, 15.92010618, 15.5290422 , 15.34062742,\n",
       "       15.34062742, 15.5290422 , 15.72214279, 15.5290422 , 15.5290422 ,\n",
       "       15.34062742, 16.33137511, 15.5290422 , 15.34062742, 15.5290422 ,\n",
       "       15.34062742, 15.72214279, 15.92010618, 15.92010618, 15.34062742,\n",
       "       15.92010618, 15.72214279, 16.12311841, 15.72214279, 15.5290422 ,\n",
       "       15.34062742, 15.5290422 , 15.5290422 , 15.92010618, 15.72214279,\n",
       "       15.34062742, 15.34062742, 15.5290422 , 15.5290422 , 15.5290422 ,\n",
       "       15.72214279, 15.5290422 , 15.34062742, 15.72214279, 15.5290422 ,\n",
       "       15.5290422 , 15.5290422 , 15.92010618, 15.34062742, 15.34062742,\n",
       "       15.72214279, 15.72214279, 15.92010618, 15.72214279, 15.34062742,\n",
       "       15.5290422 , 15.5290422 , 15.34062742, 15.92010618, 15.34062742,\n",
       "       15.34062742, 15.34062742, 15.92010618, 15.34062742, 15.34062742,\n",
       "       15.34062742, 15.34062742, 15.34062742, 15.34062742, 15.34062742,\n",
       "       15.34062742, 15.72214279, 15.34062742, 15.5290422 , 15.72214279,\n",
       "       15.34062742, 15.34062742, 15.72214279, 15.34062742, 15.5290422 ,\n",
       "       15.72214279, 15.34062742, 15.5290422 , 15.34062742, 15.72214279,\n",
       "       15.34062742, 15.5290422 , 15.72214279, 15.5290422 , 15.34062742,\n",
       "       15.34062742, 15.72214279, 15.34062742, 15.5290422 , 15.34062742,\n",
       "       15.92010618, 15.92010618, 15.72214279, 15.72214279, 15.34062742,\n",
       "       15.72214279, 15.5290422 , 16.12311841, 15.34062742, 15.34062742,\n",
       "       15.72214279, 15.72214279, 15.5290422 , 15.34062742, 15.5290422 ,\n",
       "       16.33137511, 15.34062742, 15.34062742, 15.5290422 , 15.72214279,\n",
       "       15.92010618, 15.92010618, 15.5290422 , 15.92010618, 15.5290422 ,\n",
       "       15.72214279, 15.5290422 , 15.34062742, 15.5290422 , 15.72214279,\n",
       "       15.5290422 , 15.72214279, 15.34062742, 15.34062742, 15.34062742,\n",
       "       15.5290422 , 15.92010618, 15.34062742, 15.34062742, 15.92010618,\n",
       "       15.5290422 , 15.34062742, 15.5290422 , 15.34062742, 15.5290422 ,\n",
       "       15.5290422 , 15.92010618, 15.72214279, 15.34062742, 15.5290422 ,\n",
       "       15.34062742, 15.5290422 , 15.34062742, 15.92010618, 15.5290422 ,\n",
       "       15.34062742, 15.34062742, 15.34062742, 15.34062742, 15.5290422 ,\n",
       "       15.5290422 , 15.34062742, 15.34062742, 15.72214279, 15.34062742,\n",
       "       15.34062742, 15.72214279, 15.5290422 , 15.34062742, 15.5290422 ,\n",
       "       15.34062742, 16.33137511, 15.5290422 , 15.34062742, 15.5290422 ,\n",
       "       15.34062742, 15.72214279, 15.34062742, 15.72214279, 15.34062742,\n",
       "       15.34062742, 15.92010618, 15.5290422 , 15.5290422 , 15.72214279,\n",
       "       15.5290422 , 15.34062742, 15.34062742, 15.5290422 , 15.34062742,\n",
       "       15.34062742, 15.5290422 , 15.34062742, 15.5290422 , 15.5290422 ,\n",
       "       15.34062742, 15.34062742, 15.5290422 , 15.34062742, 15.92010618,\n",
       "       15.5290422 , 15.34062742, 15.92010618, 15.5290422 , 15.34062742,\n",
       "       15.92010618, 15.34062742, 15.72214279, 15.72214279, 15.5290422 ,\n",
       "       15.34062742, 16.12311841, 15.72214279, 16.12311841, 15.92010618,\n",
       "       20.96000547, 19.29575821, 19.22978987, 19.28915778, 20.96000547,\n",
       "       20.96000547, 20.96000547, 17.45892967, 19.29575821, 17.71213201,\n",
       "       17.86502921, 19.22978987, 17.65653193, 19.28915778, 19.29575821,\n",
       "       19.29575821, 19.22978987, 19.22978987, 19.28915778, 19.28915778,\n",
       "       20.96000547, 16.36873052, 17.45892967, 15.98720649, 16.32123341,\n",
       "       17.45892967, 17.71213201, 17.65653193, 19.29575821, 17.71213201,\n",
       "       19.22978987, 17.86502921, 20.96000547, 20.96000547, 17.65653193,\n",
       "       17.45892967, 17.86502921, 19.28915778, 19.29575821, 17.45892967,\n",
       "       19.22978987, 20.96000547, 17.71213201, 17.65653193, 19.29575821,\n",
       "       17.71213201, 19.22978987, 19.29575821, 17.65653193, 19.28915778,\n",
       "       17.45892967, 17.86502921, 19.22978987, 14.74431526, 15.98720649,\n",
       "       16.36873052, 17.86502921, 16.32123341, 15.98720649, 16.36873052,\n",
       "       17.45892967, 17.71213201, 19.28915778, 17.65653193, 15.98720649,\n",
       "       19.28915778, 16.32123341, 16.36873052, 17.45892967, 16.32123341,\n",
       "       20.96000547, 17.86502921, 17.71213201, 15.98720649, 17.65653193,\n",
       "       15.98720649, 14.74431526, 16.36873052, 16.36873052, 14.74431526,\n",
       "       17.71213201, 15.98720649, 17.86502921, 16.32123341, 17.65653193,\n",
       "       19.29575821, 16.32123341, 19.22978987, 16.36873052, 14.74431526,\n",
       "       17.86502921, 16.32123341, 14.74431526, 17.45892967, 14.74431526,\n",
       "       15.98720649, 19.28915778, 16.36873052, 16.32123341, 14.74431526,\n",
       "       17.71213201, 17.65653193, 14.74431526, 17.86502921, 15.98720649,\n",
       "       16.36873052, 16.32123341, 14.74431526, 16.69068812, 16.54508217,\n",
       "       16.40199473, 16.261361  , 16.69068812, 16.12311841, 16.54508217,\n",
       "       16.69068812, 15.98720649, 16.40199473, 15.85356678, 16.54508217,\n",
       "       16.261361  , 15.72214279, 16.40199473, 16.69068812, 16.12311841,\n",
       "       15.59287986, 16.261361  , 16.54508217, 16.69068812, 15.98720649,\n",
       "       16.69068812, 16.12311841, 16.40199473, 16.54508217, 15.85356678,\n",
       "       16.54508217, 15.98720649, 16.261361  , 16.40199473, 15.72214279,\n",
       "       16.40199473, 15.85356678, 16.69068812, 16.12311841, 16.261361  ,\n",
       "       15.59287986, 16.69068812, 15.72214279, 16.261361  , 16.54508217,\n",
       "       16.69068812, 15.98720649, 16.12311841, 16.54508217, 15.59287986,\n",
       "       16.12311841, 16.40199473, 15.85356678, 16.54508217, 15.98720649,\n",
       "       16.40199473, 15.98720649, 15.72214279, 16.261361  , 16.40199473,\n",
       "       15.85356678, 16.69068812, 16.69068812, 16.261361  , 16.69068812,\n",
       "       15.85356678, 15.59287986, 16.12311841, 15.72214279, 16.261361  ,\n",
       "       16.54508217, 16.54508217, 16.12311841, 16.54508217, 15.72214279,\n",
       "       15.98720649, 15.59287986, 16.12311841, 16.40199473, 16.40199473,\n",
       "       15.98720649, 16.69068812, 16.40199473, 15.59287986, 16.69068812,\n",
       "       16.69068812, 15.85356678, 15.98720649, 16.261361  , 16.261361  ,\n",
       "       15.85356678, 16.54508217, 16.261361  , 16.54508217, 16.54508217,\n",
       "       15.72214279, 15.85356678, 16.12311841, 16.12311841, 15.72214279,\n",
       "       16.40199473, 16.12311841, 16.69068812, 16.69068812, 16.40199473,\n",
       "       15.59287986, 16.40199473, 15.72214279, 15.98720649, 15.98720649,\n",
       "       15.59287986, 15.98720649, 16.261361  , 16.54508217, 16.54508217,\n",
       "       16.261361  , 16.261361  , 15.59287986, 15.85356678, 15.85356678,\n",
       "       16.69068812, 15.85356678, 16.12311841, 16.40199473, 16.40199473,\n",
       "       16.12311841, 16.12311841, 15.72214279, 15.72214279, 16.54508217,\n",
       "       15.72214279, 15.98720649, 16.261361  , 15.98720649, 16.261361  ,\n",
       "       15.98720649, 15.59287986, 15.59287986, 16.40199473, 15.59287986,\n",
       "       15.85356678, 16.12311841, 15.85356678, 16.12311841, 15.85356678,\n",
       "       16.261361  , 15.72214279, 15.98720649, 15.72214279, 15.98720649,\n",
       "       15.72214279, 16.12311841, 15.59287986, 15.85356678, 15.59287986,\n",
       "       15.85356678, 15.59287986, 15.98720649, 15.72214279, 15.72214279,\n",
       "       15.85356678, 15.59287986, 15.59287986, 15.72214279, 15.59287986,\n",
       "       20.96000547, 19.29575821, 19.22978987, 19.28915778, 20.96000547,\n",
       "       17.45892967, 19.29575821, 19.22978987, 17.71213201, 17.65653193,\n",
       "       19.28915778, 17.86502921, 17.45892967, 20.96000547, 20.96000547,\n",
       "       20.96000547, 20.96000547, 20.96000547, 19.29575821, 19.22978987,\n",
       "       17.71213201, 19.29575821, 19.29575821, 19.22978987, 19.22978987,\n",
       "       17.65653193, 17.45892967, 15.98720649, 19.29575821, 17.45892967,\n",
       "       16.36873052, 17.45892967, 19.22978987, 20.96000547, 17.86502921,\n",
       "       19.28915778, 16.32123341, 19.28915778, 19.28915778, 17.71213201,\n",
       "       19.29575821, 20.96000547, 17.65653193, 19.22978987, 15.98720649,\n",
       "       17.71213201, 17.71213201, 19.29575821, 17.65653193, 17.65653193,\n",
       "       17.45892967, 15.98720649, 19.22978987, 19.28915778, 16.36873052,\n",
       "       15.98720649, 17.86502921, 15.98720649, 16.32123341, 17.86502921,\n",
       "       17.86502921, 17.45892967, 19.29575821, 16.36873052, 16.32123341,\n",
       "       19.28915778, 19.22978987, 17.71213201, 14.74431526, 19.28915778,\n",
       "       16.36873052, 17.65653193, 16.36873052, 17.45892967, 16.32123341,\n",
       "       16.32123341, 14.74431526, 14.74431526, 14.74431526, 14.74431526,\n",
       "       17.71213201, 17.86502921, 17.65653193, 15.98720649, 17.45892967,\n",
       "       19.28915778, 17.71213201, 17.65653193, 15.98720649, 16.36873052,\n",
       "       17.86502921, 16.32123341, 17.86502921, 17.71213201, 17.65653193,\n",
       "       16.36873052, 14.74431526, 16.32123341, 15.98720649, 14.74431526,\n",
       "       16.36873052, 17.86502921, 15.98720649, 16.32123341, 16.36873052,\n",
       "       16.32123341, 14.74431526, 14.74431526])"
      ]
     },
     "execution_count": 1148,
     "metadata": {},
     "output_type": "execute_result"
    }
   ],
   "source": [
    "Pi_7"
   ]
  },
  {
   "cell_type": "code",
   "execution_count": 1149,
   "metadata": {},
   "outputs": [
    {
     "data": {
      "text/plain": [
       "(0.9743102594228022,\n",
       " 0.9728375205482209,\n",
       " 69.64195562834036,\n",
       " 0.55,\n",
       " 5399.999999999999)"
      ]
     },
     "execution_count": 1149,
     "metadata": {},
     "output_type": "execute_result"
    }
   ],
   "source": [
    "Efness_HB[215],Efness_CB[215],NTU_f[800],Epsilon[800],Beta[800]"
   ]
  },
  {
   "cell_type": "markdown",
   "metadata": {},
   "source": [
    "Model Parameters - Integral"
   ]
  },
  {
   "cell_type": "code",
   "execution_count": 1150,
   "metadata": {},
   "outputs": [],
   "source": [
    "FE = 0.25\n",
    "Q_pas_CB = Efness_CB*(T_h - T_c)*m_f*FE*c_f\n",
    "Q_act_CB = dT_mg*m_f*c_f*FE\n",
    "\n",
    "Q_pas_HB = Efness_HB*(T_h - T_c)*m_f*FE*c_f\n",
    "Q_act_HB = dT_dmg*m_f*c_f*FE\n",
    "\n",
    "Q_span = (T_h - T_c)*m_f*c_f*FE\n",
    "Q_cond = ((1-Epsilon)*k_s_eff + Epsilon*k_f_eff)*(W*H*10**-6)*(T_h-T_c)/L\n",
    "W_mag  = m_s*f*(CdT_mg - CdT_dmg)"
   ]
  },
  {
   "cell_type": "code",
   "execution_count": 1151,
   "metadata": {},
   "outputs": [
    {
     "data": {
      "text/plain": [
       "(2.897308546, 0.9594380047970664, 0.4600000000000001)"
      ]
     },
     "execution_count": 1151,
     "metadata": {},
     "output_type": "execute_result"
    }
   ],
   "source": [
    "dT_mg[c],Efness_CB[800],Epsilon_dp[800]"
   ]
  },
  {
   "cell_type": "code",
   "execution_count": 1152,
   "metadata": {
    "scrolled": true
   },
   "outputs": [
    {
     "data": {
      "text/plain": [
       "(5654.974239621365,\n",
       " 588.857841776264,\n",
       " 5894.048611111111,\n",
       " 5688.878409444944,\n",
       " 368.67282700329866,\n",
       " -390.9987302605376,\n",
       " 18.9935,\n",
       " 159.231)"
      ]
     },
     "execution_count": 1152,
     "metadata": {},
     "output_type": "execute_result"
    }
   ],
   "source": [
    "c = 800\n",
    "Q_pas_CB[c],Q_act_CB[c],Q_span[c],Q_pas_HB[c],Q_act_HB[c],W_mag[c],W_p[c],Q_c[c]\n"
   ]
  },
  {
   "cell_type": "code",
   "execution_count": 1153,
   "metadata": {},
   "outputs": [
    {
     "data": {
      "text/plain": [
       "(0.33084271307776275,\n",
       " 0.6289302035793602,\n",
       " -0.35349917785283613,\n",
       " -0.03193758846116388,\n",
       " -0.4998316986472333)"
      ]
     },
     "execution_count": 1153,
     "metadata": {},
     "output_type": "execute_result"
    }
   ],
   "source": [
    "Coef[0][0],Coef[0][1],Coef[0][2],Coef[0][3],Coef[0][4]"
   ]
  },
  {
   "cell_type": "code",
   "execution_count": 1154,
   "metadata": {},
   "outputs": [
    {
     "data": {
      "text/plain": [
       "(5654.974239621365,\n",
       " 588.857841776264,\n",
       " 5894.048611111111,\n",
       " -390.9987302605376,\n",
       " 18.9935)"
      ]
     },
     "execution_count": 1154,
     "metadata": {},
     "output_type": "execute_result"
    }
   ],
   "source": [
    "(Q_pas_CB[c],Q_act_CB[c],Q_span[c],W_mag[c],W_p[c])"
   ]
  },
  {
   "cell_type": "code",
   "execution_count": 1155,
   "metadata": {},
   "outputs": [
    {
     "data": {
      "text/plain": [
       "160.71016704405343"
      ]
     },
     "execution_count": 1155,
     "metadata": {},
     "output_type": "execute_result"
    }
   ],
   "source": [
    "fit_int((Q_pas_CB[c],Q_act_CB[c],Q_span[c],W_mag[c],W_p[c]),Coef[0][0],Coef[0][1],Coef[0][2],Coef[0][3],Coef[0][4])"
   ]
  },
  {
   "cell_type": "code",
   "execution_count": 1156,
   "metadata": {},
   "outputs": [
    {
     "data": {
      "text/plain": [
       "(array([181.11891359, 180.88492844]), 333.517827679183)"
      ]
     },
     "execution_count": 1156,
     "metadata": {},
     "output_type": "execute_result"
    }
   ],
   "source": [
    "a = 214\n",
    "b= 216\n",
    "fit_int((Q_pas_CB[a:b],Q_act_CB[a:b],Q_span[a:b],W_mag[a:b],W_p[a:b]),Coef[0][0],Coef[0][1],Coef[0][2],Coef[0][3],Coef[0][4]),fit_int((6691.56396771,760.6222080902222,6736.055555555555,-832.6677836679357,8.240634724535698),Coef[0][0],Coef[0][1],Coef[0][2],Coef[0][3],Coef[0][4])\n"
   ]
  },
  {
   "cell_type": "code",
   "execution_count": 1157,
   "metadata": {},
   "outputs": [
    {
     "data": {
      "text/plain": [
       "[<matplotlib.lines.Line2D at 0x223a939f7f0>]"
      ]
     },
     "execution_count": 1157,
     "metadata": {},
     "output_type": "execute_result"
    },
    {
     "data": {
      "image/png": "[encoded data removed]",
      "text/plain": [
       "<Figure size 432x288 with 1 Axes>"
      ]
     },
     "metadata": {
      "needs_background": "light"
     },
     "output_type": "display_data"
    }
   ],
   "source": [
    "plt.plot(Pi_6/2,Efness_HB,'o')\n",
    "plt.plot(Pi_11/2,Efness_CB,'o')"
   ]
  },
  {
   "cell_type": "code",
   "execution_count": 1158,
   "metadata": {},
   "outputs": [
    {
     "data": {
      "text/plain": [
       "[<matplotlib.lines.Line2D at 0x223a9f645c0>]"
      ]
     },
     "execution_count": 1158,
     "metadata": {},
     "output_type": "execute_result"
    },
    {
     "data": {
      "image/png": "[encoded data removed]",
      "text/plain": [
       "<Figure size 432x288 with 1 Axes>"
      ]
     },
     "metadata": {
      "needs_background": "light"
     },
     "output_type": "display_data"
    }
   ],
   "source": [
    "plt.plot(Pi_6,Pi_10,'o')"
   ]
  },
  {
   "cell_type": "code",
   "execution_count": 1159,
   "metadata": {},
   "outputs": [],
   "source": [
    "def fit_sim(X,a,b,c,d,e,f): \n",
    "    P1,P2,P3= X\n",
    "    return (a*P1**b*P2**c*P3**d + 0*e*P2**f)"
   ]
  },
  {
   "cell_type": "code",
   "execution_count": 1160,
   "metadata": {},
   "outputs": [],
   "source": [
    "def fit_sim1(X,a,b,c,d,e): \n",
    "    P1,P2= X\n",
    "    return ((a*(P1**b)*P2**c)+d*(P1*P2)**e)"
   ]
  },
  {
   "cell_type": "code",
   "execution_count": 1161,
   "metadata": {},
   "outputs": [],
   "source": [
    "def fit_int(X,a,b,c,d,e): \n",
    "    P1,P2,P3,P4,P5= X\n",
    "    return (a*P1+b*P2+c*P3+d*P4+e*P5)"
   ]
  },
  {
   "cell_type": "code",
   "execution_count": 1162,
   "metadata": {},
   "outputs": [],
   "source": [
    "def fit_int_h(X,a,b,c,d,e): \n",
    "    P1,P2,P3,P4,P5= X\n",
    "    return (a*P1+b*P2+c*P3+d*P4+e*P5)"
   ]
  },
  {
   "cell_type": "code",
   "execution_count": 1163,
   "metadata": {
    "scrolled": true
   },
   "outputs": [
    {
     "data": {
      "text/plain": [
       "[<matplotlib.lines.Line2D at 0x223a9f86198>]"
      ]
     },
     "execution_count": 1163,
     "metadata": {},
     "output_type": "execute_result"
    },
    {
     "data": {
      "image/png": "[encoded data removed]",
      "text/plain": [
       "<Figure size 432x288 with 1 Axes>"
      ]
     },
     "metadata": {
      "needs_background": "light"
     },
     "output_type": "display_data"
    }
   ],
   "source": [
    "plt.plot(Q_c[a:b],'o')"
   ]
  },
  {
   "cell_type": "code",
   "execution_count": 1164,
   "metadata": {},
   "outputs": [
    {
     "data": {
      "text/plain": [
       "array([ -649.41428412,  -487.06071309,  -649.41428412,  -541.1785701 ,\n",
       "        -542.11186068,  -649.41428412,  -649.41428412,  -364.14102533,\n",
       "        -649.41428412,  -649.41428412,  -436.58352063,  -405.88392758,\n",
       "        -334.63695103,  -542.11186068,  -649.41428412,  -541.1785701 ,\n",
       "        -334.85424025,  -715.04055883,  -649.41428412,  -436.9692304 ,\n",
       "        -649.41428412,  -542.11186068,  -541.1785701 ,  -269.94047383,\n",
       "        -715.04055883,  -713.89216221,  -338.23660631,  -541.1785701 ,\n",
       "        -405.88392758,  -436.9692304 ,  -547.94330223,  -642.50294599,\n",
       "        -364.14102533,  -405.88392758,  -721.5714268 ,  -338.23660631,\n",
       "        -722.81581424,  -547.94330223,  -721.5714268 ,  -405.88392758,\n",
       "        -722.81581424,  -291.31282026,  -721.5714268 ,  -722.81581424,\n",
       "        -721.5714268 ,  -364.14102533,  -547.94330223,  -338.23660631,\n",
       "        -272.84419576,  -547.94330223,  -297.64821356,  -291.31282026,\n",
       "        -547.94330223,  -595.86713236,  -297.64821356,  -338.23660631,\n",
       "        -405.88392758,  -272.84419576,  -338.23660631,  -272.84419576,\n",
       "        -291.31282026,  -272.84419576,  -441.38306101,  -730.59106964,\n",
       "        -405.88392758,  -730.59106964,  -730.59106964,  -405.88392758,\n",
       "        -730.59106964,  -405.88392758,  -794.48950981,  -441.72077537,\n",
       "        -794.48950981,  -794.48950981,  -441.72077537,  -803.12868248,\n",
       "        -294.48051691,  -294.48051691,  -294.48051691,  -803.12868248,\n",
       "        -368.10064614,  -602.34651186,  -602.34651186,  -602.34651186,\n",
       "        -803.12868248,  -811.76785516,  -873.16704127,  -368.10064614,\n",
       "        -803.12868248,  -974.12142619,  -811.76785516,  -803.12868248,\n",
       "        -873.16704127, -1059.31934642, -1070.83824331,  -314.34013486,\n",
       "        -803.12868248,  -811.76785516, -1079.76189534, -1047.80044952,\n",
       "        -882.76612201,  -873.93846079,  -297.64821356,  -811.76785516,\n",
       "        -602.34651186, -1068.14700764,  -892.36520276,  -971.04273421,\n",
       "       -1139.90970789,  -811.76785516,  -901.96428351,  -992.16071186,\n",
       "        -981.60172304,  -981.60172304,  -960.48374539, -1127.2389213 ,\n",
       "       -1044.91723223,  -297.64821356, -1056.53211993, -1033.30234453,\n",
       "        -608.82589137,  -992.16071186,  -960.48374539,  -882.76612201,\n",
       "        -446.18260138,  -446.18260138,  -883.44155073,  -971.04273421,\n",
       "        -480.2418727 ,  -317.79580392,  -654.87528095, -1139.90970789,\n",
       "       -1068.14700764,  -608.82589137,  -811.76785516,  -960.48374539,\n",
       "        -901.96428351,  -446.47232034, -1127.2389213 ,  -892.94464067,\n",
       "        -892.36520276,  -654.87528095, -1033.30234453,  -960.48374539,\n",
       "        -981.60172304,  -317.79580392,  -981.60172304,  -446.47232034,\n",
       "        -446.47232034,  -608.82589137,  -882.76612201,  -608.82589137,\n",
       "        -372.06026695, -1044.91723223,  -655.45384559,  -608.82589137,\n",
       "        -608.82589137,  -372.06026695,  -892.36520276, -1190.59285423,\n",
       "       -1068.14700764,  -608.82589137,  -372.06026695,  -372.06026695,\n",
       "        -960.48374539,  -397.24475491,  -662.07459151,  -372.06026695,\n",
       "        -971.04273421, -1190.59285423,  -321.25147299,  -901.96428351,\n",
       "        -608.82589137, -1152.58049447, -1177.92206764, -1091.37678304,\n",
       "       -1152.58049447,  -450.98214175,  -372.06026695,  -971.04273421,\n",
       "        -321.25147299,  -662.07459151, -1082.35714021,  -450.98214175,\n",
       "        -372.06026695,  -400.55512786,  -662.58116305,  -662.07459151,\n",
       "        -450.98214175,  -321.25147299,  -400.55512786,  -669.27390207,\n",
       "        -485.52136711,  -324.70714206,  -450.98214175,  -324.70714206,\n",
       "        -400.55512786,  -485.52136711,  -401.56434124,  -669.27390207,\n",
       "        -676.47321263,  -662.07459151,  -669.7084805 ,  -803.12868248,\n",
       "        -794.48950981,  -720.36280905,  -744.12053389,  -785.85033714,\n",
       "        -811.76785516,  -404.91071075,  -485.52136711,  -662.58116305,\n",
       "        -818.53258728,  -728.28205066,  -736.20129228,  -783.68792417,\n",
       "        -864.43537085,  -401.56434124,  -736.20129228,  -809.8214215 ,\n",
       "        -676.47321263,  -490.80086152,  -669.27390207,  -744.12053389,\n",
       "        -892.94464067,  -873.93846079,  -792.39908995,  -405.88392758,\n",
       "        -818.53258728,  -922.28639016,  -404.91071075,  -728.28205066,\n",
       "        -785.85033714,  -943.02040457,  -490.80086152,  -432.21768543,\n",
       "        -744.12053389,  -405.88392758,  -736.20129228,  -409.26629364,\n",
       "        -892.94464067,  -736.20129228,  -496.08035593,  -883.44155073,\n",
       "        -864.43537085,  -490.80086152,  -496.08035593,  -792.39908995,\n",
       "        -404.91071075,  -744.12053389,  -676.47321263,  -436.9692304 ,\n",
       "        -409.26629364,  -728.28205066,  -534.07350382,  -535.41912166,\n",
       "        -496.08035593,  -490.80086152,  -496.08035593,  -441.72077537,\n",
       "        -541.1785701 ,  -736.20129228,  -676.47321263,  -446.47232034,\n",
       "        -409.26629364,  -614.85759344,  -539.88094767,  -744.12053389,\n",
       "        -545.68839152,  -582.62564053,  -582.62564053,  -441.72077537,\n",
       "        -496.08035593,  -974.12142619,  -446.47232034,  -446.47232034,\n",
       "        -588.96103382,  -471.51020228,  -588.96103382,  -545.68839152,\n",
       "        -582.62564053,  -588.96103382,  -595.29642711,  -588.96103382,\n",
       "        -481.87720949,  -446.47232034,  -487.06071309,  -595.29642711,\n",
       "        -545.68839152,  -481.87720949,  -649.41428412,  -642.50294599,\n",
       "        -487.06071309,  -649.41428412,  -300.15117044,  -281.18799358,\n",
       "        -300.15117044,  -300.15117044,  -281.8638386 ,  -281.18799358,\n",
       "        -281.8638386 ,  -284.21270392,  -303.45085444,  -303.45085444,\n",
       "        -306.75053845,  -268.71019279,  -308.72554589,  -289.28981457,\n",
       "        -308.72554589,  -297.14965873,  -531.33895974,  -398.5042198 ,\n",
       "        -297.93356618,  -531.33895974,  -443.54606783,  -273.79386903,\n",
       "        -442.78246645,  -220.86038768,  -531.33895974,  -273.97165111,\n",
       "        -357.2046987 ,  -332.08684984,  -531.33895974,  -531.33895974,\n",
       "        -531.33895974,  -276.73904153,  -531.33895974,  -443.54606783,\n",
       "        -357.52027942,  -531.33895974,  -585.0331845 ,  -531.33895974,\n",
       "        -442.78246645,  -585.0331845 ,  -443.54606783,  -223.23616017,\n",
       "        -238.34685294,  -332.08684984,  -297.93356618,  -584.09358726,\n",
       "        -442.78246645,  -276.73904153,  -223.23616017,  -357.52027942,\n",
       "        -442.78246645,  -223.23616017,  -238.34685294,  -223.23616017,\n",
       "        -332.08684984,  -243.53035655,  -276.73904153,  -243.53035655,\n",
       "        -297.93356618,  -238.34685294,  -276.73904153,  -591.3947571 ,\n",
       "        -332.08684984,  -591.3947571 ,  -591.3947571 ,  -276.73904153,\n",
       "        -448.31724728,  -590.37662193,  -590.37662193,  -590.37662193,\n",
       "        -590.37662193,  -332.08684984,  -448.31724728,  -597.75632971,\n",
       "        -597.75632971,  -448.31724728,  -448.31724728,  -448.31724728,\n",
       "        -332.08684984,  -650.03687166,  -597.75632971,  -332.08684984,\n",
       "        -487.52765375,  -361.13159537,  -332.08684984,  -974.12142619,\n",
       "        -922.28639016,  -650.03687166,  -650.03687166,  -240.93860475,\n",
       "        -597.75632971,  -866.71582889,  -797.00843961,  -943.02040457,\n",
       "        -240.93860475,  -876.14038089,  -240.93860475,  -857.29127688,\n",
       "        -963.75441898,  -932.65339736,  -943.02040457,  -974.12142619,\n",
       "        -892.94464067,  -657.10528567,  -885.5649329 ,  -883.44155073,\n",
       "        -714.4093974 ,  -922.28639016,  -873.93846079,  -657.10528567,\n",
       "        -932.65339736,  -361.40790712,  -657.10528567,  -854.93228092,\n",
       "        -864.43537085,  -664.17369967,  -845.42919098,  -794.48950981,\n",
       "        -301.17325593,  -664.17369967,  -714.4093974 ,  -803.12868248,\n",
       "        -722.26319074,  -785.85033714,  -657.10528567,  -811.76785516,\n",
       "        -811.76785516,  -657.10528567,  -873.93846079,  -803.12868248,\n",
       "        -730.11698408,  -664.17369967,  -845.42919098,  -301.17325593,\n",
       "        -737.97077741,  -361.40790712,  -664.17369967,  -715.04055883,\n",
       "        -785.85033714,  -257.18738306,  -243.53035655,  -785.85033714,\n",
       "        -794.48950981,  -854.93228092,  -722.26319074,  -803.12868248,\n",
       "        -243.53035655,  -657.10528567,  -803.12868248,  -785.85033714,\n",
       "        -873.93846079,  -737.97077741,  -664.17369967,  -722.81581424,\n",
       "        -730.11698408,  -492.82896425,  -722.26319074,  -492.82896425,\n",
       "        -730.59106964,  -794.48950981,  -492.82896425,  -730.11698408,\n",
       "        -492.82896425,  -785.85033714,  -664.17369967,  -737.97077741,\n",
       "        -794.48950981,  -260.01474867,  -535.80704805,  -260.01474867,\n",
       "        -498.13027475,  -365.05849204,  -365.05849204,  -304.41294568,\n",
       "        -535.80704805,  -498.13027475,  -304.41294568,  -498.13027475,\n",
       "        -392.92516857,  -304.41294568,  -304.41294568,  -304.41294568,\n",
       "        -498.13027475,  -365.29553482,  -498.13027475,  -365.29553482,\n",
       "        -304.41294568,  -541.69739305,  -365.29553482,  -262.84211427,\n",
       "        -536.28041912,  -304.41294568,  -498.13027475,  -325.01843583,\n",
       "        -498.13027475,  -262.84211427,  -541.69739305,  -368.98538871,\n",
       "        -262.84211427,  -498.13027475,  -541.69739305,  -368.98538871,\n",
       "        -547.58773806,  -327.7269228 ,  -542.11186068,  -265.66947987,\n",
       "        -368.98538871,  -327.7269228 ,  -265.66947987,  -547.58773806,\n",
       "        -553.47808306,  -642.96845766,  -589.38775286,  -327.7269228 ,\n",
       "        -541.69739305,  -368.98538871,  -650.03687166,  -657.10528567,\n",
       "        -641.19921069,  -664.17369967,  -608.82589137,  -397.24475491,\n",
       "        -595.86713236,  -602.34651186,  -547.94330223,  -328.55264283,\n",
       "        -754.59795558,  -553.47808306,  -669.7084805 ,  -547.58773806,\n",
       "        -397.24475491,  -648.32652814,  -642.96845766,  -542.11186068,\n",
       "        -707.26530343,  -602.34651186,  -715.04055883,  -662.58116305,\n",
       "        -730.59106964,  -331.29058152,  -595.86713236,  -328.55264283,\n",
       "        -397.24475491,  -608.82589137,  -797.00843961,  -608.82589137,\n",
       "        -602.34651186,  -771.56214919,  -669.7084805 ,  -332.08684984,\n",
       "        -648.32652814,  -331.29058152,  -730.59106964,  -602.34651186,\n",
       "        -553.47808306,  -722.81581424,  -401.56434124,  -707.26530343,\n",
       "        -595.86713236,  -608.82589137,  -331.29058152,  -332.08684984,\n",
       "        -401.56434124,  -334.85424025,  -353.63265171,  -401.56434124,\n",
       "        -405.88392758,  -553.47808306,  -405.88392758,  -334.85424025,\n",
       "        -602.34651186,  -401.56434124,  -405.88392758,  -608.82589137,\n",
       "        -357.52027942,  -334.85424025,  -405.88392758,  -436.9692304 ,\n",
       "        -438.07019045,  -442.78246645,  -361.40790712,  -405.88392758,\n",
       "        -503.06530372,  -441.72077537,  -365.29553482,  -361.40790712,\n",
       "        -446.47232034,  -476.69370589,  -365.29553482,  -476.69370589,\n",
       "        -365.29553482,  -446.47232034,  -385.7810746 ,  -481.87720949,\n",
       "        -481.87720949,  -476.69370589,  -481.87720949,  -365.29553482,\n",
       "        -446.47232034,  -481.87720949,  -487.06071309,  -487.06071309,\n",
       "        -394.2631714 ,  -398.5042198 ,  -394.2631714 ,  -525.68422853,\n",
       "        -531.33895974,  -398.5042198 ,  -525.68422853,  -531.33895974,\n",
       "        -245.57823036,  -230.06290384,  -230.61586794,  -245.57823036,\n",
       "        -230.06290384,  -230.61586794,  -245.57823036,  -232.53766684,\n",
       "        -248.27797182,  -248.27797182,  -250.97771328,  -219.8537941 ,\n",
       "        -252.59362845,  -236.69166646,  -252.59362845,  -243.12244805,\n",
       "         -92.08964236,  -124.89169345,  -129.48025037,  -104.97477205,\n",
       "        -138.13446353,  -184.17928471,   -92.08964236,  -162.28230146,\n",
       "        -187.33754018,  -137.77682315,  -117.85990175,  -194.22037555,\n",
       "        -142.36538006,  -157.46215808,  -124.89169345,  -249.7833869 ,\n",
       "        -129.48025037,  -258.96050073,  -104.97477205,  -209.9495441 ,\n",
       "         -92.08964236,  -150.66195284,  -243.42345219,  -175.16743116,\n",
       "        -155.25050976,  -162.28230146,  -206.66523472,  -213.54807009,\n",
       "        -124.89169345,  -137.77682315,  -129.48025037,  -176.78985262,\n",
       "        -184.17928471,  -184.17928471,  -142.36538006,  -324.56460292,\n",
       "        -117.85990175,  -104.97477205,  -249.7833869 ,  -162.28230146,\n",
       "        -258.96050073,  -235.34019713,  -275.55364629,  -284.73076012,\n",
       "        -249.7833869 ,  -137.77682315,  -258.96050073,  -319.16766104,\n",
       "        -142.36538006,  -209.9495441 ,  -324.56460292,  -235.71980349,\n",
       "        -330.89397316,  -188.05256085,  -175.16743116,  -150.66195284,\n",
       "        -117.85990175,  -155.25050976,  -262.75114674,  -225.99292926,\n",
       "        -414.72143707,  -275.55364629,  -268.26886191,  -284.73076012,\n",
       "        -175.16743116,  -209.9495441 ,  -232.87576463,  -150.66195284,\n",
       "        -324.56460292,  -155.25050976,  -276.26892707,  -235.71980349,\n",
       "        -352.09632582,  -350.33486231,  -363.82263793,  -350.33486231,\n",
       "        -188.05256085,  -301.32390568,  -301.32390568,  -188.05256085,\n",
       "        -275.55364629,  -447.65010184,  -301.19752669,  -310.50101951,\n",
       "        -284.73076012,  -374.67508036,  -310.50101951,  -388.4407511 ,\n",
       "        -385.0249906 ,  -376.1051217 ,  -235.71980349,  -396.75130271,\n",
       "        -282.07884128,  -486.84690439,  -480.57876662,  -350.33486231,\n",
       "        -314.92431615,  -301.32390568,  -310.50101951,  -376.1051217 ,\n",
       "        -413.33046944,  -427.09614018,  -376.1051217 ,  -353.57970524,\n",
       "        -525.50229347,  -451.98585853,  -465.75152927,  -564.15768256,\n",
       "        -265.13907563,  -267.16388172,  -269.18868782,  -271.21349391,\n",
       "        -296.07196779,  -273.23830001,  -298.33300126,  -301.29440412,\n",
       "        -275.2631061 ,  -300.59403473,  -277.2879122 ,  -303.59532014,\n",
       "        -302.8550682 ,  -279.31271829,  -305.89623616,  -331.42384454,\n",
       "        -305.11610168,  -281.33752439,  -308.19715217,  -333.95485215,\n",
       "        -336.44541794,  -307.37713515,  -337.44973262,  -310.49806819,\n",
       "        -336.48585977,  -339.01477416,  -309.63816862,  -340.02675856,\n",
       "        -312.79898421,  -339.01686739,  -341.58413038,  -311.89920209,\n",
       "        -342.6037845 ,  -315.09990023,  -376.61800515,  -341.54787501,\n",
       "        -344.15348659,  -314.16023557,  -376.81886809,  -317.40081624,\n",
       "        -345.18081044,  -379.49415018,  -373.60506111,  -344.07888263,\n",
       "        -346.72284281,  -379.69654706,  -319.70173226,  -347.75783637,\n",
       "        -382.3702952 ,  -346.60989025,  -376.45819697,  -349.29219903,\n",
       "        -382.57422602,  -350.33486231,  -349.14089787,  -385.24644022,\n",
       "        -379.31133284,  -351.86155525,  -421.81216577,  -417.19231824,\n",
       "        -385.45190499,  -409.76038961,  -352.91188825,  -351.67190549,\n",
       "        -388.12258524,  -354.43091147,  -382.1644687 ,  -425.0334482 ,\n",
       "        -420.37831995,  -388.32958395,  -412.88963539,  -355.48891419,\n",
       "        -390.99873026,  -357.00026769,  -385.01760456,  -428.25473062,\n",
       "        -423.56432167,  -391.20726292,  -467.00632639,  -416.01888117,\n",
       "        -358.06594013,  -457.5657684 ,  -445.9157181 ,  -393.87487528,\n",
       "        -387.87074042,  -431.47601304,  -426.75032338,  -394.08494188,\n",
       "        -470.57274622,  -419.14812696,  -461.06009285,  -449.32107381,\n",
       "        -396.7510203 ,  -390.72387628,  -434.69729547,  -429.93632509,\n",
       "        -396.96262085,  -474.13916604,  -422.27737274,  -512.20048701,\n",
       "        -497.93921855,  -464.55441731,  -399.62716532,  -452.72642951,\n",
       "        -393.57701214,  -437.91857789,  -433.1223268 ,  -399.84029981,\n",
       "        -425.40661852,  -477.70558587,  -516.11204424,  -501.74186575,\n",
       "        -468.04874177,  -456.13178522,  -396.430148  ,  -441.13986032,\n",
       "        -436.30832851,  -557.39464763,  -428.53586431,  -481.2720057 ,\n",
       "        -520.02360147,  -505.54451296,  -471.54306623,  -459.53714092,\n",
       "        -444.36114274,  -439.49433022,  -561.65134226,  -431.66511009,\n",
       "        -484.83842552,  -523.9351587 ,  -475.03739068,  -509.34716016,\n",
       "        -462.94249663,  -447.58242516,  -442.68033194,  -565.90803689,\n",
       "        -434.79435587,  -488.40484535,  -527.84671593,  -478.53171514,\n",
       "        -513.14980736,  -466.34785233,  -570.16473152,  -491.97126518,\n",
       "        -531.75827315,  -482.0260396 ,  -516.95245457,  -469.75320804,\n",
       "        -574.42142615,  -495.537685  ,  -535.66983038,  -485.52036406,\n",
       "        -520.75510177,  -473.15856374,  -578.67812079,  -539.58138761,\n",
       "        -524.55774898,  -582.93481542,  -543.49294484,  -528.36039618,\n",
       "        -587.19151005,  -591.44820468,  -121.03210138,  -164.14336854,\n",
       "        -170.17404334,  -137.96684327,  -157.86795833,  -213.28531049,\n",
       "        -214.10004592,  -221.96614348,  -181.07811042,  -187.10878522,\n",
       "        -179.95675209,  -154.90158515,  -278.19823108,  -420.9812222 ,\n",
       "        -210.4906111 ,  -236.80193749,  -315.73591665,  -210.4906111 ,\n",
       "        -570.93345578,  -591.90971596,  -236.18883968,  -285.46672789,\n",
       "        -428.20009184,  -295.95485798,  -443.93228697,  -244.05493725,\n",
       "        -741.86194954,  -230.22005238,  -321.15006888,  -556.39646215,\n",
       "        -198.01285231,  -370.93097477,  -332.94921523,  -420.9812222 ,\n",
       "        -202.04554585,  -479.88467224,  -204.04352711,  -239.94233612,\n",
       "        -359.91350418,  -629.83690582,  -285.46672789,  -420.9812222 ,\n",
       "        -650.81316599,  -295.95485798,  -300.28702484,  -314.91845291,\n",
       "        -472.37767936,  -570.93345578,  -325.406583  ,  -488.1098745 ,\n",
       "        -417.29734662,  -800.76539957,  -591.90971596,  -269.93512813,\n",
       "        -258.27763344,  -600.57404968,  -538.78812227,  -400.38269979,\n",
       "        -266.14373101,  -404.0910917 ,  -269.39406113,  -741.86194954,\n",
       "        -570.93345578,  -688.74035585,  -709.71661603,  -239.94233612,\n",
       "        -591.90971596,  -354.28325952,  -247.15479426,  -479.88467224,\n",
       "        -344.37017792,  -366.08240587,  -516.55526689,  -370.93097477,\n",
       "        -354.85830801,  -532.28746202,  -859.66884961,  -322.3758186 ,\n",
       "        -644.75163721,  -429.8344248 ,  -629.83690582,  -303.06831878,\n",
       "        -650.81316599,  -450.43053726,  -741.86194954,  -479.88467224,\n",
       "        -314.91845291,  -325.406583  ,  -800.76539957,  -387.41645017,\n",
       "        -538.78812227,  -399.21559652,  -269.39406113,  -629.83690582,\n",
       "        -650.81316599,  -688.74035585,  -483.5637279 ,  -709.71661603,\n",
       "        -400.38269979,  -859.66884961,  -344.37017792,  -538.78812227,\n",
       "        -800.76539957,  -354.85830801,  -688.74035585,  -709.71661603,\n",
       "        -429.8344248 ,  -859.66884961])"
      ]
     },
     "execution_count": 1164,
     "metadata": {},
     "output_type": "execute_result"
    }
   ],
   "source": [
    "W_mag"
   ]
  },
  {
   "cell_type": "code",
   "execution_count": 1165,
   "metadata": {},
   "outputs": [],
   "source": [
    "a = 0\n",
    "b = 1200"
   ]
  },
  {
   "cell_type": "code",
   "execution_count": 1166,
   "metadata": {
    "scrolled": false
   },
   "outputs": [
    {
     "data": {
      "text/plain": [
       "(array([ 0.33084271,  0.6289302 , -0.35349918, -0.03193759, -0.4998317 ]),\n",
       " array([[ 6.69929486e-05,  5.69829953e-06, -6.31034719e-05,\n",
       "          1.75703064e-05, -3.15266279e-06],\n",
       "        [ 5.69829953e-06,  2.30844725e-04, -2.64292661e-05,\n",
       "          1.49612506e-05, -1.69681167e-04],\n",
       "        [-6.31034719e-05, -2.64292661e-05,  6.14309344e-05,\n",
       "         -1.73024643e-05,  1.53552320e-05],\n",
       "        [ 1.75703064e-05,  1.49612506e-05, -1.73024643e-05,\n",
       "          1.15255156e-05, -8.31308080e-06],\n",
       "        [-3.15266279e-06, -1.69681167e-04,  1.53552320e-05,\n",
       "         -8.31308080e-06,  8.05385292e-04]]))"
      ]
     },
     "execution_count": 1166,
     "metadata": {},
     "output_type": "execute_result"
    }
   ],
   "source": [
    "Coef = curve_fit(fit_int,(Q_pas_CB[a:b],Q_act_CB[a:b],Q_span[a:b],W_mag[a:b],W_p[a:b]),Q_c[a:b],maxfev=10000, bounds = ([0,0,-1,-1,-20],[10,10,0,2,0]))\n",
    "Coef"
   ]
  },
  {
   "cell_type": "code",
   "execution_count": 1167,
   "metadata": {},
   "outputs": [
    {
     "data": {
      "text/plain": [
       "(array([ 8.55623410e-01,  1.37490171e+00, -8.76966818e-01, -5.84058975e-04,\n",
       "         5.86703668e-01]),\n",
       " array([[ 1.44225262e-04,  6.58802305e-06, -1.37972736e-04,\n",
       "          1.76974199e-05,  1.53099184e-05],\n",
       "        [ 6.58802305e-06,  4.16777227e-04, -3.03974299e-05,\n",
       "          1.37116015e-05, -1.55499562e-04],\n",
       "        [-1.37972736e-04, -3.03974299e-05,  1.33415196e-04,\n",
       "         -1.74577183e-05, -7.02831929e-06],\n",
       "        [ 1.76974199e-05,  1.37116015e-05, -1.74577183e-05,\n",
       "          5.37376440e-06, -1.85548415e-06],\n",
       "        [ 1.53099184e-05, -1.55499562e-04, -7.02831929e-06,\n",
       "         -1.85548415e-06,  3.71369427e-04]]))"
      ]
     },
     "execution_count": 1167,
     "metadata": {},
     "output_type": "execute_result"
    }
   ],
   "source": [
    "Coef_h = curve_fit(fit_int_h,(Q_pas_HB[a:b],Q_act_HB[a:b],Q_span[a:b],W_mag[a:b],W_p[a:b]),Q_h[a:b],maxfev=10000, bounds = ([0,0,-1,-1,0],[10,10,0,2,10]))\n",
    "Coef_h"
   ]
  },
  {
   "cell_type": "code",
   "execution_count": 1168,
   "metadata": {},
   "outputs": [
    {
     "data": {
      "text/plain": [
       "(array([0.40567018, 0.48863332, 0.36255547, 0.4632871 , 0.45755957,\n",
       "        0.33903836, 0.34295788, 0.70463374, 0.32532005, 0.31552125,\n",
       "        0.5587375 , 0.5894956 , 0.67728107, 0.41807473, 0.32140053,\n",
       "        0.41860459, 0.67273192, 0.30658282, 0.30768221, 0.54443788,\n",
       "        0.29984317, 0.397171  , 0.39743919, 0.78829546, 0.29264724,\n",
       "        0.29101921, 0.6660046 , 0.38332892, 0.53932576, 0.5073819 ,\n",
       "        0.39485521, 0.22340869, 0.60885828, 0.51424084, 0.29102426,\n",
       "        0.61332627, 0.27697451, 0.37395111, 0.27691399, 0.49542715,\n",
       "        0.26826462, 0.70976457, 0.26809507, 0.25955473, 0.26103994,\n",
       "        0.57465276, 0.36001504, 0.58322437, 0.71367632, 0.34840166,\n",
       "        0.5216523 , 0.67128336, 0.34143362, 0.34699601, 0.53447981,\n",
       "        0.56441068, 0.49542715, 0.68102446, 0.55312247, 0.6577017 ,\n",
       "        0.64562922, 0.6390435 , 0.47973244, 0.23865513, 0.47661346,\n",
       "        0.24213915, 0.24910718, 0.464071  , 0.25781722, 0.45152855,\n",
       "        0.23202745, 0.4760351 , 0.23829847, 0.22105318, 0.45323102,\n",
       "        0.21321811, 0.57722818, 0.59005548, 0.6114343 , 0.21792146,\n",
       "        0.54387722, 0.33027904, 0.3093753 , 0.3177368 , 0.2226248 ,\n",
       "        0.20067935, 0.19471155, 0.51993294, 0.20851477, 0.13848966,\n",
       "        0.19440812, 0.2304637 , 0.19894441, 0.13051544, 0.12581437,\n",
       "        0.56830063, 0.21321811, 0.20538278, 0.12710681, 0.13639215,\n",
       "        0.18342711, 0.19810698, 0.55158317, 0.19754374, 0.29474269,\n",
       "        0.13293509, 0.17355327, 0.15264214, 0.12826626, 0.2100862 ,\n",
       "        0.16509012, 0.14366817, 0.14623114, 0.15007933, 0.16161829,\n",
       "        0.13147063, 0.14692317, 0.56868652, 0.13992925, 0.15624891,\n",
       "        0.28429575, 0.14110267, 0.16803171, 0.18766004, 0.43741069,\n",
       "        0.42330067, 0.18670838, 0.15905567, 0.41302451, 0.50951975,\n",
       "        0.28407193, 0.13040403, 0.13526729, 0.29056698, 0.21635743,\n",
       "        0.16418365, 0.16791218, 0.40762994, 0.13360837, 0.17673466,\n",
       "        0.17778628, 0.29159701, 0.15858098, 0.17059708, 0.15264479,\n",
       "        0.51735851, 0.1487966 , 0.41903217, 0.43328497, 0.29683821,\n",
       "        0.19189297, 0.2738437 , 0.46179056, 0.15042134, 0.28884662,\n",
       "        0.30729026, 0.27802452, 0.47205257, 0.18060829, 0.10796492,\n",
       "        0.13759948, 0.31983272, 0.48231458, 0.44126653, 0.17444513,\n",
       "        0.47346142, 0.25961991, 0.49941794, 0.15905567, 0.11010284,\n",
       "        0.48601188, 0.17214526, 0.28429575, 0.12292396, 0.11223881,\n",
       "        0.12244447, 0.12078615, 0.37815516, 0.45152855, 0.16546921,\n",
       "        0.49385078, 0.26526382, 0.12228898, 0.38379926, 0.46179056,\n",
       "        0.42601422, 0.26414722, 0.27090773, 0.39508748, 0.50560913,\n",
       "        0.435343  , 0.24645506, 0.37198504, 0.47034223, 0.40919774,\n",
       "        0.47426175, 0.44778137, 0.3822467 , 0.42957179, 0.25021773,\n",
       "        0.23328975, 0.28031425, 0.24894882, 0.17559139, 0.18342711,\n",
       "        0.24114474, 0.19497824, 0.19283028, 0.1693232 , 0.40114444,\n",
       "        0.39507377, 0.2774496 , 0.17103354, 0.22404616, 0.20523669,\n",
       "        0.20833549, 0.17244985, 0.44211403, 0.21207791, 0.17880469,\n",
       "        0.23705249, 0.34377145, 0.25586174, 0.20181958, 0.15107963,\n",
       "        0.16247623, 0.19745572, 0.37313817, 0.17258839, 0.16460551,\n",
       "        0.41047338, 0.22746672, 0.19596573, 0.15154683, 0.34890237,\n",
       "        0.39905749, 0.19839891, 0.40449432, 0.2086573 , 0.38249319,\n",
       "        0.15250491, 0.21549852, 0.32325339, 0.15820328, 0.17530026,\n",
       "        0.33607508, 0.31299138, 0.20056526, 0.41980232, 0.20524025,\n",
       "        0.24269659, 0.37055981, 0.38871259, 0.23259755, 0.30085311,\n",
       "        0.27984878, 0.31812238, 0.34377145, 0.3309499 , 0.35061268,\n",
       "        0.26809507, 0.22062944, 0.2483407 , 0.3335154 , 0.39804169,\n",
       "        0.26258497, 0.28686492, 0.21037125, 0.27287624, 0.25654141,\n",
       "        0.26295495, 0.35631369, 0.33864641, 0.13587665, 0.33066484,\n",
       "        0.33921652, 0.2522701 , 0.33706106, 0.24799433, 0.27754079,\n",
       "        0.26723064, 0.25440798, 0.23944696, 0.25013221, 0.30833012,\n",
       "        0.3477682 , 0.2952704 , 0.24158488, 0.28220534, 0.31094308,\n",
       "        0.21557352, 0.22536841, 0.30049643, 0.21753328, 0.71009431,\n",
       "        0.70750684, 0.6649438 , 0.63621166, 0.69986925, 0.64481636,\n",
       "        0.66374696, 0.61348176, 0.57875742, 0.59928073, 0.54182486,\n",
       "        0.78149171, 0.73013099, 0.70611678, 0.66698453, 0.71726698,\n",
       "        0.49581911, 0.5972185 , 0.86121902, 0.44312336, 0.55923948,\n",
       "        0.82778797, 0.56623979, 0.96347223, 0.41438022, 0.82222791,\n",
       "        0.68290139, 0.72049462, 0.39761339, 0.41917074, 0.38563708,\n",
       "        0.81400563, 0.39282287, 0.51098023, 0.66542408, 0.37605604,\n",
       "        0.37471234, 0.36647499, 0.51162783, 0.35767996, 0.48543122,\n",
       "        0.87227105, 0.86749003, 0.65917593, 0.74416012, 0.35569015,\n",
       "        0.48575901, 0.749621  , 0.83236323, 0.62013343, 0.46851313,\n",
       "        0.80385764, 0.82045744, 0.78105317, 0.62851659, 0.63757503,\n",
       "        0.71282979, 0.6532531 , 0.70235337, 0.78910237, 0.68983528,\n",
       "        0.31723356, 0.60552208, 0.32787898, 0.3385244 , 0.67603857,\n",
       "        0.48260081, 0.31904882, 0.35569631, 0.32767176, 0.33845043,\n",
       "        0.60552208, 0.45705136, 0.29168961, 0.29594785, 0.44001839,\n",
       "        0.42582425, 0.41730776, 0.58252757, 0.28358911, 0.30446434,\n",
       "        0.56719789, 0.42410624, 0.58633965, 0.55186822, 0.13195713,\n",
       "        0.16068633, 0.27017611, 0.29125368, 0.74730859, 0.31510994,\n",
       "        0.15951887, 0.16926514, 0.14762752, 0.72117892, 0.15377311,\n",
       "        0.70550111, 0.16670152, 0.13718077, 0.15676987, 0.1502404 ,\n",
       "        0.13457014, 0.14965435, 0.26059992, 0.14946431, 0.15535277,\n",
       "        0.23798079, 0.16329911, 0.16247623, 0.26634845, 0.1593827 ,\n",
       "        0.58182067, 0.25485139, 0.17957276, 0.17102464, 0.24527477,\n",
       "        0.19097089, 0.18656261, 0.66473883, 0.23760993, 0.24315428,\n",
       "        0.17872695, 0.22418869, 0.19753346, 0.27209697, 0.17245882,\n",
       "        0.17559443, 0.26059992, 0.16532669, 0.18343029, 0.21212067,\n",
       "        0.24144235, 0.1938212 , 0.6354736 , 0.20177682, 0.55394902,\n",
       "        0.25102339, 0.24213075, 0.20537209, 0.69458966, 0.6741572 ,\n",
       "        0.20066891, 0.19440138, 0.1838483 , 0.22936227, 0.18186251,\n",
       "        0.6950613 , 0.28167785, 0.18656585, 0.20850754, 0.16817715,\n",
       "        0.205226  , 0.25677202, 0.22819913, 0.21729434, 0.37812537,\n",
       "        0.23453586, 0.38834498, 0.21600903, 0.19440138, 0.40367438,\n",
       "        0.22074346, 0.36024106, 0.21321072, 0.26443686, 0.21039976,\n",
       "        0.20224014, 0.62274636, 0.34719902, 0.63232707, 0.34747258,\n",
       "        0.53461307, 0.51736748, 0.56441068, 0.35639635, 0.33469786,\n",
       "        0.57695314, 0.35513742, 0.50480773, 0.5894956 , 0.6103997 ,\n",
       "        0.53932576, 0.33980775, 0.49821437, 0.36280226, 0.51215043,\n",
       "        0.55186822, 0.31731322, 0.52957052, 0.59401452, 0.35303476,\n",
       "        0.56441068, 0.34747258, 0.57867507, 0.37557698, 0.6035954 ,\n",
       "        0.32421133, 0.46218964, 0.61796672, 0.39090666, 0.33110945,\n",
       "        0.46908799, 0.30122285, 0.52068405, 0.3228466 , 0.57486273,\n",
       "        0.48288469, 0.53208589, 0.57965325, 0.30582167, 0.28513191,\n",
       "        0.23568146, 0.29473246, 0.54728834, 0.3426063 , 0.50013058,\n",
       "        0.22418869, 0.2146117 , 0.25463227, 0.20695058, 0.23830673,\n",
       "        0.45464839, 0.2738342 , 0.25084484, 0.30427078, 0.52503219,\n",
       "        0.20118451, 0.28973082, 0.20904099, 0.3127199 , 0.46719041,\n",
       "        0.24133477, 0.23951367, 0.33910506, 0.21077203, 0.25920634,\n",
       "        0.19858205, 0.21853907, 0.18465288, 0.49028764, 0.27801488,\n",
       "        0.54036159, 0.48286794, 0.24666837, 0.16607146, 0.24248755,\n",
       "        0.25502559, 0.18522391, 0.21094137, 0.45605777, 0.24513532,\n",
       "        0.50168968, 0.18639489, 0.26338708, 0.29662917, 0.19335956,\n",
       "        0.42016511, 0.21425587, 0.28428589, 0.25084919, 0.51309172,\n",
       "        0.49438195, 0.42643623, 0.46749168, 0.48773694, 0.41075843,\n",
       "        0.38254502, 0.30352752, 0.39508748, 0.47509317, 0.2696582 ,\n",
       "        0.42016511, 0.38881625, 0.25712042, 0.45290644, 0.4864954 ,\n",
       "        0.40449432, 0.36770935, 0.34203739, 0.32767176, 0.4285266 ,\n",
       "        0.41390117, 0.32093719, 0.35061268, 0.40762994, 0.43549452,\n",
       "        0.3335154 , 0.31355061, 0.40414592, 0.32138938, 0.41459797,\n",
       "        0.33921652, 0.41196352, 0.30833012, 0.30310418, 0.32661522,\n",
       "        0.31094308, 0.42505002, 0.34491764, 0.30571715, 0.29265739,\n",
       "        0.2952704 , 0.37684792, 0.36088605, 0.38004155, 0.27305506,\n",
       "        0.26347875, 0.36727341, 0.27545028, 0.26587401, 0.86789304,\n",
       "        0.86473058, 0.85539574, 0.81270909, 0.78810888, 0.81124629,\n",
       "        0.77759203, 0.74981104, 0.73245423, 0.70737018, 0.66223038,\n",
       "        0.95515654, 0.89238232, 0.86303162, 0.81520331, 0.87665964,\n",
       "        1.18035276, 1.15927296, 1.14076287, 1.18049647, 0.78690184,\n",
       "        0.59017638, 0.88526457, 1.12106162, 0.77284864, 1.15941157,\n",
       "        1.18064021, 0.76050858, 1.1408971 , 0.78699764, 0.86945472,\n",
       "        0.57963648, 0.85557216, 0.57038144, 0.88537235, 0.59024823,\n",
       "        0.59017638, 1.15955022, 0.74737441, 1.12119124, 1.14103136,\n",
       "        0.84079621, 0.77294105, 0.76059807, 0.57963648, 0.86955868,\n",
       "        0.57038144, 0.78709347, 0.29508819, 0.44263229, 0.85567282,\n",
       "        0.56053081, 0.88548015, 0.59024823, 0.28981824, 0.56053081,\n",
       "        0.28519072, 0.23093858, 0.57970579, 0.57044855, 0.43472736,\n",
       "        0.57970579, 0.42778608, 0.22681427, 0.57044855, 0.29512412,\n",
       "        0.2802654 , 0.5903201 , 0.22319274, 1.1213209 , 0.84089343,\n",
       "        0.86966267, 0.5903201 , 0.85577352, 0.74746083, 0.77303348,\n",
       "        0.21933814, 0.28985289, 0.2309667 , 0.28522427, 0.56059562,\n",
       "        0.44268618, 0.76068757, 0.57977511, 0.42039811, 0.57051568,\n",
       "        0.29508819, 0.29516005, 0.22684139, 0.28029781, 0.223219  ,\n",
       "        0.56059562, 0.84099068, 0.57977511, 0.28988756, 0.56066045,\n",
       "        0.43477934, 0.2193635 , 0.23099482, 0.28525784, 0.42783641,\n",
       "        0.28981824, 0.57051568, 0.28519072, 0.22686852, 0.28033023,\n",
       "        0.44274008, 0.22324527, 0.74754727, 0.2802654 , 0.21938887,\n",
       "        0.42044672, 0.29512412, 0.43483133, 0.42788676, 0.56066045,\n",
       "        0.28985289, 0.28522427, 0.42049534, 0.29516005, 0.28029781,\n",
       "        0.28988756, 0.28525784, 0.28033023, 0.62426358, 0.6242708 ,\n",
       "        0.62427801, 0.62428523, 0.55904201, 0.62429245, 0.55904847,\n",
       "        0.54935195, 0.62429967, 0.55905494, 0.62430689, 0.5493583 ,\n",
       "        0.5590614 , 0.62431411, 0.54936465, 0.49941086, 0.55906787,\n",
       "        0.62432133, 0.54937101, 0.49941664, 0.49195697, 0.55907433,\n",
       "        0.49049281, 0.54937736, 0.49942241, 0.49196266, 0.5590808 ,\n",
       "        0.49049848, 0.54938371, 0.49942819, 0.49196835, 0.55908726,\n",
       "        0.49050415, 0.54939006, 0.43948156, 0.49943396, 0.49197403,\n",
       "        0.55909373, 0.43924729, 0.54939642, 0.49050983, 0.43948664,\n",
       "        0.44302577, 0.49943974, 0.49197972, 0.43925237, 0.54940277,\n",
       "        0.4905155 , 0.43949172, 0.49944551, 0.44303089, 0.49198541,\n",
       "        0.43925745, 0.49052117, 0.49945129, 0.4394968 , 0.44303601,\n",
       "        0.4919911 , 0.39239425, 0.39673949, 0.43926253, 0.40393526,\n",
       "        0.49052684, 0.49945706, 0.43950189, 0.49199679, 0.44304113,\n",
       "        0.39239879, 0.39674408, 0.43926761, 0.40393993, 0.49053251,\n",
       "        0.43950697, 0.49200248, 0.44304626, 0.39240332, 0.39674867,\n",
       "        0.43927269, 0.35442061, 0.4039446 , 0.49053819, 0.36173307,\n",
       "        0.37118375, 0.43951205, 0.44305138, 0.39240786, 0.39675325,\n",
       "        0.43927777, 0.35442471, 0.40394927, 0.36173725, 0.37118804,\n",
       "        0.43951713, 0.4430565 , 0.3924124 , 0.39675784, 0.43928285,\n",
       "        0.35442881, 0.40395394, 0.32314821, 0.33240336, 0.36174143,\n",
       "        0.43952221, 0.37119233, 0.44306163, 0.39241694, 0.39676243,\n",
       "        0.43928793, 0.40395861, 0.35443291, 0.32315194, 0.3324072 ,\n",
       "        0.36174561, 0.37119663, 0.44306675, 0.39242147, 0.39676702,\n",
       "        0.296947  , 0.40396328, 0.354437  , 0.32315568, 0.33241104,\n",
       "        0.3617498 , 0.37120092, 0.39242601, 0.3967716 , 0.29695043,\n",
       "        0.40396795, 0.3544411 , 0.32315941, 0.36175398, 0.33241489,\n",
       "        0.37120521, 0.39243055, 0.39677619, 0.29695387, 0.40397262,\n",
       "        0.3544452 , 0.32316315, 0.36175816, 0.33241873, 0.3712095 ,\n",
       "        0.2969573 , 0.3544493 , 0.32316689, 0.36176235, 0.33242258,\n",
       "        0.37121379, 0.29696073, 0.3544534 , 0.32317062, 0.36176653,\n",
       "        0.33242642, 0.37121809, 0.29696417, 0.32317436, 0.33243026,\n",
       "        0.2969676 , 0.3231781 , 0.33243411, 0.29697104, 0.29697447,\n",
       "        0.89809449, 0.88205551, 0.86797175, 0.89820383, 0.51640433,\n",
       "        0.85298166, 0.50718192, 0.49908376, 0.88216098, 0.86807388,\n",
       "        0.5164672 , 0.8983132 , 0.49046446, 0.12910108, 0.25820217,\n",
       "        0.34426956, 0.17213478, 0.51640433, 0.12679548, 0.12477094,\n",
       "        0.50724256, 0.25359096, 0.16906064, 0.24954188, 0.16636125,\n",
       "        0.49914248, 0.12261611, 0.85308029, 0.33812128, 0.16348815,\n",
       "        0.88226647, 0.24523223, 0.33272251, 0.19365163, 0.51653009,\n",
       "        0.1291168 , 0.86817603, 0.2582336 , 0.17215573, 0.12681064,\n",
       "        0.50718192, 0.25820217, 0.12478562, 0.49908376, 0.49052117,\n",
       "        0.25362128, 0.16908085, 0.19019322, 0.24957124, 0.16638083,\n",
       "        0.3269763 , 0.12263029, 0.18715641, 0.34431147, 0.50730322,\n",
       "        0.16350706, 0.12913252, 0.24526058, 0.49920122, 0.1721767 ,\n",
       "        0.25826504, 0.18392417, 0.25359096, 0.12682581, 0.1248003 ,\n",
       "        0.5164672 , 0.24954188, 0.33816171, 0.85317895, 0.1936752 ,\n",
       "        0.25365161, 0.33276165, 0.16910107, 0.49046446, 0.24960061,\n",
       "        0.16640041, 0.12264447, 0.49057789, 0.16352596, 0.24528895,\n",
       "        0.19021596, 0.34435339, 0.18717843, 0.32701411, 0.24523223,\n",
       "        0.2582336 , 0.50724256, 0.49914248, 0.18394544, 0.33820215,\n",
       "        0.19369878, 0.33280081, 0.51653009, 0.25362128, 0.24957124,\n",
       "        0.19023871, 0.32705193, 0.18720046, 0.49052117, 0.18396671,\n",
       "        0.50730322, 0.25826504, 0.24526058, 0.49920122, 0.25365161,\n",
       "        0.24960061, 0.49057789, 0.24528895]),\n",
       " array([0.75107725, 0.9046792 , 0.67125261, 0.85775199, 0.84282289,\n",
       "        0.6277119 , 0.63496869, 1.29134018, 0.60231316, 0.58417119,\n",
       "        1.01879049, 1.09142047, 1.24754901, 0.77009198, 0.59505637,\n",
       "        0.77502464, 1.24552819, 0.56185603, 0.56965762, 0.9977588 ,\n",
       "        0.55514405, 0.73158738, 0.735838  , 1.45203707, 0.53631712,\n",
       "        0.53605622, 1.23307291, 0.70971357, 0.99853362, 0.92984851,\n",
       "        0.7310539 , 0.4115179 , 1.11581821, 0.95209019, 0.53881629,\n",
       "        1.13554172, 0.51018594, 0.69235104, 0.51269186, 0.91725763,\n",
       "        0.49414236, 1.30074314, 0.4963641 , 0.47809877, 0.48330188,\n",
       "        1.0531318 , 0.66654914, 1.07980961, 1.32133461, 0.64504756,\n",
       "        0.96581212, 1.23022092, 0.63214661, 0.63591887, 0.98956159,\n",
       "        1.04497704, 0.91725763, 1.26088139, 1.0240775 , 1.21770052,\n",
       "        1.18320611, 1.18315583, 0.87917699, 0.44185758, 0.88242506,\n",
       "        0.44830805, 0.461209  , 0.85920335, 0.47733519, 0.83598163,\n",
       "        0.42522286, 0.87685474, 0.43671537, 0.40511097, 0.83484972,\n",
       "        0.39274691, 1.063252  , 1.08687982, 1.12625953, 0.40141045,\n",
       "        1.00181966, 0.60837267, 0.56986807, 0.58526991, 0.41007398,\n",
       "        0.37154739, 0.35503305, 0.95771439, 0.38408338, 0.2564064 ,\n",
       "        0.35993654, 0.42451321, 0.36275116, 0.23918786, 0.23174956,\n",
       "        1.0362277 , 0.39274691, 0.38025553, 0.23413024, 0.24869465,\n",
       "        0.33615591, 0.36305883, 1.02122756, 0.36574196, 0.54291485,\n",
       "        0.24362221, 0.31968443, 0.27973813, 0.23270219, 0.38896368,\n",
       "        0.30565578, 0.26599416, 0.26935717, 0.27644552, 0.29469146,\n",
       "        0.23732247, 0.26654978, 1.05289354, 0.25514412, 0.28205065,\n",
       "        0.52635881, 0.26124426, 0.30638557, 0.34391335, 0.80570874,\n",
       "        0.77971813, 0.34391608, 0.29149184, 0.7531004 , 0.93376641,\n",
       "        0.51797092, 0.23658056, 0.24789628, 0.53796966, 0.40057453,\n",
       "        0.2993691 , 0.31088067, 0.75470564, 0.24118137, 0.32721503,\n",
       "        0.32748162, 0.531692  , 0.28626036, 0.31106321, 0.28117108,\n",
       "        0.94813205, 0.27408274, 0.77581629, 0.8022046 , 0.54958052,\n",
       "        0.3516708 , 0.50700738, 0.85498122, 0.27289621, 0.52935196,\n",
       "        0.56893195, 0.51474795, 0.8739808 , 0.33267974, 0.19989144,\n",
       "        0.25217036, 0.59215366, 0.89298038, 0.81698205, 0.31807967,\n",
       "        0.86768448, 0.4757899 , 0.92464635, 0.29149184, 0.20384969,\n",
       "        0.89523193, 0.318718  , 0.52635881, 0.22413703, 0.20674344,\n",
       "        0.22669957, 0.22023899, 0.70013462, 0.83598163, 0.30324554,\n",
       "        0.90967116, 0.48613316, 0.22641169, 0.71058439, 0.85498122,\n",
       "        0.78073082, 0.48655812, 0.49647642, 0.73148393, 0.93132999,\n",
       "        0.79782712, 0.45396922, 0.68171478, 0.8708142 , 0.75760836,\n",
       "        0.87807099, 0.82062218, 0.7005207 , 0.79126951, 0.46090005,\n",
       "        0.43192384, 0.51371518, 0.4609158 , 0.32343863, 0.33615591,\n",
       "        0.43969837, 0.36099207, 0.35160278, 0.31349311, 0.73890644,\n",
       "        0.72402811, 0.51106104, 0.31665971, 0.41059603, 0.37804516,\n",
       "        0.37796477, 0.31444151, 0.81437227, 0.39064666, 0.32935752,\n",
       "        0.43889036, 0.63322564, 0.47129629, 0.37365846, 0.27971608,\n",
       "        0.29776048, 0.36003671, 0.69084593, 0.31953843, 0.29713545,\n",
       "        0.75609031, 0.41686467, 0.3573199 , 0.27632739, 0.64267676,\n",
       "        0.72763324, 0.36732526, 0.74890021, 0.38434591, 0.70816626,\n",
       "        0.28235491, 0.39694741, 0.59848685, 0.29140981, 0.31963889,\n",
       "        0.61904894, 0.57948727, 0.36570658, 0.77327418, 0.37999165,\n",
       "        0.44934013, 0.67910285, 0.71968116, 0.42626763, 0.55135553,\n",
       "        0.51548032, 0.58898706, 0.63322564, 0.61273654, 0.64582714,\n",
       "        0.4963641 , 0.40639854, 0.4597899 , 0.61748643, 0.73695351,\n",
       "        0.47400178, 0.52840402, 0.38949144, 0.50521617, 0.47014812,\n",
       "        0.48190183, 0.65632839, 0.62698623, 0.25156855, 0.61220877,\n",
       "        0.62804176, 0.4646805 , 0.61459022, 0.45680456, 0.51385235,\n",
       "        0.48973763, 0.46861847, 0.44332359, 0.46074253, 0.56794284,\n",
       "        0.64387474, 0.5466778 , 0.44728184, 0.52248852, 0.57275591,\n",
       "        0.39912318, 0.41512771, 0.55635352, 0.40275157, 1.29477138,\n",
       "        1.30322475, 1.21244488, 1.16005528, 1.29577153, 1.18774914,\n",
       "        1.228893  , 1.13582959, 1.06065417, 1.09826602, 0.99803921,\n",
       "        1.44689129, 1.32461247, 1.29405805, 1.21005139, 1.30784988,\n",
       "        0.9179833 , 1.10571902, 1.57830467, 0.82041986, 1.03011687,\n",
       "        1.52478213, 1.04836354, 1.77471198, 0.76720344, 1.52231223,\n",
       "        1.24518837, 1.33395835, 0.73616052, 0.77607284, 0.71398701,\n",
       "        1.50708911, 0.72729112, 0.94122354, 1.21948297, 0.69624821,\n",
       "        0.68671293, 0.6785094 , 0.94725234, 0.6554987 , 0.89416236,\n",
       "        1.61496452, 1.58979717, 1.22042998, 1.36377782, 0.65517982,\n",
       "        0.89935756, 1.38788432, 1.54107725, 1.13648151, 0.8674277 ,\n",
       "        1.48830064, 1.50360335, 1.44607934, 1.16366579, 1.18043703,\n",
       "        1.3197673 , 1.20946417, 1.28716109, 1.4461408 , 1.27719416,\n",
       "        0.58434294, 1.12109265, 0.60395177, 0.62356059, 1.25165028,\n",
       "        0.89351032, 0.5907023 , 0.65855324, 0.60666723, 0.62662339,\n",
       "        1.12109265, 0.84620683, 0.54004815, 0.54793206, 0.81467117,\n",
       "        0.78839146, 0.77262363, 1.07851952, 0.51971683, 0.56369989,\n",
       "        1.05013742, 0.77723417, 1.07454966, 1.02175533, 0.24431176,\n",
       "        0.29006079, 0.49513563, 0.53376323, 1.37653942, 0.58340968,\n",
       "        0.29234072, 0.3133856 , 0.26918099, 1.32840867, 0.28324946,\n",
       "        1.29953022, 0.30396012, 0.25268643, 0.28441379, 0.27394525,\n",
       "        0.24914962, 0.27707725, 0.480024  , 0.2767254 , 0.28615918,\n",
       "        0.43392928, 0.29477723, 0.29776048, 0.49061277, 0.28915402,\n",
       "        1.07171134, 0.46943524, 0.32578307, 0.31184282, 0.45411348,\n",
       "        0.34472857, 0.34190216, 1.22444625, 0.43992243, 0.44336253,\n",
       "        0.32921432, 0.41085722, 0.36017845, 0.50120153, 0.31929854,\n",
       "        0.32510397, 0.480024  , 0.30298435, 0.33787786, 0.39072542,\n",
       "        0.44701796, 0.34987377, 1.17053981, 0.37357929, 1.02037188,\n",
       "        0.46475676, 0.44373857, 0.37447125, 1.26650052, 1.24816702,\n",
       "        0.36589557, 0.3562678 , 0.33353981, 0.42033854, 0.33499001,\n",
       "        1.28686988, 0.51884947, 0.34365355, 0.38018837, 0.30820821,\n",
       "        0.37996526, 0.47540005, 0.42034187, 0.40025531, 0.69650542,\n",
       "        0.42981986, 0.71532989, 0.39992949, 0.3562678 , 0.74356659,\n",
       "        0.40660857, 0.66356259, 0.38876405, 0.4895911 , 0.38954422,\n",
       "        0.37063344, 1.14127006, 0.63307557, 1.15882806, 0.64332743,\n",
       "        0.98475512, 0.95298883, 1.04497704, 0.64984578, 0.61967569,\n",
       "        1.06819875, 0.65751848, 0.92045605, 1.09142047, 1.13012332,\n",
       "        0.99853362, 0.62913638, 0.92241801, 0.67170952, 0.94821991,\n",
       "        1.02175533, 0.58152099, 0.98047229, 1.09417236, 0.64698573,\n",
       "        1.04497704, 0.64332743, 1.06050326, 0.69536127, 1.1118203 ,\n",
       "        0.59416275, 0.85572009, 1.13829221, 0.72374336, 0.60680451,\n",
       "        0.86849203, 0.55485127, 0.95422656, 0.59468214, 1.06432847,\n",
       "        0.89403591, 0.97512203, 1.07319787, 0.56332229, 0.52790692,\n",
       "        0.42973673, 0.53740912, 1.00298266, 0.62787411, 0.92596577,\n",
       "        0.41085722, 0.39531388, 0.46195694, 0.38315825, 0.44121253,\n",
       "        0.83320695, 0.50183959, 0.46205519, 0.56334153, 0.96710718,\n",
       "        0.36316555, 0.53642155, 0.38702853, 0.5760288 , 0.85619197,\n",
       "        0.44004486, 0.43672432, 0.62463016, 0.3843174 , 0.47745703,\n",
       "        0.36392947, 0.40254808, 0.34187521, 0.90310787, 0.50950126,\n",
       "        0.99534389, 0.88492325, 0.45669367, 0.30747267, 0.4489531 ,\n",
       "        0.46975611, 0.33773347, 0.39054698, 0.84436725, 0.44697471,\n",
       "        0.92411038, 0.34510044, 0.48515795, 0.54919349, 0.35616754,\n",
       "        0.77394244, 0.39066975, 0.52099377, 0.46443424, 0.94511289,\n",
       "        0.91532248, 0.78549382, 0.86553654, 0.88932952, 0.75661537,\n",
       "        0.70826222, 0.56196543, 0.73148393, 0.87961031, 0.49670933,\n",
       "        0.77394244, 0.71987307, 0.4760451 , 0.83001459, 0.90072095,\n",
       "        0.74890021, 0.67387898, 0.6300315 , 0.60666723, 0.78934428,\n",
       "        0.7663165 , 0.57933551, 0.64582714, 0.75470564, 0.80217915,\n",
       "        0.61748643, 0.57462548, 0.74825517, 0.58899112, 0.76760659,\n",
       "        0.62804176, 0.75116582, 0.56794284, 0.55831669, 0.59856821,\n",
       "        0.57275591, 0.78695802, 0.63859708, 0.56312976, 0.54183995,\n",
       "        0.5466778 , 0.69415236, 0.66816176, 0.700035  , 0.50296633,\n",
       "        0.48781722, 0.67998763, 0.50737831, 0.49225192, 1.58249835,\n",
       "        1.59283025, 1.58372076, 1.48187707, 1.4516934 , 1.50198034,\n",
       "        1.41784534, 1.38823617, 1.34232513, 1.29635509, 1.2198257 ,\n",
       "        1.76842269, 1.6189708 , 1.58162651, 1.4789517 , 1.59848318,\n",
       "        1.94559455, 1.97448021, 1.94541372, 2.01026532, 1.29706303,\n",
       "        0.97279727, 1.45919591, 1.97429398, 1.31632014, 2.04111842,\n",
       "        2.07938318, 1.29694248, 2.01007228, 1.34017688, 1.48086016,\n",
       "        0.98724011, 1.45906029, 0.97270686, 1.50769899, 1.00513266,\n",
       "        0.97279727, 2.11241179, 1.31619598, 2.0409194 , 2.07917663,\n",
       "        1.48072048, 1.36074562, 1.34004818, 0.98724011, 1.53083882,\n",
       "        0.97270686, 1.38625545, 0.48639864, 0.72959796, 1.50755421,\n",
       "        0.98714699, 1.55953738, 1.00513266, 0.49362005, 0.98714699,\n",
       "        0.48635343, 0.3806598 , 1.02055921, 1.00503614, 0.74043008,\n",
       "        1.02055921, 0.72953015, 0.38631135, 1.00503614, 0.50256633,\n",
       "        0.49357349, 1.03969159, 0.38062442, 2.11219863, 1.53068955,\n",
       "        1.58430884, 1.03969159, 1.55938247, 1.36061294, 1.40827453,\n",
       "        0.38627491, 0.51027961, 0.39331278, 0.50251807, 1.0204597 ,\n",
       "        0.7538495 , 1.38611775, 1.05620589, 0.74036024, 1.03958831,\n",
       "        0.48639864, 0.51984579, 0.39934926, 0.51022985, 0.39327501,\n",
       "        1.0204597 , 1.58414897, 1.05620589, 0.52810295, 1.05609931,\n",
       "        0.76541941, 0.39931032, 0.40683584, 0.51979416, 0.7537771 ,\n",
       "        0.49362005, 1.03958831, 0.48635343, 0.41329796, 0.52804966,\n",
       "        0.77976869, 0.40679543, 1.40813242, 0.49357349, 0.41325625,\n",
       "        0.76534478, 0.50256633, 0.79215442, 0.77969123, 1.05609931,\n",
       "        0.51027961, 0.50251807, 0.79207448, 0.51984579, 0.51022985,\n",
       "        0.52810295, 0.51979416, 0.52804966, 1.11756412, 1.12128527,\n",
       "        1.12503129, 1.12880242, 1.00080369, 1.13259891, 1.00413606,\n",
       "        0.98345642, 1.13642103, 1.0074907 , 1.14026904, 0.98673104,\n",
       "        1.01086783, 1.14414319, 0.99002753, 0.89405129, 1.01426768,\n",
       "        1.14804375, 0.99334613, 0.89702822, 0.88070724, 1.01769048,\n",
       "        0.87808609, 0.99668704, 0.90002503, 0.88363973, 1.02113645,\n",
       "        0.88100985, 1.00005051, 0.90304193, 0.88659182, 1.02460584,\n",
       "        0.88395315, 1.00343675, 0.78676514, 0.90607913, 0.88956369,\n",
       "        1.02809888, 0.78634575, 1.00684601, 0.88691618, 0.78938483,\n",
       "        0.79311002, 0.90913683, 0.89255556, 0.78896405, 1.0102785 ,\n",
       "        0.88989914, 0.79202203, 0.91221523, 0.79575084, 0.89556762,\n",
       "        0.79159984, 0.89290224, 0.91531455, 0.7946769 , 0.7984093 ,\n",
       "        0.89860008, 0.70246887, 0.71024778, 0.7942533 , 0.72312972,\n",
       "        0.89592567, 0.918435  , 0.79734963, 0.90165314, 0.80108558,\n",
       "        0.70480788, 0.71261269, 0.79692461, 0.72553753, 0.89896965,\n",
       "        0.80004041, 0.90472702, 0.80377987, 0.70716252, 0.7149934 ,\n",
       "        0.79961395, 0.63448801, 0.72796142, 0.90203438, 0.64757886,\n",
       "        0.66449758, 0.8027494 , 0.80649235, 0.70953295, 0.71739008,\n",
       "        0.8023215 , 0.63660067, 0.73040156, 0.6497351 , 0.66671016,\n",
       "        0.8054768 , 0.80922319, 0.71191932, 0.71980287, 0.80504745,\n",
       "        0.63872744, 0.73285812, 0.57850378, 0.59507246, 0.65190575,\n",
       "        0.8082228 , 0.66893752, 0.81197258, 0.71432179, 0.72223195,\n",
       "        0.80779198, 0.73533126, 0.64086847, 0.58043002, 0.59705387,\n",
       "        0.65409095, 0.67117981, 0.81474073, 0.71674054, 0.72467748,\n",
       "        0.53159807, 0.73782114, 0.6430239 , 0.58236914, 0.59904853,\n",
       "        0.65629085, 0.67343719, 0.71917572, 0.72713963, 0.53336813,\n",
       "        0.74032794, 0.64519388, 0.58432125, 0.6585056 , 0.60105655,\n",
       "        0.6757098 , 0.7216275 , 0.72961856, 0.53515002, 0.74285184,\n",
       "        0.64737855, 0.5862865 , 0.66073535, 0.60307808, 0.67799781,\n",
       "        0.53694385, 0.64957807, 0.588265  , 0.66298025, 0.60511326,\n",
       "        0.68030135, 0.53874975, 0.65179258, 0.59025691, 0.66524045,\n",
       "        0.60716221, 0.68262061, 0.54056784, 0.59226236, 0.60922509,\n",
       "        0.54239824, 0.59428147, 0.61130204, 0.54424108, 0.54609649,\n",
       "        1.48034368, 1.5023219 , 1.48020609, 1.5295497 , 0.85119762,\n",
       "        1.5021802 , 0.86383509, 0.8511185 , 1.55302489, 1.52940282,\n",
       "        0.87949108, 1.58213937, 0.86375361, 0.2127994 , 0.42559881,\n",
       "        0.56746508, 0.28373254, 0.85119762, 0.21595877, 0.21277963,\n",
       "        0.89298931, 0.43191755, 0.28794503, 0.42555925, 0.28370617,\n",
       "        0.87940662, 0.2159384 , 1.55287346, 0.57589006, 0.28791787,\n",
       "        1.60726984, 0.43187681, 0.56741234, 0.31919911, 0.90973014,\n",
       "        0.21987277, 1.58198222, 0.43974554, 0.29316369, 0.22324733,\n",
       "        0.86383509, 0.42559881, 0.21985166, 0.8511185 , 0.89290224,\n",
       "        0.44649466, 0.2976631 , 0.32393816, 0.43970331, 0.29313554,\n",
       "        0.57583574, 0.22322556, 0.31916944, 0.58632739, 0.92418016,\n",
       "        0.29763408, 0.22743254, 0.44645112, 0.90963977, 0.30324338,\n",
       "        0.45486507, 0.32390761, 0.43191755, 0.23104504, 0.22740994,\n",
       "        0.87949108, 0.42555925, 0.59532621, 1.60710765, 0.32980915,\n",
       "        0.46209008, 0.58627108, 0.30806005, 0.86375361, 0.45481989,\n",
       "        0.30321326, 0.23102172, 0.9240869 , 0.30802897, 0.46204345,\n",
       "        0.33487099, 0.60648676, 0.32977748, 0.59526816, 0.43187681,\n",
       "        0.43974554, 0.89298931, 0.87940662, 0.33483834, 0.61612011,\n",
       "        0.3411488 , 0.60642652, 0.90973014, 0.44649466, 0.43970331,\n",
       "        0.34656756, 0.61605793, 0.34111492, 0.89290224, 0.34653259,\n",
       "        0.92418016, 0.45486507, 0.44645112, 0.90963977, 0.46209008,\n",
       "        0.45481989, 0.9240869 , 0.46204345]))"
      ]
     },
     "execution_count": 1168,
     "metadata": {},
     "output_type": "execute_result"
    }
   ],
   "source": [
    "Pi_6,Pi_11"
   ]
  },
  {
   "cell_type": "code",
   "execution_count": 1169,
   "metadata": {},
   "outputs": [],
   "source": [
    "import scipy.integrate as integrate\n",
    "DTT = np.zeros(len(dT_mg))\n",
    "for i in range(len(dT_mg)):\n",
    "    T_int = np.arange(T_c[i],T_h[i]+0.01,0.1)\n",
    "    dT_med = (dT_mg + dT_dmg)/2\n",
    "    DTT[i] = integrate.simps(dT_med[i]*np.log(1+dT_med[i]/T_int),T_int)"
   ]
  },
  {
   "cell_type": "code",
   "execution_count": 1170,
   "metadata": {},
   "outputs": [],
   "source": [
    "DT_ad = np.log((dT_mg + T_h)/T_c)*dT_mg\n",
    "Pi_6 = ((m_f)*c_f)/(m_s*C_L*f)\n",
    "Pi_7 = (T_h-T_c)/(dT_dmg)\n",
    "\n",
    "Pi_11 = ((m_f)*c_f)/(m_s*C_H*f)\n",
    "Pi_12 = dT_dmg/dT_mg"
   ]
  },
  {
   "cell_type": "code",
   "execution_count": 1325,
   "metadata": {},
   "outputs": [],
   "source": [
    "def fit_sim(X,a,b,c,d,e,f): \n",
    "    P1,P2,P3= X\n",
    "    return ((a*P1**b+c*(P2)**d)*P3**e)"
   ]
  },
  {
   "cell_type": "code",
   "execution_count": 1326,
   "metadata": {},
   "outputs": [
    {
     "data": {
      "text/plain": [
       "[<matplotlib.lines.Line2D at 0x223ab593f98>]"
      ]
     },
     "execution_count": 1326,
     "metadata": {},
     "output_type": "execute_result"
    },
    {
     "data": {
      "image/png": "[encoded data removed]",
      "text/plain": [
       "<Figure size 432x288 with 1 Axes>"
      ]
     },
     "metadata": {
      "needs_background": "light"
     },
     "output_type": "display_data"
    }
   ],
   "source": [
    "plt.plot(dT_mg,'o')"
   ]
  },
  {
   "cell_type": "code",
   "execution_count": 1327,
   "metadata": {},
   "outputs": [],
   "source": [
    "Pi_10 = W_m/(m_s*f*(C_L-C_H)*(T_h - T_c))"
   ]
  },
  {
   "cell_type": "code",
   "execution_count": 1463,
   "metadata": {},
   "outputs": [],
   "source": [
    "K = (C_L-C_H)*(T_h - T_c)"
   ]
  },
  {
   "cell_type": "code",
   "execution_count": 1464,
   "metadata": {},
   "outputs": [],
   "source": [
    "a = 500\n",
    "b = 1500"
   ]
  },
  {
   "cell_type": "code",
   "execution_count": 1470,
   "metadata": {
    "scrolled": false
   },
   "outputs": [
    {
     "data": {
      "text/plain": [
       "(array([-1.06642103e-06,  2.84447767e-01,  1.05676429e-06,  3.33942592e-01,\n",
       "         1.95447399e+00,  1.00000000e+00]),\n",
       " array([[inf, inf, inf, inf, inf, inf],\n",
       "        [inf, inf, inf, inf, inf, inf],\n",
       "        [inf, inf, inf, inf, inf, inf],\n",
       "        [inf, inf, inf, inf, inf, inf],\n",
       "        [inf, inf, inf, inf, inf, inf],\n",
       "        [inf, inf, inf, inf, inf, inf]]))"
      ]
     },
     "execution_count": 1470,
     "metadata": {},
     "output_type": "execute_result"
    }
   ],
   "source": [
    "Coef_sim = curve_fit(fit_sim,(Pi_6[a:b],Pi_11[a:b],K[a:b]),Pi_10[a:b],maxfev=10000000)\n",
    "Coef_sim"
   ]
  },
  {
   "cell_type": "code",
   "execution_count": 1472,
   "metadata": {},
   "outputs": [],
   "source": [
    "W_mag = fit_sim((Pi_6,Pi_11,K),Coef_sim[0][0],Coef_sim[0][1],Coef_sim[0][2],Coef_sim[0][3],Coef_sim[0][4],Coef_sim[0][5])"
   ]
  },
  {
   "cell_type": "code",
   "execution_count": 1473,
   "metadata": {},
   "outputs": [
    {
     "data": {
      "text/plain": [
       "[<matplotlib.lines.Line2D at 0x223a7d90860>]"
      ]
     },
     "execution_count": 1473,
     "metadata": {},
     "output_type": "execute_result"
    },
    {
     "data": {
      "image/png": "[encoded data removed]",
      "text/plain": [
       "<Figure size 432x288 with 1 Axes>"
      ]
     },
     "metadata": {
      "needs_background": "light"
     },
     "output_type": "display_data"
    }
   ],
   "source": [
    "plt.plot(W_mag[a:b],Pi_10[a:b],'o')"
   ]
  },
  {
   "cell_type": "code",
   "execution_count": 1474,
   "metadata": {},
   "outputs": [
    {
     "data": {
      "text/plain": [
       "[<matplotlib.lines.Line2D at 0x223a8121d68>]"
      ]
     },
     "execution_count": 1474,
     "metadata": {},
     "output_type": "execute_result"
    },
    {
     "data": {
      "image/png": "[encoded data removed]",
      "text/plain": [
       "<Figure size 432x288 with 1 Axes>"
      ]
     },
     "metadata": {
      "needs_background": "light"
     },
     "output_type": "display_data"
    }
   ],
   "source": [
    "plt.plot(Pi_6[a:b],Pi_10[a:b],'o')"
   ]
  },
  {
   "cell_type": "code",
   "execution_count": 1475,
   "metadata": {},
   "outputs": [],
   "source": [
    "a = 500\n",
    "b = 1500"
   ]
  },
  {
   "cell_type": "code",
   "execution_count": 1480,
   "metadata": {},
   "outputs": [],
   "source": [
    "Error = abs(Q_c[a:b] - fit_int((Q_pas_CB[a:b],Q_act_CB[a:b],Q_span[a:b],W_mag[a:b],W_p[a:b]),Coef[0][0],Coef[0][1],Coef[0][2],Coef[0][3],Coef[0][4]))/(Q_c[a:b])*100\n",
    "Error_h = abs(Q_h[a:b] - fit_int_h((Q_pas_HB[a:b],Q_act_HB[a:b],Q_span[a:b],W_mag[a:b],W_p[a:b]),Coef_h[0][0],Coef_h[0][1],Coef_h[0][2],Coef_h[0][3],Coef_h[0][4]))/(Q_h[a:b])*100\n",
    "Error_sim = abs(Pi_10[a:b] - fit_sim((Pi_6[a:b],Pi_11[a:b],K[a:b]),Coef_sim[0][0],Coef_sim[0][1],Coef_sim[0][2],Coef_sim[0][3],Coef_sim[0][4],Coef_sim[0][5]))/(Pi_10[a:b])*100"
   ]
  },
  {
   "cell_type": "code",
   "execution_count": 1481,
   "metadata": {
    "scrolled": false
   },
   "outputs": [
    {
     "data": {
      "image/png": "[encoded data removed]",
      "text/plain": [
       "<Figure size 432x288 with 1 Axes>"
      ]
     },
     "metadata": {
      "needs_background": "light"
     },
     "output_type": "display_data"
    }
   ],
   "source": [
    "plt.plot(Q_h[a:b],Error_h,'s', label = '$\\dot{Q}_\\mathrm{h}$')\n",
    "plt.plot(Q_c[a:b],Error,'o',label ='$\\dot{Q}_\\mathrm{c}$' )\n",
    "#plt.plot(Pi_6[a:b],Error_sim,'o',label ='$\\dot{Q}_\\mathrm{c}$' )\n",
    "\n",
    "plt.grid()\n",
    "plt.xlabel('Numerical Cooling Capacity [W]')\n",
    "plt.ylabel('Error [\\%]')\n",
    "plt.legend()\n",
    "#plt.ylim(0,50)\n",
    "#plt.xlim(150,300)\n",
    "\n",
    "#plt.ylim([0,50])\n",
    "plt.savefig('Erro_Rest.png',format = 'png', dpi=500,bbox_inches='tight')\n",
    "plt.show()"
   ]
  },
  {
   "cell_type": "code",
   "execution_count": 1482,
   "metadata": {
    "scrolled": true
   },
   "outputs": [
    {
     "data": {
      "text/plain": [
       "[<matplotlib.lines.Line2D at 0x223addc7dd8>]"
      ]
     },
     "execution_count": 1482,
     "metadata": {},
     "output_type": "execute_result"
    },
    {
     "data": {
      "image/png": "[encoded data removed]",
      "text/plain": [
       "<Figure size 432x288 with 1 Axes>"
      ]
     },
     "metadata": {
      "needs_background": "light"
     },
     "output_type": "display_data"
    }
   ],
   "source": [
    "plt.plot(Q_c[a:b],Error_sim,'o')"
   ]
  },
  {
   "cell_type": "code",
   "execution_count": 1483,
   "metadata": {},
   "outputs": [
    {
     "data": {
      "text/plain": [
       "8.23293172690763"
      ]
     },
     "execution_count": 1483,
     "metadata": {},
     "output_type": "execute_result"
    }
   ],
   "source": [
    "K = 0\n",
    "for i in range(len(Error_sim)):\n",
    "    if Error_sim[i] > 13:\n",
    "        K = K+1\n",
    "K/len(Error_sim)*100"
   ]
  },
  {
   "cell_type": "code",
   "execution_count": 1414,
   "metadata": {},
   "outputs": [
    {
     "data": {
      "text/plain": [
       "[<matplotlib.lines.Line2D at 0x223aa9e3748>]"
      ]
     },
     "execution_count": 1414,
     "metadata": {},
     "output_type": "execute_result"
    },
    {
     "data": {
      "image/png": "[encoded data removed]",
      "text/plain": [
       "<Figure size 432x288 with 1 Axes>"
      ]
     },
     "metadata": {
      "needs_background": "light"
     },
     "output_type": "display_data"
    }
   ],
   "source": [
    "plt.plot(W_m[a:b],(m_s[a:b]*f[a:b]*CdT_dmg[a:b])*fit_sim((Pi_6[a:b],Pi_4[a:b],Pi_11[a:b]),Coef_sim[0][0],Coef_sim[0][1],Coef_sim[0][2],Coef_sim[0][3],Coef_sim[0][4],Coef_sim[0][5]),'o',label ='Integral' )"
   ]
  },
  {
   "cell_type": "code",
   "execution_count": 1244,
   "metadata": {},
   "outputs": [],
   "source": [
    "erro= np.arange(100,230,1)\n",
    "erro_h= np.arange(100,275,1)"
   ]
  },
  {
   "cell_type": "code",
   "execution_count": 1245,
   "metadata": {
    "scrolled": false
   },
   "outputs": [
    {
     "data": {
      "image/png": "[encoded data removed]",
      "text/plain": [
       "<Figure size 432x288 with 1 Axes>"
      ]
     },
     "metadata": {
      "needs_background": "light"
     },
     "output_type": "display_data"
    }
   ],
   "source": [
    "#plt.plot(Q_c[a:b],m_s[a:b]*f[a:b]*CdT_dmg[a:b]*fit_sim((Pi_6[a:b],Pi_4[a:b]),Coef_sim[0][0],Coef_sim[0][1],Coef_sim[0][2],Coef_sim[0][3]),'s', label = 'Similarity')\n",
    "plt.plot(Q_c[a:b],fit_int((Q_pas_CB[a:b],Q_act_CB[a:b],Q_span[a:b],W_mag[a:b],W_p[a:b]),Coef[0][0],Coef[0][1],Coef[0][2],Coef[0][3],Coef[0][4]),'o',label ='Integral' )\n",
    "plt.plot(erro,0.9*erro,'k--')\n",
    "plt.plot(erro,1.1*erro,'k--')\n",
    "plt.grid()\n",
    "plt.ylabel('Analytical Cooling Capacity [W]')\n",
    "plt.xlabel('Numerical Cooling Capacity [W]')\n",
    "plt.legend()\n",
    "\n",
    "plt.savefig('ErrorBar.png',format = 'png', dpi=500,bbox_inches='tight')\n",
    "plt.show()"
   ]
  },
  {
   "cell_type": "code",
   "execution_count": 1246,
   "metadata": {},
   "outputs": [
    {
     "data": {
      "image/png": "[encoded data removed]",
      "text/plain": [
       "<Figure size 432x288 with 1 Axes>"
      ]
     },
     "metadata": {
      "needs_background": "light"
     },
     "output_type": "display_data"
    }
   ],
   "source": [
    "#plt.plot(Q_c[a:b],m_s[a:b]*f[a:b]*CdT_dmg[a:b]*fit_sim((Pi_6[a:b],Pi_4[a:b]),Coef_sim[0][0],Coef_sim[0][1],Coef_sim[0][2],Coef_sim[0][3]),'s', label = 'Similarity')\n",
    "plt.plot(Q_h[a:b],fit_int((Q_pas_HB[a:b],Q_act_HB[a:b],Q_span[a:b],W_mag[a:b],W_p[a:b]),Coef_h[0][0],Coef_h[0][1],Coef_h[0][2],Coef_h[0][3],Coef_h[0][4]),'o',label ='Integral' )\n",
    "plt.plot(erro_h,0.9*erro_h,'k--')\n",
    "plt.plot(erro_h,1.1*erro_h,'k--')\n",
    "plt.grid()\n",
    "plt.ylabel('Analytical Cooling Capacity [W]')\n",
    "plt.xlabel('Numerical Cooling Capacity [W]')\n",
    "plt.legend()\n",
    "\n",
    "plt.savefig('ErrorBar.png',format = 'png', dpi=500,bbox_inches='tight')\n",
    "plt.show()"
   ]
  },
  {
   "cell_type": "code",
   "execution_count": null,
   "metadata": {},
   "outputs": [],
   "source": [
    "plt.plot(Q_c[a:b],m_s[a:b]*f[a:b]*CdT_dmg[a:b]*fit_sim((Pi_6[a:b],Pi_4[a:b]),Coef_sim[0][0],Coef_sim[0][1],Coef_sim[0][2],Coef_sim[0][3]),'o')\n",
    "plt.plot(erro,0.9*erro,'k--')\n",
    "plt.plot(erro,1.1*erro,'k--')\n",
    "plt.ylabel('Integral Cooling Capacity [W]')\n",
    "plt.xlabel('Numerical Cooling Capacity [W]')\n",
    "#plt.legend()\n",
    "plt.show()\n",
    "plt.savefig('X_l.pdf',format = 'pdf', dpi=500,bbox_inches='tight')"
   ]
  },
  {
   "cell_type": "code",
   "execution_count": null,
   "metadata": {
    "scrolled": true
   },
   "outputs": [],
   "source": [
    "plt.plot(Pi_6[0:72],Pi_10[0:72],'o',label = 'B = 1.1 T')\n",
    "plt.plot(Pi_6[72:144],Pi_10[72:144],'o',label = 'B = 1.3 T')\n",
    "plt.plot(Pi_6[144:216],Pi_10[144:216],'o',label = 'B = 1.5 T')\n",
    "plt.plot(Pi_6[216:288],Pi_10[216:288],'o',label = 'B = 1.6 T')\n",
    "plt.grid()\n",
    "plt.xlabel('$\\phi$ [-]')\n",
    "plt.ylabel('$\\dot{W}_\\mathrm{M}^*$ [-]')\n",
    "plt.legend()\n",
    "plt.show()"
   ]
  },
  {
   "cell_type": "code",
   "execution_count": null,
   "metadata": {},
   "outputs": [],
   "source": [
    "plt.plot(Pi_6[0:72],Pi_9[0:72],'o',label = 'B = 1.1 T')\n",
    "plt.plot(Pi_6[72:144],Pi_9[72:144],'o',label = 'B = 1.3 T')\n",
    "plt.plot(Pi_6[144:216],Pi_9[144:216],'o',label = 'B = 1.5 T')\n",
    "plt.plot(Pi_6[216:288],Pi_9[216:288],'o',label = 'B = 1.6 T')\n",
    "plt.grid()\n",
    "plt.xlabel('$\\phi$ [-]')\n",
    "plt.ylabel('$\\dot{Q}_\\mathrm{H}^*$ [-]')\n",
    "plt.legend()\n",
    "plt.show()"
   ]
  },
  {
   "cell_type": "code",
   "execution_count": null,
   "metadata": {},
   "outputs": [],
   "source": [
    "a = 0*72\n",
    "b = 4*72"
   ]
  },
  {
   "cell_type": "code",
   "execution_count": null,
   "metadata": {
    "scrolled": false
   },
   "outputs": [],
   "source": [
    "Coef_Wm = curve_fit(fitting_W,(Pi_6[a:b],Pi_4[a:b]),Pi_10[a:b],maxfev=10000)\n",
    "Coef_Wm"
   ]
  },
  {
   "cell_type": "code",
   "execution_count": null,
   "metadata": {
    "scrolled": false
   },
   "outputs": [],
   "source": [
    "plt.plot(Pi_6[a:b],Pi_8[a:b],'o')\n",
    "plt.plot(Pi_6[a:b],fitting((Pi_6[a:b],Pi_4[a:b]),Coef[0][0],Coef[0][1],Coef[0][2],Coef[0][3]),'o')"
   ]
  },
  {
   "cell_type": "code",
   "execution_count": null,
   "metadata": {
    "scrolled": true
   },
   "outputs": [],
   "source": [
    "plt.plot(Pi_6[a:b],Pi_9[a:b],'o')\n",
    "plt.plot(Pi_6[a:b],fitting((Pi_6[a:b],Pi_4[a:b]),Coef_Qh[0][0],Coef_Qh[0][1],Coef_Qh[0][2],Coef_Qh[0][3]),'o')"
   ]
  },
  {
   "cell_type": "code",
   "execution_count": null,
   "metadata": {
    "scrolled": true
   },
   "outputs": [],
   "source": [
    "plt.plot(Pi_6[a:b],Pi_10[a:b],'o')\n",
    "plt.plot(Pi_6[a:b],fitting_W((Pi_6[a:b],Pi_4[a:b]),Coef_Wm[0][0],Coef_Wm[0][1],Coef_Wm[0][2],0,Coef_Wm[0][4]),'o')"
   ]
  },
  {
   "cell_type": "code",
   "execution_count": null,
   "metadata": {},
   "outputs": [],
   "source": [
    "erro1 = abs((Pi_8 - fitting((Pi_6[a:b],Pi_4[a:b]),Coef[0][0],Coef[0][1],Coef[0][2],Coef[0][3]))/Pi_8*100)\n",
    "erro2 = abs((Pi_9 - fitting((Pi_6[a:b],Pi_4[a:b]),Coef_Qh[0][0],Coef_Qh[0][1],Coef_Qh[0][2],Coef_Qh[0][3]))/Pi_9*100)\n",
    "erro3 = abs((Pi_10 - fitting_W((Pi_6[a:b],Pi_4[a:b]),Coef_Wm[0][0],Coef_Wm[0][1],Coef_Wm[0][2],Coef_Wm[0][3],Coef_Wm[0][4]))/Pi_10*100)\n",
    "j=0\n",
    "h=0\n",
    "k=0\n",
    "for i in range(len(erro1)):\n",
    "    if erro1[i] >= 10:\n",
    "        j = j+1\n",
    "    if erro2[i] >= 10:\n",
    "        h = h+1\n",
    "    if erro3[i] >= 10:\n",
    "        k = k+1\n",
    "j/len(erro1),h/len(erro2),k/len(erro3)"
   ]
  },
  {
   "cell_type": "code",
   "execution_count": null,
   "metadata": {
    "scrolled": true
   },
   "outputs": [],
   "source": [
    "plt.plot(Pi_6,Q_c,'o')"
   ]
  },
  {
   "cell_type": "code",
   "execution_count": null,
   "metadata": {
    "scrolled": true
   },
   "outputs": [],
   "source": [
    "plt.plot(Pi_6,erro1,'o')\n",
    "plt.ylim([0,25])"
   ]
  },
  {
   "cell_type": "code",
   "execution_count": null,
   "metadata": {
    "scrolled": true
   },
   "outputs": [],
   "source": [
    "plt.plot(Pi_6,erro1,'o',label = '$\\dot{Q}_\\mathrm{C}$')\n",
    "plt.plot(Pi_6,erro2,'o',label = '$\\dot{Q}_\\mathrm{H}$')\n",
    "plt.plot(Pi_6,erro3,'o',label = '$\\dot{W}_\\mathrm{M}$')\n",
    "plt.ylim(0,30)\n",
    "plt.xlabel('$\\phi$ [-]')\n",
    "plt.legend()\n",
    "plt.ylabel('Error [$\\%$]')\n",
    "plt.grid()"
   ]
  },
  {
   "cell_type": "code",
   "execution_count": null,
   "metadata": {},
   "outputs": [],
   "source": [
    "plt.plot(Pi_6,erro3,'o')"
   ]
  },
  {
   "cell_type": "code",
   "execution_count": null,
   "metadata": {},
   "outputs": [],
   "source": [
    "plt.plot(Pi_8,fitting((Pi_6,Pi_7),Coef[0][0],Coef[0][1],Coef[0][2]),'o')\n",
    "plt.plot(Pi_8,0.9*Pi_8)\n",
    "plt.plot(Pi_8,1.1*Pi_8)\n",
    "plt.grid()"
   ]
  },
  {
   "cell_type": "code",
   "execution_count": null,
   "metadata": {},
   "outputs": [],
   "source": [
    "error_bar = np.arange(0,700)"
   ]
  },
  {
   "cell_type": "code",
   "execution_count": null,
   "metadata": {},
   "outputs": [],
   "source": [
    "K = (m_s*f*CdT_dmg)\n",
    "plt.plot(Pi_8[0:72]*K[0:72],K[0:72]*fitting((Pi_6[0:72],Pi_4[0:72]),Coef[0][0],Coef[0][1],Coef[0][2],Coef[0][3]),'o', label = 'B = 1.1 T')\n",
    "plt.plot(Pi_8[72:2*72]*K[72:2*72],K[72:2*72]*fitting((Pi_6[72:2*72],Pi_4[72:2*72]),Coef[0][0],Coef[0][1],Coef[0][2],Coef[0][3]),'X', label = 'B = 1.3 T')\n",
    "plt.plot(Pi_8[2*72:3*72]*K[2*72:3*72],K[2*72:3*72]*fitting((Pi_6[2*72:3*72],Pi_4[2*72:3*72]),Coef[0][0],Coef[0][1],Coef[0][2],Coef[0][3]),'s', label = 'B = 1.5 T')\n",
    "plt.plot(Pi_8[3*72:4*72]*K[3*72:4*72],K[3*72:4*72]*fitting((Pi_6[3*72:4*72],Pi_4[3*72:4*72]),Coef[0][0],Coef[0][1],Coef[0][2],Coef[0][3]),'^', label = 'B = 1.6 T')\n",
    "plt.plot(error_bar,0.92*error_bar,'k--')\n",
    "plt.plot(error_bar,1.08*error_bar,'k--')\n",
    "plt.text(100,80,'- 8\\%')\n",
    "plt.text(80,110,'+ 8\\%')\n",
    "\n",
    "\n",
    "plt.xlabel('Numerical Cooling Capacity [W]')\n",
    "plt.ylabel('Fitting Cooling Capacity [W]')\n",
    "\n",
    "plt.grid()\n",
    "plt.legend()\n",
    "plt.xlim(0,180)\n",
    "plt.ylim(0,180)"
   ]
  },
  {
   "cell_type": "code",
   "execution_count": null,
   "metadata": {},
   "outputs": [],
   "source": [
    "plt.plot((Pi_9*K)[0:72],K[0:72]*fitting((Pi_6[0:72],Pi_4[0:72]),Coef_Qh[0][0],Coef_Qh[0][1],Coef_Qh[0][2],Coef_Qh[0][3]),'o', label = 'B = 1.1 T')\n",
    "plt.plot((Pi_9*K)[72:2*72],K[72:144]*fitting((Pi_6[72:2*72],Pi_4[72:2*72]),Coef_Qh[0][0],Coef_Qh[0][1],Coef_Qh[0][2],Coef_Qh[0][3]),'X', label = 'B = 1.3 T')\n",
    "plt.plot((Pi_9*K)[2*72:3*72],K[144:216]*fitting((Pi_6[2*72:3*72],Pi_4[2*72:3*72]),Coef_Qh[0][0],Coef_Qh[0][1],Coef_Qh[0][2],Coef_Qh[0][3]),'s', label = 'B = 1.5 T')\n",
    "plt.plot((Pi_9*K)[3*72:4*72],K[216:288]*fitting((Pi_6[3*72:4*72],Pi_4[3*72:4*72]),Coef_Qh[0][0],Coef_Qh[0][1],Coef_Qh[0][2],Coef_Qh[0][3]),'^', label = 'B = 1.6 T')\n",
    "plt.plot(error_bar,0.9*error_bar,'k--')\n",
    "plt.plot(error_bar,1.1*error_bar,'k--')\n",
    "plt.text(300,230,'- 10\\%')\n",
    "plt.text(250,350,'+ 10\\%')\n",
    "\n",
    "\n",
    "plt.xlabel('Numerical Rejected Heat [W]')\n",
    "plt.ylabel('Fitting Rejected Heat [W]')\n",
    "\n",
    "plt.grid()\n",
    "plt.legend()\n",
    "plt.xlim(20,550)\n",
    "plt.ylim(20,550)"
   ]
  },
  {
   "cell_type": "code",
   "execution_count": null,
   "metadata": {},
   "outputs": [],
   "source": [
    "plt.plot((Pi_10*K)[0:72],K[0:72]*fitting_W((Pi_6[0:72],Pi_4[0:72]),Coef_Wm[0][0],Coef_Wm[0][1],Coef_Wm[0][2],Coef_Wm[0][3],Coef_Wm[0][4]),'o', label = 'B = 1.1 T')\n",
    "plt.plot((Pi_10*K)[72:2*72],K[72:144]*fitting_W((Pi_6[72:2*72],Pi_4[72:2*72]),Coef_Wm[0][0],Coef_Wm[0][1],Coef_Wm[0][2],Coef_Wm[0][3],Coef_Wm[0][4]),'X', label = 'B = 1.3 T')\n",
    "plt.plot((Pi_10*K)[2*72:3*72],K[144:216]*fitting_W((Pi_6[2*72:3*72],Pi_4[2*72:3*72]),Coef_Wm[0][0],Coef_Wm[0][1],Coef_Wm[0][2],Coef_Wm[0][3],Coef_Wm[0][4]),'s', label = 'B = 1.5 T')\n",
    "plt.plot((Pi_10*K)[3*72:4*72],K[216:288]*fitting_W((Pi_6[3*72:4*72],Pi_4[3*72:4*72]),Coef_Wm[0][0],Coef_Wm[0][1],Coef_Wm[0][2],Coef_Wm[0][3],Coef_Wm[0][4]),'^', label = 'B = 1.6 T')\n",
    "plt.plot(error_bar,0.9*error_bar,'k--')\n",
    "plt.plot(error_bar,1.1*error_bar,'k--')\n",
    "plt.text(40,31.5,'- 8\\%')\n",
    "plt.text(31.5,45,'+ 8\\%')\n",
    "\n",
    "\n",
    "plt.xlabel('Numerical Magnetic Work[W]')\n",
    "plt.ylabel('Fitting Magnetic Work [W]')\n",
    "\n",
    "plt.grid()\n",
    "plt.legend()\n",
    "plt.xlim(5,70)\n",
    "plt.ylim(5,70)"
   ]
  },
  {
   "cell_type": "code",
   "execution_count": null,
   "metadata": {},
   "outputs": [],
   "source": []
  }
 ],
 "metadata": {
  "kernelspec": {
   "display_name": "Python 3",
   "language": "python",
   "name": "python3"
  },
  "language_info": {
   "codemirror_mode": {
    "name": "ipython",
    "version": 3
   },
   "file_extension": ".py",
   "mimetype": "text/x-python",
   "name": "python",
   "nbconvert_exporter": "python",
   "pygments_lexer": "ipython3",
   "version": "3.7.3"
  }
 },
 "nbformat": 4,
 "nbformat_minor": 2
}
