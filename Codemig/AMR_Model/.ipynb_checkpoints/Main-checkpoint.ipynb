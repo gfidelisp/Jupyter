{
 "cells": [
  {
   "cell_type": "code",
   "execution_count": 1,
   "metadata": {},
   "outputs": [],
   "source": [
    "from numpy import *\n",
    "from scipy import *\n",
    "import numpy as np\n",
    "from matplotlib import *\n",
    "\n",
    "from scipy import integrate\n",
    "from scipy import interpolate\n",
    "from scipy.optimize import curve_fit\n",
    "import matplotlib.pyplot as plt\n",
    "\n",
    "import xlrd\n",
    "\n",
    "rc('text',usetex = True)\n",
    "rc('font', family='serif',size = 12)"
   ]
  },
  {
   "cell_type": "code",
   "execution_count": 2,
   "metadata": {},
   "outputs": [],
   "source": [
    "def Properties(C,dT,B_exp,K,B_l_int,B_h_int,T,N_ml): #Get the properties on the low and high field\n",
    "\n",
    "    C_l = zeros([N_ml,len(T)])\n",
    "    C_h = zeros([N_ml,len(T)])\n",
    "    dT_l = zeros([N_ml,len(T)])\n",
    "    dT_h = zeros([N_ml,len(T)])\n",
    "    \n",
    "\n",
    "    for i in range(K):\n",
    "        #print(B_exp[i],B_h_int)\n",
    "        if B_exp[i] == B_l_int:\n",
    "            for j in range(N_ml):\n",
    "                C_l[j][i]=C[j,i]\n",
    "                dT_l[j][i]=dT[j,i]\n",
    "\n",
    "        if B_exp[i] == B_h_int and B_exp[i-1]< B_h_int:\n",
    "            A = i\n",
    "        if B_exp[i] == B_h_int:\n",
    "            for j in range(N_ml):\n",
    "                C_h[j][i-A]=C[j,i]\n",
    "                dT_h[j][i-A]=dT[j,i]\n",
    "                \n",
    "    return(C_l,C_h,dT_l,dT_h)"
   ]
  },
  {
   "cell_type": "code",
   "execution_count": 3,
   "metadata": {},
   "outputs": [],
   "source": [
    "def SubMetrics(Th,Tc,T_l,T_layer,L_layer,C_h,C_l,dT_ad,dT_ad_d):\n",
    "\n",
    "    #Th = 312\n",
    "    #Tc = 282\n",
    "\n",
    "    C_mag = []\n",
    "    C_dmag = []\n",
    "    dT_mag = []\n",
    "    dT_dmag = []\n",
    "\n",
    "    T_int = np.arange(Tc,Th+0.01,0.1)\n",
    "\n",
    "\n",
    "    #T_layer = np.arange(282,310.1,30/(15))\n",
    "    #L_layer = (100/len(T_layer))*ones(len(T_layer))\n",
    "    N_l = len(T_layer)\n",
    "\n",
    "    A = np.int((Tc - min(T_exp))/0.1)\n",
    "\n",
    "\n",
    "\n",
    "    T_t = []\n",
    "    L = 0\n",
    "\n",
    "    for i in range(N_l):\n",
    "        L = L + L_layer[i]\n",
    "        T_tr = Tc + 0.001 +L/100*(Th-Tc)\n",
    "        T_t.append(T_tr)\n",
    "    \n",
    "    \n",
    "    k = 0    \n",
    "    for i in range (len(T_int)):\n",
    "        #print(T_int[i])\n",
    "        if T_int[i] <=T_t[k]:\n",
    "            #print(T_int[i],T_t[k])\n",
    "            for j in range(len(T_l)):\n",
    "                #print(T_layer[k],T_l[j])\n",
    "                if T_layer[k] >= T_l[j] and T_layer[k] < T_l[j+1]:\n",
    "                    #print('Hello')\n",
    "                    #print(T_int[i],T_t[k],T_layer[k],T_l[j],T_l[j+1])\n",
    "                    C_mag.append(C_h[j+1][int(i+A)]-(C_h[j+1][int(i+A)]-C_h[j][int(i+A)])*(T_l[j+1]-T_layer[k])/(T_l[j+1]-T_l[j]))\n",
    "                    C_dmag.append(C_l[j+1][int(i+A)]-(C_l[j+1][int(i+A)]-C_l[j][int(i+A)])*(T_l[j+1]-T_layer[k])/(T_l[j+1]-T_l[j]))\n",
    "                    dT_mag.append(dT_ad[j+1][int(i+A)]-(dT_ad[j+1][int(i+A)]-dT_ad[j][int(i+A)])*(T_l[j+1]-T_layer[k])/(T_l[j+1]-T_l[j]))\n",
    "                    dT_dmag.append(dT_ad_d[j+1][int(i+A)]-(dT_ad_d[j+1][int(i+A)]-dT_ad_d[j][int(i+A)])*(T_l[j+1]-T_layer[k])/(T_l[j+1]-T_l[j]))\n",
    "                    #print(T_int[i],C_h[j+1][int(i+A)],C_h[j][int(i+A)],(C_h[j+1][int(i+A)]-(C_h[j+1][int(i+A)]-C_h[j][int(i+A)])*(T_l[j+1]-T_layer[k])/(T_l[j+1]-T_l[j])))\n",
    "        else:\n",
    "            for j in range(len(T_l)):\n",
    "                if T_layer[k+1] >= T_l[j] and T_layer[k+1] < T_l[j+1]:\n",
    "                    C_mag.append(C_h[j][int(i+A)]+(C_h[j+1][int(i+A)]-C_h[j][int(i+A)])*(T_layer[k+1]-T_l[j])/(T_l[j+1]-T_l[j]))\n",
    "                    C_dmag.append(C_l[j][int(i+A)]+(C_l[j+1][int(i+A)]-C_l[j][int(i+A)])*(T_layer[k+1]-T_l[j])/(T_l[j+1]-T_l[j]))\n",
    "                    dT_mag.append(dT_ad[j][int(i+A)]+(dT_ad[j+1][int(i+A)]-dT_ad[j][int(i+A)])*(T_layer[k+1]-T_l[j])/(T_l[j+1]-T_l[j]))\n",
    "                    dT_dmag.append(dT_ad_d[j][int(i+A)]+(dT_ad_d[j+1][int(i+A)]-dT_ad_d[j][int(i+A)])*(T_layer[k+1]-T_l[j])/(T_l[j+1]-T_l[j]))\n",
    "                    #print(T_int[i],C_h[j+1][int(i+A)],C_h[j][int(i+A)],T_l[j+1],T_l[j],T_layer[k],(C_h[j+1][int(i+A)]-(C_h[j+1][int(i+A)]-C_h[j][int(i+A)])*(T_l[j+1]-T_layer[k])/(T_l[j+1]-T_l[j])))\n",
    "            k = k + 1\n",
    "\n",
    "            \n",
    "    return (C_mag,C_dmag,dT_mag,dT_dmag)"
   ]
  },
  {
   "cell_type": "code",
   "execution_count": 4,
   "metadata": {},
   "outputs": [],
   "source": [
    "def Parameters(C_mag,C_dmag,dT_mag,dT_dmag,T_int):\n",
    "\n",
    "    C_mag_mean   = integrate.simps(C_mag,T_int)/(max(T_int)-min(T_int))\n",
    "    C_dmag_mean  = integrate.simps(C_dmag,T_int)/(max(T_int)-min(T_int))\n",
    "    \n",
    "    dT_mag_mean  = integrate.simps(dT_mag,T_int)/(max(T_int)-min(T_int))\n",
    "    dT_dmag_mean = integrate.simps(dT_dmag,T_int)/(max(T_int)-min(T_int))\n",
    "    \n",
    "    CdT_mag_mean   = integrate.simps(np.array(C_mag)*np.array(dT_mag),T_int)/(max(T_int)-min(T_int))\n",
    "    CdT_dmag_mean  = integrate.simps(np.array(C_dmag)*np.array(dT_dmag),T_int)/(max(T_int)-min(T_int))\n",
    "    return C_mag_mean, C_dmag_mean, dT_mag_mean,dT_dmag_mean,CdT_mag_mean,CdT_dmag_mean"
   ]
  },
  {
   "cell_type": "code",
   "execution_count": 5,
   "metadata": {},
   "outputs": [],
   "source": [
    "def Metrics (SpecHeat,dTad,B_l_int,B_h_int,T_arg,N_ml,Th,Tc,T_l,T_layer,L_layer):\n",
    "    (C_l,C_h,dT_l,dT_h) = Properties(C,dT,np.round(B_exp,2),K,B_l_int,B_h_int,T_arg,N_ml) #Properties of low and high fields\n",
    "    dT_ad = np.array(dT_h)-np.array(dT_l)\n",
    "             \n",
    "    T_dem = zeros([N_ml,len(T_arg)])\n",
    "    for j in range(N_ml):\n",
    "        T_dem[j] = T_arg + dT_ad[j]\n",
    "             \n",
    "    dT_ad_d = np.zeros([N_ml,len(T_arg)])\n",
    "    for i in range(N_ml):\n",
    "        for j in range(len(T_arg)):\n",
    "            for k in range(len(T_dem[i])):\n",
    "                if  T_arg[j] > T_dem[i][k] and T_arg[j] <= T_dem[i][k+1]:\n",
    "                    dT_ad_d[i][j] = (dT_ad[i][k] + (T_arg[j] - T_dem[i][k])*(dT_ad[i][k+1]-dT_ad[i][k])/(T_arg[k+1]-T_arg[k]))\n",
    "\n",
    "    (C_mag,C_dmag,dT_mag,dT_dmag) = SubMetrics(Th,Tc,T_l,T_layer,L_layer,C_h,C_l,dT_ad,dT_ad_d)\n",
    "    \n",
    "    T_int = np.arange(Tc,Th+0.01,0.1)\n",
    "    \n",
    "    C_mag_mean, C_dmag_mean, dT_mag_mean,dT_dmag_mean,CdT_mag_mean,CdT_dmag_mean = Parameters(C_mag,C_dmag,dT_mag,dT_dmag,T_int)\n",
    "    \n",
    "    return C_mag_mean, C_dmag_mean, dT_mag_mean,dT_dmag_mean,CdT_mag_mean,CdT_dmag_mean"
   ]
  },
  {
   "cell_type": "markdown",
   "metadata": {},
   "source": [
    "HEx inputs"
   ]
  },
  {
   "cell_type": "code",
   "execution_count": 6,
   "metadata": {},
   "outputs": [],
   "source": [
    "def fan(V,a,b,c):\n",
    "    P = a*V**2+b*V + c\n",
    "    return P"
   ]
  },
  {
   "cell_type": "code",
   "execution_count": 7,
   "metadata": {},
   "outputs": [],
   "source": [
    "N_r = 3\n",
    "N_l = 4\n",
    "Xt = 0.2\n",
    "Xl = 0.3\n",
    "L2 = N_r*Xl\n",
    "L3 = Xt*N_l"
   ]
  },
  {
   "cell_type": "code",
   "execution_count": 8,
   "metadata": {},
   "outputs": [
    {
     "data": {
      "text/plain": [
       "(0.8999999999999999, 0.8)"
      ]
     },
     "execution_count": 8,
     "metadata": {},
     "output_type": "execute_result"
    }
   ],
   "source": [
    "L2,L3"
   ]
  },
  {
   "cell_type": "code",
   "execution_count": 9,
   "metadata": {},
   "outputs": [],
   "source": [
    "if N_r%2 == 0:\n",
    "    arranjo = 2\n",
    "else:\n",
    "    arranjo = 1\n",
    "\n",
    "if arranjo == 0:\n",
    "    N_t = L2*L3/(Xt*Xl)\n",
    "elif arranjo == 1:\n",
    "    N_t = (L3/Xt)*(L2/Xl+1)/2 + (L3/Xt-1)*(L2/Xl-1)/2\n",
    "elif arranjo == 2:\n",
    "    N_t = 0.5*(L2/Xl)*(2*L3/Xt-1)"
   ]
  },
  {
   "cell_type": "code",
   "execution_count": 10,
   "metadata": {},
   "outputs": [
    {
     "data": {
      "text/plain": [
       "(1, 11.0)"
      ]
     },
     "execution_count": 10,
     "metadata": {},
     "output_type": "execute_result"
    }
   ],
   "source": [
    "arranjo,N_t"
   ]
  },
  {
   "cell_type": "code",
   "execution_count": 604,
   "metadata": {},
   "outputs": [],
   "source": [
    "def HEx(Xl,Xt,N_r,N_l,L1,Di,De,pf,xf,sigmaf,sigmah,pd,m_f,Nucleos):\n",
    "    \n",
    "    #Geometric definition\n",
    "    #Xt = 0.0381\n",
    "    #Xl = 0.033\n",
    "    \n",
    "    #N_r = 3\n",
    "    L2 = N_r*Xl\n",
    "    L3 = N_l*Xt\n",
    "    \n",
    "    #L2 = 0.033*4 #0.0215 #0.043\n",
    "      #0.125 #0.152\n",
    "\n",
    "    #Di = 0.01588 #694\n",
    "    #De = 0.0163 #794\n",
    "\n",
    "\n",
    "    \n",
    "    #pf = 1/Beta\n",
    "    #Nfin =100\n",
    "    #Beta = Nfin/L1   #Fin density [1/m]\n",
    "    \n",
    "    #pf = 5*10**-3\n",
    "    Beta = 1/pf\n",
    "    Nfin = Beta*L1\n",
    "    \n",
    "    #xf = 0.007\n",
    "    \n",
    "    #sigmaf = 0.00015\n",
    "    #sigmah = 0.0016\n",
    "    \n",
    "    #pd = 0.0018\n",
    "    \n",
    "    \n",
    "    \n",
    "    #Properties of air at 25ºC\n",
    "    \n",
    "    rho_a = 1.168      #[kg/m3] Density\n",
    "    mu_a  = 0.00001849 #[kg/(m.s)] Viscosity\n",
    "    cp_a  = 1004      #[kJ/kg.K] Specific heat\n",
    "    Pr_a  = 0.7281     #[-] Prandtl number\n",
    "    \n",
    "    #Properties of the wall\n",
    "    \n",
    "    k_w = 273 #[W/m.K] Thermal conductivity of the aluminum\n",
    "    \n",
    "    #Properties of the water\n",
    "    \n",
    "    rho_w = 997        #[kg/m3] Density (25ºC)\n",
    "    cp_w  = 4181       #[kJ/kg.K] Specific heat\n",
    "    mu_wc = 0.001138   #[kg/(m.s)] Viscosity in the cold line (15ºC)\n",
    "    mu_wh = 0.0007193  #[kg/(m.s)] Viscosity in the hot line (35ºC)\n",
    "    Pr_wc = 8.092      #[-] Prandtl number in the cold line (15ºC)\n",
    "    Pr_wh = 4.835      #[-] Prandtl number in the hot line  (35ºC)\n",
    "    k_wc = 0.5888      #[-] Thermal conductivity in the cold line (15ºC)\n",
    "    k_wh = 0.6217      #[-] Thermal conductivity in the hot line (35ºC)\n",
    "    \n",
    "    #Geometric calculation\n",
    "    \n",
    "    \n",
    "    # Arranjo == 0 - Inline arrangement\n",
    "    # Arranjo == 1 - Staggered Arrangement - Numero impar de fileiras - Última fila com o mesmo numero de tubos que a primeira\n",
    "    # Arranjo == 2 - Staggered Arrangement - Numero par de fileiras   - Última fila com um tubo a menos que a primeira\n",
    "    \n",
    "    \n",
    "    arranjo = 1\n",
    "    \n",
    "    N_t = N_r*N_l\n",
    "    \n",
    "    #print(L1,L2,L3,N_r,N_l,N_t,Nucleos)\n",
    "    \n",
    "    #if N_r%2 == 0:\n",
    "        #arranjo = 2\n",
    "    #else:\n",
    "        #arranjo = 1\n",
    "    \n",
    "       \n",
    "    #if arranjo == 0:\n",
    "        #N_t = L2*L3/(Xt*Xl)\n",
    "    #elif arranjo == 1:\n",
    "        #N_t = (L3/Xt)*(L2/Xl+1)/2 + (L3/Xt-1)*(L2/Xl-1)/2\n",
    "    #elif arranjo == 2:\n",
    "        #N_t = 0.5*(L2/Xl)*(2*L3/Xt-1)\n",
    "        \n",
    "    \n",
    "    dc = De + 2*sigmaf\n",
    "    \n",
    "    theta = np.arctan(pd/xf)\n",
    "\n",
    "\n",
    "    \n",
    "    \n",
    "    if arranjo  == 0:\n",
    "        A_min_o = ((Xt-De)*L1 - (Xt-De)*sigmaf*Beta*L1)*L3/Xt #Minimum free flow area\n",
    "    else:\n",
    "        a = ((Xt - De) - (Xt - De)*sigmaf*Beta)/2\n",
    "        b = ((Xt/2)**2+Xl**2)**0.5 - De - (Xt-De)*sigmaf*Beta\n",
    "        if a<b:\n",
    "            c = 2*a\n",
    "        else:\n",
    "            c = 2*b\n",
    "        A_min_o = ((L3/Xt-1)*c + (Xt-De)-(Xt-De)*sigmaf*Beta)*L1 #Minimum free flow area\n",
    "    \n",
    "    \n",
    "    A_fr = L1*L3 #Frontal area\n",
    "    sigma = A_min_o/A_fr\n",
    "    \n",
    "    \n",
    "    A_p = np.pi*De*(L1-sigmaf*Beta*L1)*N_t+2*(L2*L3 - np.pi*De**2*N_t/4) #Primary surface area  - exposed tubes and header plates\n",
    "    A_f = 2*(L2*L3-(np.pi*De**2/4)*N_t)*Beta*L1 + 2*L3*sigmaf*Beta*L1     #Secondary surface are - fin surface\n",
    "    A_s = A_p + A_f       #Total heat transfer area\n",
    "    A_t = np.pi*De*L1*N_t #External tube area\n",
    "    \n",
    "    sigma_o = (L3*L1 - L3*sigmaf*Beta*L1)/(L3*L1) #area concentration/expansion ratio\n",
    "    D_h = 4*A_min_o*L2/A_s #Hydraulic diameter\n",
    "    #print(D_h*1000,Beta,pf*1000)\n",
    "    #Correlation parameters\n",
    "    \n",
    "    c1 = -0.1707 - 1.374*((Xl/sigmaf)**(-0.493))*((pf/dc)**(-0.886))*((N_r)**(-0.143))*((pd/xf)**(-0.0296))\n",
    "    c2 = 0.1714 - 0.07372*((pf/Xl)**0.25)*(np.log(A_s/A_t))*((pd/xf)**(-0.2))\n",
    "    c3 = 0.426*((pf/Xt)**0.3)*(np.log(A_s/A_t))\n",
    "    \n",
    "    VFR = np.arange(1,2000,1)\n",
    "    dP_o = np.zeros(len(VFR))\n",
    "    Rt_o = np.zeros(len(VFR))\n",
    "    Re = np.zeros(len(VFR)) \n",
    "    for i in range(len(VFR)):\n",
    "        vazao = VFR[i]*0.00047194745\n",
    "        \n",
    "        u_air = vazao/(L1*L3)\n",
    "        u_max = u_air/sigma\n",
    "        \n",
    "        Re[i] = u_max*rho_a*dc/(mu_a)\n",
    "\n",
    "        \n",
    "        c4 = -10.2192/np.log(Re[i])\n",
    "        \n",
    "        \n",
    "        #Pressure drop correlation\n",
    "        f_o  = 0.05273*(Re[i]**c2)*((pd/xf)**c3)*((pf/Xt)**c4)*((np.log(A_s/A_t))**(-2.726))*(D_h/dc)**0.1325*((N_r)**0.02305)\n",
    "        \n",
    "        G_o = rho_a*u_max\n",
    "        \n",
    "        dP_o[i] = G_o**2/(2*rho_a)*((f_o)*(A_s/A_min_o))\n",
    "        #Coulburn factor\n",
    "        \n",
    "        j_o = 1.7910*((Re[i])**c1)*((Xl/sigmaf)**(-0.456))*((N_r)**(-0.27))*((pf/dc)**(-1.343))*((pd/xf)**0.317)\n",
    "        h_o = j_o*rho_a*u_max*cp_a*Pr_a**(-0.66666)\n",
    "        \n",
    "        #Fin efficiency\n",
    "        \n",
    "        m = ((2*h_o)/(k_w*sigmaf))**0.5\n",
    "        \n",
    "        Pm = Xt/2\n",
    "        Pl = (((Xt/2)**2+Xl**2)**0.5)/2\n",
    "        R_eq = 1.27*Pm*(Pl/Pm-0.3)**0.5\n",
    "        phi = (R_eq/(Di/2)-1)*(1+0.35*np.log(R_eq/(Di/2)))\n",
    "        eta = math.tanh(m*(Di/2)*phi)/(m*(Di/2)*phi)\n",
    "        eta_o = 1 - (A_f/A_s)*(1-eta)\n",
    "        \n",
    "        Rt_o[i] = 1/(eta_o*h_o*A_s)\n",
    "    \n",
    "    \n",
    "    \n",
    "    #Internal flow\n",
    "    \n",
    "    Lh=(L1+2*sigmah)*N_t\n",
    "    A_i = np.pi*Di*L1*N_t\n",
    "    A_min_i = np.pi*(Di**2)/4\n",
    "    G_i = m_f/A_min_i\n",
    "    \n",
    "    Re_ic = G_i*Di/mu_wc \n",
    "    Re_ih = G_i*Di/mu_wh\n",
    "    \n",
    "    A_c = (2.457*np.log(1/((7/Re_ic)**0.9+0.27*(0.0015*10**(-3)/Di))))**16\n",
    "    B_c = (37530/Re_ic)**16\n",
    "    \n",
    "    A_h = (2.457*np.log(1/((7/Re_ih)**0.9+0.27*(0.0015*10**(-3)/Di))))**16\n",
    "    B_h = (37530/Re_ih)**16\n",
    "    \n",
    "    f_c = (8*((8/Re_ic)**12 + (A_c + B_c)**(-3/2))**(1/12))/4\n",
    "    f_h = (8*((8/Re_ih)**12 + (A_h + B_h)**(-3/2))**(1/12))/4\n",
    "    \n",
    "    if Re_ih < 2300:\n",
    "        Nu_ih = 3.66\n",
    "    else:\n",
    "        Nu_ih = ((f_h/2)*(Re_ih-1000)*Pr_wh)/(1+12.7*((f_h/2)**0.5)*(Pr_wh**(2/3)-1))\n",
    "                                              \n",
    "    if Re_ic < 2300:\n",
    "        Nu_ic = 3.66\n",
    "    else:\n",
    "        Nu_ic = ((f_c/2)*(Re_ic-1000)*Pr_wc)/(1+12.7*((f_c/2)**0.5)*(Pr_wc**(2/3)-1))   \n",
    "    \n",
    "    \n",
    "    h_i_c = Nu_ic*k_wc/Di\n",
    "    h_i_h = Nu_ih*k_wh/Di\n",
    "       \n",
    "    #print(Nu_ic, h_i_c,f_c,Re_ic)    \n",
    "    \n",
    "    Rt_i_c = 1/(h_i_c*A_i)\n",
    "    Rt_i_h = 1/(h_i_h*A_i)\n",
    "    \n",
    "    K_bend = 26\n",
    "    dP_i_c = f_c*G_i**2*4*(Lh/Di+N_t*np.pi*Xt/2/Di + N_t*K_bend)/(2*rho_w)  #f_c*G_i**2*4*50/(2*rho_w)\n",
    "    dP_i_h = f_h*G_i**2*4*(Lh/Di+N_t*np.pi*Xt/2/Di + N_t*K_bend)/(2*rho_w) #f_c*G_i**2*4*50/(2*rho_w)\n",
    "    #http://hydroneng.com/pipelines/\n",
    "    #http://www.thermopedia.com/content/577/\n",
    "    #print(200*f_c,np.pi*Xt/2,Lh)\n",
    "                                              \n",
    "    W_p_c = dP_i_c*m_f/rho_w\n",
    "    W_p_h = dP_i_h*m_f/rho_w\n",
    "    \n",
    "    \n",
    "    #Performance metrics\n",
    "    \n",
    "    UA_h = (Rt_o+Rt_i_h)**-1\n",
    "    UA_c = (Rt_o+Rt_i_c)**-1\n",
    "    #print(UA_h,UA_c)\n",
    "    W_o = VFR*0.00047194745*dP_o/0.1\n",
    "    \n",
    "    NTU_c = UA_c/(VFR*0.00047194745*rho_a*cp_a)\n",
    "    NTU_h = UA_h/(VFR*0.00047194745*rho_a*cp_a)\n",
    "    \n",
    "    C_r = (VFR*0.00047194745*rho_a*cp_a)/(m_f*cp_w)\n",
    "    \n",
    "    if N_r == 1:\n",
    "        Eff_h = (1-np.exp(-C_r*(1-np.exp(-NTU_h))))/C_r\n",
    "        Eff_c = (1-np.exp(-C_r*(1-np.exp(-NTU_c))))/C_r\n",
    "    elif N_r == 2:\n",
    "        K = (1-np.exp(-NTU_h/2))\n",
    "        Eff_h = (1-np.exp(-2*K*C_r)*((1+C_r*K**2)))/C_r\n",
    "        K = (1-np.exp(-NTU_c/2))\n",
    "        Eff_c = (1-np.exp(-2*K*C_r)*((1+C_r*K**2)))/C_r\n",
    "    elif N_r == 3:\n",
    "        K = (1-np.exp(-NTU_h/3))\n",
    "        Eff_h = (1-np.exp(-3*K*C_r)*(1+C_r*K**2*(3-K)+3*C_r**2*K**4/2))/C_r\n",
    "        K = (1-np.exp(-NTU_c/3))\n",
    "        Eff_c = (1-np.exp(-3*K*C_r)*(1+C_r*K**2*(3-K)+3*C_r**2*K**4/2))/C_r\n",
    "    elif N_r ==4:\n",
    "        K = (1-np.exp(-NTU_h/4))\n",
    "        Eff_h = (1-np.exp(-4*K*C_r)*(1+C_r*K**2*(6-4*K+K**2)+4*C_r**2*K**4*(2-K)+8*C_r**3*K**6/3))/C_r\n",
    "        K = (1-np.exp(-NTU_c/4))\n",
    "        Eff_c = (1-np.exp(-4*K*C_r)*(1+C_r*K**2*(6-4*K+K**2)+4*C_r**2*K**4*(2-K)+8*C_r**3*K**6/3))/C_r\n",
    "    else:\n",
    "        Eff_h = 1 - np.exp(NTU_h**0.22*(np.exp(-C_r*NTU_h**0.78)-1)/C_r)\n",
    "        Eff_c = 1 - np.exp(NTU_c**0.22*(np.exp(-C_r*NTU_c**0.78)-1)/C_r)\n",
    "    \n",
    "    \n",
    "    \n",
    "    ECr_c = Eff_c*C_r\n",
    "    ECr_h = Eff_h*C_r\n",
    "    \n",
    "    #Fan\n",
    "    \n",
    "    #https://www.ebmpapst.com/en/products/axial-fans/axialfansdetail.php?pID=139216\n",
    "    #https://www.ebmpapst.com/en/products/axial-fans/axialfansdetail.php?pID=128164\n",
    "    \n",
    "    dP_low = np.array([37,35,30,22,11,0]) \n",
    "    V_low  = np.array([1000,1250,1500,1750,2000,2250])*0.588578/Nucleos\n",
    "    #V_low  = np.array([2500,2700,3000,3400,3700,4250])*0.588578/Nucleos\n",
    "    \n",
    "    #dP_v = np.array([0,7,20,32,40,47,54])\n",
    "    #V = np.array([2900,2750,2500,2250,2000,1750,1500])*0.588578\n",
    "    \n",
    "    \n",
    "    #https://www.coolstore.pl/data/links/14dfdc7caabd364370879f08e2576560/4244_370.pdf\n",
    "    #https://www.coolstore.pl/data/links/ebe5db23a298ac8d489ecac34f4111d0/4246_374.pdf\n",
    "    \n",
    "    dP_high = np.array([120,115,105,95,75,55,30,0])\n",
    "    V_high  = np.array([2000,1500,2000,2500,3000,3500,4000,4500])*0.588578\n",
    "    \n",
    "    Coef_fan_l = curve_fit(fan,V_low,dP_low,maxfev=10000)\n",
    "    Coef_fan_h = curve_fit(fan,V_high,dP_high,maxfev=1000)\n",
    "    \n",
    "    aux_low = fan(VFR,Coef_fan_l[0][0],Coef_fan_l[0][1],Coef_fan_l[0][2])-dP_o\n",
    "    Inter_low = np.abs(aux_low).argmin()\n",
    "    \n",
    "    \n",
    "    erro_dp = abs(dP_o[Inter_low] - fan(VFR[Inter_low],Coef_fan_l[0][0],Coef_fan_l[0][1],Coef_fan_l[0][2]))\n",
    "    \n",
    "    if erro_dp > 1:\n",
    "        print(dP_o[Inter_low],fan(VFR[Inter_low],Coef_fan_l[0][0],Coef_fan_l[0][1],Coef_fan_l[0][2]))\n",
    "    \n",
    "    aux_high = fan(VFR,Coef_fan_h[0][0],Coef_fan_h[0][1],Coef_fan_h[0][2])-dP_o\n",
    "    Inter_high = np.abs(aux_high).argmin() \n",
    "    \n",
    "    #print(UA_c[Inter_low],Eff_c[Inter_low],C_r[Inter_low],m_f*3600,VFR[Inter_low],VFR[Inter_low]*Nucleos)\n",
    "\n",
    "    return(W_o[Inter_low],ECr_c[Inter_low],ECr_h[Inter_low],dP_o[Inter_low],N_r,N_l,L1,pf,W_p_c,W_p_h,VFR[Inter_low],erro_dp,Eff_c[Inter_low],Eff_h[Inter_low])"
   ]
  },
  {
   "cell_type": "code",
   "execution_count": 572,
   "metadata": {},
   "outputs": [
    {
     "data": {
      "text/plain": [
       "506.6666666666667"
      ]
     },
     "execution_count": 572,
     "metadata": {},
     "output_type": "execute_result"
    }
   ],
   "source": [
    "#Nucleos = np.array([1,2,4,8,16])\n",
    "3040/Nucleos"
   ]
  },
  {
   "cell_type": "code",
   "execution_count": 605,
   "metadata": {},
   "outputs": [],
   "source": [
    "sigmaf = 0.00010 #0.00015\n",
    "sigmah = 0.00030 #0.0016\n",
    "pd = 0.0018\n",
    "\n",
    "Di = 0.0127\n",
    "De = 0.0137\n",
    "\n",
    "Nucleos = 6\n",
    "\n",
    "#De = np.array(0.0127,0.01588,(0.01588-0.0127)/2)\n",
    "#Di = De - 0.0015\n",
    "\n",
    "#N_circuitos = 10\n",
    "\n",
    "m_f = np.arange(4*450/3600/Nucleos,4*801/3600/Nucleos,4*5/3600/Nucleos) #3040/3600/Nucleos #\n",
    "\n",
    "#Xt = np.arange(31.75*10**-3,1.01*38.1*10**-3,(38.1*10**-3-31.75*10**-3)/2)\n",
    "\n",
    "Xt = (31.75*10**-3)\n",
    "\n",
    "#Xl = np.arange(27.5*10**-3,1.01*33*10**-3,(33*10**-3-27.5*10**-3)/2)\n",
    "\n",
    "Xl = 27.5*10**-3\n",
    "\n",
    "pf = np.array([2.1,3.175,5.08,6.3])*10**-3 #np.array([2.1,2.54,3.175,4.2333,5.08,6.3])*10**-3 #np.arange(2.1*10**-3,1.01*6.3*10**-3,(6.3*10**-3-2.1*10**-3)/5) #min = 2.98 mm\n",
    "\n",
    "N_r = np.arange(1,4.1,1)\n",
    "\n",
    "#N_r = 3\n",
    "\n",
    "N_l =[1,2]\n",
    "\n",
    "#N_l = 30\n",
    "L1  = np.arange(0.5,0.83,0.1)\n",
    "\n",
    "#L1 = 0.8\n",
    "#xf = np.arange(6.87*10**-3,1.01*8.25*10**-3,(8.25*10**-3-6.87*10**-3))\n",
    "\n",
    "xf = 7*10**-3\n",
    "#sigmaf = np.arange(0.00010,0.00021,0.00005)\n",
    "\n",
    "sigmaf = 0.15*10**-3"
   ]
  },
  {
   "cell_type": "code",
   "execution_count": 606,
   "metadata": {
    "scrolled": true
   },
   "outputs": [],
   "source": [
    "W_l = np.zeros([size(m_f),size(Xl),size(Xt),size(N_r),size(N_l),size(L1),size(pf),size(xf),size(sigmaf)])\n",
    "W_h = np.zeros([size(m_f),size(Xl),size(Xt),size(N_r),size(N_l),size(L1),size(pf),size(xf),size(sigmaf)])\n",
    "\n",
    "W_p_h = np.zeros([size(m_f),size(Xl),size(Xt),size(N_r),size(N_l),size(L1),size(pf),size(xf),size(sigmaf)])\n",
    "W_p_c = np.zeros([size(m_f),size(Xl),size(Xt),size(N_r),size(N_l),size(L1),size(pf),size(xf),size(sigmaf)])\n",
    "\n",
    "\n",
    "ECr_c_l = np.zeros([size(m_f),size(Xl),size(Xt),size(N_r),size(N_l),size(L1),size(pf),size(xf),size(sigmaf)])\n",
    "ECr_h_l = np.zeros([size(m_f),size(Xl),size(Xt),size(N_r),size(N_l),size(L1),size(pf),size(xf),size(sigmaf)])\n",
    "\n",
    "E_c = np.zeros([size(m_f),size(Xl),size(Xt),size(N_r),size(N_l),size(L1),size(pf),size(xf),size(sigmaf)])\n",
    "E_h = np.zeros([size(m_f),size(Xl),size(Xt),size(N_r),size(N_l),size(L1),size(pf),size(xf),size(sigmaf)])"
   ]
  },
  {
   "cell_type": "code",
   "execution_count": 607,
   "metadata": {},
   "outputs": [
    {
     "name": "stdout",
     "output_type": "stream",
     "text": [
      "9088\n"
     ]
    }
   ],
   "source": [
    "ECr_c_h = np.zeros([size(m_f),size(Xl),size(Xt),size(N_r),size(N_l),size(L1),size(pf),size(xf),size(sigmaf)])\n",
    "ECr_h_h = np.zeros([size(m_f),size(Xl),size(Xt),size(N_r),size(N_l),size(L1),size(pf),size(xf),size(sigmaf)])\n",
    "\n",
    "\n",
    "print(size(W_l))\n",
    "\n",
    "dP_o = np.zeros([size(m_f),size(Xl),size(Xt),size(N_r),size(N_l),size(L1),size(pf),size(xf),size(sigmaf)])\n",
    "Nr= np.zeros([size(m_f),size(Xl),size(Xt),size(N_r),size(N_l),size(L1),size(pf),size(xf),size(sigmaf)])\n",
    "Nl = np.zeros([size(m_f),size(Xl),size(Xt),size(N_r),size(N_l),size(L1),size(pf),size(xf),size(sigmaf)])\n",
    "L_1 = np.zeros([size(m_f),size(Xl),size(Xt),size(N_r),size(N_l),size(L1),size(pf),size(xf),size(sigmaf)])\n",
    "p_f = np.zeros([size(m_f),size(Xl),size(Xt),size(N_r),size(N_l),size(L1),size(pf),size(xf),size(sigmaf)])\n",
    "CFM = np.zeros([size(m_f),size(Xl),size(Xt),size(N_r),size(N_l),size(L1),size(pf),size(xf),size(sigmaf)])\n",
    "erro_dp = np.zeros([size(m_f),size(Xl),size(Xt),size(N_r),size(N_l),size(L1),size(pf),size(xf),size(sigmaf)])"
   ]
  },
  {
   "cell_type": "code",
   "execution_count": 608,
   "metadata": {
    "scrolled": true
   },
   "outputs": [
    {
     "name": "stdout",
     "output_type": "stream",
     "text": [
      "0.04401408450704226\n",
      "0.08802816901408451\n",
      "0.13204225352112675\n",
      "0.17605633802816903\n",
      "0.22007042253521128\n",
      "0.2640845070422535\n",
      "0.30809859154929575\n",
      "0.35211267605633806\n",
      "0.39612676056338025\n",
      "0.44014084507042256\n",
      "0.48415492957746475\n",
      "0.528169014084507\n",
      "0.5721830985915494\n",
      "0.6161971830985915\n",
      "0.6602112676056338\n",
      "0.7042253521126761\n",
      "0.7482394366197183\n",
      "0.7922535211267605\n",
      "0.8362676056338028\n",
      "0.8802816901408451\n",
      "0.9242957746478873\n",
      "0.9683098591549295\n",
      "1.012323943661972\n",
      "1.056338028169014\n",
      "1.1003521126760563\n",
      "1.1443661971830987\n",
      "1.1883802816901408\n",
      "1.232394366197183\n",
      "1.2764084507042255\n",
      "1.3204225352112675\n",
      "1.3644366197183098\n",
      "1.4084507042253522\n",
      "1.4524647887323943\n",
      "1.4964788732394365\n",
      "1.540492957746479\n",
      "1.584507042253521\n",
      "1.6285211267605633\n",
      "1.6725352112676055\n",
      "1.716549295774648\n",
      "1.7605633802816902\n",
      "1.8045774647887325\n",
      "1.8485915492957745\n",
      "1.8926056338028168\n",
      "1.936619718309859\n",
      "1.9806338028169015\n",
      "2.024647887323944\n",
      "2.068661971830986\n",
      "2.112676056338028\n",
      "2.1566901408450705\n",
      "2.2007042253521125\n",
      "2.244718309859155\n",
      "2.2887323943661975\n",
      "2.3327464788732395\n",
      "2.3767605633802815\n",
      "2.420774647887324\n",
      "2.464788732394366\n",
      "2.5088028169014085\n",
      "2.552816901408451\n",
      "2.596830985915493\n",
      "2.640845070422535\n",
      "2.6848591549295775\n",
      "2.7288732394366195\n",
      "2.772887323943662\n",
      "2.8169014084507045\n",
      "2.8609154929577465\n",
      "2.9049295774647885\n",
      "2.948943661971831\n",
      "2.992957746478873\n",
      "3.0369718309859155\n",
      "3.080985915492958\n",
      "3.125\n",
      "3.169014084507042\n",
      "3.2130281690140845\n",
      "3.2570422535211265\n",
      "3.301056338028169\n",
      "3.345070422535211\n",
      "3.389084507042254\n",
      "3.433098591549296\n",
      "3.4771126760563384\n",
      "3.5211267605633805\n",
      "3.5651408450704225\n",
      "3.609154929577465\n",
      "3.653169014084507\n",
      "3.697183098591549\n",
      "3.7411971830985915\n",
      "3.7852112676056335\n",
      "3.829225352112676\n",
      "3.873239436619718\n",
      "3.917253521126761\n",
      "3.961267605633803\n",
      "4.005281690140845\n",
      "4.049295774647888\n",
      "4.09330985915493\n",
      "4.137323943661972\n",
      "4.181338028169014\n",
      "4.225352112676056\n",
      "4.269366197183098\n",
      "4.313380281690141\n",
      "4.357394366197183\n",
      "4.401408450704225\n",
      "4.445422535211268\n",
      "4.48943661971831\n",
      "4.533450704225352\n",
      "4.577464788732395\n",
      "4.621478873239437\n",
      "4.665492957746479\n",
      "4.709507042253521\n",
      "4.753521126760563\n",
      "4.797535211267605\n",
      "4.841549295774648\n",
      "4.88556338028169\n",
      "4.929577464788732\n",
      "4.973591549295775\n",
      "5.017605633802817\n",
      "5.061619718309859\n",
      "5.105633802816902\n",
      "5.149647887323944\n",
      "5.193661971830986\n",
      "5.237676056338028\n",
      "5.28169014084507\n",
      "5.325704225352112\n",
      "5.369718309859155\n",
      "5.413732394366197\n",
      "5.457746478873239\n",
      "5.501760563380282\n",
      "5.545774647887324\n",
      "5.589788732394366\n",
      "5.633802816901409\n",
      "5.677816901408451\n",
      "5.721830985915493\n",
      "5.765845070422535\n",
      "5.809859154929577\n",
      "5.85387323943662\n",
      "5.897887323943662\n",
      "5.941901408450704\n",
      "5.985915492957746\n",
      "6.029929577464789\n",
      "6.073943661971831\n",
      "6.117957746478873\n",
      "6.161971830985916\n",
      "6.205985915492958\n",
      "6.25\n",
      "6.294014084507042\n",
      "6.338028169014084\n",
      "6.382042253521127\n",
      "6.426056338028169\n",
      "6.470070422535211\n",
      "6.514084507042253\n",
      "6.558098591549295\n",
      "6.602112676056338\n",
      "6.64612676056338\n",
      "6.690140845070422\n",
      "6.734154929577464\n",
      "6.778169014084508\n",
      "6.82218309859155\n",
      "6.866197183098592\n",
      "6.910211267605634\n",
      "6.954225352112677\n",
      "6.998239436619719\n",
      "7.042253521126761\n",
      "7.086267605633803\n",
      "7.130281690140845\n",
      "7.174295774647888\n",
      "7.21830985915493\n",
      "7.262323943661972\n",
      "7.306338028169014\n",
      "7.350352112676056\n",
      "7.394366197183098\n",
      "7.438380281690141\n",
      "7.482394366197183\n",
      "7.526408450704225\n",
      "7.570422535211267\n",
      "7.614436619718309\n",
      "7.658450704225352\n",
      "7.702464788732394\n",
      "7.746478873239436\n",
      "7.790492957746478\n",
      "7.834507042253522\n",
      "7.878521126760564\n",
      "7.922535211267606\n",
      "7.966549295774648\n",
      "8.01056338028169\n",
      "8.054577464788732\n",
      "8.098591549295776\n",
      "8.142605633802818\n",
      "8.18661971830986\n",
      "8.230633802816902\n",
      "8.274647887323944\n",
      "8.318661971830986\n",
      "8.362676056338028\n",
      "8.40669014084507\n",
      "8.450704225352112\n",
      "8.494718309859154\n",
      "8.538732394366196\n",
      "8.58274647887324\n",
      "8.626760563380282\n",
      "8.670774647887324\n",
      "8.714788732394366\n",
      "8.758802816901408\n",
      "8.80281690140845\n",
      "8.846830985915492\n",
      "8.890845070422536\n",
      "8.934859154929578\n",
      "8.97887323943662\n",
      "9.022887323943662\n",
      "9.066901408450704\n",
      "9.110915492957746\n",
      "9.15492957746479\n",
      "9.198943661971832\n",
      "9.242957746478874\n",
      "9.286971830985916\n",
      "9.330985915492958\n",
      "9.375\n",
      "9.419014084507042\n",
      "9.463028169014084\n",
      "9.507042253521126\n",
      "9.551056338028168\n",
      "9.59507042253521\n",
      "9.639084507042254\n",
      "9.683098591549296\n",
      "9.727112676056338\n",
      "9.77112676056338\n",
      "9.815140845070422\n",
      "9.859154929577464\n",
      "9.903169014084508\n",
      "9.94718309859155\n",
      "9.991197183098592\n",
      "10.035211267605634\n",
      "10.079225352112676\n",
      "10.123239436619718\n",
      "10.16725352112676\n",
      "10.211267605633804\n",
      "10.255281690140846\n",
      "10.299295774647888\n",
      "10.34330985915493\n",
      "10.387323943661972\n",
      "10.431338028169014\n",
      "10.475352112676056\n",
      "10.519366197183098\n",
      "10.56338028169014\n",
      "10.607394366197182\n",
      "10.651408450704224\n",
      "10.695422535211268\n",
      "10.73943661971831\n",
      "10.783450704225352\n",
      "10.827464788732394\n",
      "10.871478873239436\n",
      "10.915492957746478\n",
      "10.959507042253522\n",
      "11.003521126760564\n",
      "11.047535211267606\n",
      "11.091549295774648\n",
      "11.13556338028169\n",
      "11.179577464788732\n",
      "11.223591549295776\n",
      "11.267605633802818\n",
      "11.31161971830986\n",
      "11.355633802816902\n",
      "11.399647887323944\n",
      "11.443661971830986\n",
      "11.487676056338028\n",
      "11.53169014084507\n",
      "11.575704225352112\n",
      "11.619718309859154\n",
      "11.663732394366196\n",
      "11.70774647887324\n",
      "11.751760563380282\n",
      "11.795774647887324\n",
      "11.839788732394366\n",
      "11.883802816901408\n",
      "11.92781690140845\n",
      "11.971830985915492\n",
      "12.015845070422536\n",
      "12.059859154929578\n",
      "12.10387323943662\n",
      "12.147887323943662\n",
      "12.191901408450704\n",
      "12.235915492957746\n",
      "12.27992957746479\n",
      "12.323943661971832\n",
      "12.367957746478874\n",
      "12.411971830985916\n",
      "12.455985915492958\n",
      "12.5\n",
      "12.544014084507044\n",
      "12.588028169014084\n",
      "12.632042253521128\n",
      "12.676056338028168\n",
      "12.720070422535212\n",
      "12.764084507042254\n",
      "12.808098591549296\n",
      "12.852112676056338\n",
      "12.896126760563382\n",
      "12.940140845070422\n",
      "12.984154929577466\n",
      "13.028169014084506\n",
      "13.07218309859155\n",
      "13.11619718309859\n",
      "13.160211267605634\n",
      "13.204225352112676\n",
      "13.248239436619718\n",
      "13.29225352112676\n",
      "13.336267605633804\n",
      "13.380281690140844\n",
      "13.424295774647888\n",
      "13.468309859154928\n",
      "13.512323943661972\n",
      "13.556338028169016\n",
      "13.600352112676056\n",
      "13.6443661971831\n",
      "13.68838028169014\n",
      "13.732394366197184\n",
      "13.776408450704224\n",
      "13.820422535211268\n",
      "13.86443661971831\n",
      "13.908450704225354\n",
      "13.952464788732394\n",
      "13.996478873239438\n",
      "14.040492957746478\n",
      "14.084507042253522\n",
      "14.128521126760562\n",
      "14.172535211267606\n",
      "14.216549295774646\n",
      "14.26056338028169\n",
      "14.304577464788732\n",
      "14.348591549295776\n",
      "14.392605633802816\n",
      "14.43661971830986\n",
      "14.4806338028169\n",
      "14.524647887323944\n",
      "14.568661971830984\n",
      "14.612676056338028\n",
      "14.656690140845072\n",
      "14.700704225352112\n",
      "14.744718309859156\n",
      "14.788732394366196\n",
      "14.83274647887324\n",
      "14.876760563380282\n",
      "14.920774647887324\n",
      "14.964788732394366\n",
      "15.00880281690141\n",
      "15.05281690140845\n",
      "15.096830985915494\n",
      "15.140845070422534\n",
      "15.184859154929578\n",
      "15.228873239436618\n",
      "15.272887323943662\n",
      "15.316901408450704\n",
      "15.360915492957746\n",
      "15.404929577464788\n",
      "15.448943661971832\n",
      "15.492957746478872\n",
      "15.536971830985916\n",
      "15.580985915492956\n",
      "15.625\n",
      "15.669014084507044\n",
      "15.713028169014084\n",
      "15.757042253521128\n",
      "15.801056338028168\n",
      "15.845070422535212\n",
      "15.889084507042254\n",
      "15.933098591549296\n",
      "15.977112676056338\n",
      "16.02112676056338\n",
      "16.06514084507042\n",
      "16.109154929577464\n",
      "16.153169014084508\n",
      "16.19718309859155\n",
      "16.241197183098592\n",
      "16.285211267605636\n",
      "16.329225352112676\n",
      "16.37323943661972\n",
      "16.41725352112676\n",
      "16.461267605633804\n",
      "16.505281690140844\n",
      "16.549295774647888\n",
      "16.593309859154928\n",
      "16.637323943661972\n",
      "16.681338028169016\n",
      "16.725352112676056\n",
      "16.7693661971831\n",
      "16.81338028169014\n",
      "16.857394366197184\n",
      "16.901408450704224\n",
      "16.945422535211268\n",
      "16.989436619718308\n",
      "17.033450704225352\n",
      "17.077464788732392\n",
      "17.121478873239436\n",
      "17.16549295774648\n",
      "17.20950704225352\n",
      "17.253521126760564\n",
      "17.297535211267608\n",
      "17.341549295774648\n",
      "17.385563380281692\n",
      "17.429577464788732\n",
      "17.473591549295776\n",
      "17.517605633802816\n",
      "17.56161971830986\n",
      "17.6056338028169\n",
      "17.649647887323944\n",
      "17.693661971830984\n",
      "17.737676056338028\n",
      "17.781690140845072\n",
      "17.825704225352112\n",
      "17.869718309859156\n",
      "17.913732394366196\n",
      "17.95774647887324\n",
      "18.00176056338028\n",
      "18.045774647887324\n",
      "18.089788732394364\n",
      "18.133802816901408\n",
      "18.17781690140845\n",
      "18.221830985915492\n",
      "18.265845070422536\n",
      "18.30985915492958\n",
      "18.35387323943662\n",
      "18.397887323943664\n",
      "18.441901408450704\n",
      "18.485915492957748\n",
      "18.529929577464788\n",
      "18.573943661971832\n",
      "18.617957746478872\n",
      "18.661971830985916\n",
      "18.705985915492956\n",
      "18.75\n",
      "18.794014084507044\n",
      "18.838028169014084\n",
      "18.882042253521128\n",
      "18.926056338028168\n",
      "18.970070422535212\n",
      "19.014084507042252\n",
      "19.058098591549296\n",
      "19.102112676056336\n",
      "19.14612676056338\n",
      "19.19014084507042\n",
      "19.234154929577464\n",
      "19.278169014084508\n",
      "19.32218309859155\n",
      "19.366197183098592\n",
      "19.410211267605636\n",
      "19.454225352112676\n",
      "19.49823943661972\n",
      "19.54225352112676\n",
      "19.586267605633804\n",
      "19.630281690140844\n",
      "19.674295774647888\n",
      "19.718309859154928\n",
      "19.762323943661972\n"
     ]
    },
    {
     "name": "stdout",
     "output_type": "stream",
     "text": [
      "19.806338028169016\n",
      "19.850352112676056\n",
      "19.8943661971831\n",
      "19.93838028169014\n",
      "19.982394366197184\n",
      "20.026408450704224\n",
      "20.070422535211268\n",
      "20.114436619718308\n",
      "20.158450704225352\n",
      "20.202464788732392\n",
      "20.246478873239436\n",
      "20.29049295774648\n",
      "20.33450704225352\n",
      "20.378521126760564\n",
      "20.422535211267608\n",
      "20.466549295774648\n",
      "20.510563380281692\n",
      "20.554577464788732\n",
      "20.598591549295776\n",
      "20.642605633802816\n",
      "20.68661971830986\n",
      "20.7306338028169\n",
      "20.774647887323944\n",
      "20.818661971830984\n",
      "20.862676056338028\n",
      "20.906690140845072\n",
      "20.950704225352112\n",
      "20.994718309859156\n",
      "21.038732394366196\n",
      "21.08274647887324\n",
      "21.12676056338028\n",
      "21.170774647887324\n",
      "21.214788732394364\n",
      "21.258802816901408\n",
      "21.30281690140845\n",
      "21.346830985915492\n",
      "21.390845070422536\n",
      "21.43485915492958\n",
      "21.47887323943662\n",
      "21.522887323943664\n",
      "21.566901408450704\n",
      "21.610915492957748\n",
      "21.654929577464788\n",
      "21.698943661971832\n",
      "21.742957746478872\n",
      "21.786971830985916\n",
      "21.830985915492956\n",
      "21.875\n",
      "21.919014084507044\n",
      "21.963028169014084\n",
      "22.007042253521128\n",
      "22.051056338028168\n",
      "22.095070422535212\n",
      "22.139084507042252\n",
      "22.183098591549296\n",
      "22.227112676056336\n",
      "22.27112676056338\n",
      "22.31514084507042\n",
      "22.359154929577464\n",
      "22.403169014084508\n",
      "22.44718309859155\n",
      "22.491197183098592\n",
      "22.535211267605636\n",
      "22.579225352112676\n",
      "22.62323943661972\n",
      "22.66725352112676\n",
      "22.711267605633804\n",
      "22.755281690140844\n",
      "22.799295774647888\n",
      "22.843309859154928\n",
      "22.887323943661972\n",
      "22.931338028169016\n",
      "22.975352112676056\n",
      "23.0193661971831\n",
      "23.06338028169014\n",
      "23.107394366197184\n",
      "23.151408450704224\n",
      "23.195422535211268\n",
      "23.239436619718308\n",
      "23.283450704225352\n",
      "23.327464788732392\n",
      "23.371478873239436\n",
      "23.41549295774648\n",
      "23.45950704225352\n",
      "23.503521126760564\n",
      "23.547535211267608\n",
      "23.591549295774648\n",
      "23.635563380281692\n",
      "23.679577464788732\n",
      "23.723591549295776\n",
      "23.767605633802816\n",
      "23.81161971830986\n",
      "23.8556338028169\n",
      "23.899647887323944\n",
      "23.943661971830984\n",
      "23.987676056338028\n",
      "24.031690140845072\n",
      "24.075704225352112\n",
      "24.119718309859156\n",
      "24.163732394366196\n",
      "24.20774647887324\n",
      "24.25176056338028\n",
      "24.295774647887324\n",
      "24.339788732394364\n",
      "24.383802816901408\n",
      "24.42781690140845\n",
      "24.471830985915492\n",
      "24.515845070422536\n",
      "24.55985915492958\n",
      "24.60387323943662\n",
      "24.647887323943664\n",
      "24.691901408450704\n",
      "24.735915492957748\n",
      "24.779929577464788\n",
      "24.823943661971832\n",
      "24.867957746478872\n",
      "24.911971830985916\n",
      "24.955985915492956\n",
      "25.0\n",
      "25.044014084507044\n",
      "25.088028169014088\n",
      "25.132042253521124\n",
      "25.176056338028168\n",
      "25.220070422535212\n",
      "25.264084507042256\n",
      "25.308098591549292\n",
      "25.352112676056336\n",
      "25.39612676056338\n",
      "25.440140845070424\n",
      "25.484154929577464\n",
      "25.528169014084508\n",
      "25.57218309859155\n",
      "25.616197183098592\n",
      "25.660211267605632\n",
      "25.704225352112676\n",
      "25.74823943661972\n",
      "25.792253521126764\n",
      "25.8362676056338\n",
      "25.880281690140844\n",
      "25.924295774647888\n",
      "25.96830985915493\n",
      "26.01232394366197\n",
      "26.056338028169012\n",
      "26.100352112676056\n",
      "26.1443661971831\n",
      "26.188380281690144\n",
      "26.23239436619718\n",
      "26.276408450704224\n",
      "26.320422535211268\n",
      "26.36443661971831\n",
      "26.408450704225352\n",
      "26.452464788732392\n",
      "26.496478873239436\n",
      "26.54049295774648\n",
      "26.58450704225352\n",
      "26.628521126760564\n",
      "26.672535211267608\n",
      "26.716549295774648\n",
      "26.76056338028169\n",
      "26.804577464788732\n",
      "26.848591549295776\n",
      "26.89260563380282\n",
      "26.936619718309856\n",
      "26.9806338028169\n",
      "27.024647887323944\n",
      "27.068661971830988\n",
      "27.11267605633803\n",
      "27.15669014084507\n",
      "27.200704225352112\n",
      "27.244718309859156\n",
      "27.2887323943662\n",
      "27.332746478873236\n",
      "27.37676056338028\n",
      "27.420774647887324\n",
      "27.464788732394368\n",
      "27.508802816901408\n",
      "27.55281690140845\n",
      "27.596830985915492\n",
      "27.640845070422536\n",
      "27.684859154929576\n",
      "27.72887323943662\n",
      "27.772887323943664\n",
      "27.816901408450708\n",
      "27.860915492957744\n",
      "27.904929577464788\n",
      "27.948943661971832\n",
      "27.992957746478876\n",
      "28.036971830985912\n",
      "28.080985915492956\n",
      "28.125\n",
      "28.169014084507044\n",
      "28.213028169014088\n",
      "28.257042253521124\n",
      "28.301056338028168\n",
      "28.345070422535212\n",
      "28.389084507042256\n",
      "28.433098591549292\n",
      "28.477112676056336\n",
      "28.52112676056338\n",
      "28.565140845070424\n",
      "28.609154929577464\n",
      "28.653169014084508\n",
      "28.69718309859155\n",
      "28.741197183098592\n",
      "28.785211267605632\n",
      "28.829225352112676\n",
      "28.87323943661972\n",
      "28.917253521126764\n",
      "28.9612676056338\n",
      "29.005281690140844\n",
      "29.049295774647888\n",
      "29.09330985915493\n",
      "29.13732394366197\n",
      "29.181338028169012\n",
      "29.225352112676056\n",
      "29.2693661971831\n",
      "29.313380281690144\n",
      "29.35739436619718\n",
      "29.401408450704224\n",
      "29.445422535211268\n",
      "29.48943661971831\n",
      "29.533450704225352\n",
      "29.577464788732392\n",
      "29.621478873239436\n",
      "29.66549295774648\n",
      "29.70950704225352\n",
      "29.753521126760564\n",
      "29.797535211267608\n",
      "29.841549295774648\n",
      "29.88556338028169\n",
      "29.929577464788732\n",
      "29.973591549295776\n",
      "30.01760563380282\n",
      "30.061619718309856\n",
      "30.1056338028169\n",
      "30.149647887323944\n",
      "30.193661971830988\n",
      "30.23767605633803\n",
      "30.28169014084507\n",
      "30.325704225352112\n",
      "30.369718309859156\n",
      "30.4137323943662\n",
      "30.457746478873236\n",
      "30.50176056338028\n",
      "30.545774647887324\n",
      "30.589788732394368\n",
      "30.633802816901408\n",
      "30.67781690140845\n",
      "30.721830985915492\n",
      "30.765845070422536\n",
      "30.809859154929576\n",
      "30.85387323943662\n",
      "30.897887323943664\n",
      "30.941901408450708\n",
      "30.985915492957744\n",
      "31.029929577464788\n",
      "31.073943661971832\n",
      "31.117957746478876\n",
      "31.161971830985912\n",
      "31.205985915492956\n",
      "31.25\n",
      "31.294014084507044\n",
      "31.338028169014088\n",
      "31.382042253521124\n",
      "31.426056338028168\n",
      "31.470070422535212\n",
      "31.514084507042256\n",
      "31.558098591549292\n",
      "31.602112676056336\n",
      "31.64612676056338\n",
      "31.690140845070424\n",
      "31.734154929577464\n",
      "31.778169014084508\n",
      "31.82218309859155\n",
      "31.866197183098592\n",
      "31.910211267605632\n",
      "31.954225352112676\n",
      "31.99823943661972\n",
      "32.04225352112676\n",
      "32.0862676056338\n",
      "32.13028169014084\n",
      "32.17429577464789\n",
      "32.21830985915493\n",
      "32.26232394366197\n",
      "32.306338028169016\n",
      "32.350352112676056\n",
      "32.3943661971831\n",
      "32.438380281690144\n",
      "32.482394366197184\n",
      "32.526408450704224\n",
      "32.57042253521127\n",
      "32.61443661971831\n",
      "32.65845070422535\n",
      "32.70246478873239\n",
      "32.74647887323944\n",
      "32.79049295774648\n",
      "32.83450704225352\n",
      "32.87852112676056\n",
      "32.92253521126761\n",
      "32.96654929577465\n",
      "33.01056338028169\n",
      "33.05457746478873\n",
      "33.098591549295776\n",
      "33.142605633802816\n",
      "33.186619718309856\n",
      "33.2306338028169\n",
      "33.274647887323944\n",
      "33.318661971830984\n",
      "33.36267605633803\n",
      "33.40669014084507\n",
      "33.45070422535211\n",
      "33.49471830985916\n",
      "33.5387323943662\n",
      "33.58274647887324\n",
      "33.62676056338028\n",
      "33.67077464788733\n",
      "33.71478873239437\n",
      "33.75880281690141\n",
      "33.80281690140845\n",
      "33.846830985915496\n",
      "33.890845070422536\n",
      "33.934859154929576\n",
      "33.978873239436616\n",
      "34.022887323943664\n",
      "34.066901408450704\n",
      "34.110915492957744\n",
      "34.154929577464785\n",
      "34.19894366197183\n",
      "34.24295774647887\n",
      "34.28697183098591\n",
      "34.33098591549296\n",
      "34.375\n",
      "34.41901408450704\n",
      "34.46302816901409\n",
      "34.50704225352113\n",
      "34.55105633802817\n",
      "34.595070422535215\n",
      "34.639084507042256\n",
      "34.683098591549296\n",
      "34.727112676056336\n",
      "34.771126760563384\n",
      "34.815140845070424\n",
      "34.859154929577464\n",
      "34.903169014084504\n",
      "34.94718309859155\n",
      "34.99119718309859\n",
      "35.03521126760563\n",
      "35.07922535211267\n",
      "35.12323943661972\n",
      "35.16725352112676\n",
      "35.2112676056338\n",
      "35.25528169014084\n",
      "35.29929577464789\n",
      "35.34330985915493\n",
      "35.38732394366197\n",
      "35.431338028169016\n",
      "35.475352112676056\n",
      "35.5193661971831\n",
      "35.563380281690144\n",
      "35.607394366197184\n",
      "35.651408450704224\n",
      "35.69542253521127\n",
      "35.73943661971831\n",
      "35.78345070422535\n",
      "35.82746478873239\n",
      "35.87147887323944\n",
      "35.91549295774648\n",
      "35.95950704225352\n",
      "36.00352112676056\n",
      "36.04753521126761\n",
      "36.09154929577465\n",
      "36.13556338028169\n",
      "36.17957746478873\n",
      "36.223591549295776\n",
      "36.267605633802816\n",
      "36.311619718309856\n",
      "36.3556338028169\n",
      "36.399647887323944\n",
      "36.443661971830984\n",
      "36.48767605633803\n",
      "36.53169014084507\n",
      "36.57570422535211\n",
      "36.61971830985916\n",
      "36.6637323943662\n",
      "36.70774647887324\n",
      "36.75176056338028\n",
      "36.79577464788733\n",
      "36.83978873239437\n",
      "36.88380281690141\n",
      "36.92781690140845\n",
      "36.971830985915496\n",
      "37.015845070422536\n",
      "37.059859154929576\n",
      "37.103873239436616\n",
      "37.147887323943664\n",
      "37.191901408450704\n",
      "37.235915492957744\n",
      "37.279929577464785\n",
      "37.32394366197183\n",
      "37.36795774647887\n",
      "37.41197183098591\n",
      "37.45598591549296\n",
      "37.5\n",
      "37.54401408450704\n",
      "37.58802816901409\n",
      "37.63204225352113\n",
      "37.67605633802817\n",
      "37.720070422535215\n",
      "37.764084507042256\n",
      "37.808098591549296\n",
      "37.852112676056336\n",
      "37.896126760563384\n",
      "37.940140845070424\n",
      "37.984154929577464\n",
      "38.028169014084504\n",
      "38.07218309859155\n",
      "38.11619718309859\n",
      "38.16021126760563\n",
      "38.20422535211267\n",
      "38.24823943661972\n",
      "38.29225352112676\n",
      "38.3362676056338\n",
      "38.38028169014084\n",
      "38.42429577464789\n",
      "38.46830985915493\n",
      "38.51232394366197\n",
      "38.556338028169016\n",
      "38.600352112676056\n",
      "38.6443661971831\n",
      "38.688380281690144\n",
      "38.732394366197184\n",
      "38.776408450704224\n",
      "38.82042253521127\n",
      "38.86443661971831\n",
      "38.90845070422535\n",
      "38.95246478873239\n",
      "38.99647887323944\n",
      "39.04049295774648\n",
      "39.08450704225352\n",
      "39.12852112676056\n",
      "39.17253521126761\n",
      "39.21654929577465\n",
      "39.26056338028169\n",
      "39.30457746478873\n",
      "39.348591549295776\n",
      "39.392605633802816\n"
     ]
    },
    {
     "name": "stdout",
     "output_type": "stream",
     "text": [
      "39.436619718309856\n",
      "39.4806338028169\n",
      "39.524647887323944\n",
      "39.568661971830984\n",
      "39.61267605633803\n",
      "39.65669014084507\n",
      "39.70070422535211\n",
      "39.74471830985916\n",
      "39.7887323943662\n",
      "39.83274647887324\n",
      "39.87676056338028\n",
      "39.92077464788733\n",
      "39.96478873239437\n",
      "40.00880281690141\n",
      "40.05281690140845\n",
      "40.096830985915496\n",
      "40.140845070422536\n",
      "40.184859154929576\n",
      "40.228873239436616\n",
      "40.272887323943664\n",
      "40.316901408450704\n",
      "40.360915492957744\n",
      "40.404929577464785\n",
      "40.44894366197183\n",
      "40.49295774647887\n",
      "40.53697183098591\n",
      "40.58098591549296\n",
      "40.625\n",
      "40.66901408450704\n",
      "40.71302816901409\n",
      "40.75704225352113\n",
      "40.80105633802817\n",
      "40.845070422535215\n",
      "40.889084507042256\n",
      "40.933098591549296\n",
      "40.977112676056336\n",
      "41.021126760563384\n",
      "41.065140845070424\n",
      "41.109154929577464\n",
      "41.153169014084504\n",
      "41.19718309859155\n",
      "41.24119718309859\n",
      "41.28521126760563\n",
      "41.32922535211267\n",
      "41.37323943661972\n",
      "41.41725352112676\n",
      "41.4612676056338\n",
      "41.50528169014084\n",
      "41.54929577464789\n",
      "41.59330985915493\n",
      "41.63732394366197\n",
      "41.681338028169016\n",
      "41.725352112676056\n",
      "41.7693661971831\n",
      "41.813380281690144\n",
      "41.857394366197184\n",
      "41.901408450704224\n",
      "41.94542253521127\n",
      "41.98943661971831\n",
      "42.03345070422535\n",
      "42.07746478873239\n",
      "42.12147887323944\n",
      "42.16549295774648\n",
      "42.20950704225352\n",
      "42.25352112676056\n",
      "42.29753521126761\n",
      "42.34154929577465\n",
      "42.38556338028169\n",
      "42.42957746478873\n",
      "42.473591549295776\n",
      "42.517605633802816\n",
      "42.561619718309856\n",
      "42.6056338028169\n",
      "42.649647887323944\n",
      "42.693661971830984\n",
      "42.73767605633803\n",
      "42.78169014084507\n",
      "42.82570422535211\n",
      "42.86971830985916\n",
      "42.9137323943662\n",
      "42.95774647887324\n",
      "43.00176056338028\n",
      "43.04577464788733\n",
      "43.08978873239437\n",
      "43.13380281690141\n",
      "43.17781690140845\n",
      "43.221830985915496\n",
      "43.265845070422536\n",
      "43.309859154929576\n",
      "43.353873239436616\n",
      "43.397887323943664\n",
      "43.441901408450704\n",
      "43.485915492957744\n",
      "43.529929577464785\n",
      "43.57394366197183\n",
      "43.61795774647887\n",
      "43.66197183098591\n",
      "43.70598591549296\n",
      "43.75\n",
      "43.79401408450704\n",
      "43.83802816901409\n",
      "43.88204225352113\n",
      "43.92605633802817\n",
      "43.970070422535215\n",
      "44.014084507042256\n",
      "44.058098591549296\n",
      "44.102112676056336\n",
      "44.146126760563384\n",
      "44.190140845070424\n",
      "44.234154929577464\n",
      "44.278169014084504\n",
      "44.32218309859155\n",
      "44.36619718309859\n",
      "44.41021126760563\n",
      "44.45422535211267\n",
      "44.49823943661972\n",
      "44.54225352112676\n",
      "44.5862676056338\n",
      "44.63028169014084\n",
      "44.67429577464789\n",
      "44.71830985915493\n",
      "44.76232394366197\n",
      "44.806338028169016\n",
      "44.850352112676056\n",
      "44.8943661971831\n",
      "44.938380281690144\n",
      "44.982394366197184\n",
      "45.026408450704224\n",
      "45.07042253521127\n",
      "45.11443661971831\n",
      "45.15845070422535\n",
      "45.20246478873239\n",
      "45.24647887323944\n",
      "45.29049295774648\n",
      "45.33450704225352\n",
      "45.37852112676056\n",
      "45.42253521126761\n",
      "45.46654929577465\n",
      "45.51056338028169\n",
      "45.55457746478873\n",
      "45.598591549295776\n",
      "45.642605633802816\n",
      "45.686619718309856\n",
      "45.7306338028169\n",
      "45.774647887323944\n",
      "45.818661971830984\n",
      "45.86267605633803\n",
      "45.90669014084507\n",
      "45.95070422535211\n",
      "45.99471830985916\n",
      "46.0387323943662\n",
      "46.08274647887324\n",
      "46.12676056338028\n",
      "46.17077464788733\n",
      "46.21478873239437\n",
      "46.25880281690141\n",
      "46.30281690140845\n",
      "46.346830985915496\n",
      "46.390845070422536\n",
      "46.434859154929576\n",
      "46.478873239436616\n",
      "46.522887323943664\n",
      "46.566901408450704\n",
      "46.610915492957744\n",
      "46.654929577464785\n",
      "46.69894366197183\n",
      "46.74295774647887\n",
      "46.78697183098591\n",
      "46.83098591549296\n",
      "46.875\n",
      "46.91901408450704\n",
      "46.96302816901409\n",
      "47.00704225352113\n",
      "47.05105633802817\n",
      "47.095070422535215\n",
      "47.139084507042256\n",
      "47.183098591549296\n",
      "47.227112676056336\n",
      "47.271126760563384\n",
      "47.315140845070424\n",
      "47.359154929577464\n",
      "47.403169014084504\n",
      "47.44718309859155\n",
      "47.49119718309859\n",
      "47.53521126760563\n",
      "47.57922535211267\n",
      "47.62323943661972\n",
      "47.66725352112676\n",
      "47.7112676056338\n",
      "47.75528169014084\n",
      "47.79929577464789\n",
      "47.84330985915493\n",
      "47.88732394366197\n",
      "47.931338028169016\n",
      "47.975352112676056\n",
      "48.0193661971831\n",
      "48.063380281690144\n",
      "48.107394366197184\n",
      "48.151408450704224\n",
      "48.19542253521127\n",
      "48.23943661971831\n",
      "48.28345070422535\n",
      "48.32746478873239\n",
      "48.37147887323944\n",
      "48.41549295774648\n",
      "48.45950704225352\n",
      "48.50352112676056\n",
      "48.54753521126761\n",
      "48.59154929577465\n",
      "48.63556338028169\n",
      "48.67957746478873\n",
      "48.723591549295776\n",
      "48.767605633802816\n",
      "48.811619718309856\n",
      "48.8556338028169\n",
      "48.899647887323944\n",
      "48.943661971830984\n",
      "48.98767605633803\n",
      "49.03169014084507\n",
      "49.07570422535211\n",
      "49.11971830985916\n",
      "49.1637323943662\n",
      "49.20774647887324\n",
      "49.25176056338028\n",
      "49.29577464788733\n",
      "49.33978873239437\n",
      "49.38380281690141\n",
      "49.42781690140845\n",
      "49.471830985915496\n",
      "49.515845070422536\n",
      "49.559859154929576\n",
      "49.603873239436616\n",
      "49.647887323943664\n",
      "49.691901408450704\n",
      "49.735915492957744\n",
      "49.779929577464785\n",
      "49.82394366197183\n",
      "49.86795774647887\n",
      "49.91197183098591\n",
      "49.95598591549296\n",
      "50.0\n",
      "50.04401408450704\n",
      "50.08802816901409\n",
      "50.13204225352113\n",
      "50.176056338028175\n",
      "50.220070422535215\n",
      "50.26408450704225\n",
      "50.308098591549296\n",
      "50.352112676056336\n",
      "50.39612676056338\n",
      "50.440140845070424\n",
      "50.484154929577464\n",
      "50.52816901408451\n",
      "50.57218309859155\n",
      "50.616197183098585\n",
      "50.66021126760564\n",
      "50.70422535211267\n",
      "50.74823943661971\n",
      "50.79225352112676\n",
      "50.8362676056338\n",
      "50.88028169014085\n",
      "50.92429577464789\n",
      "50.96830985915493\n",
      "51.012323943661976\n",
      "51.056338028169016\n",
      "51.10035211267606\n",
      "51.1443661971831\n",
      "51.18838028169014\n",
      "51.232394366197184\n",
      "51.276408450704224\n",
      "51.320422535211264\n",
      "51.36443661971831\n",
      "51.40845070422535\n",
      "51.4524647887324\n",
      "51.49647887323944\n",
      "51.54049295774647\n",
      "51.58450704225353\n",
      "51.62852112676056\n",
      "51.6725352112676\n",
      "51.71654929577465\n",
      "51.76056338028169\n",
      "51.804577464788736\n",
      "51.848591549295776\n",
      "51.892605633802816\n",
      "51.93661971830986\n",
      "51.9806338028169\n",
      "52.02464788732394\n",
      "52.068661971830984\n",
      "52.112676056338024\n",
      "52.15669014084507\n",
      "52.20070422535211\n",
      "52.24471830985915\n",
      "52.2887323943662\n",
      "52.33274647887324\n",
      "52.37676056338029\n",
      "52.42077464788733\n",
      "52.46478873239436\n",
      "52.508802816901415\n",
      "52.55281690140845\n",
      "52.59683098591549\n",
      "52.640845070422536\n",
      "52.684859154929576\n",
      "52.72887323943662\n",
      "52.772887323943664\n",
      "52.816901408450704\n",
      "52.86091549295775\n",
      "52.904929577464785\n",
      "52.948943661971825\n",
      "52.99295774647887\n",
      "53.03697183098591\n",
      "53.08098591549296\n",
      "53.125\n",
      "53.16901408450704\n",
      "53.21302816901409\n",
      "53.25704225352113\n",
      "53.301056338028175\n",
      "53.345070422535215\n",
      "53.38908450704225\n",
      "53.433098591549296\n",
      "53.477112676056336\n",
      "53.52112676056338\n",
      "53.565140845070424\n",
      "53.609154929577464\n",
      "53.65316901408451\n",
      "53.69718309859155\n",
      "53.741197183098585\n",
      "53.78521126760564\n",
      "53.82922535211267\n",
      "53.87323943661971\n",
      "53.91725352112676\n",
      "53.9612676056338\n",
      "54.00528169014085\n",
      "54.04929577464789\n",
      "54.09330985915493\n",
      "54.137323943661976\n",
      "54.181338028169016\n",
      "54.22535211267606\n",
      "54.2693661971831\n",
      "54.31338028169014\n",
      "54.357394366197184\n",
      "54.401408450704224\n",
      "54.445422535211264\n",
      "54.48943661971831\n",
      "54.53345070422535\n",
      "54.5774647887324\n",
      "54.62147887323944\n",
      "54.66549295774647\n",
      "54.70950704225353\n",
      "54.75352112676056\n",
      "54.7975352112676\n",
      "54.84154929577465\n",
      "54.88556338028169\n",
      "54.929577464788736\n",
      "54.973591549295776\n",
      "55.017605633802816\n",
      "55.06161971830986\n",
      "55.1056338028169\n",
      "55.14964788732394\n",
      "55.193661971830984\n",
      "55.237676056338024\n",
      "55.28169014084507\n",
      "55.32570422535211\n",
      "55.36971830985915\n",
      "55.4137323943662\n",
      "55.45774647887324\n",
      "55.50176056338029\n",
      "55.54577464788733\n",
      "55.58978873239436\n",
      "55.633802816901415\n",
      "55.67781690140845\n",
      "55.72183098591549\n",
      "55.765845070422536\n",
      "55.809859154929576\n",
      "55.85387323943662\n",
      "55.897887323943664\n",
      "55.941901408450704\n",
      "55.98591549295775\n",
      "56.029929577464785\n",
      "56.073943661971825\n",
      "56.11795774647887\n",
      "56.16197183098591\n",
      "56.20598591549296\n",
      "56.25\n",
      "56.29401408450704\n",
      "56.33802816901409\n",
      "56.38204225352113\n",
      "56.426056338028175\n",
      "56.470070422535215\n",
      "56.51408450704225\n",
      "56.558098591549296\n",
      "56.602112676056336\n",
      "56.64612676056338\n",
      "56.690140845070424\n",
      "56.734154929577464\n",
      "56.77816901408451\n",
      "56.82218309859155\n",
      "56.866197183098585\n",
      "56.91021126760564\n",
      "56.95422535211267\n",
      "56.99823943661971\n",
      "57.04225352112676\n",
      "57.0862676056338\n",
      "57.13028169014085\n",
      "57.17429577464789\n",
      "57.21830985915493\n",
      "57.262323943661976\n",
      "57.306338028169016\n",
      "57.35035211267606\n",
      "57.3943661971831\n",
      "57.43838028169014\n",
      "57.482394366197184\n",
      "57.526408450704224\n",
      "57.570422535211264\n",
      "57.61443661971831\n",
      "57.65845070422535\n",
      "57.7024647887324\n",
      "57.74647887323944\n",
      "57.79049295774647\n",
      "57.83450704225353\n",
      "57.87852112676056\n",
      "57.9225352112676\n",
      "57.96654929577465\n",
      "58.01056338028169\n",
      "58.054577464788736\n",
      "58.098591549295776\n",
      "58.142605633802816\n",
      "58.18661971830986\n",
      "58.2306338028169\n",
      "58.27464788732394\n",
      "58.318661971830984\n",
      "58.362676056338024\n",
      "58.40669014084507\n",
      "58.45070422535211\n",
      "58.49471830985915\n",
      "58.5387323943662\n",
      "58.58274647887324\n",
      "58.62676056338029\n",
      "58.67077464788733\n",
      "58.71478873239436\n",
      "58.758802816901415\n",
      "58.80281690140845\n",
      "58.84683098591549\n",
      "58.890845070422536\n",
      "58.934859154929576\n",
      "58.97887323943662\n",
      "59.022887323943664\n",
      "59.066901408450704\n",
      "59.11091549295775\n",
      "59.154929577464785\n",
      "59.198943661971825\n",
      "59.24295774647887\n",
      "59.28697183098591\n",
      "59.33098591549296\n"
     ]
    },
    {
     "name": "stdout",
     "output_type": "stream",
     "text": [
      "59.375\n",
      "59.41901408450704\n",
      "59.46302816901409\n",
      "59.50704225352113\n",
      "59.551056338028175\n",
      "59.595070422535215\n",
      "59.63908450704225\n",
      "59.683098591549296\n",
      "59.727112676056336\n",
      "59.77112676056338\n",
      "59.815140845070424\n",
      "59.859154929577464\n",
      "59.90316901408451\n",
      "59.94718309859155\n",
      "59.991197183098585\n",
      "60.03521126760564\n",
      "60.07922535211267\n",
      "60.12323943661971\n",
      "60.16725352112676\n",
      "60.2112676056338\n",
      "60.25528169014085\n",
      "60.29929577464789\n",
      "60.34330985915493\n",
      "60.387323943661976\n",
      "60.431338028169016\n",
      "60.47535211267606\n",
      "60.5193661971831\n",
      "60.56338028169014\n",
      "60.607394366197184\n",
      "60.651408450704224\n",
      "60.695422535211264\n",
      "60.73943661971831\n",
      "60.78345070422535\n",
      "60.8274647887324\n",
      "60.87147887323944\n",
      "60.91549295774647\n",
      "60.95950704225353\n",
      "61.00352112676056\n",
      "61.0475352112676\n",
      "61.09154929577465\n",
      "61.13556338028169\n",
      "61.179577464788736\n",
      "61.223591549295776\n",
      "61.267605633802816\n",
      "61.31161971830986\n",
      "61.3556338028169\n",
      "61.39964788732394\n",
      "61.443661971830984\n",
      "61.487676056338024\n",
      "61.53169014084507\n",
      "61.57570422535211\n",
      "61.61971830985915\n",
      "61.6637323943662\n",
      "61.70774647887324\n",
      "61.75176056338029\n",
      "61.79577464788733\n",
      "61.83978873239436\n",
      "61.883802816901415\n",
      "61.92781690140845\n",
      "61.97183098591549\n",
      "62.015845070422536\n",
      "62.059859154929576\n",
      "62.10387323943662\n",
      "62.147887323943664\n",
      "62.191901408450704\n",
      "62.23591549295775\n",
      "62.279929577464785\n",
      "62.323943661971825\n",
      "62.36795774647887\n",
      "62.41197183098591\n",
      "62.45598591549296\n",
      "62.5\n",
      "62.54401408450704\n",
      "62.58802816901409\n",
      "62.63204225352113\n",
      "62.676056338028175\n",
      "62.720070422535215\n",
      "62.76408450704225\n",
      "62.808098591549296\n",
      "62.852112676056336\n",
      "62.89612676056338\n",
      "62.940140845070424\n",
      "62.984154929577464\n",
      "63.02816901408451\n",
      "63.07218309859155\n",
      "63.116197183098585\n",
      "63.16021126760564\n",
      "63.20422535211267\n",
      "63.24823943661971\n",
      "63.29225352112676\n",
      "63.3362676056338\n",
      "63.38028169014085\n",
      "63.42429577464789\n",
      "63.46830985915493\n",
      "63.512323943661976\n",
      "63.556338028169016\n",
      "63.60035211267606\n",
      "63.6443661971831\n",
      "63.68838028169014\n",
      "63.732394366197184\n",
      "63.776408450704224\n",
      "63.820422535211264\n",
      "63.86443661971831\n",
      "63.90845070422535\n",
      "63.9524647887324\n",
      "63.99647887323944\n",
      "64.04049295774648\n",
      "64.08450704225352\n",
      "64.12852112676056\n",
      "64.1725352112676\n",
      "64.21654929577466\n",
      "64.26056338028168\n",
      "64.30457746478874\n",
      "64.34859154929578\n",
      "64.39260563380282\n",
      "64.43661971830986\n",
      "64.4806338028169\n",
      "64.52464788732394\n",
      "64.56866197183099\n",
      "64.61267605633803\n",
      "64.65669014084507\n",
      "64.70070422535211\n",
      "64.74471830985915\n",
      "64.7887323943662\n",
      "64.83274647887323\n",
      "64.87676056338029\n",
      "64.92077464788733\n",
      "64.96478873239437\n",
      "65.00880281690141\n",
      "65.05281690140845\n",
      "65.09683098591549\n",
      "65.14084507042254\n",
      "65.18485915492957\n",
      "65.22887323943662\n",
      "65.27288732394366\n",
      "65.3169014084507\n",
      "65.36091549295774\n",
      "65.40492957746478\n",
      "65.44894366197182\n",
      "65.49295774647888\n",
      "65.53697183098592\n",
      "65.58098591549296\n",
      "65.625\n",
      "65.66901408450704\n",
      "65.71302816901408\n",
      "65.75704225352112\n",
      "65.80105633802818\n",
      "65.84507042253522\n",
      "65.88908450704226\n",
      "65.9330985915493\n",
      "65.97711267605634\n",
      "66.02112676056338\n",
      "66.06514084507043\n",
      "66.10915492957746\n",
      "66.15316901408451\n",
      "66.19718309859155\n",
      "66.24119718309859\n",
      "66.28521126760563\n",
      "66.32922535211267\n",
      "66.37323943661971\n",
      "66.41725352112677\n",
      "66.4612676056338\n",
      "66.50528169014085\n",
      "66.54929577464789\n",
      "66.59330985915493\n",
      "66.63732394366197\n",
      "66.68133802816901\n",
      "66.72535211267606\n",
      "66.7693661971831\n",
      "66.81338028169014\n",
      "66.85739436619718\n",
      "66.90140845070422\n",
      "66.94542253521126\n",
      "66.98943661971832\n",
      "67.03345070422534\n",
      "67.0774647887324\n",
      "67.12147887323944\n",
      "67.16549295774648\n",
      "67.20950704225352\n",
      "67.25352112676056\n",
      "67.2975352112676\n",
      "67.34154929577466\n",
      "67.38556338028168\n",
      "67.42957746478874\n",
      "67.47359154929578\n",
      "67.51760563380282\n",
      "67.56161971830986\n",
      "67.6056338028169\n",
      "67.64964788732394\n",
      "67.69366197183099\n",
      "67.73767605633803\n",
      "67.78169014084507\n",
      "67.82570422535211\n",
      "67.86971830985915\n",
      "67.9137323943662\n",
      "67.95774647887323\n",
      "68.00176056338029\n",
      "68.04577464788733\n",
      "68.08978873239437\n",
      "68.13380281690141\n",
      "68.17781690140845\n",
      "68.22183098591549\n",
      "68.26584507042254\n",
      "68.30985915492957\n",
      "68.35387323943662\n",
      "68.39788732394366\n",
      "68.4419014084507\n",
      "68.48591549295774\n",
      "68.52992957746478\n",
      "68.57394366197182\n",
      "68.61795774647888\n",
      "68.66197183098592\n",
      "68.70598591549296\n",
      "68.75\n",
      "68.79401408450704\n",
      "68.83802816901408\n",
      "68.88204225352112\n",
      "68.92605633802818\n",
      "68.97007042253522\n",
      "69.01408450704226\n",
      "69.0580985915493\n",
      "69.10211267605634\n",
      "69.14612676056338\n",
      "69.19014084507043\n",
      "69.23415492957746\n",
      "69.27816901408451\n",
      "69.32218309859155\n",
      "69.36619718309859\n",
      "69.41021126760563\n",
      "69.45422535211267\n",
      "69.49823943661971\n",
      "69.54225352112677\n",
      "69.5862676056338\n",
      "69.63028169014085\n",
      "69.67429577464789\n",
      "69.71830985915493\n",
      "69.76232394366197\n",
      "69.80633802816901\n",
      "69.85035211267606\n",
      "69.8943661971831\n",
      "69.93838028169014\n",
      "69.98239436619718\n",
      "70.02640845070422\n",
      "70.07042253521126\n",
      "70.11443661971832\n",
      "70.15845070422534\n",
      "70.2024647887324\n",
      "70.24647887323944\n",
      "70.29049295774648\n",
      "70.33450704225352\n",
      "70.37852112676056\n",
      "70.4225352112676\n",
      "70.46654929577466\n",
      "70.51056338028168\n",
      "70.55457746478874\n",
      "70.59859154929578\n",
      "70.64260563380282\n",
      "70.68661971830986\n",
      "70.7306338028169\n",
      "70.77464788732394\n",
      "70.81866197183099\n",
      "70.86267605633803\n",
      "70.90669014084507\n",
      "70.95070422535211\n",
      "70.99471830985915\n",
      "71.0387323943662\n",
      "71.08274647887323\n",
      "71.12676056338029\n",
      "71.17077464788733\n",
      "71.21478873239437\n",
      "71.25880281690141\n",
      "71.30281690140845\n",
      "71.34683098591549\n",
      "71.39084507042254\n",
      "71.43485915492957\n",
      "71.47887323943662\n",
      "71.52288732394366\n",
      "71.5669014084507\n",
      "71.61091549295774\n",
      "71.65492957746478\n",
      "71.69894366197182\n",
      "71.74295774647888\n",
      "71.78697183098592\n",
      "71.83098591549296\n",
      "71.875\n",
      "71.91901408450704\n",
      "71.96302816901408\n",
      "72.00704225352112\n",
      "72.05105633802818\n",
      "72.09507042253522\n",
      "72.13908450704226\n",
      "72.1830985915493\n",
      "72.22711267605634\n",
      "72.27112676056338\n",
      "72.31514084507043\n",
      "72.35915492957746\n",
      "72.40316901408451\n",
      "72.44718309859155\n",
      "72.49119718309859\n",
      "72.53521126760563\n",
      "72.57922535211267\n",
      "72.62323943661971\n",
      "72.66725352112677\n",
      "72.7112676056338\n",
      "72.75528169014085\n",
      "72.79929577464789\n",
      "72.84330985915493\n",
      "72.88732394366197\n",
      "72.93133802816901\n",
      "72.97535211267606\n",
      "73.0193661971831\n",
      "73.06338028169014\n",
      "73.10739436619718\n",
      "73.15140845070422\n",
      "73.19542253521126\n",
      "73.23943661971832\n",
      "73.28345070422534\n",
      "73.3274647887324\n",
      "73.37147887323944\n",
      "73.41549295774648\n",
      "73.45950704225352\n",
      "73.50352112676056\n",
      "73.5475352112676\n",
      "73.59154929577466\n",
      "73.63556338028168\n",
      "73.67957746478874\n",
      "73.72359154929578\n",
      "73.76760563380282\n",
      "73.81161971830986\n",
      "73.8556338028169\n",
      "73.89964788732394\n",
      "73.94366197183099\n",
      "73.98767605633803\n",
      "74.03169014084507\n",
      "74.07570422535211\n",
      "74.11971830985915\n",
      "74.1637323943662\n",
      "74.20774647887323\n",
      "74.25176056338029\n",
      "74.29577464788733\n",
      "74.33978873239437\n",
      "74.38380281690141\n",
      "74.42781690140845\n",
      "74.47183098591549\n",
      "74.51584507042254\n",
      "74.55985915492957\n",
      "74.60387323943662\n",
      "74.64788732394366\n",
      "74.6919014084507\n",
      "74.73591549295774\n",
      "74.77992957746478\n",
      "74.82394366197182\n",
      "74.86795774647888\n",
      "74.91197183098592\n",
      "74.95598591549296\n",
      "75.0\n",
      "75.04401408450704\n",
      "75.08802816901408\n",
      "75.13204225352112\n",
      "75.17605633802818\n",
      "75.22007042253522\n",
      "75.26408450704226\n",
      "75.3080985915493\n",
      "75.35211267605634\n",
      "75.39612676056338\n",
      "75.44014084507043\n",
      "75.48415492957746\n",
      "75.52816901408451\n",
      "75.57218309859155\n",
      "75.61619718309859\n",
      "75.66021126760563\n",
      "75.70422535211267\n",
      "75.74823943661971\n",
      "75.79225352112677\n",
      "75.8362676056338\n",
      "75.88028169014085\n",
      "75.92429577464789\n",
      "75.96830985915493\n",
      "76.01232394366197\n",
      "76.05633802816901\n",
      "76.10035211267606\n",
      "76.1443661971831\n",
      "76.18838028169014\n",
      "76.23239436619718\n",
      "76.27640845070422\n",
      "76.32042253521126\n",
      "76.36443661971832\n",
      "76.40845070422534\n",
      "76.4524647887324\n",
      "76.49647887323944\n",
      "76.54049295774648\n",
      "76.58450704225352\n",
      "76.62852112676056\n",
      "76.6725352112676\n",
      "76.71654929577466\n",
      "76.76056338028168\n",
      "76.80457746478874\n",
      "76.84859154929578\n",
      "76.89260563380282\n",
      "76.93661971830986\n",
      "76.9806338028169\n",
      "77.02464788732394\n",
      "77.06866197183099\n",
      "77.11267605633803\n",
      "77.15669014084507\n",
      "77.20070422535211\n",
      "77.24471830985915\n",
      "77.2887323943662\n",
      "77.33274647887323\n",
      "77.37676056338029\n",
      "77.42077464788733\n",
      "77.46478873239437\n",
      "77.50880281690141\n",
      "77.55281690140845\n",
      "77.59683098591549\n",
      "77.64084507042254\n",
      "77.68485915492957\n",
      "77.72887323943662\n",
      "77.77288732394366\n",
      "77.8169014084507\n",
      "77.86091549295774\n",
      "77.90492957746478\n",
      "77.94894366197182\n",
      "77.99295774647888\n",
      "78.03697183098592\n",
      "78.08098591549296\n",
      "78.125\n",
      "78.16901408450704\n",
      "78.21302816901408\n",
      "78.25704225352112\n",
      "78.30105633802818\n",
      "78.34507042253522\n",
      "78.38908450704226\n",
      "78.4330985915493\n",
      "78.47711267605634\n",
      "78.52112676056338\n",
      "78.56514084507043\n",
      "78.60915492957746\n",
      "78.65316901408451\n",
      "78.69718309859155\n",
      "78.74119718309859\n",
      "78.78521126760563\n",
      "78.82922535211267\n",
      "78.87323943661971\n",
      "78.91725352112677\n",
      "78.9612676056338\n",
      "79.00528169014085\n",
      "79.04929577464789\n",
      "79.09330985915493\n",
      "79.13732394366197\n",
      "79.18133802816901\n",
      "79.22535211267606\n",
      "79.2693661971831\n",
      "79.31338028169014\n",
      "79.35739436619718\n",
      "79.40140845070422\n",
      "79.44542253521126\n",
      "79.48943661971832\n",
      "79.53345070422534\n",
      "79.5774647887324\n",
      "79.62147887323944\n",
      "79.66549295774648\n"
     ]
    },
    {
     "name": "stdout",
     "output_type": "stream",
     "text": [
      "79.70950704225352\n",
      "79.75352112676056\n",
      "79.7975352112676\n",
      "79.84154929577466\n",
      "79.88556338028168\n",
      "79.92957746478874\n",
      "79.97359154929578\n",
      "80.01760563380282\n",
      "80.06161971830986\n",
      "80.1056338028169\n",
      "80.14964788732394\n",
      "80.19366197183099\n",
      "80.23767605633803\n",
      "80.28169014084507\n",
      "80.32570422535211\n",
      "80.36971830985915\n",
      "80.4137323943662\n",
      "80.45774647887323\n",
      "80.50176056338029\n",
      "80.54577464788733\n",
      "80.58978873239437\n",
      "80.63380281690141\n",
      "80.67781690140845\n",
      "80.72183098591549\n",
      "80.76584507042254\n",
      "80.80985915492957\n",
      "80.85387323943662\n",
      "80.89788732394366\n",
      "80.9419014084507\n",
      "80.98591549295774\n",
      "81.02992957746478\n",
      "81.07394366197182\n",
      "81.11795774647888\n",
      "81.16197183098592\n",
      "81.20598591549296\n",
      "81.25\n",
      "81.29401408450704\n",
      "81.33802816901408\n",
      "81.38204225352112\n",
      "81.42605633802818\n",
      "81.47007042253522\n",
      "81.51408450704226\n",
      "81.5580985915493\n",
      "81.60211267605634\n",
      "81.64612676056338\n",
      "81.69014084507043\n",
      "81.73415492957746\n",
      "81.77816901408451\n",
      "81.82218309859155\n",
      "81.86619718309859\n",
      "81.91021126760563\n",
      "81.95422535211267\n",
      "81.99823943661971\n",
      "82.04225352112677\n",
      "82.0862676056338\n",
      "82.13028169014085\n",
      "82.17429577464789\n",
      "82.21830985915493\n",
      "82.26232394366197\n",
      "82.30633802816901\n",
      "82.35035211267606\n",
      "82.3943661971831\n",
      "82.43838028169014\n",
      "82.48239436619718\n",
      "82.52640845070422\n",
      "82.57042253521126\n",
      "82.61443661971832\n",
      "82.65845070422534\n",
      "82.7024647887324\n",
      "82.74647887323944\n",
      "82.79049295774648\n",
      "82.83450704225352\n",
      "82.87852112676056\n",
      "82.9225352112676\n",
      "82.96654929577466\n",
      "83.01056338028168\n",
      "83.05457746478874\n",
      "83.09859154929578\n",
      "83.14260563380282\n",
      "83.18661971830986\n",
      "83.2306338028169\n",
      "83.27464788732394\n",
      "83.31866197183099\n",
      "83.36267605633803\n",
      "83.40669014084507\n",
      "83.45070422535211\n",
      "83.49471830985915\n",
      "83.5387323943662\n",
      "83.58274647887323\n",
      "83.62676056338029\n",
      "83.67077464788733\n",
      "83.71478873239437\n",
      "83.75880281690141\n",
      "83.80281690140845\n",
      "83.84683098591549\n",
      "83.89084507042254\n",
      "83.93485915492957\n",
      "83.97887323943662\n",
      "84.02288732394366\n",
      "84.0669014084507\n",
      "84.11091549295774\n",
      "84.15492957746478\n",
      "84.19894366197182\n",
      "84.24295774647888\n",
      "84.28697183098592\n",
      "84.33098591549296\n",
      "84.375\n",
      "84.41901408450704\n",
      "84.46302816901408\n",
      "84.50704225352112\n",
      "84.55105633802818\n",
      "84.59507042253522\n",
      "84.63908450704226\n",
      "84.6830985915493\n",
      "84.72711267605634\n",
      "84.77112676056338\n",
      "84.81514084507043\n",
      "84.85915492957746\n",
      "84.90316901408451\n",
      "84.94718309859155\n",
      "84.99119718309859\n",
      "85.03521126760563\n",
      "85.07922535211267\n",
      "85.12323943661971\n",
      "85.16725352112677\n",
      "85.2112676056338\n",
      "85.25528169014085\n",
      "85.29929577464789\n",
      "85.34330985915493\n",
      "85.38732394366197\n",
      "85.43133802816901\n",
      "85.47535211267606\n",
      "85.5193661971831\n",
      "85.56338028169014\n",
      "85.60739436619718\n",
      "85.65140845070422\n",
      "85.69542253521126\n",
      "85.73943661971832\n",
      "85.78345070422534\n",
      "85.8274647887324\n",
      "85.87147887323944\n",
      "85.91549295774648\n",
      "85.95950704225352\n",
      "86.00352112676056\n",
      "86.0475352112676\n",
      "86.09154929577466\n",
      "86.13556338028168\n",
      "86.17957746478874\n",
      "86.22359154929578\n",
      "86.26760563380282\n",
      "86.31161971830986\n",
      "86.3556338028169\n",
      "86.39964788732394\n",
      "86.44366197183099\n",
      "86.48767605633803\n",
      "86.53169014084507\n",
      "86.57570422535211\n",
      "86.61971830985915\n",
      "86.6637323943662\n",
      "86.70774647887323\n",
      "86.75176056338029\n",
      "86.79577464788733\n",
      "86.83978873239437\n",
      "86.88380281690141\n",
      "86.92781690140845\n",
      "86.97183098591549\n",
      "87.01584507042254\n",
      "87.05985915492957\n",
      "87.10387323943662\n",
      "87.14788732394366\n",
      "87.1919014084507\n",
      "87.23591549295774\n",
      "87.27992957746478\n",
      "87.32394366197182\n",
      "87.36795774647888\n",
      "87.41197183098592\n",
      "87.45598591549296\n",
      "87.5\n",
      "87.54401408450704\n",
      "87.58802816901408\n",
      "87.63204225352112\n",
      "87.67605633802818\n",
      "87.72007042253522\n",
      "87.76408450704226\n",
      "87.8080985915493\n",
      "87.85211267605634\n",
      "87.89612676056338\n",
      "87.94014084507043\n",
      "87.98415492957746\n",
      "88.02816901408451\n",
      "88.07218309859155\n",
      "88.11619718309859\n",
      "88.16021126760563\n",
      "88.20422535211267\n",
      "88.24823943661971\n",
      "88.29225352112677\n",
      "88.3362676056338\n",
      "88.38028169014085\n",
      "88.42429577464789\n",
      "88.46830985915493\n",
      "88.51232394366197\n",
      "88.55633802816901\n",
      "88.60035211267606\n",
      "88.6443661971831\n",
      "88.68838028169014\n",
      "88.73239436619718\n",
      "88.77640845070422\n",
      "88.82042253521126\n",
      "88.86443661971832\n",
      "88.90845070422534\n",
      "88.9524647887324\n",
      "88.99647887323944\n",
      "89.04049295774648\n",
      "89.08450704225352\n",
      "89.12852112676056\n",
      "89.1725352112676\n",
      "89.21654929577466\n",
      "89.26056338028168\n",
      "89.30457746478874\n",
      "89.34859154929578\n",
      "89.39260563380282\n",
      "89.43661971830986\n",
      "89.4806338028169\n",
      "89.52464788732394\n",
      "89.56866197183099\n",
      "89.61267605633803\n",
      "89.65669014084507\n",
      "89.70070422535211\n",
      "89.74471830985915\n",
      "89.7887323943662\n",
      "89.83274647887323\n",
      "89.87676056338029\n",
      "89.92077464788733\n",
      "89.96478873239437\n",
      "90.00880281690141\n",
      "90.05281690140845\n",
      "90.09683098591549\n",
      "90.14084507042254\n",
      "90.18485915492957\n",
      "90.22887323943662\n",
      "90.27288732394366\n",
      "90.3169014084507\n",
      "90.36091549295774\n",
      "90.40492957746478\n",
      "90.44894366197182\n",
      "90.49295774647888\n",
      "90.53697183098592\n",
      "90.58098591549296\n",
      "90.625\n",
      "90.66901408450704\n",
      "90.71302816901408\n",
      "90.75704225352112\n",
      "90.80105633802818\n",
      "90.84507042253522\n",
      "90.88908450704226\n",
      "90.9330985915493\n",
      "90.97711267605634\n",
      "91.02112676056338\n",
      "91.06514084507043\n",
      "91.10915492957746\n",
      "91.15316901408451\n",
      "91.19718309859155\n",
      "91.24119718309859\n",
      "91.28521126760563\n",
      "91.32922535211267\n",
      "91.37323943661971\n",
      "91.41725352112677\n",
      "91.4612676056338\n",
      "91.50528169014085\n",
      "91.54929577464789\n",
      "91.59330985915493\n",
      "91.63732394366197\n",
      "91.68133802816901\n",
      "91.72535211267606\n",
      "91.7693661971831\n",
      "91.81338028169014\n",
      "91.85739436619718\n",
      "91.90140845070422\n",
      "91.94542253521126\n",
      "91.98943661971832\n",
      "92.03345070422534\n",
      "92.0774647887324\n",
      "92.12147887323944\n",
      "92.16549295774648\n",
      "92.20950704225352\n",
      "92.25352112676056\n",
      "92.2975352112676\n",
      "92.34154929577466\n",
      "92.38556338028168\n",
      "92.42957746478874\n",
      "92.47359154929578\n",
      "92.51760563380282\n",
      "92.56161971830986\n",
      "92.6056338028169\n",
      "92.64964788732394\n",
      "92.69366197183099\n",
      "92.73767605633803\n",
      "92.78169014084507\n",
      "92.82570422535211\n",
      "92.86971830985915\n",
      "92.9137323943662\n",
      "92.95774647887323\n",
      "93.00176056338029\n",
      "93.04577464788733\n",
      "93.08978873239437\n",
      "93.13380281690141\n",
      "93.17781690140845\n",
      "93.22183098591549\n",
      "93.26584507042254\n",
      "93.30985915492957\n",
      "93.35387323943662\n",
      "93.39788732394366\n",
      "93.4419014084507\n",
      "93.48591549295774\n",
      "93.52992957746478\n",
      "93.57394366197182\n",
      "93.61795774647888\n",
      "93.66197183098592\n",
      "93.70598591549296\n",
      "93.75\n",
      "93.79401408450704\n",
      "93.83802816901408\n",
      "93.88204225352112\n",
      "93.92605633802818\n",
      "93.97007042253522\n",
      "94.01408450704226\n",
      "94.0580985915493\n",
      "94.10211267605634\n",
      "94.14612676056338\n",
      "94.19014084507043\n",
      "94.23415492957746\n",
      "94.27816901408451\n",
      "94.32218309859155\n",
      "94.36619718309859\n",
      "94.41021126760563\n",
      "94.45422535211267\n",
      "94.49823943661971\n",
      "94.54225352112677\n",
      "94.5862676056338\n",
      "94.63028169014085\n",
      "94.67429577464789\n",
      "94.71830985915493\n",
      "94.76232394366197\n",
      "94.80633802816901\n",
      "94.85035211267606\n",
      "94.8943661971831\n",
      "94.93838028169014\n",
      "94.98239436619718\n",
      "95.02640845070422\n",
      "95.07042253521126\n",
      "95.11443661971832\n",
      "95.15845070422534\n",
      "95.2024647887324\n",
      "95.24647887323944\n",
      "95.29049295774648\n",
      "95.33450704225352\n",
      "95.37852112676056\n",
      "95.4225352112676\n",
      "95.46654929577466\n",
      "95.51056338028168\n",
      "95.55457746478874\n",
      "95.59859154929578\n",
      "95.64260563380282\n",
      "95.68661971830986\n",
      "95.7306338028169\n",
      "95.77464788732394\n",
      "95.81866197183099\n",
      "95.86267605633803\n",
      "95.90669014084507\n",
      "95.95070422535211\n",
      "95.99471830985915\n",
      "96.0387323943662\n",
      "96.08274647887323\n",
      "96.12676056338029\n",
      "96.17077464788733\n",
      "96.21478873239437\n",
      "96.25880281690141\n",
      "96.30281690140845\n",
      "96.34683098591549\n",
      "96.39084507042254\n",
      "96.43485915492957\n",
      "96.47887323943662\n",
      "96.52288732394366\n",
      "96.5669014084507\n",
      "96.61091549295774\n",
      "96.65492957746478\n",
      "96.69894366197182\n",
      "96.74295774647888\n",
      "96.78697183098592\n",
      "96.83098591549296\n",
      "96.875\n",
      "96.91901408450704\n",
      "96.96302816901408\n",
      "97.00704225352112\n",
      "97.05105633802818\n",
      "97.09507042253522\n",
      "97.13908450704226\n",
      "97.1830985915493\n",
      "97.22711267605634\n",
      "97.27112676056338\n",
      "97.31514084507043\n",
      "97.35915492957746\n",
      "97.40316901408451\n",
      "97.44718309859155\n",
      "97.49119718309859\n",
      "97.53521126760563\n",
      "97.57922535211267\n",
      "97.62323943661971\n",
      "97.66725352112677\n",
      "97.7112676056338\n",
      "97.75528169014085\n",
      "97.79929577464789\n",
      "97.84330985915493\n",
      "97.88732394366197\n",
      "97.93133802816901\n",
      "97.97535211267606\n",
      "98.0193661971831\n",
      "98.06338028169014\n",
      "98.10739436619718\n",
      "98.15140845070422\n",
      "98.19542253521126\n",
      "98.23943661971832\n",
      "98.28345070422534\n",
      "98.3274647887324\n",
      "98.37147887323944\n",
      "98.41549295774648\n",
      "98.45950704225352\n",
      "98.50352112676056\n",
      "98.5475352112676\n",
      "98.59154929577466\n",
      "98.63556338028168\n",
      "98.67957746478874\n",
      "98.72359154929578\n",
      "98.76760563380282\n",
      "98.81161971830986\n",
      "98.8556338028169\n",
      "98.89964788732394\n",
      "98.94366197183099\n",
      "98.98767605633803\n",
      "99.03169014084507\n",
      "99.07570422535211\n",
      "99.11971830985915\n",
      "99.1637323943662\n",
      "99.20774647887323\n",
      "99.25176056338029\n",
      "99.29577464788733\n",
      "99.33978873239437\n",
      "99.38380281690141\n",
      "99.42781690140845\n",
      "99.47183098591549\n",
      "99.51584507042254\n",
      "99.55985915492957\n",
      "99.60387323943662\n",
      "99.64788732394366\n",
      "99.6919014084507\n",
      "99.73591549295774\n",
      "99.77992957746478\n",
      "99.82394366197182\n",
      "99.86795774647888\n",
      "99.91197183098592\n",
      "99.95598591549296\n",
      "100.0\n"
     ]
    }
   ],
   "source": [
    "w = 0\n",
    "\n",
    "for p in range(len(m_f)):\n",
    "    for i in range(size(Xl)):\n",
    "        for j in range(size(Xt)):\n",
    "            for k in range(size(N_r)):\n",
    "                for l in range(size(N_l)):\n",
    "                    for m in range(size(L1)):\n",
    "                        for n in range(size(pf)):\n",
    "                            for o in range(size(xf)):\n",
    "                                for q in range(size(sigmaf)):\n",
    "                                    A,B,C,D,E,F,G,H,I,J,K,O,P,Q = HEx(Xl,Xt,N_r[k],N_l[l],L1[m],Di,De,pf[n],xf,sigmaf,sigmah,pd,m_f[p],Nucleos)\n",
    "                                    \n",
    "                                    W_l[p][i][j][k][l][m][n][o][q] = A\n",
    "                                    ECr_c_l[p][i][j][k][l][m][n][o][q] = B\n",
    "                                    ECr_h_l[p][i][j][k][l][m][n][o][q] = C\n",
    "                                    E_c[p][i][j][k][l][m][n][o][q] = P\n",
    "                                    E_h[p][i][j][k][l][m][n][o][q] = Q\n",
    "                                    dP_o[p][i][j][k][l][m][n][o][q] = D\n",
    "                                    \n",
    "                                    Nr[p][i][j][k][l][m][n][o][q] = E\n",
    "                                    Nl[p][i][j][k][l][m][n][o][q] = F\n",
    "                                    L_1[p][i][j][k][l][m][n][o][q] = G\n",
    "                                    p_f[p][i][j][k][l][m][n][o][q] = H\n",
    "                                   \n",
    "                                    \n",
    "                                    W_p_h[p][i][j][k][l][m][n][o][q] = I\n",
    "                                    W_p_c[p][i][j][k][l][m][n][o][q] = J\n",
    "                                    CFM[p][i][j][k][l][m][n][o][q] = K\n",
    "                                    erro_dp[p][i][j][k][l][m][n][o][q] = O\n",
    "                                \n",
    "                                    #print(F,G)\n",
    "                                    w = w+1\n",
    "                        print(w/size(W_l)*100)"
   ]
  },
  {
   "cell_type": "code",
   "execution_count": 609,
   "metadata": {},
   "outputs": [],
   "source": [
    "#L1,L2,L3,Xl,N_l,N_t,Nucleo"
   ]
  },
  {
   "cell_type": "code",
   "execution_count": 610,
   "metadata": {
    "scrolled": false
   },
   "outputs": [
    {
     "name": "stdout",
     "output_type": "stream",
     "text": [
      "[0.5 0.6 0.7 0.8] 0.8999999999999999 0.8 0.0275 0.03175 [1. 2. 3. 4.] [1, 2]\n"
     ]
    }
   ],
   "source": [
    "print(L1,L2,L3,Xl,Xt,N_r,N_l)"
   ]
  },
  {
   "cell_type": "code",
   "execution_count": 611,
   "metadata": {},
   "outputs": [],
   "source": [
    "W_array_L = np.zeros([size(m_f),np.int(size(W_l)/size(m_f))])\n",
    "Ec_array_L = np.zeros([size(m_f),np.int(size(W_l)/size(m_f))])\n",
    "Eh_array_L = np.zeros([size(m_f),np.int(size(W_l)/size(m_f))])\n",
    "\n",
    "E_array_h = np.zeros([size(m_f),np.int(size(W_l)/size(m_f))])\n",
    "E_array_c = np.zeros([size(m_f),np.int(size(W_l)/size(m_f))])\n",
    "dP_o_array_L = np.zeros([size(m_f),np.int(size(W_h)/size(m_f))])\n",
    "\n",
    "Nr_array = np.zeros([size(m_f),np.int(size(W_h)/size(m_f))])\n",
    "Nl_array = np.zeros([size(m_f),np.int(size(W_h)/size(m_f))])\n",
    "L1_array = np.zeros([size(m_f),np.int(size(W_h)/size(m_f))])\n",
    "pf_array = np.zeros([size(m_f),np.int(size(W_h)/size(m_f))])\n",
    "\n",
    "W_array_H = np.zeros([size(m_f),np.int(size(W_h)/size(m_f))])\n",
    "Ec_array_H = np.zeros([size(m_f),np.int(size(W_h)/size(m_f))])\n",
    "Eh_array_H = np.zeros([size(m_f),np.int(size(W_h)/size(m_f))])\n",
    "\n",
    "W_p_h_array = np.zeros([size(m_f),np.int(size(W_h)/size(m_f))])\n",
    "W_p_c_array = np.zeros([size(m_f),np.int(size(W_l)/size(m_f))])\n",
    "\n",
    "Nr_array = np.zeros([size(m_f),np.int(size(W_h)/size(m_f))])\n",
    "Nl_array = np.zeros([size(m_f),np.int(size(W_h)/size(m_f))])\n",
    "L1_array = np.zeros([size(m_f),np.int(size(W_h)/size(m_f))])\n",
    "pf_array = np.zeros([size(m_f),np.int(size(W_h)/size(m_f))])\n",
    "CFM_array = np.zeros([size(m_f),np.int(size(W_h)/size(m_f))])\n",
    "erro_array = np.zeros([size(m_f),np.int(size(W_h)/size(m_f))])"
   ]
  },
  {
   "cell_type": "code",
   "execution_count": 612,
   "metadata": {
    "scrolled": true
   },
   "outputs": [],
   "source": [
    "w=0\n",
    "\n",
    "for p in range(size(m_f)):\n",
    "    for i in range(size(Xl)):\n",
    "        for j in range(size(Xt)):\n",
    "            for k in range(size(N_r)):\n",
    "                for l in range(size(N_l)):\n",
    "                    for m in range(size(L1)):\n",
    "                        for n in range(size(pf)):\n",
    "                            for o in range(size(xf)):\n",
    "                                for q in range(size(sigmaf)):\n",
    "                                    W_array_L[p][w-p*np.int(size(W_l)/size(m_f))] = W_l[p][i][j][k][l][m][n][o][q]\n",
    "                                    Ec_array_L[p][w-p*np.int(size(W_l)/size(m_f))] = ECr_c_l[p][i][j][k][l][m][n][o][q]\n",
    "                                    Eh_array_L[p][w-p*np.int(size(W_l)/size(m_f))] = ECr_h_l[p][i][j][k][l][m][n][o][q]\n",
    "                                    E_array_h[p][w-p*np.int(size(W_l)/size(m_f))] = E_c[p][i][j][k][l][m][n][o][q]\n",
    "                                    E_array_c[p][w-p*np.int(size(W_l)/size(m_f))] = E_h[p][i][j][k][l][m][n][o][q]\n",
    "                                    dP_o_array_L[p][w-p*np.int(size(W_h)/size(m_f))] = dP_o[p][i][j][k][l][m][n][o][q]\n",
    "                                    \n",
    "                                    Nr_array[p][w-p*np.int(size(W_h)/size(m_f))] = Nr[p][i][j][k][l][m][n][o][q]\n",
    "                                    Nl_array[p][w-p*np.int(size(W_h)/size(m_f))] = Nl[p][i][j][k][l][m][n][o][q]\n",
    "                                    L1_array[p][w-p*np.int(size(W_h)/size(m_f))] = L_1[p][i][j][k][l][m][n][o][q]\n",
    "                                    pf_array[p][w-p*np.int(size(W_h)/size(m_f))] = p_f[p][i][j][k][l][m][n][o][q]\n",
    "                                    \n",
    "                                    W_p_h_array[p][w-p*np.int(size(W_h)/size(m_f))] = W_p_h[p][i][j][k][l][m][n][o][q]\n",
    "                                    W_p_c_array[p][w-p*np.int(size(W_l)/size(m_f))] = W_p_c[p][i][j][k][l][m][n][o][q]\n",
    "                                    CFM_array[p][w-p*np.int(size(W_l)/size(m_f))] = CFM[p][i][j][k][l][m][n][o][q]\n",
    "                                    erro_array[p][w-p*np.int(size(W_l)/size(m_f))] = erro_dp[p][i][j][k][l][m][n][o][q]\n",
    "                                    \n",
    "                                    Nr_array[p][w-p*np.int(size(W_h)/size(m_f))] = N_r[k]\n",
    "                                    # Nl_array[p][w-p*np.int(size(W_h)/size(m_f))] = N_l[l]\n",
    "                                    L1_array[p][w-p*np.int(size(W_h)/size(m_f))] = L1[m]\n",
    "                                    pf_array[p][w-p*np.int(size(W_h)/size(m_f))] = pf[n]\n",
    "\n",
    "                    \n",
    "                                    w = w+1\n",
    "                                    #print(p,i,j,k,l,m,n,o,q)"
   ]
  },
  {
   "cell_type": "code",
   "execution_count": null,
   "metadata": {
    "scrolled": true
   },
   "outputs": [],
   "source": []
  },
  {
   "cell_type": "code",
   "execution_count": 613,
   "metadata": {
    "scrolled": true
   },
   "outputs": [
    {
     "data": {
      "image/png": "[encoded data removed]",
      "text/plain": [
       "<Figure size 432x288 with 1 Axes>"
      ]
     },
     "metadata": {
      "needs_background": "light"
     },
     "output_type": "display_data"
    }
   ],
   "source": [
    "for i in range(len(m_f)):\n",
    "    plt.plot(Nucleos*CFM_array[i]*0.00047194745*1.168*1004,'o')"
   ]
  },
  {
   "cell_type": "code",
   "execution_count": 614,
   "metadata": {},
   "outputs": [],
   "source": [
    "#plt.plot(erro_array[0],'o')\n",
    "#plt.plot(erro_array[1],'o')\n",
    "#plt.plot(erro_array[2],'o')\n",
    "#plt.plot(erro_array[3],'o')\n",
    "#plt.plot(erro_array[4],'o')"
   ]
  },
  {
   "cell_type": "code",
   "execution_count": 615,
   "metadata": {
    "scrolled": true
   },
   "outputs": [
    {
     "data": {
      "text/plain": [
       "(0, 1500)"
      ]
     },
     "execution_count": 615,
     "metadata": {},
     "output_type": "execute_result"
    },
    {
     "data": {
      "image/png": "[encoded data removed]",
      "text/plain": [
       "<Figure size 432x288 with 1 Axes>"
      ]
     },
     "metadata": {
      "needs_background": "light"
     },
     "output_type": "display_data"
    }
   ],
   "source": [
    "for i in range(len(m_f)):\n",
    "    plt.plot(CFM_array[i],'o')\n",
    "plt.ylim(0,1500)"
   ]
  },
  {
   "cell_type": "code",
   "execution_count": 616,
   "metadata": {},
   "outputs": [
    {
     "data": {
      "text/plain": [
       "128"
      ]
     },
     "execution_count": 616,
     "metadata": {},
     "output_type": "execute_result"
    }
   ],
   "source": [
    "len(E_array_c[i]*Nucleos*CFM_array[i]*0.00047194745*1.168*1004)"
   ]
  },
  {
   "cell_type": "code",
   "execution_count": 617,
   "metadata": {
    "scrolled": true
   },
   "outputs": [
    {
     "ename": "ValueError",
     "evalue": "x and y must have same first dimension, but have shapes (288,) and (128,)",
     "output_type": "error",
     "traceback": [
      "\u001b[1;31m---------------------------------------------------------------------------\u001b[0m",
      "\u001b[1;31mValueError\u001b[0m                                Traceback (most recent call last)",
      "\u001b[1;32m<ipython-input-617-a454324fc9d8>\u001b[0m in \u001b[0;36m<module>\u001b[1;34m()\u001b[0m\n\u001b[0;32m      1\u001b[0m \u001b[1;32mfor\u001b[0m \u001b[0mi\u001b[0m \u001b[1;32min\u001b[0m \u001b[0mrange\u001b[0m\u001b[1;33m(\u001b[0m\u001b[0msize\u001b[0m\u001b[1;33m(\u001b[0m\u001b[0mm_f\u001b[0m\u001b[1;33m)\u001b[0m\u001b[1;33m)\u001b[0m\u001b[1;33m:\u001b[0m\u001b[1;33m\u001b[0m\u001b[0m\n\u001b[1;32m----> 2\u001b[1;33m     \u001b[0mplt\u001b[0m\u001b[1;33m.\u001b[0m\u001b[0mplot\u001b[0m\u001b[1;33m(\u001b[0m\u001b[0mnp\u001b[0m\u001b[1;33m.\u001b[0m\u001b[0marray\u001b[0m\u001b[1;33m(\u001b[0m\u001b[0mW_t_L\u001b[0m\u001b[1;33m[\u001b[0m\u001b[0mi\u001b[0m\u001b[1;33m]\u001b[0m\u001b[1;33m)\u001b[0m\u001b[1;33m*\u001b[0m\u001b[0mNucleos\u001b[0m\u001b[1;33m,\u001b[0m\u001b[0mE_array_c\u001b[0m\u001b[1;33m[\u001b[0m\u001b[0mi\u001b[0m\u001b[1;33m]\u001b[0m\u001b[1;33m*\u001b[0m\u001b[0mNucleos\u001b[0m\u001b[1;33m*\u001b[0m\u001b[0mCFM_array\u001b[0m\u001b[1;33m[\u001b[0m\u001b[0mi\u001b[0m\u001b[1;33m]\u001b[0m\u001b[1;33m*\u001b[0m\u001b[1;36m0.00047194745\u001b[0m\u001b[1;33m*\u001b[0m\u001b[1;36m1.168\u001b[0m\u001b[1;33m*\u001b[0m\u001b[1;36m1004\u001b[0m\u001b[1;33m,\u001b[0m\u001b[1;34m'.'\u001b[0m\u001b[1;33m)\u001b[0m\u001b[1;33m\u001b[0m\u001b[0m\n\u001b[0m\u001b[0;32m      3\u001b[0m \u001b[0mplt\u001b[0m\u001b[1;33m.\u001b[0m\u001b[0mgrid\u001b[0m\u001b[1;33m(\u001b[0m\u001b[1;33m)\u001b[0m\u001b[1;33m\u001b[0m\u001b[0m\n\u001b[0;32m      4\u001b[0m \u001b[0mplt\u001b[0m\u001b[1;33m.\u001b[0m\u001b[0mxlabel\u001b[0m\u001b[1;33m(\u001b[0m\u001b[1;34m'$\\dot{W}_\\mathrm{T}$ [W]'\u001b[0m\u001b[1;33m)\u001b[0m\u001b[1;33m\u001b[0m\u001b[0m\n\u001b[0;32m      5\u001b[0m \u001b[0mplt\u001b[0m\u001b[1;33m.\u001b[0m\u001b[0mylabel\u001b[0m\u001b[1;33m(\u001b[0m\u001b[1;34m'$\\epsilon C_\\mathrm{r}$ [-]'\u001b[0m\u001b[1;33m)\u001b[0m\u001b[1;33m\u001b[0m\u001b[0m\n",
      "\u001b[1;32m~\\Anaconda_new\\lib\\site-packages\\matplotlib\\pyplot.py\u001b[0m in \u001b[0;36mplot\u001b[1;34m(*args, **kwargs)\u001b[0m\n\u001b[0;32m   3356\u001b[0m                       mplDeprecation)\n\u001b[0;32m   3357\u001b[0m     \u001b[1;32mtry\u001b[0m\u001b[1;33m:\u001b[0m\u001b[1;33m\u001b[0m\u001b[0m\n\u001b[1;32m-> 3358\u001b[1;33m         \u001b[0mret\u001b[0m \u001b[1;33m=\u001b[0m \u001b[0max\u001b[0m\u001b[1;33m.\u001b[0m\u001b[0mplot\u001b[0m\u001b[1;33m(\u001b[0m\u001b[1;33m*\u001b[0m\u001b[0margs\u001b[0m\u001b[1;33m,\u001b[0m \u001b[1;33m**\u001b[0m\u001b[0mkwargs\u001b[0m\u001b[1;33m)\u001b[0m\u001b[1;33m\u001b[0m\u001b[0m\n\u001b[0m\u001b[0;32m   3359\u001b[0m     \u001b[1;32mfinally\u001b[0m\u001b[1;33m:\u001b[0m\u001b[1;33m\u001b[0m\u001b[0m\n\u001b[0;32m   3360\u001b[0m         \u001b[0max\u001b[0m\u001b[1;33m.\u001b[0m\u001b[0m_hold\u001b[0m \u001b[1;33m=\u001b[0m \u001b[0mwashold\u001b[0m\u001b[1;33m\u001b[0m\u001b[0m\n",
      "\u001b[1;32m~\\Anaconda_new\\lib\\site-packages\\matplotlib\\__init__.py\u001b[0m in \u001b[0;36minner\u001b[1;34m(ax, *args, **kwargs)\u001b[0m\n\u001b[0;32m   1853\u001b[0m                         \u001b[1;34m\"the Matplotlib list!)\"\u001b[0m \u001b[1;33m%\u001b[0m \u001b[1;33m(\u001b[0m\u001b[0mlabel_namer\u001b[0m\u001b[1;33m,\u001b[0m \u001b[0mfunc\u001b[0m\u001b[1;33m.\u001b[0m\u001b[0m__name__\u001b[0m\u001b[1;33m)\u001b[0m\u001b[1;33m,\u001b[0m\u001b[1;33m\u001b[0m\u001b[0m\n\u001b[0;32m   1854\u001b[0m                         RuntimeWarning, stacklevel=2)\n\u001b[1;32m-> 1855\u001b[1;33m             \u001b[1;32mreturn\u001b[0m \u001b[0mfunc\u001b[0m\u001b[1;33m(\u001b[0m\u001b[0max\u001b[0m\u001b[1;33m,\u001b[0m \u001b[1;33m*\u001b[0m\u001b[0margs\u001b[0m\u001b[1;33m,\u001b[0m \u001b[1;33m**\u001b[0m\u001b[0mkwargs\u001b[0m\u001b[1;33m)\u001b[0m\u001b[1;33m\u001b[0m\u001b[0m\n\u001b[0m\u001b[0;32m   1856\u001b[0m \u001b[1;33m\u001b[0m\u001b[0m\n\u001b[0;32m   1857\u001b[0m         inner.__doc__ = _add_data_doc(inner.__doc__,\n",
      "\u001b[1;32m~\\Anaconda_new\\lib\\site-packages\\matplotlib\\axes\\_axes.py\u001b[0m in \u001b[0;36mplot\u001b[1;34m(self, *args, **kwargs)\u001b[0m\n\u001b[0;32m   1525\u001b[0m         \u001b[0mkwargs\u001b[0m \u001b[1;33m=\u001b[0m \u001b[0mcbook\u001b[0m\u001b[1;33m.\u001b[0m\u001b[0mnormalize_kwargs\u001b[0m\u001b[1;33m(\u001b[0m\u001b[0mkwargs\u001b[0m\u001b[1;33m,\u001b[0m \u001b[0m_alias_map\u001b[0m\u001b[1;33m)\u001b[0m\u001b[1;33m\u001b[0m\u001b[0m\n\u001b[0;32m   1526\u001b[0m \u001b[1;33m\u001b[0m\u001b[0m\n\u001b[1;32m-> 1527\u001b[1;33m         \u001b[1;32mfor\u001b[0m \u001b[0mline\u001b[0m \u001b[1;32min\u001b[0m \u001b[0mself\u001b[0m\u001b[1;33m.\u001b[0m\u001b[0m_get_lines\u001b[0m\u001b[1;33m(\u001b[0m\u001b[1;33m*\u001b[0m\u001b[0margs\u001b[0m\u001b[1;33m,\u001b[0m \u001b[1;33m**\u001b[0m\u001b[0mkwargs\u001b[0m\u001b[1;33m)\u001b[0m\u001b[1;33m:\u001b[0m\u001b[1;33m\u001b[0m\u001b[0m\n\u001b[0m\u001b[0;32m   1528\u001b[0m             \u001b[0mself\u001b[0m\u001b[1;33m.\u001b[0m\u001b[0madd_line\u001b[0m\u001b[1;33m(\u001b[0m\u001b[0mline\u001b[0m\u001b[1;33m)\u001b[0m\u001b[1;33m\u001b[0m\u001b[0m\n\u001b[0;32m   1529\u001b[0m             \u001b[0mlines\u001b[0m\u001b[1;33m.\u001b[0m\u001b[0mappend\u001b[0m\u001b[1;33m(\u001b[0m\u001b[0mline\u001b[0m\u001b[1;33m)\u001b[0m\u001b[1;33m\u001b[0m\u001b[0m\n",
      "\u001b[1;32m~\\Anaconda_new\\lib\\site-packages\\matplotlib\\axes\\_base.py\u001b[0m in \u001b[0;36m_grab_next_args\u001b[1;34m(self, *args, **kwargs)\u001b[0m\n\u001b[0;32m    404\u001b[0m                 \u001b[0mthis\u001b[0m \u001b[1;33m+=\u001b[0m \u001b[0margs\u001b[0m\u001b[1;33m[\u001b[0m\u001b[1;36m0\u001b[0m\u001b[1;33m]\u001b[0m\u001b[1;33m,\u001b[0m\u001b[1;33m\u001b[0m\u001b[0m\n\u001b[0;32m    405\u001b[0m                 \u001b[0margs\u001b[0m \u001b[1;33m=\u001b[0m \u001b[0margs\u001b[0m\u001b[1;33m[\u001b[0m\u001b[1;36m1\u001b[0m\u001b[1;33m:\u001b[0m\u001b[1;33m]\u001b[0m\u001b[1;33m\u001b[0m\u001b[0m\n\u001b[1;32m--> 406\u001b[1;33m             \u001b[1;32mfor\u001b[0m \u001b[0mseg\u001b[0m \u001b[1;32min\u001b[0m \u001b[0mself\u001b[0m\u001b[1;33m.\u001b[0m\u001b[0m_plot_args\u001b[0m\u001b[1;33m(\u001b[0m\u001b[0mthis\u001b[0m\u001b[1;33m,\u001b[0m \u001b[0mkwargs\u001b[0m\u001b[1;33m)\u001b[0m\u001b[1;33m:\u001b[0m\u001b[1;33m\u001b[0m\u001b[0m\n\u001b[0m\u001b[0;32m    407\u001b[0m                 \u001b[1;32myield\u001b[0m \u001b[0mseg\u001b[0m\u001b[1;33m\u001b[0m\u001b[0m\n\u001b[0;32m    408\u001b[0m \u001b[1;33m\u001b[0m\u001b[0m\n",
      "\u001b[1;32m~\\Anaconda_new\\lib\\site-packages\\matplotlib\\axes\\_base.py\u001b[0m in \u001b[0;36m_plot_args\u001b[1;34m(self, tup, kwargs)\u001b[0m\n\u001b[0;32m    381\u001b[0m             \u001b[0mx\u001b[0m\u001b[1;33m,\u001b[0m \u001b[0my\u001b[0m \u001b[1;33m=\u001b[0m \u001b[0mindex_of\u001b[0m\u001b[1;33m(\u001b[0m\u001b[0mtup\u001b[0m\u001b[1;33m[\u001b[0m\u001b[1;33m-\u001b[0m\u001b[1;36m1\u001b[0m\u001b[1;33m]\u001b[0m\u001b[1;33m)\u001b[0m\u001b[1;33m\u001b[0m\u001b[0m\n\u001b[0;32m    382\u001b[0m \u001b[1;33m\u001b[0m\u001b[0m\n\u001b[1;32m--> 383\u001b[1;33m         \u001b[0mx\u001b[0m\u001b[1;33m,\u001b[0m \u001b[0my\u001b[0m \u001b[1;33m=\u001b[0m \u001b[0mself\u001b[0m\u001b[1;33m.\u001b[0m\u001b[0m_xy_from_xy\u001b[0m\u001b[1;33m(\u001b[0m\u001b[0mx\u001b[0m\u001b[1;33m,\u001b[0m \u001b[0my\u001b[0m\u001b[1;33m)\u001b[0m\u001b[1;33m\u001b[0m\u001b[0m\n\u001b[0m\u001b[0;32m    384\u001b[0m \u001b[1;33m\u001b[0m\u001b[0m\n\u001b[0;32m    385\u001b[0m         \u001b[1;32mif\u001b[0m \u001b[0mself\u001b[0m\u001b[1;33m.\u001b[0m\u001b[0mcommand\u001b[0m \u001b[1;33m==\u001b[0m \u001b[1;34m'plot'\u001b[0m\u001b[1;33m:\u001b[0m\u001b[1;33m\u001b[0m\u001b[0m\n",
      "\u001b[1;32m~\\Anaconda_new\\lib\\site-packages\\matplotlib\\axes\\_base.py\u001b[0m in \u001b[0;36m_xy_from_xy\u001b[1;34m(self, x, y)\u001b[0m\n\u001b[0;32m    240\u001b[0m         \u001b[1;32mif\u001b[0m \u001b[0mx\u001b[0m\u001b[1;33m.\u001b[0m\u001b[0mshape\u001b[0m\u001b[1;33m[\u001b[0m\u001b[1;36m0\u001b[0m\u001b[1;33m]\u001b[0m \u001b[1;33m!=\u001b[0m \u001b[0my\u001b[0m\u001b[1;33m.\u001b[0m\u001b[0mshape\u001b[0m\u001b[1;33m[\u001b[0m\u001b[1;36m0\u001b[0m\u001b[1;33m]\u001b[0m\u001b[1;33m:\u001b[0m\u001b[1;33m\u001b[0m\u001b[0m\n\u001b[0;32m    241\u001b[0m             raise ValueError(\"x and y must have same first dimension, but \"\n\u001b[1;32m--> 242\u001b[1;33m                              \"have shapes {} and {}\".format(x.shape, y.shape))\n\u001b[0m\u001b[0;32m    243\u001b[0m         \u001b[1;32mif\u001b[0m \u001b[0mx\u001b[0m\u001b[1;33m.\u001b[0m\u001b[0mndim\u001b[0m \u001b[1;33m>\u001b[0m \u001b[1;36m2\u001b[0m \u001b[1;32mor\u001b[0m \u001b[0my\u001b[0m\u001b[1;33m.\u001b[0m\u001b[0mndim\u001b[0m \u001b[1;33m>\u001b[0m \u001b[1;36m2\u001b[0m\u001b[1;33m:\u001b[0m\u001b[1;33m\u001b[0m\u001b[0m\n\u001b[0;32m    244\u001b[0m             raise ValueError(\"x and y can be no greater than 2-D, but have \"\n",
      "\u001b[1;31mValueError\u001b[0m: x and y must have same first dimension, but have shapes (288,) and (128,)"
     ]
    },
    {
     "data": {
      "image/png": "[encoded data removed]",
      "text/plain": [
       "<Figure size 432x288 with 1 Axes>"
      ]
     },
     "metadata": {
      "needs_background": "light"
     },
     "output_type": "display_data"
    }
   ],
   "source": [
    "for i in range(size(m_f)):\n",
    "    plt.plot(np.array(W_t_L[i])*Nucleos,E_array_c[i]*Nucleos*CFM_array[i]*0.00047194745*1.168*1004,'.')\n",
    "plt.grid()\n",
    "plt.xlabel('$\\dot{W}_\\mathrm{T}$ [W]')\n",
    "plt.ylabel('$\\epsilon C_\\mathrm{r}$ [-]')\n",
    "#plt.xlim([0,2000])\n",
    "plt.show()"
   ]
  },
  {
   "cell_type": "code",
   "execution_count": 618,
   "metadata": {},
   "outputs": [
    {
     "data": {
      "image/png": "[encoded data removed]",
      "text/plain": [
       "<Figure size 432x288 with 1 Axes>"
      ]
     },
     "metadata": {
      "needs_background": "light"
     },
     "output_type": "display_data"
    }
   ],
   "source": [
    "for i in range(size(m_f)):\n",
    "    plt.plot(CFM_array[i]*Nucleos,E_array_c[i],'.')"
   ]
  },
  {
   "cell_type": "code",
   "execution_count": 619,
   "metadata": {},
   "outputs": [
    {
     "data": {
      "text/plain": [
       "(288, 6)"
      ]
     },
     "execution_count": 619,
     "metadata": {},
     "output_type": "execute_result"
    }
   ],
   "source": [
    "len(W_t_L[i]),Nucleos"
   ]
  },
  {
   "cell_type": "code",
   "execution_count": 620,
   "metadata": {
    "scrolled": false
   },
   "outputs": [
    {
     "data": {
      "image/png": "[encoded data removed]",
      "text/plain": [
       "<Figure size 432x288 with 1 Axes>"
      ]
     },
     "metadata": {
      "needs_background": "light"
     },
     "output_type": "display_data"
    }
   ],
   "source": [
    "W_t_L = W_array_L+W_p_h_array/0.9\n",
    "#W_t_H = 2*W_array_H+W_p_h_array/0.9+W_p_c_array/0.9\n",
    "\n",
    "\n",
    "for i in range(size(m_f)):\n",
    "    plt.plot(np.array(W_t_L[i])*Nucleos,Ec_array_L[i],'.') #+ , label = '$\\dot{m}_\\mathrm{f}$ = ' + str(np.round(m_f[i]*3600,0)' [kg/h] - Low Fan')\n",
    "    #plt.plot(W_t_L_2[4],Ec_array_2[4],'.', label = '$\\dot{m}_\\mathrm{f}$ = ' + str(np.round(m_f[i]*3600,0)) + ' [kg/h] - Low Fan')\n",
    "    #plt.plot(W_t_H[i],Ec_array_H[i],'.', label = '$\\dot{m}_\\mathrm{f}$ = ' + str(np.round(m_f[i]*3600,0)) + ' [kg/h] - High Fan')\n",
    "#plt.legend(bbox_to_anchor=(1, 1))\n",
    "#plt.legend()\n",
    "plt.grid()\n",
    "plt.xlabel('$\\dot{W}_\\mathrm{T}$ [W]')\n",
    "plt.ylabel('$\\epsilon C_\\mathrm{r}$ [-]')\n",
    "#plt.xlim([0,2000])\n",
    "plt.show()"
   ]
  },
  {
   "cell_type": "code",
   "execution_count": 621,
   "metadata": {},
   "outputs": [],
   "source": [
    "W_t_L = W_array_L+W_p_h_array/0.9\n",
    "\n",
    "#plt.plot(W_p_h_array/W_p_c_array,'o')"
   ]
  },
  {
   "cell_type": "code",
   "execution_count": 622,
   "metadata": {},
   "outputs": [],
   "source": [
    "Ec_p_L = [[] for i in range(len(m_f))]\n",
    "W_p_L = [[] for i in range(len(m_f))]\n",
    "W_p_LA = [[] for i in range(len(m_f))]\n",
    "W_p_LW = [[] for i in range(len(m_f))]\n",
    "\n",
    "pf_p = []\n",
    "Nr_p = []\n",
    "Nl_p = []\n",
    "L1_p = []\n",
    "\n",
    "Ec_p_T = []\n",
    "W_p_T =[]\n",
    "W_p_W =[]\n",
    "W_p_A =[]\n",
    "m_f_T = []\n",
    "CFM_p = []\n",
    "\n",
    "for k in range(size(m_f)):\n",
    "    for i in range(len(Ec_array_L[k])):\n",
    "        A = 0\n",
    "        for j in  range(len(Ec_array_L[k])):\n",
    "            if Ec_array_L[k][i] < Ec_array_L[k][j] and W_t_L[k][i] > W_t_L[k][j]:\n",
    "                #print(i,j)\n",
    "                A = 1\n",
    "                #break\n",
    "        if A == 0 :\n",
    "            Ec_p_L[k].append(Ec_array_L[k][i])\n",
    "            W_p_L[k].append(W_t_L[k][i])\n",
    "            W_p_LA[k].append(W_array_L[k][i])\n",
    "            W_p_LW[k].append(W_p_h_array[k][i]/0.9)\n",
    "            \n",
    "            \n",
    "            \n",
    "            if Ec_array_L[k][i]>0.04 and W_t_L[k][i] < 3000 :\n",
    "                Ec_p_T.append(Ec_array_L[k][i])\n",
    "                CFM_p.append(CFM_array[k][i])\n",
    "                W_p_T.append(W_t_L[k][i]*Nucleos)\n",
    "                W_p_W.append(W_p_h_array[k][i]/0.9*Nucleos)\n",
    "                W_p_A.append(W_array_L[k][i]*Nucleos)\n",
    "                m_f_T.append(m_f[k])\n",
    "                pf_p.append(pf_array[k][i])\n",
    "                Nr_p.append(Nr_array[k][i])\n",
    "                Nl_p.append(Nl_array[k][i])\n",
    "                L1_p.append(L1_array[k][i])"
   ]
  },
  {
   "cell_type": "code",
   "execution_count": null,
   "metadata": {},
   "outputs": [],
   "source": []
  },
  {
   "cell_type": "code",
   "execution_count": 623,
   "metadata": {},
   "outputs": [
    {
     "data": {
      "text/plain": [
       "[<matplotlib.lines.Line2D at 0x2161f984550>]"
      ]
     },
     "execution_count": 623,
     "metadata": {},
     "output_type": "execute_result"
    },
    {
     "data": {
      "image/png": "[encoded data removed]",
      "text/plain": [
       "<Figure size 432x288 with 1 Axes>"
      ]
     },
     "metadata": {
      "needs_background": "light"
     },
     "output_type": "display_data"
    }
   ],
   "source": [
    "plt.plot(Ec_p_T,np.array(CFM_p)*24/np.array(Nl_p),'o')"
   ]
  },
  {
   "cell_type": "code",
   "execution_count": 624,
   "metadata": {
    "scrolled": true
   },
   "outputs": [
    {
     "ename": "PermissionError",
     "evalue": "[Errno 13] Permission denied: 'HEx.xlsx'",
     "output_type": "error",
     "traceback": [
      "\u001b[1;31m---------------------------------------------------------------------------\u001b[0m",
      "\u001b[1;31mPermissionError\u001b[0m                           Traceback (most recent call last)",
      "\u001b[1;32m<ipython-input-624-78ef4907b4e2>\u001b[0m in \u001b[0;36m<module>\u001b[1;34m()\u001b[0m\n\u001b[0;32m     16\u001b[0m     \u001b[0mData\u001b[0m\u001b[1;33m.\u001b[0m\u001b[0mwrite\u001b[0m\u001b[1;33m(\u001b[0m\u001b[0mi\u001b[0m\u001b[1;33m,\u001b[0m\u001b[1;36m8\u001b[0m\u001b[1;33m,\u001b[0m\u001b[0mL1_p\u001b[0m\u001b[1;33m[\u001b[0m\u001b[0mi\u001b[0m\u001b[1;33m]\u001b[0m\u001b[1;33m)\u001b[0m\u001b[1;33m\u001b[0m\u001b[0m\n\u001b[0;32m     17\u001b[0m \u001b[1;33m\u001b[0m\u001b[0m\n\u001b[1;32m---> 18\u001b[1;33m \u001b[0mworkbook\u001b[0m\u001b[1;33m.\u001b[0m\u001b[0mclose\u001b[0m\u001b[1;33m(\u001b[0m\u001b[1;33m)\u001b[0m\u001b[1;33m\u001b[0m\u001b[0m\n\u001b[0m",
      "\u001b[1;32m~\\Anaconda_new\\lib\\site-packages\\xlsxwriter\\workbook.py\u001b[0m in \u001b[0;36mclose\u001b[1;34m(self)\u001b[0m\n\u001b[0;32m    309\u001b[0m         \u001b[1;32mif\u001b[0m \u001b[1;32mnot\u001b[0m \u001b[0mself\u001b[0m\u001b[1;33m.\u001b[0m\u001b[0mfileclosed\u001b[0m\u001b[1;33m:\u001b[0m\u001b[1;33m\u001b[0m\u001b[0m\n\u001b[0;32m    310\u001b[0m             \u001b[0mself\u001b[0m\u001b[1;33m.\u001b[0m\u001b[0mfileclosed\u001b[0m \u001b[1;33m=\u001b[0m \u001b[1;36m1\u001b[0m\u001b[1;33m\u001b[0m\u001b[0m\n\u001b[1;32m--> 311\u001b[1;33m             \u001b[0mself\u001b[0m\u001b[1;33m.\u001b[0m\u001b[0m_store_workbook\u001b[0m\u001b[1;33m(\u001b[0m\u001b[1;33m)\u001b[0m\u001b[1;33m\u001b[0m\u001b[0m\n\u001b[0m\u001b[0;32m    312\u001b[0m \u001b[1;33m\u001b[0m\u001b[0m\n\u001b[0;32m    313\u001b[0m     \u001b[1;32mdef\u001b[0m \u001b[0mset_size\u001b[0m\u001b[1;33m(\u001b[0m\u001b[0mself\u001b[0m\u001b[1;33m,\u001b[0m \u001b[0mwidth\u001b[0m\u001b[1;33m,\u001b[0m \u001b[0mheight\u001b[0m\u001b[1;33m)\u001b[0m\u001b[1;33m:\u001b[0m\u001b[1;33m\u001b[0m\u001b[0m\n",
      "\u001b[1;32m~\\Anaconda_new\\lib\\site-packages\\xlsxwriter\\workbook.py\u001b[0m in \u001b[0;36m_store_workbook\u001b[1;34m(self)\u001b[0m\n\u001b[0;32m    638\u001b[0m \u001b[1;33m\u001b[0m\u001b[0m\n\u001b[0;32m    639\u001b[0m         xlsx_file = ZipFile(self.filename, \"w\", compression=ZIP_DEFLATED,\n\u001b[1;32m--> 640\u001b[1;33m                             allowZip64=self.allow_zip64)\n\u001b[0m\u001b[0;32m    641\u001b[0m \u001b[1;33m\u001b[0m\u001b[0m\n\u001b[0;32m    642\u001b[0m         \u001b[1;31m# Add XML sub-files to the Zip file with their Excel filename.\u001b[0m\u001b[1;33m\u001b[0m\u001b[1;33m\u001b[0m\u001b[0m\n",
      "\u001b[1;32m~\\Anaconda_new\\lib\\zipfile.py\u001b[0m in \u001b[0;36m__init__\u001b[1;34m(self, file, mode, compression, allowZip64)\u001b[0m\n\u001b[0;32m   1088\u001b[0m             \u001b[1;32mwhile\u001b[0m \u001b[1;32mTrue\u001b[0m\u001b[1;33m:\u001b[0m\u001b[1;33m\u001b[0m\u001b[0m\n\u001b[0;32m   1089\u001b[0m                 \u001b[1;32mtry\u001b[0m\u001b[1;33m:\u001b[0m\u001b[1;33m\u001b[0m\u001b[0m\n\u001b[1;32m-> 1090\u001b[1;33m                     \u001b[0mself\u001b[0m\u001b[1;33m.\u001b[0m\u001b[0mfp\u001b[0m \u001b[1;33m=\u001b[0m \u001b[0mio\u001b[0m\u001b[1;33m.\u001b[0m\u001b[0mopen\u001b[0m\u001b[1;33m(\u001b[0m\u001b[0mfile\u001b[0m\u001b[1;33m,\u001b[0m \u001b[0mfilemode\u001b[0m\u001b[1;33m)\u001b[0m\u001b[1;33m\u001b[0m\u001b[0m\n\u001b[0m\u001b[0;32m   1091\u001b[0m                 \u001b[1;32mexcept\u001b[0m \u001b[0mOSError\u001b[0m\u001b[1;33m:\u001b[0m\u001b[1;33m\u001b[0m\u001b[0m\n\u001b[0;32m   1092\u001b[0m                     \u001b[1;32mif\u001b[0m \u001b[0mfilemode\u001b[0m \u001b[1;32min\u001b[0m \u001b[0mmodeDict\u001b[0m\u001b[1;33m:\u001b[0m\u001b[1;33m\u001b[0m\u001b[0m\n",
      "\u001b[1;31mPermissionError\u001b[0m: [Errno 13] Permission denied: 'HEx.xlsx'"
     ]
    }
   ],
   "source": [
    "import xlsxwriter\n",
    "\n",
    "workbook = xlsxwriter.Workbook('HEx.xlsx')\n",
    "Data = workbook.add_worksheet('Data')\n",
    "#C = workbook.add_worksheet('C')\n",
    "\n",
    "for i in range(len(m_f_T)):\n",
    "    Data.write(i,0,m_f_T[i]*3600) \n",
    "    Data.write(i,1,Ec_p_T[i])\n",
    "    Data.write(i,2,W_p_T[i])\n",
    "    Data.write(i,3,W_p_A[i])\n",
    "    Data.write(i,4,W_p_W[i])\n",
    "    Data.write(i,5,pf_p[i])\n",
    "    Data.write(i,6,Nr_p[i])\n",
    "    Data.write(i,7,Nl_p[i])\n",
    "    Data.write(i,8,L1_p[i])\n",
    "\n",
    "workbook.close()"
   ]
  },
  {
   "cell_type": "markdown",
   "metadata": {},
   "source": [
    "Ec_p_H = [[] for i in range(len(m_f))]\n",
    "W_p_H = [[] for i in range(len(m_f))]\n",
    "\n",
    "Ec_p_T_H = []\n",
    "W_p_T_H =[]\n",
    "m_f_T_H = []\n",
    "\n",
    "for k in range(size(m_f)):\n",
    "    for i in range(len(Ec_array_H[k])):\n",
    "        A = 0\n",
    "        for j in  range(len(Ec_array_H[k])):\n",
    "            if Ec_array_H[k][i] < Ec_array_H[k][j] and W_t_H[k][i] > W_t_H[k][j]:\n",
    "                #print(i,j)\n",
    "                A = 1\n",
    "                #break\n",
    "        if A == 0 :\n",
    "            Ec_p_H[k].append(Ec_array_H[k][i])\n",
    "            W_p_H[k].append(W_t_H[k][i])\n",
    "            if Ec_array_H[k][i]>0.04 and W_t_H[k][i] < 2000 :\n",
    "                Ec_p_T_H.append(Ec_array_H[k][i])\n",
    "                W_p_T_H.append(W_t_H[k][i])\n",
    "                m_f_T_H.append(m_f[k])"
   ]
  },
  {
   "cell_type": "code",
   "execution_count": 625,
   "metadata": {
    "scrolled": false
   },
   "outputs": [
    {
     "data": {
      "text/plain": [
       "[]"
      ]
     },
     "execution_count": 625,
     "metadata": {},
     "output_type": "execute_result"
    },
    {
     "data": {
      "image/png": "[encoded data removed]",
      "text/plain": [
       "<Figure size 432x288 with 1 Axes>"
      ]
     },
     "metadata": {
      "needs_background": "light"
     },
     "output_type": "display_data"
    }
   ],
   "source": [
    "plt.plot(W_t_L[0],Ec_array_L[0],'o')\n",
    "#plt.plot(np.array(W_p_L[1])-np.array(W_p_LW[1]) - np.array(W_p_LA[1]),'.')\n",
    "plt.plot()"
   ]
  },
  {
   "cell_type": "code",
   "execution_count": 626,
   "metadata": {
    "scrolled": false
   },
   "outputs": [
    {
     "ename": "TypeError",
     "evalue": "'int' object is not subscriptable",
     "output_type": "error",
     "traceback": [
      "\u001b[1;31m---------------------------------------------------------------------------\u001b[0m",
      "\u001b[1;31mTypeError\u001b[0m                                 Traceback (most recent call last)",
      "\u001b[1;32m<ipython-input-626-08f5bc6bf87d>\u001b[0m in \u001b[0;36m<module>\u001b[1;34m()\u001b[0m\n\u001b[0;32m      1\u001b[0m \u001b[1;31m#W_t_L = 2*W_array_L+W_p_h_array_L/0.9+W_p_c_array_L/0.9\u001b[0m\u001b[1;33m\u001b[0m\u001b[1;33m\u001b[0m\u001b[0m\n\u001b[0;32m      2\u001b[0m \u001b[1;31m#for i in range(size(m_f)):\u001b[0m\u001b[1;33m\u001b[0m\u001b[1;33m\u001b[0m\u001b[0m\n\u001b[1;32m----> 3\u001b[1;33m \u001b[0mplt\u001b[0m\u001b[1;33m.\u001b[0m\u001b[0mplot\u001b[0m\u001b[1;33m(\u001b[0m\u001b[0mnp\u001b[0m\u001b[1;33m.\u001b[0m\u001b[0marray\u001b[0m\u001b[1;33m(\u001b[0m\u001b[0mW_t_L\u001b[0m\u001b[1;33m[\u001b[0m\u001b[1;36m0\u001b[0m\u001b[1;33m]\u001b[0m\u001b[1;33m)\u001b[0m\u001b[1;33m*\u001b[0m\u001b[0mNucleos\u001b[0m\u001b[1;33m[\u001b[0m\u001b[1;36m0\u001b[0m\u001b[1;33m]\u001b[0m\u001b[1;33m,\u001b[0m\u001b[0mEc_array_L\u001b[0m\u001b[1;33m[\u001b[0m\u001b[1;36m0\u001b[0m\u001b[1;33m]\u001b[0m\u001b[1;33m,\u001b[0m\u001b[1;34m'x'\u001b[0m\u001b[1;33m,\u001b[0m \u001b[0mlabel\u001b[0m \u001b[1;33m=\u001b[0m \u001b[1;34m'$\\dot{m}_\\mathrm{f}$ = '\u001b[0m \u001b[1;33m+\u001b[0m \u001b[0mstr\u001b[0m\u001b[1;33m(\u001b[0m\u001b[0mnp\u001b[0m\u001b[1;33m.\u001b[0m\u001b[0mround\u001b[0m\u001b[1;33m(\u001b[0m\u001b[0mm_f\u001b[0m\u001b[1;33m[\u001b[0m\u001b[1;36m0\u001b[0m\u001b[1;33m]\u001b[0m\u001b[1;33m*\u001b[0m\u001b[1;36m3600\u001b[0m\u001b[1;33m,\u001b[0m\u001b[1;36m0\u001b[0m\u001b[1;33m)\u001b[0m\u001b[1;33m)\u001b[0m \u001b[1;33m+\u001b[0m \u001b[1;34m' [kg/h]'\u001b[0m\u001b[1;33m)\u001b[0m\u001b[1;33m\u001b[0m\u001b[0m\n\u001b[0m\u001b[0;32m      4\u001b[0m     \u001b[1;31m#plt.plot(W_p_F[i],Ec_p_F[i],'.', label = '$\\dot{m}_\\mathrm{f}$ = ' + str(np.round(m_f[i]*3600,0)) + ' [kg/h]')\u001b[0m\u001b[1;33m\u001b[0m\u001b[1;33m\u001b[0m\u001b[0m\n\u001b[0;32m      5\u001b[0m \u001b[0mplt\u001b[0m\u001b[1;33m.\u001b[0m\u001b[0mlegend\u001b[0m\u001b[1;33m(\u001b[0m\u001b[0mbbox_to_anchor\u001b[0m\u001b[1;33m=\u001b[0m\u001b[1;33m(\u001b[0m\u001b[1;36m1\u001b[0m\u001b[1;33m,\u001b[0m \u001b[1;36m1\u001b[0m\u001b[1;33m)\u001b[0m\u001b[1;33m)\u001b[0m\u001b[1;33m\u001b[0m\u001b[0m\n",
      "\u001b[1;31mTypeError\u001b[0m: 'int' object is not subscriptable"
     ]
    }
   ],
   "source": [
    "#W_t_L = 2*W_array_L+W_p_h_array_L/0.9+W_p_c_array_L/0.9\n",
    "#for i in range(size(m_f)):\n",
    "plt.plot(np.array(W_t_L[0])*Nucleos[0],Ec_array_L[0],'x', label = '$\\dot{m}_\\mathrm{f}$ = ' + str(np.round(m_f[0]*3600,0)) + ' [kg/h]')\n",
    "    #plt.plot(W_p_F[i],Ec_p_F[i],'.', label = '$\\dot{m}_\\mathrm{f}$ = ' + str(np.round(m_f[i]*3600,0)) + ' [kg/h]')\n",
    "plt.legend(bbox_to_anchor=(1, 1))\n",
    "plt.legend()\n",
    "plt.grid()\n",
    "plt.xlabel('$\\dot{W}_\\mathrm{T}$ [W]')\n",
    "plt.ylabel('$\\epsilon C_\\mathrm{r}$ [-]')\n",
    "plt.xlim([0,1000])\n",
    "#plt.show()\n",
    "plt.savefig('ECr_Wt.png',format = 'png', dpi=500,bbox_inches='tight')"
   ]
  },
  {
   "cell_type": "code",
   "execution_count": 627,
   "metadata": {
    "scrolled": true
   },
   "outputs": [
    {
     "ename": "IndexError",
     "evalue": "list index out of range",
     "output_type": "error",
     "traceback": [
      "\u001b[1;31m---------------------------------------------------------------------------\u001b[0m",
      "\u001b[1;31mIndexError\u001b[0m                                Traceback (most recent call last)",
      "\u001b[1;32m<ipython-input-627-ed5a7dc8ceae>\u001b[0m in \u001b[0;36m<module>\u001b[1;34m()\u001b[0m\n\u001b[1;32m----> 1\u001b[1;33m \u001b[0mplt\u001b[0m\u001b[1;33m.\u001b[0m\u001b[0mplot\u001b[0m\u001b[1;33m(\u001b[0m\u001b[0mnp\u001b[0m\u001b[1;33m.\u001b[0m\u001b[0marray\u001b[0m\u001b[1;33m(\u001b[0m\u001b[0mW_p_L\u001b[0m\u001b[1;33m[\u001b[0m\u001b[0mi\u001b[0m\u001b[1;33m]\u001b[0m\u001b[1;33m)\u001b[0m\u001b[1;33m*\u001b[0m\u001b[0mNucleos\u001b[0m\u001b[1;33m,\u001b[0m\u001b[0mEc_p_L\u001b[0m\u001b[1;33m[\u001b[0m\u001b[0mi\u001b[0m\u001b[1;33m]\u001b[0m\u001b[1;33m)\u001b[0m\u001b[1;33m\u001b[0m\u001b[0m\n\u001b[0m",
      "\u001b[1;31mIndexError\u001b[0m: list index out of range"
     ]
    }
   ],
   "source": [
    "plt.plot(np.array(W_p_L[i])*Nucleos,Ec_p_L[i])"
   ]
  },
  {
   "cell_type": "code",
   "execution_count": 628,
   "metadata": {
    "scrolled": false
   },
   "outputs": [
    {
     "data": {
      "image/png": "[encoded data removed]",
      "text/plain": [
       "<Figure size 432x288 with 1 Axes>"
      ]
     },
     "metadata": {
      "needs_background": "light"
     },
     "output_type": "display_data"
    }
   ],
   "source": [
    "for i in range(size(m_f)):\n",
    "    plt.plot(np.array(W_p_L[i])*Nucleos,Ec_p_L[i],'.') #, label = 'N$_\\mathrm{circ}$ = ' + str(np.round(Nucleos[i]))\n",
    "    #plt.plot(np.array(W_p_L[i])*Nucleos,np.array(W_p_W)*Nucleos,'.')\n",
    "    #plt.plot(np.array(W_p_L[0])*Nucleos,Ec_p_L[0],'.', label = '$\\dot{m}_\\mathrm{f}$ = ' + str(np.round(m_f[0]*3600,0)) + ' [kg/h]')\n",
    "    #plt.plot(np.array(W_p_L[74])*Nucleos,Ec_p_L[74],'.', label = '$\\dot{m}_\\mathrm{f}$ = ' + str(np.round(m_f[74]*3600,0)) + ' [kg/h]')\n",
    "\n",
    "#plt.plot(W_p_H[i],Ec_p_H[i],'.', label = '$\\dot{m}_\\mathrm{f}$ = ' + str(np.round(m_f[i]*3600,0)) + ' [kg/h] - High')\n",
    "#plt.legend(bbox_to_anchor=(1, 1))\n",
    "#plt.legend()\n",
    "plt.grid()\n",
    "plt.xlabel('$\\dot{W}_\\mathrm{T}$ [W]')\n",
    "plt.ylabel('$\\epsilon C_\\mathrm{r}$ [-]')\n",
    "#plt.xlim([0,200])\n",
    "#plt.ylim(0.025,0.2)\n",
    "#plt.show()\n",
    "plt.savefig('ECr_Wt_Pareto_Multi_C.png',format = 'png', dpi=500,bbox_inches='tight')"
   ]
  },
  {
   "cell_type": "code",
   "execution_count": 567,
   "metadata": {},
   "outputs": [
    {
     "ename": "TypeError",
     "evalue": "'int' object is not subscriptable",
     "output_type": "error",
     "traceback": [
      "\u001b[1;31m---------------------------------------------------------------------------\u001b[0m",
      "\u001b[1;31mTypeError\u001b[0m                                 Traceback (most recent call last)",
      "\u001b[1;32m<ipython-input-567-9e545bf03d0e>\u001b[0m in \u001b[0;36m<module>\u001b[1;34m()\u001b[0m\n\u001b[1;32m----> 1\u001b[1;33m \u001b[0mplt\u001b[0m\u001b[1;33m.\u001b[0m\u001b[0mplot\u001b[0m\u001b[1;33m(\u001b[0m\u001b[0mNucleos\u001b[0m\u001b[1;33m[\u001b[0m\u001b[1;36m0\u001b[0m\u001b[1;33m]\u001b[0m\u001b[1;33m*\u001b[0m\u001b[0mnp\u001b[0m\u001b[1;33m.\u001b[0m\u001b[0marray\u001b[0m\u001b[1;33m(\u001b[0m\u001b[0mW_p_L\u001b[0m\u001b[1;33m[\u001b[0m\u001b[1;36m0\u001b[0m\u001b[1;33m]\u001b[0m\u001b[1;33m)\u001b[0m\u001b[1;33m,\u001b[0m\u001b[0mEc_p_L\u001b[0m\u001b[1;33m[\u001b[0m\u001b[1;36m0\u001b[0m\u001b[1;33m]\u001b[0m\u001b[1;33m,\u001b[0m\u001b[1;34m'.'\u001b[0m\u001b[1;33m,\u001b[0m \u001b[0mlabel\u001b[0m \u001b[1;33m=\u001b[0m \u001b[1;34m'$\\dot{m}_\\mathrm{f}$ = '\u001b[0m \u001b[1;33m+\u001b[0m \u001b[0mstr\u001b[0m\u001b[1;33m(\u001b[0m\u001b[0mnp\u001b[0m\u001b[1;33m.\u001b[0m\u001b[0mround\u001b[0m\u001b[1;33m(\u001b[0m\u001b[0mm_f\u001b[0m\u001b[1;33m[\u001b[0m\u001b[1;36m0\u001b[0m\u001b[1;33m]\u001b[0m\u001b[1;33m*\u001b[0m\u001b[1;36m3600\u001b[0m\u001b[1;33m,\u001b[0m\u001b[1;36m0\u001b[0m\u001b[1;33m)\u001b[0m\u001b[1;33m)\u001b[0m \u001b[1;33m+\u001b[0m \u001b[1;34m' [kg/h] - Low'\u001b[0m\u001b[1;33m)\u001b[0m\u001b[1;33m\u001b[0m\u001b[0m\n\u001b[0m\u001b[0;32m      2\u001b[0m \u001b[0mplt\u001b[0m\u001b[1;33m.\u001b[0m\u001b[0mplot\u001b[0m\u001b[1;33m(\u001b[0m\u001b[0mNucleos\u001b[0m\u001b[1;33m[\u001b[0m\u001b[1;36m1\u001b[0m\u001b[1;33m]\u001b[0m\u001b[1;33m*\u001b[0m\u001b[0mnp\u001b[0m\u001b[1;33m.\u001b[0m\u001b[0marray\u001b[0m\u001b[1;33m(\u001b[0m\u001b[0mW_p_L\u001b[0m\u001b[1;33m[\u001b[0m\u001b[1;36m1\u001b[0m\u001b[1;33m]\u001b[0m\u001b[1;33m)\u001b[0m\u001b[1;33m,\u001b[0m\u001b[0mEc_p_L\u001b[0m\u001b[1;33m[\u001b[0m\u001b[1;36m1\u001b[0m\u001b[1;33m]\u001b[0m\u001b[1;33m,\u001b[0m\u001b[1;34m'.'\u001b[0m\u001b[1;33m,\u001b[0m \u001b[0mlabel\u001b[0m \u001b[1;33m=\u001b[0m \u001b[1;34m'$\\dot{m}_\\mathrm{f}$ = '\u001b[0m \u001b[1;33m+\u001b[0m \u001b[0mstr\u001b[0m\u001b[1;33m(\u001b[0m\u001b[0mnp\u001b[0m\u001b[1;33m.\u001b[0m\u001b[0mround\u001b[0m\u001b[1;33m(\u001b[0m\u001b[0mm_f\u001b[0m\u001b[1;33m[\u001b[0m\u001b[1;36m1\u001b[0m\u001b[1;33m]\u001b[0m\u001b[1;33m*\u001b[0m\u001b[1;36m3600\u001b[0m\u001b[1;33m,\u001b[0m\u001b[1;36m0\u001b[0m\u001b[1;33m)\u001b[0m\u001b[1;33m)\u001b[0m \u001b[1;33m+\u001b[0m \u001b[1;34m' [kg/h] - Low'\u001b[0m\u001b[1;33m)\u001b[0m\u001b[1;33m\u001b[0m\u001b[0m\n\u001b[0;32m      3\u001b[0m \u001b[0mplt\u001b[0m\u001b[1;33m.\u001b[0m\u001b[0mplot\u001b[0m\u001b[1;33m(\u001b[0m\u001b[0mNucleos\u001b[0m\u001b[1;33m[\u001b[0m\u001b[1;36m2\u001b[0m\u001b[1;33m]\u001b[0m\u001b[1;33m*\u001b[0m\u001b[0mnp\u001b[0m\u001b[1;33m.\u001b[0m\u001b[0marray\u001b[0m\u001b[1;33m(\u001b[0m\u001b[0mW_p_L\u001b[0m\u001b[1;33m[\u001b[0m\u001b[1;36m2\u001b[0m\u001b[1;33m]\u001b[0m\u001b[1;33m)\u001b[0m\u001b[1;33m,\u001b[0m\u001b[0mEc_p_L\u001b[0m\u001b[1;33m[\u001b[0m\u001b[1;36m2\u001b[0m\u001b[1;33m]\u001b[0m\u001b[1;33m,\u001b[0m\u001b[1;34m'.'\u001b[0m\u001b[1;33m,\u001b[0m \u001b[0mlabel\u001b[0m \u001b[1;33m=\u001b[0m \u001b[1;34m'$\\dot{m}_\\mathrm{f}$ = '\u001b[0m \u001b[1;33m+\u001b[0m \u001b[0mstr\u001b[0m\u001b[1;33m(\u001b[0m\u001b[0mnp\u001b[0m\u001b[1;33m.\u001b[0m\u001b[0mround\u001b[0m\u001b[1;33m(\u001b[0m\u001b[0mm_f\u001b[0m\u001b[1;33m[\u001b[0m\u001b[1;36m2\u001b[0m\u001b[1;33m]\u001b[0m\u001b[1;33m*\u001b[0m\u001b[1;36m3600\u001b[0m\u001b[1;33m,\u001b[0m\u001b[1;36m0\u001b[0m\u001b[1;33m)\u001b[0m\u001b[1;33m)\u001b[0m \u001b[1;33m+\u001b[0m \u001b[1;34m' [kg/h] - Low'\u001b[0m\u001b[1;33m)\u001b[0m\u001b[1;33m\u001b[0m\u001b[0m\n\u001b[0;32m      4\u001b[0m \u001b[0mplt\u001b[0m\u001b[1;33m.\u001b[0m\u001b[0mplot\u001b[0m\u001b[1;33m(\u001b[0m\u001b[0mNucleos\u001b[0m\u001b[1;33m[\u001b[0m\u001b[1;36m3\u001b[0m\u001b[1;33m]\u001b[0m\u001b[1;33m*\u001b[0m\u001b[0mnp\u001b[0m\u001b[1;33m.\u001b[0m\u001b[0marray\u001b[0m\u001b[1;33m(\u001b[0m\u001b[0mW_p_L\u001b[0m\u001b[1;33m[\u001b[0m\u001b[1;36m3\u001b[0m\u001b[1;33m]\u001b[0m\u001b[1;33m)\u001b[0m\u001b[1;33m,\u001b[0m\u001b[0mEc_p_L\u001b[0m\u001b[1;33m[\u001b[0m\u001b[1;36m3\u001b[0m\u001b[1;33m]\u001b[0m\u001b[1;33m,\u001b[0m\u001b[1;34m'.'\u001b[0m\u001b[1;33m,\u001b[0m \u001b[0mlabel\u001b[0m \u001b[1;33m=\u001b[0m \u001b[1;34m'$\\dot{m}_\\mathrm{f}$ = '\u001b[0m \u001b[1;33m+\u001b[0m \u001b[0mstr\u001b[0m\u001b[1;33m(\u001b[0m\u001b[0mnp\u001b[0m\u001b[1;33m.\u001b[0m\u001b[0mround\u001b[0m\u001b[1;33m(\u001b[0m\u001b[0mm_f\u001b[0m\u001b[1;33m[\u001b[0m\u001b[1;36m3\u001b[0m\u001b[1;33m]\u001b[0m\u001b[1;33m*\u001b[0m\u001b[1;36m3600\u001b[0m\u001b[1;33m,\u001b[0m\u001b[1;36m0\u001b[0m\u001b[1;33m)\u001b[0m\u001b[1;33m)\u001b[0m \u001b[1;33m+\u001b[0m \u001b[1;34m' [kg/h] - Low'\u001b[0m\u001b[1;33m)\u001b[0m\u001b[1;33m\u001b[0m\u001b[0m\n\u001b[0;32m      5\u001b[0m \u001b[0mplt\u001b[0m\u001b[1;33m.\u001b[0m\u001b[0mlegend\u001b[0m\u001b[1;33m(\u001b[0m\u001b[0mbbox_to_anchor\u001b[0m\u001b[1;33m=\u001b[0m\u001b[1;33m(\u001b[0m\u001b[1;36m1\u001b[0m\u001b[1;33m,\u001b[0m \u001b[1;36m1\u001b[0m\u001b[1;33m)\u001b[0m\u001b[1;33m)\u001b[0m\u001b[1;33m\u001b[0m\u001b[0m\n",
      "\u001b[1;31mTypeError\u001b[0m: 'int' object is not subscriptable"
     ]
    }
   ],
   "source": [
    "plt.plot(Nucleos[0]*np.array(W_p_L[0]),Ec_p_L[0],'.', label = '$\\dot{m}_\\mathrm{f}$ = ' + str(np.round(m_f[0]*3600,0)) + ' [kg/h] - Low')\n",
    "plt.plot(Nucleos[1]*np.array(W_p_L[1]),Ec_p_L[1],'.', label = '$\\dot{m}_\\mathrm{f}$ = ' + str(np.round(m_f[1]*3600,0)) + ' [kg/h] - Low')\n",
    "plt.plot(Nucleos[2]*np.array(W_p_L[2]),Ec_p_L[2],'.', label = '$\\dot{m}_\\mathrm{f}$ = ' + str(np.round(m_f[2]*3600,0)) + ' [kg/h] - Low')\n",
    "plt.plot(Nucleos[3]*np.array(W_p_L[3]),Ec_p_L[3],'.', label = '$\\dot{m}_\\mathrm{f}$ = ' + str(np.round(m_f[3]*3600,0)) + ' [kg/h] - Low')\n",
    "plt.legend(bbox_to_anchor=(1, 1))\n",
    "plt.legend()\n",
    "plt.grid()\n",
    "plt.xlabel('$\\dot{W}_\\mathrm{T}$ [W]')\n",
    "plt.ylabel('$\\epsilon C_\\mathrm{r}$ [-]')\n",
    "plt.xlim([50,500])\n",
    "#plt.show()\n",
    "plt.savefig('ECr_Wt_Pareto.png',format = 'png', dpi=500,bbox_inches='tight')"
   ]
  },
  {
   "cell_type": "code",
   "execution_count": 568,
   "metadata": {},
   "outputs": [],
   "source": [
    "def Paretto_HEx(X,a,b,c,d,e,f):\n",
    "    P1,P2= X\n",
    "    return (a*P1**b*P2**c+d*P1**1 + f*P2**1)  "
   ]
  },
  {
   "cell_type": "code",
   "execution_count": 569,
   "metadata": {
    "scrolled": false
   },
   "outputs": [
    {
     "name": "stderr",
     "output_type": "stream",
     "text": [
      "C:\\Users\\Usuario\\Anaconda_new\\lib\\site-packages\\scipy\\optimize\\minpack.py:794: OptimizeWarning: Covariance of the parameters could not be estimated\n",
      "  category=OptimizeWarning)\n"
     ]
    },
    {
     "data": {
      "text/plain": [
       "(array([-0.01260996,  0.05856449,  1.04297621, -0.26806811,  1.        ,\n",
       "         0.01493685]), array([[inf, inf, inf, inf, inf, inf],\n",
       "        [inf, inf, inf, inf, inf, inf],\n",
       "        [inf, inf, inf, inf, inf, inf],\n",
       "        [inf, inf, inf, inf, inf, inf],\n",
       "        [inf, inf, inf, inf, inf, inf],\n",
       "        [inf, inf, inf, inf, inf, inf]]))"
      ]
     },
     "execution_count": 569,
     "metadata": {},
     "output_type": "execute_result"
    }
   ],
   "source": [
    "Paret_Hex = curve_fit(Paretto_HEx,(m_f_T,W_p_T),Ec_p_T,maxfev=1000000)\n",
    "Paret_Hex"
   ]
  },
  {
   "cell_type": "code",
   "execution_count": 570,
   "metadata": {},
   "outputs": [
    {
     "data": {
      "text/plain": [
       "[<matplotlib.lines.Line2D at 0x2161fac8f60>]"
      ]
     },
     "execution_count": 570,
     "metadata": {},
     "output_type": "execute_result"
    },
    {
     "data": {
      "image/png": "[encoded data removed]",
      "text/plain": [
       "<Figure size 432x288 with 1 Axes>"
      ]
     },
     "metadata": {
      "needs_background": "light"
     },
     "output_type": "display_data"
    }
   ],
   "source": [
    "plt.plot(W_p_T,Ec_p_T,'o',label = 'Numerical')\n",
    "plt.plot(np.array(W_p_W) +np.array(W_p_A) ,Ec_p_T,'o',label = 'Numerical')"
   ]
  },
  {
   "cell_type": "code",
   "execution_count": 335,
   "metadata": {
    "scrolled": false
   },
   "outputs": [
    {
     "data": {
      "image/png": "[encoded data removed]",
      "text/plain": [
       "<Figure size 432x288 with 1 Axes>"
      ]
     },
     "metadata": {
      "needs_background": "light"
     },
     "output_type": "display_data"
    }
   ],
   "source": [
    "plt.plot(W_p_T,Ec_p_T,'o',label = 'Numerical')\n",
    "#plt.plot(W_p_T_H,Ec_p_T_H,'o')\n",
    "plt.plot(W_p_T,Paretto_HEx((np.array(m_f_T),np.array(W_p_T)),Paret_Hex[0][0],Paret_Hex[0][1],Paret_Hex[0][2],Paret_Hex[0][3],Paret_Hex[0][4],Paret_Hex[0][5]),'x',label = 'Fitting')\n",
    "#plt.savefig('ECr_Wt_Pareto.png',format = 'png', dpi=500,bbox_inches='tight')\n",
    "plt.legend()\n",
    "plt.grid()\n",
    "plt.xlabel('$\\dot{W}_\\mathrm{T}$ [W]')\n",
    "plt.ylabel('$\\epsilon C_\\mathrm{r}$ [-]')\n",
    "plt.savefig('Fitting.png',format = 'png', dpi=500,bbox_inches='tight')"
   ]
  },
  {
   "cell_type": "code",
   "execution_count": null,
   "metadata": {},
   "outputs": [],
   "source": []
  },
  {
   "cell_type": "code",
   "execution_count": 336,
   "metadata": {},
   "outputs": [
    {
     "data": {
      "text/plain": [
       "[<matplotlib.lines.Line2D at 0x1b3f8d267b8>]"
      ]
     },
     "execution_count": 336,
     "metadata": {},
     "output_type": "execute_result"
    },
    {
     "data": {
      "image/png": "[encoded data removed]",
      "text/plain": [
       "<Figure size 432x288 with 1 Axes>"
      ]
     },
     "metadata": {
      "needs_background": "light"
     },
     "output_type": "display_data"
    }
   ],
   "source": [
    "Erro_HEx = abs(Ec_p_T - Paretto_HEx((np.array(m_f_T),np.array(W_p_T)),Paret_Hex[0][0],Paret_Hex[0][1],Paret_Hex[0][2],Paret_Hex[0][3],Paret_Hex[0][4],Paret_Hex[0][5]))/Ec_p_T*100\n",
    "plt.plot(W_p_T,Erro_HEx,'x')"
   ]
  },
  {
   "cell_type": "code",
   "execution_count": 451,
   "metadata": {},
   "outputs": [
    {
     "data": {
      "text/plain": [
       "(38, 38)"
      ]
     },
     "execution_count": 451,
     "metadata": {},
     "output_type": "execute_result"
    }
   ],
   "source": [
    "len(2600/(np.array(Ec_p_L[i])*m_f[i]*4000)*m_f[i]),len(Ec_p_L[i])"
   ]
  },
  {
   "cell_type": "code",
   "execution_count": 452,
   "metadata": {},
   "outputs": [],
   "source": [
    "W_t_L_c = W_array_L+W_p_c_array/0.9\n",
    "W_t_H_h = W_array_H+W_p_h_array/0.9"
   ]
  },
  {
   "cell_type": "code",
   "execution_count": 30,
   "metadata": {},
   "outputs": [],
   "source": [
    "dT_L = [[] for i in range(len(m_f))]\n",
    "dT_H = [[] for i in range(len(m_f))]\n",
    "\n",
    "Qc = 2650\n",
    "#Qc = 0\n",
    "#Qh = 1.5*2650\n",
    "Qh = 0\n",
    "for i in range(len(m_f)):\n",
    "    dT_L[i].append((Qc+Qh)/(np.array(Ec_p_L[i])*m_f[i]*4000))\n",
    "    dT_H[i].append((Qc+Qh)/(np.array(Ec_p_H[i])*m_f[i]*4000))"
   ]
  },
  {
   "cell_type": "code",
   "execution_count": 31,
   "metadata": {
    "scrolled": true
   },
   "outputs": [
    {
     "data": {
      "image/png": "[encoded data removed]",
      "text/plain": [
       "<Figure size 432x288 with 1 Axes>"
      ]
     },
     "metadata": {},
     "output_type": "display_data"
    }
   ],
   "source": [
    "for i in range(len(m_f)):\n",
    "    plt.plot(Ec_p_L[i],dT_L[i][0],'o')\n",
    "    #plt.plot(W_p_H[i],dT_H[i][0],'o')\n",
    "plt.grid()\n",
    "#plt.xlim([0,1000])"
   ]
  },
  {
   "cell_type": "code",
   "execution_count": 32,
   "metadata": {
    "scrolled": true
   },
   "outputs": [
    {
     "data": {
      "image/png": "[encoded data removed]",
      "text/plain": [
       "<Figure size 432x288 with 1 Axes>"
      ]
     },
     "metadata": {},
     "output_type": "display_data"
    }
   ],
   "source": [
    "for i in range(len(m_f)):\n",
    "    #plt.plot(Ec_p_L[i],dT_L[i][0],'o')\n",
    "    plt.plot(np.array(W_p_L[i])/2,17-dT_L[i][0],'o')\n",
    "plt.grid()\n",
    "plt.xlabel('$\\dot{W}_\\mathrm{T}$ [W]')\n",
    "plt.ylabel('$T_\\mathrm{CE}$ [$^o$C]')\n",
    "plt.xlim([0,500])\n",
    "plt.savefig('TCE.png',format = 'png', dpi=500,bbox_inches='tight')"
   ]
  },
  {
   "cell_type": "code",
   "execution_count": 1504,
   "metadata": {
    "scrolled": true
   },
   "outputs": [
    {
     "data": {
      "text/plain": [
       "[<matplotlib.lines.Line2D at 0x26952a0a7b8>]"
      ]
     },
     "execution_count": 1504,
     "metadata": {},
     "output_type": "execute_result"
    },
    {
     "data": {
      "image/png": "[encoded data removed]",
      "text/plain": [
       "<Figure size 432x288 with 1 Axes>"
      ]
     },
     "metadata": {},
     "output_type": "display_data"
    }
   ],
   "source": [
    "plt.plot(W_p_L[0],dT_L[0][0],'o')\n",
    "plt.plot(W_p_H[0],dT_H[0][0],'o')"
   ]
  },
  {
   "cell_type": "code",
   "execution_count": 1295,
   "metadata": {},
   "outputs": [
    {
     "ename": "NameError",
     "evalue": "name 'W_array_' is not defined",
     "output_type": "error",
     "traceback": [
      "\u001b[1;31m---------------------------------------------------------------------------\u001b[0m",
      "\u001b[1;31mNameError\u001b[0m                                 Traceback (most recent call last)",
      "\u001b[1;32m<ipython-input-1295-170245d79586>\u001b[0m in \u001b[0;36m<module>\u001b[1;34m()\u001b[0m\n\u001b[1;32m----> 1\u001b[1;33m \u001b[0mplt\u001b[0m\u001b[1;33m.\u001b[0m\u001b[0mplot\u001b[0m\u001b[1;33m(\u001b[0m\u001b[0mW_array_\u001b[0m\u001b[1;33m,\u001b[0m\u001b[0mEc_final\u001b[0m\u001b[1;33m,\u001b[0m\u001b[1;34m'.'\u001b[0m\u001b[1;33m)\u001b[0m\u001b[1;33m\u001b[0m\u001b[0m\n\u001b[0m\u001b[0;32m      2\u001b[0m \u001b[0mplt\u001b[0m\u001b[1;33m.\u001b[0m\u001b[0mplot\u001b[0m\u001b[1;33m(\u001b[0m\u001b[0mW_p_F\u001b[0m\u001b[1;33m,\u001b[0m\u001b[0mEc_p_F\u001b[0m\u001b[1;33m,\u001b[0m\u001b[1;34m'x'\u001b[0m\u001b[1;33m)\u001b[0m\u001b[1;33m\u001b[0m\u001b[0m\n\u001b[0;32m      3\u001b[0m \u001b[1;33m\u001b[0m\u001b[0m\n\u001b[0;32m      4\u001b[0m \u001b[1;31m#plt.plot(W_t_L,Ec_array_L,'.')\u001b[0m\u001b[1;33m\u001b[0m\u001b[1;33m\u001b[0m\u001b[0m\n\u001b[0;32m      5\u001b[0m \u001b[1;31m#plt.plot(W_p_L,Ec_p_L,'x')\u001b[0m\u001b[1;33m\u001b[0m\u001b[1;33m\u001b[0m\u001b[0m\n",
      "\u001b[1;31mNameError\u001b[0m: name 'W_array_' is not defined"
     ]
    }
   ],
   "source": [
    "plt.plot(W_array_,Ec_final,'.')\n",
    "plt.plot(W_p_F,Ec_p_F,'x')\n",
    "\n",
    "#plt.plot(W_t_L,Ec_array_L,'.')\n",
    "#plt.plot(W_p_L,Ec_p_L,'x')\n",
    "\n",
    "plt.grid()\n",
    "plt.xlabel('$\\dot{W}_\\mathrm{T}$ [W]')\n",
    "plt.ylabel('$\\epsilon C_\\mathrm{r}$ [-]')\n",
    "plt.show()\n",
    "plt.savefig('Fan_Both_mf_2400.pdf',format = 'pdf', dpi=500,bbox_inches='tight')"
   ]
  },
  {
   "cell_type": "code",
   "execution_count": null,
   "metadata": {},
   "outputs": [],
   "source": [
    "aux = arange(0,600,1)\n",
    "\n",
    "plt.plot(W_p_F,Ec_p_F,'x')\n",
    "plt.plot(aux,(0.14/450)*array(aux)+0.04-14/450)\n",
    "plt.grid()\n",
    "plt.xlabel('$\\dot{W}_\\mathrm{T}$ [W]')\n",
    "plt.ylabel('$\\epsilon C_\\mathrm{r}$ [-]')\n",
    "\n",
    "plt.xlim([80,580])\n",
    "plt.ylim([0.03,0.19])\n",
    "plt.show()\n",
    "#plt.savefig('Fan_Both_mf_2400_Paretto.pdf',format = 'pdf', dpi=500,bbox_inches='tight')"
   ]
  },
  {
   "cell_type": "code",
   "execution_count": null,
   "metadata": {},
   "outputs": [],
   "source": [
    "plt.plot(W_p_c_array/m_f/100,'o',label = 'Hot')\n",
    "plt.plot(W_p_h_array/m_f/100,'o', label = 'Cold')\n",
    "plt.legend()"
   ]
  },
  {
   "cell_type": "code",
   "execution_count": 233,
   "metadata": {
    "scrolled": true
   },
   "outputs": [
    {
     "name": "stdout",
     "output_type": "stream",
     "text": [
      "5.693898462958798 200.0 5.0\n",
      "5.696257913842089 200.0 5.0\n",
      "5.698528461412103 200.0 5.0\n",
      "5.7007150375238025 200.0 5.0\n",
      "5.702822215866444 200.0 5.0\n",
      "5.704854243897611 200.0 5.0\n",
      "5.706815071420374 200.0 5.0\n",
      "5.708708376208279 200.0 5.0\n",
      "5.7105375870278285 200.0 5.0\n",
      "5.712305904361795 200.0 5.0\n",
      "5.714016319096771 200.0 5.0\n"
     ]
    }
   ],
   "source": [
    "W = []\n",
    "Ec = []\n",
    "Eh = []\n",
    "Re_dc = []\n",
    "dP = []\n",
    "\n",
    "for i in range(len(N_r)):\n",
    "    A = HEx(Xl,Xt,N_r[i],N_l,L1,Di,De,pf,xf,sigmaf,sigmah,pd,m_f)\n",
    "    W.append(A[0])\n",
    "    Ec.append(A[1])\n",
    "    Eh.append(A[2])\n",
    "    Re_dc.append(A[3])\n",
    "    dP.append(A[4])"
   ]
  },
  {
   "cell_type": "code",
   "execution_count": 262,
   "metadata": {},
   "outputs": [
    {
     "data": {
      "text/plain": [
       "-0.535714334967782"
      ]
     },
     "execution_count": 262,
     "metadata": {},
     "output_type": "execute_result"
    }
   ],
   "source": [
    "\n",
    "A[0]\n",
    "\n",
    "fan(2250*0.588578,A[0][0],A[0][1],A[0][2])"
   ]
  },
  {
   "cell_type": "code",
   "execution_count": 288,
   "metadata": {},
   "outputs": [
    {
     "data": {
      "text/plain": [
       "1210"
      ]
     },
     "execution_count": 288,
     "metadata": {},
     "output_type": "execute_result"
    }
   ],
   "source": [
    "aux = fan(VFR,A[0][0],A[0][1],A[0][2])-dP[0]\n",
    "inter = np.abs(aux).argmin()\n"
   ]
  },
  {
   "cell_type": "code",
   "execution_count": 277,
   "metadata": {},
   "outputs": [
    {
     "data": {
      "text/plain": [
       "[<matplotlib.lines.Line2D at 0x2694a9cac18>]"
      ]
     },
     "execution_count": 277,
     "metadata": {},
     "output_type": "execute_result"
    },
    {
     "data": {
      "image/png": "[encoded data removed]",
      "text/plain": [
       "<Figure size 432x288 with 1 Axes>"
      ]
     },
     "metadata": {},
     "output_type": "display_data"
    }
   ],
   "source": [
    "plt.plot(aux)"
   ]
  },
  {
   "cell_type": "code",
   "execution_count": 285,
   "metadata": {},
   "outputs": [
    {
     "data": {
      "text/plain": [
       "[]"
      ]
     },
     "execution_count": 285,
     "metadata": {},
     "output_type": "execute_result"
    },
    {
     "data": {
      "image/png": "[encoded data removed]",
      "text/plain": [
       "<Figure size 432x288 with 1 Axes>"
      ]
     },
     "metadata": {},
     "output_type": "display_data"
    }
   ],
   "source": [
    "dP_v = np.array([37,35,30,22,11,0])\n",
    "V  = np.array([1000,1250,1500,1750,2000,2250])*0.588578\n",
    "A = curve_fit(fan,V,dP_v,maxfev=10000)\n",
    "VFR = np.arange(10,1500,1)\n",
    "plt.plot(VFR,fan(VFR,A[0][0],A[0][1],A[0][2]))\n",
    "plt.plot(VFR,dP[0])\n",
    "plt.ylim([8,10])\n",
    "plt.grid()\n",
    "plt.plot()"
   ]
  },
  {
   "cell_type": "markdown",
   "metadata": {},
   "source": [
    "https://www.ebmpapst.com/en/products/axial-fans/axialfansdetail.php?pID=139216"
   ]
  },
  {
   "cell_type": "code",
   "execution_count": 239,
   "metadata": {
    "scrolled": true
   },
   "outputs": [
    {
     "data": {
      "image/png": "[encoded data removed]",
      "text/plain": [
       "<Figure size 432x288 with 1 Axes>"
      ]
     },
     "metadata": {},
     "output_type": "display_data"
    }
   ],
   "source": [
    "for i in range(len(N_r)):\n",
    "    plt.plot(VFR,dP[i],label = str(round(N_r[i])))\n",
    "plt.plot(V,dP_v)\n",
    "plt.legend()\n",
    "plt.grid()"
   ]
  },
  {
   "cell_type": "code",
   "execution_count": 240,
   "metadata": {
    "scrolled": true
   },
   "outputs": [
    {
     "data": {
      "image/png": "[encoded data removed]",
      "text/plain": [
       "<Figure size 432x288 with 1 Axes>"
      ]
     },
     "metadata": {},
     "output_type": "display_data"
    }
   ],
   "source": [
    "for i in range(len(N_r)):\n",
    "    plt.plot(VFR,W[i],label = str(round(N_r[i])))\n",
    "    #plt.ylim([0,50])"
   ]
  },
  {
   "cell_type": "code",
   "execution_count": 222,
   "metadata": {
    "scrolled": true
   },
   "outputs": [
    {
     "data": {
      "image/png": "[encoded data removed]",
      "text/plain": [
       "<Figure size 432x288 with 1 Axes>"
      ]
     },
     "metadata": {},
     "output_type": "display_data"
    }
   ],
   "source": [
    "for i in range(len(N_r)):\n",
    "    plt.plot(W[i],Ec[i],label = r'X$_\\mathrm{l}$ = ' + str(round(N_r[i]*1000,1)) + 'mm')\n",
    "plt.legend()\n",
    "plt.xlabel('$\\dot{W}_\\mathrm{fan}$ [W]')\n",
    "plt.ylabel('$ \\epsilon C_\\mathrm{r}$ [-]')\n",
    "plt.grid()\n",
    "#plt.savefig('X_l.pdf',format = 'pdf', dpi=500,bbox_inches='tight')"
   ]
  },
  {
   "cell_type": "code",
   "execution_count": 11,
   "metadata": {},
   "outputs": [
    {
     "data": {
      "text/plain": [
       "(4143.850630525167, 6555.959985454802)"
      ]
     },
     "execution_count": 11,
     "metadata": {},
     "output_type": "execute_result"
    }
   ],
   "source": [
    "Di = 0.15\n",
    "m_f = 2000/3600\n",
    "A_min_i = np.pi*(0.15**2)/4\n",
    "G_i = m_f/A_min_i\n",
    "\n",
    "mu_wc = 0.001138   #[kg/(m.s)] Viscosity in the cold line (15ºC)\n",
    "mu_wh = 0.0007193 \n",
    "\n",
    "Re_ic = G_i*Di/mu_wc \n",
    "Re_ih = G_i*Di/mu_wh \n",
    "Re_ic,Re_ih"
   ]
  },
  {
   "cell_type": "markdown",
   "metadata": {},
   "source": [
    "Constant inputs"
   ]
  },
  {
   "cell_type": "code",
   "execution_count": 192,
   "metadata": {},
   "outputs": [],
   "source": [
    "##Properties of the solid \n",
    "\n",
    "rho_s = 7900  #[kg/m3] Density of the solid\n",
    "k_s   = 8 #[W/(m2.K)] #Thermal conductivity of the solid\n",
    "\n",
    "## Propertis of the fluid\n",
    "\n",
    "rho_f = 1000  #[kg/m3] Density of the fluid\n",
    "c_f   = 4181  #[kJ/(kg.K)] # Specific heat of the fluid\n",
    "Pr_f  = 6.136 #[-] Prandtl of the fluid\n",
    "mu_f  = 0.00061 #0.0008901 #[kg/m-2] #Viscosity of the fluid\n",
    "k_f   = 0.6065  #[W/(m2.K)] #Thermal conductivity of the fluid\n",
    "\n",
    "## Porous medium\n",
    "d_p = 500*10**(-6) #[m] Particle diameter\n",
    "Epsilon = 0.45  #[-] Porosity"
   ]
  },
  {
   "cell_type": "markdown",
   "metadata": {},
   "source": [
    "Properties Calculation"
   ]
  },
  {
   "cell_type": "code",
   "execution_count": 193,
   "metadata": {},
   "outputs": [],
   "source": [
    "Prop = xlrd.open_workbook('La-Fe-Si.xlsx') #Import Properties File\n",
    "SpecHeat = Prop.sheet_by_name('C') # #Import Specific Heat\n",
    "dTad = Prop.sheet_by_name('dT') #Import Adiabatic Temperature Change\n",
    "\n",
    "T_exp = dTad.col_values(0) #Import experimented temperatures \n",
    "B_exp = dTad.col_values(1) #Import experimented magnetic fields\n",
    "\n",
    "T_arg = arange(min(T_exp),max(T_exp)+0.01,0.1)\n",
    "\n",
    "K = len(dTad.col_values(0)) #Import data number\n",
    "\n",
    "T_l = arange(278,321,2)#ture of Curie of the multilayer\n",
    "N_ml = len(T_l) #Number of Multilayer Layers\n",
    "\n",
    "\n",
    "\n",
    "dT = zeros([N_ml,K])\n",
    "C = zeros([N_ml,K])\n",
    "for i in range(N_ml):\n",
    "    dT[i,:] = (dTad.col_values(i+2))    #Data of Adiabatic Temperature change\n",
    "    C[i,:] = (SpecHeat.col_values(i+2)) #Data of specific heat"
   ]
  },
  {
   "cell_type": "markdown",
   "metadata": {},
   "source": [
    "Importing AMR simulation inputs"
   ]
  },
  {
   "cell_type": "code",
   "execution_count": 194,
   "metadata": {
    "scrolled": true
   },
   "outputs": [],
   "source": [
    "Data = xlrd.open_workbook('AMR_Inputs.xlsx') #Import inputs File\n",
    "Inputs = Data.sheet_by_name('Data') \n",
    "\n",
    "L   = array(Inputs.col_values(0)) #Import AMR Length [mm]\n",
    "H   = array(Inputs.col_values(1)) #Import AMR Height [mm]\n",
    "W   = array(Inputs.col_values(2)) #Import AMR Width [mm]\n",
    "T_c = array(Inputs.col_values(3))+273 #Import temperature span [K]\n",
    "T_h = array(Inputs.col_values(4))+273 #Import temperature span [K]\n",
    "B   = array(Inputs.col_values(5)) #Import magnetic field [T]\n",
    "f   = array(Inputs.col_values(6)) #Import frequency [Hz]\n",
    "m_f = array(Inputs.col_values(7))/3600 #Import mass flow rate [kg/h]\n",
    "Q_c = array(Inputs.col_values(8)) #Import Cooling capacity [W]\n",
    "Q_h = array(Inputs.col_values(9)) #Import Rejected heat [W]\n",
    "W_p = array(Inputs.col_values(10)) #Import Pumping power [W]\n",
    "W_m = array(Inputs.col_values(11)) #Import Magnetic power [W]\n",
    "T_c_ml = array(Inputs.col_values(12))+273 #Import temperature span [K]\n",
    "T_h_ml = array(Inputs.col_values(13))+273 #Import temperature span [K]"
   ]
  },
  {
   "cell_type": "code",
   "execution_count": 195,
   "metadata": {},
   "outputs": [
    {
     "data": {
      "text/plain": [
       "216"
      ]
     },
     "execution_count": 195,
     "metadata": {},
     "output_type": "execute_result"
    }
   ],
   "source": [
    "len(T_c)"
   ]
  },
  {
   "cell_type": "code",
   "execution_count": 196,
   "metadata": {
    "scrolled": true
   },
   "outputs": [],
   "source": [
    "T_layer = [[] for i in range(len(T_c_ml))]\n",
    "L_layer = [[] for i in range(len(T_c_ml))]\n",
    "for i in range(len(T_c)):\n",
    "    T_layer[i].append(arange(T_c[i]-0.1,T_h[i]-0.1,(T_h[i] - T_c[i])/15))\n",
    "    L_layer[i].append(100/len(T_layer[i][0])*ones(len(T_layer[i][0])))"
   ]
  },
  {
   "cell_type": "markdown",
   "metadata": {},
   "source": [
    "Calculation"
   ]
  },
  {
   "cell_type": "code",
   "execution_count": 197,
   "metadata": {},
   "outputs": [],
   "source": [
    "#Porous medium\n",
    "m_s   = L*W*H*10**-9*(1-Epsilon)*rho_s #mass of the AMR\n",
    "Beta = (1-Epsilon)*6/d_p\n",
    "v_s   = (m_f)/(rho_f*W*H*10**-6) #Superficial velocity\n",
    "\n",
    "#Dimensionless Numbers\n",
    "Re_dp = d_p*v_s*rho_f/((1-Epsilon)*mu_f) #Reynolds number\n",
    "Nu = 2*(1+4*(1-Epsilon)/Epsilon)+((1-Epsilon)**0.5)*Re_dp**0.6*Pr_f**(1/3) # Nusselt number\n",
    "Pe = Re_dp*Pr_f\n",
    "\n",
    "h_int = Nu*k_f/d_p\n",
    "\n",
    "#Effective conduction\n",
    "k_e_f = k_f*Epsilon #Fluid effective conduction\n",
    "\n",
    "\n",
    "a_0 = exp(-1.084-6.778*(Epsilon-0.298))\n",
    "f_0 = 0.8\n",
    "k_e_s = k_f*((1-a_0)*(Epsilon*f_0+(1-Epsilon*f_0)*k_s/k_f)/(1-Epsilon*(1-f_0)+k_s/k_f*Epsilon*(1-f_0))+a_0*(2*((k_s/k_f)**2)*(1-Epsilon)+(1+2*Epsilon)*k_s/k_f)/((2+Epsilon)*k_s/k_f+(1-Epsilon))) #Solid effective conduction\n",
    "\n",
    "D_ = (k_f*rho_f/c_f)*0.75*Pe/2\n",
    "\n",
    "k_s_eff = k_e_s\n",
    "k_f_eff = k_e_f + rho_f*c_f*D_"
   ]
  },
  {
   "cell_type": "code",
   "execution_count": 198,
   "metadata": {},
   "outputs": [
    {
     "data": {
      "text/plain": [
       "(51917.47157893036, 42.80088341214374, 0.1234567901234568, 183.9892550275064)"
      ]
     },
     "execution_count": 198,
     "metadata": {},
     "output_type": "execute_result"
    }
   ],
   "source": [
    "h_int[215],Nu[215],v_s[215],Re_dp[215]"
   ]
  },
  {
   "cell_type": "code",
   "execution_count": 200,
   "metadata": {},
   "outputs": [],
   "source": [
    "C_H = zeros(len(L))\n",
    "C_L = zeros(len(L))\n",
    "dT_mg = zeros(len(L))\n",
    "dT_dmg = zeros(len(L))\n",
    "CdT_mg = zeros(len(L))\n",
    "CdT_dmg = zeros(len(L))"
   ]
  },
  {
   "cell_type": "code",
   "execution_count": 186,
   "metadata": {
    "scrolled": true
   },
   "outputs": [
    {
     "name": "stdout",
     "output_type": "stream",
     "text": [
      "0\n",
      "1\n"
     ]
    },
    {
     "ename": "KeyboardInterrupt",
     "evalue": "",
     "output_type": "error",
     "traceback": [
      "\u001b[1;31m---------------------------------------------------------------------------\u001b[0m",
      "\u001b[1;31mKeyboardInterrupt\u001b[0m                         Traceback (most recent call last)",
      "\u001b[1;32m<ipython-input-186-df21e8242534>\u001b[0m in \u001b[0;36m<module>\u001b[1;34m()\u001b[0m\n\u001b[0;32m      1\u001b[0m \u001b[1;32mfor\u001b[0m \u001b[0mi\u001b[0m \u001b[1;32min\u001b[0m \u001b[0mrange\u001b[0m\u001b[1;33m(\u001b[0m\u001b[0mlen\u001b[0m\u001b[1;33m(\u001b[0m\u001b[0mL\u001b[0m\u001b[1;33m)\u001b[0m\u001b[1;33m)\u001b[0m\u001b[1;33m:\u001b[0m\u001b[1;33m\u001b[0m\u001b[0m\n\u001b[0;32m      2\u001b[0m     \u001b[0mprint\u001b[0m\u001b[1;33m(\u001b[0m\u001b[0mi\u001b[0m\u001b[1;33m)\u001b[0m\u001b[1;33m\u001b[0m\u001b[0m\n\u001b[1;32m----> 3\u001b[1;33m     \u001b[0mC_H\u001b[0m\u001b[1;33m[\u001b[0m\u001b[0mi\u001b[0m\u001b[1;33m]\u001b[0m\u001b[1;33m,\u001b[0m\u001b[0mC_L\u001b[0m\u001b[1;33m[\u001b[0m\u001b[0mi\u001b[0m\u001b[1;33m]\u001b[0m\u001b[1;33m,\u001b[0m\u001b[0mdT_mg\u001b[0m\u001b[1;33m[\u001b[0m\u001b[0mi\u001b[0m\u001b[1;33m]\u001b[0m\u001b[1;33m,\u001b[0m\u001b[0mdT_dmg\u001b[0m\u001b[1;33m[\u001b[0m\u001b[0mi\u001b[0m\u001b[1;33m]\u001b[0m\u001b[1;33m,\u001b[0m\u001b[0mCdT_mg\u001b[0m\u001b[1;33m[\u001b[0m\u001b[0mi\u001b[0m\u001b[1;33m]\u001b[0m\u001b[1;33m,\u001b[0m\u001b[0mCdT_dmg\u001b[0m\u001b[1;33m[\u001b[0m\u001b[0mi\u001b[0m\u001b[1;33m]\u001b[0m \u001b[1;33m=\u001b[0m \u001b[0mMetrics\u001b[0m \u001b[1;33m(\u001b[0m\u001b[0mSpecHeat\u001b[0m\u001b[1;33m,\u001b[0m\u001b[0mdTad\u001b[0m\u001b[1;33m,\u001b[0m\u001b[1;36m0\u001b[0m\u001b[1;33m,\u001b[0m\u001b[0mB\u001b[0m\u001b[1;33m[\u001b[0m\u001b[0mi\u001b[0m\u001b[1;33m]\u001b[0m\u001b[1;33m,\u001b[0m\u001b[0mT_arg\u001b[0m\u001b[1;33m,\u001b[0m\u001b[0mN_ml\u001b[0m\u001b[1;33m,\u001b[0m\u001b[0mT_h\u001b[0m\u001b[1;33m[\u001b[0m\u001b[0mi\u001b[0m\u001b[1;33m]\u001b[0m\u001b[1;33m,\u001b[0m\u001b[0mT_c\u001b[0m\u001b[1;33m[\u001b[0m\u001b[0mi\u001b[0m\u001b[1;33m]\u001b[0m\u001b[1;33m,\u001b[0m\u001b[0mT_l\u001b[0m\u001b[1;33m,\u001b[0m\u001b[0mT_layer\u001b[0m\u001b[1;33m[\u001b[0m\u001b[0mi\u001b[0m\u001b[1;33m]\u001b[0m\u001b[1;33m[\u001b[0m\u001b[1;36m0\u001b[0m\u001b[1;33m]\u001b[0m\u001b[1;33m,\u001b[0m\u001b[0mL_layer\u001b[0m\u001b[1;33m[\u001b[0m\u001b[0mi\u001b[0m\u001b[1;33m]\u001b[0m\u001b[1;33m[\u001b[0m\u001b[1;36m0\u001b[0m\u001b[1;33m]\u001b[0m\u001b[1;33m)\u001b[0m\u001b[1;33m\u001b[0m\u001b[0m\n\u001b[0m",
      "\u001b[1;32m<ipython-input-5-e1de197807a4>\u001b[0m in \u001b[0;36mMetrics\u001b[1;34m(SpecHeat, dTad, B_l_int, B_h_int, T_arg, N_ml, Th, Tc, T_l, T_layer, L_layer)\u001b[0m\n\u001b[0;32m     11\u001b[0m         \u001b[1;32mfor\u001b[0m \u001b[0mj\u001b[0m \u001b[1;32min\u001b[0m \u001b[0mrange\u001b[0m\u001b[1;33m(\u001b[0m\u001b[0mlen\u001b[0m\u001b[1;33m(\u001b[0m\u001b[0mT_arg\u001b[0m\u001b[1;33m)\u001b[0m\u001b[1;33m)\u001b[0m\u001b[1;33m:\u001b[0m\u001b[1;33m\u001b[0m\u001b[0m\n\u001b[0;32m     12\u001b[0m             \u001b[1;32mfor\u001b[0m \u001b[0mk\u001b[0m \u001b[1;32min\u001b[0m \u001b[0mrange\u001b[0m\u001b[1;33m(\u001b[0m\u001b[0mlen\u001b[0m\u001b[1;33m(\u001b[0m\u001b[0mT_dem\u001b[0m\u001b[1;33m[\u001b[0m\u001b[0mi\u001b[0m\u001b[1;33m]\u001b[0m\u001b[1;33m)\u001b[0m\u001b[1;33m)\u001b[0m\u001b[1;33m:\u001b[0m\u001b[1;33m\u001b[0m\u001b[0m\n\u001b[1;32m---> 13\u001b[1;33m                 \u001b[1;32mif\u001b[0m  \u001b[0mT_arg\u001b[0m\u001b[1;33m[\u001b[0m\u001b[0mj\u001b[0m\u001b[1;33m]\u001b[0m \u001b[1;33m>\u001b[0m \u001b[0mT_dem\u001b[0m\u001b[1;33m[\u001b[0m\u001b[0mi\u001b[0m\u001b[1;33m]\u001b[0m\u001b[1;33m[\u001b[0m\u001b[0mk\u001b[0m\u001b[1;33m]\u001b[0m \u001b[1;32mand\u001b[0m \u001b[0mT_arg\u001b[0m\u001b[1;33m[\u001b[0m\u001b[0mj\u001b[0m\u001b[1;33m]\u001b[0m \u001b[1;33m<=\u001b[0m \u001b[0mT_dem\u001b[0m\u001b[1;33m[\u001b[0m\u001b[0mi\u001b[0m\u001b[1;33m]\u001b[0m\u001b[1;33m[\u001b[0m\u001b[0mk\u001b[0m\u001b[1;33m+\u001b[0m\u001b[1;36m1\u001b[0m\u001b[1;33m]\u001b[0m\u001b[1;33m:\u001b[0m\u001b[1;33m\u001b[0m\u001b[0m\n\u001b[0m\u001b[0;32m     14\u001b[0m                     \u001b[0mdT_ad_d\u001b[0m\u001b[1;33m[\u001b[0m\u001b[0mi\u001b[0m\u001b[1;33m]\u001b[0m\u001b[1;33m[\u001b[0m\u001b[0mj\u001b[0m\u001b[1;33m]\u001b[0m \u001b[1;33m=\u001b[0m \u001b[1;33m(\u001b[0m\u001b[0mdT_ad\u001b[0m\u001b[1;33m[\u001b[0m\u001b[0mi\u001b[0m\u001b[1;33m]\u001b[0m\u001b[1;33m[\u001b[0m\u001b[0mk\u001b[0m\u001b[1;33m]\u001b[0m \u001b[1;33m+\u001b[0m \u001b[1;33m(\u001b[0m\u001b[0mT_arg\u001b[0m\u001b[1;33m[\u001b[0m\u001b[0mj\u001b[0m\u001b[1;33m]\u001b[0m \u001b[1;33m-\u001b[0m \u001b[0mT_dem\u001b[0m\u001b[1;33m[\u001b[0m\u001b[0mi\u001b[0m\u001b[1;33m]\u001b[0m\u001b[1;33m[\u001b[0m\u001b[0mk\u001b[0m\u001b[1;33m]\u001b[0m\u001b[1;33m)\u001b[0m\u001b[1;33m*\u001b[0m\u001b[1;33m(\u001b[0m\u001b[0mdT_ad\u001b[0m\u001b[1;33m[\u001b[0m\u001b[0mi\u001b[0m\u001b[1;33m]\u001b[0m\u001b[1;33m[\u001b[0m\u001b[0mk\u001b[0m\u001b[1;33m+\u001b[0m\u001b[1;36m1\u001b[0m\u001b[1;33m]\u001b[0m\u001b[1;33m-\u001b[0m\u001b[0mdT_ad\u001b[0m\u001b[1;33m[\u001b[0m\u001b[0mi\u001b[0m\u001b[1;33m]\u001b[0m\u001b[1;33m[\u001b[0m\u001b[0mk\u001b[0m\u001b[1;33m]\u001b[0m\u001b[1;33m)\u001b[0m\u001b[1;33m/\u001b[0m\u001b[1;33m(\u001b[0m\u001b[0mT_arg\u001b[0m\u001b[1;33m[\u001b[0m\u001b[0mk\u001b[0m\u001b[1;33m+\u001b[0m\u001b[1;36m1\u001b[0m\u001b[1;33m]\u001b[0m\u001b[1;33m-\u001b[0m\u001b[0mT_arg\u001b[0m\u001b[1;33m[\u001b[0m\u001b[0mk\u001b[0m\u001b[1;33m]\u001b[0m\u001b[1;33m)\u001b[0m\u001b[1;33m)\u001b[0m\u001b[1;33m\u001b[0m\u001b[0m\n\u001b[0;32m     15\u001b[0m \u001b[1;33m\u001b[0m\u001b[0m\n",
      "\u001b[1;31mKeyboardInterrupt\u001b[0m: "
     ]
    }
   ],
   "source": [
    "for i in range(len(L)):\n",
    "    print(i)\n",
    "    C_H[i],C_L[i],dT_mg[i],dT_dmg[i],CdT_mg[i],CdT_dmg[i] = Metrics (SpecHeat,dTad,0,B[i],T_arg,N_ml,T_h[i],T_c[i],T_l,T_layer[i][0],L_layer[i][0])"
   ]
  },
  {
   "cell_type": "markdown",
   "metadata": {},
   "source": [
    "Porous Medium Eff"
   ]
  },
  {
   "cell_type": "code",
   "execution_count": 188,
   "metadata": {},
   "outputs": [],
   "source": [
    "def Prop_param(X):\n",
    "    T_c,T_h,B = X\n",
    "    C_H = 1.65161038/100*T_c+2.59946197*T_h-1.14324309*100*B\n",
    "    C_L = 10.16443738*T_c-5.32568341*T_h-0.71305997*B\n",
    "    dT_mg = -0.01057708*T_c+0.01163704*T_h+1.73509682*B\n",
    "    dT_dmg = -0.01229483*T_c+0.01376157*T_h+0.76454655*B\n",
    "    CdT_mg = -9.517569*T_c+11.49711993*T_h+820.04168503*B\n",
    "    CdT_dmg = 4.39480124*T_c-7.07931118/10*T_h+9.15928168*100*B\n",
    "    return(C_H,C_L,dT_mg,dT_dmg,CdT_mg,CdT_dmg)"
   ]
  },
  {
   "cell_type": "code",
   "execution_count": 202,
   "metadata": {
    "scrolled": true
   },
   "outputs": [
    {
     "name": "stdout",
     "output_type": "stream",
     "text": [
      "0\n",
      "1\n",
      "2\n",
      "3\n",
      "4\n",
      "5\n",
      "6\n",
      "7\n",
      "8\n",
      "9\n",
      "10\n",
      "11\n",
      "12\n",
      "13\n",
      "14\n",
      "15\n",
      "16\n",
      "17\n",
      "18\n",
      "19\n",
      "20\n",
      "21\n",
      "22\n",
      "23\n",
      "24\n",
      "25\n",
      "26\n",
      "27\n",
      "28\n",
      "29\n",
      "30\n",
      "31\n",
      "32\n",
      "33\n",
      "34\n",
      "35\n",
      "36\n",
      "37\n",
      "38\n",
      "39\n",
      "40\n",
      "41\n",
      "42\n",
      "43\n",
      "44\n",
      "45\n",
      "46\n",
      "47\n",
      "48\n",
      "49\n",
      "50\n",
      "51\n",
      "52\n",
      "53\n",
      "54\n",
      "55\n",
      "56\n",
      "57\n",
      "58\n",
      "59\n",
      "60\n",
      "61\n",
      "62\n",
      "63\n",
      "64\n",
      "65\n",
      "66\n",
      "67\n",
      "68\n",
      "69\n",
      "70\n",
      "71\n",
      "72\n",
      "73\n",
      "74\n",
      "75\n",
      "76\n",
      "77\n",
      "78\n",
      "79\n",
      "80\n",
      "81\n",
      "82\n",
      "83\n",
      "84\n",
      "85\n",
      "86\n",
      "87\n",
      "88\n",
      "89\n",
      "90\n",
      "91\n",
      "92\n",
      "93\n",
      "94\n",
      "95\n",
      "96\n",
      "97\n",
      "98\n",
      "99\n",
      "100\n",
      "101\n",
      "102\n",
      "103\n",
      "104\n",
      "105\n",
      "106\n",
      "107\n",
      "108\n",
      "109\n",
      "110\n",
      "111\n",
      "112\n",
      "113\n",
      "114\n",
      "115\n",
      "116\n",
      "117\n",
      "118\n",
      "119\n",
      "120\n",
      "121\n",
      "122\n",
      "123\n",
      "124\n",
      "125\n",
      "126\n",
      "127\n",
      "128\n",
      "129\n",
      "130\n",
      "131\n",
      "132\n",
      "133\n",
      "134\n",
      "135\n",
      "136\n",
      "137\n",
      "138\n",
      "139\n",
      "140\n",
      "141\n",
      "142\n",
      "143\n",
      "144\n",
      "145\n",
      "146\n",
      "147\n",
      "148\n",
      "149\n",
      "150\n",
      "151\n",
      "152\n",
      "153\n",
      "154\n",
      "155\n",
      "156\n",
      "157\n",
      "158\n",
      "159\n",
      "160\n",
      "161\n",
      "162\n",
      "163\n",
      "164\n",
      "165\n",
      "166\n",
      "167\n",
      "168\n",
      "169\n",
      "170\n",
      "171\n",
      "172\n",
      "173\n",
      "174\n",
      "175\n",
      "176\n",
      "177\n",
      "178\n",
      "179\n",
      "180\n",
      "181\n",
      "182\n",
      "183\n",
      "184\n",
      "185\n",
      "186\n",
      "187\n",
      "188\n",
      "189\n",
      "190\n",
      "191\n",
      "192\n",
      "193\n",
      "194\n",
      "195\n",
      "196\n",
      "197\n",
      "198\n",
      "199\n",
      "200\n",
      "201\n",
      "202\n",
      "203\n",
      "204\n",
      "205\n",
      "206\n",
      "207\n",
      "208\n",
      "209\n",
      "210\n",
      "211\n",
      "212\n",
      "213\n",
      "214\n",
      "215\n"
     ]
    }
   ],
   "source": [
    "for i in range(len(L)):\n",
    "    print(i)\n",
    "    C_H[i],C_L[i],dT_mg[i],dT_dmg[i],CdT_mg[i],CdT_dmg[i] = Prop_param((T_c[i],T_h[i],B[i]))"
   ]
  },
  {
   "cell_type": "code",
   "execution_count": 203,
   "metadata": {
    "scrolled": true
   },
   "outputs": [
    {
     "data": {
      "text/plain": [
       "(654.6836408106001,\n",
       " 1233.207980545,\n",
       " 3.24432791,\n",
       " 1.9668597350000003,\n",
       " 2131.610122425,\n",
       " 2411.4939745919996)"
      ]
     },
     "execution_count": 203,
     "metadata": {},
     "output_type": "execute_result"
    }
   ],
   "source": [
    "C_H[215],C_L[215],dT_mg[215],dT_dmg[215],CdT_mg[215],CdT_dmg[215]"
   ]
  },
  {
   "cell_type": "code",
   "execution_count": 204,
   "metadata": {},
   "outputs": [
    {
     "data": {
      "text/plain": [
       "[<matplotlib.lines.Line2D at 0x1516773e630>]"
      ]
     },
     "execution_count": 204,
     "metadata": {},
     "output_type": "execute_result"
    },
    {
     "data": {
      "image/png": "[encoded data removed]",
      "text/plain": [
       "<Figure size 432x288 with 1 Axes>"
      ]
     },
     "metadata": {
      "needs_background": "light"
     },
     "output_type": "display_data"
    }
   ],
   "source": [
    "plt.plot(B,C_L,'o')"
   ]
  },
  {
   "cell_type": "code",
   "execution_count": 132,
   "metadata": {},
   "outputs": [],
   "source": [
    "def Prop(X,a,b,c): \n",
    "    P1,P2,P3= X\n",
    "    return (a*P1+b*P2+c*P3)"
   ]
  },
  {
   "cell_type": "code",
   "execution_count": 115,
   "metadata": {},
   "outputs": [],
   "source": [
    "Pp = CdT_mg[0:192]"
   ]
  },
  {
   "cell_type": "code",
   "execution_count": 205,
   "metadata": {},
   "outputs": [
    {
     "ename": "TypeError",
     "evalue": "<xlrd.book.Book object at 0x0000015167666CF8> is not a callable object",
     "output_type": "error",
     "traceback": [
      "\u001b[1;31m---------------------------------------------------------------------------\u001b[0m",
      "\u001b[1;31mTypeError\u001b[0m                                 Traceback (most recent call last)",
      "\u001b[1;32m<ipython-input-205-24f6ce09f4e9>\u001b[0m in \u001b[0;36m<module>\u001b[1;34m()\u001b[0m\n\u001b[1;32m----> 1\u001b[1;33m \u001b[0mCoef_Ch\u001b[0m \u001b[1;33m=\u001b[0m \u001b[0mcurve_fit\u001b[0m\u001b[1;33m(\u001b[0m\u001b[0mProp\u001b[0m\u001b[1;33m,\u001b[0m\u001b[1;33m(\u001b[0m\u001b[0mT_c\u001b[0m\u001b[1;33m,\u001b[0m\u001b[0mT_h\u001b[0m\u001b[1;33m,\u001b[0m\u001b[0mB\u001b[0m\u001b[1;33m)\u001b[0m\u001b[1;33m,\u001b[0m\u001b[0mPp\u001b[0m\u001b[1;33m,\u001b[0m\u001b[0mmaxfev\u001b[0m\u001b[1;33m=\u001b[0m\u001b[1;36m10000\u001b[0m\u001b[1;33m)\u001b[0m\u001b[1;33m\u001b[0m\u001b[0m\n\u001b[0m\u001b[0;32m      2\u001b[0m \u001b[0mCoef_Ch\u001b[0m\u001b[1;33m\u001b[0m\u001b[0m\n",
      "\u001b[1;32m~\\Anaconda_new\\lib\\site-packages\\scipy\\optimize\\minpack.py\u001b[0m in \u001b[0;36mcurve_fit\u001b[1;34m(f, xdata, ydata, p0, sigma, absolute_sigma, check_finite, bounds, method, jac, **kwargs)\u001b[0m\n\u001b[0;32m    683\u001b[0m         \u001b[1;31m# determine number of parameters by inspecting the function\u001b[0m\u001b[1;33m\u001b[0m\u001b[1;33m\u001b[0m\u001b[0m\n\u001b[0;32m    684\u001b[0m         \u001b[1;32mfrom\u001b[0m \u001b[0mscipy\u001b[0m\u001b[1;33m.\u001b[0m\u001b[0m_lib\u001b[0m\u001b[1;33m.\u001b[0m\u001b[0m_util\u001b[0m \u001b[1;32mimport\u001b[0m \u001b[0mgetargspec_no_self\u001b[0m \u001b[1;32mas\u001b[0m \u001b[0m_getargspec\u001b[0m\u001b[1;33m\u001b[0m\u001b[0m\n\u001b[1;32m--> 685\u001b[1;33m         \u001b[0margs\u001b[0m\u001b[1;33m,\u001b[0m \u001b[0mvarargs\u001b[0m\u001b[1;33m,\u001b[0m \u001b[0mvarkw\u001b[0m\u001b[1;33m,\u001b[0m \u001b[0mdefaults\u001b[0m \u001b[1;33m=\u001b[0m \u001b[0m_getargspec\u001b[0m\u001b[1;33m(\u001b[0m\u001b[0mf\u001b[0m\u001b[1;33m)\u001b[0m\u001b[1;33m\u001b[0m\u001b[0m\n\u001b[0m\u001b[0;32m    686\u001b[0m         \u001b[1;32mif\u001b[0m \u001b[0mlen\u001b[0m\u001b[1;33m(\u001b[0m\u001b[0margs\u001b[0m\u001b[1;33m)\u001b[0m \u001b[1;33m<\u001b[0m \u001b[1;36m2\u001b[0m\u001b[1;33m:\u001b[0m\u001b[1;33m\u001b[0m\u001b[0m\n\u001b[0;32m    687\u001b[0m             \u001b[1;32mraise\u001b[0m \u001b[0mValueError\u001b[0m\u001b[1;33m(\u001b[0m\u001b[1;34m\"Unable to determine number of fit parameters.\"\u001b[0m\u001b[1;33m)\u001b[0m\u001b[1;33m\u001b[0m\u001b[0m\n",
      "\u001b[1;32m~\\Anaconda_new\\lib\\site-packages\\scipy\\_lib\\_util.py\u001b[0m in \u001b[0;36mgetargspec_no_self\u001b[1;34m(func)\u001b[0m\n\u001b[0;32m    288\u001b[0m             \u001b[0mpython\u001b[0m \u001b[1;36m2.\u001b[0m\u001b[0mx\u001b[0m\u001b[1;33m,\u001b[0m \u001b[1;32mand\u001b[0m \u001b[0minspect\u001b[0m\u001b[1;33m.\u001b[0m\u001b[0msignature\u001b[0m\u001b[1;33m(\u001b[0m\u001b[1;33m)\u001b[0m \u001b[0munder\u001b[0m \u001b[0mpython\u001b[0m \u001b[1;36m3.\u001b[0m\u001b[0mx\u001b[0m\u001b[1;33m.\u001b[0m\u001b[1;33m\u001b[0m\u001b[0m\n\u001b[0;32m    289\u001b[0m         \"\"\"\n\u001b[1;32m--> 290\u001b[1;33m         \u001b[0msig\u001b[0m \u001b[1;33m=\u001b[0m \u001b[0minspect\u001b[0m\u001b[1;33m.\u001b[0m\u001b[0msignature\u001b[0m\u001b[1;33m(\u001b[0m\u001b[0mfunc\u001b[0m\u001b[1;33m)\u001b[0m\u001b[1;33m\u001b[0m\u001b[0m\n\u001b[0m\u001b[0;32m    291\u001b[0m         args = [\n\u001b[0;32m    292\u001b[0m             \u001b[0mp\u001b[0m\u001b[1;33m.\u001b[0m\u001b[0mname\u001b[0m \u001b[1;32mfor\u001b[0m \u001b[0mp\u001b[0m \u001b[1;32min\u001b[0m \u001b[0msig\u001b[0m\u001b[1;33m.\u001b[0m\u001b[0mparameters\u001b[0m\u001b[1;33m.\u001b[0m\u001b[0mvalues\u001b[0m\u001b[1;33m(\u001b[0m\u001b[1;33m)\u001b[0m\u001b[1;33m\u001b[0m\u001b[0m\n",
      "\u001b[1;32m~\\Anaconda_new\\lib\\inspect.py\u001b[0m in \u001b[0;36msignature\u001b[1;34m(obj, follow_wrapped)\u001b[0m\n\u001b[0;32m   3035\u001b[0m \u001b[1;32mdef\u001b[0m \u001b[0msignature\u001b[0m\u001b[1;33m(\u001b[0m\u001b[0mobj\u001b[0m\u001b[1;33m,\u001b[0m \u001b[1;33m*\u001b[0m\u001b[1;33m,\u001b[0m \u001b[0mfollow_wrapped\u001b[0m\u001b[1;33m=\u001b[0m\u001b[1;32mTrue\u001b[0m\u001b[1;33m)\u001b[0m\u001b[1;33m:\u001b[0m\u001b[1;33m\u001b[0m\u001b[0m\n\u001b[0;32m   3036\u001b[0m     \u001b[1;34m\"\"\"Get a signature object for the passed callable.\"\"\"\u001b[0m\u001b[1;33m\u001b[0m\u001b[0m\n\u001b[1;32m-> 3037\u001b[1;33m     \u001b[1;32mreturn\u001b[0m \u001b[0mSignature\u001b[0m\u001b[1;33m.\u001b[0m\u001b[0mfrom_callable\u001b[0m\u001b[1;33m(\u001b[0m\u001b[0mobj\u001b[0m\u001b[1;33m,\u001b[0m \u001b[0mfollow_wrapped\u001b[0m\u001b[1;33m=\u001b[0m\u001b[0mfollow_wrapped\u001b[0m\u001b[1;33m)\u001b[0m\u001b[1;33m\u001b[0m\u001b[0m\n\u001b[0m\u001b[0;32m   3038\u001b[0m \u001b[1;33m\u001b[0m\u001b[0m\n\u001b[0;32m   3039\u001b[0m \u001b[1;33m\u001b[0m\u001b[0m\n",
      "\u001b[1;32m~\\Anaconda_new\\lib\\inspect.py\u001b[0m in \u001b[0;36mfrom_callable\u001b[1;34m(cls, obj, follow_wrapped)\u001b[0m\n\u001b[0;32m   2785\u001b[0m         \u001b[1;34m\"\"\"Constructs Signature for the given callable object.\"\"\"\u001b[0m\u001b[1;33m\u001b[0m\u001b[0m\n\u001b[0;32m   2786\u001b[0m         return _signature_from_callable(obj, sigcls=cls,\n\u001b[1;32m-> 2787\u001b[1;33m                                         follow_wrapper_chains=follow_wrapped)\n\u001b[0m\u001b[0;32m   2788\u001b[0m \u001b[1;33m\u001b[0m\u001b[0m\n\u001b[0;32m   2789\u001b[0m     \u001b[1;33m@\u001b[0m\u001b[0mproperty\u001b[0m\u001b[1;33m\u001b[0m\u001b[0m\n",
      "\u001b[1;32m~\\Anaconda_new\\lib\\inspect.py\u001b[0m in \u001b[0;36m_signature_from_callable\u001b[1;34m(obj, follow_wrapper_chains, skip_bound_arg, sigcls)\u001b[0m\n\u001b[0;32m   2184\u001b[0m \u001b[1;33m\u001b[0m\u001b[0m\n\u001b[0;32m   2185\u001b[0m     \u001b[1;32mif\u001b[0m \u001b[1;32mnot\u001b[0m \u001b[0mcallable\u001b[0m\u001b[1;33m(\u001b[0m\u001b[0mobj\u001b[0m\u001b[1;33m)\u001b[0m\u001b[1;33m:\u001b[0m\u001b[1;33m\u001b[0m\u001b[0m\n\u001b[1;32m-> 2186\u001b[1;33m         \u001b[1;32mraise\u001b[0m \u001b[0mTypeError\u001b[0m\u001b[1;33m(\u001b[0m\u001b[1;34m'{!r} is not a callable object'\u001b[0m\u001b[1;33m.\u001b[0m\u001b[0mformat\u001b[0m\u001b[1;33m(\u001b[0m\u001b[0mobj\u001b[0m\u001b[1;33m)\u001b[0m\u001b[1;33m)\u001b[0m\u001b[1;33m\u001b[0m\u001b[0m\n\u001b[0m\u001b[0;32m   2187\u001b[0m \u001b[1;33m\u001b[0m\u001b[0m\n\u001b[0;32m   2188\u001b[0m     \u001b[1;32mif\u001b[0m \u001b[0misinstance\u001b[0m\u001b[1;33m(\u001b[0m\u001b[0mobj\u001b[0m\u001b[1;33m,\u001b[0m \u001b[0mtypes\u001b[0m\u001b[1;33m.\u001b[0m\u001b[0mMethodType\u001b[0m\u001b[1;33m)\u001b[0m\u001b[1;33m:\u001b[0m\u001b[1;33m\u001b[0m\u001b[0m\n",
      "\u001b[1;31mTypeError\u001b[0m: <xlrd.book.Book object at 0x0000015167666CF8> is not a callable object"
     ]
    }
   ],
   "source": [
    "Coef_Ch = curve_fit(Prop,(T_c,T_h,B),Pp,maxfev=10000)\n",
    "Coef_Ch"
   ]
  },
  {
   "cell_type": "code",
   "execution_count": 117,
   "metadata": {
    "scrolled": true
   },
   "outputs": [
    {
     "data": {
      "text/plain": [
       "[<matplotlib.lines.Line2D at 0x1516720dd68>]"
      ]
     },
     "execution_count": 117,
     "metadata": {},
     "output_type": "execute_result"
    },
    {
     "data": {
      "image/png": "[encoded data removed]",
      "text/plain": [
       "<Figure size 432x288 with 1 Axes>"
      ]
     },
     "metadata": {
      "needs_background": "light"
     },
     "output_type": "display_data"
    }
   ],
   "source": [
    "err = np.arange(min(Pp),max(Pp),(max(Pp)-min(Pp))/100)\n",
    "plt.plot(Pp,Prop((T_c,T_h,B),Coef_Ch[0][0],Coef_Ch[0][1],Coef_Ch[0][2]),'o')\n",
    "plt.plot(err,err*1.01,'k')\n",
    "plt.plot(err,err*0.99,'k')"
   ]
  },
  {
   "cell_type": "code",
   "execution_count": 118,
   "metadata": {},
   "outputs": [
    {
     "data": {
      "text/plain": [
       "[<matplotlib.lines.Line2D at 0x151673a45c0>]"
      ]
     },
     "execution_count": 118,
     "metadata": {},
     "output_type": "execute_result"
    },
    {
     "data": {
      "image/png": "[encoded data removed]",
      "text/plain": [
       "<Figure size 432x288 with 1 Axes>"
      ]
     },
     "metadata": {
      "needs_background": "light"
     },
     "output_type": "display_data"
    }
   ],
   "source": [
    "Erro = abs(Pp - Prop((T_c,T_h,B),Coef_Ch[0][0],Coef_Ch[0][1],Coef_Ch[0][2]))/Pp*100\n",
    "plt.plot(T_c-273,Erro,'o')"
   ]
  },
  {
   "cell_type": "code",
   "execution_count": 85,
   "metadata": {},
   "outputs": [
    {
     "data": {
      "text/plain": [
       "[<matplotlib.lines.Line2D at 0x15165cacd30>]"
      ]
     },
     "execution_count": 85,
     "metadata": {},
     "output_type": "execute_result"
    },
    {
     "data": {
      "image/png": "[encoded data removed]",
      "text/plain": [
       "<Figure size 432x288 with 1 Axes>"
      ]
     },
     "metadata": {
      "needs_background": "light"
     },
     "output_type": "display_data"
    }
   ],
   "source": [
    "plt.plot(T_h,C_H,'o')"
   ]
  },
  {
   "cell_type": "code",
   "execution_count": 206,
   "metadata": {},
   "outputs": [],
   "source": [
    "NTU_f  = h_int*Beta*(L*W*H*10**(-9))/(m_f*c_f) \n",
    "\n",
    "\n",
    "Eff = Data.sheet_by_name('Eff') \n",
    "\n",
    "Effect = []\n",
    "\n",
    "for i in range(7):\n",
    "     Effect.append(array(Eff.col_values(i)))\n",
    "\n",
    "phi = np.arange(0.1,2.01,0.1)\n",
    "NTU = np.arange(50,351,50)\n",
    "NN,PP = np.meshgrid(NTU,phi)\n",
    "\n",
    "Effectiv = interpolate.interp2d(phi,NTU,Effect,kind = 'linear')"
   ]
  },
  {
   "cell_type": "markdown",
   "metadata": {},
   "source": [
    "Model Parameters - Similarity"
   ]
  },
  {
   "cell_type": "code",
   "execution_count": 207,
   "metadata": {
    "scrolled": true
   },
   "outputs": [],
   "source": [
    "Pi_1 = k_s_eff*(T_h-T_c)/(rho_s*f*L**2*CdT_dmg)\n",
    "Pi_2 = Epsilon/(1-Epsilon)*k_f_eff*(T_h-T_c)/(rho_s*f*L**2*CdT_dmg)\n",
    "Pi_3 = W_p/(m_s*f*CdT_dmg)\n",
    "Pi_4 = CdT_mg/CdT_dmg\n",
    "Pi_5 = h_int*Beta/(f*rho_s*CdT_dmg) #dT_sf unknown\n",
    "Pi_6 = ((m_f)*c_f)/(m_s*C_L*f)\n",
    "Pi_7 = (T_h-T_c)/(dT_dmg)\n",
    "Pi_11 = ((m_f)*c_f)/(m_s*C_H*f)\n",
    "\n",
    "Pi_8 = Q_c/(m_s*f*CdT_dmg)\n",
    "Pi_9 = Q_h/(m_s*f*CdT_dmg)\n",
    "Pi_10 = W_m/(m_s*f*CdT_dmg)\n",
    "\n",
    "Efness_HB = zeros(len(Pi_6))\n",
    "Efness_CB = zeros(len(Pi_6))\n",
    "\n",
    "for i in range(len(Pi_6)):\n",
    "    Efness_HB[i] = Effectiv(Pi_6[i]/2,NTU_f[i])\n",
    "    Efness_CB[i] = Effectiv(Pi_11[i]/2,NTU_f[i])"
   ]
  },
  {
   "cell_type": "code",
   "execution_count": 208,
   "metadata": {},
   "outputs": [
    {
     "data": {
      "text/plain": [
       "(0.9802275973523885, 0.9789195537629709, 106.21413176214752)"
      ]
     },
     "execution_count": 208,
     "metadata": {},
     "output_type": "execute_result"
    }
   ],
   "source": [
    "Efness_HB[215],Efness_CB[215],NTU_f[215]"
   ]
  },
  {
   "cell_type": "markdown",
   "metadata": {},
   "source": [
    "Model Parameters - Integral"
   ]
  },
  {
   "cell_type": "code",
   "execution_count": 209,
   "metadata": {},
   "outputs": [],
   "source": [
    "FE = 0.25\n",
    "Q_pas_CB = Efness_CB*(T_h - T_c)*m_f*FE*c_f\n",
    "Q_act_CB = dT_mg*m_f*c_f*FE\n",
    "\n",
    "Q_pas_HB = Efness_HB*(T_h - T_c)*m_f*FE*c_f\n",
    "Q_act_HB = dT_dmg*m_f*c_f*FE\n",
    "\n",
    "Q_span = (T_h - T_c)*m_f*c_f*FE\n",
    "Q_cond = ((1-Epsilon)*k_s_eff + Epsilon*k_f_eff)*(W*H*10**-6)*(T_h-T_c)/L\n",
    "W_mag  = m_s*f*(CdT_mg - CdT_dmg)"
   ]
  },
  {
   "cell_type": "code",
   "execution_count": 255,
   "metadata": {
    "scrolled": true
   },
   "outputs": [
    {
     "data": {
      "text/plain": [
       "(6594.056498567025,\n",
       " 753.5852773172221,\n",
       " 6736.055555555555,\n",
       " 6602.86755285443,\n",
       " 456.8578084463889,\n",
       " -1050.70637174309,\n",
       " 8.24,\n",
       " 241.54)"
      ]
     },
     "execution_count": 255,
     "metadata": {},
     "output_type": "execute_result"
    }
   ],
   "source": [
    "Q_pas_CB[215],Q_act_CB[215],Q_span[215],Q_pas_HB[215],Q_act_HB[215],W_mag[215],W_p[215],Q_c[215]"
   ]
  },
  {
   "cell_type": "code",
   "execution_count": 211,
   "metadata": {},
   "outputs": [
    {
     "data": {
      "text/plain": [
       "(array([-37.40301773,  34.75817359]), 239.12152148042392)"
      ]
     },
     "execution_count": 211,
     "metadata": {},
     "output_type": "execute_result"
    }
   ],
   "source": [
    "a = 214\n",
    "b= 216\n",
    "fit_int((Q_pas_CB[a:b],Q_act_CB[a:b],Q_span[a:b],W_mag[a:b],W_p[a:b]),Coef[0][0],Coef[0][1],Coef[0][2],Coef[0][3],Coef[0][4]),fit_int((6691.56396771,760.6222080902222,6736.055555555555,-832.6677836679357,8.240634724535698),Coef[0][0],Coef[0][1],Coef[0][2],Coef[0][3],Coef[0][4])\n"
   ]
  },
  {
   "cell_type": "code",
   "execution_count": 212,
   "metadata": {},
   "outputs": [
    {
     "data": {
      "text/plain": [
       "[<matplotlib.lines.Line2D at 0x15167681ba8>]"
      ]
     },
     "execution_count": 212,
     "metadata": {},
     "output_type": "execute_result"
    },
    {
     "data": {
      "image/png": "[encoded data removed]",
      "text/plain": [
       "<Figure size 432x288 with 1 Axes>"
      ]
     },
     "metadata": {
      "needs_background": "light"
     },
     "output_type": "display_data"
    }
   ],
   "source": [
    "plt.plot(Pi_6,Efness_HB,'o')\n",
    "plt.plot(Pi_6,Efness_CB,'o')"
   ]
  },
  {
   "cell_type": "code",
   "execution_count": 213,
   "metadata": {},
   "outputs": [],
   "source": [
    "def fit_sim(X,a,b,c,d): \n",
    "    P1,P2= X\n",
    "    return ((a*(P1**b)+c*(P1*P2)**(d)))"
   ]
  },
  {
   "cell_type": "code",
   "execution_count": 214,
   "metadata": {},
   "outputs": [],
   "source": [
    "def fitting_W(X,a,b,c,d,e): \n",
    "    P1,P2= X\n",
    "    return ((a*(P1**b)*P2**c)+d*(P1*P2)**e)"
   ]
  },
  {
   "cell_type": "code",
   "execution_count": 215,
   "metadata": {},
   "outputs": [],
   "source": [
    "def fit_int(X,a,b,c,d,e): \n",
    "    P1,P2,P3,P4,P5= X\n",
    "    return (a*P1+b*P2+c*P3+d*P4+e*P5)"
   ]
  },
  {
   "cell_type": "code",
   "execution_count": 216,
   "metadata": {
    "scrolled": true
   },
   "outputs": [
    {
     "data": {
      "text/plain": [
       "[<matplotlib.lines.Line2D at 0x1515dc05a20>]"
      ]
     },
     "execution_count": 216,
     "metadata": {},
     "output_type": "execute_result"
    },
    {
     "data": {
      "image/png": "[encoded data removed]",
      "text/plain": [
       "<Figure size 432x288 with 1 Axes>"
      ]
     },
     "metadata": {
      "needs_background": "light"
     },
     "output_type": "display_data"
    }
   ],
   "source": [
    "plt.plot(Q_c[a:b],'o')"
   ]
  },
  {
   "cell_type": "code",
   "execution_count": 241,
   "metadata": {},
   "outputs": [],
   "source": [
    "a = 100\n",
    "b = 215"
   ]
  },
  {
   "cell_type": "code",
   "execution_count": 242,
   "metadata": {
    "scrolled": false
   },
   "outputs": [
    {
     "data": {
      "text/plain": [
       "(array([ 0.5124256 ,  0.573295  , -0.52893772, -0.00821663, -1.2800057 ]),\n",
       " array([[ 7.65994940e-04,  1.09282328e-04, -7.61581738e-04,\n",
       "          4.19041899e-05,  6.98772612e-03],\n",
       "        [ 1.09282328e-04,  9.67077675e-05, -1.14536077e-04,\n",
       "          1.49011212e-05,  2.91578929e-04],\n",
       "        [-7.61581738e-04, -1.14536077e-04,  7.57689527e-04,\n",
       "         -4.18931054e-05, -6.91838039e-03],\n",
       "        [ 4.19041899e-05,  1.49011212e-05, -4.18931054e-05,\n",
       "          6.70542933e-06,  2.09129564e-04],\n",
       "        [ 6.98772612e-03,  2.91578929e-04, -6.91838039e-03,\n",
       "          2.09129564e-04,  8.11660808e-02]]))"
      ]
     },
     "execution_count": 242,
     "metadata": {},
     "output_type": "execute_result"
    }
   ],
   "source": [
    "Coef = curve_fit(fit_int,(Q_pas_CB[a:b],Q_act_CB[a:b],Q_span[a:b],W_mag[a:b],W_p[a:b]),Q_c[a:b],maxfev=10000)\n",
    "Coef"
   ]
  },
  {
   "cell_type": "code",
   "execution_count": 243,
   "metadata": {},
   "outputs": [
    {
     "data": {
      "text/plain": [
       "(array([ 0.7308924 ,  1.31973655, -0.7599739 ,  0.01339801, -0.85528785]),\n",
       " array([[ 4.27594849e-03,  5.92661935e-04, -4.23630598e-03,\n",
       "          1.44153690e-04,  2.75270927e-02],\n",
       "        [ 5.92661935e-04,  9.40146653e-04, -6.27979036e-04,\n",
       "          7.10336882e-05, -2.66095329e-05],\n",
       "        [-4.23630598e-03, -6.27979036e-04,  4.19913449e-03,\n",
       "         -1.44263353e-04, -2.71411548e-02],\n",
       "        [ 1.44153690e-04,  7.10336882e-05, -1.44263353e-04,\n",
       "          1.59844534e-05,  4.74227083e-04],\n",
       "        [ 2.75270927e-02, -2.66095328e-05, -2.71411548e-02,\n",
       "          4.74227083e-04,  2.21014884e-01]]))"
      ]
     },
     "execution_count": 243,
     "metadata": {},
     "output_type": "execute_result"
    }
   ],
   "source": [
    "Coef_h = curve_fit(fit_int,(Q_pas_HB[a:b],Q_act_HB[a:b],Q_span[a:b],W_mag[a:b],W_p[a:b]),Q_h[a:b],maxfev=10000)\n",
    "Coef_h"
   ]
  },
  {
   "cell_type": "code",
   "execution_count": 244,
   "metadata": {},
   "outputs": [
    {
     "data": {
      "text/plain": [
       "(array([ 0.44840306,  1.0875954 , -0.47458282,  1.2650298 ]),\n",
       " array([[ 0.00740881,  0.00222439, -0.00863865, -0.00015969],\n",
       "        [ 0.00222439,  0.00600099, -0.0034634 ,  0.00806631],\n",
       "        [-0.00863865, -0.0034634 ,  0.01023685, -0.00117827],\n",
       "        [-0.00015969,  0.00806631, -0.00117827,  0.01244027]]))"
      ]
     },
     "execution_count": 244,
     "metadata": {},
     "output_type": "execute_result"
    }
   ],
   "source": [
    "Coef_sim = curve_fit(fit_sim,(Pi_6[a:b],Pi_4[a:b]),Pi_8[a:b],maxfev=100000)\n",
    "Coef_sim"
   ]
  },
  {
   "cell_type": "code",
   "execution_count": 245,
   "metadata": {},
   "outputs": [],
   "source": [
    "Error = abs(Q_c[a:b] - fit_int((Q_pas_CB[a:b],Q_act_CB[a:b],Q_span[a:b],W_mag[a:b],W_p[a:b]),Coef[0][0],Coef[0][1],Coef[0][2],Coef[0][3],Coef[0][4]))/(Q_c[a:b])*100\n",
    "Error_h = abs(Q_h[a:b] - fit_int((Q_pas_HB[a:b],Q_act_HB[a:b],Q_span[a:b],W_mag[a:b],W_p[a:b]),Coef_h[0][0],Coef_h[0][1],Coef_h[0][2],Coef_h[0][3],Coef_h[0][4]))/(Q_h[a:b])*100\n",
    "Error_sim = abs(Pi_8[a:b] - fit_sim((Pi_6[a:b],Pi_4[a:b]),Coef_sim[0][0],Coef_sim[0][1],Coef_sim[0][2],Coef_sim[0][3]))/(Pi_8[a:b])*100"
   ]
  },
  {
   "cell_type": "code",
   "execution_count": 254,
   "metadata": {
    "scrolled": true
   },
   "outputs": [
    {
     "data": {
      "image/png": "[encoded data removed]",
      "text/plain": [
       "<Figure size 432x288 with 1 Axes>"
      ]
     },
     "metadata": {
      "needs_background": "light"
     },
     "output_type": "display_data"
    }
   ],
   "source": [
    "plt.plot(Q_h[a:b],Error_h,'s', label = '$\\dot{Q}_\\mathrm{h}$')\n",
    "plt.plot(Q_c[a:b],Error,'o',label ='$\\dot{Q}_\\mathrm{c}$' )\n",
    "\n",
    "plt.grid()\n",
    "plt.xlabel('Numerical Cooling Capacity [W]')\n",
    "plt.ylabel('Error [\\%]')\n",
    "plt.legend()\n",
    "#plt.ylim(0,20)\n",
    "plt.xlim(100,250)\n",
    "\n",
    "#plt.ylim([0,50])\n",
    "plt.savefig('Erro_Rest.png',format = 'png', dpi=500,bbox_inches='tight')\n",
    "plt.show()"
   ]
  },
  {
   "cell_type": "code",
   "execution_count": 250,
   "metadata": {},
   "outputs": [],
   "source": [
    "erro= np.arange(100,230,1)\n",
    "erro_h= np.arange(100,275,1)"
   ]
  },
  {
   "cell_type": "code",
   "execution_count": 251,
   "metadata": {
    "scrolled": false
   },
   "outputs": [
    {
     "data": {
      "image/png": "[encoded data removed]",
      "text/plain": [
       "<Figure size 432x288 with 1 Axes>"
      ]
     },
     "metadata": {
      "needs_background": "light"
     },
     "output_type": "display_data"
    }
   ],
   "source": [
    "#plt.plot(Q_c[a:b],m_s[a:b]*f[a:b]*CdT_dmg[a:b]*fit_sim((Pi_6[a:b],Pi_4[a:b]),Coef_sim[0][0],Coef_sim[0][1],Coef_sim[0][2],Coef_sim[0][3]),'s', label = 'Similarity')\n",
    "plt.plot(Q_c[a:b],fit_int((Q_pas_CB[a:b],Q_act_CB[a:b],Q_span[a:b],W_mag[a:b],W_p[a:b]),Coef[0][0],Coef[0][1],Coef[0][2],Coef[0][3],Coef[0][4]),'o',label ='Integral' )\n",
    "plt.plot(erro,0.9*erro,'k--')\n",
    "plt.plot(erro,1.1*erro,'k--')\n",
    "plt.grid()\n",
    "plt.ylabel('Analytical Cooling Capacity [W]')\n",
    "plt.xlabel('Numerical Cooling Capacity [W]')\n",
    "plt.legend()\n",
    "\n",
    "plt.savefig('ErrorBar.png',format = 'png', dpi=500,bbox_inches='tight')\n",
    "plt.show()"
   ]
  },
  {
   "cell_type": "code",
   "execution_count": 252,
   "metadata": {},
   "outputs": [
    {
     "data": {
      "image/png": "[encoded data removed]",
      "text/plain": [
       "<Figure size 432x288 with 1 Axes>"
      ]
     },
     "metadata": {
      "needs_background": "light"
     },
     "output_type": "display_data"
    }
   ],
   "source": [
    "#plt.plot(Q_c[a:b],m_s[a:b]*f[a:b]*CdT_dmg[a:b]*fit_sim((Pi_6[a:b],Pi_4[a:b]),Coef_sim[0][0],Coef_sim[0][1],Coef_sim[0][2],Coef_sim[0][3]),'s', label = 'Similarity')\n",
    "plt.plot(Q_h[a:b],fit_int((Q_pas_HB[a:b],Q_act_HB[a:b],Q_span[a:b],W_mag[a:b],W_p[a:b]),Coef_h[0][0],Coef_h[0][1],Coef_h[0][2],Coef_h[0][3],Coef_h[0][4]),'o',label ='Integral' )\n",
    "plt.plot(erro_h,0.9*erro_h,'k--')\n",
    "plt.plot(erro_h,1.1*erro_h,'k--')\n",
    "plt.grid()\n",
    "plt.ylabel('Analytical Cooling Capacity [W]')\n",
    "plt.xlabel('Numerical Cooling Capacity [W]')\n",
    "plt.legend()\n",
    "\n",
    "plt.savefig('ErrorBar.png',format = 'png', dpi=500,bbox_inches='tight')\n",
    "plt.show()"
   ]
  },
  {
   "cell_type": "code",
   "execution_count": 236,
   "metadata": {},
   "outputs": [
    {
     "data": {
      "image/png": "[encoded data removed]",
      "text/plain": [
       "<Figure size 432x288 with 1 Axes>"
      ]
     },
     "metadata": {
      "needs_background": "light"
     },
     "output_type": "display_data"
    }
   ],
   "source": [
    "plt.plot(Q_c[a:b],m_s[a:b]*f[a:b]*CdT_dmg[a:b]*fit_sim((Pi_6[a:b],Pi_4[a:b]),Coef_sim[0][0],Coef_sim[0][1],Coef_sim[0][2],Coef_sim[0][3]),'o')\n",
    "plt.plot(erro,0.9*erro,'k--')\n",
    "plt.plot(erro,1.1*erro,'k--')\n",
    "plt.ylabel('Integral Cooling Capacity [W]')\n",
    "plt.xlabel('Numerical Cooling Capacity [W]')\n",
    "#plt.legend()\n",
    "plt.show()\n",
    "plt.savefig('X_l.pdf',format = 'pdf', dpi=500,bbox_inches='tight')"
   ]
  },
  {
   "cell_type": "code",
   "execution_count": 120,
   "metadata": {
    "scrolled": true
   },
   "outputs": [
    {
     "data": {
      "image/png": "[encoded data removed]",
      "text/plain": [
       "<Figure size 432x288 with 1 Axes>"
      ]
     },
     "metadata": {
      "needs_background": "light"
     },
     "output_type": "display_data"
    }
   ],
   "source": [
    "plt.plot(Pi_6[0:72],Pi_10[0:72],'o',label = 'B = 1.1 T')\n",
    "plt.plot(Pi_6[72:144],Pi_10[72:144],'o',label = 'B = 1.3 T')\n",
    "plt.plot(Pi_6[144:216],Pi_10[144:216],'o',label = 'B = 1.5 T')\n",
    "plt.plot(Pi_6[216:288],Pi_10[216:288],'o',label = 'B = 1.6 T')\n",
    "plt.grid()\n",
    "plt.xlabel('$\\phi$ [-]')\n",
    "plt.ylabel('$\\dot{W}_\\mathrm{M}^*$ [-]')\n",
    "plt.legend()\n",
    "plt.show()"
   ]
  },
  {
   "cell_type": "code",
   "execution_count": 28,
   "metadata": {},
   "outputs": [
    {
     "data": {
      "image/png": "[encoded data removed]",
      "text/plain": [
       "<Figure size 432x288 with 1 Axes>"
      ]
     },
     "metadata": {},
     "output_type": "display_data"
    }
   ],
   "source": [
    "plt.plot(Pi_6[0:72],Pi_9[0:72],'o',label = 'B = 1.1 T')\n",
    "plt.plot(Pi_6[72:144],Pi_9[72:144],'o',label = 'B = 1.3 T')\n",
    "plt.plot(Pi_6[144:216],Pi_9[144:216],'o',label = 'B = 1.5 T')\n",
    "plt.plot(Pi_6[216:288],Pi_9[216:288],'o',label = 'B = 1.6 T')\n",
    "plt.grid()\n",
    "plt.xlabel('$\\phi$ [-]')\n",
    "plt.ylabel('$\\dot{Q}_\\mathrm{H}^*$ [-]')\n",
    "plt.legend()\n",
    "plt.show()"
   ]
  },
  {
   "cell_type": "code",
   "execution_count": 29,
   "metadata": {},
   "outputs": [],
   "source": [
    "a = 0*72\n",
    "b = 4*72"
   ]
  },
  {
   "cell_type": "code",
   "execution_count": 30,
   "metadata": {
    "scrolled": false
   },
   "outputs": [
    {
     "data": {
      "text/plain": [
       "(array([ 1.85012325e-03,  5.75123981e-01, -1.10499621e+01,  1.57263317e-07,\n",
       "        -2.36039012e+00]),\n",
       " array([[ 3.87577581e-08,  4.48498378e-08,  9.27514527e-05,\n",
       "          6.29378809e-13,  9.99196077e-07],\n",
       "        [ 4.48498378e-08,  3.85086670e-05, -8.11031449e-05,\n",
       "          1.81533317e-09,  3.15612136e-03],\n",
       "        [ 9.27514527e-05, -8.11031449e-05,  2.22964344e-01,\n",
       "         -6.33240688e-09, -1.11758768e-02],\n",
       "        [ 6.29378809e-13,  1.81533317e-09, -6.33240688e-09,\n",
       "          1.54043677e-13,  2.74427797e-07],\n",
       "        [ 9.99196077e-07,  3.15612136e-03, -1.11758768e-02,\n",
       "          2.74427797e-07,  4.90156729e-01]]))"
      ]
     },
     "execution_count": 30,
     "metadata": {},
     "output_type": "execute_result"
    }
   ],
   "source": [
    "Coef_Wm = curve_fit(fitting_W,(Pi_6[a:b],Pi_4[a:b]),Pi_10[a:b],maxfev=10000)\n",
    "Coef_Wm"
   ]
  },
  {
   "cell_type": "code",
   "execution_count": 31,
   "metadata": {
    "scrolled": false
   },
   "outputs": [
    {
     "ename": "NameError",
     "evalue": "name 'Coef' is not defined",
     "output_type": "error",
     "traceback": [
      "\u001b[1;31m---------------------------------------------------------------------------\u001b[0m",
      "\u001b[1;31mNameError\u001b[0m                                 Traceback (most recent call last)",
      "\u001b[1;32m<ipython-input-31-2741afa1eb86>\u001b[0m in \u001b[0;36m<module>\u001b[1;34m()\u001b[0m\n\u001b[0;32m      1\u001b[0m \u001b[0mplt\u001b[0m\u001b[1;33m.\u001b[0m\u001b[0mplot\u001b[0m\u001b[1;33m(\u001b[0m\u001b[0mPi_6\u001b[0m\u001b[1;33m[\u001b[0m\u001b[0ma\u001b[0m\u001b[1;33m:\u001b[0m\u001b[0mb\u001b[0m\u001b[1;33m]\u001b[0m\u001b[1;33m,\u001b[0m\u001b[0mPi_8\u001b[0m\u001b[1;33m[\u001b[0m\u001b[0ma\u001b[0m\u001b[1;33m:\u001b[0m\u001b[0mb\u001b[0m\u001b[1;33m]\u001b[0m\u001b[1;33m,\u001b[0m\u001b[1;34m'o'\u001b[0m\u001b[1;33m)\u001b[0m\u001b[1;33m\u001b[0m\u001b[0m\n\u001b[1;32m----> 2\u001b[1;33m \u001b[0mplt\u001b[0m\u001b[1;33m.\u001b[0m\u001b[0mplot\u001b[0m\u001b[1;33m(\u001b[0m\u001b[0mPi_6\u001b[0m\u001b[1;33m[\u001b[0m\u001b[0ma\u001b[0m\u001b[1;33m:\u001b[0m\u001b[0mb\u001b[0m\u001b[1;33m]\u001b[0m\u001b[1;33m,\u001b[0m\u001b[0mfitting\u001b[0m\u001b[1;33m(\u001b[0m\u001b[1;33m(\u001b[0m\u001b[0mPi_6\u001b[0m\u001b[1;33m[\u001b[0m\u001b[0ma\u001b[0m\u001b[1;33m:\u001b[0m\u001b[0mb\u001b[0m\u001b[1;33m]\u001b[0m\u001b[1;33m,\u001b[0m\u001b[0mPi_4\u001b[0m\u001b[1;33m[\u001b[0m\u001b[0ma\u001b[0m\u001b[1;33m:\u001b[0m\u001b[0mb\u001b[0m\u001b[1;33m]\u001b[0m\u001b[1;33m)\u001b[0m\u001b[1;33m,\u001b[0m\u001b[0mCoef\u001b[0m\u001b[1;33m[\u001b[0m\u001b[1;36m0\u001b[0m\u001b[1;33m]\u001b[0m\u001b[1;33m[\u001b[0m\u001b[1;36m0\u001b[0m\u001b[1;33m]\u001b[0m\u001b[1;33m,\u001b[0m\u001b[0mCoef\u001b[0m\u001b[1;33m[\u001b[0m\u001b[1;36m0\u001b[0m\u001b[1;33m]\u001b[0m\u001b[1;33m[\u001b[0m\u001b[1;36m1\u001b[0m\u001b[1;33m]\u001b[0m\u001b[1;33m,\u001b[0m\u001b[0mCoef\u001b[0m\u001b[1;33m[\u001b[0m\u001b[1;36m0\u001b[0m\u001b[1;33m]\u001b[0m\u001b[1;33m[\u001b[0m\u001b[1;36m2\u001b[0m\u001b[1;33m]\u001b[0m\u001b[1;33m,\u001b[0m\u001b[0mCoef\u001b[0m\u001b[1;33m[\u001b[0m\u001b[1;36m0\u001b[0m\u001b[1;33m]\u001b[0m\u001b[1;33m[\u001b[0m\u001b[1;36m3\u001b[0m\u001b[1;33m]\u001b[0m\u001b[1;33m)\u001b[0m\u001b[1;33m,\u001b[0m\u001b[1;34m'o'\u001b[0m\u001b[1;33m)\u001b[0m\u001b[1;33m\u001b[0m\u001b[0m\n\u001b[0m",
      "\u001b[1;31mNameError\u001b[0m: name 'Coef' is not defined"
     ]
    },
    {
     "data": {
      "image/png": "[encoded data removed]",
      "text/plain": [
       "<Figure size 432x288 with 1 Axes>"
      ]
     },
     "metadata": {},
     "output_type": "display_data"
    }
   ],
   "source": [
    "plt.plot(Pi_6[a:b],Pi_8[a:b],'o')\n",
    "plt.plot(Pi_6[a:b],fitting((Pi_6[a:b],Pi_4[a:b]),Coef[0][0],Coef[0][1],Coef[0][2],Coef[0][3]),'o')"
   ]
  },
  {
   "cell_type": "code",
   "execution_count": null,
   "metadata": {
    "scrolled": true
   },
   "outputs": [],
   "source": [
    "plt.plot(Pi_6[a:b],Pi_9[a:b],'o')\n",
    "plt.plot(Pi_6[a:b],fitting((Pi_6[a:b],Pi_4[a:b]),Coef_Qh[0][0],Coef_Qh[0][1],Coef_Qh[0][2],Coef_Qh[0][3]),'o')"
   ]
  },
  {
   "cell_type": "code",
   "execution_count": 32,
   "metadata": {
    "scrolled": true
   },
   "outputs": [
    {
     "data": {
      "text/plain": [
       "[<matplotlib.lines.Line2D at 0x2b2ee24dda0>]"
      ]
     },
     "execution_count": 32,
     "metadata": {},
     "output_type": "execute_result"
    },
    {
     "data": {
      "image/png": "[encoded data removed]",
      "text/plain": [
       "<Figure size 432x288 with 1 Axes>"
      ]
     },
     "metadata": {},
     "output_type": "display_data"
    }
   ],
   "source": [
    "plt.plot(Pi_6[a:b],Pi_10[a:b],'o')\n",
    "plt.plot(Pi_6[a:b],fitting_W((Pi_6[a:b],Pi_4[a:b]),Coef_Wm[0][0],Coef_Wm[0][1],Coef_Wm[0][2],0,Coef_Wm[0][4]),'o')"
   ]
  },
  {
   "cell_type": "code",
   "execution_count": 33,
   "metadata": {},
   "outputs": [
    {
     "ename": "NameError",
     "evalue": "name 'Coef' is not defined",
     "output_type": "error",
     "traceback": [
      "\u001b[1;31m---------------------------------------------------------------------------\u001b[0m",
      "\u001b[1;31mNameError\u001b[0m                                 Traceback (most recent call last)",
      "\u001b[1;32m<ipython-input-33-ee3d5f79406b>\u001b[0m in \u001b[0;36m<module>\u001b[1;34m()\u001b[0m\n\u001b[1;32m----> 1\u001b[1;33m \u001b[0merro1\u001b[0m \u001b[1;33m=\u001b[0m \u001b[0mabs\u001b[0m\u001b[1;33m(\u001b[0m\u001b[1;33m(\u001b[0m\u001b[0mPi_8\u001b[0m \u001b[1;33m-\u001b[0m \u001b[0mfitting\u001b[0m\u001b[1;33m(\u001b[0m\u001b[1;33m(\u001b[0m\u001b[0mPi_6\u001b[0m\u001b[1;33m[\u001b[0m\u001b[0ma\u001b[0m\u001b[1;33m:\u001b[0m\u001b[0mb\u001b[0m\u001b[1;33m]\u001b[0m\u001b[1;33m,\u001b[0m\u001b[0mPi_4\u001b[0m\u001b[1;33m[\u001b[0m\u001b[0ma\u001b[0m\u001b[1;33m:\u001b[0m\u001b[0mb\u001b[0m\u001b[1;33m]\u001b[0m\u001b[1;33m)\u001b[0m\u001b[1;33m,\u001b[0m\u001b[0mCoef\u001b[0m\u001b[1;33m[\u001b[0m\u001b[1;36m0\u001b[0m\u001b[1;33m]\u001b[0m\u001b[1;33m[\u001b[0m\u001b[1;36m0\u001b[0m\u001b[1;33m]\u001b[0m\u001b[1;33m,\u001b[0m\u001b[0mCoef\u001b[0m\u001b[1;33m[\u001b[0m\u001b[1;36m0\u001b[0m\u001b[1;33m]\u001b[0m\u001b[1;33m[\u001b[0m\u001b[1;36m1\u001b[0m\u001b[1;33m]\u001b[0m\u001b[1;33m,\u001b[0m\u001b[0mCoef\u001b[0m\u001b[1;33m[\u001b[0m\u001b[1;36m0\u001b[0m\u001b[1;33m]\u001b[0m\u001b[1;33m[\u001b[0m\u001b[1;36m2\u001b[0m\u001b[1;33m]\u001b[0m\u001b[1;33m,\u001b[0m\u001b[0mCoef\u001b[0m\u001b[1;33m[\u001b[0m\u001b[1;36m0\u001b[0m\u001b[1;33m]\u001b[0m\u001b[1;33m[\u001b[0m\u001b[1;36m3\u001b[0m\u001b[1;33m]\u001b[0m\u001b[1;33m)\u001b[0m\u001b[1;33m)\u001b[0m\u001b[1;33m/\u001b[0m\u001b[0mPi_8\u001b[0m\u001b[1;33m*\u001b[0m\u001b[1;36m100\u001b[0m\u001b[1;33m)\u001b[0m\u001b[1;33m\u001b[0m\u001b[0m\n\u001b[0m\u001b[0;32m      2\u001b[0m \u001b[0merro2\u001b[0m \u001b[1;33m=\u001b[0m \u001b[0mabs\u001b[0m\u001b[1;33m(\u001b[0m\u001b[1;33m(\u001b[0m\u001b[0mPi_9\u001b[0m \u001b[1;33m-\u001b[0m \u001b[0mfitting\u001b[0m\u001b[1;33m(\u001b[0m\u001b[1;33m(\u001b[0m\u001b[0mPi_6\u001b[0m\u001b[1;33m[\u001b[0m\u001b[0ma\u001b[0m\u001b[1;33m:\u001b[0m\u001b[0mb\u001b[0m\u001b[1;33m]\u001b[0m\u001b[1;33m,\u001b[0m\u001b[0mPi_4\u001b[0m\u001b[1;33m[\u001b[0m\u001b[0ma\u001b[0m\u001b[1;33m:\u001b[0m\u001b[0mb\u001b[0m\u001b[1;33m]\u001b[0m\u001b[1;33m)\u001b[0m\u001b[1;33m,\u001b[0m\u001b[0mCoef_Qh\u001b[0m\u001b[1;33m[\u001b[0m\u001b[1;36m0\u001b[0m\u001b[1;33m]\u001b[0m\u001b[1;33m[\u001b[0m\u001b[1;36m0\u001b[0m\u001b[1;33m]\u001b[0m\u001b[1;33m,\u001b[0m\u001b[0mCoef_Qh\u001b[0m\u001b[1;33m[\u001b[0m\u001b[1;36m0\u001b[0m\u001b[1;33m]\u001b[0m\u001b[1;33m[\u001b[0m\u001b[1;36m1\u001b[0m\u001b[1;33m]\u001b[0m\u001b[1;33m,\u001b[0m\u001b[0mCoef_Qh\u001b[0m\u001b[1;33m[\u001b[0m\u001b[1;36m0\u001b[0m\u001b[1;33m]\u001b[0m\u001b[1;33m[\u001b[0m\u001b[1;36m2\u001b[0m\u001b[1;33m]\u001b[0m\u001b[1;33m,\u001b[0m\u001b[0mCoef_Qh\u001b[0m\u001b[1;33m[\u001b[0m\u001b[1;36m0\u001b[0m\u001b[1;33m]\u001b[0m\u001b[1;33m[\u001b[0m\u001b[1;36m3\u001b[0m\u001b[1;33m]\u001b[0m\u001b[1;33m)\u001b[0m\u001b[1;33m)\u001b[0m\u001b[1;33m/\u001b[0m\u001b[0mPi_9\u001b[0m\u001b[1;33m*\u001b[0m\u001b[1;36m100\u001b[0m\u001b[1;33m)\u001b[0m\u001b[1;33m\u001b[0m\u001b[0m\n\u001b[0;32m      3\u001b[0m \u001b[0merro3\u001b[0m \u001b[1;33m=\u001b[0m \u001b[0mabs\u001b[0m\u001b[1;33m(\u001b[0m\u001b[1;33m(\u001b[0m\u001b[0mPi_10\u001b[0m \u001b[1;33m-\u001b[0m \u001b[0mfitting_W\u001b[0m\u001b[1;33m(\u001b[0m\u001b[1;33m(\u001b[0m\u001b[0mPi_6\u001b[0m\u001b[1;33m[\u001b[0m\u001b[0ma\u001b[0m\u001b[1;33m:\u001b[0m\u001b[0mb\u001b[0m\u001b[1;33m]\u001b[0m\u001b[1;33m,\u001b[0m\u001b[0mPi_4\u001b[0m\u001b[1;33m[\u001b[0m\u001b[0ma\u001b[0m\u001b[1;33m:\u001b[0m\u001b[0mb\u001b[0m\u001b[1;33m]\u001b[0m\u001b[1;33m)\u001b[0m\u001b[1;33m,\u001b[0m\u001b[0mCoef_Wm\u001b[0m\u001b[1;33m[\u001b[0m\u001b[1;36m0\u001b[0m\u001b[1;33m]\u001b[0m\u001b[1;33m[\u001b[0m\u001b[1;36m0\u001b[0m\u001b[1;33m]\u001b[0m\u001b[1;33m,\u001b[0m\u001b[0mCoef_Wm\u001b[0m\u001b[1;33m[\u001b[0m\u001b[1;36m0\u001b[0m\u001b[1;33m]\u001b[0m\u001b[1;33m[\u001b[0m\u001b[1;36m1\u001b[0m\u001b[1;33m]\u001b[0m\u001b[1;33m,\u001b[0m\u001b[0mCoef_Wm\u001b[0m\u001b[1;33m[\u001b[0m\u001b[1;36m0\u001b[0m\u001b[1;33m]\u001b[0m\u001b[1;33m[\u001b[0m\u001b[1;36m2\u001b[0m\u001b[1;33m]\u001b[0m\u001b[1;33m,\u001b[0m\u001b[0mCoef_Wm\u001b[0m\u001b[1;33m[\u001b[0m\u001b[1;36m0\u001b[0m\u001b[1;33m]\u001b[0m\u001b[1;33m[\u001b[0m\u001b[1;36m3\u001b[0m\u001b[1;33m]\u001b[0m\u001b[1;33m,\u001b[0m\u001b[0mCoef_Wm\u001b[0m\u001b[1;33m[\u001b[0m\u001b[1;36m0\u001b[0m\u001b[1;33m]\u001b[0m\u001b[1;33m[\u001b[0m\u001b[1;36m4\u001b[0m\u001b[1;33m]\u001b[0m\u001b[1;33m)\u001b[0m\u001b[1;33m)\u001b[0m\u001b[1;33m/\u001b[0m\u001b[0mPi_10\u001b[0m\u001b[1;33m*\u001b[0m\u001b[1;36m100\u001b[0m\u001b[1;33m)\u001b[0m\u001b[1;33m\u001b[0m\u001b[0m\n\u001b[0;32m      4\u001b[0m \u001b[0mj\u001b[0m\u001b[1;33m=\u001b[0m\u001b[1;36m0\u001b[0m\u001b[1;33m\u001b[0m\u001b[0m\n\u001b[0;32m      5\u001b[0m \u001b[0mh\u001b[0m\u001b[1;33m=\u001b[0m\u001b[1;36m0\u001b[0m\u001b[1;33m\u001b[0m\u001b[0m\n",
      "\u001b[1;31mNameError\u001b[0m: name 'Coef' is not defined"
     ]
    }
   ],
   "source": [
    "erro1 = abs((Pi_8 - fitting((Pi_6[a:b],Pi_4[a:b]),Coef[0][0],Coef[0][1],Coef[0][2],Coef[0][3]))/Pi_8*100)\n",
    "erro2 = abs((Pi_9 - fitting((Pi_6[a:b],Pi_4[a:b]),Coef_Qh[0][0],Coef_Qh[0][1],Coef_Qh[0][2],Coef_Qh[0][3]))/Pi_9*100)\n",
    "erro3 = abs((Pi_10 - fitting_W((Pi_6[a:b],Pi_4[a:b]),Coef_Wm[0][0],Coef_Wm[0][1],Coef_Wm[0][2],Coef_Wm[0][3],Coef_Wm[0][4]))/Pi_10*100)\n",
    "j=0\n",
    "h=0\n",
    "k=0\n",
    "for i in range(len(erro1)):\n",
    "    if erro1[i] >= 10:\n",
    "        j = j+1\n",
    "    if erro2[i] >= 10:\n",
    "        h = h+1\n",
    "    if erro3[i] >= 10:\n",
    "        k = k+1\n",
    "j/len(erro1),h/len(erro2),k/len(erro3)"
   ]
  },
  {
   "cell_type": "code",
   "execution_count": 34,
   "metadata": {
    "scrolled": true
   },
   "outputs": [
    {
     "data": {
      "text/plain": [
       "[<matplotlib.lines.Line2D at 0x2b2ec1f5048>]"
      ]
     },
     "execution_count": 34,
     "metadata": {},
     "output_type": "execute_result"
    },
    {
     "data": {
      "image/png": "[encoded data removed]",
      "text/plain": [
       "<Figure size 432x288 with 1 Axes>"
      ]
     },
     "metadata": {},
     "output_type": "display_data"
    }
   ],
   "source": [
    "plt.plot(Pi_6,Q_c,'o')"
   ]
  },
  {
   "cell_type": "code",
   "execution_count": 35,
   "metadata": {
    "scrolled": true
   },
   "outputs": [
    {
     "ename": "NameError",
     "evalue": "name 'erro1' is not defined",
     "output_type": "error",
     "traceback": [
      "\u001b[1;31m---------------------------------------------------------------------------\u001b[0m",
      "\u001b[1;31mNameError\u001b[0m                                 Traceback (most recent call last)",
      "\u001b[1;32m<ipython-input-35-13bb090634ee>\u001b[0m in \u001b[0;36m<module>\u001b[1;34m()\u001b[0m\n\u001b[1;32m----> 1\u001b[1;33m \u001b[0mplt\u001b[0m\u001b[1;33m.\u001b[0m\u001b[0mplot\u001b[0m\u001b[1;33m(\u001b[0m\u001b[0mPi_6\u001b[0m\u001b[1;33m,\u001b[0m\u001b[0merro1\u001b[0m\u001b[1;33m,\u001b[0m\u001b[1;34m'o'\u001b[0m\u001b[1;33m)\u001b[0m\u001b[1;33m\u001b[0m\u001b[0m\n\u001b[0m\u001b[0;32m      2\u001b[0m \u001b[0mplt\u001b[0m\u001b[1;33m.\u001b[0m\u001b[0mylim\u001b[0m\u001b[1;33m(\u001b[0m\u001b[1;33m[\u001b[0m\u001b[1;36m0\u001b[0m\u001b[1;33m,\u001b[0m\u001b[1;36m25\u001b[0m\u001b[1;33m]\u001b[0m\u001b[1;33m)\u001b[0m\u001b[1;33m\u001b[0m\u001b[0m\n",
      "\u001b[1;31mNameError\u001b[0m: name 'erro1' is not defined"
     ]
    }
   ],
   "source": [
    "plt.plot(Pi_6,erro1,'o')\n",
    "plt.ylim([0,25])"
   ]
  },
  {
   "cell_type": "code",
   "execution_count": 36,
   "metadata": {
    "scrolled": true
   },
   "outputs": [
    {
     "ename": "NameError",
     "evalue": "name 'erro1' is not defined",
     "output_type": "error",
     "traceback": [
      "\u001b[1;31m---------------------------------------------------------------------------\u001b[0m",
      "\u001b[1;31mNameError\u001b[0m                                 Traceback (most recent call last)",
      "\u001b[1;32m<ipython-input-36-058e5fdfc268>\u001b[0m in \u001b[0;36m<module>\u001b[1;34m()\u001b[0m\n\u001b[1;32m----> 1\u001b[1;33m \u001b[0mplt\u001b[0m\u001b[1;33m.\u001b[0m\u001b[0mplot\u001b[0m\u001b[1;33m(\u001b[0m\u001b[0mPi_6\u001b[0m\u001b[1;33m,\u001b[0m\u001b[0merro1\u001b[0m\u001b[1;33m,\u001b[0m\u001b[1;34m'o'\u001b[0m\u001b[1;33m,\u001b[0m\u001b[0mlabel\u001b[0m \u001b[1;33m=\u001b[0m \u001b[1;34m'$\\dot{Q}_\\mathrm{C}$'\u001b[0m\u001b[1;33m)\u001b[0m\u001b[1;33m\u001b[0m\u001b[0m\n\u001b[0m\u001b[0;32m      2\u001b[0m \u001b[0mplt\u001b[0m\u001b[1;33m.\u001b[0m\u001b[0mplot\u001b[0m\u001b[1;33m(\u001b[0m\u001b[0mPi_6\u001b[0m\u001b[1;33m,\u001b[0m\u001b[0merro2\u001b[0m\u001b[1;33m,\u001b[0m\u001b[1;34m'o'\u001b[0m\u001b[1;33m,\u001b[0m\u001b[0mlabel\u001b[0m \u001b[1;33m=\u001b[0m \u001b[1;34m'$\\dot{Q}_\\mathrm{H}$'\u001b[0m\u001b[1;33m)\u001b[0m\u001b[1;33m\u001b[0m\u001b[0m\n\u001b[0;32m      3\u001b[0m \u001b[0mplt\u001b[0m\u001b[1;33m.\u001b[0m\u001b[0mplot\u001b[0m\u001b[1;33m(\u001b[0m\u001b[0mPi_6\u001b[0m\u001b[1;33m,\u001b[0m\u001b[0merro3\u001b[0m\u001b[1;33m,\u001b[0m\u001b[1;34m'o'\u001b[0m\u001b[1;33m,\u001b[0m\u001b[0mlabel\u001b[0m \u001b[1;33m=\u001b[0m \u001b[1;34m'$\\dot{W}_\\mathrm{M}$'\u001b[0m\u001b[1;33m)\u001b[0m\u001b[1;33m\u001b[0m\u001b[0m\n\u001b[0;32m      4\u001b[0m \u001b[0mplt\u001b[0m\u001b[1;33m.\u001b[0m\u001b[0mylim\u001b[0m\u001b[1;33m(\u001b[0m\u001b[1;36m0\u001b[0m\u001b[1;33m,\u001b[0m\u001b[1;36m30\u001b[0m\u001b[1;33m)\u001b[0m\u001b[1;33m\u001b[0m\u001b[0m\n\u001b[0;32m      5\u001b[0m \u001b[0mplt\u001b[0m\u001b[1;33m.\u001b[0m\u001b[0mxlabel\u001b[0m\u001b[1;33m(\u001b[0m\u001b[1;34m'$\\phi$ [-]'\u001b[0m\u001b[1;33m)\u001b[0m\u001b[1;33m\u001b[0m\u001b[0m\n",
      "\u001b[1;31mNameError\u001b[0m: name 'erro1' is not defined"
     ]
    }
   ],
   "source": [
    "plt.plot(Pi_6,erro1,'o',label = '$\\dot{Q}_\\mathrm{C}$')\n",
    "plt.plot(Pi_6,erro2,'o',label = '$\\dot{Q}_\\mathrm{H}$')\n",
    "plt.plot(Pi_6,erro3,'o',label = '$\\dot{W}_\\mathrm{M}$')\n",
    "plt.ylim(0,30)\n",
    "plt.xlabel('$\\phi$ [-]')\n",
    "plt.legend()\n",
    "plt.ylabel('Error [$\\%$]')\n",
    "plt.grid()"
   ]
  },
  {
   "cell_type": "code",
   "execution_count": 37,
   "metadata": {},
   "outputs": [
    {
     "ename": "NameError",
     "evalue": "name 'erro3' is not defined",
     "output_type": "error",
     "traceback": [
      "\u001b[1;31m---------------------------------------------------------------------------\u001b[0m",
      "\u001b[1;31mNameError\u001b[0m                                 Traceback (most recent call last)",
      "\u001b[1;32m<ipython-input-37-d03b634c1775>\u001b[0m in \u001b[0;36m<module>\u001b[1;34m()\u001b[0m\n\u001b[1;32m----> 1\u001b[1;33m \u001b[0mplt\u001b[0m\u001b[1;33m.\u001b[0m\u001b[0mplot\u001b[0m\u001b[1;33m(\u001b[0m\u001b[0mPi_6\u001b[0m\u001b[1;33m,\u001b[0m\u001b[0merro3\u001b[0m\u001b[1;33m,\u001b[0m\u001b[1;34m'o'\u001b[0m\u001b[1;33m)\u001b[0m\u001b[1;33m\u001b[0m\u001b[0m\n\u001b[0m",
      "\u001b[1;31mNameError\u001b[0m: name 'erro3' is not defined"
     ]
    }
   ],
   "source": [
    "plt.plot(Pi_6,erro3,'o')"
   ]
  },
  {
   "cell_type": "code",
   "execution_count": 38,
   "metadata": {},
   "outputs": [
    {
     "ename": "NameError",
     "evalue": "name 'Coef' is not defined",
     "output_type": "error",
     "traceback": [
      "\u001b[1;31m---------------------------------------------------------------------------\u001b[0m",
      "\u001b[1;31mNameError\u001b[0m                                 Traceback (most recent call last)",
      "\u001b[1;32m<ipython-input-38-fee6d345b436>\u001b[0m in \u001b[0;36m<module>\u001b[1;34m()\u001b[0m\n\u001b[1;32m----> 1\u001b[1;33m \u001b[0mplt\u001b[0m\u001b[1;33m.\u001b[0m\u001b[0mplot\u001b[0m\u001b[1;33m(\u001b[0m\u001b[0mPi_8\u001b[0m\u001b[1;33m,\u001b[0m\u001b[0mfitting\u001b[0m\u001b[1;33m(\u001b[0m\u001b[1;33m(\u001b[0m\u001b[0mPi_6\u001b[0m\u001b[1;33m,\u001b[0m\u001b[0mPi_7\u001b[0m\u001b[1;33m)\u001b[0m\u001b[1;33m,\u001b[0m\u001b[0mCoef\u001b[0m\u001b[1;33m[\u001b[0m\u001b[1;36m0\u001b[0m\u001b[1;33m]\u001b[0m\u001b[1;33m[\u001b[0m\u001b[1;36m0\u001b[0m\u001b[1;33m]\u001b[0m\u001b[1;33m,\u001b[0m\u001b[0mCoef\u001b[0m\u001b[1;33m[\u001b[0m\u001b[1;36m0\u001b[0m\u001b[1;33m]\u001b[0m\u001b[1;33m[\u001b[0m\u001b[1;36m1\u001b[0m\u001b[1;33m]\u001b[0m\u001b[1;33m,\u001b[0m\u001b[0mCoef\u001b[0m\u001b[1;33m[\u001b[0m\u001b[1;36m0\u001b[0m\u001b[1;33m]\u001b[0m\u001b[1;33m[\u001b[0m\u001b[1;36m2\u001b[0m\u001b[1;33m]\u001b[0m\u001b[1;33m)\u001b[0m\u001b[1;33m,\u001b[0m\u001b[1;34m'o'\u001b[0m\u001b[1;33m)\u001b[0m\u001b[1;33m\u001b[0m\u001b[0m\n\u001b[0m\u001b[0;32m      2\u001b[0m \u001b[0mplt\u001b[0m\u001b[1;33m.\u001b[0m\u001b[0mplot\u001b[0m\u001b[1;33m(\u001b[0m\u001b[0mPi_8\u001b[0m\u001b[1;33m,\u001b[0m\u001b[1;36m0.9\u001b[0m\u001b[1;33m*\u001b[0m\u001b[0mPi_8\u001b[0m\u001b[1;33m)\u001b[0m\u001b[1;33m\u001b[0m\u001b[0m\n\u001b[0;32m      3\u001b[0m \u001b[0mplt\u001b[0m\u001b[1;33m.\u001b[0m\u001b[0mplot\u001b[0m\u001b[1;33m(\u001b[0m\u001b[0mPi_8\u001b[0m\u001b[1;33m,\u001b[0m\u001b[1;36m1.1\u001b[0m\u001b[1;33m*\u001b[0m\u001b[0mPi_8\u001b[0m\u001b[1;33m)\u001b[0m\u001b[1;33m\u001b[0m\u001b[0m\n\u001b[0;32m      4\u001b[0m \u001b[0mplt\u001b[0m\u001b[1;33m.\u001b[0m\u001b[0mgrid\u001b[0m\u001b[1;33m(\u001b[0m\u001b[1;33m)\u001b[0m\u001b[1;33m\u001b[0m\u001b[0m\n",
      "\u001b[1;31mNameError\u001b[0m: name 'Coef' is not defined"
     ]
    }
   ],
   "source": [
    "plt.plot(Pi_8,fitting((Pi_6,Pi_7),Coef[0][0],Coef[0][1],Coef[0][2]),'o')\n",
    "plt.plot(Pi_8,0.9*Pi_8)\n",
    "plt.plot(Pi_8,1.1*Pi_8)\n",
    "plt.grid()"
   ]
  },
  {
   "cell_type": "code",
   "execution_count": null,
   "metadata": {},
   "outputs": [],
   "source": [
    "error_bar = np.arange(0,700)"
   ]
  },
  {
   "cell_type": "code",
   "execution_count": 124,
   "metadata": {},
   "outputs": [
    {
     "ename": "NameError",
     "evalue": "name 'm_s' is not defined",
     "output_type": "error",
     "traceback": [
      "\u001b[1;31m---------------------------------------------------------------------------\u001b[0m",
      "\u001b[1;31mNameError\u001b[0m                                 Traceback (most recent call last)",
      "\u001b[1;32m<ipython-input-124-1e7d38aafab0>\u001b[0m in \u001b[0;36m<module>\u001b[1;34m()\u001b[0m\n\u001b[1;32m----> 1\u001b[1;33m \u001b[0mK\u001b[0m \u001b[1;33m=\u001b[0m \u001b[1;33m(\u001b[0m\u001b[0mm_s\u001b[0m\u001b[1;33m*\u001b[0m\u001b[0mf\u001b[0m\u001b[1;33m*\u001b[0m\u001b[0mCdT_dmg\u001b[0m\u001b[1;33m)\u001b[0m\u001b[1;33m\u001b[0m\u001b[0m\n\u001b[0m\u001b[0;32m      2\u001b[0m \u001b[0mplt\u001b[0m\u001b[1;33m.\u001b[0m\u001b[0mplot\u001b[0m\u001b[1;33m(\u001b[0m\u001b[0mPi_8\u001b[0m\u001b[1;33m[\u001b[0m\u001b[1;36m0\u001b[0m\u001b[1;33m:\u001b[0m\u001b[1;36m72\u001b[0m\u001b[1;33m]\u001b[0m\u001b[1;33m*\u001b[0m\u001b[0mK\u001b[0m\u001b[1;33m[\u001b[0m\u001b[1;36m0\u001b[0m\u001b[1;33m:\u001b[0m\u001b[1;36m72\u001b[0m\u001b[1;33m]\u001b[0m\u001b[1;33m,\u001b[0m\u001b[0mK\u001b[0m\u001b[1;33m[\u001b[0m\u001b[1;36m0\u001b[0m\u001b[1;33m:\u001b[0m\u001b[1;36m72\u001b[0m\u001b[1;33m]\u001b[0m\u001b[1;33m*\u001b[0m\u001b[0mfitting\u001b[0m\u001b[1;33m(\u001b[0m\u001b[1;33m(\u001b[0m\u001b[0mPi_6\u001b[0m\u001b[1;33m[\u001b[0m\u001b[1;36m0\u001b[0m\u001b[1;33m:\u001b[0m\u001b[1;36m72\u001b[0m\u001b[1;33m]\u001b[0m\u001b[1;33m,\u001b[0m\u001b[0mPi_4\u001b[0m\u001b[1;33m[\u001b[0m\u001b[1;36m0\u001b[0m\u001b[1;33m:\u001b[0m\u001b[1;36m72\u001b[0m\u001b[1;33m]\u001b[0m\u001b[1;33m)\u001b[0m\u001b[1;33m,\u001b[0m\u001b[0mCoef\u001b[0m\u001b[1;33m[\u001b[0m\u001b[1;36m0\u001b[0m\u001b[1;33m]\u001b[0m\u001b[1;33m[\u001b[0m\u001b[1;36m0\u001b[0m\u001b[1;33m]\u001b[0m\u001b[1;33m,\u001b[0m\u001b[0mCoef\u001b[0m\u001b[1;33m[\u001b[0m\u001b[1;36m0\u001b[0m\u001b[1;33m]\u001b[0m\u001b[1;33m[\u001b[0m\u001b[1;36m1\u001b[0m\u001b[1;33m]\u001b[0m\u001b[1;33m,\u001b[0m\u001b[0mCoef\u001b[0m\u001b[1;33m[\u001b[0m\u001b[1;36m0\u001b[0m\u001b[1;33m]\u001b[0m\u001b[1;33m[\u001b[0m\u001b[1;36m2\u001b[0m\u001b[1;33m]\u001b[0m\u001b[1;33m,\u001b[0m\u001b[0mCoef\u001b[0m\u001b[1;33m[\u001b[0m\u001b[1;36m0\u001b[0m\u001b[1;33m]\u001b[0m\u001b[1;33m[\u001b[0m\u001b[1;36m3\u001b[0m\u001b[1;33m]\u001b[0m\u001b[1;33m)\u001b[0m\u001b[1;33m,\u001b[0m\u001b[1;34m'o'\u001b[0m\u001b[1;33m,\u001b[0m \u001b[0mlabel\u001b[0m \u001b[1;33m=\u001b[0m \u001b[1;34m'B = 1.1 T'\u001b[0m\u001b[1;33m)\u001b[0m\u001b[1;33m\u001b[0m\u001b[0m\n\u001b[0;32m      3\u001b[0m \u001b[0mplt\u001b[0m\u001b[1;33m.\u001b[0m\u001b[0mplot\u001b[0m\u001b[1;33m(\u001b[0m\u001b[0mPi_8\u001b[0m\u001b[1;33m[\u001b[0m\u001b[1;36m72\u001b[0m\u001b[1;33m:\u001b[0m\u001b[1;36m2\u001b[0m\u001b[1;33m*\u001b[0m\u001b[1;36m72\u001b[0m\u001b[1;33m]\u001b[0m\u001b[1;33m*\u001b[0m\u001b[0mK\u001b[0m\u001b[1;33m[\u001b[0m\u001b[1;36m72\u001b[0m\u001b[1;33m:\u001b[0m\u001b[1;36m2\u001b[0m\u001b[1;33m*\u001b[0m\u001b[1;36m72\u001b[0m\u001b[1;33m]\u001b[0m\u001b[1;33m,\u001b[0m\u001b[0mK\u001b[0m\u001b[1;33m[\u001b[0m\u001b[1;36m72\u001b[0m\u001b[1;33m:\u001b[0m\u001b[1;36m2\u001b[0m\u001b[1;33m*\u001b[0m\u001b[1;36m72\u001b[0m\u001b[1;33m]\u001b[0m\u001b[1;33m*\u001b[0m\u001b[0mfitting\u001b[0m\u001b[1;33m(\u001b[0m\u001b[1;33m(\u001b[0m\u001b[0mPi_6\u001b[0m\u001b[1;33m[\u001b[0m\u001b[1;36m72\u001b[0m\u001b[1;33m:\u001b[0m\u001b[1;36m2\u001b[0m\u001b[1;33m*\u001b[0m\u001b[1;36m72\u001b[0m\u001b[1;33m]\u001b[0m\u001b[1;33m,\u001b[0m\u001b[0mPi_4\u001b[0m\u001b[1;33m[\u001b[0m\u001b[1;36m72\u001b[0m\u001b[1;33m:\u001b[0m\u001b[1;36m2\u001b[0m\u001b[1;33m*\u001b[0m\u001b[1;36m72\u001b[0m\u001b[1;33m]\u001b[0m\u001b[1;33m)\u001b[0m\u001b[1;33m,\u001b[0m\u001b[0mCoef\u001b[0m\u001b[1;33m[\u001b[0m\u001b[1;36m0\u001b[0m\u001b[1;33m]\u001b[0m\u001b[1;33m[\u001b[0m\u001b[1;36m0\u001b[0m\u001b[1;33m]\u001b[0m\u001b[1;33m,\u001b[0m\u001b[0mCoef\u001b[0m\u001b[1;33m[\u001b[0m\u001b[1;36m0\u001b[0m\u001b[1;33m]\u001b[0m\u001b[1;33m[\u001b[0m\u001b[1;36m1\u001b[0m\u001b[1;33m]\u001b[0m\u001b[1;33m,\u001b[0m\u001b[0mCoef\u001b[0m\u001b[1;33m[\u001b[0m\u001b[1;36m0\u001b[0m\u001b[1;33m]\u001b[0m\u001b[1;33m[\u001b[0m\u001b[1;36m2\u001b[0m\u001b[1;33m]\u001b[0m\u001b[1;33m,\u001b[0m\u001b[0mCoef\u001b[0m\u001b[1;33m[\u001b[0m\u001b[1;36m0\u001b[0m\u001b[1;33m]\u001b[0m\u001b[1;33m[\u001b[0m\u001b[1;36m3\u001b[0m\u001b[1;33m]\u001b[0m\u001b[1;33m)\u001b[0m\u001b[1;33m,\u001b[0m\u001b[1;34m'X'\u001b[0m\u001b[1;33m,\u001b[0m \u001b[0mlabel\u001b[0m \u001b[1;33m=\u001b[0m \u001b[1;34m'B = 1.3 T'\u001b[0m\u001b[1;33m)\u001b[0m\u001b[1;33m\u001b[0m\u001b[0m\n\u001b[0;32m      4\u001b[0m \u001b[0mplt\u001b[0m\u001b[1;33m.\u001b[0m\u001b[0mplot\u001b[0m\u001b[1;33m(\u001b[0m\u001b[0mPi_8\u001b[0m\u001b[1;33m[\u001b[0m\u001b[1;36m2\u001b[0m\u001b[1;33m*\u001b[0m\u001b[1;36m72\u001b[0m\u001b[1;33m:\u001b[0m\u001b[1;36m3\u001b[0m\u001b[1;33m*\u001b[0m\u001b[1;36m72\u001b[0m\u001b[1;33m]\u001b[0m\u001b[1;33m*\u001b[0m\u001b[0mK\u001b[0m\u001b[1;33m[\u001b[0m\u001b[1;36m2\u001b[0m\u001b[1;33m*\u001b[0m\u001b[1;36m72\u001b[0m\u001b[1;33m:\u001b[0m\u001b[1;36m3\u001b[0m\u001b[1;33m*\u001b[0m\u001b[1;36m72\u001b[0m\u001b[1;33m]\u001b[0m\u001b[1;33m,\u001b[0m\u001b[0mK\u001b[0m\u001b[1;33m[\u001b[0m\u001b[1;36m2\u001b[0m\u001b[1;33m*\u001b[0m\u001b[1;36m72\u001b[0m\u001b[1;33m:\u001b[0m\u001b[1;36m3\u001b[0m\u001b[1;33m*\u001b[0m\u001b[1;36m72\u001b[0m\u001b[1;33m]\u001b[0m\u001b[1;33m*\u001b[0m\u001b[0mfitting\u001b[0m\u001b[1;33m(\u001b[0m\u001b[1;33m(\u001b[0m\u001b[0mPi_6\u001b[0m\u001b[1;33m[\u001b[0m\u001b[1;36m2\u001b[0m\u001b[1;33m*\u001b[0m\u001b[1;36m72\u001b[0m\u001b[1;33m:\u001b[0m\u001b[1;36m3\u001b[0m\u001b[1;33m*\u001b[0m\u001b[1;36m72\u001b[0m\u001b[1;33m]\u001b[0m\u001b[1;33m,\u001b[0m\u001b[0mPi_4\u001b[0m\u001b[1;33m[\u001b[0m\u001b[1;36m2\u001b[0m\u001b[1;33m*\u001b[0m\u001b[1;36m72\u001b[0m\u001b[1;33m:\u001b[0m\u001b[1;36m3\u001b[0m\u001b[1;33m*\u001b[0m\u001b[1;36m72\u001b[0m\u001b[1;33m]\u001b[0m\u001b[1;33m)\u001b[0m\u001b[1;33m,\u001b[0m\u001b[0mCoef\u001b[0m\u001b[1;33m[\u001b[0m\u001b[1;36m0\u001b[0m\u001b[1;33m]\u001b[0m\u001b[1;33m[\u001b[0m\u001b[1;36m0\u001b[0m\u001b[1;33m]\u001b[0m\u001b[1;33m,\u001b[0m\u001b[0mCoef\u001b[0m\u001b[1;33m[\u001b[0m\u001b[1;36m0\u001b[0m\u001b[1;33m]\u001b[0m\u001b[1;33m[\u001b[0m\u001b[1;36m1\u001b[0m\u001b[1;33m]\u001b[0m\u001b[1;33m,\u001b[0m\u001b[0mCoef\u001b[0m\u001b[1;33m[\u001b[0m\u001b[1;36m0\u001b[0m\u001b[1;33m]\u001b[0m\u001b[1;33m[\u001b[0m\u001b[1;36m2\u001b[0m\u001b[1;33m]\u001b[0m\u001b[1;33m,\u001b[0m\u001b[0mCoef\u001b[0m\u001b[1;33m[\u001b[0m\u001b[1;36m0\u001b[0m\u001b[1;33m]\u001b[0m\u001b[1;33m[\u001b[0m\u001b[1;36m3\u001b[0m\u001b[1;33m]\u001b[0m\u001b[1;33m)\u001b[0m\u001b[1;33m,\u001b[0m\u001b[1;34m's'\u001b[0m\u001b[1;33m,\u001b[0m \u001b[0mlabel\u001b[0m \u001b[1;33m=\u001b[0m \u001b[1;34m'B = 1.5 T'\u001b[0m\u001b[1;33m)\u001b[0m\u001b[1;33m\u001b[0m\u001b[0m\n\u001b[0;32m      5\u001b[0m \u001b[0mplt\u001b[0m\u001b[1;33m.\u001b[0m\u001b[0mplot\u001b[0m\u001b[1;33m(\u001b[0m\u001b[0mPi_8\u001b[0m\u001b[1;33m[\u001b[0m\u001b[1;36m3\u001b[0m\u001b[1;33m*\u001b[0m\u001b[1;36m72\u001b[0m\u001b[1;33m:\u001b[0m\u001b[1;36m4\u001b[0m\u001b[1;33m*\u001b[0m\u001b[1;36m72\u001b[0m\u001b[1;33m]\u001b[0m\u001b[1;33m*\u001b[0m\u001b[0mK\u001b[0m\u001b[1;33m[\u001b[0m\u001b[1;36m3\u001b[0m\u001b[1;33m*\u001b[0m\u001b[1;36m72\u001b[0m\u001b[1;33m:\u001b[0m\u001b[1;36m4\u001b[0m\u001b[1;33m*\u001b[0m\u001b[1;36m72\u001b[0m\u001b[1;33m]\u001b[0m\u001b[1;33m,\u001b[0m\u001b[0mK\u001b[0m\u001b[1;33m[\u001b[0m\u001b[1;36m3\u001b[0m\u001b[1;33m*\u001b[0m\u001b[1;36m72\u001b[0m\u001b[1;33m:\u001b[0m\u001b[1;36m4\u001b[0m\u001b[1;33m*\u001b[0m\u001b[1;36m72\u001b[0m\u001b[1;33m]\u001b[0m\u001b[1;33m*\u001b[0m\u001b[0mfitting\u001b[0m\u001b[1;33m(\u001b[0m\u001b[1;33m(\u001b[0m\u001b[0mPi_6\u001b[0m\u001b[1;33m[\u001b[0m\u001b[1;36m3\u001b[0m\u001b[1;33m*\u001b[0m\u001b[1;36m72\u001b[0m\u001b[1;33m:\u001b[0m\u001b[1;36m4\u001b[0m\u001b[1;33m*\u001b[0m\u001b[1;36m72\u001b[0m\u001b[1;33m]\u001b[0m\u001b[1;33m,\u001b[0m\u001b[0mPi_4\u001b[0m\u001b[1;33m[\u001b[0m\u001b[1;36m3\u001b[0m\u001b[1;33m*\u001b[0m\u001b[1;36m72\u001b[0m\u001b[1;33m:\u001b[0m\u001b[1;36m4\u001b[0m\u001b[1;33m*\u001b[0m\u001b[1;36m72\u001b[0m\u001b[1;33m]\u001b[0m\u001b[1;33m)\u001b[0m\u001b[1;33m,\u001b[0m\u001b[0mCoef\u001b[0m\u001b[1;33m[\u001b[0m\u001b[1;36m0\u001b[0m\u001b[1;33m]\u001b[0m\u001b[1;33m[\u001b[0m\u001b[1;36m0\u001b[0m\u001b[1;33m]\u001b[0m\u001b[1;33m,\u001b[0m\u001b[0mCoef\u001b[0m\u001b[1;33m[\u001b[0m\u001b[1;36m0\u001b[0m\u001b[1;33m]\u001b[0m\u001b[1;33m[\u001b[0m\u001b[1;36m1\u001b[0m\u001b[1;33m]\u001b[0m\u001b[1;33m,\u001b[0m\u001b[0mCoef\u001b[0m\u001b[1;33m[\u001b[0m\u001b[1;36m0\u001b[0m\u001b[1;33m]\u001b[0m\u001b[1;33m[\u001b[0m\u001b[1;36m2\u001b[0m\u001b[1;33m]\u001b[0m\u001b[1;33m,\u001b[0m\u001b[0mCoef\u001b[0m\u001b[1;33m[\u001b[0m\u001b[1;36m0\u001b[0m\u001b[1;33m]\u001b[0m\u001b[1;33m[\u001b[0m\u001b[1;36m3\u001b[0m\u001b[1;33m]\u001b[0m\u001b[1;33m)\u001b[0m\u001b[1;33m,\u001b[0m\u001b[1;34m'^'\u001b[0m\u001b[1;33m,\u001b[0m \u001b[0mlabel\u001b[0m \u001b[1;33m=\u001b[0m \u001b[1;34m'B = 1.6 T'\u001b[0m\u001b[1;33m)\u001b[0m\u001b[1;33m\u001b[0m\u001b[0m\n",
      "\u001b[1;31mNameError\u001b[0m: name 'm_s' is not defined"
     ]
    }
   ],
   "source": [
    "K = (m_s*f*CdT_dmg)\n",
    "plt.plot(Pi_8[0:72]*K[0:72],K[0:72]*fitting((Pi_6[0:72],Pi_4[0:72]),Coef[0][0],Coef[0][1],Coef[0][2],Coef[0][3]),'o', label = 'B = 1.1 T')\n",
    "plt.plot(Pi_8[72:2*72]*K[72:2*72],K[72:2*72]*fitting((Pi_6[72:2*72],Pi_4[72:2*72]),Coef[0][0],Coef[0][1],Coef[0][2],Coef[0][3]),'X', label = 'B = 1.3 T')\n",
    "plt.plot(Pi_8[2*72:3*72]*K[2*72:3*72],K[2*72:3*72]*fitting((Pi_6[2*72:3*72],Pi_4[2*72:3*72]),Coef[0][0],Coef[0][1],Coef[0][2],Coef[0][3]),'s', label = 'B = 1.5 T')\n",
    "plt.plot(Pi_8[3*72:4*72]*K[3*72:4*72],K[3*72:4*72]*fitting((Pi_6[3*72:4*72],Pi_4[3*72:4*72]),Coef[0][0],Coef[0][1],Coef[0][2],Coef[0][3]),'^', label = 'B = 1.6 T')\n",
    "plt.plot(error_bar,0.92*error_bar,'k--')\n",
    "plt.plot(error_bar,1.08*error_bar,'k--')\n",
    "plt.text(100,80,'- 8\\%')\n",
    "plt.text(80,110,'+ 8\\%')\n",
    "\n",
    "\n",
    "plt.xlabel('Numerical Cooling Capacity [W]')\n",
    "plt.ylabel('Fitting Cooling Capacity [W]')\n",
    "\n",
    "plt.grid()\n",
    "plt.legend()\n",
    "plt.xlim(0,180)\n",
    "plt.ylim(0,180)"
   ]
  },
  {
   "cell_type": "code",
   "execution_count": null,
   "metadata": {},
   "outputs": [],
   "source": [
    "plt.plot((Pi_9*K)[0:72],K[0:72]*fitting((Pi_6[0:72],Pi_4[0:72]),Coef_Qh[0][0],Coef_Qh[0][1],Coef_Qh[0][2],Coef_Qh[0][3]),'o', label = 'B = 1.1 T')\n",
    "plt.plot((Pi_9*K)[72:2*72],K[72:144]*fitting((Pi_6[72:2*72],Pi_4[72:2*72]),Coef_Qh[0][0],Coef_Qh[0][1],Coef_Qh[0][2],Coef_Qh[0][3]),'X', label = 'B = 1.3 T')\n",
    "plt.plot((Pi_9*K)[2*72:3*72],K[144:216]*fitting((Pi_6[2*72:3*72],Pi_4[2*72:3*72]),Coef_Qh[0][0],Coef_Qh[0][1],Coef_Qh[0][2],Coef_Qh[0][3]),'s', label = 'B = 1.5 T')\n",
    "plt.plot((Pi_9*K)[3*72:4*72],K[216:288]*fitting((Pi_6[3*72:4*72],Pi_4[3*72:4*72]),Coef_Qh[0][0],Coef_Qh[0][1],Coef_Qh[0][2],Coef_Qh[0][3]),'^', label = 'B = 1.6 T')\n",
    "plt.plot(error_bar,0.9*error_bar,'k--')\n",
    "plt.plot(error_bar,1.1*error_bar,'k--')\n",
    "plt.text(300,230,'- 10\\%')\n",
    "plt.text(250,350,'+ 10\\%')\n",
    "\n",
    "\n",
    "plt.xlabel('Numerical Rejected Heat [W]')\n",
    "plt.ylabel('Fitting Rejected Heat [W]')\n",
    "\n",
    "plt.grid()\n",
    "plt.legend()\n",
    "plt.xlim(20,550)\n",
    "plt.ylim(20,550)"
   ]
  },
  {
   "cell_type": "code",
   "execution_count": null,
   "metadata": {},
   "outputs": [],
   "source": [
    "plt.plot((Pi_10*K)[0:72],K[0:72]*fitting_W((Pi_6[0:72],Pi_4[0:72]),Coef_Wm[0][0],Coef_Wm[0][1],Coef_Wm[0][2],Coef_Wm[0][3],Coef_Wm[0][4]),'o', label = 'B = 1.1 T')\n",
    "plt.plot((Pi_10*K)[72:2*72],K[72:144]*fitting_W((Pi_6[72:2*72],Pi_4[72:2*72]),Coef_Wm[0][0],Coef_Wm[0][1],Coef_Wm[0][2],Coef_Wm[0][3],Coef_Wm[0][4]),'X', label = 'B = 1.3 T')\n",
    "plt.plot((Pi_10*K)[2*72:3*72],K[144:216]*fitting_W((Pi_6[2*72:3*72],Pi_4[2*72:3*72]),Coef_Wm[0][0],Coef_Wm[0][1],Coef_Wm[0][2],Coef_Wm[0][3],Coef_Wm[0][4]),'s', label = 'B = 1.5 T')\n",
    "plt.plot((Pi_10*K)[3*72:4*72],K[216:288]*fitting_W((Pi_6[3*72:4*72],Pi_4[3*72:4*72]),Coef_Wm[0][0],Coef_Wm[0][1],Coef_Wm[0][2],Coef_Wm[0][3],Coef_Wm[0][4]),'^', label = 'B = 1.6 T')\n",
    "plt.plot(error_bar,0.9*error_bar,'k--')\n",
    "plt.plot(error_bar,1.1*error_bar,'k--')\n",
    "plt.text(40,31.5,'- 8\\%')\n",
    "plt.text(31.5,45,'+ 8\\%')\n",
    "\n",
    "\n",
    "plt.xlabel('Numerical Magnetic Work[W]')\n",
    "plt.ylabel('Fitting Magnetic Work [W]')\n",
    "\n",
    "plt.grid()\n",
    "plt.legend()\n",
    "plt.xlim(5,70)\n",
    "plt.ylim(5,70)"
   ]
  },
  {
   "cell_type": "code",
   "execution_count": null,
   "metadata": {},
   "outputs": [],
   "source": []
  }
 ],
 "metadata": {
  "kernelspec": {
   "display_name": "Python 3",
   "language": "python",
   "name": "python3"
  },
  "language_info": {
   "codemirror_mode": {
    "name": "ipython",
    "version": 3
   },
   "file_extension": ".py",
   "mimetype": "text/x-python",
   "name": "python",
   "nbconvert_exporter": "python",
   "pygments_lexer": "ipython3",
   "version": "3.6.5"
  }
 },
 "nbformat": 4,
 "nbformat_minor": 2
}
