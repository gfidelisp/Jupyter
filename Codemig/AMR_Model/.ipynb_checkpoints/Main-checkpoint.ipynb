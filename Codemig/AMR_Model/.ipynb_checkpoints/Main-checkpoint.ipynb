{
 "cells": [
  {
   "cell_type": "code",
   "execution_count": 43,
   "metadata": {},
   "outputs": [],
   "source": [
    "from numpy import *\n",
    "from scipy import *\n",
    "import numpy as np\n",
    "from matplotlib import *\n",
    "\n",
    "from scipy import integrate\n",
    "from scipy import interpolate\n",
    "from scipy.optimize import curve_fit\n",
    "import matplotlib.pyplot as plt\n",
    "\n",
    "import xlrd\n",
    "\n",
    "rc('text',usetex = True)\n",
    "rc('font', family='serif',size = 12)"
   ]
  },
  {
   "cell_type": "code",
   "execution_count": 44,
   "metadata": {},
   "outputs": [],
   "source": [
    "def Properties(C,dT,B_exp,K,B_l_int,B_h_int,T,N_ml): #Get the properties on the low and high field\n",
    "\n",
    "    C_l = zeros([N_ml,len(T)])\n",
    "    C_h = zeros([N_ml,len(T)])\n",
    "    dT_l = zeros([N_ml,len(T)])\n",
    "    dT_h = zeros([N_ml,len(T)])\n",
    "    \n",
    "\n",
    "    for i in range(K):\n",
    "        #print(B_exp[i],B_h_int)\n",
    "        if B_exp[i] == B_l_int:\n",
    "            for j in range(N_ml):\n",
    "                C_l[j][i]=C[j,i]\n",
    "                dT_l[j][i]=dT[j,i]\n",
    "\n",
    "        if B_exp[i] == B_h_int and B_exp[i-1]< B_h_int:\n",
    "            A = i\n",
    "        if B_exp[i] == B_h_int:\n",
    "            for j in range(N_ml):\n",
    "                C_h[j][i-A]=C[j,i]\n",
    "                dT_h[j][i-A]=dT[j,i]\n",
    "                \n",
    "    return(C_l,C_h,dT_l,dT_h)"
   ]
  },
  {
   "cell_type": "code",
   "execution_count": 45,
   "metadata": {},
   "outputs": [],
   "source": [
    "def SubMetrics(Th,Tc,T_l,T_layer,L_layer,C_h,C_l,dT_ad,dT_ad_d):\n",
    "\n",
    "    #Th = 312\n",
    "    #Tc = 282\n",
    "\n",
    "    C_mag = []\n",
    "    C_dmag = []\n",
    "    dT_mag = []\n",
    "    dT_dmag = []\n",
    "\n",
    "    T_int = np.arange(Tc,Th+0.01,0.1)\n",
    "\n",
    "\n",
    "    #T_layer = np.arange(282,310.1,30/(15))\n",
    "    #L_layer = (100/len(T_layer))*ones(len(T_layer))\n",
    "    N_l = len(T_layer)\n",
    "\n",
    "    A = np.int((Tc - min(T_exp))/0.1)\n",
    "\n",
    "\n",
    "\n",
    "    T_t = []\n",
    "    L = 0\n",
    "\n",
    "    for i in range(N_l):\n",
    "        L = L + L_layer[i]\n",
    "        T_tr = Tc + 0.001 +L/100*(Th-Tc)\n",
    "        T_t.append(T_tr)\n",
    "    \n",
    "    \n",
    "    k = 0    \n",
    "    for i in range (len(T_int)):\n",
    "        #print(T_int[i])\n",
    "        if T_int[i] <=T_t[k]:\n",
    "            #print(T_int[i],T_t[k])\n",
    "            for j in range(len(T_l)):\n",
    "                #print(T_layer[k],T_l[j])\n",
    "                if T_layer[k] >= T_l[j] and T_layer[k] < T_l[j+1]:\n",
    "                    #print('Hello')\n",
    "                    #print(T_int[i],T_t[k],T_layer[k],T_l[j],T_l[j+1])\n",
    "                    C_mag.append(C_h[j+1][int(i+A)]-(C_h[j+1][int(i+A)]-C_h[j][int(i+A)])*(T_l[j+1]-T_layer[k])/(T_l[j+1]-T_l[j]))\n",
    "                    C_dmag.append(C_l[j+1][int(i+A)]-(C_l[j+1][int(i+A)]-C_l[j][int(i+A)])*(T_l[j+1]-T_layer[k])/(T_l[j+1]-T_l[j]))\n",
    "                    dT_mag.append(dT_ad[j+1][int(i+A)]-(dT_ad[j+1][int(i+A)]-dT_ad[j][int(i+A)])*(T_l[j+1]-T_layer[k])/(T_l[j+1]-T_l[j]))\n",
    "                    dT_dmag.append(dT_ad_d[j+1][int(i+A)]-(dT_ad_d[j+1][int(i+A)]-dT_ad_d[j][int(i+A)])*(T_l[j+1]-T_layer[k])/(T_l[j+1]-T_l[j]))\n",
    "                    #print(T_int[i],C_h[j+1][int(i+A)],C_h[j][int(i+A)],(C_h[j+1][int(i+A)]-(C_h[j+1][int(i+A)]-C_h[j][int(i+A)])*(T_l[j+1]-T_layer[k])/(T_l[j+1]-T_l[j])))\n",
    "        else:\n",
    "            for j in range(len(T_l)):\n",
    "                if T_layer[k+1] >= T_l[j] and T_layer[k+1] < T_l[j+1]:\n",
    "                    C_mag.append(C_h[j][int(i+A)]+(C_h[j+1][int(i+A)]-C_h[j][int(i+A)])*(T_layer[k+1]-T_l[j])/(T_l[j+1]-T_l[j]))\n",
    "                    C_dmag.append(C_l[j][int(i+A)]+(C_l[j+1][int(i+A)]-C_l[j][int(i+A)])*(T_layer[k+1]-T_l[j])/(T_l[j+1]-T_l[j]))\n",
    "                    dT_mag.append(dT_ad[j][int(i+A)]+(dT_ad[j+1][int(i+A)]-dT_ad[j][int(i+A)])*(T_layer[k+1]-T_l[j])/(T_l[j+1]-T_l[j]))\n",
    "                    dT_dmag.append(dT_ad_d[j][int(i+A)]+(dT_ad_d[j+1][int(i+A)]-dT_ad_d[j][int(i+A)])*(T_layer[k+1]-T_l[j])/(T_l[j+1]-T_l[j]))\n",
    "                    #print(T_int[i],C_h[j+1][int(i+A)],C_h[j][int(i+A)],T_l[j+1],T_l[j],T_layer[k],(C_h[j+1][int(i+A)]-(C_h[j+1][int(i+A)]-C_h[j][int(i+A)])*(T_l[j+1]-T_layer[k])/(T_l[j+1]-T_l[j])))\n",
    "            k = k + 1\n",
    "\n",
    "            \n",
    "    return (C_mag,C_dmag,dT_mag,dT_dmag)"
   ]
  },
  {
   "cell_type": "code",
   "execution_count": 46,
   "metadata": {},
   "outputs": [],
   "source": [
    "def Parameters(C_mag,C_dmag,dT_mag,dT_dmag,T_int):\n",
    "\n",
    "    C_mag_mean   = integrate.simps(C_mag,T_int)/(max(T_int)-min(T_int))\n",
    "    C_dmag_mean  = integrate.simps(C_dmag,T_int)/(max(T_int)-min(T_int))\n",
    "    \n",
    "    dT_mag_mean  = integrate.simps(dT_mag,T_int)/(max(T_int)-min(T_int))\n",
    "    dT_dmag_mean = integrate.simps(dT_dmag,T_int)/(max(T_int)-min(T_int))\n",
    "    \n",
    "    CdT_mag_mean   = integrate.simps(np.array(C_mag)*np.array(dT_mag),T_int)/(max(T_int)-min(T_int))\n",
    "    CdT_dmag_mean  = integrate.simps(np.array(C_dmag)*np.array(dT_dmag),T_int)/(max(T_int)-min(T_int))\n",
    "    return C_mag_mean, C_dmag_mean, dT_mag_mean,dT_dmag_mean,CdT_mag_mean,CdT_dmag_mean"
   ]
  },
  {
   "cell_type": "code",
   "execution_count": 47,
   "metadata": {},
   "outputs": [],
   "source": [
    "def Metrics (SpecHeat,dTad,B_l_int,B_h_int,T_arg,N_ml,Th,Tc,T_l,T_layer,L_layer):\n",
    "    (C_l,C_h,dT_l,dT_h) = Properties(C,dT,np.round(B_exp,2),K,B_l_int,B_h_int,T_arg,N_ml) #Properties of low and high fields\n",
    "    dT_ad = np.array(dT_h)-np.array(dT_l)\n",
    "             \n",
    "    T_dem = zeros([N_ml,len(T_arg)])\n",
    "    for j in range(N_ml):\n",
    "        T_dem[j] = T_arg + dT_ad[j]\n",
    "             \n",
    "    dT_ad_d = np.zeros([N_ml,len(T_arg)])\n",
    "    for i in range(N_ml):\n",
    "        for j in range(len(T_arg)):\n",
    "            for k in range(len(T_dem[i])):\n",
    "                if  T_arg[j] > T_dem[i][k] and T_arg[j] <= T_dem[i][k+1]:\n",
    "                    dT_ad_d[i][j] = (dT_ad[i][k] + (T_arg[j] - T_dem[i][k])*(dT_ad[i][k+1]-dT_ad[i][k])/(T_arg[k+1]-T_arg[k]))\n",
    "\n",
    "    (C_mag,C_dmag,dT_mag,dT_dmag) = SubMetrics(Th,Tc,T_l,T_layer,L_layer,C_h,C_l,dT_ad,dT_ad_d)\n",
    "    \n",
    "    T_int = np.arange(Tc,Th+0.01,0.1)\n",
    "    \n",
    "    C_mag_mean, C_dmag_mean, dT_mag_mean,dT_dmag_mean,CdT_mag_mean,CdT_dmag_mean = Parameters(C_mag,C_dmag,dT_mag,dT_dmag,T_int)\n",
    "    \n",
    "    return C_mag_mean, C_dmag_mean, dT_mag_mean,dT_dmag_mean,CdT_mag_mean,CdT_dmag_mean"
   ]
  },
  {
   "cell_type": "markdown",
   "metadata": {},
   "source": [
    "HEx inputs"
   ]
  },
  {
   "cell_type": "code",
   "execution_count": 48,
   "metadata": {},
   "outputs": [],
   "source": [
    "def fan(V,a,b,c):\n",
    "    P = a*V**2+b*V + c\n",
    "    return P"
   ]
  },
  {
   "cell_type": "code",
   "execution_count": 49,
   "metadata": {},
   "outputs": [],
   "source": [
    "N_r = 3\n",
    "N_l = 4\n",
    "Xt = 0.2\n",
    "Xl = 0.3\n",
    "L2 = N_r*Xl\n",
    "L3 = Xt*N_l"
   ]
  },
  {
   "cell_type": "code",
   "execution_count": 8,
   "metadata": {},
   "outputs": [
    {
     "data": {
      "text/plain": [
       "(0.8999999999999999, 0.8)"
      ]
     },
     "execution_count": 8,
     "metadata": {},
     "output_type": "execute_result"
    }
   ],
   "source": [
    "L2,L3"
   ]
  },
  {
   "cell_type": "code",
   "execution_count": 9,
   "metadata": {},
   "outputs": [],
   "source": [
    "if N_r%2 == 0:\n",
    "    arranjo = 2\n",
    "else:\n",
    "    arranjo = 1\n",
    "\n",
    "if arranjo == 0:\n",
    "    N_t = L2*L3/(Xt*Xl)\n",
    "elif arranjo == 1:\n",
    "    N_t = (L3/Xt)*(L2/Xl+1)/2 + (L3/Xt-1)*(L2/Xl-1)/2\n",
    "elif arranjo == 2:\n",
    "    N_t = 0.5*(L2/Xl)*(2*L3/Xt-1)"
   ]
  },
  {
   "cell_type": "code",
   "execution_count": 10,
   "metadata": {},
   "outputs": [
    {
     "data": {
      "text/plain": [
       "(1, 11.0)"
      ]
     },
     "execution_count": 10,
     "metadata": {},
     "output_type": "execute_result"
    }
   ],
   "source": [
    "arranjo,N_t"
   ]
  },
  {
   "cell_type": "code",
   "execution_count": 11,
   "metadata": {},
   "outputs": [],
   "source": [
    "def HEx(Xl,Xt,N_r,N_l,L1,Di,De,pf,xf,sigmaf,sigmah,pd,m_f,Nucleos):\n",
    "    \n",
    "    #Geometric definition\n",
    "    #Xt = 0.0381\n",
    "    #Xl = 0.033\n",
    "    \n",
    "    #N_r = 3\n",
    "    L2 = N_r*Xl\n",
    "    L3 = N_l*Xt\n",
    "    \n",
    "    #L2 = 0.033*4 #0.0215 #0.043\n",
    "      #0.125 #0.152\n",
    "\n",
    "    #Di = 0.01588 #694\n",
    "    #De = 0.0163 #794\n",
    "\n",
    "\n",
    "    \n",
    "    #pf = 1/Beta\n",
    "    #Nfin =100\n",
    "    #Beta = Nfin/L1   #Fin density [1/m]\n",
    "    \n",
    "    #pf = 5*10**-3\n",
    "    Beta = 1/pf\n",
    "    Nfin = Beta*L1\n",
    "    \n",
    "    #xf = 0.007\n",
    "    \n",
    "    #sigmaf = 0.00015\n",
    "    #sigmah = 0.0016\n",
    "    \n",
    "    #pd = 0.0018\n",
    "    \n",
    "    \n",
    "    \n",
    "    #Properties of air at 25ºC\n",
    "    \n",
    "    rho_a = 1.168      #[kg/m3] Density\n",
    "    mu_a  = 0.00001849 #[kg/(m.s)] Viscosity\n",
    "    cp_a  = 1004      #[kJ/kg.K] Specific heat\n",
    "    Pr_a  = 0.7281     #[-] Prandtl number\n",
    "    \n",
    "    #Properties of the wall\n",
    "    \n",
    "    k_w = 273 #[W/m.K] Thermal conductivity of the aluminum\n",
    "    \n",
    "    #Properties of the water\n",
    "    \n",
    "    rho_w = 997        #[kg/m3] Density (25ºC)\n",
    "    cp_w  = 4181       #[kJ/kg.K] Specific heat\n",
    "    mu_wc = 0.001138   #[kg/(m.s)] Viscosity in the cold line (15ºC)\n",
    "    mu_wh = 0.0007193  #[kg/(m.s)] Viscosity in the hot line (35ºC)\n",
    "    Pr_wc = 8.092      #[-] Prandtl number in the cold line (15ºC)\n",
    "    Pr_wh = 4.835      #[-] Prandtl number in the hot line  (35ºC)\n",
    "    k_wc = 0.5888      #[-] Thermal conductivity in the cold line (15ºC)\n",
    "    k_wh = 0.6217      #[-] Thermal conductivity in the hot line (35ºC)\n",
    "    \n",
    "    #Geometric calculation\n",
    "    \n",
    "    \n",
    "    # Arranjo == 0 - Inline arrangement\n",
    "    # Arranjo == 1 - Staggered Arrangement - Numero impar de fileiras - Última fila com o mesmo numero de tubos que a primeira\n",
    "    # Arranjo == 2 - Staggered Arrangement - Numero par de fileiras   - Última fila com um tubo a menos que a primeira\n",
    "    \n",
    "    \n",
    "    arranjo = 1\n",
    "    \n",
    "    N_t = N_r*N_l\n",
    "    \n",
    "    #print(L1,L2,L3,N_r,N_l,N_t,Nucleos)\n",
    "    \n",
    "    #if N_r%2 == 0:\n",
    "        #arranjo = 2\n",
    "    #else:\n",
    "        #arranjo = 1\n",
    "    \n",
    "       \n",
    "    #if arranjo == 0:\n",
    "        #N_t = L2*L3/(Xt*Xl)\n",
    "    #elif arranjo == 1:\n",
    "        #N_t = (L3/Xt)*(L2/Xl+1)/2 + (L3/Xt-1)*(L2/Xl-1)/2\n",
    "    #elif arranjo == 2:\n",
    "        #N_t = 0.5*(L2/Xl)*(2*L3/Xt-1)\n",
    "        \n",
    "    \n",
    "    dc = De + 2*sigmaf\n",
    "    \n",
    "    theta = np.arctan(pd/xf)\n",
    "\n",
    "\n",
    "    \n",
    "    \n",
    "    if arranjo  == 0:\n",
    "        A_min_o = ((Xt-De)*L1 - (Xt-De)*sigmaf*Beta*L1)*L3/Xt #Minimum free flow area\n",
    "    else:\n",
    "        a = ((Xt - De) - (Xt - De)*sigmaf*Beta)/2\n",
    "        b = ((Xt/2)**2+Xl**2)**0.5 - De - (Xt-De)*sigmaf*Beta\n",
    "        if a<b:\n",
    "            c = 2*a\n",
    "        else:\n",
    "            c = 2*b\n",
    "        A_min_o = ((L3/Xt-1)*c + (Xt-De)-(Xt-De)*sigmaf*Beta)*L1 #Minimum free flow area\n",
    "    \n",
    "    \n",
    "    A_fr = L1*L3 #Frontal area\n",
    "    sigma = A_min_o/A_fr\n",
    "    \n",
    "    \n",
    "    A_p = np.pi*De*(L1-sigmaf*Beta*L1)*N_t+2*(L2*L3 - np.pi*De**2*N_t/4) #Primary surface area  - exposed tubes and header plates\n",
    "    A_f = 2*(L2*L3-(np.pi*De**2/4)*N_t)*Beta*L1 + 2*L3*sigmaf*Beta*L1     #Secondary surface are - fin surface\n",
    "    A_s = A_p + A_f       #Total heat transfer area\n",
    "    A_t = np.pi*De*L1*N_t #External tube area\n",
    "    \n",
    "    sigma_o = (L3*L1 - L3*sigmaf*Beta*L1)/(L3*L1) #area concentration/expansion ratio\n",
    "    D_h = 4*A_min_o*L2/A_s #Hydraulic diameter\n",
    "    #print(D_h*1000,Beta,pf*1000)\n",
    "    #Correlation parameters\n",
    "    \n",
    "    c1 = -0.1707 - 1.374*((Xl/sigmaf)**(-0.493))*((pf/dc)**(-0.886))*((N_r)**(-0.143))*((pd/xf)**(-0.0296))\n",
    "    c2 = 0.1714 - 0.07372*((pf/Xl)**0.25)*(np.log(A_s/A_t))*((pd/xf)**(-0.2))\n",
    "    c3 = 0.426*((pf/Xt)**0.3)*(np.log(A_s/A_t))\n",
    "    \n",
    "    VFR = np.arange(1,2000,1)\n",
    "    dP_o = np.zeros(len(VFR))\n",
    "    Rt_o = np.zeros(len(VFR))\n",
    "    Re = np.zeros(len(VFR)) \n",
    "    for i in range(len(VFR)):\n",
    "        vazao = VFR[i]*0.00047194745\n",
    "        \n",
    "        u_air = vazao/(L1*L3)\n",
    "        u_max = u_air/sigma\n",
    "        \n",
    "        Re[i] = u_max*rho_a*dc/(mu_a)\n",
    "\n",
    "        \n",
    "        c4 = -10.2192/np.log(Re[i])\n",
    "        \n",
    "        \n",
    "        #Pressure drop correlation\n",
    "        f_o  = 0.05273*(Re[i]**c2)*((pd/xf)**c3)*((pf/Xt)**c4)*((np.log(A_s/A_t))**(-2.726))*(D_h/dc)**0.1325*((N_r)**0.02305)\n",
    "        \n",
    "        G_o = rho_a*u_max\n",
    "        \n",
    "        dP_o[i] = G_o**2/(2*rho_a)*((f_o)*(A_s/A_min_o))\n",
    "        #Coulburn factor\n",
    "        \n",
    "        j_o = 1.7910*((Re[i])**c1)*((Xl/sigmaf)**(-0.456))*((N_r)**(-0.27))*((pf/dc)**(-1.343))*((pd/xf)**0.317)\n",
    "        h_o = j_o*rho_a*u_max*cp_a*Pr_a**(-0.66666)\n",
    "        \n",
    "        #Fin efficiency\n",
    "        \n",
    "        m = ((2*h_o)/(k_w*sigmaf))**0.5\n",
    "        \n",
    "        Pm = Xt/2\n",
    "        Pl = (((Xt/2)**2+Xl**2)**0.5)/2\n",
    "        R_eq = 1.27*Pm*(Pl/Pm-0.3)**0.5\n",
    "        phi = (R_eq/(Di/2)-1)*(1+0.35*np.log(R_eq/(Di/2)))\n",
    "        eta = math.tanh(m*(Di/2)*phi)/(m*(Di/2)*phi)\n",
    "        eta_o = 1 - (A_f/A_s)*(1-eta)\n",
    "        \n",
    "        Rt_o[i] = 1/(eta_o*h_o*A_s)\n",
    "    \n",
    "    \n",
    "    \n",
    "    #Internal flow\n",
    "    \n",
    "    Lh=(L1+2*sigmah)*N_t\n",
    "    A_i = np.pi*Di*L1*N_t\n",
    "    A_min_i = np.pi*(Di**2)/4\n",
    "    G_i = m_f/A_min_i\n",
    "    \n",
    "    Re_ic = G_i*Di/mu_wc \n",
    "    Re_ih = G_i*Di/mu_wh\n",
    "    \n",
    "    A_c = (2.457*np.log(1/((7/Re_ic)**0.9+0.27*(0.0015*10**(-3)/Di))))**16\n",
    "    B_c = (37530/Re_ic)**16\n",
    "    \n",
    "    A_h = (2.457*np.log(1/((7/Re_ih)**0.9+0.27*(0.0015*10**(-3)/Di))))**16\n",
    "    B_h = (37530/Re_ih)**16\n",
    "    \n",
    "    f_c = (8*((8/Re_ic)**12 + (A_c + B_c)**(-3/2))**(1/12))/4\n",
    "    f_h = (8*((8/Re_ih)**12 + (A_h + B_h)**(-3/2))**(1/12))/4\n",
    "    \n",
    "    if Re_ih < 2300:\n",
    "        Nu_ih = 3.66\n",
    "    else:\n",
    "        Nu_ih = ((f_h/2)*(Re_ih-1000)*Pr_wh)/(1+12.7*((f_h/2)**0.5)*(Pr_wh**(2/3)-1))\n",
    "                                              \n",
    "    if Re_ic < 2300:\n",
    "        Nu_ic = 3.66\n",
    "    else:\n",
    "        Nu_ic = ((f_c/2)*(Re_ic-1000)*Pr_wc)/(1+12.7*((f_c/2)**0.5)*(Pr_wc**(2/3)-1))   \n",
    "    \n",
    "    \n",
    "    h_i_c = Nu_ic*k_wc/Di\n",
    "    h_i_h = Nu_ih*k_wh/Di\n",
    "       \n",
    "    #print(Nu_ic, h_i_c,f_c,Re_ic)    \n",
    "    \n",
    "    Rt_i_c = 1/(h_i_c*A_i)\n",
    "    Rt_i_h = 1/(h_i_h*A_i)\n",
    "    \n",
    "    K_bend = 26\n",
    "    dP_i_c = f_c*G_i**2*4*(Lh/Di+N_t*np.pi*Xt/2/Di + N_t*K_bend)/(2*rho_w)  #f_c*G_i**2*4*50/(2*rho_w)\n",
    "    dP_i_h = f_h*G_i**2*4*(Lh/Di+N_t*np.pi*Xt/2/Di + N_t*K_bend)/(2*rho_w) #f_c*G_i**2*4*50/(2*rho_w)\n",
    "    #http://hydroneng.com/pipelines/\n",
    "    #http://www.thermopedia.com/content/577/\n",
    "    #print(200*f_c,np.pi*Xt/2,Lh)\n",
    "                                              \n",
    "    W_p_c = dP_i_c*m_f/rho_w\n",
    "    W_p_h = dP_i_h*m_f/rho_w\n",
    "    \n",
    "    \n",
    "    #Performance metrics\n",
    "    \n",
    "    UA_h = (Rt_o+Rt_i_h)**-1\n",
    "    UA_c = (Rt_o+Rt_i_c)**-1\n",
    "    #print(UA_h,UA_c)\n",
    "    W_o = VFR*0.00047194745*dP_o/0.1\n",
    "    \n",
    "    NTU_c = UA_c/(VFR*0.00047194745*rho_a*cp_a)\n",
    "    NTU_h = UA_h/(VFR*0.00047194745*rho_a*cp_a)\n",
    "    \n",
    "    C_r = (VFR*0.00047194745*rho_a*cp_a)/(m_f*cp_w)\n",
    "    \n",
    "    if N_r == 1:\n",
    "        Eff_h = (1-np.exp(-C_r*(1-np.exp(-NTU_h))))/C_r\n",
    "        Eff_c = (1-np.exp(-C_r*(1-np.exp(-NTU_c))))/C_r\n",
    "    elif N_r == 2:\n",
    "        K = (1-np.exp(-NTU_h/2))\n",
    "        Eff_h = (1-np.exp(-2*K*C_r)*((1+C_r*K**2)))/C_r\n",
    "        K = (1-np.exp(-NTU_c/2))\n",
    "        Eff_c = (1-np.exp(-2*K*C_r)*((1+C_r*K**2)))/C_r\n",
    "    elif N_r == 3:\n",
    "        K = (1-np.exp(-NTU_h/3))\n",
    "        Eff_h = (1-np.exp(-3*K*C_r)*(1+C_r*K**2*(3-K)+3*C_r**2*K**4/2))/C_r\n",
    "        K = (1-np.exp(-NTU_c/3))\n",
    "        Eff_c = (1-np.exp(-3*K*C_r)*(1+C_r*K**2*(3-K)+3*C_r**2*K**4/2))/C_r\n",
    "    elif N_r ==4:\n",
    "        K = (1-np.exp(-NTU_h/4))\n",
    "        Eff_h = (1-np.exp(-4*K*C_r)*(1+C_r*K**2*(6-4*K+K**2)+4*C_r**2*K**4*(2-K)+8*C_r**3*K**6/3))/C_r\n",
    "        K = (1-np.exp(-NTU_c/4))\n",
    "        Eff_c = (1-np.exp(-4*K*C_r)*(1+C_r*K**2*(6-4*K+K**2)+4*C_r**2*K**4*(2-K)+8*C_r**3*K**6/3))/C_r\n",
    "    else:\n",
    "        Eff_h = 1 - np.exp(NTU_h**0.22*(np.exp(-C_r*NTU_h**0.78)-1)/C_r)\n",
    "        Eff_c = 1 - np.exp(NTU_c**0.22*(np.exp(-C_r*NTU_c**0.78)-1)/C_r)\n",
    "    \n",
    "    \n",
    "    \n",
    "    ECr_c = Eff_c*C_r\n",
    "    ECr_h = Eff_h*C_r\n",
    "    \n",
    "    #Fan\n",
    "    \n",
    "    #https://www.ebmpapst.com/en/products/axial-fans/axialfansdetail.php?pID=139216\n",
    "    #https://www.ebmpapst.com/en/products/axial-fans/axialfansdetail.php?pID=128164\n",
    "    \n",
    "    dP_low = np.array([37,35,30,22,11,0]) \n",
    "    V_low  = np.array([1000,1250,1500,1750,2000,2250])*0.588578/Nucleos\n",
    "    #V_low  = np.array([2500,2700,3000,3400,3700,4250])*0.588578/Nucleos\n",
    "    \n",
    "    #dP_low = np.array([40,30,20,10,0])\n",
    "    #V_low = np.array([2000,2400,2700,3000,3250])*0.588578/Nucleos\n",
    "    \n",
    "    \n",
    "    #dP_v = np.array([0,7,20,32,40,47,54])\n",
    "    #V = np.array([2900,2750,2500,2250,2000,1750,1500])*0.588578\n",
    "    \n",
    "    \n",
    "    #https://www.coolstore.pl/data/links/14dfdc7caabd364370879f08e2576560/4244_370.pdf\n",
    "    #https://www.coolstore.pl/data/links/ebe5db23a298ac8d489ecac34f4111d0/4246_374.pdf\n",
    "    \n",
    "    dP_high = np.array([120,115,105,95,75,55,30,0])\n",
    "    V_high  = np.array([2000,1500,2000,2500,3000,3500,4000,4500])*0.588578\n",
    "    \n",
    "    Coef_fan_l = curve_fit(fan,V_low,dP_low,maxfev=10000)\n",
    "    Coef_fan_h = curve_fit(fan,V_high,dP_high,maxfev=1000)\n",
    "    \n",
    "    aux_low = fan(VFR,Coef_fan_l[0][0],Coef_fan_l[0][1],Coef_fan_l[0][2])-dP_o\n",
    "    Inter_low = np.abs(aux_low).argmin()\n",
    "    \n",
    "    \n",
    "    erro_dp = abs(dP_o[Inter_low] - fan(VFR[Inter_low],Coef_fan_l[0][0],Coef_fan_l[0][1],Coef_fan_l[0][2]))\n",
    "    \n",
    "    if erro_dp > 1:\n",
    "        print(dP_o[Inter_low],fan(VFR[Inter_low],Coef_fan_l[0][0],Coef_fan_l[0][1],Coef_fan_l[0][2]))\n",
    "    \n",
    "    aux_high = fan(VFR,Coef_fan_h[0][0],Coef_fan_h[0][1],Coef_fan_h[0][2])-dP_o\n",
    "    Inter_high = np.abs(aux_high).argmin() \n",
    "    \n",
    "    #print(UA_c[Inter_low],Eff_c[Inter_low],C_r[Inter_low],m_f*3600,VFR[Inter_low],VFR[Inter_low]*Nucleos)\n",
    "\n",
    "    return(W_o[Inter_low],ECr_c[Inter_low],ECr_h[Inter_low],dP_o[Inter_low],N_r,N_l,L1,pf,W_p_c,W_p_h,VFR[Inter_low],erro_dp,Eff_c[Inter_low],Eff_h[Inter_low])"
   ]
  },
  {
   "cell_type": "code",
   "execution_count": 12,
   "metadata": {
    "scrolled": true
   },
   "outputs": [
    {
     "data": {
      "text/plain": [
       "(80.64796608589468,\n",
       " 4.1891558981266286e-05,\n",
       " 4.189350357330923e-05,\n",
       " 37.639506648282826,\n",
       " 1,\n",
       " 5,\n",
       " 0.11,\n",
       " 0.004,\n",
       " 4081574508.1482077,\n",
       " 4075351699.4919033,\n",
       " 454,\n",
       " 0.05851595900664819,\n",
       " 0.10456152220779373,\n",
       " 0.10456637591839865)"
      ]
     },
     "execution_count": 12,
     "metadata": {},
     "output_type": "execute_result"
    }
   ],
   "source": [
    "HEx(27.5*10**-3,31.75*10**-3,1,5,0.11,0.00694,0.00794,4*10**-3,7*10**-3,0.15*10**-3, 0.00030,0.0018,150,1)"
   ]
  },
  {
   "cell_type": "code",
   "execution_count": 13,
   "metadata": {},
   "outputs": [
    {
     "ename": "NameError",
     "evalue": "name 'Nucleos' is not defined",
     "output_type": "error",
     "traceback": [
      "\u001b[1;31m---------------------------------------------------------------------------\u001b[0m",
      "\u001b[1;31mNameError\u001b[0m                                 Traceback (most recent call last)",
      "\u001b[1;32m<ipython-input-13-5754a4218636>\u001b[0m in \u001b[0;36m<module>\u001b[1;34m\u001b[0m\n\u001b[0;32m      1\u001b[0m \u001b[1;31m#Nucleos = np.array([1,2,4,8,16])\u001b[0m\u001b[1;33m\u001b[0m\u001b[1;33m\u001b[0m\u001b[1;33m\u001b[0m\u001b[0m\n\u001b[1;32m----> 2\u001b[1;33m \u001b[1;36m3040\u001b[0m\u001b[1;33m/\u001b[0m\u001b[0mNucleos\u001b[0m\u001b[1;33m\u001b[0m\u001b[1;33m\u001b[0m\u001b[0m\n\u001b[0m",
      "\u001b[1;31mNameError\u001b[0m: name 'Nucleos' is not defined"
     ]
    }
   ],
   "source": [
    "#Nucleos = np.array([1,2,4,8,16])\n",
    "3040/Nucleos"
   ]
  },
  {
   "cell_type": "code",
   "execution_count": 14,
   "metadata": {},
   "outputs": [],
   "source": [
    "sigmaf = 0.00010 #0.00015\n",
    "sigmah = 0.00030 #0.0016\n",
    "pd = 0.0018\n",
    "\n",
    "Di = 0.0117\n",
    "De = 0.0127\n",
    "\n",
    "Nucleos = 7\n",
    "\n",
    "#De = np.array(0.0127,0.01588,(0.01588-0.0127)/2)\n",
    "#Di = De - 0.0015\n",
    "\n",
    "#N_circuitos = 10\n",
    "\n",
    "m_f = np.arange(4*640/3600/Nucleos,4*650/3600/Nucleos,4*5/3600/Nucleos) #3040/3600/Nucleos #\n",
    "\n",
    "#Xt = np.arange(31.75*10**-3,1.01*38.1*10**-3,(38.1*10**-3-31.75*10**-3)/2)\n",
    "\n",
    "Xt = (31.75*10**-3)\n",
    "\n",
    "#Xl = np.arange(27.5*10**-3,1.01*33*10**-3,(33*10**-3-27.5*10**-3)/2)\n",
    "\n",
    "Xl = 27.5*10**-3\n",
    "\n",
    "pf = np.array([6,8,10,12,15])*10**-3#np.array([2.1,3.175,5.08,6.3])*10**-3 #np.array([2.1,2.54,3.175,4.2333,5.08,6.3])*10**-3 #np.arange(2.1*10**-3,1.01*6.3*10**-3,(6.3*10**-3-2.1*10**-3)/5) #min = 2.98 mm\n",
    "\n",
    "N_r = np.arange(3,10.1,1)\n",
    "\n",
    "#N_r = 3\n",
    "\n",
    "N_l =[1,2]\n",
    "\n",
    "#N_l = 30\n",
    "L1  = np.arange(0.7,0.9,0.05) #np.arange(0.4,0.73,0.05)\n",
    "\n",
    "#L1 = 0.8\n",
    "#xf = np.arange(6.87*10**-3,1.01*8.25*10**-3,(8.25*10**-3-6.87*10**-3))\n",
    "\n",
    "xf = 7*10**-3\n",
    "#sigmaf = np.arange(0.00010,0.00021,0.00005)\n",
    "\n",
    "sigmaf = 0.15*10**-3"
   ]
  },
  {
   "cell_type": "code",
   "execution_count": 15,
   "metadata": {
    "scrolled": true
   },
   "outputs": [],
   "source": [
    "W_l = np.zeros([size(m_f),size(Xl),size(Xt),size(N_r),size(N_l),size(L1),size(pf),size(xf),size(sigmaf)])\n",
    "W_h = np.zeros([size(m_f),size(Xl),size(Xt),size(N_r),size(N_l),size(L1),size(pf),size(xf),size(sigmaf)])\n",
    "\n",
    "W_p_h = np.zeros([size(m_f),size(Xl),size(Xt),size(N_r),size(N_l),size(L1),size(pf),size(xf),size(sigmaf)])\n",
    "W_p_c = np.zeros([size(m_f),size(Xl),size(Xt),size(N_r),size(N_l),size(L1),size(pf),size(xf),size(sigmaf)])\n",
    "\n",
    "\n",
    "ECr_c_l = np.zeros([size(m_f),size(Xl),size(Xt),size(N_r),size(N_l),size(L1),size(pf),size(xf),size(sigmaf)])\n",
    "ECr_h_l = np.zeros([size(m_f),size(Xl),size(Xt),size(N_r),size(N_l),size(L1),size(pf),size(xf),size(sigmaf)])\n",
    "\n",
    "E_c = np.zeros([size(m_f),size(Xl),size(Xt),size(N_r),size(N_l),size(L1),size(pf),size(xf),size(sigmaf)])\n",
    "E_h = np.zeros([size(m_f),size(Xl),size(Xt),size(N_r),size(N_l),size(L1),size(pf),size(xf),size(sigmaf)])"
   ]
  },
  {
   "cell_type": "code",
   "execution_count": 16,
   "metadata": {},
   "outputs": [
    {
     "name": "stdout",
     "output_type": "stream",
     "text": [
      "800\n"
     ]
    }
   ],
   "source": [
    "ECr_c_h = np.zeros([size(m_f),size(Xl),size(Xt),size(N_r),size(N_l),size(L1),size(pf),size(xf),size(sigmaf)])\n",
    "ECr_h_h = np.zeros([size(m_f),size(Xl),size(Xt),size(N_r),size(N_l),size(L1),size(pf),size(xf),size(sigmaf)])\n",
    "\n",
    "\n",
    "print(size(W_l))\n",
    "\n",
    "dP_o = np.zeros([size(m_f),size(Xl),size(Xt),size(N_r),size(N_l),size(L1),size(pf),size(xf),size(sigmaf)])\n",
    "Nr= np.zeros([size(m_f),size(Xl),size(Xt),size(N_r),size(N_l),size(L1),size(pf),size(xf),size(sigmaf)])\n",
    "Nl = np.zeros([size(m_f),size(Xl),size(Xt),size(N_r),size(N_l),size(L1),size(pf),size(xf),size(sigmaf)])\n",
    "L_1 = np.zeros([size(m_f),size(Xl),size(Xt),size(N_r),size(N_l),size(L1),size(pf),size(xf),size(sigmaf)])\n",
    "p_f = np.zeros([size(m_f),size(Xl),size(Xt),size(N_r),size(N_l),size(L1),size(pf),size(xf),size(sigmaf)])\n",
    "CFM = np.zeros([size(m_f),size(Xl),size(Xt),size(N_r),size(N_l),size(L1),size(pf),size(xf),size(sigmaf)])\n",
    "erro_dp = np.zeros([size(m_f),size(Xl),size(Xt),size(N_r),size(N_l),size(L1),size(pf),size(xf),size(sigmaf)])"
   ]
  },
  {
   "cell_type": "code",
   "execution_count": 17,
   "metadata": {
    "scrolled": true
   },
   "outputs": [
    {
     "name": "stdout",
     "output_type": "stream",
     "text": [
      "0.625\n",
      "1.25\n",
      "1.875\n",
      "2.5\n",
      "3.125\n",
      "3.75\n",
      "4.375\n",
      "5.0\n",
      "5.625\n",
      "6.25\n",
      "6.875000000000001\n",
      "7.5\n",
      "8.125\n",
      "8.75\n",
      "9.375\n",
      "10.0\n",
      "10.625\n",
      "11.25\n",
      "11.875\n",
      "12.5\n",
      "13.125\n",
      "13.750000000000002\n",
      "14.374999999999998\n",
      "15.0\n",
      "15.625\n",
      "16.25\n",
      "16.875\n",
      "17.5\n",
      "18.125\n",
      "18.75\n",
      "19.375\n",
      "20.0\n",
      "20.625\n",
      "21.25\n",
      "21.875\n",
      "22.5\n",
      "23.125\n",
      "23.75\n",
      "24.375\n",
      "25.0\n",
      "25.624999999999996\n",
      "26.25\n",
      "26.875\n",
      "27.500000000000004\n",
      "28.125\n",
      "28.749999999999996\n",
      "29.375\n",
      "30.0\n",
      "30.625000000000004\n",
      "31.25\n",
      "31.874999999999996\n",
      "32.5\n",
      "33.125\n",
      "33.75\n",
      "34.375\n",
      "35.0\n",
      "35.625\n",
      "36.25\n",
      "36.875\n",
      "37.5\n",
      "38.125\n",
      "38.75\n",
      "39.375\n",
      "40.0\n",
      "40.625\n",
      "41.25\n",
      "41.875\n",
      "42.5\n",
      "43.125\n",
      "43.75\n",
      "44.375\n",
      "45.0\n",
      "45.625\n",
      "46.25\n",
      "46.875\n",
      "47.5\n",
      "48.125\n",
      "48.75\n",
      "49.375\n",
      "50.0\n",
      "50.625\n",
      "51.24999999999999\n",
      "51.87500000000001\n",
      "52.5\n",
      "53.125\n",
      "53.75\n",
      "54.37499999999999\n",
      "55.00000000000001\n",
      "55.625\n",
      "56.25\n",
      "56.875\n",
      "57.49999999999999\n",
      "58.12500000000001\n",
      "58.75\n",
      "59.375\n",
      "60.0\n",
      "60.62499999999999\n",
      "61.25000000000001\n",
      "61.875\n",
      "62.5\n",
      "63.125\n",
      "63.74999999999999\n",
      "64.375\n",
      "65.0\n",
      "65.625\n",
      "66.25\n",
      "66.875\n",
      "67.5\n",
      "68.125\n",
      "68.75\n",
      "69.375\n",
      "70.0\n",
      "70.625\n"
     ]
    },
    {
     "ename": "KeyboardInterrupt",
     "evalue": "",
     "output_type": "error",
     "traceback": [
      "\u001b[1;31m---------------------------------------------------------------------------\u001b[0m",
      "\u001b[1;31mKeyboardInterrupt\u001b[0m                         Traceback (most recent call last)",
      "\u001b[1;32m<ipython-input-17-48dc3a26b3c9>\u001b[0m in \u001b[0;36m<module>\u001b[1;34m\u001b[0m\n\u001b[0;32m     10\u001b[0m                             \u001b[1;32mfor\u001b[0m \u001b[0mo\u001b[0m \u001b[1;32min\u001b[0m \u001b[0mrange\u001b[0m\u001b[1;33m(\u001b[0m\u001b[0msize\u001b[0m\u001b[1;33m(\u001b[0m\u001b[0mxf\u001b[0m\u001b[1;33m)\u001b[0m\u001b[1;33m)\u001b[0m\u001b[1;33m:\u001b[0m\u001b[1;33m\u001b[0m\u001b[1;33m\u001b[0m\u001b[0m\n\u001b[0;32m     11\u001b[0m                                 \u001b[1;32mfor\u001b[0m \u001b[0mq\u001b[0m \u001b[1;32min\u001b[0m \u001b[0mrange\u001b[0m\u001b[1;33m(\u001b[0m\u001b[0msize\u001b[0m\u001b[1;33m(\u001b[0m\u001b[0msigmaf\u001b[0m\u001b[1;33m)\u001b[0m\u001b[1;33m)\u001b[0m\u001b[1;33m:\u001b[0m\u001b[1;33m\u001b[0m\u001b[1;33m\u001b[0m\u001b[0m\n\u001b[1;32m---> 12\u001b[1;33m                                     \u001b[0mA\u001b[0m\u001b[1;33m,\u001b[0m\u001b[0mB\u001b[0m\u001b[1;33m,\u001b[0m\u001b[0mC\u001b[0m\u001b[1;33m,\u001b[0m\u001b[0mD\u001b[0m\u001b[1;33m,\u001b[0m\u001b[0mE\u001b[0m\u001b[1;33m,\u001b[0m\u001b[0mF\u001b[0m\u001b[1;33m,\u001b[0m\u001b[0mG\u001b[0m\u001b[1;33m,\u001b[0m\u001b[0mH\u001b[0m\u001b[1;33m,\u001b[0m\u001b[0mI\u001b[0m\u001b[1;33m,\u001b[0m\u001b[0mJ\u001b[0m\u001b[1;33m,\u001b[0m\u001b[0mK\u001b[0m\u001b[1;33m,\u001b[0m\u001b[0mO\u001b[0m\u001b[1;33m,\u001b[0m\u001b[0mP\u001b[0m\u001b[1;33m,\u001b[0m\u001b[0mQ\u001b[0m \u001b[1;33m=\u001b[0m \u001b[0mHEx\u001b[0m\u001b[1;33m(\u001b[0m\u001b[0mXl\u001b[0m\u001b[1;33m,\u001b[0m\u001b[0mXt\u001b[0m\u001b[1;33m,\u001b[0m\u001b[0mN_r\u001b[0m\u001b[1;33m[\u001b[0m\u001b[0mk\u001b[0m\u001b[1;33m]\u001b[0m\u001b[1;33m,\u001b[0m\u001b[0mN_l\u001b[0m\u001b[1;33m[\u001b[0m\u001b[0ml\u001b[0m\u001b[1;33m]\u001b[0m\u001b[1;33m,\u001b[0m\u001b[0mL1\u001b[0m\u001b[1;33m[\u001b[0m\u001b[0mm\u001b[0m\u001b[1;33m]\u001b[0m\u001b[1;33m,\u001b[0m\u001b[0mDi\u001b[0m\u001b[1;33m,\u001b[0m\u001b[0mDe\u001b[0m\u001b[1;33m,\u001b[0m\u001b[0mpf\u001b[0m\u001b[1;33m[\u001b[0m\u001b[0mn\u001b[0m\u001b[1;33m]\u001b[0m\u001b[1;33m,\u001b[0m\u001b[0mxf\u001b[0m\u001b[1;33m,\u001b[0m\u001b[0msigmaf\u001b[0m\u001b[1;33m,\u001b[0m\u001b[0msigmah\u001b[0m\u001b[1;33m,\u001b[0m\u001b[0mpd\u001b[0m\u001b[1;33m,\u001b[0m\u001b[0mm_f\u001b[0m\u001b[1;33m[\u001b[0m\u001b[0mp\u001b[0m\u001b[1;33m]\u001b[0m\u001b[1;33m,\u001b[0m\u001b[0mNucleos\u001b[0m\u001b[1;33m)\u001b[0m\u001b[1;33m\u001b[0m\u001b[1;33m\u001b[0m\u001b[0m\n\u001b[0m\u001b[0;32m     13\u001b[0m \u001b[1;33m\u001b[0m\u001b[0m\n\u001b[0;32m     14\u001b[0m                                     \u001b[0mW_l\u001b[0m\u001b[1;33m[\u001b[0m\u001b[0mp\u001b[0m\u001b[1;33m]\u001b[0m\u001b[1;33m[\u001b[0m\u001b[0mi\u001b[0m\u001b[1;33m]\u001b[0m\u001b[1;33m[\u001b[0m\u001b[0mj\u001b[0m\u001b[1;33m]\u001b[0m\u001b[1;33m[\u001b[0m\u001b[0mk\u001b[0m\u001b[1;33m]\u001b[0m\u001b[1;33m[\u001b[0m\u001b[0ml\u001b[0m\u001b[1;33m]\u001b[0m\u001b[1;33m[\u001b[0m\u001b[0mm\u001b[0m\u001b[1;33m]\u001b[0m\u001b[1;33m[\u001b[0m\u001b[0mn\u001b[0m\u001b[1;33m]\u001b[0m\u001b[1;33m[\u001b[0m\u001b[0mo\u001b[0m\u001b[1;33m]\u001b[0m\u001b[1;33m[\u001b[0m\u001b[0mq\u001b[0m\u001b[1;33m]\u001b[0m \u001b[1;33m=\u001b[0m \u001b[0mA\u001b[0m\u001b[1;33m\u001b[0m\u001b[1;33m\u001b[0m\u001b[0m\n",
      "\u001b[1;32m<ipython-input-11-050950c0cb33>\u001b[0m in \u001b[0;36mHEx\u001b[1;34m(Xl, Xt, N_r, N_l, L1, Di, De, pf, xf, sigmaf, sigmah, pd, m_f, Nucleos)\u001b[0m\n\u001b[0;32m    152\u001b[0m         \u001b[0mm\u001b[0m \u001b[1;33m=\u001b[0m \u001b[1;33m(\u001b[0m\u001b[1;33m(\u001b[0m\u001b[1;36m2\u001b[0m\u001b[1;33m*\u001b[0m\u001b[0mh_o\u001b[0m\u001b[1;33m)\u001b[0m\u001b[1;33m/\u001b[0m\u001b[1;33m(\u001b[0m\u001b[0mk_w\u001b[0m\u001b[1;33m*\u001b[0m\u001b[0msigmaf\u001b[0m\u001b[1;33m)\u001b[0m\u001b[1;33m)\u001b[0m\u001b[1;33m**\u001b[0m\u001b[1;36m0.5\u001b[0m\u001b[1;33m\u001b[0m\u001b[1;33m\u001b[0m\u001b[0m\n\u001b[0;32m    153\u001b[0m \u001b[1;33m\u001b[0m\u001b[0m\n\u001b[1;32m--> 154\u001b[1;33m         \u001b[0mPm\u001b[0m \u001b[1;33m=\u001b[0m \u001b[0mXt\u001b[0m\u001b[1;33m/\u001b[0m\u001b[1;36m2\u001b[0m\u001b[1;33m\u001b[0m\u001b[1;33m\u001b[0m\u001b[0m\n\u001b[0m\u001b[0;32m    155\u001b[0m         \u001b[0mPl\u001b[0m \u001b[1;33m=\u001b[0m \u001b[1;33m(\u001b[0m\u001b[1;33m(\u001b[0m\u001b[1;33m(\u001b[0m\u001b[0mXt\u001b[0m\u001b[1;33m/\u001b[0m\u001b[1;36m2\u001b[0m\u001b[1;33m)\u001b[0m\u001b[1;33m**\u001b[0m\u001b[1;36m2\u001b[0m\u001b[1;33m+\u001b[0m\u001b[0mXl\u001b[0m\u001b[1;33m**\u001b[0m\u001b[1;36m2\u001b[0m\u001b[1;33m)\u001b[0m\u001b[1;33m**\u001b[0m\u001b[1;36m0.5\u001b[0m\u001b[1;33m)\u001b[0m\u001b[1;33m/\u001b[0m\u001b[1;36m2\u001b[0m\u001b[1;33m\u001b[0m\u001b[1;33m\u001b[0m\u001b[0m\n\u001b[0;32m    156\u001b[0m         \u001b[0mR_eq\u001b[0m \u001b[1;33m=\u001b[0m \u001b[1;36m1.27\u001b[0m\u001b[1;33m*\u001b[0m\u001b[0mPm\u001b[0m\u001b[1;33m*\u001b[0m\u001b[1;33m(\u001b[0m\u001b[0mPl\u001b[0m\u001b[1;33m/\u001b[0m\u001b[0mPm\u001b[0m\u001b[1;33m-\u001b[0m\u001b[1;36m0.3\u001b[0m\u001b[1;33m)\u001b[0m\u001b[1;33m**\u001b[0m\u001b[1;36m0.5\u001b[0m\u001b[1;33m\u001b[0m\u001b[1;33m\u001b[0m\u001b[0m\n",
      "\u001b[1;31mKeyboardInterrupt\u001b[0m: "
     ]
    }
   ],
   "source": [
    "w = 0\n",
    "\n",
    "for p in range(len(m_f)):\n",
    "    for i in range(size(Xl)):\n",
    "        for j in range(size(Xt)):\n",
    "            for k in range(size(N_r)):\n",
    "                for l in range(size(N_l)):\n",
    "                    for m in range(size(L1)):\n",
    "                        for n in range(size(pf)):\n",
    "                            for o in range(size(xf)):\n",
    "                                for q in range(size(sigmaf)):\n",
    "                                    A,B,C,D,E,F,G,H,I,J,K,O,P,Q = HEx(Xl,Xt,N_r[k],N_l[l],L1[m],Di,De,pf[n],xf,sigmaf,sigmah,pd,m_f[p],Nucleos)\n",
    "                                    \n",
    "                                    W_l[p][i][j][k][l][m][n][o][q] = A\n",
    "                                    ECr_c_l[p][i][j][k][l][m][n][o][q] = B\n",
    "                                    ECr_h_l[p][i][j][k][l][m][n][o][q] = C\n",
    "                                    E_c[p][i][j][k][l][m][n][o][q] = P\n",
    "                                    E_h[p][i][j][k][l][m][n][o][q] = Q\n",
    "                                    dP_o[p][i][j][k][l][m][n][o][q] = D\n",
    "                                    \n",
    "                                    Nr[p][i][j][k][l][m][n][o][q] = E\n",
    "                                    Nl[p][i][j][k][l][m][n][o][q] = F\n",
    "                                    L_1[p][i][j][k][l][m][n][o][q] = G\n",
    "                                    p_f[p][i][j][k][l][m][n][o][q] = H\n",
    "                                   \n",
    "                                    \n",
    "                                    W_p_h[p][i][j][k][l][m][n][o][q] = I\n",
    "                                    W_p_c[p][i][j][k][l][m][n][o][q] = J\n",
    "                                    CFM[p][i][j][k][l][m][n][o][q] = K\n",
    "                                    erro_dp[p][i][j][k][l][m][n][o][q] = O\n",
    "                                \n",
    "                                    #print(F,G)\n",
    "                                    w = w+1\n",
    "                        print(w/size(W_l)*100)"
   ]
  },
  {
   "cell_type": "code",
   "execution_count": null,
   "metadata": {},
   "outputs": [],
   "source": [
    "#L1,L2,L3,Xl,N_l,N_t,Nucleo"
   ]
  },
  {
   "cell_type": "code",
   "execution_count": null,
   "metadata": {
    "scrolled": false
   },
   "outputs": [],
   "source": [
    "print(L1,L2,L3,Xl,Xt,N_r,N_l)"
   ]
  },
  {
   "cell_type": "code",
   "execution_count": null,
   "metadata": {},
   "outputs": [],
   "source": [
    "W_array_L = np.zeros([size(m_f),np.int(size(W_l)/size(m_f))])\n",
    "Ec_array_L = np.zeros([size(m_f),np.int(size(W_l)/size(m_f))])\n",
    "Eh_array_L = np.zeros([size(m_f),np.int(size(W_l)/size(m_f))])\n",
    "\n",
    "E_array_h = np.zeros([size(m_f),np.int(size(W_l)/size(m_f))])\n",
    "E_array_c = np.zeros([size(m_f),np.int(size(W_l)/size(m_f))])\n",
    "dP_o_array_L = np.zeros([size(m_f),np.int(size(W_h)/size(m_f))])\n",
    "\n",
    "Nr_array = np.zeros([size(m_f),np.int(size(W_h)/size(m_f))])\n",
    "Nl_array = np.zeros([size(m_f),np.int(size(W_h)/size(m_f))])\n",
    "L1_array = np.zeros([size(m_f),np.int(size(W_h)/size(m_f))])\n",
    "pf_array = np.zeros([size(m_f),np.int(size(W_h)/size(m_f))])\n",
    "\n",
    "W_array_H = np.zeros([size(m_f),np.int(size(W_h)/size(m_f))])\n",
    "Ec_array_H = np.zeros([size(m_f),np.int(size(W_h)/size(m_f))])\n",
    "Eh_array_H = np.zeros([size(m_f),np.int(size(W_h)/size(m_f))])\n",
    "\n",
    "W_p_h_array = np.zeros([size(m_f),np.int(size(W_h)/size(m_f))])\n",
    "W_p_c_array = np.zeros([size(m_f),np.int(size(W_l)/size(m_f))])\n",
    "\n",
    "Nr_array = np.zeros([size(m_f),np.int(size(W_h)/size(m_f))])\n",
    "Nl_array = np.zeros([size(m_f),np.int(size(W_h)/size(m_f))])\n",
    "L1_array = np.zeros([size(m_f),np.int(size(W_h)/size(m_f))])\n",
    "pf_array = np.zeros([size(m_f),np.int(size(W_h)/size(m_f))])\n",
    "CFM_array = np.zeros([size(m_f),np.int(size(W_h)/size(m_f))])\n",
    "erro_array = np.zeros([size(m_f),np.int(size(W_h)/size(m_f))])"
   ]
  },
  {
   "cell_type": "code",
   "execution_count": null,
   "metadata": {
    "scrolled": true
   },
   "outputs": [],
   "source": [
    "w=0\n",
    "\n",
    "for p in range(size(m_f)):\n",
    "    for i in range(size(Xl)):\n",
    "        for j in range(size(Xt)):\n",
    "            for k in range(size(N_r)):\n",
    "                for l in range(size(N_l)):\n",
    "                    for m in range(size(L1)):\n",
    "                        for n in range(size(pf)):\n",
    "                            for o in range(size(xf)):\n",
    "                                for q in range(size(sigmaf)):\n",
    "                                    W_array_L[p][w-p*np.int(size(W_l)/size(m_f))] = W_l[p][i][j][k][l][m][n][o][q]\n",
    "                                    Ec_array_L[p][w-p*np.int(size(W_l)/size(m_f))] = ECr_c_l[p][i][j][k][l][m][n][o][q]\n",
    "                                    Eh_array_L[p][w-p*np.int(size(W_l)/size(m_f))] = ECr_h_l[p][i][j][k][l][m][n][o][q]\n",
    "                                    E_array_h[p][w-p*np.int(size(W_l)/size(m_f))] = E_c[p][i][j][k][l][m][n][o][q]\n",
    "                                    E_array_c[p][w-p*np.int(size(W_l)/size(m_f))] = E_h[p][i][j][k][l][m][n][o][q]\n",
    "                                    dP_o_array_L[p][w-p*np.int(size(W_h)/size(m_f))] = dP_o[p][i][j][k][l][m][n][o][q]\n",
    "                                    \n",
    "                                    Nr_array[p][w-p*np.int(size(W_h)/size(m_f))] = Nr[p][i][j][k][l][m][n][o][q]\n",
    "                                    Nl_array[p][w-p*np.int(size(W_h)/size(m_f))] = Nl[p][i][j][k][l][m][n][o][q]\n",
    "                                    L1_array[p][w-p*np.int(size(W_h)/size(m_f))] = L_1[p][i][j][k][l][m][n][o][q]\n",
    "                                    pf_array[p][w-p*np.int(size(W_h)/size(m_f))] = p_f[p][i][j][k][l][m][n][o][q]\n",
    "                                    \n",
    "                                    W_p_h_array[p][w-p*np.int(size(W_h)/size(m_f))] = W_p_h[p][i][j][k][l][m][n][o][q]\n",
    "                                    W_p_c_array[p][w-p*np.int(size(W_l)/size(m_f))] = W_p_c[p][i][j][k][l][m][n][o][q]\n",
    "                                    CFM_array[p][w-p*np.int(size(W_l)/size(m_f))] = CFM[p][i][j][k][l][m][n][o][q]\n",
    "                                    erro_array[p][w-p*np.int(size(W_l)/size(m_f))] = erro_dp[p][i][j][k][l][m][n][o][q]\n",
    "                                    \n",
    "                                    Nr_array[p][w-p*np.int(size(W_h)/size(m_f))] = N_r[k]\n",
    "                                    # Nl_array[p][w-p*np.int(size(W_h)/size(m_f))] = N_l[l]\n",
    "                                    L1_array[p][w-p*np.int(size(W_h)/size(m_f))] = L1[m]\n",
    "                                    pf_array[p][w-p*np.int(size(W_h)/size(m_f))] = pf[n]\n",
    "\n",
    "                    \n",
    "                                    w = w+1\n",
    "                                    #print(p,i,j,k,l,m,n,o,q)"
   ]
  },
  {
   "cell_type": "code",
   "execution_count": null,
   "metadata": {
    "scrolled": true
   },
   "outputs": [],
   "source": []
  },
  {
   "cell_type": "code",
   "execution_count": null,
   "metadata": {
    "scrolled": true
   },
   "outputs": [],
   "source": [
    "for i in range(len(m_f)):\n",
    "    plt.plot(Nucleos*CFM_array[i]*0.00047194745*1.168*1004,'o')"
   ]
  },
  {
   "cell_type": "code",
   "execution_count": null,
   "metadata": {},
   "outputs": [],
   "source": [
    "#plt.plot(erro_array[0],'o')\n",
    "#plt.plot(erro_array[1],'o')\n",
    "#plt.plot(erro_array[2],'o')\n",
    "#plt.plot(erro_array[3],'o')\n",
    "#plt.plot(erro_array[4],'o')"
   ]
  },
  {
   "cell_type": "code",
   "execution_count": null,
   "metadata": {
    "scrolled": true
   },
   "outputs": [],
   "source": [
    "for i in range(len(m_f)):\n",
    "    plt.plot(CFM_array[i],'o')\n",
    "plt.ylim(0,1500)"
   ]
  },
  {
   "cell_type": "code",
   "execution_count": null,
   "metadata": {},
   "outputs": [],
   "source": [
    "len(E_array_c[i]*Nucleos*CFM_array[i]*0.00047194745*1.168*1004)"
   ]
  },
  {
   "cell_type": "markdown",
   "metadata": {
    "scrolled": true
   },
   "source": [
    "for i in range(size(m_f)):\n",
    "    plt.plot(np.array(W_t_L[i])*Nucleos,E_array_c[i]*Nucleos*CFM_array[i]*0.00047194745*1.168*1004,'.')\n",
    "plt.grid()\n",
    "plt.xlabel('$\\dot{W}_\\mathrm{T}$ [W]')\n",
    "plt.ylabel('$\\epsilon C_\\mathrm{r}$ [-]')\n",
    "#plt.xlim([0,2000])\n",
    "plt.show()"
   ]
  },
  {
   "cell_type": "code",
   "execution_count": null,
   "metadata": {},
   "outputs": [],
   "source": [
    "for i in range(size(m_f)):\n",
    "    plt.plot(CFM_array[i]*Nucleos,Ec_array_L[i],'.')"
   ]
  },
  {
   "cell_type": "code",
   "execution_count": null,
   "metadata": {},
   "outputs": [],
   "source": [
    "len(W_t_L[i]),Nucleos"
   ]
  },
  {
   "cell_type": "code",
   "execution_count": null,
   "metadata": {
    "scrolled": false
   },
   "outputs": [],
   "source": [
    "W_t_L = W_array_L+W_p_h_array/0.9\n",
    "#W_t_H = 2*W_array_H+W_p_h_array/0.9+W_p_c_array/0.9\n",
    "\n",
    "\n",
    "for i in range(size(m_f)):\n",
    "    plt.plot(np.array(W_t_L[i])*Nucleos,Ec_array_L[i],'.') #+ , label = '$\\dot{m}_\\mathrm{f}$ = ' + str(np.round(m_f[i]*3600,0)' [kg/h] - Low Fan')\n",
    "    #plt.plot(W_t_L_2[4],Ec_array_2[4],'.', label = '$\\dot{m}_\\mathrm{f}$ = ' + str(np.round(m_f[i]*3600,0)) + ' [kg/h] - Low Fan')\n",
    "    #plt.plot(W_t_H[i],Ec_array_H[i],'.', label = '$\\dot{m}_\\mathrm{f}$ = ' + str(np.round(m_f[i]*3600,0)) + ' [kg/h] - High Fan')\n",
    "#plt.legend(bbox_to_anchor=(1, 1))\n",
    "#plt.legend()\n",
    "plt.grid()\n",
    "plt.xlabel('$\\dot{W}_\\mathrm{T}$ [W]')\n",
    "plt.ylabel('$\\epsilon C_\\mathrm{r}$ [-]')\n",
    "#plt.xlim([0,2000])\n",
    "plt.show()"
   ]
  },
  {
   "cell_type": "code",
   "execution_count": null,
   "metadata": {},
   "outputs": [],
   "source": [
    "W_t_L = W_array_L+W_p_h_array/0.9\n",
    "\n",
    "#plt.plot(W_p_h_array/W_p_c_array,'o')"
   ]
  },
  {
   "cell_type": "code",
   "execution_count": null,
   "metadata": {},
   "outputs": [],
   "source": [
    "Ec_p_L = [[] for i in range(len(m_f))]\n",
    "W_p_L = [[] for i in range(len(m_f))]\n",
    "W_p_LA = [[] for i in range(len(m_f))]\n",
    "W_p_LW = [[] for i in range(len(m_f))]\n",
    "\n",
    "pf_p = []\n",
    "Nr_p = []\n",
    "Nl_p = []\n",
    "L1_p = []\n",
    "\n",
    "Ec_p_T = []\n",
    "W_p_T =[]\n",
    "W_p_W =[]\n",
    "W_p_A =[]\n",
    "m_f_T = []\n",
    "CFM_p = []\n",
    "\n",
    "for k in range(size(m_f)):\n",
    "    for i in range(len(Ec_array_L[k])):\n",
    "        A = 0\n",
    "        for j in  range(len(Ec_array_L[k])):\n",
    "            if Ec_array_L[k][i] < Ec_array_L[k][j] and W_t_L[k][i] > W_t_L[k][j]:\n",
    "                #print(i,j)\n",
    "                A = 1\n",
    "                #break\n",
    "        if A == 0 :\n",
    "            Ec_p_L[k].append(Ec_array_L[k][i])\n",
    "            W_p_L[k].append(W_t_L[k][i])\n",
    "            W_p_LA[k].append(W_array_L[k][i])\n",
    "            W_p_LW[k].append(W_p_h_array[k][i]/0.9)\n",
    "            \n",
    "            \n",
    "            \n",
    "            if Ec_array_L[k][i]>0.04 and W_t_L[k][i] < 3000 :\n",
    "                Ec_p_T.append(Ec_array_L[k][i])\n",
    "                CFM_p.append(CFM_array[k][i])\n",
    "                W_p_T.append(W_t_L[k][i]*Nucleos)\n",
    "                W_p_W.append(W_p_h_array[k][i]/0.9*Nucleos)\n",
    "                W_p_A.append(W_array_L[k][i]*Nucleos)\n",
    "                m_f_T.append(m_f[k])\n",
    "                pf_p.append(pf_array[k][i])\n",
    "                Nr_p.append(Nr_array[k][i])\n",
    "                Nl_p.append(Nl_array[k][i])\n",
    "                L1_p.append(L1_array[k][i])"
   ]
  },
  {
   "cell_type": "code",
   "execution_count": null,
   "metadata": {},
   "outputs": [],
   "source": []
  },
  {
   "cell_type": "code",
   "execution_count": null,
   "metadata": {},
   "outputs": [],
   "source": [
    "plt.plot(Ec_p_T,np.array(CFM_p)*24/np.array(Nl_p),'o')"
   ]
  },
  {
   "cell_type": "code",
   "execution_count": null,
   "metadata": {
    "scrolled": true
   },
   "outputs": [],
   "source": [
    "import xlsxwriter\n",
    "\n",
    "workbook = xlsxwriter.Workbook('HEx.xlsx')\n",
    "Data = workbook.add_worksheet('Data')\n",
    "#C = workbook.add_worksheet('C')\n",
    "\n",
    "for i in range(len(m_f_T)):\n",
    "    Data.write(i,0,m_f_T[i]*3600) \n",
    "    Data.write(i,1,Ec_p_T[i])\n",
    "    Data.write(i,2,W_p_T[i])\n",
    "    Data.write(i,3,W_p_A[i])\n",
    "    Data.write(i,4,W_p_W[i])\n",
    "    Data.write(i,5,pf_p[i])\n",
    "    Data.write(i,6,Nr_p[i])\n",
    "    Data.write(i,7,Nl_p[i])\n",
    "    Data.write(i,8,L1_p[i])\n",
    "    Data.write(i,9,CFM_p[i]*Nucleos)\n",
    "\n",
    "workbook.close()"
   ]
  },
  {
   "cell_type": "markdown",
   "metadata": {},
   "source": [
    "Ec_p_H = [[] for i in range(len(m_f))]\n",
    "W_p_H = [[] for i in range(len(m_f))]\n",
    "\n",
    "Ec_p_T_H = []\n",
    "W_p_T_H =[]\n",
    "m_f_T_H = []\n",
    "\n",
    "for k in range(size(m_f)):\n",
    "    for i in range(len(Ec_array_H[k])):\n",
    "        A = 0\n",
    "        for j in  range(len(Ec_array_H[k])):\n",
    "            if Ec_array_H[k][i] < Ec_array_H[k][j] and W_t_H[k][i] > W_t_H[k][j]:\n",
    "                #print(i,j)\n",
    "                A = 1\n",
    "                #break\n",
    "        if A == 0 :\n",
    "            Ec_p_H[k].append(Ec_array_H[k][i])\n",
    "            W_p_H[k].append(W_t_H[k][i])\n",
    "            if Ec_array_H[k][i]>0.04 and W_t_H[k][i] < 2000 :\n",
    "                Ec_p_T_H.append(Ec_array_H[k][i])\n",
    "                W_p_T_H.append(W_t_H[k][i])\n",
    "                m_f_T_H.append(m_f[k])"
   ]
  },
  {
   "cell_type": "code",
   "execution_count": null,
   "metadata": {
    "scrolled": false
   },
   "outputs": [],
   "source": [
    "plt.plot(W_t_L[0],Ec_array_L[0],'o')\n",
    "#plt.plot(np.array(W_p_L[1])-np.array(W_p_LW[1]) - np.array(W_p_LA[1]),'.')\n",
    "plt.plot()"
   ]
  },
  {
   "cell_type": "code",
   "execution_count": null,
   "metadata": {
    "scrolled": false
   },
   "outputs": [],
   "source": [
    "#W_t_L = 2*W_array_L+W_p_h_array_L/0.9+W_p_c_array_L/0.9\n",
    "#for i in range(size(m_f)):\n",
    "plt.plot(np.array(W_t_L[0])*Nucleos[0],Ec_array_L[0],'x', label = '$\\dot{m}_\\mathrm{f}$ = ' + str(np.round(m_f[0]*3600,0)) + ' [kg/h]')\n",
    "    #plt.plot(W_p_F[i],Ec_p_F[i],'.', label = '$\\dot{m}_\\mathrm{f}$ = ' + str(np.round(m_f[i]*3600,0)) + ' [kg/h]')\n",
    "plt.legend(bbox_to_anchor=(1, 1))\n",
    "plt.legend()\n",
    "plt.grid()\n",
    "plt.xlabel('$\\dot{W}_\\mathrm{T}$ [W]')\n",
    "plt.ylabel('$\\epsilon C_\\mathrm{r}$ [-]')\n",
    "plt.xlim([0,1000])\n",
    "#plt.show()\n",
    "plt.savefig('ECr_Wt.png',format = 'png', dpi=500,bbox_inches='tight')"
   ]
  },
  {
   "cell_type": "code",
   "execution_count": null,
   "metadata": {
    "scrolled": true
   },
   "outputs": [],
   "source": [
    "plt.plot(np.array(W_p_L[i])*Nucleos,Ec_p_L[i])"
   ]
  },
  {
   "cell_type": "code",
   "execution_count": null,
   "metadata": {
    "scrolled": false
   },
   "outputs": [],
   "source": [
    "for i in range(size(m_f)):\n",
    "    plt.plot(np.array(W_p_L[i])*Nucleos,Ec_p_L[i],'.') #, label = 'N$_\\mathrm{circ}$ = ' + str(np.round(Nucleos[i]))\n",
    "    #plt.plot(np.array(W_p_L[i])*Nucleos,np.array(W_p_W)*Nucleos,'.')\n",
    "    #plt.plot(np.array(W_p_L[0])*Nucleos,Ec_p_L[0],'.', label = '$\\dot{m}_\\mathrm{f}$ = ' + str(np.round(m_f[0]*3600,0)) + ' [kg/h]')\n",
    "    #plt.plot(np.array(W_p_L[74])*Nucleos,Ec_p_L[74],'.', label = '$\\dot{m}_\\mathrm{f}$ = ' + str(np.round(m_f[74]*3600,0)) + ' [kg/h]')\n",
    "\n",
    "#plt.plot(W_p_H[i],Ec_p_H[i],'.', label = '$\\dot{m}_\\mathrm{f}$ = ' + str(np.round(m_f[i]*3600,0)) + ' [kg/h] - High')\n",
    "#plt.legend(bbox_to_anchor=(1, 1))\n",
    "#plt.legend()\n",
    "plt.grid()\n",
    "plt.xlabel('$\\dot{W}_\\mathrm{T}$ [W]')\n",
    "plt.ylabel('$\\epsilon C_\\mathrm{r}$ [-]')\n",
    "#plt.xlim([0,200])\n",
    "#plt.ylim(0.025,0.2)\n",
    "#plt.show()\n",
    "plt.savefig('ECr_Wt_Pareto_Multi_C.png',format = 'png', dpi=500,bbox_inches='tight')"
   ]
  },
  {
   "cell_type": "code",
   "execution_count": null,
   "metadata": {},
   "outputs": [],
   "source": [
    "plt.plot(Nucleos[0]*np.array(W_p_L[0]),Ec_p_L[0],'.', label = '$\\dot{m}_\\mathrm{f}$ = ' + str(np.round(m_f[0]*3600,0)) + ' [kg/h] - Low')\n",
    "plt.plot(Nucleos[1]*np.array(W_p_L[1]),Ec_p_L[1],'.', label = '$\\dot{m}_\\mathrm{f}$ = ' + str(np.round(m_f[1]*3600,0)) + ' [kg/h] - Low')\n",
    "plt.plot(Nucleos[2]*np.array(W_p_L[2]),Ec_p_L[2],'.', label = '$\\dot{m}_\\mathrm{f}$ = ' + str(np.round(m_f[2]*3600,0)) + ' [kg/h] - Low')\n",
    "plt.plot(Nucleos[3]*np.array(W_p_L[3]),Ec_p_L[3],'.', label = '$\\dot{m}_\\mathrm{f}$ = ' + str(np.round(m_f[3]*3600,0)) + ' [kg/h] - Low')\n",
    "plt.legend(bbox_to_anchor=(1, 1))\n",
    "plt.legend()\n",
    "plt.grid()\n",
    "plt.xlabel('$\\dot{W}_\\mathrm{T}$ [W]')\n",
    "plt.ylabel('$\\epsilon C_\\mathrm{r}$ [-]')\n",
    "plt.xlim([50,500])\n",
    "#plt.show()\n",
    "plt.savefig('ECr_Wt_Pareto.png',format = 'png', dpi=500,bbox_inches='tight')"
   ]
  },
  {
   "cell_type": "code",
   "execution_count": null,
   "metadata": {},
   "outputs": [],
   "source": [
    "def Paretto_HEx(X,a,b,c,d,e,f):\n",
    "    P1,P2= X\n",
    "    return (a*P1**b*P2**c+d*P1**1 + f*P2**1)  "
   ]
  },
  {
   "cell_type": "code",
   "execution_count": null,
   "metadata": {
    "scrolled": false
   },
   "outputs": [],
   "source": [
    "Paret_Hex = curve_fit(Paretto_HEx,(m_f_T,W_p_T),Ec_p_T,maxfev=1000000)\n",
    "Paret_Hex"
   ]
  },
  {
   "cell_type": "code",
   "execution_count": null,
   "metadata": {},
   "outputs": [],
   "source": [
    "plt.plot(W_p_T,Ec_p_T,'o',label = 'Numerical')\n",
    "plt.plot(np.array(W_p_W) +np.array(W_p_A) ,Ec_p_T,'o',label = 'Numerical')"
   ]
  },
  {
   "cell_type": "code",
   "execution_count": null,
   "metadata": {
    "scrolled": false
   },
   "outputs": [],
   "source": [
    "plt.plot(W_p_T,Ec_p_T,'o',label = 'Numerical')\n",
    "#plt.plot(W_p_T_H,Ec_p_T_H,'o')\n",
    "plt.plot(W_p_T,Paretto_HEx((np.array(m_f_T),np.array(W_p_T)),Paret_Hex[0][0],Paret_Hex[0][1],Paret_Hex[0][2],Paret_Hex[0][3],Paret_Hex[0][4],Paret_Hex[0][5]),'x',label = 'Fitting')\n",
    "#plt.savefig('ECr_Wt_Pareto.png',format = 'png', dpi=500,bbox_inches='tight')\n",
    "plt.legend()\n",
    "plt.grid()\n",
    "plt.xlabel('$\\dot{W}_\\mathrm{T}$ [W]')\n",
    "plt.ylabel('$\\epsilon C_\\mathrm{r}$ [-]')\n",
    "plt.savefig('Fitting.png',format = 'png', dpi=500,bbox_inches='tight')"
   ]
  },
  {
   "cell_type": "code",
   "execution_count": null,
   "metadata": {},
   "outputs": [],
   "source": []
  },
  {
   "cell_type": "code",
   "execution_count": null,
   "metadata": {},
   "outputs": [],
   "source": [
    "Erro_HEx = abs(Ec_p_T - Paretto_HEx((np.array(m_f_T),np.array(W_p_T)),Paret_Hex[0][0],Paret_Hex[0][1],Paret_Hex[0][2],Paret_Hex[0][3],Paret_Hex[0][4],Paret_Hex[0][5]))/Ec_p_T*100\n",
    "plt.plot(W_p_T,Erro_HEx,'x')"
   ]
  },
  {
   "cell_type": "code",
   "execution_count": null,
   "metadata": {},
   "outputs": [],
   "source": [
    "len(2600/(np.array(Ec_p_L[i])*m_f[i]*4000)*m_f[i]),len(Ec_p_L[i])"
   ]
  },
  {
   "cell_type": "code",
   "execution_count": null,
   "metadata": {},
   "outputs": [],
   "source": [
    "W_t_L_c = W_array_L+W_p_c_array/0.9\n",
    "W_t_H_h = W_array_H+W_p_h_array/0.9"
   ]
  },
  {
   "cell_type": "code",
   "execution_count": null,
   "metadata": {},
   "outputs": [],
   "source": [
    "dT_L = [[] for i in range(len(m_f))]\n",
    "dT_H = [[] for i in range(len(m_f))]\n",
    "\n",
    "Qc = 2650\n",
    "#Qc = 0\n",
    "#Qh = 1.5*2650\n",
    "Qh = 0\n",
    "for i in range(len(m_f)):\n",
    "    dT_L[i].append((Qc+Qh)/(np.array(Ec_p_L[i])*m_f[i]*4000))\n",
    "    dT_H[i].append((Qc+Qh)/(np.array(Ec_p_H[i])*m_f[i]*4000))"
   ]
  },
  {
   "cell_type": "code",
   "execution_count": null,
   "metadata": {
    "scrolled": true
   },
   "outputs": [],
   "source": [
    "for i in range(len(m_f)):\n",
    "    plt.plot(Ec_p_L[i],dT_L[i][0],'o')\n",
    "    #plt.plot(W_p_H[i],dT_H[i][0],'o')\n",
    "plt.grid()\n",
    "#plt.xlim([0,1000])"
   ]
  },
  {
   "cell_type": "code",
   "execution_count": null,
   "metadata": {
    "scrolled": true
   },
   "outputs": [],
   "source": [
    "for i in range(len(m_f)):\n",
    "    #plt.plot(Ec_p_L[i],dT_L[i][0],'o')\n",
    "    plt.plot(np.array(W_p_L[i])/2,17-dT_L[i][0],'o')\n",
    "plt.grid()\n",
    "plt.xlabel('$\\dot{W}_\\mathrm{T}$ [W]')\n",
    "plt.ylabel('$T_\\mathrm{CE}$ [$^o$C]')\n",
    "plt.xlim([0,500])\n",
    "plt.savefig('TCE.png',format = 'png', dpi=500,bbox_inches='tight')"
   ]
  },
  {
   "cell_type": "code",
   "execution_count": null,
   "metadata": {
    "scrolled": true
   },
   "outputs": [],
   "source": [
    "plt.plot(W_p_L[0],dT_L[0][0],'o')\n",
    "plt.plot(W_p_H[0],dT_H[0][0],'o')"
   ]
  },
  {
   "cell_type": "code",
   "execution_count": null,
   "metadata": {},
   "outputs": [],
   "source": [
    "plt.plot(W_array_,Ec_final,'.')\n",
    "plt.plot(W_p_F,Ec_p_F,'x')\n",
    "\n",
    "#plt.plot(W_t_L,Ec_array_L,'.')\n",
    "#plt.plot(W_p_L,Ec_p_L,'x')\n",
    "\n",
    "plt.grid()\n",
    "plt.xlabel('$\\dot{W}_\\mathrm{T}$ [W]')\n",
    "plt.ylabel('$\\epsilon C_\\mathrm{r}$ [-]')\n",
    "plt.show()\n",
    "plt.savefig('Fan_Both_mf_2400.pdf',format = 'pdf', dpi=500,bbox_inches='tight')"
   ]
  },
  {
   "cell_type": "code",
   "execution_count": null,
   "metadata": {},
   "outputs": [],
   "source": [
    "aux = arange(0,600,1)\n",
    "\n",
    "plt.plot(W_p_F,Ec_p_F,'x')\n",
    "plt.plot(aux,(0.14/450)*array(aux)+0.04-14/450)\n",
    "plt.grid()\n",
    "plt.xlabel('$\\dot{W}_\\mathrm{T}$ [W]')\n",
    "plt.ylabel('$\\epsilon C_\\mathrm{r}$ [-]')\n",
    "\n",
    "plt.xlim([80,580])\n",
    "plt.ylim([0.03,0.19])\n",
    "plt.show()\n",
    "#plt.savefig('Fan_Both_mf_2400_Paretto.pdf',format = 'pdf', dpi=500,bbox_inches='tight')"
   ]
  },
  {
   "cell_type": "code",
   "execution_count": null,
   "metadata": {},
   "outputs": [],
   "source": [
    "plt.plot(W_p_c_array/m_f/100,'o',label = 'Hot')\n",
    "plt.plot(W_p_h_array/m_f/100,'o', label = 'Cold')\n",
    "plt.legend()"
   ]
  },
  {
   "cell_type": "code",
   "execution_count": null,
   "metadata": {
    "scrolled": true
   },
   "outputs": [],
   "source": [
    "W = []\n",
    "Ec = []\n",
    "Eh = []\n",
    "Re_dc = []\n",
    "dP = []\n",
    "\n",
    "for i in range(len(N_r)):\n",
    "    A = HEx(Xl,Xt,N_r[i],N_l,L1,Di,De,pf,xf,sigmaf,sigmah,pd,m_f)\n",
    "    W.append(A[0])\n",
    "    Ec.append(A[1])\n",
    "    Eh.append(A[2])\n",
    "    Re_dc.append(A[3])\n",
    "    dP.append(A[4])"
   ]
  },
  {
   "cell_type": "code",
   "execution_count": null,
   "metadata": {},
   "outputs": [],
   "source": [
    "\n",
    "A[0]\n",
    "\n",
    "fan(2250*0.588578,A[0][0],A[0][1],A[0][2])"
   ]
  },
  {
   "cell_type": "code",
   "execution_count": null,
   "metadata": {},
   "outputs": [],
   "source": [
    "aux = fan(VFR,A[0][0],A[0][1],A[0][2])-dP[0]\n",
    "inter = np.abs(aux).argmin()\n"
   ]
  },
  {
   "cell_type": "code",
   "execution_count": null,
   "metadata": {},
   "outputs": [],
   "source": [
    "plt.plot(aux)"
   ]
  },
  {
   "cell_type": "code",
   "execution_count": null,
   "metadata": {},
   "outputs": [],
   "source": [
    "dP_v = np.array([37,35,30,22,11,0])\n",
    "V  = np.array([1000,1250,1500,1750,2000,2250])*0.588578\n",
    "A = curve_fit(fan,V,dP_v,maxfev=10000)\n",
    "VFR = np.arange(10,1500,1)\n",
    "plt.plot(VFR,fan(VFR,A[0][0],A[0][1],A[0][2]))\n",
    "plt.plot(VFR,dP[0])\n",
    "plt.ylim([8,10])\n",
    "plt.grid()\n",
    "plt.plot()"
   ]
  },
  {
   "cell_type": "markdown",
   "metadata": {},
   "source": [
    "https://www.ebmpapst.com/en/products/axial-fans/axialfansdetail.php?pID=139216"
   ]
  },
  {
   "cell_type": "code",
   "execution_count": null,
   "metadata": {
    "scrolled": true
   },
   "outputs": [],
   "source": [
    "for i in range(len(N_r)):\n",
    "    plt.plot(VFR,dP[i],label = str(round(N_r[i])))\n",
    "plt.plot(V,dP_v)\n",
    "plt.legend()\n",
    "plt.grid()"
   ]
  },
  {
   "cell_type": "code",
   "execution_count": null,
   "metadata": {
    "scrolled": true
   },
   "outputs": [],
   "source": [
    "for i in range(len(N_r)):\n",
    "    plt.plot(VFR,W[i],label = str(round(N_r[i])))\n",
    "    #plt.ylim([0,50])"
   ]
  },
  {
   "cell_type": "code",
   "execution_count": null,
   "metadata": {
    "scrolled": true
   },
   "outputs": [],
   "source": [
    "for i in range(len(N_r)):\n",
    "    plt.plot(W[i],Ec[i],label = r'X$_\\mathrm{l}$ = ' + str(round(N_r[i]*1000,1)) + 'mm')\n",
    "plt.legend()\n",
    "plt.xlabel('$\\dot{W}_\\mathrm{fan}$ [W]')\n",
    "plt.ylabel('$ \\epsilon C_\\mathrm{r}$ [-]')\n",
    "plt.grid()\n",
    "#plt.savefig('X_l.pdf',format = 'pdf', dpi=500,bbox_inches='tight')"
   ]
  },
  {
   "cell_type": "code",
   "execution_count": null,
   "metadata": {},
   "outputs": [],
   "source": [
    "Di = 0.15\n",
    "m_f = 2000/3600\n",
    "A_min_i = np.pi*(0.15**2)/4\n",
    "G_i = m_f/A_min_i\n",
    "\n",
    "mu_wc = 0.001138   #[kg/(m.s)] Viscosity in the cold line (15ºC)\n",
    "mu_wh = 0.0007193 \n",
    "\n",
    "Re_ic = G_i*Di/mu_wc \n",
    "Re_ih = G_i*Di/mu_wh \n",
    "Re_ic,Re_ih"
   ]
  },
  {
   "cell_type": "markdown",
   "metadata": {},
   "source": [
    "Constant inputs"
   ]
  },
  {
   "cell_type": "code",
   "execution_count": 50,
   "metadata": {},
   "outputs": [],
   "source": [
    "##Properties of the solid \n",
    "\n",
    "rho_s = 7000  #[kg/m3] Density of the solid\n",
    "k_s   = 8 #[W/(m2.K)] #Thermal conductivity of the solid\n",
    "\n",
    "## Propertis of the fluid\n",
    "\n",
    "rho_f = 1000  #[kg/m3] Density of the fluid\n",
    "c_f   = 4181  #[kJ/(kg.K)] # Specific heat of the fluid\n",
    "Pr_f  = 6.136 #[-] Prandtl of the fluid\n",
    "mu_f  = 0.000835 #0.0008901 #[kg/m-2] #Viscosity of the fluid\n",
    "k_f   = 0.6065  #[W/(m2.K)] #Thermal conductivity of the fluid\n",
    "\n",
    "## Porous medium\n",
    "d_p = 500*10**(-6) #[m] Particle diameter\n",
    "#Epsilon = 0.55  #[-] Porosity\n",
    "#Epsilon_dp = 0.465"
   ]
  },
  {
   "cell_type": "markdown",
   "metadata": {},
   "source": [
    "Properties Calculation"
   ]
  },
  {
   "cell_type": "code",
   "execution_count": 51,
   "metadata": {},
   "outputs": [],
   "source": [
    "Prop = xlrd.open_workbook('La-Fe-Si.xlsx') #Import Properties File\n",
    "SpecHeat = Prop.sheet_by_name('C') # #Import Specific Heat\n",
    "dTad = Prop.sheet_by_name('dT') #Import Adiabatic Temperature Change\n",
    "\n",
    "T_exp = dTad.col_values(0) #Import experimented temperatures \n",
    "B_exp = dTad.col_values(1) #Import experimented magnetic fields\n",
    "\n",
    "T_arg = arange(min(T_exp),max(T_exp)+0.01,0.1)\n",
    "\n",
    "K = len(dTad.col_values(0)) #Import data number\n",
    "\n",
    "T_l = arange(278,321,2)#ture of Curie of the multilayer\n",
    "N_ml = len(T_l) #Number of Multilayer Layers\n",
    "\n",
    "\n",
    "\n",
    "dT = zeros([N_ml,K])\n",
    "C = zeros([N_ml,K])\n",
    "for i in range(N_ml):\n",
    "    dT[i,:] = (dTad.col_values(i+2))    #Data of Adiabatic Temperature change\n",
    "    C[i,:] = (SpecHeat.col_values(i+2)) #Data of specific heat"
   ]
  },
  {
   "cell_type": "markdown",
   "metadata": {},
   "source": [
    "Importing AMR simulation inputs"
   ]
  },
  {
   "cell_type": "code",
   "execution_count": 178,
   "metadata": {
    "scrolled": true
   },
   "outputs": [],
   "source": [
    "Data = xlrd.open_workbook('AMR_Inputs_2.xlsx') #Import inputs File\n",
    "#Inputs = Data.sheet_by_name('Data_new') \n",
    "Inputs = Data.sheet_by_name('Low_porosity')\n",
    "\n",
    "L   = array(Inputs.col_values(0)) #Import AMR Length [mm]\n",
    "H   = array(Inputs.col_values(1)) #Import AMR Height [mm]\n",
    "W   = array(Inputs.col_values(2)) #Import AMR Width [mm]\n",
    "T_c = array(Inputs.col_values(3))+273.15 #Import temperature span [K]\n",
    "T_h = array(Inputs.col_values(4))+273.15 #Import temperature span [K]\n",
    "B   = array(Inputs.col_values(5)) #Import magnetic field [T]\n",
    "f   = array(Inputs.col_values(6)) #Import frequency [Hz]\n",
    "m_f = array(Inputs.col_values(7))/3600 #Import mass flow rate [kg/h]\n",
    "Q_c = array(Inputs.col_values(8)) #Import Cooling capacity [W]\n",
    "Q_h = array(Inputs.col_values(9)) #Import Rejected heat [W]\n",
    "W_p = array(Inputs.col_values(10)) #Import Pumping power [W]\n",
    "W_m = array(Inputs.col_values(11)) #Import Magnetic power [W]\n",
    "T_c_ml = array(Inputs.col_values(12))+273.15 #Import temperature span [K]\n",
    "T_h_ml = array(Inputs.col_values(13))+273.15 #Import temperature span [K]\n",
    "Epsilon =array(Inputs.col_values(14))\n",
    "Epsilon_dp = Epsilon - 0.25"
   ]
  },
  {
   "cell_type": "code",
   "execution_count": 179,
   "metadata": {
    "scrolled": true
   },
   "outputs": [],
   "source": [
    "T_layer = [[] for i in range(len(T_c_ml))]\n",
    "L_layer = [[] for i in range(len(T_c_ml))]\n",
    "for i in range(len(T_c)):\n",
    "    T_layer[i].append(arange(T_c[i]-0.1,T_h[i]-0.1,(T_h[i] - T_c[i])/15))\n",
    "    L_layer[i].append(100/len(T_layer[i][0])*ones(len(T_layer[i][0])))"
   ]
  },
  {
   "cell_type": "markdown",
   "metadata": {},
   "source": [
    "Calculation"
   ]
  },
  {
   "cell_type": "code",
   "execution_count": 222,
   "metadata": {},
   "outputs": [],
   "source": [
    "#Porous medium\n",
    "m_s   = L*W*H*10**-9*(1-Epsilon)*rho_s #mass of the AMR\n",
    "Beta = (1-Epsilon)*6/d_p*0.9\n",
    "v_s   = (m_f)/(rho_f*W*H*10**-6) #Superficial velocity\n",
    "\n",
    "#Dimensionless Numbers\n",
    "Re_dp = d_p*v_s*rho_f/(mu_f) #Reynolds number\n",
    "Nu = 2*(1+4*(1-Epsilon_dp)/Epsilon_dp)+((1-Epsilon_dp)**0.5)*Re_dp**0.6*Pr_f**(1/3) # Nusselt number\n",
    "Pe = Re_dp*Pr_f\n",
    "\n",
    "h_1 = Nu*k_f/d_p\n",
    "Bi = h_1*500*10**-6/(k_s)\n",
    "DF = 1 #1/(1+Bi/5)\n",
    "\n",
    "Fo = 4*k_s/(rho_s*C_L*f*500**2*10**-12) \n",
    "#Fo = 4*k_s/(rho_s*C_H*f*500**2*10**-12) \n",
    "\n",
    "X = Fo*np.exp(0.246196 - 0.84878*np.log(Fo) - 0.05639*(np.log(Fo))**2) \n",
    "\n",
    "h_int = Nu*k_f/d_p*DF\n",
    "\n",
    "#Effective conduction\n",
    "k_e_f = k_f*Epsilon #Fluid effective conduction\n",
    "\n",
    "\n",
    "a_0 = exp(-1.084-6.778*(Epsilon-0.298))\n",
    "f_0 = 0.8\n",
    "k_e_s = k_f*((1-a_0)*(Epsilon*f_0+(1-Epsilon*f_0)*k_s/k_f)/(1-Epsilon*(1-f_0)+k_s/k_f*Epsilon*(1-f_0))+a_0*(2*((k_s/k_f)**2)*(1-Epsilon)+(1+2*Epsilon)*k_s/k_f)/((2+Epsilon)*k_s/k_f+(1-Epsilon))) #Solid effective conduction\n",
    "\n",
    "D_ = (k_f*rho_f/c_f)*0.75*Pe/2\n",
    "\n",
    "k_s_eff = k_e_s\n",
    "k_f_eff = k_e_f + rho_f*c_f*D_"
   ]
  },
  {
   "cell_type": "code",
   "execution_count": 242,
   "metadata": {},
   "outputs": [],
   "source": [
    "Fo = np.arange(0.001,5,0.001)\n",
    "X = Fo*np.exp(0.246196 - 0.84878*np.log(Fo) - 0.05639*(np.log(Fo))**2) "
   ]
  },
  {
   "cell_type": "code",
   "execution_count": 243,
   "metadata": {},
   "outputs": [
    {
     "data": {
      "image/png": "[encoded data removed]",
      "text/plain": [
       "<Figure size 432x288 with 1 Axes>"
      ]
     },
     "metadata": {
      "needs_background": "light"
     },
     "output_type": "display_data"
    }
   ],
   "source": [
    "plt.semilogx(Fo,X)\n",
    "plt.grid()"
   ]
  },
  {
   "cell_type": "code",
   "execution_count": 228,
   "metadata": {},
   "outputs": [
    {
     "data": {
      "text/plain": [
       "array([1.41555471, 1.41555471, 1.41555514, 1.41555514, 1.41555471,\n",
       "       1.41555471, 1.41555514, 1.41555471, 1.41555471, 1.41555514,\n",
       "       1.41555471, 1.41555471, 1.41555514, 1.41555514, 1.41555471,\n",
       "       1.41555471, 1.41555471, 1.41555471, 1.41555471, 1.41555471,\n",
       "       1.41555471, 1.41555471, 1.41555471, 1.41555514, 1.41555471,\n",
       "       1.41555514, 1.41555514, 1.41555514, 1.41555471, 1.41555514,\n",
       "       1.41555514, 1.41555471, 1.41555514, 1.41555514, 1.41555514,\n",
       "       1.41555514, 1.41555514, 1.41555514, 1.41555514, 1.41555514,\n",
       "       1.41555471, 1.41555471, 1.41555471, 1.41555471, 1.41555514,\n",
       "       1.41555514, 1.41555514, 1.41555514])"
      ]
     },
     "execution_count": 228,
     "metadata": {},
     "output_type": "execute_result"
    }
   ],
   "source": [
    "Fo*np.exp(0.246196- 0.84878*np.log(Fo)- 0.05639*(np.log(Fo))**2)"
   ]
  },
  {
   "cell_type": "code",
   "execution_count": 223,
   "metadata": {},
   "outputs": [
    {
     "data": {
      "text/plain": [
       "array([1.41555471, 1.41555471, 1.41555514, 1.41555514, 1.41555471,\n",
       "       1.41555471, 1.41555514, 1.41555471, 1.41555471, 1.41555514,\n",
       "       1.41555471, 1.41555471, 1.41555514, 1.41555514, 1.41555471,\n",
       "       1.41555471, 1.41555471, 1.41555471, 1.41555471, 1.41555471,\n",
       "       1.41555471, 1.41555471, 1.41555471, 1.41555514, 1.41555471,\n",
       "       1.41555514, 1.41555514, 1.41555514, 1.41555471, 1.41555514,\n",
       "       1.41555514, 1.41555471, 1.41555514, 1.41555514, 1.41555514,\n",
       "       1.41555514, 1.41555514, 1.41555514, 1.41555514, 1.41555514,\n",
       "       1.41555471, 1.41555471, 1.41555471, 1.41555471, 1.41555514,\n",
       "       1.41555514, 1.41555514, 1.41555514])"
      ]
     },
     "execution_count": 223,
     "metadata": {},
     "output_type": "execute_result"
    }
   ],
   "source": [
    "X"
   ]
  },
  {
   "cell_type": "code",
   "execution_count": 181,
   "metadata": {},
   "outputs": [],
   "source": [
    "C_H = zeros(len(L))\n",
    "C_L = zeros(len(L))\n",
    "dT_mg = zeros(len(L))\n",
    "dT_dmg = zeros(len(L))\n",
    "CdT_mg = zeros(len(L))\n",
    "CdT_dmg = zeros(len(L))"
   ]
  },
  {
   "cell_type": "markdown",
   "metadata": {
    "scrolled": true
   },
   "source": [
    "for i in range(len(L)):\n",
    "    print(i)\n",
    "    C_H[i],C_L[i],dT_mg[i],dT_dmg[i],CdT_mg[i],CdT_dmg[i] = Metrics (SpecHeat,dTad,0,B[i],T_arg,N_ml,T_h[i],T_c[i],T_l,T_layer[i][0],L_layer[i][0])"
   ]
  },
  {
   "cell_type": "markdown",
   "metadata": {},
   "source": [
    "Porous Medium Eff"
   ]
  },
  {
   "cell_type": "code",
   "execution_count": 182,
   "metadata": {},
   "outputs": [],
   "source": [
    "def Prop_param(X):\n",
    "    T_c,T_h,B = X\n",
    "    C_H = 1.65161038/100*T_c+2.59946197*T_h-1.14324309*100*B\n",
    "    C_L = 10.16443738*T_c-5.32568341*T_h-0.71305997*B\n",
    "    dT_mg = -0.01057708*T_c+0.01163704*T_h+1.73509682*B\n",
    "    dT_dmg = -0.01229483*T_c+0.01376157*T_h+0.76454655*B\n",
    "    CdT_mg = -9.517569*T_c+11.49711993*T_h+820.04168503*B\n",
    "    CdT_dmg = 4.39480124*T_c-7.07931118/10*T_h+9.15928168*100*B\n",
    "    return(C_H,C_L,dT_mg,dT_dmg,CdT_mg,CdT_dmg)"
   ]
  },
  {
   "cell_type": "code",
   "execution_count": 183,
   "metadata": {
    "scrolled": true
   },
   "outputs": [
    {
     "name": "stdout",
     "output_type": "stream",
     "text": [
      "0\n",
      "1\n",
      "2\n",
      "3\n",
      "4\n",
      "5\n",
      "6\n",
      "7\n",
      "8\n",
      "9\n",
      "10\n",
      "11\n",
      "12\n",
      "13\n",
      "14\n",
      "15\n",
      "16\n",
      "17\n",
      "18\n",
      "19\n",
      "20\n",
      "21\n",
      "22\n",
      "23\n",
      "24\n",
      "25\n",
      "26\n",
      "27\n",
      "28\n",
      "29\n",
      "30\n",
      "31\n",
      "32\n",
      "33\n",
      "34\n",
      "35\n",
      "36\n",
      "37\n",
      "38\n",
      "39\n",
      "40\n",
      "41\n",
      "42\n",
      "43\n",
      "44\n",
      "45\n",
      "46\n",
      "47\n"
     ]
    }
   ],
   "source": [
    "for i in range(len(L)):\n",
    "    print(i)\n",
    "    C_H[i],C_L[i],dT_mg[i],dT_dmg[i],CdT_mg[i],CdT_dmg[i] = Prop_param((T_c[i],T_h[i],B[i]))"
   ]
  },
  {
   "cell_type": "code",
   "execution_count": 124,
   "metadata": {},
   "outputs": [],
   "source": [
    "def Prop(X,a,b,c): \n",
    "    P1,P2,P3= X\n",
    "    return (a*P1+b*P2+c*P3)"
   ]
  },
  {
   "cell_type": "markdown",
   "metadata": {},
   "source": [
    "Coef_Ch = curve_fit(Prop,(T_c,T_h,B),Pp,maxfev=10000)\n",
    "Coef_Ch"
   ]
  },
  {
   "cell_type": "markdown",
   "metadata": {
    "scrolled": true
   },
   "source": [
    "err = np.arange(min(Pp),max(Pp),(max(Pp)-min(Pp))/100)\n",
    "plt.plot(Pp,Prop((T_c,T_h,B),Coef_Ch[0][0],Coef_Ch[0][1],Coef_Ch[0][2]),'o')\n",
    "plt.plot(err,err*1.01,'k')\n",
    "plt.plot(err,err*0.99,'k')"
   ]
  },
  {
   "cell_type": "markdown",
   "metadata": {},
   "source": [
    "Erro = abs(Pp - Prop((T_c,T_h,B),Coef_Ch[0][0],Coef_Ch[0][1],Coef_Ch[0][2]))/Pp*100\n",
    "plt.plot(T_c-273,Erro,'o')"
   ]
  },
  {
   "cell_type": "code",
   "execution_count": 125,
   "metadata": {},
   "outputs": [],
   "source": [
    "NTU_f  = h_int*Beta*(L*W*H*10**(-9))/(m_f*c_f) \n",
    "\n",
    "\n",
    "Eff = Data.sheet_by_name('Eff') \n",
    "\n",
    "Effect = []\n",
    "\n",
    "for i in range(7):\n",
    "     Effect.append(array(Eff.col_values(i)))\n",
    "\n",
    "phi = np.arange(0.1,2.01,0.1)\n",
    "NTU = np.arange(50,351,50)\n",
    "NN,PP = np.meshgrid(NTU,phi)\n",
    "\n",
    "Effectiv = interpolate.interp2d(phi,NTU,Effect,kind = 'linear')"
   ]
  },
  {
   "cell_type": "markdown",
   "metadata": {},
   "source": [
    "Model Parameters - Similarity"
   ]
  },
  {
   "cell_type": "code",
   "execution_count": 126,
   "metadata": {},
   "outputs": [],
   "source": [
    "DT_ad = np.log((dT_mg + T_h)/T_c)*dT_mg"
   ]
  },
  {
   "cell_type": "code",
   "execution_count": 127,
   "metadata": {
    "scrolled": true
   },
   "outputs": [],
   "source": [
    "Pi_1 = k_s_eff*(T_h-T_c)/(rho_s*f*L**2*CdT_dmg)\n",
    "Pi_2 = Epsilon/(1-Epsilon)*k_f_eff*(T_h-T_c)/(rho_s*f*L**2*CdT_dmg)\n",
    "Pi_3 = W_p/(m_s*f*CdT_dmg)\n",
    "Pi_4 = CdT_mg/CdT_dmg\n",
    "Pi_5 = h_int*Beta/(f*rho_s*CdT_dmg) #dT_sf unknown\n",
    "Pi_6 = ((m_f)*c_f)/(m_s*C_L*f)\n",
    "Pi_7 = (T_h-T_c)/(dT_dmg)\n",
    "Pi_11 = ((m_f)*c_f)/(m_s*C_H*f)\n",
    "Pi_12 = dT_dmg/dT_mg\n",
    "\n",
    "Pi_8 = Q_c/(m_s*f*CdT_dmg)\n",
    "Pi_9 = Q_h/(m_s*f*CdT_dmg)\n",
    "Pi_10 = W_m/(m_s*f)\n",
    "\n",
    "Efness_HB = zeros(len(Pi_6))\n",
    "Efness_CB = zeros(len(Pi_6))\n",
    "\n",
    "for i in range(len(Pi_6)):\n",
    "    Efness_HB[i] = Effectiv(Pi_6[i]/2,NTU_f[i])\n",
    "    Efness_CB[i] = Effectiv(Pi_11[i]/2,NTU_f[i])"
   ]
  },
  {
   "cell_type": "markdown",
   "metadata": {},
   "source": [
    "Model Parameters - Integral"
   ]
  },
  {
   "cell_type": "code",
   "execution_count": 128,
   "metadata": {},
   "outputs": [],
   "source": [
    "FE = 0.25\n",
    "Q_pas_CB = Efness_CB*(T_h - T_c)*m_f*FE*c_f\n",
    "Q_act_CB = dT_mg*m_f*c_f*FE\n",
    "\n",
    "Q_pas_HB = Efness_HB*(T_h - T_c)*m_f*FE*c_f\n",
    "Q_act_HB = dT_dmg*m_f*c_f*FE\n",
    "\n",
    "Q_span = (T_h - T_c)*m_f*c_f*FE\n",
    "Q_cond = ((1-Epsilon)*k_s_eff + Epsilon*k_f_eff)*(W*H*10**-6)*(T_h-T_c)/L\n",
    "W_mag  = m_s*f*(CdT_mg - CdT_dmg)"
   ]
  },
  {
   "cell_type": "code",
   "execution_count": 129,
   "metadata": {},
   "outputs": [
    {
     "data": {
      "text/plain": [
       "[<matplotlib.lines.Line2D at 0x1a3b26282c8>]"
      ]
     },
     "execution_count": 129,
     "metadata": {},
     "output_type": "execute_result"
    },
    {
     "data": {
      "image/png": "[encoded data removed]",
      "text/plain": [
       "<Figure size 432x288 with 1 Axes>"
      ]
     },
     "metadata": {
      "needs_background": "light"
     },
     "output_type": "display_data"
    }
   ],
   "source": [
    "plt.plot(Pi_6/2,Efness_HB,'o')\n",
    "plt.plot(Pi_11/2,Efness_CB,'o')"
   ]
  },
  {
   "cell_type": "code",
   "execution_count": 130,
   "metadata": {},
   "outputs": [],
   "source": [
    "def fit_sim(X,a,b,c,d,e,f): \n",
    "    P1,P2,P3= X\n",
    "    return (a*P1**b*P2**c*P3**d + 0*e*P2**f)"
   ]
  },
  {
   "cell_type": "code",
   "execution_count": 131,
   "metadata": {},
   "outputs": [],
   "source": [
    "def fit_sim1(X,a,b,c,d,e): \n",
    "    P1,P2= X\n",
    "    return ((a*(P1**b)*P2**c)+d*(P1*P2)**e)"
   ]
  },
  {
   "cell_type": "code",
   "execution_count": 132,
   "metadata": {},
   "outputs": [],
   "source": [
    "def fit_int(X,a,b,c,d,e): \n",
    "    P1,P2,P3,P4,P5= X\n",
    "    return (a*P1+b*P2+c*P3+d*P4+e*P5)"
   ]
  },
  {
   "cell_type": "code",
   "execution_count": 133,
   "metadata": {},
   "outputs": [],
   "source": [
    "def fit_int_h(X,a,b,c,d,e): \n",
    "    P1,P2,P3,P4,P5= X\n",
    "    return (a*P1+b*P2+c*P3+d*P4+e*P5)"
   ]
  },
  {
   "cell_type": "code",
   "execution_count": 134,
   "metadata": {},
   "outputs": [],
   "source": [
    "import scipy.integrate as integrate\n",
    "DTT = np.zeros(len(dT_mg))\n",
    "for i in range(len(dT_mg)):\n",
    "    T_int = np.arange(T_c[i],T_h[i]+0.01,0.1)\n",
    "    dT_med = (dT_mg + dT_dmg)/2\n",
    "    DTT[i] = integrate.simps(dT_med[i]*np.log(1+dT_med[i]/T_int),T_int)"
   ]
  },
  {
   "cell_type": "code",
   "execution_count": 164,
   "metadata": {},
   "outputs": [],
   "source": [
    "DT_ad = np.log((dT_mg + T_h)/T_c)*dT_mg\n",
    "Pi_6 = ((m_f)*c_f)/(m_s*C_L*f)\n",
    "Pi_7 = (T_h-T_c)/(dT_dmg)\n",
    "\n",
    "Pi_10 = W_m/(m_s*f*(C_L-C_H)*(T_h - T_c))\n",
    "Pi_11 = ((m_f)*c_f)/(m_s*C_H*f)\n",
    "Pi_12 = dT_dmg/dT_mg\n",
    "K = (C_L-C_H)*(T_h - T_c)"
   ]
  },
  {
   "cell_type": "code",
   "execution_count": 195,
   "metadata": {},
   "outputs": [],
   "source": [
    "def fit_sim(X,a,b,c,d,e): \n",
    "    P1,P2,P3= X\n",
    "    return ((a*P1**b+c*(P2)**d)*P3**e)"
   ]
  },
  {
   "cell_type": "code",
   "execution_count": 196,
   "metadata": {},
   "outputs": [],
   "source": [
    "a =3\n",
    "b = 48"
   ]
  },
  {
   "cell_type": "code",
   "execution_count": 198,
   "metadata": {
    "scrolled": false
   },
   "outputs": [
    {
     "data": {
      "text/plain": [
       "(array([-0.72626893,  0.53559307,  0.57854937,  0.54261127, -0.36988939]),\n",
       " array([[ 1.71026190e+05, -3.24536455e+02, -1.35881017e+05,\n",
       "         -2.68119288e+02,  2.37891203e+04],\n",
       "        [-3.24536455e+02,  6.88539459e-01,  2.57824544e+02,\n",
       "          5.76003598e-01, -4.51456570e+01],\n",
       "        [-1.35881017e+05,  2.57824544e+02,  1.07958037e+05,\n",
       "          2.13002461e+02, -1.89005536e+04],\n",
       "        [-2.68119288e+02,  5.76003598e-01,  2.13002461e+02,\n",
       "          4.82495911e-01, -3.72979555e+01],\n",
       "        [ 2.37891203e+04, -4.51456570e+01, -1.89005536e+04,\n",
       "         -3.72979555e+01,  3.30898030e+03]]))"
      ]
     },
     "execution_count": 198,
     "metadata": {},
     "output_type": "execute_result"
    }
   ],
   "source": [
    "Coef_sim = curve_fit(fit_sim,(Pi_6[a:b],Pi_11[a:b],K[a:b]),Pi_10[a:b],maxfev=10000000,bounds = ([-10,-10,-10,-10,-10],[10,10,10,10,10]))\n",
    "Coef_sim"
   ]
  },
  {
   "cell_type": "code",
   "execution_count": 199,
   "metadata": {},
   "outputs": [],
   "source": [
    "W_mag = (m_s*f*(C_L-C_H)*(T_h - T_c))*fit_sim((Pi_6,Pi_11,K),Coef_sim[0][0],Coef_sim[0][1],Coef_sim[0][2],Coef_sim[0][3],Coef_sim[0][4])"
   ]
  },
  {
   "cell_type": "code",
   "execution_count": 200,
   "metadata": {},
   "outputs": [
    {
     "data": {
      "text/plain": [
       "(array([ 0.57988936,  0.99809919, -0.60570427, -3.62234759, -0.90889504]),\n",
       " array([[ 6.96548947e-03,  1.05829269e-02, -7.28355927e-03,\n",
       "         -7.72378141e-02, -8.41410327e-04],\n",
       "        [ 1.05829269e-02,  1.82040228e-02, -1.12049172e-02,\n",
       "         -1.26681905e-01, -2.37021044e-03],\n",
       "        [-7.28355927e-03, -1.12049172e-02,  7.62720837e-03,\n",
       "          8.11405946e-02,  9.19884473e-04],\n",
       "        [-7.72378141e-02, -1.26681905e-01,  8.11405946e-02,\n",
       "          9.26380413e-01,  1.70928167e-02],\n",
       "        [-8.41410327e-04, -2.37021044e-03,  9.19884473e-04,\n",
       "          1.70928167e-02,  1.51426592e-03]]))"
      ]
     },
     "execution_count": 200,
     "metadata": {},
     "output_type": "execute_result"
    }
   ],
   "source": [
    "Coef = curve_fit(fit_int,(Q_pas_CB[a:b],Q_act_CB[a:b],Q_span[a:b],W_mag[a:b],W_p[a:b]),Q_c[a:b],maxfev=10000, bounds = ([0,0,-1,-10,-10],[10,10,0,2,0]))\n",
    "Coef"
   ]
  },
  {
   "cell_type": "code",
   "execution_count": 201,
   "metadata": {},
   "outputs": [
    {
     "data": {
      "text/plain": [
       "(array([ 0.47594347,  1.63786144, -0.52281481, -0.52841165,  0.08030101]),\n",
       " array([[ 0.0175807 ,  0.0500479 , -0.01907672, -0.16455748, -0.00278865],\n",
       "        [ 0.0500479 ,  0.1596159 , -0.05511749, -0.50162395, -0.01181953],\n",
       "        [-0.01907672, -0.05511749,  0.02074151,  0.17976367,  0.0031606 ],\n",
       "        [-0.16455748, -0.50162395,  0.17976367,  1.64978743,  0.03826055],\n",
       "        [-0.00278865, -0.01181953,  0.0031606 ,  0.03826055,  0.00265488]]))"
      ]
     },
     "execution_count": 201,
     "metadata": {},
     "output_type": "execute_result"
    }
   ],
   "source": [
    "Coef_h = curve_fit(fit_int_h,(Q_pas_HB[a:b],Q_act_HB[a:b],Q_span[a:b],W_mag[a:b],W_p[a:b]),Q_h[a:b],maxfev=10000, bounds = ([0,0,-100,-10,0],[5,100,0,10,100]))\n",
    "Coef_h"
   ]
  },
  {
   "cell_type": "code",
   "execution_count": 202,
   "metadata": {
    "scrolled": true
   },
   "outputs": [
    {
     "data": {
      "text/plain": [
       "[<matplotlib.lines.Line2D at 0x1a3a6de69c8>]"
      ]
     },
     "execution_count": 202,
     "metadata": {},
     "output_type": "execute_result"
    },
    {
     "data": {
      "image/png": "[encoded data removed]",
      "text/plain": [
       "<Figure size 432x288 with 1 Axes>"
      ]
     },
     "metadata": {
      "needs_background": "light"
     },
     "output_type": "display_data"
    }
   ],
   "source": [
    "plt.plot(W_mag[a:b],Pi_10[a:b],'o')"
   ]
  },
  {
   "cell_type": "code",
   "execution_count": 203,
   "metadata": {},
   "outputs": [
    {
     "data": {
      "text/plain": [
       "[<matplotlib.lines.Line2D at 0x1a3ac3d39c8>]"
      ]
     },
     "execution_count": 203,
     "metadata": {},
     "output_type": "execute_result"
    },
    {
     "data": {
      "image/png": "[encoded data removed]",
      "text/plain": [
       "<Figure size 432x288 with 1 Axes>"
      ]
     },
     "metadata": {
      "needs_background": "light"
     },
     "output_type": "display_data"
    }
   ],
   "source": [
    "plt.plot(Pi_6[a:b],Pi_10[a:b],'o')"
   ]
  },
  {
   "cell_type": "code",
   "execution_count": 204,
   "metadata": {},
   "outputs": [],
   "source": [
    "a = 6\n",
    "b = 48"
   ]
  },
  {
   "cell_type": "code",
   "execution_count": 205,
   "metadata": {},
   "outputs": [],
   "source": [
    "Error = abs(Q_c[a:b] - fit_int((Q_pas_CB[a:b],Q_act_CB[a:b],Q_span[a:b],W_mag[a:b],W_p[a:b]),Coef[0][0],Coef[0][1],Coef[0][2],Coef[0][3],Coef[0][4]))/(Q_c[a:b])*100\n",
    "Error_h = abs(Q_h[a:b] - fit_int_h((Q_pas_HB[a:b],Q_act_HB[a:b],Q_span[a:b],W_mag[a:b],W_p[a:b]),Coef_h[0][0],Coef_h[0][1],Coef_h[0][2],Coef_h[0][3],Coef_h[0][4]))/(Q_h[a:b])*100\n",
    "Error_sim = abs(Pi_10[a:b] - fit_sim((Pi_6[a:b],Pi_11[a:b],K[a:b]),Coef_sim[0][0],Coef_sim[0][1],Coef_sim[0][2],Coef_sim[0][3],Coef_sim[0][4]))/(Pi_10[a:b])*100"
   ]
  },
  {
   "cell_type": "code",
   "execution_count": 206,
   "metadata": {
    "scrolled": false
   },
   "outputs": [
    {
     "data": {
      "image/png": "[encoded data removed]",
      "text/plain": [
       "<Figure size 432x288 with 1 Axes>"
      ]
     },
     "metadata": {
      "needs_background": "light"
     },
     "output_type": "display_data"
    }
   ],
   "source": [
    "plt.plot(Q_h[a:b],Error_h,'s', label = '$\\dot{Q}_\\mathrm{h}$')\n",
    "plt.plot(Q_c[a:b],Error,'o',label ='$\\dot{Q}_\\mathrm{c}$' )\n",
    "#plt.plot(Pi_6[a:b],Error_sim,'o',label ='$\\dot{Q}_\\mathrm{c}$' )\n",
    "\n",
    "plt.grid()\n",
    "plt.xlabel('Numerical Cooling Capacity [W]')\n",
    "plt.ylabel('Error [\\%]')\n",
    "plt.legend()\n",
    "#plt.ylim(0,50)\n",
    "#plt.xlim(150,300)\n",
    "\n",
    "#plt.ylim([0,50])\n",
    "plt.savefig('Erro_Rest.png',format = 'png', dpi=500,bbox_inches='tight')\n",
    "plt.show()"
   ]
  },
  {
   "cell_type": "code",
   "execution_count": 207,
   "metadata": {
    "scrolled": true
   },
   "outputs": [
    {
     "data": {
      "text/plain": [
       "[<matplotlib.lines.Line2D at 0x1a3af464648>]"
      ]
     },
     "execution_count": 207,
     "metadata": {},
     "output_type": "execute_result"
    },
    {
     "data": {
      "image/png": "[encoded data removed]",
      "text/plain": [
       "<Figure size 432x288 with 1 Axes>"
      ]
     },
     "metadata": {
      "needs_background": "light"
     },
     "output_type": "display_data"
    }
   ],
   "source": [
    "plt.plot(Q_c[a:b],Error_sim,'o')"
   ]
  },
  {
   "cell_type": "code",
   "execution_count": 42,
   "metadata": {},
   "outputs": [
    {
     "data": {
      "text/plain": [
       "0.0"
      ]
     },
     "execution_count": 42,
     "metadata": {},
     "output_type": "execute_result"
    }
   ],
   "source": [
    "K = 0\n",
    "for i in range(len(Error_sim)):\n",
    "    if Error_sim[i] > 13:\n",
    "        K = K+1\n",
    "K/len(Error_sim)*100"
   ]
  },
  {
   "cell_type": "code",
   "execution_count": 319,
   "metadata": {},
   "outputs": [
    {
     "ename": "IndexError",
     "evalue": "index 5 is out of bounds for axis 0 with size 5",
     "output_type": "error",
     "traceback": [
      "\u001b[1;31m---------------------------------------------------------------------------\u001b[0m",
      "\u001b[1;31mIndexError\u001b[0m                                Traceback (most recent call last)",
      "\u001b[1;32m<ipython-input-319-1b4968864ecb>\u001b[0m in \u001b[0;36m<module>\u001b[1;34m\u001b[0m\n\u001b[1;32m----> 1\u001b[1;33m \u001b[0mplt\u001b[0m\u001b[1;33m.\u001b[0m\u001b[0mplot\u001b[0m\u001b[1;33m(\u001b[0m\u001b[0mW_m\u001b[0m\u001b[1;33m[\u001b[0m\u001b[0ma\u001b[0m\u001b[1;33m:\u001b[0m\u001b[0mb\u001b[0m\u001b[1;33m]\u001b[0m\u001b[1;33m,\u001b[0m\u001b[1;33m(\u001b[0m\u001b[0mm_s\u001b[0m\u001b[1;33m[\u001b[0m\u001b[0ma\u001b[0m\u001b[1;33m:\u001b[0m\u001b[0mb\u001b[0m\u001b[1;33m]\u001b[0m\u001b[1;33m*\u001b[0m\u001b[0mf\u001b[0m\u001b[1;33m[\u001b[0m\u001b[0ma\u001b[0m\u001b[1;33m:\u001b[0m\u001b[0mb\u001b[0m\u001b[1;33m]\u001b[0m\u001b[1;33m*\u001b[0m\u001b[0mCdT_dmg\u001b[0m\u001b[1;33m[\u001b[0m\u001b[0ma\u001b[0m\u001b[1;33m:\u001b[0m\u001b[0mb\u001b[0m\u001b[1;33m]\u001b[0m\u001b[1;33m)\u001b[0m\u001b[1;33m*\u001b[0m\u001b[0mfit_sim\u001b[0m\u001b[1;33m(\u001b[0m\u001b[1;33m(\u001b[0m\u001b[0mPi_6\u001b[0m\u001b[1;33m[\u001b[0m\u001b[0ma\u001b[0m\u001b[1;33m:\u001b[0m\u001b[0mb\u001b[0m\u001b[1;33m]\u001b[0m\u001b[1;33m,\u001b[0m\u001b[0mPi_4\u001b[0m\u001b[1;33m[\u001b[0m\u001b[0ma\u001b[0m\u001b[1;33m:\u001b[0m\u001b[0mb\u001b[0m\u001b[1;33m]\u001b[0m\u001b[1;33m,\u001b[0m\u001b[0mPi_11\u001b[0m\u001b[1;33m[\u001b[0m\u001b[0ma\u001b[0m\u001b[1;33m:\u001b[0m\u001b[0mb\u001b[0m\u001b[1;33m]\u001b[0m\u001b[1;33m)\u001b[0m\u001b[1;33m,\u001b[0m\u001b[0mCoef_sim\u001b[0m\u001b[1;33m[\u001b[0m\u001b[1;36m0\u001b[0m\u001b[1;33m]\u001b[0m\u001b[1;33m[\u001b[0m\u001b[1;36m0\u001b[0m\u001b[1;33m]\u001b[0m\u001b[1;33m,\u001b[0m\u001b[0mCoef_sim\u001b[0m\u001b[1;33m[\u001b[0m\u001b[1;36m0\u001b[0m\u001b[1;33m]\u001b[0m\u001b[1;33m[\u001b[0m\u001b[1;36m1\u001b[0m\u001b[1;33m]\u001b[0m\u001b[1;33m,\u001b[0m\u001b[0mCoef_sim\u001b[0m\u001b[1;33m[\u001b[0m\u001b[1;36m0\u001b[0m\u001b[1;33m]\u001b[0m\u001b[1;33m[\u001b[0m\u001b[1;36m2\u001b[0m\u001b[1;33m]\u001b[0m\u001b[1;33m,\u001b[0m\u001b[0mCoef_sim\u001b[0m\u001b[1;33m[\u001b[0m\u001b[1;36m0\u001b[0m\u001b[1;33m]\u001b[0m\u001b[1;33m[\u001b[0m\u001b[1;36m3\u001b[0m\u001b[1;33m]\u001b[0m\u001b[1;33m,\u001b[0m\u001b[0mCoef_sim\u001b[0m\u001b[1;33m[\u001b[0m\u001b[1;36m0\u001b[0m\u001b[1;33m]\u001b[0m\u001b[1;33m[\u001b[0m\u001b[1;36m4\u001b[0m\u001b[1;33m]\u001b[0m\u001b[1;33m,\u001b[0m\u001b[0mCoef_sim\u001b[0m\u001b[1;33m[\u001b[0m\u001b[1;36m0\u001b[0m\u001b[1;33m]\u001b[0m\u001b[1;33m[\u001b[0m\u001b[1;36m5\u001b[0m\u001b[1;33m]\u001b[0m\u001b[1;33m)\u001b[0m\u001b[1;33m,\u001b[0m\u001b[1;34m'o'\u001b[0m\u001b[1;33m,\u001b[0m\u001b[0mlabel\u001b[0m \u001b[1;33m=\u001b[0m\u001b[1;34m'Integral'\u001b[0m \u001b[1;33m)\u001b[0m\u001b[1;33m\u001b[0m\u001b[1;33m\u001b[0m\u001b[0m\n\u001b[0m",
      "\u001b[1;31mIndexError\u001b[0m: index 5 is out of bounds for axis 0 with size 5"
     ]
    }
   ],
   "source": [
    "plt.plot(W_m[a:b],(m_s[a:b]*f[a:b]*CdT_dmg[a:b])*fit_sim((Pi_6[a:b],Pi_4[a:b],Pi_11[a:b]),Coef_sim[0][0],Coef_sim[0][1],Coef_sim[0][2],Coef_sim[0][3],Coef_sim[0][4],Coef_sim[0][5]),'o',label ='Integral' )"
   ]
  },
  {
   "cell_type": "code",
   "execution_count": 1244,
   "metadata": {},
   "outputs": [],
   "source": [
    "erro= np.arange(100,230,1)\n",
    "erro_h= np.arange(100,275,1)"
   ]
  },
  {
   "cell_type": "code",
   "execution_count": 1245,
   "metadata": {
    "scrolled": false
   },
   "outputs": [
    {
     "data": {
      "image/png": "[encoded data removed]",
      "text/plain": [
       "<Figure size 432x288 with 1 Axes>"
      ]
     },
     "metadata": {
      "needs_background": "light"
     },
     "output_type": "display_data"
    }
   ],
   "source": [
    "#plt.plot(Q_c[a:b],m_s[a:b]*f[a:b]*CdT_dmg[a:b]*fit_sim((Pi_6[a:b],Pi_4[a:b]),Coef_sim[0][0],Coef_sim[0][1],Coef_sim[0][2],Coef_sim[0][3]),'s', label = 'Similarity')\n",
    "plt.plot(Q_c[a:b],fit_int((Q_pas_CB[a:b],Q_act_CB[a:b],Q_span[a:b],W_mag[a:b],W_p[a:b]),Coef[0][0],Coef[0][1],Coef[0][2],Coef[0][3],Coef[0][4]),'o',label ='Integral' )\n",
    "plt.plot(erro,0.9*erro,'k--')\n",
    "plt.plot(erro,1.1*erro,'k--')\n",
    "plt.grid()\n",
    "plt.ylabel('Analytical Cooling Capacity [W]')\n",
    "plt.xlabel('Numerical Cooling Capacity [W]')\n",
    "plt.legend()\n",
    "\n",
    "plt.savefig('ErrorBar.png',format = 'png', dpi=500,bbox_inches='tight')\n",
    "plt.show()"
   ]
  },
  {
   "cell_type": "code",
   "execution_count": 1246,
   "metadata": {},
   "outputs": [
    {
     "data": {
      "image/png": "[encoded data removed]",
      "text/plain": [
       "<Figure size 432x288 with 1 Axes>"
      ]
     },
     "metadata": {
      "needs_background": "light"
     },
     "output_type": "display_data"
    }
   ],
   "source": [
    "#plt.plot(Q_c[a:b],m_s[a:b]*f[a:b]*CdT_dmg[a:b]*fit_sim((Pi_6[a:b],Pi_4[a:b]),Coef_sim[0][0],Coef_sim[0][1],Coef_sim[0][2],Coef_sim[0][3]),'s', label = 'Similarity')\n",
    "plt.plot(Q_h[a:b],fit_int((Q_pas_HB[a:b],Q_act_HB[a:b],Q_span[a:b],W_mag[a:b],W_p[a:b]),Coef_h[0][0],Coef_h[0][1],Coef_h[0][2],Coef_h[0][3],Coef_h[0][4]),'o',label ='Integral' )\n",
    "plt.plot(erro_h,0.9*erro_h,'k--')\n",
    "plt.plot(erro_h,1.1*erro_h,'k--')\n",
    "plt.grid()\n",
    "plt.ylabel('Analytical Cooling Capacity [W]')\n",
    "plt.xlabel('Numerical Cooling Capacity [W]')\n",
    "plt.legend()\n",
    "\n",
    "plt.savefig('ErrorBar.png',format = 'png', dpi=500,bbox_inches='tight')\n",
    "plt.show()"
   ]
  },
  {
   "cell_type": "code",
   "execution_count": null,
   "metadata": {},
   "outputs": [],
   "source": [
    "plt.plot(Q_c[a:b],m_s[a:b]*f[a:b]*CdT_dmg[a:b]*fit_sim((Pi_6[a:b],Pi_4[a:b]),Coef_sim[0][0],Coef_sim[0][1],Coef_sim[0][2],Coef_sim[0][3]),'o')\n",
    "plt.plot(erro,0.9*erro,'k--')\n",
    "plt.plot(erro,1.1*erro,'k--')\n",
    "plt.ylabel('Integral Cooling Capacity [W]')\n",
    "plt.xlabel('Numerical Cooling Capacity [W]')\n",
    "#plt.legend()\n",
    "plt.show()\n",
    "plt.savefig('X_l.pdf',format = 'pdf', dpi=500,bbox_inches='tight')"
   ]
  },
  {
   "cell_type": "code",
   "execution_count": null,
   "metadata": {
    "scrolled": true
   },
   "outputs": [],
   "source": [
    "plt.plot(Pi_6[0:72],Pi_10[0:72],'o',label = 'B = 1.1 T')\n",
    "plt.plot(Pi_6[72:144],Pi_10[72:144],'o',label = 'B = 1.3 T')\n",
    "plt.plot(Pi_6[144:216],Pi_10[144:216],'o',label = 'B = 1.5 T')\n",
    "plt.plot(Pi_6[216:288],Pi_10[216:288],'o',label = 'B = 1.6 T')\n",
    "plt.grid()\n",
    "plt.xlabel('$\\phi$ [-]')\n",
    "plt.ylabel('$\\dot{W}_\\mathrm{M}^*$ [-]')\n",
    "plt.legend()\n",
    "plt.show()"
   ]
  },
  {
   "cell_type": "code",
   "execution_count": null,
   "metadata": {},
   "outputs": [],
   "source": [
    "plt.plot(Pi_6[0:72],Pi_9[0:72],'o',label = 'B = 1.1 T')\n",
    "plt.plot(Pi_6[72:144],Pi_9[72:144],'o',label = 'B = 1.3 T')\n",
    "plt.plot(Pi_6[144:216],Pi_9[144:216],'o',label = 'B = 1.5 T')\n",
    "plt.plot(Pi_6[216:288],Pi_9[216:288],'o',label = 'B = 1.6 T')\n",
    "plt.grid()\n",
    "plt.xlabel('$\\phi$ [-]')\n",
    "plt.ylabel('$\\dot{Q}_\\mathrm{H}^*$ [-]')\n",
    "plt.legend()\n",
    "plt.show()"
   ]
  },
  {
   "cell_type": "code",
   "execution_count": null,
   "metadata": {},
   "outputs": [],
   "source": [
    "a = 0*72\n",
    "b = 4*72"
   ]
  },
  {
   "cell_type": "code",
   "execution_count": null,
   "metadata": {
    "scrolled": false
   },
   "outputs": [],
   "source": [
    "Coef_Wm = curve_fit(fitting_W,(Pi_6[a:b],Pi_4[a:b]),Pi_10[a:b],maxfev=10000)\n",
    "Coef_Wm"
   ]
  },
  {
   "cell_type": "code",
   "execution_count": null,
   "metadata": {
    "scrolled": false
   },
   "outputs": [],
   "source": [
    "plt.plot(Pi_6[a:b],Pi_8[a:b],'o')\n",
    "plt.plot(Pi_6[a:b],fitting((Pi_6[a:b],Pi_4[a:b]),Coef[0][0],Coef[0][1],Coef[0][2],Coef[0][3]),'o')"
   ]
  },
  {
   "cell_type": "code",
   "execution_count": null,
   "metadata": {
    "scrolled": true
   },
   "outputs": [],
   "source": [
    "plt.plot(Pi_6[a:b],Pi_9[a:b],'o')\n",
    "plt.plot(Pi_6[a:b],fitting((Pi_6[a:b],Pi_4[a:b]),Coef_Qh[0][0],Coef_Qh[0][1],Coef_Qh[0][2],Coef_Qh[0][3]),'o')"
   ]
  },
  {
   "cell_type": "code",
   "execution_count": null,
   "metadata": {
    "scrolled": true
   },
   "outputs": [],
   "source": [
    "plt.plot(Pi_6[a:b],Pi_10[a:b],'o')\n",
    "plt.plot(Pi_6[a:b],fitting_W((Pi_6[a:b],Pi_4[a:b]),Coef_Wm[0][0],Coef_Wm[0][1],Coef_Wm[0][2],0,Coef_Wm[0][4]),'o')"
   ]
  },
  {
   "cell_type": "code",
   "execution_count": null,
   "metadata": {},
   "outputs": [],
   "source": [
    "erro1 = abs((Pi_8 - fitting((Pi_6[a:b],Pi_4[a:b]),Coef[0][0],Coef[0][1],Coef[0][2],Coef[0][3]))/Pi_8*100)\n",
    "erro2 = abs((Pi_9 - fitting((Pi_6[a:b],Pi_4[a:b]),Coef_Qh[0][0],Coef_Qh[0][1],Coef_Qh[0][2],Coef_Qh[0][3]))/Pi_9*100)\n",
    "erro3 = abs((Pi_10 - fitting_W((Pi_6[a:b],Pi_4[a:b]),Coef_Wm[0][0],Coef_Wm[0][1],Coef_Wm[0][2],Coef_Wm[0][3],Coef_Wm[0][4]))/Pi_10*100)\n",
    "j=0\n",
    "h=0\n",
    "k=0\n",
    "for i in range(len(erro1)):\n",
    "    if erro1[i] >= 10:\n",
    "        j = j+1\n",
    "    if erro2[i] >= 10:\n",
    "        h = h+1\n",
    "    if erro3[i] >= 10:\n",
    "        k = k+1\n",
    "j/len(erro1),h/len(erro2),k/len(erro3)"
   ]
  },
  {
   "cell_type": "code",
   "execution_count": null,
   "metadata": {
    "scrolled": true
   },
   "outputs": [],
   "source": [
    "plt.plot(Pi_6,Q_c,'o')"
   ]
  },
  {
   "cell_type": "code",
   "execution_count": null,
   "metadata": {
    "scrolled": true
   },
   "outputs": [],
   "source": [
    "plt.plot(Pi_6,erro1,'o')\n",
    "plt.ylim([0,25])"
   ]
  },
  {
   "cell_type": "code",
   "execution_count": null,
   "metadata": {
    "scrolled": true
   },
   "outputs": [],
   "source": [
    "plt.plot(Pi_6,erro1,'o',label = '$\\dot{Q}_\\mathrm{C}$')\n",
    "plt.plot(Pi_6,erro2,'o',label = '$\\dot{Q}_\\mathrm{H}$')\n",
    "plt.plot(Pi_6,erro3,'o',label = '$\\dot{W}_\\mathrm{M}$')\n",
    "plt.ylim(0,30)\n",
    "plt.xlabel('$\\phi$ [-]')\n",
    "plt.legend()\n",
    "plt.ylabel('Error [$\\%$]')\n",
    "plt.grid()"
   ]
  },
  {
   "cell_type": "code",
   "execution_count": null,
   "metadata": {},
   "outputs": [],
   "source": [
    "plt.plot(Pi_6,erro3,'o')"
   ]
  },
  {
   "cell_type": "code",
   "execution_count": null,
   "metadata": {},
   "outputs": [],
   "source": [
    "plt.plot(Pi_8,fitting((Pi_6,Pi_7),Coef[0][0],Coef[0][1],Coef[0][2]),'o')\n",
    "plt.plot(Pi_8,0.9*Pi_8)\n",
    "plt.plot(Pi_8,1.1*Pi_8)\n",
    "plt.grid()"
   ]
  },
  {
   "cell_type": "code",
   "execution_count": null,
   "metadata": {},
   "outputs": [],
   "source": [
    "error_bar = np.arange(0,700)"
   ]
  },
  {
   "cell_type": "code",
   "execution_count": null,
   "metadata": {},
   "outputs": [],
   "source": [
    "K = (m_s*f*CdT_dmg)\n",
    "plt.plot(Pi_8[0:72]*K[0:72],K[0:72]*fitting((Pi_6[0:72],Pi_4[0:72]),Coef[0][0],Coef[0][1],Coef[0][2],Coef[0][3]),'o', label = 'B = 1.1 T')\n",
    "plt.plot(Pi_8[72:2*72]*K[72:2*72],K[72:2*72]*fitting((Pi_6[72:2*72],Pi_4[72:2*72]),Coef[0][0],Coef[0][1],Coef[0][2],Coef[0][3]),'X', label = 'B = 1.3 T')\n",
    "plt.plot(Pi_8[2*72:3*72]*K[2*72:3*72],K[2*72:3*72]*fitting((Pi_6[2*72:3*72],Pi_4[2*72:3*72]),Coef[0][0],Coef[0][1],Coef[0][2],Coef[0][3]),'s', label = 'B = 1.5 T')\n",
    "plt.plot(Pi_8[3*72:4*72]*K[3*72:4*72],K[3*72:4*72]*fitting((Pi_6[3*72:4*72],Pi_4[3*72:4*72]),Coef[0][0],Coef[0][1],Coef[0][2],Coef[0][3]),'^', label = 'B = 1.6 T')\n",
    "plt.plot(error_bar,0.92*error_bar,'k--')\n",
    "plt.plot(error_bar,1.08*error_bar,'k--')\n",
    "plt.text(100,80,'- 8\\%')\n",
    "plt.text(80,110,'+ 8\\%')\n",
    "\n",
    "\n",
    "plt.xlabel('Numerical Cooling Capacity [W]')\n",
    "plt.ylabel('Fitting Cooling Capacity [W]')\n",
    "\n",
    "plt.grid()\n",
    "plt.legend()\n",
    "plt.xlim(0,180)\n",
    "plt.ylim(0,180)"
   ]
  },
  {
   "cell_type": "code",
   "execution_count": null,
   "metadata": {},
   "outputs": [],
   "source": [
    "plt.plot((Pi_9*K)[0:72],K[0:72]*fitting((Pi_6[0:72],Pi_4[0:72]),Coef_Qh[0][0],Coef_Qh[0][1],Coef_Qh[0][2],Coef_Qh[0][3]),'o', label = 'B = 1.1 T')\n",
    "plt.plot((Pi_9*K)[72:2*72],K[72:144]*fitting((Pi_6[72:2*72],Pi_4[72:2*72]),Coef_Qh[0][0],Coef_Qh[0][1],Coef_Qh[0][2],Coef_Qh[0][3]),'X', label = 'B = 1.3 T')\n",
    "plt.plot((Pi_9*K)[2*72:3*72],K[144:216]*fitting((Pi_6[2*72:3*72],Pi_4[2*72:3*72]),Coef_Qh[0][0],Coef_Qh[0][1],Coef_Qh[0][2],Coef_Qh[0][3]),'s', label = 'B = 1.5 T')\n",
    "plt.plot((Pi_9*K)[3*72:4*72],K[216:288]*fitting((Pi_6[3*72:4*72],Pi_4[3*72:4*72]),Coef_Qh[0][0],Coef_Qh[0][1],Coef_Qh[0][2],Coef_Qh[0][3]),'^', label = 'B = 1.6 T')\n",
    "plt.plot(error_bar,0.9*error_bar,'k--')\n",
    "plt.plot(error_bar,1.1*error_bar,'k--')\n",
    "plt.text(300,230,'- 10\\%')\n",
    "plt.text(250,350,'+ 10\\%')\n",
    "\n",
    "\n",
    "plt.xlabel('Numerical Rejected Heat [W]')\n",
    "plt.ylabel('Fitting Rejected Heat [W]')\n",
    "\n",
    "plt.grid()\n",
    "plt.legend()\n",
    "plt.xlim(20,550)\n",
    "plt.ylim(20,550)"
   ]
  },
  {
   "cell_type": "code",
   "execution_count": null,
   "metadata": {},
   "outputs": [],
   "source": [
    "plt.plot((Pi_10*K)[0:72],K[0:72]*fitting_W((Pi_6[0:72],Pi_4[0:72]),Coef_Wm[0][0],Coef_Wm[0][1],Coef_Wm[0][2],Coef_Wm[0][3],Coef_Wm[0][4]),'o', label = 'B = 1.1 T')\n",
    "plt.plot((Pi_10*K)[72:2*72],K[72:144]*fitting_W((Pi_6[72:2*72],Pi_4[72:2*72]),Coef_Wm[0][0],Coef_Wm[0][1],Coef_Wm[0][2],Coef_Wm[0][3],Coef_Wm[0][4]),'X', label = 'B = 1.3 T')\n",
    "plt.plot((Pi_10*K)[2*72:3*72],K[144:216]*fitting_W((Pi_6[2*72:3*72],Pi_4[2*72:3*72]),Coef_Wm[0][0],Coef_Wm[0][1],Coef_Wm[0][2],Coef_Wm[0][3],Coef_Wm[0][4]),'s', label = 'B = 1.5 T')\n",
    "plt.plot((Pi_10*K)[3*72:4*72],K[216:288]*fitting_W((Pi_6[3*72:4*72],Pi_4[3*72:4*72]),Coef_Wm[0][0],Coef_Wm[0][1],Coef_Wm[0][2],Coef_Wm[0][3],Coef_Wm[0][4]),'^', label = 'B = 1.6 T')\n",
    "plt.plot(error_bar,0.9*error_bar,'k--')\n",
    "plt.plot(error_bar,1.1*error_bar,'k--')\n",
    "plt.text(40,31.5,'- 8\\%')\n",
    "plt.text(31.5,45,'+ 8\\%')\n",
    "\n",
    "\n",
    "plt.xlabel('Numerical Magnetic Work[W]')\n",
    "plt.ylabel('Fitting Magnetic Work [W]')\n",
    "\n",
    "plt.grid()\n",
    "plt.legend()\n",
    "plt.xlim(5,70)\n",
    "plt.ylim(5,70)"
   ]
  },
  {
   "cell_type": "code",
   "execution_count": null,
   "metadata": {},
   "outputs": [],
   "source": []
  }
 ],
 "metadata": {
  "kernelspec": {
   "display_name": "Python 3",
   "language": "python",
   "name": "python3"
  },
  "language_info": {
   "codemirror_mode": {
    "name": "ipython",
    "version": 3
   },
   "file_extension": ".py",
   "mimetype": "text/x-python",
   "name": "python",
   "nbconvert_exporter": "python",
   "pygments_lexer": "ipython3",
   "version": "3.7.4"
  }
 },
 "nbformat": 4,
 "nbformat_minor": 2
}
