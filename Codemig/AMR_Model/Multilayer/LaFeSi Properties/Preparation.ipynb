{
 "cells": [
  {
   "cell_type": "code",
   "execution_count": 31,
   "metadata": {},
   "outputs": [],
   "source": [
    "from numpy import *\n",
    "from matplotlib import *\n",
    "from pylab import *\n",
    "from scipy import *\n",
    "\n",
    "import csv\n",
    "import xlrd\n",
    "#import xlwt\n",
    "import xlsxwriter\n",
    "#import tablib\n",
    "#from openpyxl import Workbook\n",
    "#import xlsxwriter\n",
    "\n",
    "rc('text',usetex = True)\n",
    "rc('font', family='serif')\n",
    "\n",
    "from scipy.optimize import curve_fit"
   ]
  },
  {
   "cell_type": "code",
   "execution_count": 32,
   "metadata": {},
   "outputs": [],
   "source": [
    "Prop = xlrd.open_workbook('Extra.xlsx') #Import Properties File\n",
    "#SpecHeat = Prop.sheet_by_name('C') # #Import Specific Heat\n",
    "dTad = Prop.sheet_by_name('Plan1') #Import Adiabatic Temperature Change\n",
    "\n",
    "T_exp = dTad.col_values(0) #Import experimented temperatures\n",
    "B_exp = dTad.col_values(1) #Import experimented temperatures\n",
    "dT_ad = dTad.col_values(2) #Import experimented magnetic fields\n",
    "C = dTad.col_values(3) #Import experimented magnetic fields"
   ]
  },
  {
   "cell_type": "code",
   "execution_count": 33,
   "metadata": {},
   "outputs": [],
   "source": [
    "K = len(dTad.col_values(0)) #Import data number\n",
    "Nl = len(dTad.row_values(0))"
   ]
  },
  {
   "cell_type": "code",
   "execution_count": 34,
   "metadata": {},
   "outputs": [],
   "source": [
    "j = 0\n",
    "\n",
    "T_ex = np.arange(min(T_exp),max(T_exp)+0.01,0.1)\n",
    "B_ex = np.arange(min(B_exp),max(B_exp)+0.001,0.01)\n",
    "dT_ad_m = np.zeros([np.int(K/len(T_ex)),len(T_ex)+int((315-303.7)/0.1)+1])\n",
    "C_m = np.zeros([np.int(K/len(T_ex)),len(T_ex)+int((315-303.7)/0.1)+1])\n",
    "\n",
    "N = len(T_ex)\n",
    "\n",
    "for i in range (len(T_exp)-1):\n",
    "    if B_exp[i+1] == B_exp[i]:\n",
    "        dT_ad_m[j][i % N] = dT_ad[i]\n",
    "        C_m[j][i % N] = C[i]\n",
    "    else:\n",
    "        j = j+1\n",
    "        dT_ad_m[j][i % N] = dT_ad[i]\n",
    "        C_m[j][i % N] = C[i]\n",
    "        \n",
    "for i in range(len(T_ex)-1,len(dT_ad_m[0])):\n",
    "    for j in range(len(B_ex)):\n",
    "        dT_ad_m[j][i] = dT_ad_m[j][i-1]\n",
    "        C_m[j][i] = C_m[j][i-1]\n"
   ]
  },
  {
   "cell_type": "code",
   "execution_count": 35,
   "metadata": {},
   "outputs": [
    {
     "data": {
      "text/plain": [
       "[<matplotlib.lines.Line2D at 0x265a9712c50>]"
      ]
     },
     "execution_count": 35,
     "metadata": {},
     "output_type": "execute_result"
    },
    {
     "data": {
      "image/png": "[encoded data removed]",
      "text/plain": [
       "<Figure size 432x288 with 1 Axes>"
      ]
     },
     "metadata": {},
     "output_type": "display_data"
    }
   ],
   "source": [
    "T  = np.arange(265.3,315.1,0.1)\n",
    "plt.plot(T,C_m[150])"
   ]
  },
  {
   "cell_type": "code",
   "execution_count": 36,
   "metadata": {},
   "outputs": [],
   "source": [
    "Data = np.zeros([4,(len(T))*(len(B_ex))])\n",
    "for j in range(len(B_ex)):\n",
    "    for i in range(len(T)):\n",
    "        Data[0,np.int(i+len(T)*j)] = T[i]\n",
    "        Data[1,np.int(i+len(T)*j)] = B_ex[j]\n",
    "        Data[2,np.int(i+len(T)*j)] = dT_ad_m[j][i]  \n",
    "        Data[3,np.int(i+len(T)*j)] = C_m[j][i]  "
   ]
  },
  {
   "cell_type": "code",
   "execution_count": 37,
   "metadata": {},
   "outputs": [],
   "source": [
    "workbook = xlsxwriter.Workbook('Extra_complete.xlsx')\n",
    "prp = workbook.add_worksheet()\n",
    "\n",
    "for j in range(len(B_ex)):\n",
    "    for i in range(len(T)):\n",
    "        prp.write(np.int(i+len(T)*j),0,T[i]) \n",
    "        prp.write(np.int(i+len(T)*j),1,B_ex[j]) \n",
    "        prp.write(np.int(i+len(T)*j),2,dT_ad_m[j][i]) \n",
    "        prp.write(np.int(i+len(T)*j),3,C_m[j][i]) \n",
    "\n",
    "workbook.close()"
   ]
  },
  {
   "cell_type": "markdown",
   "metadata": {},
   "source": []
  },
  {
   "cell_type": "markdown",
   "metadata": {},
   "source": [
    "dT_ad_new = np.zeros([Nl,K])\n",
    "\n",
    "for k in range(Nl):\n",
    "    A = 0\n",
    "    print(k)\n",
    "    for i in range (len(T_exp)):\n",
    "        #print(i)\n",
    "        #print(A)\n",
    "        for j in range(A,len(T_new[0])):\n",
    "            #j = A\n",
    "            #print(j)\n",
    "            #while B_exp[j] <= B_exp[i]:\n",
    "                #print(i,j)\n",
    "            if B_exp[i] == B_exp[j] and T_exp[i] == T_new[k][j]:\n",
    "                dT_ad_new[k][i] = dT_ad[j]\n",
    "                A = j\n",
    "                #print(A)\n",
    "                break\n",
    "            if B_exp[j] > B_exp[i]:\n",
    "                break"
   ]
  },
  {
   "cell_type": "markdown",
   "metadata": {},
   "source": [
    "for i in range(Nl):\n",
    "    plt.plot(T_exp,dT_ad_new[i],'o')"
   ]
  },
  {
   "cell_type": "raw",
   "metadata": {},
   "source": [
    "workbook = xlwt.Workbook()\n",
    "sheet = workbook.add_sheet('dT')\n",
    "\n",
    "\n",
    "for i in range(K):\n",
    "    sheet.write(i,0,T_exp[i])\n",
    "    sheet.write(i,1,B_exp[i])\n",
    "    for j in range(2,Nl+2):\n",
    "        sheet.write(i,j,dT_ad_new[j-2][i])\n",
    "    \n",
    "workbook.save('LaFeSi.xls')"
   ]
  },
  {
   "cell_type": "markdown",
   "metadata": {},
   "source": [
    "plt.plot(T_exp,dT_ad_new[0],'o')"
   ]
  }
 ],
 "metadata": {
  "kernelspec": {
   "display_name": "Python 3",
   "language": "python",
   "name": "python3"
  },
  "language_info": {
   "codemirror_mode": {
    "name": "ipython",
    "version": 3
   },
   "file_extension": ".py",
   "mimetype": "text/x-python",
   "name": "python",
   "nbconvert_exporter": "python",
   "pygments_lexer": "ipython3",
   "version": "3.6.5"
  }
 },
 "nbformat": 4,
 "nbformat_minor": 2
}
