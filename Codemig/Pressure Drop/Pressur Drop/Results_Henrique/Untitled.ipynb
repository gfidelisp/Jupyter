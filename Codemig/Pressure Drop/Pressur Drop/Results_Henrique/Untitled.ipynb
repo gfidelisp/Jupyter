{
 "cells": [
  {
   "cell_type": "code",
   "execution_count": 1,
   "metadata": {},
   "outputs": [],
   "source": [
    "import xlrd\n",
    "from numpy import *\n",
    "from scipy import *\n",
    "import numpy as np\n",
    "from matplotlib.pyplot import *\n",
    "\n",
    "import matplotlib.pyplot as plt\n",
    "\n",
    "from scipy.optimize import curve_fit\n",
    "\n",
    "rc('text',usetex = True)\n",
    "rc('font', family='serif',size = 12)"
   ]
  },
  {
   "cell_type": "code",
   "execution_count": 2,
   "metadata": {},
   "outputs": [],
   "source": [
    "Data = xlrd.open_workbook('Results_.xlsx') #Import inputs File\n",
    "Inputs = Data.sheet_by_name('Data') \n",
    "\n",
    "vs   = array(Inputs.col_values(0)) #Import AMR Length [mm]\n",
    "dP   = array(Inputs.col_values(1)) #Import AMR Height [mm]\n",
    "vs_CB   = array(Inputs.col_values(2)) #Import AMR Length [mm]\n",
    "dP_CB   = array(Inputs.col_values(3)) #Import AMR Height [mm]\n",
    "Re_HB   = array(Inputs.col_values(4)) #Import AMR Length [mm]\n",
    "Re_CB   = array(Inputs.col_values(5)) #Import AMR Height [mm]"
   ]
  },
  {
   "cell_type": "code",
   "execution_count": 3,
   "metadata": {},
   "outputs": [],
   "source": [
    "Re = np.arange(0,25)"
   ]
  },
  {
   "cell_type": "code",
   "execution_count": 4,
   "metadata": {
    "scrolled": true
   },
   "outputs": [],
   "source": [
    "Inputs = Data.sheet_by_name('Data_8') \n",
    "\n",
    "vs_8   = array(Inputs.col_values(0)) #Import AMR Length [mm]\n",
    "dP_8   = array(Inputs.col_values(1)) #Import AMR Height [mm]\n",
    "Re_8   = array(Inputs.col_values(2)) #Import AMR Length [mm]"
   ]
  },
  {
   "cell_type": "code",
   "execution_count": 5,
   "metadata": {},
   "outputs": [],
   "source": [
    "L = 50*10**-3\n",
    "rho = 1000\n",
    "d_p = 500*10**-6"
   ]
  },
  {
   "cell_type": "code",
   "execution_count": 46,
   "metadata": {},
   "outputs": [],
   "source": [
    "def fit_int(X,a,b): \n",
    "    vs =  X\n",
    "    #Epsilon = 0.465\n",
    "    Epsilon = 0.46\n",
    "    mu_f = 0.0007\n",
    "    dp = 0.0005\n",
    "    rho_f = 1000\n",
    "    \n",
    "    return (a*(1-Epsilon)**2/Epsilon**3*mu_f*vs/dp**2 + b*(1-Epsilon)/Epsilon**3*rho_f*vs**2/(dp))"
   ]
  },
  {
   "cell_type": "code",
   "execution_count": 47,
   "metadata": {},
   "outputs": [
    {
     "data": {
      "text/plain": [
       "(array([0.28355988, 0.00088927]), array([[ 7.86840418e-04, -1.34132545e-05],\n",
       "        [-1.34132545e-05,  2.36090549e-07]]))"
      ]
     },
     "execution_count": 47,
     "metadata": {},
     "output_type": "execute_result"
    }
   ],
   "source": [
    "Coef = curve_fit(fit_int,(vs_8),dP_8,maxfev=10000)\n",
    "Coef"
   ]
  },
  {
   "cell_type": "code",
   "execution_count": 48,
   "metadata": {},
   "outputs": [],
   "source": [
    "aux = np.arange(0,30)"
   ]
  },
  {
   "cell_type": "code",
   "execution_count": null,
   "metadata": {},
   "outputs": [],
   "source": []
  },
  {
   "cell_type": "code",
   "execution_count": 50,
   "metadata": {},
   "outputs": [
    {
     "data": {
      "text/plain": [
       "101.28980394019018"
      ]
     },
     "execution_count": 50,
     "metadata": {},
     "output_type": "execute_result"
    }
   ],
   "source": [
    "m = 120/3600\n",
    "A = np.pi*(23*10**-3)**2/4\n",
    "vs_H = m/1000/A\n",
    "vs_H\n",
    "fit_int(vs_H,0.10841338,0.00039666)"
   ]
  },
  {
   "cell_type": "code",
   "execution_count": 33,
   "metadata": {},
   "outputs": [
    {
     "data": {
      "text/plain": [
       "array([0.03261054, 0.03414116, 0.03329082, 0.03339002, 0.03377268,\n",
       "       0.03377268, 0.03462302, 0.03341837, 0.0349915 , 0.02579365,\n",
       "       0.02443311, 0.02563776, 0.02743764, 0.0268424 , 0.02748016,\n",
       "       0.02821712, 0.03062642, 0.0309949 , 0.02782029, 0.04709467,\n",
       "       0.04913549, 0.04668367, 0.04699546, 0.04547902, 0.04717971,\n",
       "       0.04539399, 0.03853458, 0.04589002, 0.04285714, 0.04628685,\n",
       "       0.04750567, 0.04580499, 0.0444161 , 0.0475907 , 0.04579082,\n",
       "       0.04481293, 0.04485544, 0.04373583, 0.03592687, 0.03486395,\n",
       "       0.03574263, 0.03540249, 0.03595522, 0.03619615, 0.03622449,\n",
       "       0.03585601, 0.03605442, 0.02742347, 0.03010204, 0.02767857,\n",
       "       0.03137755, 0.02960601, 0.0309949 , 0.03479308, 0.03231293,\n",
       "       0.03224206, 0.03487812, 0.05371315, 0.05265023, 0.05056689,\n",
       "       0.05106293, 0.0482568 , 0.04798753, 0.04427438, 0.04277211,\n",
       "       0.03438209, 0.05253685, 0.0494898 , 0.04981576, 0.04900794,\n",
       "       0.05089286, 0.04973073, 0.04893707, 0.04912132, 0.04971655,\n",
       "       0.05043934])"
      ]
     },
     "execution_count": 33,
     "metadata": {},
     "output_type": "execute_result"
    }
   ],
   "source": [
    "vs_8"
   ]
  },
  {
   "cell_type": "code",
   "execution_count": 38,
   "metadata": {},
   "outputs": [
    {
     "data": {
      "image/png": "[encoded data removed]",
      "text/plain": [
       "<Figure size 432x288 with 1 Axes>"
      ]
     },
     "metadata": {
      "needs_background": "light"
     },
     "output_type": "display_data"
    }
   ],
   "source": [
    "#plt.semilogy(Re_HB,dP,'o',label = 'Experimental')\n",
    "plt.plot(Re_8,dP_8,'o',label = 'Experimental')\n",
    "#plt.plot(Re_CB,dP_CB,'o',label = 'Cold Blow')\n",
    "#semilogy(Re_HB,fit_int(vs,150,1.75,0.345)*(50*10**-3)/1000,'x',label = 'Ergun - 0.345')\n",
    "#semilogy(Re_8,fit_int((vs_8),0.10841338,0.00039666),'x',label = 'Ergun - 0.235')\n",
    "#plot(Re_HB,fit_int(vs,150,1.75,0.465)*(50*10**-3)/1000,'x',label = 'Ergun - 0.465')\n",
    "#plot(Re_HB,fit_int(vs,9/4*150,3/2*1.75)*(50*10**-3)/1000,'x',label = 'Ergun (?)')\n",
    "#plot(Re_HB,fit_int(vs,Coef[0][0],Coef[0][1],0.37)*(50*10**-3)/1000,'x',label = 'Modified')\n",
    "plt.legend()\n",
    "plt.grid()\n",
    "plt.xlabel('Reynolds [-]')\n",
    "plt.ylabel('Pressure Drop [kPa]')\n",
    "plt.savefig('dP.png',format = 'png', dpi=500,bbox_inches='tight')"
   ]
  },
  {
   "cell_type": "code",
   "execution_count": null,
   "metadata": {},
   "outputs": [],
   "source": [
    "semilogy(Re_8,fit_int(vs_8,150,1.75,0.36)*(100*10**-3)/1000,'x',label = 'Ergun - 0.235')"
   ]
  },
  {
   "cell_type": "code",
   "execution_count": 57,
   "metadata": {},
   "outputs": [
    {
     "data": {
      "image/png": "[encoded data removed]",
      "text/plain": [
       "<Figure size 432x288 with 1 Axes>"
      ]
     },
     "metadata": {
      "needs_background": "light"
     },
     "output_type": "display_data"
    }
   ],
   "source": [
    "plt.semilogy(Re_HB,dP*1000/L*2*d_p/(rho*vs**2),'o',label = 'Hot Blow')\n",
    "plt.semilogy(Re_8,dP_8*1000/(2*L)*2*d_p/(rho*vs_8**2),'o',label = 'Hot Blow')\n",
    "#plt.plot(Re_CB,dP_CB*1000/L*2*d_p/(rho*vs_CB**2),'o',label = 'Cold Blow')\n",
    "plot(Re_HB,fit_int(vs,150,1.75,0.345)*(50*10**-3)/1000*1000/L*2*d_p/(rho*vs**2),'x',label = 'Ergun')\n",
    "plot(Re_8,fit_int(vs_8,150,1.75,0.235)*(100*10**-3)/1000*1000/(2*L)*2*d_p/(rho*vs_8**2),'x',label = 'Ergun')\n",
    "#plot(Re_HB,fit_int(vs,9/4*150,3/2*1.75)*(50*10**-3)/1000*1000/L*2*d_p/(rho*vs**2),'x',label = 'Ergun (?)')\n",
    "#plot(Re_HB,fit_int(vs,Coef[0][0],Coef[0][1])*(50*10**-3)/1000*1000/L*2*d_p/(rho*vs**2),'x',label = 'Modified')\n",
    "plt.legend()\n",
    "plt.grid()\n",
    "plt.xlabel('Reynolds [-]')\n",
    "plt.ylabel('f$_\\mathrm{D}$ [-]')\n",
    "plt.savefig('f.png',format = 'png', dpi=500,bbox_inches='tight')"
   ]
  },
  {
   "cell_type": "code",
   "execution_count": 12,
   "metadata": {
    "scrolled": true
   },
   "outputs": [
    {
     "ename": "TypeError",
     "evalue": "fit_int() missing 1 required positional argument: 'Epsilon'",
     "output_type": "error",
     "traceback": [
      "\u001b[1;31m---------------------------------------------------------------------------\u001b[0m",
      "\u001b[1;31mTypeError\u001b[0m                                 Traceback (most recent call last)",
      "\u001b[1;32m<ipython-input-12-c9a5e614c765>\u001b[0m in \u001b[0;36m<module>\u001b[1;34m\u001b[0m\n\u001b[0;32m      1\u001b[0m \u001b[1;31m#plot(vs,dP,'o')\u001b[0m\u001b[1;33m\u001b[0m\u001b[1;33m\u001b[0m\u001b[1;33m\u001b[0m\u001b[0m\n\u001b[1;32m----> 2\u001b[1;33m \u001b[0mplot\u001b[0m\u001b[1;33m(\u001b[0m\u001b[0mdP\u001b[0m\u001b[1;33m,\u001b[0m\u001b[0mfit_int\u001b[0m\u001b[1;33m(\u001b[0m\u001b[0mvs\u001b[0m\u001b[1;33m,\u001b[0m\u001b[0mCoef\u001b[0m\u001b[1;33m[\u001b[0m\u001b[1;36m0\u001b[0m\u001b[1;33m]\u001b[0m\u001b[1;33m[\u001b[0m\u001b[1;36m0\u001b[0m\u001b[1;33m]\u001b[0m\u001b[1;33m,\u001b[0m\u001b[0mCoef\u001b[0m\u001b[1;33m[\u001b[0m\u001b[1;36m0\u001b[0m\u001b[1;33m]\u001b[0m\u001b[1;33m[\u001b[0m\u001b[1;36m1\u001b[0m\u001b[1;33m]\u001b[0m\u001b[1;33m)\u001b[0m\u001b[1;33m*\u001b[0m\u001b[1;33m(\u001b[0m\u001b[1;36m50\u001b[0m\u001b[1;33m*\u001b[0m\u001b[1;36m10\u001b[0m\u001b[1;33m**\u001b[0m\u001b[1;33m-\u001b[0m\u001b[1;36m3\u001b[0m\u001b[1;33m)\u001b[0m\u001b[1;33m/\u001b[0m\u001b[1;36m1000\u001b[0m\u001b[1;33m,\u001b[0m\u001b[1;34m'o'\u001b[0m\u001b[1;33m)\u001b[0m\u001b[1;33m\u001b[0m\u001b[1;33m\u001b[0m\u001b[0m\n\u001b[0m\u001b[0;32m      3\u001b[0m \u001b[0mplot\u001b[0m\u001b[1;33m(\u001b[0m\u001b[0mdP\u001b[0m\u001b[1;33m,\u001b[0m\u001b[0mfit_int\u001b[0m\u001b[1;33m(\u001b[0m\u001b[0mvs\u001b[0m\u001b[1;33m,\u001b[0m\u001b[1;36m150\u001b[0m\u001b[1;33m,\u001b[0m\u001b[1;36m1.75\u001b[0m\u001b[1;33m)\u001b[0m\u001b[1;33m*\u001b[0m\u001b[1;33m(\u001b[0m\u001b[1;36m50\u001b[0m\u001b[1;33m*\u001b[0m\u001b[1;36m10\u001b[0m\u001b[1;33m**\u001b[0m\u001b[1;33m-\u001b[0m\u001b[1;36m3\u001b[0m\u001b[1;33m)\u001b[0m\u001b[1;33m/\u001b[0m\u001b[1;36m1000\u001b[0m\u001b[1;33m,\u001b[0m\u001b[1;34m'o'\u001b[0m\u001b[1;33m)\u001b[0m\u001b[1;33m\u001b[0m\u001b[1;33m\u001b[0m\u001b[0m\n\u001b[0;32m      4\u001b[0m \u001b[0mplt\u001b[0m\u001b[1;33m.\u001b[0m\u001b[0mgrid\u001b[0m\u001b[1;33m(\u001b[0m\u001b[1;33m)\u001b[0m\u001b[1;33m\u001b[0m\u001b[1;33m\u001b[0m\u001b[0m\n\u001b[0;32m      5\u001b[0m \u001b[0mplot\u001b[0m\u001b[1;33m(\u001b[0m\u001b[0maux\u001b[0m\u001b[1;33m,\u001b[0m\u001b[1;36m1.1\u001b[0m\u001b[1;33m*\u001b[0m\u001b[0maux\u001b[0m\u001b[1;33m,\u001b[0m\u001b[1;34m'k--'\u001b[0m\u001b[1;33m)\u001b[0m\u001b[1;33m\u001b[0m\u001b[1;33m\u001b[0m\u001b[0m\n",
      "\u001b[1;31mTypeError\u001b[0m: fit_int() missing 1 required positional argument: 'Epsilon'"
     ]
    }
   ],
   "source": [
    "#plot(vs,dP,'o')\n",
    "plot(dP,fit_int(vs,Coef[0][0],Coef[0][1])*(50*10**-3)/1000,'o')\n",
    "plot(dP,fit_int(vs,150,1.75)*(50*10**-3)/1000,'o')\n",
    "plt.grid()\n",
    "plot(aux,1.1*aux,'k--')\n",
    "plot(aux,0.9*aux,'k--')\n",
    "plt.text(15,11,'- 10\\%')\n",
    "plt.text(11,17,'+ 10\\%')\n",
    "plt.xlabel('Pressure Drop - Experimental [kPa]')\n",
    "plt.ylabel('Pressure Drop - Correlation [kPa]')\n",
    "\n",
    "plt.savefig('Corr_Nova.png',format = 'png', dpi=500,bbox_inches='tight')"
   ]
  },
  {
   "cell_type": "code",
   "execution_count": 38,
   "metadata": {},
   "outputs": [],
   "source": [
    "erro = np.abs(dP-fit_int(vs,Coef[0][0],Coef[0][1])*(50*10**-3)/1000)/dP*100"
   ]
  },
  {
   "cell_type": "code",
   "execution_count": 51,
   "metadata": {},
   "outputs": [
    {
     "data": {
      "text/plain": [
       "[<matplotlib.lines.Line2D at 0x139890f4080>]"
      ]
     },
     "execution_count": 51,
     "metadata": {},
     "output_type": "execute_result"
    },
    {
     "data": {
      "image/png": "[encoded data removed]",
      "text/plain": [
       "<Figure size 432x288 with 1 Axes>"
      ]
     },
     "metadata": {
      "needs_background": "light"
     },
     "output_type": "display_data"
    }
   ],
   "source": [
    "plt.semilogy(dP,erro,'o')\n",
    "#plt.ylim([0,10])"
   ]
  },
  {
   "cell_type": "code",
   "execution_count": null,
   "metadata": {},
   "outputs": [],
   "source": []
  }
 ],
 "metadata": {
  "kernelspec": {
   "display_name": "Python 3",
   "language": "python",
   "name": "python3"
  },
  "language_info": {
   "codemirror_mode": {
    "name": "ipython",
    "version": 3
   },
   "file_extension": ".py",
   "mimetype": "text/x-python",
   "name": "python",
   "nbconvert_exporter": "python",
   "pygments_lexer": "ipython3",
   "version": "3.7.3"
  }
 },
 "nbformat": 4,
 "nbformat_minor": 2
}
