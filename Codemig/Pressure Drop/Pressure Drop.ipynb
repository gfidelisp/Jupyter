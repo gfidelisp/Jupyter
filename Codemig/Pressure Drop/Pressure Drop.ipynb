{
 "cells": [
  {
   "cell_type": "code",
   "execution_count": 1,
   "metadata": {},
   "outputs": [],
   "source": [
    "from numpy import *\n",
    "from matplotlib import *\n",
    "from pylab import *\n",
    "from scipy import *\n",
    "from numpy import*\n",
    "import csv\n",
    "import xlrd\n",
    "\n",
    "from scipy.optimize import fsolve"
   ]
  },
  {
   "cell_type": "code",
   "execution_count": 2,
   "metadata": {},
   "outputs": [],
   "source": [
    "Epsilon = 0.36\n",
    "mu = 2*10**-3 #8.9 * 10 ** -4\n",
    "rho = 1000\n",
    "Ac = np.pi*((24.4/1000)**2)/4 #40/1000*40/1000\n",
    "dP = 80000"
   ]
  },
  {
   "cell_type": "code",
   "execution_count": 3,
   "metadata": {},
   "outputs": [],
   "source": [
    "def func(mf,L,d,dP,Epsilon,mu_f,rho_f,Ac):\n",
    "    f = dP - (1-Epsilon)*mu/((Epsilon**3)*rho_f*Ac)*(18*3.1415**2*L*mf/d**2+1.8*mf**2*L/(mu_f*Ac*d))\n",
    "    return (f)"
   ]
  },
  {
   "cell_type": "code",
   "execution_count": 4,
   "metadata": {},
   "outputs": [],
   "source": [
    "L = np.arange(0.075,0.125,0.005)\n",
    "d = np.arange(0.0005125,0.0005126,0.0001)\n",
    "\n",
    "mf = zeros([len(d),len(L)])\n",
    "for i in range(len(L)):\n",
    "    for j in range(len(d)):\n",
    "        mf[j][i] = fsolve(lambda mf: func(mf,L[i],d[j],dP,Epsilon,mu,rho,Ac),x0 = 0)*3600"
   ]
  },
  {
   "cell_type": "code",
   "execution_count": 5,
   "metadata": {},
   "outputs": [
    {
     "data": {
      "image/png": "[encoded data removed]",
      "text/plain": [
       "<Figure size 432x288 with 1 Axes>"
      ]
     },
     "metadata": {
      "needs_background": "light"
     },
     "output_type": "display_data"
    }
   ],
   "source": [
    "for i in range(len(d)):\n",
    "    plt.plot(L,mf[i])\n",
    "plt.show()"
   ]
  },
  {
   "cell_type": "code",
   "execution_count": 47,
   "metadata": {},
   "outputs": [],
   "source": [
    "Epsilon = 0.36\n",
    "mu_f = 10**-3 #8.9 * 10 ** -4\n",
    "rho_f = 1000\n",
    "Ac = np.pi*((24.4/1000)**2)/4\n",
    "d = 0.5125/1000\n",
    "L = 0.12\n",
    "mf = 90/3600"
   ]
  },
  {
   "cell_type": "code",
   "execution_count": 54,
   "metadata": {},
   "outputs": [
    {
     "data": {
      "text/plain": [
       "76.04897482177961"
      ]
     },
     "execution_count": 54,
     "metadata": {},
     "output_type": "execute_result"
    }
   ],
   "source": [
    "(1-Epsilon)*mu/((Epsilon**3)*rho_f*Ac)*(18*3.1415**2*L*mf/d**2+1.8*mf**2*L/(mu_f*Ac*d))/1000"
   ]
  },
  {
   "cell_type": "code",
   "execution_count": 52,
   "metadata": {},
   "outputs": [
    {
     "data": {
      "text/plain": [
       "0.0360171864223268"
      ]
     },
     "execution_count": 52,
     "metadata": {},
     "output_type": "execute_result"
    }
   ],
   "source": []
  },
  {
   "cell_type": "code",
   "execution_count": null,
   "metadata": {},
   "outputs": [],
   "source": []
  }
 ],
 "metadata": {
  "kernelspec": {
   "display_name": "Python 3",
   "language": "python",
   "name": "python3"
  },
  "language_info": {
   "codemirror_mode": {
    "name": "ipython",
    "version": 3
   },
   "file_extension": ".py",
   "mimetype": "text/x-python",
   "name": "python",
   "nbconvert_exporter": "python",
   "pygments_lexer": "ipython3",
   "version": "3.7.3"
  }
 },
 "nbformat": 4,
 "nbformat_minor": 2
}
