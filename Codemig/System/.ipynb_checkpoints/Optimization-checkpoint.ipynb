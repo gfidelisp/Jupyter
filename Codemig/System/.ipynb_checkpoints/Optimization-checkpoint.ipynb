{
 "cells": [
  {
   "cell_type": "code",
   "execution_count": 1,
   "metadata": {},
   "outputs": [],
   "source": [
    "from numpy import *\n",
    "from scipy import *\n",
    "import numpy as np\n",
    "from matplotlib import *\n",
    "\n",
    "from scipy import integrate\n",
    "from scipy import interpolate\n",
    "from scipy.optimize import curve_fit\n",
    "import matplotlib.pyplot as plt\n",
    "\n",
    "import xlrd\n",
    "import xlsxwriter\n",
    "\n",
    "rc('text',usetex = True)\n",
    "rc('font', family='serif',size = 12)"
   ]
  },
  {
   "cell_type": "code",
   "execution_count": 2,
   "metadata": {},
   "outputs": [],
   "source": [
    "Data = xlrd.open_workbook('AMR_Inputs.xlsx')\n",
    "Eff = Data.sheet_by_name('Eff')\n",
    "\n",
    "\n",
    "Effect = []\n",
    "\n",
    "for i in range(7):\n",
    "     Effect.append(array(Eff.col_values(i)))\n",
    "\n",
    "phi = np.arange(0.1,2.01,0.1)\n",
    "NTU = np.arange(50,351,50)\n",
    "NN,PP = np.meshgrid(NTU,phi)\n",
    "Effectiv = interpolate.interp2d(phi,NTU,Effect,kind = 'linear')"
   ]
  },
  {
   "cell_type": "code",
   "execution_count": 3,
   "metadata": {},
   "outputs": [],
   "source": [
    "Data = xlrd.open_workbook('AMR_Inputs.xlsx')\n",
    "HEx = Data.sheet_by_name('HEx_Cold')\n",
    "\n",
    "m_f_HEx_c   = array(HEx.col_values(0)) \n",
    "Ec_HEx_c   = array(HEx.col_values(1)) \n",
    "W_T_HEx_c   = array(HEx.col_values(2)) \n",
    "W_f_HEx_c   = array(HEx.col_values(3)) \n",
    "W_p_HEx_c   = array(HEx.col_values(4)) "
   ]
  },
  {
   "cell_type": "code",
   "execution_count": 4,
   "metadata": {},
   "outputs": [],
   "source": [
    "Data = xlrd.open_workbook('AMR_Inputs.xlsx')\n",
    "HEx = Data.sheet_by_name('HEx_Hot')\n",
    "\n",
    "m_f_HEx_h   = array(HEx.col_values(0)) \n",
    "Ec_HEx_h   = array(HEx.col_values(1)) \n",
    "W_T_HEx_h   = array(HEx.col_values(2)) \n",
    "W_f_HEx_h   = array(HEx.col_values(3)) \n",
    "W_p_HEx_h   = array(HEx.col_values(4)) "
   ]
  },
  {
   "cell_type": "markdown",
   "metadata": {},
   "source": [
    "def HEx_Power(m_f_HEx,W_T_HEx,W_f_HEx,W_p_HEx,Ec_HEx,m_f,ECr):\n",
    "    A = 0\n",
    "    B = 9\n",
    "    \n",
    "    for i in range(len(m_f_HEx)-1):\n",
    "        if np.round(m_f,4) == np.round(m_f_HEx[i],4) and np.round(m_f,4) < np.round(m_f_HEx[i+1],4):\n",
    "            B = i\n",
    "            #print(B)\n",
    "            break\n",
    "    print(B,m_f,m_f_HEx[B],m_f_HEx[B+1])\n",
    "    for i in range(B,0,-1):\n",
    "        if m_f_HEx[i] == m_f_HEx[B]:\n",
    "            A = i\n",
    "        else:\n",
    "            break\n",
    "    print(A,B,m_f_HEx[A],m_f_HEx[B])\n",
    "    C = len(Ec_HEx)-1\n",
    "    D = len(Ec_HEx)-1\n",
    "    for i in range(A,B):\n",
    "        print(i,C)\n",
    "        if abs(ECr-Ec_HEx[i]) < abs(ECr-Ec_HEx[C]) and ECr < Ec_HEx[i]:\n",
    "            C = i\n",
    "            #print('oic',C)\n",
    "    for i in range(B,A,-1):\n",
    "        print(i,D)\n",
    "        if abs(ECr-Ec_HEx[i]) < abs(ECr-Ec_HEx[D]) and ECr > Ec_HEx[i]:\n",
    "            D = i\n",
    "            #print('oid',D)\n",
    "    print(C,D,Ec_HEx[C],Ec_HEx[D])\n",
    "    W_T = W_T_HEx[C]+(W_T_HEx[D]-W_T_HEx[C])*(ECr - Ec_HEx[C])/(Ec_HEx[D] - Ec_HEx[C])\n",
    "    W_f = W_f_HEx[C]+(W_f_HEx[D]-W_f_HEx[C])*(ECr - Ec_HEx[C])/(Ec_HEx[D] - Ec_HEx[C])\n",
    "    W_p = W_p_HEx[C]+(W_p_HEx[D]-W_p_HEx[C])*(ECr - Ec_HEx[C])/(Ec_HEx[D] - Ec_HEx[C])          \n",
    "    return(W_T,W_f,W_p)"
   ]
  },
  {
   "cell_type": "code",
   "execution_count": 5,
   "metadata": {},
   "outputs": [],
   "source": [
    "def HEx_Power(m_f_HEx,W_T_HEx,W_f_HEx,W_p_HEx,Ec_HEx,m_f,ECr):\n",
    "    A = 0\n",
    "    B = 9\n",
    "    \n",
    "    for i in range(len(m_f_HEx)-1):\n",
    "        if np.round(m_f,4) == np.round(m_f_HEx[i],4) and np.round(m_f,4) < np.round(m_f_HEx[i+1],4):\n",
    "            B = i\n",
    "            #print(B)\n",
    "            break\n",
    "    #print(B,m_f,m_f_HEx[B],m_f_HEx[B+1])\n",
    "    for i in range(B,0,-1):\n",
    "        if m_f_HEx[i] == m_f_HEx[B]:\n",
    "            A = i\n",
    "        else:\n",
    "            break\n",
    "    #print(A,B,m_f_HEx[A],m_f_HEx[B])\n",
    "    C = len(Ec_HEx)-1\n",
    "    D = len(Ec_HEx)-1\n",
    "    Ref_C = 1\n",
    "    Ref_D = 0\n",
    "    for i in range(A,B):\n",
    "        #print(i,C)\n",
    "        if abs(ECr-Ec_HEx[i]) < abs(ECr-Ref_C) and ECr < Ref_C:\n",
    "            C = i\n",
    "            Ref_C = Ec_HEx[i]\n",
    "            #print('oic',C)\n",
    "    for i in range(B,A,-1):\n",
    "        #print(i,D)\n",
    "        if abs(ECr-Ec_HEx[i]) < abs(ECr-Ref_D) and ECr > Ref_D:\n",
    "            D = i\n",
    "            Ref_D = Ec_HEx[i]\n",
    "            #print('oid',D)\n",
    "    #print(C,D,Ec_HEx[C],Ec_HEx[D])\n",
    "    W_T = W_T_HEx[C]+(W_T_HEx[D]-W_T_HEx[C])*(ECr - Ec_HEx[C])/(Ec_HEx[D] - Ec_HEx[C])\n",
    "    W_f = W_f_HEx[C]+(W_f_HEx[D]-W_f_HEx[C])*(ECr - Ec_HEx[C])/(Ec_HEx[D] - Ec_HEx[C])\n",
    "    W_p = W_p_HEx[C]+(W_p_HEx[D]-W_p_HEx[C])*(ECr - Ec_HEx[C])/(Ec_HEx[D] - Ec_HEx[C])          \n",
    "    return(W_T,W_f,W_p)"
   ]
  },
  {
   "cell_type": "code",
   "execution_count": 93,
   "metadata": {},
   "outputs": [],
   "source": [
    "def Radius(X): \n",
    "    R2,R3,B,L_m,L_r,h = X\n",
    "    #return (1.41634776*(R2**-1.10684344)*(R3**2.08169412)*(B**0.74232364))\n",
    "    #return((B/((0.7390256*R2**1.49668268*R3**-2.71694101)*1.025343*np.exp(-33.1224/L_m)*(-6.66110174/32*(L_r/L_m)**3 + 2.67069441/12*(L_r/L_m)**2 - 0.50770413/4*(L_r/L_m) + 1.00892496)))**(1/1.23379933))\n",
    "    #return((B/((0.74794602381*R2**1.50307868*R3**-2.73422634)*1.025343*np.exp(-33.1224/L_m)*(-6.66110174/32*(L_r/L_m)**3 + 2.67069441/12*(L_r/L_m)**2 - 0.50770413/4*(L_r/L_m) + 1.00892496)))**(1/1.240075))\n",
    "    A1 = ((B/((0.74794602381*R2**1.50307868*R3**-2.73422634)*1.025343*np.exp(-33.1224/L_m)*(-6.66110174/32*(L_r/L_m)**3 + 2.67069441/12*(L_r/L_m)**2 - 0.50770413/4*(L_r/L_m) + 1.00892496)))**(1/1.240075))\n",
    "    #A2 = (B/((0.99497192*R2**1.55620764*R3**(-2.77937455))*np.exp(-0.92376442*(R3-R2)/L_m)*(h**0.08060702)*(-6.66110174/32*(L_r/L_m)**3 + 2.67069441/12*(L_r/L_m)**2 - 0.50770413/4*(L_r/L_m) + 1.00892496)))**(1/1.1223844)\n",
    "    A2 = (B/((1.71951251*R2**2.10853942*R3**(-3.7047729))*np.exp(-19.28562192/L_m)*(h**0.06469294)*(-6.66110174/32*(L_r/L_m)**3 + 2.67069441/12*(L_r/L_m)**2 - 0.50770413/4*(L_r/L_m) + 1.00892496)))**(1/1.38270461)\n",
    "    return(A2)"
   ]
  },
  {
   "cell_type": "code",
   "execution_count": 7,
   "metadata": {},
   "outputs": [],
   "source": [
    "def MagField(X,a,b,c,d,e,f):\n",
    "    R2,R3,R4,h,L,B_rem = X\n",
    "    return (a*(B_rem)*(R2**b)*(R3**c)*(R4**d)*(np.exp(e*(R3-R2)/L))*(h**f))"
   ]
  },
  {
   "cell_type": "code",
   "execution_count": 8,
   "metadata": {},
   "outputs": [],
   "source": [
    "def MField(X,a,b,c,d,e):\n",
    "    V_gap,V_mag,V_out,L,B_rem,R_4 = X\n",
    "    return (a*(B_rem)*((V_gap/V_mag)**b)*(np.exp(c*R_4/L))*(np.tanh(d*(V_out/V_mag))+e))"
   ]
  },
  {
   "cell_type": "code",
   "execution_count": 9,
   "metadata": {},
   "outputs": [],
   "source": [
    "def MField_2(X,a,b,c,d,e,f,g):\n",
    "    R2,R3,R4,L,B_rem,R5 = X\n",
    "    return (a*(B_rem)*(R2**b)*(R3**c)*(R4**d)*(np.exp(e*(R3-R2)/L))*(np.tanh(f*(R5**2-R4**2)/(R4**2-R3**2))+g))"
   ]
  },
  {
   "cell_type": "code",
   "execution_count": 10,
   "metadata": {},
   "outputs": [],
   "source": [
    "def Qc(X): \n",
    "    P1,P2,P3,P4,P5= X #Q_pas_CB,Q_act_CB,Q_span,W_mag,W_p\n",
    "    #return( 0.44774473*P1+0.69113695*P2-0.46543184*P3+0.02740828*P4-1.2412753 *P5)\n",
    "    #return(0.271043*P1+0.49653155*P2-0.28565907*P3+1*P4-1.13502211*P5)\n",
    "    return(0.66679759*P1+  0.8505155*P2 -0.6893551*P3 -0.94156247*P4-0.34938015*P5)"
   ]
  },
  {
   "cell_type": "code",
   "execution_count": 19,
   "metadata": {},
   "outputs": [],
   "source": [
    "def Qh(X): \n",
    "    P1,P2,P3,P4,P5= X\n",
    "    #return(0.46673225*P1+1.40322589*P2-0.49908018*P3+0.01575257*P4-0.68914607*P5)\n",
    "    #return(0.36735687*P1+1*P2-0.38713269*P3+1*P4-0.21881993*P5)\n",
    "    return(0.77855664*P1+ 1.44966907*P2 -0.80985607*P3+ 0.39133248*P4+  0.65808892*P5)"
   ]
  },
  {
   "cell_type": "code",
   "execution_count": 20,
   "metadata": {},
   "outputs": [],
   "source": [
    "def W_m(X):\n",
    "    P1,P2,P3 = X\n",
    "    #a = 0.00541105\n",
    "    #a = 0.00937193\n",
    "    a = 2.89392107e-03\n",
    "    \n",
    "    #b = -2.21029128\n",
    "    #b = -0.99809109\n",
    "    b = -3.14070133e+00\n",
    "    \n",
    "    #c = 2.84461382\n",
    "    #c = 4.33008264\n",
    "    c = 3.20699560e+00\n",
    "    \n",
    "    #d = 2.85861479\n",
    "    #d = 1.61088792\n",
    "    d = 3.81307556e+00\n",
    "    \n",
    "    return(a*P1**b*P2**c*P3**d )"
   ]
  },
  {
   "cell_type": "code",
   "execution_count": 21,
   "metadata": {},
   "outputs": [],
   "source": [
    "def W_Hex(X):\n",
    "    P1,P2 = X\n",
    "    return (a*P1**b + c*P2**d)"
   ]
  },
  {
   "cell_type": "code",
   "execution_count": 22,
   "metadata": {},
   "outputs": [],
   "source": [
    "def Prop_param(X):\n",
    "    T_c,T_h,B = X\n",
    "    C_H = 1.65161038/100*T_c+2.59946197*T_h-1.14324309*100*B\n",
    "    C_L = 10.16443738*T_c-5.32568341*T_h-0.71305997*B\n",
    "    dT_mg = -0.01057708*T_c+0.01163704*T_h+1.73509682*B\n",
    "    dT_dmg = -0.01229483*T_c+0.01376157*T_h+0.76454655*B\n",
    "    CdT_mg = -9.517569*T_c+11.49711993*T_h+820.04168503*B\n",
    "    CdT_dmg = 4.39480124*T_c-7.07931118/10*T_h+9.15928168*100*B\n",
    "    return(C_H,C_L,dT_mg,dT_dmg,CdT_mg,CdT_dmg)"
   ]
  },
  {
   "cell_type": "code",
   "execution_count": 23,
   "metadata": {},
   "outputs": [],
   "source": [
    "Data = xlrd.open_workbook('AMR_Inputs.xlsx') #Import inputs File\n",
    "Inputs = Data.sheet_by_name('Data') \n",
    "\n",
    "L   = array(Inputs.col_values(0)) #Import AMR Length [mm]\n",
    "H   = array(Inputs.col_values(1)) #Import AMR Height [mm]\n",
    "W   = array(Inputs.col_values(2)) #Import AMR Width [mm]\n",
    "T_c = array(Inputs.col_values(3))+273.15 #Import temperature span [K]\n",
    "T_h = array(Inputs.col_values(4))+273.15 #Import temperature span [K]\n",
    "B   = array(Inputs.col_values(5)) #Import magnetic field [T]\n",
    "f   = array(Inputs.col_values(6)) #Import frequency [Hz]\n",
    "m_f = array(Inputs.col_values(7))/3600 #Import mass flow rate [kg/h]\n",
    "Q_c = array(Inputs.col_values(8)) #Import Cooling capacity [W]\n",
    "Q_h = array(Inputs.col_values(9)) #Import Rejected heat [W]\n",
    "W_p = array(Inputs.col_values(10)) #Import Pumping power [W]\n",
    "W_ma = array(Inputs.col_values(11)) #Import Magnetic power [W]\n",
    "T_c_ml = array(Inputs.col_values(12))+273.15 #Import temperature span [K]\n",
    "T_h_ml = array(Inputs.col_values(13))+273.15 #Import temperature span [K]\n"
   ]
  },
  {
   "cell_type": "markdown",
   "metadata": {},
   "source": [
    "Calculation"
   ]
  },
  {
   "cell_type": "code",
   "execution_count": 637,
   "metadata": {},
   "outputs": [],
   "source": [
    "def Optimal(m_f,FE,f,L,H,W,B,Tc,Th,Tce,The,L_xt,h_f):\n",
    "    \n",
    "    ##Properties of the solid \n",
    "    #rho_s = 7900  #[kg/m3] Density of the solid\n",
    "    #k_s   = 8 #[W/(m2.K)] #Thermal conductivity of the solid\n",
    "\n",
    "    ## Propertis of the fluid\n",
    "    #rho_f = 1000  #[kg/m3] Density of the fluid\n",
    "    #c_f   = 4181  #[kJ/(kg.K)] # Specific heat of the fluid\n",
    "    #Pr_f  = 6.136 #[-] Prandtl of the fluid\n",
    "    #mu_f  = 0.00061 #0.0008901 #[kg/m-2] #Viscosity of the fluid\n",
    "    #k_f   = 0.6065  #[W/(m2.K)] #Thermal conductivity of the fluid\n",
    "\n",
    "    ## Porous medium\n",
    "    #d_p = 500*10**(-6) #[m] Particle diameter\n",
    "   \n",
    "    #Epsilon = 0.45 #0.55  #[-] Porosity\n",
    "    #Epsilon_dp = 0.36 #0.465 #[-] Porosity\n",
    "    d_ph = (2/3)*Epsilon_dp/(1-Epsilon_dp)*d_p #290*10**(-6) #[m] Particle diameter\n",
    "        \n",
    "    #Magnetic Circuit\n",
    "    #B_rem = 1.43\n",
    "    #N_p = 2\n",
    "    #N_Rp = 2\n",
    "    \n",
    "    ### CALCULATION ###\n",
    "    \n",
    "    #Porous medium\n",
    "    \n",
    "    t_h = 4\n",
    "    t_w = 2.5\n",
    "    N_reg = 4/FE\n",
    "    \n",
    "    #Regenerador Quadrad\n",
    "    R2 = [W/2+t_w]/np.tan(np.pi/N_reg)-t_h\n",
    "    R3 = np.sqrt((W/2)**2 + (R2+t_h+H)**2)+t_h\n",
    "    \n",
    "   \n",
    "    \n",
    "    #R_aux = np.sqrt((R2+t_h)**2-(W/2)**2)\n",
    "    #R3 = np.sqrt((H+8+R_aux)**2+(W/2)**2)\n",
    "    \n",
    "    #Regenerador Circular\n",
    "    \n",
    "    #R_med = (4/FE)/(2*np.pi)*(W + 2*t_w)\n",
    "    #R2 = R_med-(H/2+t_h)\n",
    "    #R3 = R_med+(H/2+t_h)\n",
    "    \n",
    "    #A_st = H*W\n",
    "    #A_aux_st = ((2*np.pi/(4/FE)-4*t_w/(R2+R3))/2)*((R3-t_h)**2-(R2+t_h)**2)\n",
    "    A_aux_st = (np.pi/(4/FE))*((R3-t_h)**2-(R2+t_h)**2) - 2*t_w*((R3-t_h)-(R2+t_h))\n",
    "    A_st = A_aux_st[0]\n",
    "    \n",
    "\n",
    "    m_s   = L*A_st*10**-9*(1-Epsilon)*rho_s #mass of the AMR\n",
    "\n",
    "    Beta = (1-Epsilon)*6/d_p\n",
    "    v_s   = (m_f)/(rho_f*A_st*10**-6) #Superficial velocity\n",
    "\n",
    "    #Dimensionless Numbers\n",
    "    Re_dp = d_p*v_s*rho_f/(mu_f) #Reynolds number\n",
    "    Nu = 2*(1+4*(1-Epsilon_dp)/Epsilon_dp)+((1-Epsilon_dp)**0.5)*Re_dp**0.6*Pr_f**(1/3) # Nusselt number\n",
    "    Pe = Re_dp*Pr_f\n",
    "    h_int = Nu*k_f/d_p\n",
    "    NTU_f  = h_int*Beta*(L*A_st*10**(-9))/(m_f*c_f) \n",
    "    #print(Re_dp)\n",
    "    #dP = (L/1000)*(150*(1-Epsilon_dp)**2*mu_f*v_s/(Epsilon_dp**3*d_p**2) + 1.75*(1-Epsilon_dp)*rho_f*v_s**2/(Epsilon_dp**3*d_p))\n",
    "    \n",
    "    dP = 0.5*413.11*(v_s*d_ph*rho_f/mu_f)**-0.514*rho_f*v_s**2*(L/1000)/d_ph\n",
    "    #print(dP/dP_1)\n",
    "    \n",
    "    #Effective conduction\n",
    "    #k_e_f = k_f*Epsilon #Fluid effective conduction\n",
    "\n",
    "    #a_0 = exp(-1.084-6.778*(Epsilon-0.298))\n",
    "    #f_0 = 0.8\n",
    "    #k_e_s = k_f*((1-a_0)*(Epsilon*f_0+(1-Epsilon*f_0)*k_s/k_f)/(1-Epsilon*(1-f_0)+k_s/k_f*Epsilon*(1-f_0))+a_0*(2*((k_s/k_f)**2)*(1-Epsilon)+(1+2*Epsilon)*k_s/k_f)/((2+Epsilon)*k_s/k_f+(1-Epsilon))) #Solid effective conduction\n",
    "\n",
    "    #D_ = (k_f*rho_f/c_f)*0.75*Pe/2\n",
    "\n",
    "    #k_s_eff = k_e_s\n",
    "    #k_f_eff = k_e_f + rho_f*c_f*D_\n",
    "    \n",
    "    ##### Properties Calculation ######   \n",
    "    C_H,C_L,dT_mg,dT_dmg,CdT_mg,CdT_dmg = Prop_param((Tce,The,B))\n",
    "\n",
    "    ##### Porous media effectivness #####\n",
    "\n",
    "    C_HB = ((m_f)*c_f)/(m_s*C_L*f)\n",
    "    C_CB = ((m_f)*c_f)/(m_s*C_H*f)\n",
    "\n",
    "    Efness_HB = Effectiv(C_HB/2,NTU_f)\n",
    "    Efness_CB = Effectiv(C_CB/2,NTU_f)\n",
    "\n",
    "    #print(Efness_HB,Efness_CB,h_int,Nu,v_s,Re_dp)\n",
    "\n",
    "\n",
    "    ## Metrics ##\n",
    "    Pi_4 = CdT_mg/CdT_dmg\n",
    "    Pi_6 = ((m_f)*c_f)/(m_s*C_L*f)\n",
    "    Pi_11 = ((m_f)*c_f)/(m_s*C_H*f)\n",
    "    \n",
    "    \n",
    "    Q_pas_CB = Efness_CB*(The - Tce)*m_f*FE*c_f\n",
    "    Q_act_CB = dT_mg*m_f*c_f*FE\n",
    "\n",
    "    Q_pas_HB = Efness_HB*(The - Tce)*m_f*FE*c_f\n",
    "    Q_act_HB = dT_dmg*m_f*c_f*FE\n",
    "\n",
    "    Q_span = (The - Tce)*m_f*c_f*FE\n",
    "    #Q_cond = ((1-Epsilon)*k_s_eff + Epsilon*k_f_eff)*(W*H*10**-6)*(The-Tce)/L\n",
    "    W_mag  = m_s*f*(CdT_mg - CdT_dmg)\n",
    "    W_mag = m_s*f*CdT_dmg*W_m((Pi_6,Pi_4,Pi_11))\n",
    "    W_pump = dP*m_f/rho_f*2*(FE)\n",
    "    #print(Q_pas_CB,Q_act_CB,Q_span,W_mag,W_pump)\n",
    "\n",
    "    ######Calculation#######\n",
    "    \n",
    "    FL = (0.45238549*(1+L_xt)**3-2.34797947*(1+L_xt)**2 +4.06737728*(1+L_xt)-1.44601011)*R2**-0.14716104*R3**(0.15172723)\n",
    "    \n",
    "    Qc_reg = Qc((Q_pas_CB,Q_act_CB,Q_span,W_mag,W_pump))*FL\n",
    "    Qh_reg = Qh((Q_pas_HB,Q_act_HB,Q_span,W_mag,W_pump))*FL\n",
    "    #print(Qc_reg,Qh_reg)\n",
    "    #N_reg = Qc_target/Qc_reg\n",
    "    Qc_target = Qc_reg*N_reg \n",
    "    Qh_target = Qh_reg*N_reg\n",
    "\n",
    "    ECr_c = Qc_target/(FE*N_reg*m_f*c_f*(Tc-Tce))\n",
    "    ECr_h = Qh_target/(FE*N_reg*m_f*c_f*(The-Th))\n",
    "    \n",
    "    B_rem = 1.43\n",
    "    \n",
    "\n",
    "    R4 = Radius((R2,R3,B/B_rem,L*(1+L_xt),L,h_f))\n",
    "    \n",
    "\n",
    "    \n",
    "    #print(m_s,f,CdT_dmg,((Pi_6,Pi_4,Pi_11)))\n",
    "    \n",
    "\n",
    "    \n",
    "    return (Qc_target,ECr_c,ECr_h,R4,R3,R2,W_mag,W_pump,Qh_target,L_xt,FL)"
   ]
  },
  {
   "cell_type": "code",
   "execution_count": 808,
   "metadata": {},
   "outputs": [
    {
     "data": {
      "text/plain": [
       "array([25, 30, 35, 40])"
      ]
     },
     "execution_count": 808,
     "metadata": {},
     "output_type": "execute_result"
    }
   ],
   "source": [
    "H"
   ]
  },
  {
   "cell_type": "code",
   "execution_count": 827,
   "metadata": {
    "scrolled": true
   },
   "outputs": [
    {
     "data": {
      "text/plain": [
       "[<matplotlib.lines.Line2D at 0x27e2be29e10>]"
      ]
     },
     "execution_count": 827,
     "metadata": {},
     "output_type": "execute_result"
    },
    {
     "data": {
      "image/png": "[encoded data removed]",
      "text/plain": [
       "<Figure size 432x288 with 1 Axes>"
      ]
     },
     "metadata": {
      "needs_background": "light"
     },
     "output_type": "display_data"
    }
   ],
   "source": [
    "plt.plot(dp_p,m_p,'x')"
   ]
  },
  {
   "cell_type": "code",
   "execution_count": 922,
   "metadata": {},
   "outputs": [],
   "source": [
    "m_f = np.arange(400,900,5)/3600\n",
    "FE  = np.arange(25/100,30/100,5/100) \n",
    "f = np.arange(1,1.1,0.5)\n",
    "L = np.arange(150,161,5)\n",
    "H = np.arange(35,38,2)\n",
    "W = np.arange(45,48,2)\n",
    "B_max = np.arange(1.36,1.37,0.05)\n",
    "Tce = np.arange(14,17,4)\n",
    "The = np.arange(43,47,4)\n",
    "L_xt = np.arange(0.1,0.38,0.07)\n",
    "d_par = np.arange(500*10**-6,501*10**-6,100*10**-6)\n",
    "h_f = np.arange(10,26,5)\n",
    "#d_par = [500*10**-6]"
   ]
  },
  {
   "cell_type": "code",
   "execution_count": 923,
   "metadata": {
    "scrolled": false
   },
   "outputs": [
    {
     "data": {
      "text/plain": [
       "192"
      ]
     },
     "execution_count": 923,
     "metadata": {},
     "output_type": "execute_result"
    }
   ],
   "source": [
    "len(FE)*len(f)*len(L)*len(H)*len(W)*len(Tce)*len(The)*len(B_max)*len(L_xt)*len(d_par)*len(h_f)"
   ]
  },
  {
   "cell_type": "code",
   "execution_count": 924,
   "metadata": {
    "scrolled": true
   },
   "outputs": [
    {
     "name": "stdout",
     "output_type": "stream",
     "text": [
      "2.0833333333333335\n",
      "4.166666666666667\n",
      "6.25\n",
      "8.333333333333334\n",
      "10.416666666666666\n",
      "12.5\n",
      "14.583333333333334\n",
      "16.666666666666668\n",
      "18.75\n",
      "20.833333333333332\n",
      "22.916666666666668\n",
      "25.0\n",
      "27.083333333333332\n",
      "29.166666666666668\n",
      "31.25\n",
      "33.333333333333336\n",
      "35.416666666666664\n",
      "37.5\n",
      "39.583333333333336\n",
      "41.666666666666664\n",
      "43.75\n",
      "45.833333333333336\n",
      "47.916666666666664\n",
      "50.0\n",
      "52.083333333333336\n",
      "54.166666666666664\n",
      "56.25\n",
      "58.333333333333336\n",
      "60.416666666666664\n",
      "62.5\n",
      "64.58333333333333\n",
      "66.66666666666667\n",
      "68.75\n",
      "70.83333333333333\n",
      "72.91666666666667\n",
      "75.0\n",
      "77.08333333333333\n",
      "79.16666666666667\n",
      "81.25\n",
      "83.33333333333333\n",
      "85.41666666666667\n",
      "87.5\n",
      "89.58333333333333\n",
      "91.66666666666667\n",
      "93.75\n",
      "95.83333333333333\n",
      "97.91666666666667\n",
      "100.0\n"
     ]
    }
   ],
   "source": [
    "Q_c = []\n",
    "cont = 0\n",
    "\n",
    "T_c = 22\n",
    "T_h = 35\n",
    "\n",
    "Q_c_target = 3100\n",
    "\n",
    "m_f_target = []\n",
    "FE_target = []\n",
    "f_target = []\n",
    "L_target = []\n",
    "H_target = []\n",
    "W_target = []\n",
    "Tce_target = []\n",
    "The_target = []\n",
    "ECr_c = []\n",
    "ECr_h = []\n",
    "R4 = []\n",
    "R3 = []\n",
    "R2 = []\n",
    "W_mag = []\n",
    "W_pump = []\n",
    "B_target = []\n",
    "Q_h = []\n",
    "L_xt_target = []\n",
    "FL_target = []\n",
    "dp_target = []\n",
    "hf_target = []\n",
    "\n",
    "##Properties of the solid \n",
    "rho_s = 7900  #[kg/m3] Density of the solid\n",
    "k_s   = 8 #[W/(m2.K)] #Thermal conductivity of the solid\n",
    "\n",
    "## Propertis of the fluid\n",
    "rho_f = 1000  #[kg/m3] Density of the fluid\n",
    "c_f   = 4181  #[kJ/(kg.K)] # Specific heat of the fluid\n",
    "Pr_f  = 6.136 #[-] Prandtl of the fluid\n",
    "mu_f  = 0.00061 #0.0008901 #[kg/m-2] #Viscosity of the fluid\n",
    "k_f   = 0.6065  #[W/(m2.K)] #Thermal conductivity of the fluid\n",
    "\n",
    "## Porous medium\n",
    "\n",
    "\n",
    "#Magnetic Circuit\n",
    "B_rem = 1.43\n",
    "N_p = 2\n",
    "N_Rp = 2\n",
    "\n",
    "for i in range(size(FE)):\n",
    "    for j in range(len(f)):\n",
    "        for k in range(len(L)):\n",
    "            for l in range(len(H)):\n",
    "                for m in range(len(W)):\n",
    "                    for n in range(len(Tce)):\n",
    "                        for o in range(len(The)):\n",
    "                            for p in range(len(B_max)):\n",
    "                                for q in range(len(L_xt)):\n",
    "                                    for r in range(len(d_par)):\n",
    "                                        for s in range(len(h_f)):\n",
    "                                            it = 0\n",
    "                                            Q_c_system = 0\n",
    "\n",
    "                                            d_p = d_par[r] #[m] Particle diameter\n",
    "\n",
    "                                            Epsilon = 0.5 #0.55  #[-] Porosity\n",
    "                                            Epsilon_ep = 0.09\n",
    "                                            Epsilon_dp = Epsilon - Epsilon_ep #0.36 #0.465 #[-] Porosity\n",
    "                                            d_ph = (2/3)*Epsilon_dp/(1-Epsilon_dp)*d_p #290*10**(-6) #[m] Particle diameter\n",
    "                                            #h_f = 40\n",
    "\n",
    "                                            while Q_c_system < Q_c_target and it < len(m_f):\n",
    "                                                A,B,C,D,E,F,G,A1,A2,A3,A4 = Optimal(m_f[it],FE[i],f[j],L[k],H[l],W[m],B_max[p],T_c+273.15,T_h+273.15,Tce[n]+273.15,The[o]+273.15,L_xt[q],h_f[s])\n",
    "                                                Q_c_system = A[0]\n",
    "                                                it = it + 1\n",
    "                                                #print(A,B,C,D,E,F,G,A1,A2,A3)\n",
    "                                                #print(m_f[it-1]*3600,Q_c_system )\n",
    "                                            #print(it,Q_c_system)\n",
    "                                            if Q_c_system > Q_c_target:\n",
    "                                                Q_c.append(Q_c_system)\n",
    "                                                m_f_target.append(3600*m_f[it-1])\n",
    "                                                FE_target.append(FE[i])\n",
    "                                                f_target.append(f[j])\n",
    "                                                L_target.append(L[k])\n",
    "                                                H_target.append(H[l])\n",
    "                                                W_target.append(W[m])\n",
    "                                                Tce_target.append(Tce[n])\n",
    "                                                The_target.append(The[o])\n",
    "                                                B_target.append(B_max[p])\n",
    "                                                dp_target.append(d_p)\n",
    "                                                hf_target.append(h_f[s])\n",
    "                                                \n",
    "                                                \n",
    "                                                ECr_c.append(B[0])\n",
    "                                                ECr_h.append(C[0])\n",
    "                                                R4.append(D[0])\n",
    "                                                R3.append(E[0])\n",
    "                                                R2.append(F[0])\n",
    "                                                W_mag.append(G)\n",
    "                                                W_pump.append(A1)\n",
    "                                                Q_h.append(A2[0])\n",
    "                                                L_xt_target.append(A3)\n",
    "                                                FL_target.append(A4)\n",
    "\n",
    "                                            cont = cont+1\n",
    "                                    print(100*cont/(len(FE)*len(f)*len(L)*len(H)*len(W)*len(Tce)*len(The)*len(B_max)*len(L_xt)*len(d_par)*len(h_f)))\n"
   ]
  },
  {
   "cell_type": "code",
   "execution_count": 925,
   "metadata": {},
   "outputs": [
    {
     "data": {
      "text/plain": [
       "[0.1534460449045946,\n",
       " 0.17851077706406712,\n",
       " 0.19239476758264334,\n",
       " 0.17950298501373704,\n",
       " 0.17987827243426968,\n",
       " 0.19200389889772038,\n",
       " 0.17256077393837319,\n",
       " 0.19591282749623792,\n",
       " 0.1860860933812106,\n",
       " 0.1712489425005801,\n",
       " 0.1888689480369255,\n",
       " 0.18115624936537258,\n",
       " 0.19241084872798872,\n",
       " 0.19015059366886,\n",
       " 0.18393706477545124,\n",
       " 0.20153145609862322,\n",
       " 0.1781814171330469,\n",
       " 0.18946443004846814,\n",
       " 0.20433226109492839]"
      ]
     },
     "execution_count": 925,
     "metadata": {},
     "output_type": "execute_result"
    }
   ],
   "source": [
    "ECrc_p"
   ]
  },
  {
   "cell_type": "code",
   "execution_count": 926,
   "metadata": {},
   "outputs": [
    {
     "data": {
      "text/plain": [
       "(100.02777243147094, 98.34088877979377, 1.6868836516771581)"
      ]
     },
     "execution_count": 926,
     "metadata": {},
     "output_type": "execute_result"
    }
   ],
   "source": [
    "HEx_Power(m_f_HEx_c,W_T_HEx_c,W_f_HEx_c,W_p_HEx_c,Ec_HEx_c,4*m_f_p[0]/N_circ_cold,ECrc_p[i])"
   ]
  },
  {
   "cell_type": "code",
   "execution_count": 927,
   "metadata": {
    "scrolled": true
   },
   "outputs": [
    {
     "name": "stdout",
     "output_type": "stream",
     "text": [
      "0.0\n",
      "2.272727272727273\n",
      "4.545454545454546\n",
      "6.8181818181818175\n",
      "9.090909090909092\n",
      "11.363636363636363\n",
      "13.636363636363635\n",
      "15.909090909090908\n",
      "18.181818181818183\n",
      "20.454545454545457\n",
      "22.727272727272727\n",
      "25.0\n",
      "27.27272727272727\n",
      "29.545454545454547\n",
      "31.818181818181817\n",
      "34.090909090909086\n",
      "36.36363636363637\n",
      "38.63636363636363\n",
      "40.909090909090914\n",
      "43.18181818181818\n",
      "45.45454545454545\n",
      "47.72727272727273\n",
      "50.0\n",
      "52.27272727272727\n",
      "54.54545454545454\n",
      "56.81818181818182\n",
      "59.09090909090909\n",
      "61.36363636363637\n",
      "63.63636363636363\n",
      "65.9090909090909\n",
      "68.18181818181817\n",
      "70.45454545454545\n",
      "72.72727272727273\n",
      "75.0\n",
      "77.27272727272727\n",
      "79.54545454545455\n",
      "81.81818181818183\n",
      "84.0909090909091\n",
      "86.36363636363636\n",
      "88.63636363636364\n",
      "90.9090909090909\n",
      "93.18181818181817\n",
      "95.45454545454545\n",
      "97.72727272727273\n"
     ]
    }
   ],
   "source": [
    "N_circ_cold = 7\n",
    "N_circ_hot = 8\n",
    "\n",
    "W_FT_c = np.zeros(len(m_f_target))\n",
    "W_Ff_c = np.zeros(len(m_f_target))\n",
    "W_Fp_c = np.zeros(len(m_f_target))\n",
    "\n",
    "W_FT_h = np.zeros(len(m_f_target))\n",
    "W_Ff_h = np.zeros(len(m_f_target))\n",
    "W_Fp_h = np.zeros(len(m_f_target))\n",
    "\n",
    "\n",
    "for i in range(len(m_f_target)):\n",
    "    print(i/len(m_f_target)*100)\n",
    "    [W_FT_c[i],W_Ff_c[i],W_Fp_c[i]] = HEx_Power(m_f_HEx_c,W_T_HEx_c,W_f_HEx_c,W_p_HEx_c,Ec_HEx_c,4*m_f_target[i]/N_circ_cold,ECr_c[i])\n",
    "    [W_FT_h[i],W_Ff_h[i],W_Fp_h[i]] = HEx_Power(m_f_HEx_h,W_T_HEx_h,W_f_HEx_h,W_p_HEx_h,Ec_HEx_h,4*m_f_target[i]/N_circ_hot,ECr_h[i])\n",
    "    #if W_FT_c[i] == 'Nan':\n",
    "        #print(4*m_f_target[i]/8,ECr_c[i])\n",
    "    #if W_FT_c[i] == 'Nan':\n",
    "        #print(4*m_f_target[i]/8,ECr_h[i])"
   ]
  },
  {
   "cell_type": "code",
   "execution_count": 928,
   "metadata": {},
   "outputs": [],
   "source": [
    "W_p_valve = (2*np.array(m_f_target)/4/1000)**2*10**5**(2*np.array(m_f_target)/3600)/1000*4/np.array(FE_target)\n",
    "W_valve   = 8*16"
   ]
  },
  {
   "cell_type": "code",
   "execution_count": 929,
   "metadata": {},
   "outputs": [],
   "source": [
    "m_La = (np.pi*((np.array(R3)-t_h)**2-(np.array(R2)+t_h)**2)- 2*t_w*((np.array(R3)-t_h)-(np.array(R2)+t_h)))*np.array(L_target)*(1-Epsilon)*7000*10**-9"
   ]
  },
  {
   "cell_type": "code",
   "execution_count": 930,
   "metadata": {},
   "outputs": [
    {
     "data": {
      "text/plain": [
       "(array([19.12215779, 19.12215779, 19.12215779, 19.12215779, 19.04712039,\n",
       "        19.04712039, 19.04712039, 19.04712039, 19.75956305, 19.75956305,\n",
       "        19.75956305, 19.75956305, 19.75956305, 19.75956305, 19.75956305,\n",
       "        19.75956305, 19.22379629, 19.22379629, 19.22379629, 19.22379629,\n",
       "        19.22379629, 19.22379629, 19.22379629, 19.22379629, 19.66154363,\n",
       "        19.66154363, 19.66154363, 19.66154363, 19.66154363, 19.66154363,\n",
       "        19.66154363, 19.66154363, 20.39696831, 20.39696831, 20.39696831,\n",
       "        20.39696831, 20.39696831, 20.39696831, 20.39696831, 20.39696831,\n",
       "        20.39696831, 20.39696831, 20.39696831, 20.39696831]),\n",
       " array([0.10142588, 0.10142588, 0.10142588, 0.10142588, 0.10456298,\n",
       "        0.10456298, 0.10456298, 0.10456298, 0.10480675, 0.10480675,\n",
       "        0.10480675, 0.10480675, 0.10480675, 0.10480675, 0.10480675,\n",
       "        0.10480675, 0.10264243, 0.10264243, 0.10264243, 0.10264243,\n",
       "        0.10264243, 0.10264243, 0.10264243, 0.10264243, 0.10793598,\n",
       "        0.10793598, 0.10793598, 0.10793598, 0.10793598, 0.10793598,\n",
       "        0.10793598, 0.10793598, 0.10818761, 0.10818761, 0.10818761,\n",
       "        0.10818761, 0.10818761, 0.10818761, 0.10818761, 0.10818761,\n",
       "        0.10818761, 0.10818761, 0.10818761, 0.10818761]))"
      ]
     },
     "execution_count": 930,
     "metadata": {},
     "output_type": "execute_result"
    }
   ],
   "source": [
    "(np.pi*((np.array(R3)-t_h)**2-(np.array(R2)+t_h)**2))*np.array(L_target)*(1-Epsilon)*7000*10**-9,2*t_w*((np.array(R3)-t_h)-(np.array(R2)+t_h))*np.array(L_target)*(1-Epsilon)*7000*10**-9"
   ]
  },
  {
   "cell_type": "code",
   "execution_count": 931,
   "metadata": {
    "scrolled": true
   },
   "outputs": [],
   "source": [
    "t_h = 4\n",
    "t_w = 2.5\n",
    "\n",
    "m_La = (np.pi*((np.array(R3)-t_h)**2-(np.array(R2)+t_h)**2)- 16*(2*t_w)*((np.array(R3)-t_h)-(np.array(R2)+t_h)))*np.array(L_target)*(1-Epsilon)*7000*10**-9\n",
    "m_Rt = np.pi*((np.array(R4))**2-np.array(R3)**2)*10**-6*((1+np.array(L_xt_target))*np.array(L_target)/1000)*7500 #25**2\n",
    "m_St = np.pi*((np.array(R2)**2))*10**-6*((1+np.array(L_xt_target))*np.array(L_target)/1000)*7500\n",
    "m_Fe = np.pi*((np.array(R4)+hf_target)**2-np.array(R4)**2)*10**-6*((1+np.array(L_xt_target))*np.array(L_target)/1000)*7500 #25**2\n",
    "m_Nd = m_Rt + m_St + m_Fe\n",
    "m_w  = (4/np.array(FE_target)*np.array(H_target)*np.array(W_target)*np.array(L_target)*(Epsilon_dp)*1000*10**-9)"
   ]
  },
  {
   "cell_type": "code",
   "execution_count": 932,
   "metadata": {},
   "outputs": [],
   "source": [
    "m_T = m_La + m_Rt + m_St + m_Fe + m_w\n",
    "W_T = W_Ff_c + W_Ff_h + W_Fp_c + W_Fp_h +np.array(W_mag)*16 + np.array(W_pump)*16+ W_valve + W_p_valve"
   ]
  },
  {
   "cell_type": "code",
   "execution_count": 933,
   "metadata": {
    "scrolled": true
   },
   "outputs": [
    {
     "name": "stdout",
     "output_type": "stream",
     "text": [
      "0.0\n",
      "0.022727272727272728\n",
      "0.045454545454545456\n",
      "0.06818181818181818\n",
      "0.09090909090909091\n",
      "0.11363636363636363\n",
      "0.13636363636363635\n",
      "0.1590909090909091\n",
      "0.18181818181818182\n",
      "0.20454545454545456\n",
      "0.22727272727272727\n",
      "0.25\n",
      "0.2727272727272727\n",
      "0.29545454545454547\n",
      "0.3181818181818182\n",
      "0.3409090909090909\n",
      "0.36363636363636365\n",
      "0.38636363636363635\n",
      "0.4090909090909091\n",
      "0.4318181818181818\n",
      "0.45454545454545453\n",
      "0.4772727272727273\n",
      "0.5\n",
      "0.5227272727272727\n",
      "0.5454545454545454\n",
      "0.5681818181818182\n",
      "0.5909090909090909\n",
      "0.6136363636363636\n",
      "0.6363636363636364\n",
      "0.6590909090909091\n",
      "0.6818181818181818\n",
      "0.7045454545454546\n",
      "0.7272727272727273\n",
      "0.75\n",
      "0.7727272727272727\n",
      "0.7954545454545454\n",
      "0.8181818181818182\n",
      "0.8409090909090909\n",
      "0.8636363636363636\n",
      "0.8863636363636364\n",
      "0.9090909090909091\n",
      "0.9318181818181818\n",
      "0.9545454545454546\n",
      "0.9772727272727273\n"
     ]
    }
   ],
   "source": [
    "m_p = []\n",
    "W_pa =[]\n",
    "\n",
    "m_Nd_p = []\n",
    "m_La_p = []\n",
    "m_w_p = []\n",
    "\n",
    "W_p_CHEx_p = []\n",
    "W_p_CHEx_f = []\n",
    "W_p_HHEx_p = []\n",
    "W_p_HHEx_f = []\n",
    "W_p_mag = []\n",
    "W_p_pump = []\n",
    "W_pa_valve = []\n",
    "W_pa_p_valve = []\n",
    "\n",
    "\n",
    "m_f_p = []\n",
    "FE_p  =[]\n",
    "f_p = []\n",
    "L_p = []\n",
    "H_p = []\n",
    "W_p = []\n",
    "B_max_p = []\n",
    "Tce_p = []\n",
    "The_p = []\n",
    "dp_p = []\n",
    "ECrc_p = []\n",
    "ECrh_p = []\n",
    "Qh_p = []\n",
    "\n",
    "R2_p = []\n",
    "R3_p = []\n",
    "R4_p = []\n",
    "hf_p = []\n",
    "L_xt_p = []\n",
    "\n",
    "\n",
    "for i in range(len(m_T)):\n",
    "    print(i/len(m_T))\n",
    "    A = 0\n",
    "    for j in  range(len(m_T)):\n",
    "        if (m_T[i] >= m_T[j] and W_T[i] > W_T[j]) or (m_T[i] > m_T[j] and W_T[i] >= W_T[j]):\n",
    "            A = 1\n",
    "    if A == 0 :\n",
    "        #print(m_T[i],W_T[i])\n",
    "        m_p.append(m_T[i])\n",
    "        m_Nd_p.append(m_Nd[i])\n",
    "        m_La_p.append(m_La[i])\n",
    "        m_w_p.append(m_w[i])\n",
    "        \n",
    "        m_f_p.append(m_f_target[i])\n",
    "        FE_p.append(FE_target[i])\n",
    "        f_p.append(f_target[i])\n",
    "        L_p.append(L_target[i])\n",
    "        H_p.append(H_target[i])\n",
    "        W_p.append(W_target[i])\n",
    "        B_max_p.append(B_target[i])\n",
    "        Tce_p.append(Tce_target[i])\n",
    "        The_p.append(The_target[i])\n",
    "        dp_p.append(dp_target[i])\n",
    "        \n",
    "        ECrc_p.append(ECr_c[i])\n",
    "        ECrh_p.append(ECr_h[i])\n",
    "        Qh_p.append(Q_h[i])\n",
    "        \n",
    "        R2_p.append(R2[i])\n",
    "        R3_p.append(R3[i])\n",
    "        R4_p.append(R4[i])\n",
    "        L_xt_p.append(L_xt_target[i])\n",
    "        hf_p.append(hf_target[i])\n",
    "        #A = Optimal(m_f_target[i]/3600,FE_target[i],f_target[i],L_target[i],H_target[i],W_target[i],B_target[i],T_c+273.15,T_h+273.15,Tce_target[i]+273.15,The_target[i]+273.15,L_xt_target[i])\n",
    "        #print(A[0],m_f_target[i],FE_target[i],f_target[i],L_target[i],H_target[i],W_target[i],B_target[i],T_c+273.15,T_h+273.15,Tce_target[i]+273.15,The_target[i]+273.15,L_xt_target[i])\n",
    "        \n",
    "        W_pa.append(W_T[i])\n",
    "        W_p_CHEx_p.append(W_Fp_c[i])\n",
    "        W_p_CHEx_f.append(W_Ff_c[i])\n",
    "        W_p_HHEx_p.append(W_Fp_h[i])\n",
    "        W_p_HHEx_f.append(W_Ff_h[i])\n",
    "        W_p_mag.append(np.array(W_mag[i])*4/np.array(FE_target[i]))\n",
    "        W_p_pump.append(np.array(W_pump[i])*4/np.array(FE_target[i]))\n",
    "        W_pa_valve.append(W_valve)\n",
    "        W_pa_p_valve.append(W_p_valve[i])   "
   ]
  },
  {
   "cell_type": "code",
   "execution_count": null,
   "metadata": {},
   "outputs": [],
   "source": []
  },
  {
   "cell_type": "code",
   "execution_count": 935,
   "metadata": {
    "scrolled": true
   },
   "outputs": [],
   "source": [
    "workbook = xlsxwriter.Workbook('Optimization_2.xlsx')\n",
    "Data = workbook.add_worksheet('Data')\n",
    "\n",
    "for i in range(len(m_f_p)):\n",
    "    Data.write(i,0,m_f_p[i]) \n",
    "    Data.write(i,1,FE_p[i])\n",
    "    Data.write(i,2,f_p[i])\n",
    "    Data.write(i,3,L_p[i])\n",
    "    Data.write(i,4,H_p[i])\n",
    "    Data.write(i,5,W_p[i]) \n",
    "    Data.write(i,6,B_max_p[i])\n",
    "    Data.write(i,7,Tce_p[i])\n",
    "    Data.write(i,8,The_p[i])\n",
    "    Data.write(i,9,m_p[i])\n",
    "    Data.write(i,10,m_Nd_p[i])\n",
    "    Data.write(i,11,m_La_p[i])\n",
    "    Data.write(i,12,m_w_p[i])\n",
    "    Data.write(i,13,W_pa[i])\n",
    "    Data.write(i,14,W_p_CHEx_p[i])\n",
    "    Data.write(i,15,W_p_CHEx_f[i])\n",
    "    Data.write(i,16,W_p_HHEx_p[i])\n",
    "    Data.write(i,17,W_p_HHEx_f[i])\n",
    "    Data.write(i,18,W_p_mag[i])\n",
    "    Data.write(i,19,W_p_pump[i])\n",
    "    Data.write(i,20,R2_p[i])\n",
    "    Data.write(i,21,R3_p[i])\n",
    "    Data.write(i,22,R4_p[i])\n",
    "    Data.write(i,23,L_xt_p[i])\n",
    "    Data.write(i,24,hf_p[i])\n",
    "    Data.write(i,25,ECrc_p[i])\n",
    "    Data.write(i,26,ECrh_p[i])\n",
    "    Data.write(i,27,Qh_p[i])\n",
    "    \n",
    "workbook.close()"
   ]
  },
  {
   "cell_type": "code",
   "execution_count": 917,
   "metadata": {
    "scrolled": true
   },
   "outputs": [
    {
     "data": {
      "image/png": "[encoded data removed]",
      "text/plain": [
       "<Figure size 432x288 with 1 Axes>"
      ]
     },
     "metadata": {
      "needs_background": "light"
     },
     "output_type": "display_data"
    }
   ],
   "source": [
    "plt.plot(m_T,W_T,'.')\n",
    "plt.plot(m_p,W_pa,'X')\n",
    "plt.grid()\n",
    "plt.xlabel('Mass [kg]')\n",
    "plt.ylabel('Power [W]')\n",
    "#plt.ylim(1100,1300)\n",
    "#plt.xlim(700,750)\n",
    "plt.savefig('Optimum_red_2Hz.png',format = 'png', dpi=500,bbox_inches='tight')"
   ]
  },
  {
   "cell_type": "code",
   "execution_count": 918,
   "metadata": {},
   "outputs": [
    {
     "data": {
      "text/plain": [
       "[<matplotlib.lines.Line2D at 0x27e2cfad5c0>]"
      ]
     },
     "execution_count": 918,
     "metadata": {},
     "output_type": "execute_result"
    },
    {
     "data": {
      "image/png": "[encoded data removed]",
      "text/plain": [
       "<Figure size 432x288 with 1 Axes>"
      ]
     },
     "metadata": {
      "needs_background": "light"
     },
     "output_type": "display_data"
    }
   ],
   "source": [
    "#plt.plot(m_T,m_La,'.')\n",
    "plt.plot(H_p,m_p,'X')"
   ]
  },
  {
   "cell_type": "code",
   "execution_count": 852,
   "metadata": {},
   "outputs": [
    {
     "data": {
      "text/plain": [
       "[<matplotlib.lines.Line2D at 0x27e2b7f7240>]"
      ]
     },
     "execution_count": 852,
     "metadata": {},
     "output_type": "execute_result"
    },
    {
     "data": {
      "image/png": "[encoded data removed]",
      "text/plain": [
       "<Figure size 432x288 with 1 Axes>"
      ]
     },
     "metadata": {
      "needs_background": "light"
     },
     "output_type": "display_data"
    }
   ],
   "source": [
    "plt.plot(R4_p,m_p,'x')"
   ]
  },
  {
   "cell_type": "code",
   "execution_count": 715,
   "metadata": {},
   "outputs": [],
   "source": [
    "Q_c_new = [[] for i in range(len(m_p))]\n",
    "m_flow_new = [[] for i in range(len(m_p))]\n",
    "\n",
    "\n",
    "for i in range(len(m_p)):\n",
    "    m_flow = np.arange(m_f_p[i]+5,1200,5)\n",
    "    #print(m_f_p[i])\n",
    "    for j in range(len(m_flow)):\n",
    "        A = Optimal(m_flow[j]/3600,FE_p[i],f_p[i],L_p[i],H_p[i],W_p[i],B_max_p[i],22+273.15,35+273.15,Tce_p[i]+273.15,The_p[i]+273.15,L_xt_p[i],hf_p[i])\n",
    "        #print(m_flow[j],A[0],i,j,FE_p[i],f_p[i],L_p[i],H_p[i],W_p[i],B_max_p[i],22+273.15,35+273.15,Tce_p[i],The_p[i],L_xt_p[i])\n",
    "        Q_c_new[i].append(A[0])\n",
    "        m_flow_new[i].append(m_flow[j])"
   ]
  },
  {
   "cell_type": "code",
   "execution_count": 716,
   "metadata": {},
   "outputs": [
    {
     "data": {
      "image/png": "[encoded data removed]",
      "text/plain": [
       "<Figure size 432x288 with 1 Axes>"
      ]
     },
     "metadata": {
      "needs_background": "light"
     },
     "output_type": "display_data"
    }
   ],
   "source": [
    "for i in range(len(m_p)):\n",
    "    plt.plot(m_flow_new[i],Q_c_new[i],'-.')\n",
    "#plt.ylim(2900,4700)\n",
    "plt.grid()\n",
    "#plt.legend()\n",
    "plt.xlabel(r'$\\dot{m}_\\mathrm{f}$ [kg/h]')\n",
    "plt.ylabel(r'$\\dot{Q}_\\mathrm{C}$ [W]')\n",
    "plt.savefig('Extra.png',format = 'png', dpi=1000,bbox_inches='tight')"
   ]
  },
  {
   "cell_type": "code",
   "execution_count": 717,
   "metadata": {
    "scrolled": true
   },
   "outputs": [
    {
     "data": {
      "image/png": "[encoded data removed]",
      "text/plain": [
       "<Figure size 432x288 with 1 Axes>"
      ]
     },
     "metadata": {
      "needs_background": "light"
     },
     "output_type": "display_data"
    }
   ],
   "source": [
    "width = 2\n",
    "plt.grid(zorder = 0)\n",
    "plt.bar(m_p,W_p_CHEx_p, width, label = 'CHEx - In',zorder = 3)\n",
    "plt.bar(m_p,W_p_HHEx_f, width, bottom = W_p_CHEx_p, label = 'CHEx - Out',zorder = 3)\n",
    "plt.bar(m_p,W_p_HHEx_p, width, bottom = np.array(W_p_CHEx_p) + np.array(W_p_HHEx_f), label = 'HHEx - In',zorder = 3)\n",
    "plt.bar(m_p,W_p_HHEx_f, width, bottom = np.array(W_p_CHEx_p) + np.array(W_p_HHEx_f)+ np.array(W_p_HHEx_p), label = 'HHEx - Out',zorder = 3)\n",
    "plt.bar(m_p,W_p_mag, width, bottom = np.array(W_p_CHEx_p) + np.array(W_p_HHEx_f)+ np.array(W_p_HHEx_p)+ np.array(W_p_HHEx_f), label = 'AMR - Magnetic',zorder = 3)\n",
    "plt.bar(m_p,W_p_pump, width, bottom = np.array(W_p_CHEx_p) + np.array(W_p_HHEx_f)+ np.array(W_p_HHEx_p)+ np.array(W_p_HHEx_f)+ np.array(W_p_mag) , label = 'AMR - Pumping',zorder = 3)\n",
    "plt.bar(m_p,W_pa_valve, width, bottom = np.array(W_p_CHEx_p) + np.array(W_p_HHEx_f)+ np.array(W_p_HHEx_p)+ np.array(W_p_HHEx_f) + np.array(W_p_mag) + np.array(W_p_pump) , label = 'Valve - Actuation',zorder = 3)\n",
    "plt.bar(m_p,W_pa_p_valve, width, bottom = np.array(W_p_CHEx_p) + np.array(W_p_HHEx_f)+ np.array(W_p_HHEx_p)+ np.array(W_p_HHEx_f)+ np.array(W_p_mag) + np.array(W_p_pump)+ np.array(W_pa_valve), label = 'Valve - Pumping',zorder = 3)\n",
    "\n",
    "#plt.xlim([575,865])\n",
    "plt.xlabel('Mass [kg]')\n",
    "plt.ylabel('Power [W]')\n",
    "plt.legend(bbox_to_anchor = (1,1))\n",
    "plt.savefig('Power_Breakdown.png',format = 'png', dpi=500,bbox_inches='tight')"
   ]
  },
  {
   "cell_type": "code",
   "execution_count": 722,
   "metadata": {
    "scrolled": true
   },
   "outputs": [],
   "source": [
    "m_La_p = np.pi*(np.array(R3_p)**2-np.array(R2_p)**2)*np.array(L_p)*(1-Epsilon)*7000*10**-9\n",
    "m_Rt_p = np.pi*((np.array(R4_p))**2-np.array(R3_p)**2)*10**-6*((1+np.array(L_xt_p))*np.array(L_p)/1000)*7500 #25**2\n",
    "m_St_p = np.pi*((np.array(R2_p)**2))*10**-6*((1+np.array(L_xt_p))*np.array(L_p)/1000)*7500\n",
    "m_Fe_p = np.pi*((np.array(R4_p)+np.array(hf_p))**2-np.array(R4_p)**2)*10**-6*((1+np.array(L_xt_p))*np.array(L_p)/1000)*7500 #25**2 \n"
   ]
  },
  {
   "cell_type": "code",
   "execution_count": 723,
   "metadata": {
    "scrolled": true
   },
   "outputs": [
    {
     "data": {
      "image/png": "[encoded data removed]",
      "text/plain": [
       "<Figure size 432x288 with 1 Axes>"
      ]
     },
     "metadata": {
      "needs_background": "light"
     },
     "output_type": "display_data"
    }
   ],
   "source": [
    "width = 5\n",
    "plt.grid(zorder = 0)\n",
    "plt.bar(W_pa,m_La_p, width, label = 'La',zorder = 3)\n",
    "plt.bar(W_pa,m_St_p, width,bottom = m_La_p, label = 'Stator',zorder = 3)\n",
    "plt.bar(W_pa,m_Rt_p, width,bottom = np.array(m_La_p) + np.array(m_St_p), label = 'Rotor',zorder = 3)\n",
    "plt.bar(W_pa,m_Fe_p, width,bottom = np.array(m_La_p) + np.array(m_St_p)+ np.array(m_Rt_p), label = 'Fe (10 mm)',zorder = 3)\n",
    "#plt.bar(W_pa,m_Fe_p_80, width,bottom = np.array(m_La_p) + np.array(m_St_p)+ np.array(m_Rt_p)+ np.array(m_Fe_p_10)+ np.array(m_Fe_p_20)+ np.array(m_Fe_p_40), label = 'Fe (80 mm)',zorder = 3)\n",
    "plt.legend( bbox_to_anchor=[1, 1])\n",
    "plt.ylabel('Mass [kg]')\n",
    "plt.xlabel('Power [W]')\n",
    "#plt.xlim(870,1300)\n",
    "#plt.ylim(0,1050)\n",
    "plt.savefig('Mass_Breakdown.png',format = 'png', dpi=500,bbox_inches='tight')"
   ]
  },
  {
   "cell_type": "code",
   "execution_count": null,
   "metadata": {},
   "outputs": [],
   "source": []
  }
 ],
 "metadata": {
  "kernelspec": {
   "display_name": "Python 3",
   "language": "python",
   "name": "python3"
  },
  "language_info": {
   "codemirror_mode": {
    "name": "ipython",
    "version": 3
   },
   "file_extension": ".py",
   "mimetype": "text/x-python",
   "name": "python",
   "nbconvert_exporter": "python",
   "pygments_lexer": "ipython3",
   "version": "3.7.3"
  }
 },
 "nbformat": 4,
 "nbformat_minor": 2
}
