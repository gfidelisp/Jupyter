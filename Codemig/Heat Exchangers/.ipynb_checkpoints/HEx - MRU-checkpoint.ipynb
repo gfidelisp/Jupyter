{
 "cells": [
  {
   "cell_type": "code",
   "execution_count": 4,
   "metadata": {},
   "outputs": [],
   "source": [
    "import numpy as np\n",
    "import matplotlib.pyplot as plt\n",
    "import math\n",
    "import scipy as sp\n",
    "from matplotlib import *\n",
    "from __future__ import division"
   ]
  },
  {
   "cell_type": "code",
   "execution_count": 5,
   "metadata": {},
   "outputs": [],
   "source": [
    "mpl_params = {'text.usetex': True,\n",
    "              'font.family': 'serif',\n",
    "              'font.serif': 'Computer Modern',\n",
    "              'text.latex.preamble': [r'\\usepackage{engsymbols}',\n",
    "                                      r'\\usepackage{magref}']}\n",
    "#plt.rcParams.update(mpl_params)"
   ]
  },
  {
   "cell_type": "code",
   "execution_count": 6,
   "metadata": {},
   "outputs": [],
   "source": [
    "def set_all_fontsizes_from_axis(ax):\n",
    "    \n",
    "    for item in ([ax.title, ax.xaxis.label, ax.yaxis.label] +\n",
    "        ax.get_xticklabels() + ax.get_yticklabels()):\n",
    "            \n",
    "        item.set_fontsize(16)"
   ]
  },
  {
   "cell_type": "code",
   "execution_count": 7,
   "metadata": {},
   "outputs": [],
   "source": [
    "def fan_function(a,b):\n",
    "    P = a*x+b\n",
    "    return P"
   ]
  },
  {
   "cell_type": "code",
   "execution_count": 8,
   "metadata": {},
   "outputs": [],
   "source": [
    "x = np.arange(0.01,1501.01,1)\n",
    "#Fan_L = fan_function(-0.2*0.46629,28.91)\n",
    "#Fan_M = fan_function(-0.2*0.47775,38.22)\n",
    "#Fan_H = fan_function(-0.2*0.4802,48.02)\n",
    "\n",
    "Fan_L = fan_function(-0.25*1.5,400)\n",
    "Fan_M = fan_function(-0.25*1.5,500)\n",
    "Fan_H = fan_function(-0.25*1.5,600)\n",
    "\n",
    "\n",
    "#Fan_L = fan_function(-0.3636,20)\n",
    "#Fan_M = fan_function(-0.512,42) \n",
    "#Fan_H = fan_function(-0.55,55)\n",
    "\n",
    "UA_Vent = np.zeros([6,3])\n",
    "cfm_Vent= np.zeros([6,3])\n",
    "W_Vent= np.zeros([6,3])\n",
    "dP_Vent= np.zeros([6,3])\n",
    "UA = np.zeros([6,len(x)])\n",
    "W_f = np.zeros([6,len(x)])\n",
    "\n",
    "Ca_vent = np.zeros([6,3])\n",
    "Ca = np.zeros(len(x))\n",
    "NTU = np.zeros([len(x),6])\n",
    "Cr = np.zeros(len(x))\n",
    "K1 = np.zeros([len(x),6])\n",
    "E = np.zeros([6,len(x)])\n",
    "ECr = np.zeros([6,len(x)])\n",
    "QECr = np.zeros([6,len(x)])\n",
    "QW = np.zeros([6,len(x)])\n",
    "\n",
    "E_vent = np.zeros([6,3])\n",
    "K1_vent = np.zeros([6,3])\n",
    "Ca_vent = np.zeros([6,3])\n",
    "NTU_vent = np.zeros([6,3])\n",
    "Cr_vent = np.zeros([6,3])\n",
    "ECr_vent=np.zeros([6,3])\n",
    "QECr_vent=np.zeros([6,3])\n",
    "QW_vent=np.zeros([6,3])"
   ]
  },
  {
   "cell_type": "code",
   "execution_count": 9,
   "metadata": {},
   "outputs": [],
   "source": [
    "#escolher arranjo = 0,1 ou 2\n",
    "arranjo = 2\n",
    "i = 0"
   ]
  },
  {
   "cell_type": "markdown",
   "metadata": {},
   "source": [
    "Trocador de duas fileiras\n",
    "\n",
    "L1 = 0.11\n",
    "L2 = 0.043\n",
    "L3 = 0.1524\n",
    "\n",
    "Xl = 0.024\n",
    "Xt = 0.0215\n",
    "\n",
    "N aletas = 39\n",
    "\n"
   ]
  },
  {
   "cell_type": "markdown",
   "metadata": {},
   "source": [
    "Trocador de uma fileira\n",
    "\n",
    "L1 = 0.112\n",
    "L2 = 0.0215\n",
    "L3 = 0.127\n",
    "\n",
    "Xt = 0.025\n",
    "Xl = 0.0215\n",
    "\n",
    "N_aletas = 61"
   ]
  },
  {
   "cell_type": "code",
   "execution_count": 1,
   "metadata": {},
   "outputs": [
    {
     "ename": "NameError",
     "evalue": "name 'arranjo' is not defined",
     "output_type": "error",
     "traceback": [
      "\u001b[1;31m---------------------------------------------------------------------------\u001b[0m",
      "\u001b[1;31mNameError\u001b[0m                                 Traceback (most recent call last)",
      "\u001b[1;32m<ipython-input-1-72b2c3a4759f>\u001b[0m in \u001b[0;36m<module>\u001b[1;34m()\u001b[0m\n\u001b[0;32m     21\u001b[0m \u001b[1;33m\u001b[0m\u001b[0m\n\u001b[0;32m     22\u001b[0m \u001b[1;33m\u001b[0m\u001b[0m\n\u001b[1;32m---> 23\u001b[1;33m \u001b[1;32mif\u001b[0m \u001b[1;33m(\u001b[0m\u001b[0marranjo\u001b[0m \u001b[1;33m==\u001b[0m \u001b[1;36m0\u001b[0m\u001b[1;33m)\u001b[0m\u001b[1;33m:\u001b[0m\u001b[1;33m\u001b[0m\u001b[0m\n\u001b[0m\u001b[0;32m     24\u001b[0m     \u001b[0mN_t\u001b[0m \u001b[1;33m=\u001b[0m \u001b[1;33m(\u001b[0m\u001b[0mL2\u001b[0m\u001b[1;33m*\u001b[0m\u001b[0mL3\u001b[0m\u001b[1;33m)\u001b[0m\u001b[1;33m/\u001b[0m\u001b[1;33m(\u001b[0m\u001b[0mXl\u001b[0m\u001b[1;33m*\u001b[0m\u001b[0mXt\u001b[0m\u001b[1;33m)\u001b[0m\u001b[1;33m\u001b[0m\u001b[0m\n\u001b[0;32m     25\u001b[0m \u001b[1;32mif\u001b[0m \u001b[1;33m(\u001b[0m\u001b[0marranjo\u001b[0m \u001b[1;33m==\u001b[0m \u001b[1;36m1\u001b[0m\u001b[1;33m)\u001b[0m\u001b[1;33m:\u001b[0m\u001b[1;33m\u001b[0m\u001b[0m\n",
      "\u001b[1;31mNameError\u001b[0m: name 'arranjo' is not defined"
     ]
    }
   ],
   "source": [
    "#Dimensões do trocador\n",
    "L1 = 0.32*1.5\n",
    "L2 = 0.033*4 #0.0215 #0.043\n",
    "L3 = 0.0381*10  #0.125 #0.152\n",
    "\n",
    "Di = 0.01588 #694\n",
    "De = 0.0163 #794\n",
    "\n",
    "Xt = 0.0381\n",
    "Xl = 0.033\n",
    "\n",
    "Nfin = 100/L1\n",
    "\n",
    "Deltaf = 0.00015 #0.00025\n",
    "\n",
    "delta_h = 0.0016\n",
    "\n",
    "Dc = De+2*Deltaf\n",
    "\n",
    "N_r = L2/Xl\n",
    "\n",
    "\n",
    "if (arranjo == 0): \n",
    "    N_t = (L2*L3)/(Xl*Xt)\n",
    "if (arranjo == 1):\n",
    "    N_t = (L3/Xt)*(L2/Xl+1)/2+(L3/Xt-1)*(L2/Xl-1)/2\n",
    "if (arranjo == 2):\n",
    "    N_t = 0.5*(L2/Xl)*(2*L3/Xt-1)\n",
    "\n",
    "    \n",
    "print(N_t)\n",
    "#N_t = 12\n",
    "rho = 1.269 #ar 5ºC\n",
    "mi = 17.23e-6\n",
    "cp_ar = 1005\n",
    "Pr_ar = 0.695 #aprox para 375K\n",
    "Nfin,Dc*1000"
   ]
  },
  {
   "cell_type": "code",
   "execution_count": 16,
   "metadata": {},
   "outputs": [
    {
     "data": {
      "text/plain": [
       "14.421198445479424"
      ]
     },
     "execution_count": 16,
     "metadata": {},
     "output_type": "execute_result"
    }
   ],
   "source": [
    "#Inputs Wave\n",
    "\n",
    "x_f = 0.007 # Mesmo\n",
    "p_d = 0.0018 #Mesmo\n",
    "theta = np.arctan(p_d/x_f) #*180/(np.pi)\n",
    "p_f = 1/Nfin\n",
    "theta*180/3.1415"
   ]
  },
  {
   "cell_type": "code",
   "execution_count": 17,
   "metadata": {},
   "outputs": [],
   "source": [
    "#equações da parede\n",
    "k_w = 238.8 #aproximado\n",
    "Rt_CD = math.log(De/Di)/(2*np.pi*L1*N_t*k_w)"
   ]
  },
  {
   "cell_type": "code",
   "execution_count": 18,
   "metadata": {},
   "outputs": [
    {
     "name": "stdout",
     "output_type": "stream",
     "text": [
      "8538.130420816435 5.649804403440617 16.6\n"
     ]
    }
   ],
   "source": [
    "Delta_Pe_list = []\n",
    "Rte_list = []\n",
    "for vazao_cfm in x:\n",
    "    vazao = vazao_cfm *0.00047194745 #m^3/s\n",
    "    #Perda de carga externa\n",
    "    if (arranjo==0):\n",
    "        Amin_e = ((Xt-De)*L1-(Xt-De)*Deltaf*Nfin*L1)*(L3/Xt)\n",
    "    else:\n",
    "        pt = ((Xt/2)**2+Xl**2)**0.5\n",
    "        a = ((Xt-De)-(Xt-De)*Deltaf*Nfin)/2\n",
    "        b = (pt-De)-(Xt-De)*Deltaf*Nfin\n",
    "        if (a<b):\n",
    "            c=2*a\n",
    "        else:\n",
    "            c=2*b\n",
    "        Amin_e = ((L3/Xt-1)*c+(Xt-De)-(Xt-De)*Deltaf*Nfin)*L1       \n",
    "        \n",
    "    Afr = L1*L3\n",
    "    sigma = Amin_e/Afr\n",
    "    Ae_p = np.pi*De*(L1-Deltaf*Nfin*L1)*N_t+2*(L2*L3-np.pi*De**2*N_t/4)\n",
    "    Ae_f = 2*Nfin*L1*(L2*L3-np.pi*De**2*N_t/4)+2*L3*Deltaf*Nfin*L1\n",
    "    Ae = Ae_p+Ae_f\n",
    "    At = np.pi*De*L1*N_t\n",
    "    sigmae = (L1*L3-L3*Deltaf*Nfin*L1)/(L3*L1)\n",
    "    d_h=(4*Amin_e*L2)/Ae\n",
    "    d_c = Dc\n",
    "\n",
    "    uar = vazao/(L1*L3)\n",
    "    u_max = uar/sigma\n",
    "\n",
    "    Re = u_max*rho*Dc/mi\n",
    "    \n",
    "    #c5 = 0.4606-0.01336*((p_f/Xl)**0.58)*(math.log(Ae/At))*(math.tan(theta))**(-1.5)\n",
    "    #c6 = 3.247*(p_f/Xt)**1.4*math.log(Ae/At)\n",
    "    #c7 = -20.113/(math.log(Re))   \n",
    "    \n",
    "    c1 = -0.1707-1.374*(Xl/Deltaf)**(-0.493)*(p_f/d_c)**(-0.886)*N_r**(-0.143)*(p_d/x_f)**(-0.0296)\n",
    "    c2 = 0.1714-0.07372*(p_f/Xl)**0.25*np.log(Ae/At)*(p_d/x_f)**(-0.2)\n",
    "    c3 = 0.426*(p_f/Xt)**0.3*np.log(Ae/At)\n",
    "    c4 = -10.2192/np.log(Re)\n",
    "    \n",
    "    #fe = 0.01915*(Re**c5)*((math.tan(theta))**c6)*((p_f/Xl)**c7)*((math.log(Ae/At))**(-5.35))*((d_h/d_c)**1.3796)*(N_r**(-0.0916))   \n",
    "    fe = 0.05273*Re**c2*(p_d/x_f)**c3*(p_f/Xt)**c4*np.log(Ae/At)**(-2.726)*(d_h/d_c)**0.1325*N_r**-0.02305\n",
    "    Ge = rho*u_max\n",
    "\n",
    "    Delta_Pe = Ge**2/(2*rho)*((fe*(Ae/Amin_e))) #+(1+sigmae**2))#falta um termo\n",
    "    Delta_Pe_list.append(Delta_Pe) \n",
    "    \n",
    "    \n",
    "    #Resistência térmica externa\n",
    "    \n",
    "    #c1 = -0.229 + 0.115*((p_f/d_c)**0.6)*((Xl/d_h)**0.54)*(N_r**(-0.284))*math.log(0.5*math.tan(theta)) \n",
    "    #c2 = -0.251 + (0.232*N_r**(1.37))/(math.log(Re)-2.303)\n",
    "    #c3 = -0.439*(p_f/d_h)**(0.09)*(Xl/Xt)**(-1.75)*N_r**(-0.93)\n",
    "    #c4 = 0.502*(math.log(Re)-2.54)\n",
    "    \n",
    "    #je = 0.324*(Re**c1)*((p_f/Xl)**c2)*((math.tan(theta))**c3)*((Xl/Xt)**c4)*N_r**0.428\n",
    "    je = 1.7910*Re**c1*(Xl/Deltaf)**-0.456*N_r**-0.27*(p_f/d_c)**-1.343*(p_d/x_f)**0.317\n",
    "    \n",
    "    he = je*rho*u_max*cp_ar*Pr_ar**(-0.666666)\n",
    "    m = ((2*he)/(k_w*Deltaf))**0.5\n",
    "    \n",
    "    P_m = Xt/2\n",
    "    P_l = (((Xt/2)**2+Xl**2)**0.5)/2\n",
    "    R_eq =1.27*P_m*(P_l/P_m-0.3)**0.5\n",
    "    phi = (R_eq/(Di/2)-1)*(1+0.35*math.log(R_eq/(Di/2)))\n",
    "    eta = math.tanh(m*(Di/2)*phi)/(m*(Di/2)*phi)\n",
    "    eta_e =1-(Ae_f/Ae)*(1-eta)\n",
    "    \n",
    "    Rt_CE = 1/(eta_e*he*Ae)\n",
    "    Rte_list.append(Rt_CE)\n",
    "    \n",
    "print(Re,d_h*1000,d_c*1000)"
   ]
  },
  {
   "cell_type": "code",
   "execution_count": 27,
   "metadata": {
    "scrolled": true
   },
   "outputs": [
    {
     "data": {
      "image/png": "[encoded data removed]",
      "text/plain": [
       "<Figure size 576x576 with 1 Axes>"
      ]
     },
     "metadata": {},
     "output_type": "display_data"
    }
   ],
   "source": [
    "%matplotlib inline\n",
    "\n",
    "fig_Qc = plt.figure(figsize=(8,8))\n",
    "axis = fig_Qc.add_subplot(111)\n",
    "\n",
    "axis.plot(x, Fan_L, label='L')\n",
    "axis.plot(x, Fan_M, label='M')\n",
    "axis.plot(x, Fan_H, label='H')\n",
    "axis.plot(x,Delta_Pe_list, label='System')\n",
    "\n",
    "axis.legend(loc='best',fontsize=16)\n",
    "axis.set_ylabel('P [Pa]')\n",
    "axis.set_xlabel('Air flow [CFM]')\n",
    "\n",
    "axis.set_ylim(0,600)\n",
    "axis.set_xlim(0,1600)\n",
    "axis.grid()\n",
    "set_all_fontsizes_from_axis(axis)"
   ]
  },
  {
   "cell_type": "code",
   "execution_count": 20,
   "metadata": {},
   "outputs": [
    {
     "data": {
      "text/plain": [
       "100.05829739155202"
      ]
     },
     "execution_count": 20,
     "metadata": {},
     "output_type": "execute_result"
    }
   ],
   "source": [
    "##escoamento interno\n",
    "m_fluid = (2500/3600) #kg/s\n",
    "\n",
    "rho_f_i=1018\n",
    "rho_f_o=1019\n",
    "rho_f_m=((1/2)*(1/rho_f_i+1/rho_f_o))**(-1) \n",
    "mi_f=0.001136\n",
    "Pr_f = 8.512\n",
    "k_f = 0.5238\n",
    "\n",
    "\n",
    "Lh=(L1+2*delta_h)*N_t\n",
    "Ai=np.pi*Di*L1*N_t\n",
    "Amin_i = np.pi*(Di**2)/4\n",
    "Gi=m_fluid/Amin_i\n",
    "Re_i=(Gi*Di)/mi_f\n",
    "if Re_i<2300:\n",
    "    f_i=16/Re_i\n",
    "    Nusselt_i=3.66\n",
    "else:\n",
    "    if Re_i>2300 and Re_i<4000:\n",
    "        f_i=0.0054+(2.3*10**(-8))*Re_i**(3/2)\n",
    "    if Re_i>4000 and Re_i<(10**7):\n",
    "        f_i=0.00128+0.1143*Re_i**(-1/3.2154)\n",
    "    if Re_i>2300 and Re_i<(5*(10**6)):\n",
    "        Nusselt_i =((f_i/2)*(Re_i-1000)*Pr_f)/(1+12.7*((f_i/2)**0.5)*(Pr_f**(2/3)-1))\n",
    "\n",
    "h_hex_i=(Nusselt_i*k_f)/Di\n",
    "Rt_CI=1/(h_hex_i*Ai)\n",
    "Delta_Pi=((Gi**2)/(2*rho_f_i))*(2*(rho_f_i/rho_f_o-1)+4*f_i*Lh*rho_f_i/(Di*rho_f_m))\n",
    "\n",
    "W_p = Delta_Pi*m_fluid/rho_f_i\n",
    "W_p"
   ]
  },
  {
   "cell_type": "code",
   "execution_count": 21,
   "metadata": {},
   "outputs": [
    {
     "data": {
      "image/png": "[encoded data removed]",
      "text/plain": [
       "<Figure size 576x576 with 1 Axes>"
      ]
     },
     "metadata": {},
     "output_type": "display_data"
    }
   ],
   "source": [
    "fig_Qc = plt.figure(figsize=(8,8))\n",
    "axis = fig_Qc.add_subplot(111)\n",
    "\n",
    "axis.plot(x,Rte_list,label='Externo')\n",
    "axis.plot([0,100],[Rt_CD,Rt_CD],label='Parede')\n",
    "axis.plot([0,100],[Rt_CI,Rt_CI],label='Interno')\n",
    "\n",
    "axis.legend(loc='best',fontsize=16)\n",
    "axis.set_ylabel('Resistencia [K/W]')\n",
    "axis.set_xlabel('Air flow [CFM]')\n",
    "\n",
    "axis.grid()\n",
    "set_all_fontsizes_from_axis(axis)"
   ]
  },
  {
   "cell_type": "code",
   "execution_count": 45,
   "metadata": {
    "scrolled": true
   },
   "outputs": [
    {
     "data": {
      "image/png": "[encoded data removed]",
      "text/plain": [
       "<Figure size 432x288 with 1 Axes>"
      ]
     },
     "metadata": {},
     "output_type": "display_data"
    }
   ],
   "source": [
    "Rte_array = np.array(Rte_list)\n",
    "UA_array = (Rt_CD+Rte_array+Rt_CI)**-1\n",
    "W_array  = (np.asarray(Delta_Pe_list)*0.00047194745*rho)*x/(rho*0.1)\n",
    "\n",
    "plt.plot(x,W_array)\n",
    "plt.xlim([900,1400])\n",
    "plt.grid(True)\n",
    "plt.show()\n"
   ]
  },
  {
   "cell_type": "code",
   "execution_count": 28,
   "metadata": {},
   "outputs": [
    {
     "data": {
      "image/png": "[encoded data removed]",
      "text/plain": [
       "<Figure size 576x576 with 1 Axes>"
      ]
     },
     "metadata": {},
     "output_type": "display_data"
    }
   ],
   "source": [
    "fig_Qc = plt.figure(figsize=(8,8))\n",
    "axis = fig_Qc.add_subplot(111)\n",
    "\n",
    "axis.plot(x,UA_array)\n",
    "\n",
    "\n",
    "#axis.legend(loc='best',fontsize=16)\n",
    "axis.set_ylabel('UA [W/K]')\n",
    "axis.set_xlabel('Air flow [CFM]')\n",
    "plt.xlim([900,1400])\n",
    "axis.grid()\n",
    "set_all_fontsizes_from_axis(axis)"
   ]
  },
  {
   "cell_type": "code",
   "execution_count": 315,
   "metadata": {},
   "outputs": [],
   "source": [
    "#Calculando os ponto de intersecção entre sistema e ventiladores\n",
    "\n",
    "#L\n",
    "ponto_int_aux = Fan_L-np.array(Delta_Pe_list)\n",
    "Fan_L_operacao_x = x[(np.abs(ponto_int_aux)).argmin()]\n",
    "Fan_L_operacao_P = Delta_Pe_list[(np.abs(ponto_int_aux)).argmin()]\n",
    "Fan_L_operacao_UA = UA_array[(np.abs(ponto_int_aux)).argmin()]\n",
    "Fan_L_operacao_W = (Fan_L_operacao_P*0.00047194745*rho)*Fan_L_operacao_x/(rho*0.1)\n",
    "\n",
    "#M\n",
    "ponto_int_aux = Fan_M-np.array(Delta_Pe_list)\n",
    "Fan_M_operacao_x = x[(np.abs(ponto_int_aux)).argmin()]\n",
    "Fan_M_operacao_P = Delta_Pe_list[(np.abs(ponto_int_aux)).argmin()]\n",
    "Fan_M_operacao_UA = UA_array[(np.abs(ponto_int_aux)).argmin()]\n",
    "Fan_M_operacao_W = (Fan_M_operacao_P*0.00047194745*rho)*Fan_M_operacao_x/(rho*0.1)\n",
    "\n",
    "#H\n",
    "ponto_int_aux = Fan_H-np.array(Delta_Pe_list)\n",
    "Fan_H_operacao_x = x[(np.abs(ponto_int_aux)).argmin()]\n",
    "Fan_H_operacao_P = Delta_Pe_list[(np.abs(ponto_int_aux)).argmin()]\n",
    "Fan_H_operacao_UA = UA_array[(np.abs(ponto_int_aux)).argmin()]\n",
    "Fan_H_operacao_W = (Fan_H_operacao_P*0.00047194745*rho)*Fan_H_operacao_x/(rho*0.1)"
   ]
  },
  {
   "cell_type": "code",
   "execution_count": 316,
   "metadata": {},
   "outputs": [
    {
     "data": {
      "text/plain": [
       "(973.01, 35.17003482387795, 936.4301795702266, 161.50417212831323)"
      ]
     },
     "execution_count": 316,
     "metadata": {},
     "output_type": "execute_result"
    }
   ],
   "source": [
    "Fan_L_operacao_x,Fan_L_operacao_P,Fan_L_operacao_UA,Fan_L_operacao_W"
   ]
  },
  {
   "cell_type": "code",
   "execution_count": 245,
   "metadata": {
    "scrolled": true
   },
   "outputs": [
    {
     "data": {
      "text/plain": [
       "(1003.01, 124.00049442728923, 433.0628366126857, 586.978675123009)"
      ]
     },
     "execution_count": 245,
     "metadata": {},
     "output_type": "execute_result"
    }
   ],
   "source": [
    "Fan_M_operacao_x,Fan_M_operacao_P,Fan_M_operacao_UA,Fan_M_operacao_W"
   ]
  },
  {
   "cell_type": "code",
   "execution_count": 246,
   "metadata": {},
   "outputs": [
    {
     "data": {
      "text/plain": [
       "(1169.01, 161.46430907062157, 457.98502015713564, 890.8168200807073)"
      ]
     },
     "execution_count": 246,
     "metadata": {},
     "output_type": "execute_result"
    }
   ],
   "source": [
    "Fan_H_operacao_x,Fan_H_operacao_P,Fan_H_operacao_UA,Fan_H_operacao_W"
   ]
  },
  {
   "cell_type": "markdown",
   "metadata": {},
   "source": [
    "Trocador 1:\n",
    "L1 = 0.127\n",
    "L2 = 0.0215\n",
    "L3 = 0.127\n",
    "beta = 40\n",
    "\n",
    "Trocador 2:\n",
    "L1 = 0.127\n",
    "L2 = 0.043\n",
    "L3 = 0.127\n",
    "beta = 40\n",
    "\n",
    "Trocador 3:\n",
    "L1 = 0.1524\n",
    "L2 = 0.0215\n",
    "L3 = 0.1524\n",
    "beta = 40\n",
    "\n",
    "Trocador 4:\n",
    "L1 = 0.1524\n",
    "L2 = 0.043\n",
    "L3 = 0.1524\n",
    "beta = 40\n",
    "\n",
    "Trocador 5:\n",
    "L1 = 0.2032\n",
    "L2 = 0.0215\n",
    "L3 = 0.2032\n",
    "beta = 40\n",
    "\n",
    "Trocador 6:\n",
    "L1 = 0.2032\n",
    "L2 = 0.043\n",
    "L3 = 0.2032\n",
    "beta = 40"
   ]
  },
  {
   "cell_type": "code",
   "execution_count": 105,
   "metadata": {},
   "outputs": [
    {
     "ename": "TypeError",
     "evalue": "'int' object does not support item assignment",
     "output_type": "error",
     "traceback": [
      "\u001b[1;31m---------------------------------------------------------------------------\u001b[0m",
      "\u001b[1;31mTypeError\u001b[0m                                 Traceback (most recent call last)",
      "\u001b[1;32m<ipython-input-105-9b69d18b64d9>\u001b[0m in \u001b[0;36m<module>\u001b[1;34m()\u001b[0m\n\u001b[0;32m      4\u001b[0m \u001b[0mUA_Vent\u001b[0m\u001b[1;33m[\u001b[0m\u001b[0mi\u001b[0m\u001b[1;33m]\u001b[0m \u001b[1;33m=\u001b[0m \u001b[1;33m[\u001b[0m\u001b[0mFan_L_operacao_UA\u001b[0m\u001b[1;33m,\u001b[0m\u001b[0mFan_M_operacao_UA\u001b[0m\u001b[1;33m,\u001b[0m\u001b[0mFan_H_operacao_UA\u001b[0m\u001b[1;33m]\u001b[0m\u001b[1;33m\u001b[0m\u001b[0m\n\u001b[0;32m      5\u001b[0m \u001b[0mdP_Vent\u001b[0m\u001b[1;33m[\u001b[0m\u001b[0mi\u001b[0m\u001b[1;33m]\u001b[0m \u001b[1;33m=\u001b[0m \u001b[1;33m[\u001b[0m\u001b[0mFan_L_operacao_P\u001b[0m\u001b[1;33m,\u001b[0m\u001b[0mFan_M_operacao_P\u001b[0m\u001b[1;33m,\u001b[0m\u001b[0mFan_H_operacao_P\u001b[0m\u001b[1;33m]\u001b[0m\u001b[1;33m\u001b[0m\u001b[0m\n\u001b[1;32m----> 6\u001b[1;33m \u001b[0mUA\u001b[0m\u001b[1;33m[\u001b[0m\u001b[0mi\u001b[0m\u001b[1;33m]\u001b[0m \u001b[1;33m=\u001b[0m \u001b[0mUA_array\u001b[0m\u001b[1;33m\u001b[0m\u001b[0m\n\u001b[0m\u001b[0;32m      7\u001b[0m \u001b[0mW_f\u001b[0m\u001b[1;33m[\u001b[0m\u001b[0mi\u001b[0m\u001b[1;33m]\u001b[0m \u001b[1;33m=\u001b[0m \u001b[0mW_array\u001b[0m\u001b[1;33m\u001b[0m\u001b[0m\n\u001b[0;32m      8\u001b[0m \u001b[1;33m\u001b[0m\u001b[0m\n",
      "\u001b[1;31mTypeError\u001b[0m: 'int' object does not support item assignment"
     ]
    }
   ],
   "source": [
    "i=5\n",
    "W_Vent[i] = [Fan_L_operacao_W,Fan_M_operacao_W,Fan_H_operacao_W]\n",
    "cfm_Vent[i] = [Fan_L_operacao_x,Fan_M_operacao_x,Fan_H_operacao_x]\n",
    "UA_Vent[i] = [Fan_L_operacao_UA,Fan_M_operacao_UA,Fan_H_operacao_UA]\n",
    "dP_Vent[i] = [Fan_L_operacao_P,Fan_M_operacao_P,Fan_H_operacao_P]\n",
    "UA[i] = UA_array\n",
    "W_f[i] = W_array\n",
    "\n",
    "\n",
    "from matplotlib import *\n",
    "rc('text',usetex = True)\n",
    "rc('font', family='Times New Roman')\n",
    "\n"
   ]
  },
  {
   "cell_type": "code",
   "execution_count": 106,
   "metadata": {},
   "outputs": [
    {
     "name": "stderr",
     "output_type": "stream",
     "text": [
      "C:\\Users\\Usuario\\Anaconda_new\\lib\\site-packages\\matplotlib\\cbook\\deprecation.py:107: MatplotlibDeprecationWarning: Passing one of 'on', 'true', 'off', 'false' as a boolean is deprecated; use an actual boolean (True/False) instead.\n",
      "  warnings.warn(message, mplDeprecation, stacklevel=1)\n"
     ]
    },
    {
     "data": {
      "image/png": "[encoded data removed]",
      "text/plain": [
       "<Figure size 432x288 with 1 Axes>"
      ]
     },
     "metadata": {},
     "output_type": "display_data"
    }
   ],
   "source": [
    "fig, ax = plt.subplots()\n",
    "\n",
    "plt.plot(x,W_f[0],'--',label = 'HEx 1') #1 Row \\ - $\\sigma$ = 300 [$m^{-1}$]\n",
    "plt.plot(x,W_f[1],'--',label = 'HEx 2')\n",
    "plt.plot(x,W_f[2],'--',label = 'HEx 3')\n",
    "plt.plot(x,W_f[3],'--',label = 'HEx 4')\n",
    "plt.plot(x,W_f[4],'--',label = 'HEx 5')\n",
    "plt.plot(x,W_f[5],'--',label = 'HEx 6')\n",
    "\n",
    "\n",
    "plt.plot(cfm_Vent[0],W_Vent[0],'kx')\n",
    "plt.plot(cfm_Vent[1],W_Vent[1],'kx')\n",
    "plt.plot(cfm_Vent[2],W_Vent[2],'kx')\n",
    "plt.plot(cfm_Vent[3],W_Vent[3],'kx')\n",
    "plt.plot(cfm_Vent[4],W_Vent[4],'kx')\n",
    "plt.plot(cfm_Vent[5],W_Vent[5],'kx')\n",
    "\n",
    "plt.grid('True')\n",
    "#ax.legend(loc='center left', bbox_to_anchor=(1, 0.5), fontsize = 'large')\n",
    "plt.legend()\n",
    "plt.xlabel('$\\dot{V}$[cfm]', fontsize = 'large')\n",
    "plt.ylabel('$\\dot{W}_\\mathrm{fan}$ [W]', fontsize = 'large')\n",
    "plt.xlim([30,90])\n",
    "plt.ylim([0,6])\n",
    "plt.show()\n",
    "\n",
    "fig.savefig('W_fan_En.eps',format = 'eps', dpi=1200,bbox_inches='tight')"
   ]
  },
  {
   "cell_type": "code",
   "execution_count": 107,
   "metadata": {},
   "outputs": [
    {
     "ename": "TypeError",
     "evalue": "'int' object is not subscriptable",
     "output_type": "error",
     "traceback": [
      "\u001b[1;31m---------------------------------------------------------------------------\u001b[0m",
      "\u001b[1;31mTypeError\u001b[0m                                 Traceback (most recent call last)",
      "\u001b[1;32m<ipython-input-107-a1c9f785b419>\u001b[0m in \u001b[0;36m<module>\u001b[1;34m()\u001b[0m\n\u001b[0;32m      1\u001b[0m \u001b[0mfig\u001b[0m\u001b[1;33m,\u001b[0m \u001b[0max\u001b[0m \u001b[1;33m=\u001b[0m \u001b[0mplt\u001b[0m\u001b[1;33m.\u001b[0m\u001b[0msubplots\u001b[0m\u001b[1;33m(\u001b[0m\u001b[1;33m)\u001b[0m\u001b[1;33m\u001b[0m\u001b[0m\n\u001b[0;32m      2\u001b[0m \u001b[1;33m\u001b[0m\u001b[0m\n\u001b[1;32m----> 3\u001b[1;33m \u001b[0mplt\u001b[0m\u001b[1;33m.\u001b[0m\u001b[0mplot\u001b[0m\u001b[1;33m(\u001b[0m\u001b[0mx\u001b[0m\u001b[1;33m,\u001b[0m\u001b[0mUA\u001b[0m\u001b[1;33m[\u001b[0m\u001b[1;36m0\u001b[0m\u001b[1;33m]\u001b[0m\u001b[1;33m,\u001b[0m\u001b[1;34m'r--'\u001b[0m\u001b[1;33m,\u001b[0m\u001b[0mlabel\u001b[0m \u001b[1;33m=\u001b[0m \u001b[1;34m'1 Fileira \\ - $\\sigma$ = 300 [$m^{-1}$]'\u001b[0m\u001b[1;33m)\u001b[0m\u001b[1;33m\u001b[0m\u001b[0m\n\u001b[0m\u001b[0;32m      4\u001b[0m \u001b[0mplt\u001b[0m\u001b[1;33m.\u001b[0m\u001b[0mplot\u001b[0m\u001b[1;33m(\u001b[0m\u001b[0mx\u001b[0m\u001b[1;33m,\u001b[0m\u001b[0mUA\u001b[0m\u001b[1;33m[\u001b[0m\u001b[1;36m1\u001b[0m\u001b[1;33m]\u001b[0m\u001b[1;33m,\u001b[0m\u001b[1;34m'b--'\u001b[0m\u001b[1;33m,\u001b[0m\u001b[0mlabel\u001b[0m \u001b[1;33m=\u001b[0m \u001b[1;34m'1 Fileira \\ - $\\sigma$ = 400 [$m^{-1}$]'\u001b[0m\u001b[1;33m)\u001b[0m\u001b[1;33m\u001b[0m\u001b[0m\n\u001b[0;32m      5\u001b[0m \u001b[0mplt\u001b[0m\u001b[1;33m.\u001b[0m\u001b[0mplot\u001b[0m\u001b[1;33m(\u001b[0m\u001b[0mx\u001b[0m\u001b[1;33m,\u001b[0m\u001b[0mUA\u001b[0m\u001b[1;33m[\u001b[0m\u001b[1;36m2\u001b[0m\u001b[1;33m]\u001b[0m\u001b[1;33m,\u001b[0m\u001b[1;34m'--'\u001b[0m\u001b[1;33m,\u001b[0m\u001b[0mlabel\u001b[0m \u001b[1;33m=\u001b[0m \u001b[1;34m'1 Fileira \\ - $\\sigma$ = 500 [$m^{-1}$]'\u001b[0m\u001b[1;33m)\u001b[0m\u001b[1;33m\u001b[0m\u001b[0m\n",
      "\u001b[1;31mTypeError\u001b[0m: 'int' object is not subscriptable"
     ]
    },
    {
     "data": {
      "image/png": "[encoded data removed]",
      "text/plain": [
       "<Figure size 432x288 with 1 Axes>"
      ]
     },
     "metadata": {},
     "output_type": "display_data"
    }
   ],
   "source": [
    "fig, ax = plt.subplots()\n",
    "\n",
    "plt.plot(x,UA[0],'r--',label = '1 Fileira \\ - $\\sigma$ = 300 [$m^{-1}$]')\n",
    "plt.plot(x,UA[1],'b--',label = '1 Fileira \\ - $\\sigma$ = 400 [$m^{-1}$]')\n",
    "plt.plot(x,UA[2],'--',label = '1 Fileira \\ - $\\sigma$ = 500 [$m^{-1}$]')\n",
    "plt.plot(x,UA[3],'--',label = '2 Fileiras - $\\sigma$ = 300 [$m^{-1}$]')\n",
    "plt.plot(x,UA[4],'--',label = '2 Fileiras - $\\sigma$ = 400 [$m^{-1}$]')\n",
    "plt.plot(x,UA[5],'--',label = '2 Fileiras - $\\sigma$ = 500 [$m^{-1}$]')\n",
    "\n",
    "\n",
    "plt.plot(cfm_Vent[0],UA_Vent[0],'kx')\n",
    "plt.plot(cfm_Vent[1],UA_Vent[1],'kx')\n",
    "plt.plot(cfm_Vent[2],UA_Vent[2],'kx')\n",
    "plt.plot(cfm_Vent[3],UA_Vent[3],'kx')\n",
    "plt.plot(cfm_Vent[4],UA_Vent[4],'kx')\n",
    "plt.plot(cfm_Vent[5],UA_Vent[5],'kx')\n",
    "\n",
    "plt.grid('True')\n",
    "plt.legend()\n",
    "plt.xlabel('Vaz\\~ao de ar[cfm]', fontsize = 'large')\n",
    "plt.ylabel('UA [W/K]', fontsize = 'large')\n",
    "plt.xlim([30,100])\n",
    "plt.ylim([0,40])\n",
    "ax.legend(loc='center left', bbox_to_anchor=(1, 0.5), fontsize = 'large')\n",
    "plt.show()\n",
    "\n",
    "fig.savefig('UA_Port.eps',format = 'eps', dpi=500,bbox_inches='tight')"
   ]
  },
  {
   "cell_type": "code",
   "execution_count": 108,
   "metadata": {},
   "outputs": [
    {
     "ename": "TypeError",
     "evalue": "'float' object does not support item assignment",
     "output_type": "error",
     "traceback": [
      "\u001b[1;31m---------------------------------------------------------------------------\u001b[0m",
      "\u001b[1;31mTypeError\u001b[0m                                 Traceback (most recent call last)",
      "\u001b[1;32m<ipython-input-108-4aa4f7de2753>\u001b[0m in \u001b[0;36m<module>\u001b[1;34m()\u001b[0m\n\u001b[0;32m      2\u001b[0m \u001b[1;32mfor\u001b[0m \u001b[0mi\u001b[0m \u001b[1;32min\u001b[0m \u001b[0mrange\u001b[0m\u001b[1;33m(\u001b[0m\u001b[0mlen\u001b[0m\u001b[1;33m(\u001b[0m\u001b[0mx\u001b[0m\u001b[1;33m)\u001b[0m\u001b[1;33m)\u001b[0m\u001b[1;33m:\u001b[0m\u001b[1;33m\u001b[0m\u001b[0m\n\u001b[0;32m      3\u001b[0m     \u001b[1;32mfor\u001b[0m \u001b[0mj\u001b[0m \u001b[1;32min\u001b[0m \u001b[0mrange\u001b[0m\u001b[1;33m(\u001b[0m\u001b[1;36m6\u001b[0m\u001b[1;33m)\u001b[0m\u001b[1;33m:\u001b[0m\u001b[1;33m\u001b[0m\u001b[0m\n\u001b[1;32m----> 4\u001b[1;33m         \u001b[0mCa\u001b[0m\u001b[1;33m[\u001b[0m\u001b[0mi\u001b[0m\u001b[1;33m]\u001b[0m \u001b[1;33m=\u001b[0m \u001b[0mx\u001b[0m\u001b[1;33m[\u001b[0m\u001b[0mi\u001b[0m\u001b[1;33m]\u001b[0m\u001b[1;33m*\u001b[0m\u001b[1;36m0.00047194745\u001b[0m\u001b[1;33m*\u001b[0m\u001b[1;36m1.225\u001b[0m\u001b[1;33m*\u001b[0m\u001b[1;36m1005\u001b[0m\u001b[1;33m\u001b[0m\u001b[0m\n\u001b[0m\u001b[0;32m      5\u001b[0m         \u001b[0mNTU\u001b[0m\u001b[1;33m[\u001b[0m\u001b[0mi\u001b[0m\u001b[1;33m]\u001b[0m\u001b[1;33m[\u001b[0m\u001b[0mj\u001b[0m\u001b[1;33m]\u001b[0m \u001b[1;33m=\u001b[0m \u001b[0mUA\u001b[0m\u001b[1;33m[\u001b[0m\u001b[0mj\u001b[0m\u001b[1;33m]\u001b[0m\u001b[1;33m[\u001b[0m\u001b[0mi\u001b[0m\u001b[1;33m]\u001b[0m\u001b[1;33m/\u001b[0m\u001b[0mCa\u001b[0m\u001b[1;33m[\u001b[0m\u001b[0mi\u001b[0m\u001b[1;33m]\u001b[0m\u001b[1;33m\u001b[0m\u001b[0m\n\u001b[0;32m      6\u001b[0m         \u001b[0mCr\u001b[0m\u001b[1;33m[\u001b[0m\u001b[0mi\u001b[0m\u001b[1;33m]\u001b[0m \u001b[1;33m=\u001b[0m \u001b[0mCa\u001b[0m\u001b[1;33m[\u001b[0m\u001b[0mi\u001b[0m\u001b[1;33m]\u001b[0m\u001b[1;33m/\u001b[0m\u001b[0mCf\u001b[0m\u001b[1;33m\u001b[0m\u001b[0m\n",
      "\u001b[1;31mTypeError\u001b[0m: 'float' object does not support item assignment"
     ]
    }
   ],
   "source": [
    "Cf = 148/3600*4148\n",
    "for i in range(len(x)):\n",
    "    for j in range(6):\n",
    "        Ca[i] = x[i]*0.00047194745*1.225*1005\n",
    "        NTU[i][j] = UA[j][i]/Ca[i]\n",
    "        Cr[i] = Ca[i]/Cf\n",
    "        K1[i][j] = 1-np.exp(-NTU[i][j]/2)\n",
    "        E[j][i] = (1-np.exp(-2*K1[i][j]*Cr[i])*(1+Cr[i]*K1[i][j]**2))/Cr[i]\n",
    "        ECr[j][i] = E[j][i]*Cr[i]\n",
    "        QECr[j][i] = 38.271*np.log(ECr[j][i]) + 189.98 \n",
    "        QW[j][i] =  QECr[j][i]-W_f[j][i]"
   ]
  },
  {
   "cell_type": "code",
   "execution_count": 109,
   "metadata": {},
   "outputs": [
    {
     "name": "stderr",
     "output_type": "stream",
     "text": [
      "C:\\Users\\Usuario\\Anaconda_new\\lib\\site-packages\\ipykernel_launcher.py:11: RuntimeWarning: invalid value encountered in double_scalars\n",
      "  # This is added back by InteractiveShellApp.init_path()\n"
     ]
    }
   ],
   "source": [
    "#E_vent = np.zeros([6,3])\n",
    "#K1_vent = np.zeros([6,3])\n",
    "#Ca_vent = np.zeros([6,3])\n",
    "#NTU_vent = np.zeros([6,3])\n",
    "#Cr_vent = np.zeros([6,3])\n",
    "#ECr_vent=np.zeros([6,3])\n",
    "\n",
    "for i in range(6):\n",
    "    for j in range(3):\n",
    "        Ca_vent[i][j] = cfm_Vent[i][j]*0.00047194745*1.225*1005\n",
    "        NTU_vent[i][j] = UA_Vent[i][j]/Ca_vent[i][j]\n",
    "        K1_vent[i][j] = 1-np.exp(-NTU_vent[i][j]/2)\n",
    "        Cr_vent[i][j] = Ca_vent[i][j]/Cf\n",
    "        E_vent[i][j] =(1-np.exp(-2*K1_vent[i][j]*Cr_vent[i][j])*(1+Cr_vent[i][j]*K1_vent[i][j]**2))/Cr_vent[i][j]\n",
    "        ECr_vent[i][j] = E_vent[i][j]*Cr_vent[i][j]\n",
    "        QECr_vent[i][j] = 38.271*np.log(ECr_vent[i][j]) + 189.98 \n",
    "        QW_vent[i][j] =  QECr_vent[i][j]-W_Vent[i][j]"
   ]
  },
  {
   "cell_type": "code",
   "execution_count": 110,
   "metadata": {},
   "outputs": [
    {
     "data": {
      "image/png": "[encoded data removed]",
      "text/plain": [
       "<Figure size 432x288 with 1 Axes>"
      ]
     },
     "metadata": {},
     "output_type": "display_data"
    }
   ],
   "source": [
    "fig, ax = plt.subplots()\n",
    "\n",
    "plt.plot(ECr[0],W_f[0],'-.',label = '1 Row \\ - $\\sigma$ = 300 [$m^{-1}$]')\n",
    "plt.plot(ECr[1],W_f[1],'-.',label = '1 Row \\ - $\\sigma$ = 400 [$m^{-1}$]')\n",
    "plt.plot(ECr[2],W_f[2],'-.',label = '1 Row \\ - $\\sigma$ = 500 [$m^{-1}$]')\n",
    "\n",
    "plt.plot(ECr[3],W_f[3],'-.',label = '2 Rows  - $\\sigma$ = 300  [$m^{-1}$]')\n",
    "plt.plot(ECr[4],W_f[4],'-.',label = '2 Rows  - $\\sigma$ = 400  [$m^{-1}$]')\n",
    "plt.plot(ECr[5],W_f[5],'-.',label = '2 Rows  - $\\sigma$ = 500  [$m^{-1}$]')\n",
    "\n",
    "plt.plot(ECr_vent[0],W_Vent[0],'kx')\n",
    "plt.plot(ECr_vent[1],W_Vent[1],'kx')\n",
    "plt.plot(ECr_vent[2],W_Vent[2],'kx')\n",
    "\n",
    "plt.plot(ECr_vent[3],W_Vent[3],'kx')\n",
    "plt.plot(ECr_vent[4],W_Vent[4],'kx')\n",
    "plt.plot(ECr_vent[5],W_Vent[5],'kx')\n",
    "\n",
    "plt.legend()\n",
    "plt.ylabel('$\\dot{W}_\\mathrm{vent}$ [W]', fontsize = 'large')\n",
    "plt.xlabel('$\\epsilon \\dot{C}_r$ [-]', fontsize = 'large')\n",
    "\n",
    "ax.legend(loc='center left', bbox_to_anchor=(1, 0.5), fontsize = 'large')\n",
    "plt.ylim([0.01,6])\n",
    "plt.xlim([0.035,0.12])\n",
    "\n",
    "plt.grid()\n",
    "\n",
    "fig.savefig('W_ECr.eps',format = 'eps', dpi=500,bbox_inches='tight')"
   ]
  },
  {
   "cell_type": "code",
   "execution_count": 111,
   "metadata": {
    "scrolled": true
   },
   "outputs": [
    {
     "name": "stderr",
     "output_type": "stream",
     "text": [
      "C:\\Users\\Usuario\\Anaconda_new\\lib\\site-packages\\matplotlib\\cbook\\deprecation.py:107: MatplotlibDeprecationWarning: Passing one of 'on', 'true', 'off', 'false' as a boolean is deprecated; use an actual boolean (True/False) instead.\n",
      "  warnings.warn(message, mplDeprecation, stacklevel=1)\n"
     ]
    },
    {
     "data": {
      "image/png": "[encoded data removed]",
      "text/plain": [
       "<Figure size 432x288 with 1 Axes>"
      ]
     },
     "metadata": {},
     "output_type": "display_data"
    }
   ],
   "source": [
    "fig, ax = plt.subplots()\n",
    "\n",
    "plt.plot(x,ECr[0],'--',label = 'HEx 1') #1 Row \\ - $\\sigma$ = 300 [$m^{-1}$]\n",
    "plt.plot(x,ECr[1],'--',label = 'HEx 2')\n",
    "plt.plot(x,ECr[2],'--',label = 'HEx 3')\n",
    "plt.plot(x,ECr[3],'--',label = 'HEx 4')\n",
    "plt.plot(x,ECr[4],'--',label = 'HEx 5')\n",
    "plt.plot(x,ECr[5],'--',label = 'HEx 6')\n",
    "\n",
    "plt.plot(cfm_Vent[0],ECr_vent[0],'kx')\n",
    "plt.plot(cfm_Vent[1],ECr_vent[1],'kx')\n",
    "plt.plot(cfm_Vent[2],ECr_vent[2],'kx')\n",
    "plt.plot(cfm_Vent[3],ECr_vent[3],'kx')\n",
    "plt.plot(cfm_Vent[4],ECr_vent[4],'kx')\n",
    "plt.plot(cfm_Vent[5],ECr_vent[5],'kx')\n",
    "\n",
    "plt.grid('True')\n",
    "#ax.legend(loc='center left', bbox_to_anchor=(1, 0.5), fontsize = 'large')\n",
    "plt.legend()\n",
    "plt.xlabel('$\\dot{V}$[cfm]', fontsize = 'large')\n",
    "plt.ylabel('$\\epsilon C^*$ [-]', fontsize = 'large')\n",
    "\n",
    "plt.xlim([30,90])\n",
    "plt.ylim([0.03,0.12])\n",
    "\n",
    "plt.show()\n",
    "\n",
    "fig.savefig('ECr_En.eps',format = 'eps', dpi=1000,bbox_inches='tight')"
   ]
  },
  {
   "cell_type": "code",
   "execution_count": 112,
   "metadata": {},
   "outputs": [
    {
     "data": {
      "image/png": "[encoded data removed]",
      "text/plain": [
       "<Figure size 432x288 with 1 Axes>"
      ]
     },
     "metadata": {},
     "output_type": "display_data"
    }
   ],
   "source": [
    "fig, ax = plt.subplots()\n",
    "\n",
    "plt.plot(W_f[0],QW[0],'-.',label = '1 Row \\ - $\\sigma$ = 300 [$m^{-1}$]') #'HEx 1'\n",
    "plt.plot(W_f[1],QW[1],'-.',label = '1 Row \\ - $\\sigma$ = 400 [$m^{-1}$]')\n",
    "plt.plot(W_f[2],QW[2],'-.',label = '1 Row \\ - $\\sigma$ = 500 [$m^{-1}$]')\n",
    "\n",
    "plt.plot(W_f[3],QW[3],'-.',label = '2 Row \\ - $\\sigma$ = 300 [$m^{-1}$]')\n",
    "plt.plot(W_f[4],QW[4],'-.',label = '2 Row \\ - $\\sigma$ = 400 [$m^{-1}$]')\n",
    "plt.plot(W_f[5],QW[5],'-.',label = '2 Row \\ - $\\sigma$ = 500 [$m^{-1}$]')\n",
    "\n",
    "plt.plot(W_Vent[0],QW_vent[0],'kx')\n",
    "plt.plot(W_Vent[1],QW_vent[1],'kx')\n",
    "plt.plot(W_Vent[2],QW_vent[2],'kx')\n",
    "\n",
    "plt.plot(W_Vent[3],QW_vent[3],'kx')\n",
    "plt.plot(W_Vent[4],QW_vent[4],'kx')\n",
    "plt.plot(W_Vent[5],QW_vent[5],'kx')\n",
    "\n",
    "plt.xlabel('$\\dot{W}_\\mathrm{fan}$ [W]', fontsize = 'large')\n",
    "plt.ylabel('$\\dot{Q}_\\mathrm{C,net}$ [W]', fontsize = 'large')\n",
    "\n",
    "ax.legend(loc='center left', bbox_to_anchor=(1, 0.5), fontsize = 'large')\n",
    "#plt.legend()\n",
    "plt.xlim([0.01,20])\n",
    "plt.ylim([60,110])\n",
    "\n",
    "plt.grid()\n",
    "\n",
    "fig.savefig('Qc_W_Eng.pdf',format = 'pdf', dpi=1200,bbox_inches='tight')"
   ]
  },
  {
   "cell_type": "code",
   "execution_count": 113,
   "metadata": {},
   "outputs": [
    {
     "data": {
      "text/plain": [
       "(array([[         -inf,          -inf,          -inf, ...,          -inf,\n",
       "                  -inf,          -inf],\n",
       "        [         -inf,          -inf,          -inf, ...,          -inf,\n",
       "                  -inf,          -inf],\n",
       "        [         -inf,          -inf,          -inf, ...,          -inf,\n",
       "                  -inf,          -inf],\n",
       "        [         -inf,          -inf,          -inf, ...,          -inf,\n",
       "                  -inf,          -inf],\n",
       "        [         -inf,          -inf,          -inf, ...,          -inf,\n",
       "                  -inf,          -inf],\n",
       "        [-203.71508412,  -27.09011523,   -0.75403761, ...,  149.79417916,\n",
       "          149.81230785,  149.83038242]]),\n",
       " array([0., 0., 0., 0., 0., 0., 0., 0., 0., 0., 0., 0., 0., 0., 0., 0., 0.,\n",
       "        0., 0., 0., 0., 0., 0., 0., 0., 0., 0., 0., 0., 0., 0., 0., 0., 0.,\n",
       "        0., 0., 0., 0., 0., 0., 0., 0., 0., 0., 0., 0., 0., 0., 0., 0., 0.,\n",
       "        0., 0., 0., 0., 0., 0., 0., 0., 0., 0., 0., 0., 0., 0., 0., 0., 0.,\n",
       "        0., 0., 0., 0., 0., 0., 0., 0., 0., 0., 0., 0., 0., 0., 0., 0., 0.,\n",
       "        0., 0., 0., 0., 0., 0., 0., 0., 0., 0., 0., 0., 0., 0., 0., 0., 0.,\n",
       "        0., 0., 0., 0., 0., 0., 0., 0., 0., 0., 0., 0., 0., 0., 0., 0., 0.,\n",
       "        0., 0., 0., 0., 0., 0., 0., 0., 0., 0., 0., 0., 0., 0., 0., 0., 0.,\n",
       "        0., 0., 0., 0., 0., 0., 0., 0., 0., 0., 0., 0., 0., 0., 0., 0., 0.,\n",
       "        0., 0., 0., 0., 0., 0., 0., 0., 0., 0., 0., 0., 0., 0., 0., 0., 0.,\n",
       "        0., 0., 0., 0., 0., 0., 0., 0., 0., 0., 0., 0., 0., 0., 0., 0., 0.,\n",
       "        0., 0., 0., 0., 0., 0., 0., 0., 0., 0., 0., 0., 0., 0., 0., 0., 0.,\n",
       "        0., 0., 0., 0., 0., 0., 0., 0., 0., 0., 0., 0., 0., 0., 0., 0., 0.,\n",
       "        0., 0., 0., 0., 0., 0., 0., 0., 0., 0., 0., 0., 0., 0., 0., 0., 0.,\n",
       "        0., 0., 0., 0., 0., 0., 0., 0., 0., 0., 0., 0., 0., 0., 0., 0., 0.,\n",
       "        0., 0., 0., 0., 0., 0., 0., 0., 0., 0., 0., 0., 0., 0., 0., 0., 0.,\n",
       "        0., 0., 0., 0., 0., 0., 0., 0., 0., 0., 0., 0., 0., 0., 0., 0., 0.,\n",
       "        0., 0., 0., 0., 0., 0., 0., 0., 0., 0., 0., 0., 0., 0., 0., 0., 0.,\n",
       "        0., 0., 0., 0., 0., 0., 0., 0., 0., 0., 0., 0., 0., 0., 0., 0., 0.,\n",
       "        0., 0., 0., 0., 0., 0., 0., 0., 0., 0., 0., 0., 0., 0., 0., 0., 0.,\n",
       "        0., 0., 0., 0., 0., 0., 0., 0., 0., 0., 0., 0., 0., 0., 0., 0., 0.,\n",
       "        0., 0., 0., 0., 0., 0., 0., 0., 0., 0., 0., 0., 0., 0., 0., 0., 0.,\n",
       "        0., 0., 0., 0., 0., 0., 0., 0., 0., 0., 0., 0., 0., 0., 0., 0., 0.,\n",
       "        0., 0., 0., 0., 0., 0., 0., 0., 0., 0., 0., 0., 0., 0., 0., 0., 0.,\n",
       "        0., 0., 0., 0., 0., 0., 0., 0., 0., 0., 0., 0., 0., 0., 0., 0., 0.,\n",
       "        0., 0., 0., 0., 0., 0., 0., 0., 0., 0., 0., 0., 0., 0., 0., 0., 0.,\n",
       "        0., 0., 0., 0., 0., 0., 0., 0., 0., 0., 0., 0., 0., 0., 0., 0., 0.,\n",
       "        0., 0., 0., 0., 0., 0., 0., 0., 0., 0., 0., 0., 0., 0., 0., 0., 0.,\n",
       "        0., 0., 0., 0., 0., 0., 0., 0., 0., 0., 0., 0., 0., 0., 0., 0., 0.,\n",
       "        0., 0., 0., 0., 0., 0., 0., 0.]))"
      ]
     },
     "execution_count": 113,
     "metadata": {},
     "output_type": "execute_result"
    }
   ],
   "source": [
    "QECr,W_f[0]"
   ]
  },
  {
   "cell_type": "code",
   "execution_count": 114,
   "metadata": {},
   "outputs": [],
   "source": [
    "cfm_1 = [41.5,50.5,59.0,69.6,79.4]\n",
    "UA_1 =  [8.4,9.0,9.5,9.9,10.3]\n",
    "W_1  = [0.818420218,1.520958305,2.400131873,3.807149077,5.542601938]\n",
    "\n",
    "cfm_2 = [39.8,48.8,60.0,70.4,80.5]\n",
    "UA_2 = [9.9,10.7,11.8,12.6,13.3]\n",
    "W_2 = [1.286586999,2.382417293,4.3189455,6.914383018,9.914460144]\n",
    "\n",
    "cfm_3 = [39.8,51.6,59.8,70.4,79.9]\n",
    "UA_3 =  [19.2,21.7,23.3,24.9,26.6]\n",
    "W_3  = [1.628977996,3.489680235,5.334170713,8.411238811,12.20898464]\n",
    "\n",
    "UA_H = UA_array\n",
    "W_H = W_array"
   ]
  },
  {
   "cell_type": "code",
   "execution_count": 115,
   "metadata": {},
   "outputs": [
    {
     "data": {
      "image/png": "[encoded data removed]",
      "text/plain": [
       "<Figure size 432x288 with 1 Axes>"
      ]
     },
     "metadata": {},
     "output_type": "display_data"
    }
   ],
   "source": [
    "fig, ax = plt.subplots()\n",
    "\n",
    "#plt.plot(x,UA_M,label = 'Joy 1 - Numeric ')\n",
    "plt.plot(cfm_1,UA_1,'o',label = 'CTal 014')\n",
    "plt.plot(cfm_2,UA_2,'o',label = 'Joy 1 - Experimental')\n",
    "\n",
    "\n",
    "plt.plot(x,UA_H,label = 'Joy 2 - Numeric ')\n",
    "plt.plot(cfm_3,UA_3,'o',label = 'Joy 2 - Experimental')\n",
    "\n",
    "plt.grid(True)\n",
    "plt.xlim([30,90])\n",
    "\n",
    "plt.legend()\n",
    "\n",
    "plt.xlabel('Volumetric air flow rate [cfm]')\n",
    "plt.ylabel('UA [W/K]')\n",
    "\n",
    "plt.show()\n",
    "\n",
    "fig.savefig('UA_Joys.png',format = 'png', dpi=500,bbox_inches='tight')"
   ]
  },
  {
   "cell_type": "code",
   "execution_count": 116,
   "metadata": {},
   "outputs": [
    {
     "ename": "NameError",
     "evalue": "name 'W_M' is not defined",
     "output_type": "error",
     "traceback": [
      "\u001b[1;31m---------------------------------------------------------------------------\u001b[0m",
      "\u001b[1;31mNameError\u001b[0m                                 Traceback (most recent call last)",
      "\u001b[1;32m<ipython-input-116-cf5aeb847d2d>\u001b[0m in \u001b[0;36m<module>\u001b[1;34m()\u001b[0m\n\u001b[0;32m      1\u001b[0m \u001b[0mfig\u001b[0m\u001b[1;33m,\u001b[0m \u001b[0max\u001b[0m \u001b[1;33m=\u001b[0m \u001b[0mplt\u001b[0m\u001b[1;33m.\u001b[0m\u001b[0msubplots\u001b[0m\u001b[1;33m(\u001b[0m\u001b[1;33m)\u001b[0m\u001b[1;33m\u001b[0m\u001b[0m\n\u001b[0;32m      2\u001b[0m \u001b[1;33m\u001b[0m\u001b[0m\n\u001b[1;32m----> 3\u001b[1;33m \u001b[0mplt\u001b[0m\u001b[1;33m.\u001b[0m\u001b[0mplot\u001b[0m\u001b[1;33m(\u001b[0m\u001b[0mx\u001b[0m\u001b[1;33m,\u001b[0m\u001b[0mW_M\u001b[0m\u001b[1;33m,\u001b[0m\u001b[0mlabel\u001b[0m \u001b[1;33m=\u001b[0m \u001b[1;34m'Joy 1 - Numeric '\u001b[0m\u001b[1;33m)\u001b[0m\u001b[1;33m\u001b[0m\u001b[0m\n\u001b[0m\u001b[0;32m      4\u001b[0m \u001b[0mplt\u001b[0m\u001b[1;33m.\u001b[0m\u001b[0mplot\u001b[0m\u001b[1;33m(\u001b[0m\u001b[0mcfm_2\u001b[0m\u001b[1;33m,\u001b[0m\u001b[0mW_2\u001b[0m\u001b[1;33m,\u001b[0m\u001b[1;34m'o'\u001b[0m\u001b[1;33m,\u001b[0m\u001b[0mlabel\u001b[0m \u001b[1;33m=\u001b[0m \u001b[1;34m'Joy 1 - Experimental'\u001b[0m\u001b[1;33m)\u001b[0m\u001b[1;33m\u001b[0m\u001b[0m\n\u001b[0;32m      5\u001b[0m \u001b[1;33m\u001b[0m\u001b[0m\n",
      "\u001b[1;31mNameError\u001b[0m: name 'W_M' is not defined"
     ]
    },
    {
     "data": {
      "image/png": "[encoded data removed]",
      "text/plain": [
       "<Figure size 432x288 with 1 Axes>"
      ]
     },
     "metadata": {},
     "output_type": "display_data"
    }
   ],
   "source": [
    "fig, ax = plt.subplots()\n",
    "\n",
    "plt.plot(x,W_M,label = 'Joy 1 - Numeric ')\n",
    "plt.plot(cfm_2,W_2,'o',label = 'Joy 1 - Experimental')\n",
    "\n",
    "\n",
    "plt.plot(x,W_H,label = 'Joy 2 - Numeric ')\n",
    "plt.plot(cfm_3,W_3,'o',label = 'Joy 2 - Experimental')\n",
    "#plt.errorbar(cfm_S,UA_S, fmt='o', xerr=0, yerr=0.15*np.asarray(UA_S))\n",
    "\n",
    "plt.plot(cfm_1,W_1,'o',label = 'CTal 014 - Experimental')\n",
    "\n",
    "\n",
    "#plt.plot(x,W_H,label = 'HEx 2 - Numeric ')\n",
    "#plt.plot(cfm_exp,W_exp,'o',label = 'HEx 2 - Experimental')\n",
    "#plt.errorbar(cfm_exp,UA_exp, fmt='o', xerr=0, yerr=0.15*np.asarray(UA_exp))\n",
    "\n",
    "#plt.plot(Fan_L_operacao_x,Fan_L_operacao_W,'kX')\n",
    "#plt.plot(Fan_M_operacao_x,Fan_M_operacao_W,'kX')\n",
    "#plt.plot(Fan_H_operacao_x,Fan_H_operacao_W,'kX')\n",
    "\n",
    "\n",
    "plt.grid(True)\n",
    "plt.xlim([30,90])\n",
    "\n",
    "plt.ylim([0,20])\n",
    "\n",
    "plt.legend()\n",
    "\n",
    "plt.xlabel('Volumetric air flow rate [cfm]')\n",
    "plt.ylabel('$\\dot{W}_\\mathrm{Pump}$ [W]')\n",
    "\n",
    "plt.show()\n",
    "\n",
    "fig.savefig('W_Joys_2.png',format = 'png', dpi=500,bbox_inches='tight')"
   ]
  },
  {
   "cell_type": "code",
   "execution_count": null,
   "metadata": {},
   "outputs": [],
   "source": [
    "fig, ax = plt.subplots()\n",
    "\n",
    "#plt.plot(x,W_L,label = 'HEx 1 - Numeric ')\n",
    "#plt.plot(cfm_S,W_S,'o',label = 'HEx 1 - Experimental')\n",
    "#plt.errorbar(cfm_S,UA_S, fmt='o', xerr=0, yerr=0.15*np.asarray(UA_S))\n",
    "\n",
    "\n",
    "\n",
    "plt.plot(x,W_H,'g', label = 'HEx 2 - Numeric ')\n",
    "plt.plot(cfm_exp,W_exp,'ro',label = 'HEx 2 - Experimental')\n",
    "#plt.errorbar(cfm_exp,UA_exp, fmt='o', xerr=0, yerr=0.15*np.asarray(UA_exp))\n",
    "\n",
    "plt.plot(Fan_L_operacao_x,Fan_L_operacao_W,'kX',label = 'Operation Points')\n",
    "plt.plot(Fan_M_operacao_x,Fan_M_operacao_W,'kX')\n",
    "plt.plot(Fan_H_operacao_x,Fan_H_operacao_W,'kX')\n",
    "\n",
    "\n",
    "plt.grid(True)\n",
    "plt.xlim([35,65])\n",
    "\n",
    "plt.ylim([1,6])\n",
    "\n",
    "plt.legend()\n",
    "\n",
    "plt.xlabel('Volumetric air flow rate [cfm]')\n",
    "plt.ylabel('$\\dot{W}_\\mathrm{Pump}$ [W]')\n",
    "\n",
    "plt.show()\n",
    "\n",
    "fig.savefig('Trocadores_Numerico_Operação.png',format = 'png', dpi=500,bbox_inches='tight')"
   ]
  },
  {
   "cell_type": "code",
   "execution_count": 43,
   "metadata": {},
   "outputs": [],
   "source": [
    "UA = 500\n",
    "Cf = 2500/3600*4148\n",
    "Ca = 900*0.00047194745*1.225*1005\n",
    "NTU = UA/Ca\n",
    "K1 = 1-np.exp(-NTU/2)\n",
    "K2 = 1-np.exp(-NTU/3)\n",
    "Cr = Ca/Cf\n",
    "\n",
    "E1  = (1-np.exp(-2*K1*Cr)*(1+Cr*K1**2))/Cr\n",
    "E2  = (1-np.exp(-3*K2*Cr)*(1+Cr*K2**2*(3-K2)+3*Cr**2*(K2**4)/2))/Cr\n",
    "E3  = (1-np.exp((NTU**0.22)*(np.exp(-Cr*NTU**0.78)-1)/Cr))"
   ]
  },
  {
   "cell_type": "code",
   "execution_count": 44,
   "metadata": {},
   "outputs": [
    {
     "data": {
      "text/plain": [
       "(0.583989833111515, 0.1815357016581726, 10.601500411513799)"
      ]
     },
     "execution_count": 44,
     "metadata": {},
     "output_type": "execute_result"
    }
   ],
   "source": [
    "E3,Cr,E3*Cr*100"
   ]
  },
  {
   "cell_type": "code",
   "execution_count": null,
   "metadata": {},
   "outputs": [],
   "source": [
    "from numpy import *\n",
    "from matplotlib import *\n",
    "from pylab import *\n",
    "from scipy import *\n",
    "from numpy import*\n",
    "import csv\n",
    "\n",
    "rc('text',usetex = True)\n",
    "rc('font', family='serif')"
   ]
  },
  {
   "cell_type": "code",
   "execution_count": null,
   "metadata": {},
   "outputs": [],
   "source": [
    "E_vent = np.zeros([6,3])\n",
    "K1_vent = np.zeros([6,3])\n",
    "Ca_vent = np.zeros([6,3])\n",
    "NTU_vent = np.zeros([6,3])\n",
    "Cr_vent = np.zeros([6,3])\n",
    "ECr_vent=np.zeros([6,3])\n",
    "\n",
    "for i in range(6):\n",
    "    for j in range(3):\n",
    "        Ca_vent[i][j] = cfm_Vent[i][j]*0.00047194745*1.225*1005\n",
    "        NTU_vent[i][j] = UA_Vent[i][j]/Ca_vent[i][j]\n",
    "        K1_vent[i][j] = 1-np.exp(-NTU_vent[i][j]/2)\n",
    "        Cr_vent[i][j] = Ca_vent[i][j]/Cf\n",
    "        E_vent[i][j] =(1-np.exp(-2*K1_vent[i][j]*Cr_vent[i][j])*(1+Cr_vent[i][j]*K1_vent[i][j]**2))/Cr_vent[i][j]\n",
    "        ECr_vent[i][j] = E_vent[i][j]*Cr_vent[i][j] "
   ]
  },
  {
   "cell_type": "code",
   "execution_count": null,
   "metadata": {},
   "outputs": [],
   "source": [
    "ECr,NTU,Ca"
   ]
  },
  {
   "cell_type": "code",
   "execution_count": 117,
   "metadata": {},
   "outputs": [
    {
     "ename": "TypeError",
     "evalue": "'float' object is not subscriptable",
     "output_type": "error",
     "traceback": [
      "\u001b[1;31m---------------------------------------------------------------------------\u001b[0m",
      "\u001b[1;31mTypeError\u001b[0m                                 Traceback (most recent call last)",
      "\u001b[1;32m<ipython-input-117-b9e1a5b2714c>\u001b[0m in \u001b[0;36m<module>\u001b[1;34m()\u001b[0m\n\u001b[0;32m      1\u001b[0m \u001b[0mfig\u001b[0m\u001b[1;33m,\u001b[0m \u001b[0max\u001b[0m \u001b[1;33m=\u001b[0m \u001b[0mplt\u001b[0m\u001b[1;33m.\u001b[0m\u001b[0msubplots\u001b[0m\u001b[1;33m(\u001b[0m\u001b[1;33m)\u001b[0m\u001b[1;33m\u001b[0m\u001b[0m\n\u001b[0;32m      2\u001b[0m \u001b[1;33m\u001b[0m\u001b[0m\n\u001b[1;32m----> 3\u001b[1;33m \u001b[0mplt\u001b[0m\u001b[1;33m.\u001b[0m\u001b[0mplot\u001b[0m\u001b[1;33m(\u001b[0m\u001b[0mNTU\u001b[0m\u001b[1;33m[\u001b[0m\u001b[1;36m0\u001b[0m\u001b[1;33m]\u001b[0m\u001b[1;33m,\u001b[0m\u001b[0mECr\u001b[0m\u001b[1;33m[\u001b[0m\u001b[1;36m0\u001b[0m\u001b[1;33m]\u001b[0m\u001b[1;33m,\u001b[0m\u001b[1;34m'o--'\u001b[0m\u001b[1;33m,\u001b[0m\u001b[0mlabel\u001b[0m \u001b[1;33m=\u001b[0m \u001b[1;34m'Trocador 1'\u001b[0m\u001b[1;33m)\u001b[0m\u001b[1;33m\u001b[0m\u001b[0m\n\u001b[0m\u001b[0;32m      4\u001b[0m \u001b[0mplt\u001b[0m\u001b[1;33m.\u001b[0m\u001b[0mplot\u001b[0m\u001b[1;33m(\u001b[0m\u001b[0mNTU\u001b[0m\u001b[1;33m[\u001b[0m\u001b[1;36m1\u001b[0m\u001b[1;33m]\u001b[0m\u001b[1;33m,\u001b[0m\u001b[0mECr\u001b[0m\u001b[1;33m[\u001b[0m\u001b[1;36m1\u001b[0m\u001b[1;33m]\u001b[0m\u001b[1;33m,\u001b[0m\u001b[1;34m'o--'\u001b[0m\u001b[1;33m,\u001b[0m\u001b[0mlabel\u001b[0m \u001b[1;33m=\u001b[0m \u001b[1;34m'Trocador 2'\u001b[0m\u001b[1;33m)\u001b[0m\u001b[1;33m\u001b[0m\u001b[0m\n\u001b[0;32m      5\u001b[0m \u001b[0mplt\u001b[0m\u001b[1;33m.\u001b[0m\u001b[0mplot\u001b[0m\u001b[1;33m(\u001b[0m\u001b[0mNTU\u001b[0m\u001b[1;33m[\u001b[0m\u001b[1;36m2\u001b[0m\u001b[1;33m]\u001b[0m\u001b[1;33m,\u001b[0m\u001b[0mECr\u001b[0m\u001b[1;33m[\u001b[0m\u001b[1;36m2\u001b[0m\u001b[1;33m]\u001b[0m\u001b[1;33m,\u001b[0m\u001b[1;34m'o--'\u001b[0m\u001b[1;33m,\u001b[0m\u001b[0mlabel\u001b[0m \u001b[1;33m=\u001b[0m \u001b[1;34m'Trocador 3'\u001b[0m\u001b[1;33m)\u001b[0m\u001b[1;33m\u001b[0m\u001b[0m\n",
      "\u001b[1;31mTypeError\u001b[0m: 'float' object is not subscriptable"
     ]
    },
    {
     "data": {
      "image/png": "[encoded data removed]",
      "text/plain": [
       "<Figure size 432x288 with 1 Axes>"
      ]
     },
     "metadata": {},
     "output_type": "display_data"
    }
   ],
   "source": [
    "fig, ax = plt.subplots()\n",
    "\n",
    "plt.plot(NTU[0],ECr[0],'o--',label = 'Trocador 1')\n",
    "plt.plot(NTU[1],ECr[1],'o--',label = 'Trocador 2')\n",
    "plt.plot(NTU[2],ECr[2],'o--',label = 'Trocador 3')\n",
    "plt.plot(NTU[3],ECr[3],'o--',label = 'Trocador 4')\n",
    "plt.plot(NTU[4],ECr[4],'o--',label = 'Trocador 5')\n",
    "plt.plot(NTU[5],ECr[5],'o--',label = 'Trocador 6')\n",
    "\n",
    "plt.grid('True')\n",
    "plt.legend()\n",
    "plt.xlabel('Volumetric air flow rate [cfm]')\n",
    "plt.ylabel('$\\epsilon \\ \\dot{C}_r$ [-]')\n",
    "\n",
    "plt.show()\n",
    "\n",
    "fig.savefig('ECr.png',format = 'png', dpi=500,bbox_inches='tight')"
   ]
  },
  {
   "cell_type": "code",
   "execution_count": 118,
   "metadata": {},
   "outputs": [],
   "source": [
    "dT = [17.36792415,20.54764981]\n",
    "Qc = [26.09605464,24.31890865]\n",
    "x = np.arange(16,21)"
   ]
  },
  {
   "cell_type": "code",
   "execution_count": 119,
   "metadata": {},
   "outputs": [
    {
     "name": "stderr",
     "output_type": "stream",
     "text": [
      "C:\\Users\\Usuario\\Anaconda_new\\lib\\site-packages\\matplotlib\\cbook\\deprecation.py:107: MatplotlibDeprecationWarning: Passing one of 'on', 'true', 'off', 'false' as a boolean is deprecated; use an actual boolean (True/False) instead.\n",
      "  warnings.warn(message, mplDeprecation, stacklevel=1)\n"
     ]
    },
    {
     "data": {
      "image/png": "[encoded data removed]",
      "text/plain": [
       "<Figure size 432x288 with 1 Axes>"
      ]
     },
     "metadata": {},
     "output_type": "display_data"
    }
   ],
   "source": [
    "fig, ax = plt.subplots()\n",
    "\n",
    "plt.plot(dT,Qc,label = 'AMR - L = 100 mm - $\\phi = 0.4$')\n",
    "plt.plot(x,1.3*x, label = 'Sistema - UA = 1.3 W/k')\n",
    "\n",
    "\n",
    "plt.grid(True)\n",
    "\n",
    "plt.grid('True')\n",
    "plt.legend()\n",
    "plt.xlim([17.5,20.5])\n",
    "plt.ylim([22,26])\n",
    "plt.xlabel('$\\Delta T_{\\mathrm{system}}$ [K]')\n",
    "plt.ylabel('$\\dot{Q}_\\mathrm{C}$[W]')\n",
    "\n",
    "\n",
    "plt.show()\n",
    "\n",
    "fig.savefig('Gislaine.png',format = 'png', dpi=500,bbox_inches='tight')"
   ]
  },
  {
   "cell_type": "code",
   "execution_count": null,
   "metadata": {},
   "outputs": [],
   "source": []
  },
  {
   "cell_type": "code",
   "execution_count": null,
   "metadata": {},
   "outputs": [],
   "source": []
  },
  {
   "cell_type": "code",
   "execution_count": null,
   "metadata": {},
   "outputs": [],
   "source": []
  },
  {
   "cell_type": "code",
   "execution_count": null,
   "metadata": {},
   "outputs": [],
   "source": []
  }
 ],
 "metadata": {
  "kernelspec": {
   "display_name": "Python 3",
   "language": "python",
   "name": "python3"
  },
  "language_info": {
   "codemirror_mode": {
    "name": "ipython",
    "version": 3
   },
   "file_extension": ".py",
   "mimetype": "text/x-python",
   "name": "python",
   "nbconvert_exporter": "python",
   "pygments_lexer": "ipython3",
   "version": "3.6.5"
  }
 },
 "nbformat": 4,
 "nbformat_minor": 2
}
