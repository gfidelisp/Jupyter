{
 "cells": [
  {
   "cell_type": "code",
   "execution_count": 4,
   "metadata": {},
   "outputs": [],
   "source": [
    "from numpy import *\n",
    "from matplotlib import *\n",
    "from pylab import *\n",
    "from scipy import *\n",
    "from numpy import*\n",
    "import csv\n",
    "import xlrd\n",
    "import matplotlib.pyplot as plt\n",
    "from scipy.optimize import fsolve"
   ]
  },
  {
   "cell_type": "code",
   "execution_count": 7,
   "metadata": {},
   "outputs": [],
   "source": [
    "import csv\n",
    "\n",
    "H_Fe = []\n",
    "B_Fe = []\n",
    "\n",
    "csv.register_dialect('myDialect', delimiter = ';')\n",
    "with open('BH_S235JR.csv', 'r') as csvFile:\n",
    "    reader = csv.reader(csvFile, dialect='myDialect')\n",
    "    for row in reader:\n",
    "        H_Fe.append((row[0]))\n",
    "        B_Fe.append((row[1]))\n",
    "csvFile.close()"
   ]
  },
  {
   "cell_type": "code",
   "execution_count": 29,
   "metadata": {},
   "outputs": [],
   "source": [
    "alpha_mag = (45*pi/180)/3\n",
    "R_gap = 220\n",
    "R_o = 170\n",
    "R_1 = 30\n",
    "B_sat = 1.8\n",
    "N = 3\n",
    "mu_rec = 1.1\n",
    "mu_0 = 4*pi*10**-7\n",
    "B_rem = 1.41\n",
    "alpha_ar = (10*pi/180)\n",
    "aux = np.arange(0,N)"
   ]
  },
  {
   "cell_type": "code",
   "execution_count": 30,
   "metadata": {},
   "outputs": [],
   "source": [
    "aux = np.arange(0,N)\n",
    "B_target = 1.3\n",
    "B_gap = np.zeros(N)\n",
    "\n",
    "B_gap[0] = B_target\n",
    "B_gap[1] = B_target\n",
    "B_gap[2] = B_target*0.7\n",
    "\n",
    "\n",
    "\n",
    "#B_gap[0:np.int(N/2)] = B_target*(aux[np.int(0):np.int(N/2)])/N + B_target/2\n",
    "#B_gap[np.int(N/2):np.int(N)] = B_target"
   ]
  },
  {
   "cell_type": "code",
   "execution_count": 31,
   "metadata": {},
   "outputs": [],
   "source": [
    "B_r = B_gap*(3*alpha_mag/2)*(R_gap+R_o)/(R_o - R_1)\n",
    "R_so = R_gap+(sum(B_gap)/B_sat)*(3*alpha_mag/2*(R_gap+R_o))/N\n",
    "l_g = R_gap - R_o"
   ]
  },
  {
   "cell_type": "code",
   "execution_count": 32,
   "metadata": {},
   "outputs": [
    {
     "data": {
      "text/plain": [
       "array([1.42213167, 1.42213167, 0.99549217])"
      ]
     },
     "execution_count": 32,
     "metadata": {},
     "output_type": "execute_result"
    }
   ],
   "source": [
    "B_r"
   ]
  },
  {
   "cell_type": "code",
   "execution_count": 33,
   "metadata": {},
   "outputs": [],
   "source": [
    "for i in range(1,len(H_Fe)-1):\n",
    "    if B_r[0] <np.float(B_Fe[i+1]) and B_r[0]>np.float(B_Fe[i]):\n",
    "        H_r1 = np.float(H_Fe[i]) + (np.float(H_Fe[i+1])-np.float(H_Fe[i]))*(B_r[0]-np.float(B_Fe[i]))/(np.float(B_Fe[i+1])-np.float(B_Fe[i]))\n",
    "    if B_r[1] <np.float(B_Fe[i+1]) and B_r[1]>np.float(B_Fe[i]):\n",
    "        H_r2 = np.float(H_Fe[i]) + (np.float(H_Fe[i+1])-np.float(H_Fe[i]))*(B_r[1]-np.float(B_Fe[i]))/(np.float(B_Fe[i+1])-np.float(B_Fe[i]))\n",
    "    if B_r[2] <np.float(B_Fe[i+1]) and B_r[2]>np.float(B_Fe[i]):\n",
    "        H_r3 = np.float(H_Fe[i]) + (np.float(H_Fe[i+1])-np.float(H_Fe[i]))*(B_r[2]-np.float(B_Fe[i]))/(np.float(B_Fe[i+1])-np.float(B_Fe[i]))\n",
    "    if B_sat <np.float(B_Fe[i+1]) and B_sat>np.float(B_Fe[i]):\n",
    "        H_r1 = np.float(H_Fe[i]) + (np.float(H_Fe[i+1])-np.float(H_Fe[i]))*(B_sat-np.float(B_Fe[i]))/(np.float(B_Fe[i+1])-np.float(B_Fe[i]))"
   ]
  },
  {
   "cell_type": "code",
   "execution_count": 34,
   "metadata": {},
   "outputs": [
    {
     "data": {
      "text/plain": [
       "(8945.052187500005, 999.787874899474, 451.8106250266003, 10018.21)"
      ]
     },
     "execution_count": 34,
     "metadata": {},
     "output_type": "execute_result"
    }
   ],
   "source": [
    "H_r1,H_r2,H_r3,H_sat"
   ]
  },
  {
   "cell_type": "code",
   "execution_count": 35,
   "metadata": {},
   "outputs": [],
   "source": [
    "#B_gap = 1.3\n",
    "#H_r1 = 1000\n",
    "#H_r2 = 1000\n",
    "#H_r3 = 1000\n",
    "\n",
    "H_g = B_gap/mu_0\n",
    "H_c = H_sat\n",
    "H_d = H_sat\n",
    "H_p = H_sat"
   ]
  },
  {
   "cell_type": "code",
   "execution_count": 36,
   "metadata": {},
   "outputs": [],
   "source": [
    "alpha_r = pi/2 - 3*alpha_mag/(2*N) - 3*alpha_mag/N*aux\n",
    "R_r = R_1 + (R_o-R_1)/(2*N) + (R_o-R_1)/N*aux\n",
    "l_r = 2*R_r*alpha_r + 2*(R_o - R_r)"
   ]
  },
  {
   "cell_type": "code",
   "execution_count": 37,
   "metadata": {},
   "outputs": [
    {
     "data": {
      "text/plain": [
       "array([386.92230751, 375.61944902, 315.44737147])"
      ]
     },
     "execution_count": 37,
     "metadata": {},
     "output_type": "execute_result"
    }
   ],
   "source": [
    "l_r"
   ]
  },
  {
   "cell_type": "code",
   "execution_count": 38,
   "metadata": {},
   "outputs": [],
   "source": [
    "def equations(X):\n",
    "    R_c1, R_c2, R_c3, R_s1, R_s2, R_s3, alpha_dente, H_m1, H_m2, H_m3, l_c1,l_c2,l_c3,R_r1,R_r2,R_r3,alpha_r1,alpha_r2,alpha_r3,l_p1,l_p2,l_p3,R_p1,R_p2,R_p3,alpha_0 = X\n",
    "    return(\n",
    "           R_c1 - R_s1 -B_gap[0]/B_sat*(3*alpha_mag/2*(R_gap+R_o))/N,\n",
    "           R_c2 - R_s2 -(B_gap[0]+B_gap[1])/B_sat*(3*alpha_mag/2*(R_gap+R_o))/N,\n",
    "           R_c3 - R_s3 -(B_gap[0]+B_gap[1]+B_gap[2])/B_sat*(3*alpha_mag/2*(R_gap+R_o))/N,       \n",
    "           \n",
    "           R_so-R_gap - alpha_dente*(R_so+R_s3)/2,   \n",
    "        \n",
    "           H_m1-1/(mu_rec*mu_0)*(B_gap[0]*(R_gap+R_o)/(R_s1+R_gap) - B_rem),\n",
    "           H_m2-1/(mu_rec*mu_0)*(B_gap[1]*(R_gap+R_o)/(R_s2+R_gap) - B_rem),\n",
    "           H_m3-1/(mu_rec*mu_0)*(B_gap[2]*(R_gap+R_o)/(R_s3+R_gap) - B_rem),\n",
    "           \n",
    "           H_r1*l_r[0] + 2*H_g[0]*l_g + 2*H_m1*(R_s1 - R_gap) + 2*H_c*l_c1 + 2*H_d*(R_s1 - R_so) + H_p*l_p1,\n",
    "           H_r2*l_r[1] + 2*H_g[1]*l_g + 2*H_m2*(R_s2 - R_gap) + 2*H_c*l_c2 + 2*H_d*(R_s2 - R_so) + H_p*l_p2,\n",
    "           H_r3*l_r[2] + 2*H_g[2]*l_g + 2*H_m3*(R_s3 - R_gap) + 2*H_c*l_c3 + 2*H_d*(R_s3 - R_so) + H_p*l_p3,\n",
    "        \n",
    "        \n",
    "           l_c1 - 2*(R_r1 - R_s1) - R_r1*alpha_r1,\n",
    "           l_c2 - 2*(R_r2 - R_s2) - R_r2*alpha_r2,\n",
    "           l_c3 - 2*(R_r3 - R_s3) - R_r3*alpha_r3,\n",
    "        \n",
    "        \n",
    "           R_r1 - R_c1 + (R_c1 - R_s1)/(2*N) + (R_c1-R_s1)/N*0,\n",
    "           R_r2 - R_c2 + (R_c2 - R_s2)/(2*N) + (R_c2-R_s3)/N*1,\n",
    "           R_r3 - R_c3 + (R_c3 - R_s3)/(2*N) + (R_c2-R_s3)/N*2,\n",
    "        \n",
    "        \n",
    "           alpha_r1 - ((alpha_dente)/2 + alpha_ar + 3*alpha_mag) + 3*alpha_mag/(2*N) + 3*alpha_mag/N*0,\n",
    "           alpha_r2 - ((alpha_dente)/2 + alpha_ar + 3*alpha_mag) + 3*alpha_mag/(2*N) + 3*alpha_mag/N*1,\n",
    "           alpha_r3 - ((alpha_dente)/2 + alpha_ar + 3*alpha_mag) + 3*alpha_mag/(2*N) + 3*alpha_mag/N*2,\n",
    "        \n",
    "        \n",
    "           l_p1 - 2*(R_so-R_p1) - 2*(alpha_0 + (alpha_dente)/2)*R_p1,\n",
    "           l_p2 - 2*(R_so-R_p2) - 2*(alpha_0 + (alpha_dente)/2)*R_p2,\n",
    "           l_p3 - 2*(R_so-R_p3) - 2*(alpha_0 + (alpha_dente)/2)*R_p3,\n",
    "        \n",
    "        \n",
    "           R_p1 - R_so + (R_so-R_gap)/(2*N) + (R_so-R_gap)/(N)*0,\n",
    "           R_p2 - R_so + (R_so-R_gap)/(2*N) + (R_so-R_gap)/(N)*1,\n",
    "           R_p3 - R_so + (R_so-R_gap)/(2*N) + (R_so-R_gap)/(N)*2,\n",
    "        \n",
    "           pi/2 - 3*alpha_mag-alpha_ar-alpha_dente - alpha_0\n",
    "          )"
   ]
  },
  {
   "cell_type": "code",
   "execution_count": 54,
   "metadata": {},
   "outputs": [],
   "source": [
    "def equation(X):\n",
    "    N = 3\n",
    "    a,b,c = X\n",
    "    A = np.zeros(N)\n",
    "    for i in range(N):\n",
    "               A[i] = 3*i*a + b*i**2 + c + 2\n",
    "    return(A)"
   ]
  },
  {
   "cell_type": "code",
   "execution_count": 55,
   "metadata": {},
   "outputs": [
    {
     "data": {
      "text/plain": [
       "(1.2116903504194741e-27, -2.4233807008389483e-27, -2.0)"
      ]
     },
     "execution_count": 55,
     "metadata": {},
     "output_type": "execute_result"
    }
   ],
   "source": [
    "a,b,c = fsolve(equation,(1,2,3))\n",
    "a,b,c"
   ]
  },
  {
   "cell_type": "code",
   "execution_count": 39,
   "metadata": {},
   "outputs": [],
   "source": [
    "R_c1, R_c2, R_c3, R_s1, R_s2, R_s3, alpha_dente, H_m1, H_m2, H_m3, l_c1,l_c2,l_c3,R_r1,R_r2,R_r3,alpha_r1,alpha_r2,alpha_r3,l_p1,l_p2,l_p3,R_p1,R_p2,R_p3,alpha_0 = fsolve(equations,(2*R_gap, 2*R_gap, 2*R_gap, 2*R_gap, 2*R_gap, 2*R_gap, 0.1, -H_g[1], -H_g[0], -H_g[0], R_gap,R_gap,R_gap,R_gap,R_gap,R_gap,0.1,0.1,0.1,R_gap,R_gap,R_gap,R_gap,R_gap,R_gap,0.1),maxfev = 1000000000)"
   ]
  },
  {
   "cell_type": "code",
   "execution_count": 40,
   "metadata": {},
   "outputs": [
    {
     "data": {
      "text/plain": [
       "(16.430903438059666, 18.569096561940334)"
      ]
     },
     "execution_count": 40,
     "metadata": {},
     "output_type": "execute_result"
    }
   ],
   "source": [
    "alpha_0*180/pi,alpha_dente*180/pi"
   ]
  },
  {
   "cell_type": "code",
   "execution_count": 41,
   "metadata": {},
   "outputs": [],
   "source": [
    "R_cf = [R_c1, R_c2, R_c3]\n",
    "R_sf = [R_s1, R_s2, R_s3]"
   ]
  },
  {
   "cell_type": "code",
   "execution_count": 42,
   "metadata": {},
   "outputs": [
    {
     "data": {
      "text/plain": [
       "[<matplotlib.lines.Line2D at 0x1defd7977c8>]"
      ]
     },
     "execution_count": 42,
     "metadata": {},
     "output_type": "execute_result"
    },
    {
     "data": {
      "image/png": "[encoded data removed]",
      "text/plain": [
       "<Figure size 432x288 with 1 Axes>"
      ]
     },
     "metadata": {
      "needs_background": "light"
     },
     "output_type": "display_data"
    }
   ],
   "source": [
    "plt.plot(aux,R_sf,'o')\n",
    "plt.plot(aux,R_cf,'o')"
   ]
  },
  {
   "cell_type": "code",
   "execution_count": 310,
   "metadata": {},
   "outputs": [],
   "source": [
    "l_cf = [l_c1,l_c2,l_c3]\n",
    "R_rf = [R_r1,R_r2,R_r3]\n",
    "alpha_rf = [alpha_r1,alpha_r2,alpha_r3]\n",
    "l_pf = [l_p1,l_p2,l_p3]\n",
    "R_pf = [R_p1,R_p2,R_p3]"
   ]
  },
  {
   "cell_type": "code",
   "execution_count": 311,
   "metadata": {},
   "outputs": [
    {
     "data": {
      "text/plain": [
       "(array([51.63928103, 36.63928103, 21.63928103]),\n",
       " [373.15841558205403, 407.1805658019709, 441.2027160218879],\n",
       " [312.17520112095053, 275.30512067257035, 238.43504022419012],\n",
       " 330.61024134514065,\n",
       " [395.7945929571975, 400.47195012150377, 405.06332322567084],\n",
       " [401.9396063652609, 437.7304406458581, 473.43529086631605])"
      ]
     },
     "execution_count": 311,
     "metadata": {},
     "output_type": "execute_result"
    }
   ],
   "source": [
    "np.array(alpha_rf)*180/pi,l_pf,R_pf,R_so,R_rf,R_cf"
   ]
  },
  {
   "cell_type": "code",
   "execution_count": 273,
   "metadata": {},
   "outputs": [
    {
     "data": {
      "text/plain": [
       "(403.38726405555633,\n",
       " 438.6170249073205,\n",
       " 473.57970734648575,\n",
       " 366.5171836071761,\n",
       " 364.8768640105601,\n",
       " 362.9694660013451,\n",
       " 0.31895466418370794,\n",
       " -394686.31669810927,\n",
       " -392932.48183191154,\n",
       " -390880.67493485013,\n",
       " 419.4616394221842,\n",
       " 328.9562265578707,\n",
       " 236.32420484178377,\n",
       " 397.242250647493,\n",
       " 401.11114512253533,\n",
       " 404.7129611849787,\n",
       " 0.9012422641894442,\n",
       " 0.6394428763902947,\n",
       " 0.3776434885911452,\n",
       " 373.17915227948083,\n",
       " 339.15945122292624,\n",
       " 305.1397501663715,\n",
       " 312.17520112095053,\n",
       " 349.04528156933077,\n",
       " 385.915362017711,\n",
       " 0.37917703661402385)"
      ]
     },
     "execution_count": 273,
     "metadata": {},
     "output_type": "execute_result"
    }
   ],
   "source": [
    "R_c1, R_c2, R_c3, R_s1, R_s2, R_s3, alpha_dente, H_m1, H_m2, H_m3, l_c1,l_c2,l_c3,R_r1,R_r2,R_r3,alpha_r1,alpha_r2,alpha_r3,l_p1,l_p2,l_p3,R_p1,R_p2,R_p3,alpha_0"
   ]
  },
  {
   "cell_type": "code",
   "execution_count": 215,
   "metadata": {},
   "outputs": [],
   "source": [
    "def equations(X):\n",
    "    R_c,R_s,alpha_dente,H_m,l_c,R_r,alpha_r,l_p,R_p,alpha_0 = X\n",
    "    return(\n",
    "           (R_c - R_c_i) - R_s-B_gap[i]/B_sat*(3*alpha_mag/2*(R_gap+R_o))/N,\n",
    "           (alpha_dente -alpha_dente_i)- 2*(R_c - R_c_i-R_s)/(R_s+R_so[i])/N,\n",
    "           H_m-1/(mu_rec*mu_0)*(B_gap[i]*(R_gap+R_o)/(R_s+R_gap) - B_rem),\n",
    "           l_c - 2*(R_r - R_s) - R_r*alpha_r,\n",
    "           R_r - (R_c - R_c_i) + ((R_c - R_c_i) - R_s)/(2*N) + ((R_c - R_c_i)-R_s)/N*i,\n",
    "           alpha_r - ((alpha_dente -alpha_dente_i)/2 + alpha_ar + 3*alpha_mag) + 3*alpha_mag/(2*N) + 3*alpha_mag/N*i,\n",
    "           H_r*l_r[i] + 2*H_g[i]*l_g + 2*H_m*(R_s - R_gap) + 2*H_c*l_c + 2*H_d*(R_s - R_so[i]) + H_p*l_p,\n",
    "           l_p - 2*(R_so[i]-R_p) - 2*(alpha_0 + (alpha_dente -alpha_dente_i)/2)*R_p,\n",
    "           R_p - R_so[i] + (R_so[i]-R_gap)/(2*N) - (R_so[i]-R_gap)/(N)*i,\n",
    "           pi/2 - 3*alpha_mag-alpha_ar-(alpha_dente -alpha_dente_i) - alpha_0\n",
    "          )"
   ]
  },
  {
   "cell_type": "code",
   "execution_count": 216,
   "metadata": {},
   "outputs": [],
   "source": [
    "R_c = np.zeros(N)\n",
    "R_s = np.zeros(N)\n",
    "alpha_dente = np.zeros(N)\n",
    "H_m = np.zeros(N)\n",
    "l_c = np.zeros(N)\n",
    "R_r = np.zeros(N)\n",
    "alpha_r = np.zeros(N)\n",
    "l_p = np.zeros(N)\n",
    "R_p = np.zeros(N)\n",
    "alpha_0 = np.zeros(N)\n",
    "\n",
    "R_c_i = 0\n",
    "alpha_dente_i = 0\n",
    "for i in range(N):\n",
    "    #B_gap = B_gp[N-1]\n",
    "    #H_g = B_gap/mu_0\n",
    "    R_c[i],R_s[i],alpha_dente[i],H_m[i],l_c[i],R_r[i],alpha_r[i],l_p[i],R_p[i],alpha_0[i] = fsolve(equations,(450,400,1,10000,100,425,1,100,100,0.5),maxfev = 1000000000)\n",
    "    R_c_i = R_c[i] - R_s[i]\n",
    "    alpha_dente_i = alpha_dente[i]"
   ]
  },
  {
   "cell_type": "code",
   "execution_count": 217,
   "metadata": {},
   "outputs": [],
   "source": [
    "for i in range(N-1):\n",
    "    R_c[i+1] = R_c[i+1] + (R_c[i] - R_s[i])"
   ]
  },
  {
   "cell_type": "code",
   "execution_count": 218,
   "metadata": {},
   "outputs": [
    {
     "data": {
      "text/plain": [
       "array([ 0.        ,  2.65696361, 14.14376447,  9.60396512,  9.60224001,\n",
       "        9.60048563,  9.59869971,  9.59687995,  8.70554633,  8.31509845,\n",
       "        8.31418705,  8.31324882,  8.31231019,  8.31137113,  8.31043166,\n",
       "        8.30949175,  8.3085514 ,  8.3076106 ,  8.30666935,  8.30572763])"
      ]
     },
     "execution_count": 218,
     "metadata": {},
     "output_type": "execute_result"
    }
   ],
   "source": [
    "pi/2 - 3*alpha_mag-alpha_ar-alpha_dente - alpha_0"
   ]
  },
  {
   "cell_type": "code",
   "execution_count": 219,
   "metadata": {},
   "outputs": [
    {
     "data": {
      "text/plain": [
       "array([ -2.76525603, -16.03493331, -33.84408455, -48.05840294,\n",
       "       -58.40136289, -64.59643878, -66.36710503, -63.43683601,\n",
       "       -53.59247231, -38.49412215, -17.86525992,   8.29411437,\n",
       "        39.98400073,  77.20439916, 119.95530966, 168.23673223,\n",
       "       222.04866686, 281.39111356, 346.26407233, 416.66754316])"
      ]
     },
     "execution_count": 219,
     "metadata": {},
     "output_type": "execute_result"
    }
   ],
   "source": [
    "R_c - R_s-B_gap[i]/B_sat*(3*alpha_mag/2*(R_gap+R_o))/N"
   ]
  },
  {
   "cell_type": "code",
   "execution_count": 220,
   "metadata": {},
   "outputs": [
    {
     "data": {
      "text/plain": [
       "[<matplotlib.lines.Line2D at 0x1e90a52b288>]"
      ]
     },
     "execution_count": 220,
     "metadata": {},
     "output_type": "execute_result"
    },
    {
     "data": {
      "image/png": "[encoded data removed]",
      "text/plain": [
       "<Figure size 432x288 with 1 Axes>"
      ]
     },
     "metadata": {
      "needs_background": "light"
     },
     "output_type": "display_data"
    }
   ],
   "source": [
    "plt.plot(alpha_dente,'o')"
   ]
  },
  {
   "cell_type": "code",
   "execution_count": 370,
   "metadata": {},
   "outputs": [
    {
     "data": {
      "text/plain": [
       "18.90760723931717"
      ]
     },
     "execution_count": 370,
     "metadata": {},
     "output_type": "execute_result"
    }
   ],
   "source": [
    "0.33*180/pi"
   ]
  },
  {
   "cell_type": "code",
   "execution_count": 371,
   "metadata": {},
   "outputs": [
    {
     "data": {
      "text/plain": [
       "array([-66.79139916, 176.78970734, 234.17074284, 243.97685609,\n",
       "       252.40462137, 239.57041638, 235.72624414, 231.15827666,\n",
       "       236.19422695, 304.95908819, 311.36913324, 315.29467179,\n",
       "       321.28675141, 139.29146963, 169.19159801, 174.58030208,\n",
       "       179.96900614, 185.03810537, 190.42680943, 195.8155135 ])"
      ]
     },
     "execution_count": 371,
     "metadata": {},
     "output_type": "execute_result"
    }
   ],
   "source": [
    "R_c - R_s-B_gap/B_sat*(3*alpha_mag/2*(R_gap+R_o))"
   ]
  },
  {
   "cell_type": "code",
   "execution_count": 372,
   "metadata": {
    "scrolled": true
   },
   "outputs": [
    {
     "data": {
      "text/plain": [
       "107.77408131064983"
      ]
     },
     "execution_count": 372,
     "metadata": {},
     "output_type": "execute_result"
    }
   ],
   "source": [
    "B_gap/B_sat*3*alpha_mag/2*(R_gap+R_o)"
   ]
  },
  {
   "cell_type": "code",
   "execution_count": 333,
   "metadata": {},
   "outputs": [
    {
     "data": {
      "text/plain": [
       "113.7705339550018"
      ]
     },
     "execution_count": 333,
     "metadata": {},
     "output_type": "execute_result"
    }
   ],
   "source": [
    "B_gap/B_sat*3*alpha_mag*(R_gap + R_o)/2"
   ]
  },
  {
   "cell_type": "code",
   "execution_count": 334,
   "metadata": {},
   "outputs": [
    {
     "data": {
      "text/plain": [
       "473"
      ]
     },
     "execution_count": 334,
     "metadata": {},
     "output_type": "execute_result"
    }
   ],
   "source": []
  }
 ],
 "metadata": {
  "kernelspec": {
   "display_name": "Python 3",
   "language": "python",
   "name": "python3"
  },
  "language_info": {
   "codemirror_mode": {
    "name": "ipython",
    "version": 3
   },
   "file_extension": ".py",
   "mimetype": "text/x-python",
   "name": "python",
   "nbconvert_exporter": "python",
   "pygments_lexer": "ipython3",
   "version": "3.7.4"
  }
 },
 "nbformat": 4,
 "nbformat_minor": 2
}
