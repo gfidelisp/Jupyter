{
 "cells": [
  {
   "cell_type": "code",
   "execution_count": 1,
   "metadata": {},
   "outputs": [],
   "source": [
    "%matplotlib inline\n",
    "from pathlib import Path\n",
    "import numpy as np\n",
    "import os\n",
    "import scipy.optimize\n",
    "import matplotlib.pyplot as plt\n",
    "import matplotlib\n",
    "import pandas as pd\n",
    "#import nemplot\n",
    "import openpyxl as ex\n",
    "from scipy.optimize import minimize\n",
    "from collections import Counter\n",
    "import collections\n",
    "import sklearn\n",
    "from joblib import dump, load\n",
    "\n",
    "import matplotlib.pyplot as plt\n",
    "\n",
    "plt.rc('text',usetex = True)\n",
    "plt.rc('font', family='serif',size = 12)"
   ]
  },
  {
   "cell_type": "code",
   "execution_count": 2,
   "metadata": {},
   "outputs": [
    {
     "name": "stderr",
     "output_type": "stream",
     "text": [
      "C:\\Users\\Guilherme\\Anaconda3\\lib\\site-packages\\sklearn\\base.py:306: UserWarning: Trying to unpickle estimator StandardScaler from version 0.21.2 when using version 0.21.3. This might lead to breaking code or invalid results. Use at your own risk.\n",
      "  UserWarning)\n",
      "C:\\Users\\Guilherme\\Anaconda3\\lib\\site-packages\\sklearn\\base.py:306: UserWarning: Trying to unpickle estimator PolynomialFeatures from version 0.21.2 when using version 0.21.3. This might lead to breaking code or invalid results. Use at your own risk.\n",
      "  UserWarning)\n",
      "C:\\Users\\Guilherme\\Anaconda3\\lib\\site-packages\\sklearn\\base.py:306: UserWarning: Trying to unpickle estimator Ridge from version 0.21.2 when using version 0.21.3. This might lead to breaking code or invalid results. Use at your own risk.\n",
      "  UserWarning)\n",
      "C:\\Users\\Guilherme\\Anaconda3\\lib\\site-packages\\sklearn\\base.py:306: UserWarning: Trying to unpickle estimator Pipeline from version 0.21.2 when using version 0.21.3. This might lead to breaking code or invalid results. Use at your own risk.\n",
      "  UserWarning)\n"
     ]
    }
   ],
   "source": [
    "#Importa os modelos de regressão / fitting. Mudar o interior da função Path() para onde foi colocado o arquivo\n",
    "#Para fazer as predições, basta fazer modelo_cunha_default.predict(X) por exemplo\n",
    "\n",
    "#modelo_cunha_default é o modelo 'clássico', apenas com os parâmetros primários e sem subsegmentos.\n",
    "#A entrada X é da forma np.array([R2,R3,R4,h_fc,L_mag,phi]), nessa ordem. Retorna o respectivo B, calculado como a \n",
    "#média de B de 0 a 22.5º no meio do gap.\n",
    "\n",
    "#modelo_cunha_default = load(Path(\"F:\\\\GitHub\\\\magnet3D-polomag\\\\results\") / 'modelo_cunha_otimo.joblib')\n",
    "\n",
    "modelo_cunha_default = load(Path(r\"C:\\Users\\Guilherme\\Documents\\GitHub\\Jupyter\\Codemig\\Luis\") / 'modelo_cunha_otimo.joblib')\n",
    "\n",
    "#modelo_sub_seg corresponde ao fitting utilizando os subsegmentos compostos de ferro,\n",
    "#representados por R_m_x (x é o segmento). A entrada é a razão do segmento base que continua ímã. \n",
    "#Exemplo: Se Tínhamos um R3 = 100 e um R4= 200, e dividimos de forma que R_m_1 = 175 (portanto, de 100 a 175 temos ímã\n",
    "# e de 175 a 200 temos aço), temos que a entrada de R_m_1 nesse modelo será 0.75 - ((R_m_1{valor absoluto}-R3)/(R4-R3))\n",
    "# A saída do modelo é a razão entre o campo obtido e o campo base (com todos R_m =1, ou seja, sem adição de ferro.)\n",
    "# Em teoria seria entre 0 e 1, porém pelas imprecisões numéricas da simulação e de fitting, obtemos alguns valores \n",
    "#ligeiramente maiores, porém desprezíveis.\n",
    "\n",
    "#modelo_sub_seg = load(Path(\"F:\\\\GitHub\\\\magnet3D-polomag\\\\results\") / 'modelo_sub_seg.joblib') \n",
    "\n",
    "modelo_sub_seg = load(Path(r\"C:\\Users\\Guilherme\\Documents\\GitHub\\Jupyter\\Codemig\\Luis\") / 'modelo_sub_seg.joblib') "
   ]
  },
  {
   "cell_type": "code",
   "execution_count": 17,
   "metadata": {},
   "outputs": [
    {
     "data": {
      "text/plain": [
       "array([1.31188965])"
      ]
     },
     "execution_count": 17,
     "metadata": {},
     "output_type": "execute_result"
    }
   ],
   "source": []
  },
  {
   "cell_type": "code",
   "execution_count": 4,
   "metadata": {},
   "outputs": [],
   "source": [
    "#Calcula a massa a partir de um array de R_m_x na forma de razões ((R_m_1{valor absoluto}-R3)/(R4-R3)). \n",
    "#Portanto, R_m_x varia de 0 a 1\n",
    "\n",
    "def mass (R_M,*args):\n",
    "    #Modelo base\n",
    "    V_magnet = 0\n",
    "    densidade = 7500\n",
    "    L = 160\n",
    "    R3,R4, phi = args\n",
    "    for i in R_M:\n",
    "        RM = i*(R4-R3)+R3\n",
    "        V_magnet += np.pi*(RM**2-R3**2)*((phi/5)/90)*L\n",
    "    Mag_mass = V_magnet*1e-9*densidade\n",
    "    return Mag_mass\n",
    "\n",
    "\n",
    "#Calcula massa a partir de uma entrada R_m_x em valor absoluto.\n",
    "#Portanto, variando de R3 a R4\n",
    "def fullmass (R_M,*args):\n",
    "    #Modelo base\n",
    "    V_magnet = 0\n",
    "    densidade = 7500\n",
    "    L = 160\n",
    "    R3,R4, phi = args\n",
    "    for i in R_M:\n",
    "        V_magnet += np.pi*(i**2-R3**2)*((phi/5)/90)*L\n",
    "    Mag_mass = V_magnet*1e-9*densidade\n",
    "    return Mag_mass"
   ]
  },
  {
   "cell_type": "code",
   "execution_count": 5,
   "metadata": {},
   "outputs": [],
   "source": [
    "#Define a restrição de campo. lim é um valor de 0 a 1 que indica o valor mínimo de campo, em razão do valor \n",
    "#inicial de campo (valor sem substituição de ímã)\n",
    "#Exemplo: lim=0.95 implica que queremos casos apenas onde o campo cai no máximo 5% do valor base.\n",
    "def restriction_B(X,lim):\n",
    "    return lim - modelo_sub_seg.predict(X)\n",
    "    "
   ]
  },
  {
   "cell_type": "code",
   "execution_count": null,
   "metadata": {},
   "outputs": [],
   "source": []
  },
  {
   "cell_type": "code",
   "execution_count": 6,
   "metadata": {},
   "outputs": [
    {
     "ename": "NameError",
     "evalue": "name 'constraints' is not defined",
     "output_type": "error",
     "traceback": [
      "\u001b[1;31m---------------------------------------------------------------------------\u001b[0m",
      "\u001b[1;31mNameError\u001b[0m                                 Traceback (most recent call last)",
      "\u001b[1;32m<ipython-input-6-4f2ca55faf52>\u001b[0m in \u001b[0;36m<module>\u001b[1;34m\u001b[0m\n\u001b[0;32m      6\u001b[0m \u001b[1;33m\u001b[0m\u001b[0m\n\u001b[0;32m      7\u001b[0m \u001b[1;33m\u001b[0m\u001b[0m\n\u001b[1;32m----> 8\u001b[1;33m \u001b[0my\u001b[0m \u001b[1;33m=\u001b[0m \u001b[0mminimize\u001b[0m\u001b[1;33m(\u001b[0m\u001b[0mmass\u001b[0m\u001b[1;33m,\u001b[0m\u001b[1;36m1\u001b[0m\u001b[1;33m*\u001b[0m\u001b[0mnp\u001b[0m\u001b[1;33m.\u001b[0m\u001b[0mones\u001b[0m\u001b[1;33m(\u001b[0m\u001b[1;36m5\u001b[0m\u001b[1;33m)\u001b[0m\u001b[1;33m,\u001b[0m\u001b[0margs\u001b[0m\u001b[1;33m=\u001b[0m\u001b[1;33m(\u001b[0m\u001b[0mR3\u001b[0m\u001b[1;33m,\u001b[0m\u001b[0mR4\u001b[0m\u001b[1;33m,\u001b[0m\u001b[0mphi\u001b[0m\u001b[1;33m)\u001b[0m\u001b[1;33m,\u001b[0m\u001b[0mconstraints\u001b[0m\u001b[1;33m=\u001b[0m\u001b[0mconstraints\u001b[0m\u001b[1;33m,\u001b[0m\u001b[0mbounds\u001b[0m\u001b[1;33m=\u001b[0m\u001b[0mbounds\u001b[0m\u001b[1;33m,\u001b[0m\u001b[0moptions\u001b[0m\u001b[1;33m=\u001b[0m\u001b[1;33m{\u001b[0m\u001b[1;34m'disp'\u001b[0m\u001b[1;33m:\u001b[0m \u001b[1;32mTrue\u001b[0m\u001b[1;33m}\u001b[0m\u001b[1;33m)\u001b[0m\u001b[1;33m\u001b[0m\u001b[1;33m\u001b[0m\u001b[0m\n\u001b[0m\u001b[0;32m      9\u001b[0m \u001b[1;33m\u001b[0m\u001b[0m\n\u001b[0;32m     10\u001b[0m \u001b[1;31m#calcula os valores de R_m que minimizam a massa. Retorna na forma de razões do segmento (R_m entre 0 e 1)\u001b[0m\u001b[1;33m\u001b[0m\u001b[1;33m\u001b[0m\u001b[1;33m\u001b[0m\u001b[0m\n",
      "\u001b[1;31mNameError\u001b[0m: name 'constraints' is not defined"
     ]
    }
   ],
   "source": [
    "R3 = 180\n",
    "R4 = 350\n",
    "phi = 40\n",
    "lim= 0.99\n",
    "\n",
    "\n",
    "\n",
    "y = minimize(mass,1*np.ones(5),args=(R3,R4,phi),constraints=constraints,bounds=bounds,options={'disp': True})\n",
    "\n",
    "#calcula os valores de R_m que minimizam a massa. Retorna na forma de razões do segmento (R_m entre 0 e 1)\n",
    "y #Os R_m ótimos estão armazenados como array em y.x   "
   ]
  },
  {
   "cell_type": "code",
   "execution_count": 7,
   "metadata": {},
   "outputs": [
    {
     "ename": "NameError",
     "evalue": "name 'y' is not defined",
     "output_type": "error",
     "traceback": [
      "\u001b[1;31m---------------------------------------------------------------------------\u001b[0m",
      "\u001b[1;31mNameError\u001b[0m                                 Traceback (most recent call last)",
      "\u001b[1;32m<ipython-input-7-9f634a9fa9f4>\u001b[0m in \u001b[0;36m<module>\u001b[1;34m\u001b[0m\n\u001b[1;32m----> 1\u001b[1;33m \u001b[0my\u001b[0m\u001b[1;33m.\u001b[0m\u001b[0mfun\u001b[0m \u001b[1;31m#Valor da massa mínima\u001b[0m\u001b[1;33m\u001b[0m\u001b[1;33m\u001b[0m\u001b[0m\n\u001b[0m",
      "\u001b[1;31mNameError\u001b[0m: name 'y' is not defined"
     ]
    }
   ],
   "source": [
    "y.fun #Valor da massa mínima"
   ]
  },
  {
   "cell_type": "code",
   "execution_count": 8,
   "metadata": {},
   "outputs": [
    {
     "ename": "NameError",
     "evalue": "name 'y' is not defined",
     "output_type": "error",
     "traceback": [
      "\u001b[1;31m---------------------------------------------------------------------------\u001b[0m",
      "\u001b[1;31mNameError\u001b[0m                                 Traceback (most recent call last)",
      "\u001b[1;32m<ipython-input-8-a358e3cff10b>\u001b[0m in \u001b[0;36m<module>\u001b[1;34m\u001b[0m\n\u001b[1;32m----> 1\u001b[1;33m \u001b[0my\u001b[0m\u001b[1;33m.\u001b[0m\u001b[0mx\u001b[0m \u001b[1;31m#entrada que minimiza a massa para a restrição dada\u001b[0m\u001b[1;33m\u001b[0m\u001b[1;33m\u001b[0m\u001b[0m\n\u001b[0m",
      "\u001b[1;31mNameError\u001b[0m: name 'y' is not defined"
     ]
    }
   ],
   "source": [
    "y.x #entrada que minimiza a massa para a restrição dada"
   ]
  },
  {
   "cell_type": "code",
   "execution_count": 9,
   "metadata": {},
   "outputs": [
    {
     "ename": "NameError",
     "evalue": "name 'y' is not defined",
     "output_type": "error",
     "traceback": [
      "\u001b[1;31m---------------------------------------------------------------------------\u001b[0m",
      "\u001b[1;31mNameError\u001b[0m                                 Traceback (most recent call last)",
      "\u001b[1;32m<ipython-input-9-f1c865409813>\u001b[0m in \u001b[0;36m<module>\u001b[1;34m\u001b[0m\n\u001b[1;32m----> 1\u001b[1;33m \u001b[0mmodelo_sub_seg\u001b[0m\u001b[1;33m.\u001b[0m\u001b[0mpredict\u001b[0m\u001b[1;33m(\u001b[0m\u001b[0mnp\u001b[0m\u001b[1;33m.\u001b[0m\u001b[0marray\u001b[0m\u001b[1;33m(\u001b[0m\u001b[1;33m[\u001b[0m\u001b[0my\u001b[0m\u001b[1;33m.\u001b[0m\u001b[0mx\u001b[0m\u001b[1;33m]\u001b[0m\u001b[1;33m)\u001b[0m\u001b[1;33m)\u001b[0m\u001b[1;33m\u001b[0m\u001b[1;33m\u001b[0m\u001b[0m\n\u001b[0m",
      "\u001b[1;31mNameError\u001b[0m: name 'y' is not defined"
     ]
    }
   ],
   "source": [
    "modelo_sub_seg.predict(np.array([y.x]))"
   ]
  },
  {
   "cell_type": "code",
   "execution_count": 10,
   "metadata": {},
   "outputs": [
    {
     "ename": "NameError",
     "evalue": "name 'y' is not defined",
     "output_type": "error",
     "traceback": [
      "\u001b[1;31m---------------------------------------------------------------------------\u001b[0m",
      "\u001b[1;31mNameError\u001b[0m                                 Traceback (most recent call last)",
      "\u001b[1;32m<ipython-input-10-5c2df3c495d6>\u001b[0m in \u001b[0;36m<module>\u001b[1;34m\u001b[0m\n\u001b[0;32m      1\u001b[0m \u001b[1;31m#Valores absolutos de R_m.\u001b[0m\u001b[1;33m\u001b[0m\u001b[1;33m\u001b[0m\u001b[1;33m\u001b[0m\u001b[0m\n\u001b[1;32m----> 2\u001b[1;33m \u001b[0my\u001b[0m\u001b[1;33m.\u001b[0m\u001b[0mx\u001b[0m\u001b[1;33m*\u001b[0m\u001b[1;33m(\u001b[0m\u001b[0mR4\u001b[0m\u001b[1;33m-\u001b[0m\u001b[0mR3\u001b[0m\u001b[1;33m)\u001b[0m\u001b[1;33m+\u001b[0m\u001b[0mR3\u001b[0m\u001b[1;33m\u001b[0m\u001b[1;33m\u001b[0m\u001b[0m\n\u001b[0m",
      "\u001b[1;31mNameError\u001b[0m: name 'y' is not defined"
     ]
    }
   ],
   "source": [
    "#Valores absolutos de R_m.\n",
    "y.x*(R4-R3)+R3"
   ]
  },
  {
   "cell_type": "markdown",
   "metadata": {},
   "source": [
    "Lim = np.zeros(5)\n",
    "Mass = np.zeros(5)"
   ]
  },
  {
   "cell_type": "code",
   "execution_count": null,
   "metadata": {},
   "outputs": [],
   "source": []
  },
  {
   "cell_type": "code",
   "execution_count": 11,
   "metadata": {},
   "outputs": [
    {
     "ename": "NameError",
     "evalue": "name 'B' is not defined",
     "output_type": "error",
     "traceback": [
      "\u001b[1;31m---------------------------------------------------------------------------\u001b[0m",
      "\u001b[1;31mNameError\u001b[0m                                 Traceback (most recent call last)",
      "\u001b[1;32m<ipython-input-11-5fa86ed202da>\u001b[0m in \u001b[0;36m<module>\u001b[1;34m\u001b[0m\n\u001b[1;32m----> 1\u001b[1;33m \u001b[0mB\u001b[0m\u001b[1;33m[\u001b[0m\u001b[0mi\u001b[0m\u001b[1;33m]\u001b[0m\u001b[1;33m\u001b[0m\u001b[1;33m\u001b[0m\u001b[0m\n\u001b[0m",
      "\u001b[1;31mNameError\u001b[0m: name 'B' is not defined"
     ]
    }
   ],
   "source": [
    "B[i]"
   ]
  },
  {
   "cell_type": "code",
   "execution_count": 12,
   "metadata": {},
   "outputs": [
    {
     "name": "stdout",
     "output_type": "stream",
     "text": [
      "Optimization terminated successfully.    (Exit mode 0)\n",
      "            Current function value: 6.624159460358778\n",
      "            Iterations: 17\n",
      "            Function evaluations: 130\n",
      "            Gradient evaluations: 17\n",
      "Optimization terminated successfully.    (Exit mode 0)\n",
      "            Current function value: 7.406416005005924\n",
      "            Iterations: 18\n",
      "            Function evaluations: 136\n",
      "            Gradient evaluations: 18\n",
      "Optimization terminated successfully.    (Exit mode 0)\n",
      "            Current function value: 8.283957520865902\n",
      "            Iterations: 10\n",
      "            Function evaluations: 77\n",
      "            Gradient evaluations: 10\n",
      "Optimization terminated successfully.    (Exit mode 0)\n",
      "            Current function value: 9.299200881058148\n",
      "            Iterations: 12\n",
      "            Function evaluations: 89\n",
      "            Gradient evaluations: 12\n",
      "Optimization terminated successfully.    (Exit mode 0)\n",
      "            Current function value: 10.540313758478641\n",
      "            Iterations: 11\n",
      "            Function evaluations: 82\n",
      "            Gradient evaluations: 11\n",
      "Optimization terminated successfully.    (Exit mode 0)\n",
      "            Current function value: 13.327824627797188\n",
      "            Iterations: 15\n",
      "            Function evaluations: 114\n",
      "            Gradient evaluations: 15\n",
      "Optimization terminated successfully.    (Exit mode 0)\n",
      "            Current function value: 14.933005196739089\n",
      "            Iterations: 16\n",
      "            Function evaluations: 123\n",
      "            Gradient evaluations: 16\n",
      "Optimization terminated successfully.    (Exit mode 0)\n",
      "            Current function value: 16.745046194939782\n",
      "            Iterations: 12\n",
      "            Function evaluations: 90\n",
      "            Gradient evaluations: 12\n",
      "Optimization terminated successfully.    (Exit mode 0)\n",
      "            Current function value: 18.85607773307008\n",
      "            Iterations: 13\n",
      "            Function evaluations: 96\n",
      "            Gradient evaluations: 13\n",
      "Optimization terminated successfully.    (Exit mode 0)\n",
      "            Current function value: 21.45760731793173\n",
      "            Iterations: 12\n",
      "            Function evaluations: 89\n",
      "            Gradient evaluations: 12\n",
      "Optimization terminated successfully.    (Exit mode 0)\n",
      "            Current function value: 20.413956301672282\n",
      "            Iterations: 15\n",
      "            Function evaluations: 113\n",
      "            Gradient evaluations: 15\n",
      "Optimization terminated successfully.    (Exit mode 0)\n",
      "            Current function value: 22.918875233363792\n",
      "            Iterations: 17\n",
      "            Function evaluations: 129\n",
      "            Gradient evaluations: 17\n",
      "Optimization terminated successfully.    (Exit mode 0)\n",
      "            Current function value: 25.762437855703133\n",
      "            Iterations: 11\n",
      "            Function evaluations: 83\n",
      "            Gradient evaluations: 11\n",
      "Optimization terminated successfully.    (Exit mode 0)\n",
      "            Current function value: 29.09556952861517\n",
      "            Iterations: 13\n",
      "            Function evaluations: 97\n",
      "            Gradient evaluations: 13\n",
      "Optimization terminated successfully.    (Exit mode 0)\n",
      "            Current function value: 33.23200522099088\n",
      "            Iterations: 12\n",
      "            Function evaluations: 89\n",
      "            Gradient evaluations: 12\n",
      "Optimization terminated successfully.    (Exit mode 0)\n",
      "            Current function value: 27.880478734215348\n",
      "            Iterations: 19\n",
      "            Function evaluations: 140\n",
      "            Gradient evaluations: 19\n",
      "Optimization terminated successfully.    (Exit mode 0)\n",
      "            Current function value: 31.362547158324297\n",
      "            Iterations: 19\n",
      "            Function evaluations: 141\n",
      "            Gradient evaluations: 19\n",
      "Optimization terminated successfully.    (Exit mode 0)\n",
      "            Current function value: 35.335161387031995\n",
      "            Iterations: 13\n",
      "            Function evaluations: 97\n",
      "            Gradient evaluations: 13\n",
      "Optimization terminated successfully.    (Exit mode 0)\n",
      "            Current function value: 40.01711825216218\n",
      "            Iterations: 12\n",
      "            Function evaluations: 90\n",
      "            Gradient evaluations: 12\n",
      "Optimization terminated successfully.    (Exit mode 0)\n",
      "            Current function value: 45.86326036718138\n",
      "            Iterations: 13\n",
      "            Function evaluations: 96\n",
      "            Gradient evaluations: 13\n",
      "Optimization terminated successfully.    (Exit mode 0)\n",
      "            Current function value: 35.72581341442124\n",
      "            Iterations: 17\n",
      "            Function evaluations: 131\n",
      "            Gradient evaluations: 17\n",
      "Optimization terminated successfully.    (Exit mode 0)\n",
      "            Current function value: 40.262908787642985\n",
      "            Iterations: 18\n",
      "            Function evaluations: 136\n",
      "            Gradient evaluations: 18\n",
      "Optimization terminated successfully.    (Exit mode 0)\n",
      "            Current function value: 45.4624930469502\n",
      "            Iterations: 11\n",
      "            Function evaluations: 84\n",
      "            Gradient evaluations: 11\n",
      "Optimization terminated successfully.    (Exit mode 0)\n",
      "            Current function value: 51.62031209490434\n",
      "            Iterations: 13\n",
      "            Function evaluations: 96\n",
      "            Gradient evaluations: 13\n",
      "Optimization terminated successfully.    (Exit mode 0)\n",
      "            Current function value: 59.35119274631288\n",
      "            Iterations: 12\n",
      "            Function evaluations: 90\n",
      "            Gradient evaluations: 12\n",
      "Optimization terminated successfully.    (Exit mode 0)\n",
      "            Current function value: 43.94874587507776\n",
      "            Iterations: 17\n",
      "            Function evaluations: 132\n",
      "            Gradient evaluations: 17\n",
      "Optimization terminated successfully.    (Exit mode 0)\n",
      "            Current function value: 49.61910865223585\n",
      "            Iterations: 19\n",
      "            Function evaluations: 144\n",
      "            Gradient evaluations: 19\n",
      "Optimization terminated successfully.    (Exit mode 0)\n",
      "            Current function value: 56.14388431967684\n",
      "            Iterations: 12\n",
      "            Function evaluations: 90\n",
      "            Gradient evaluations: 12\n",
      "Optimization terminated successfully.    (Exit mode 0)\n",
      "            Current function value: 63.90484179788073\n",
      "            Iterations: 13\n",
      "            Function evaluations: 97\n",
      "            Gradient evaluations: 13\n",
      "Optimization terminated successfully.    (Exit mode 0)\n",
      "            Current function value: 73.69566899869324\n",
      "            Iterations: 12\n",
      "            Function evaluations: 90\n",
      "            Gradient evaluations: 12\n",
      "Optimization terminated successfully.    (Exit mode 0)\n",
      "            Current function value: 52.54832333605283\n",
      "            Iterations: 21\n",
      "            Function evaluations: 159\n",
      "            Gradient evaluations: 21\n",
      "Optimization terminated successfully.    (Exit mode 0)\n",
      "            Current function value: 59.43048386147165\n",
      "            Iterations: 19\n",
      "            Function evaluations: 144\n",
      "            Gradient evaluations: 19\n",
      "Optimization terminated successfully.    (Exit mode 0)\n",
      "            Current function value: 67.3789102912651\n",
      "            Iterations: 12\n",
      "            Function evaluations: 90\n",
      "            Gradient evaluations: 12\n",
      "Optimization terminated successfully.    (Exit mode 0)\n",
      "            Current function value: 76.87047013430664\n",
      "            Iterations: 13\n",
      "            Function evaluations: 96\n",
      "            Gradient evaluations: 13\n",
      "Optimization terminated successfully.    (Exit mode 0)\n",
      "            Current function value: 88.89658761238087\n",
      "            Iterations: 13\n",
      "            Function evaluations: 97\n",
      "            Gradient evaluations: 13\n",
      "Optimization terminated successfully.    (Exit mode 0)\n",
      "            Current function value: 61.52379127133253\n",
      "            Iterations: 19\n",
      "            Function evaluations: 145\n",
      "            Gradient evaluations: 19\n",
      "Optimization terminated successfully.    (Exit mode 0)\n",
      "            Current function value: 69.69651295104063\n",
      "            Iterations: 18\n",
      "            Function evaluations: 136\n",
      "            Gradient evaluations: 18\n",
      "Optimization terminated successfully.    (Exit mode 0)\n",
      "            Current function value: 79.16723847506213\n",
      "            Iterations: 12\n",
      "            Function evaluations: 90\n",
      "            Gradient evaluations: 12\n",
      "Optimization terminated successfully.    (Exit mode 0)\n",
      "            Current function value: 90.51701288949822\n",
      "            Iterations: 13\n",
      "            Function evaluations: 97\n",
      "            Gradient evaluations: 13\n",
      "Optimization terminated successfully.    (Exit mode 0)\n",
      "            Current function value: 104.9538708994982\n",
      "            Iterations: 14\n",
      "            Function evaluations: 104\n",
      "            Gradient evaluations: 14\n",
      "Optimization terminated successfully.    (Exit mode 0)\n",
      "            Current function value: 70.8745448262503\n",
      "            Iterations: 18\n",
      "            Function evaluations: 139\n",
      "            Gradient evaluations: 18\n"
     ]
    },
    {
     "name": "stdout",
     "output_type": "stream",
     "text": [
      "Optimization terminated successfully.    (Exit mode 0)\n",
      "            Current function value: 80.41677750988718\n",
      "            Iterations: 21\n",
      "            Function evaluations: 157\n",
      "            Gradient evaluations: 21\n",
      "Optimization terminated successfully.    (Exit mode 0)\n",
      "            Current function value: 91.50860465752754\n",
      "            Iterations: 12\n",
      "            Function evaluations: 90\n",
      "            Gradient evaluations: 12\n",
      "Optimization terminated successfully.    (Exit mode 0)\n",
      "            Current function value: 104.8443240181041\n",
      "            Iterations: 14\n",
      "            Function evaluations: 104\n",
      "            Gradient evaluations: 14\n",
      "Optimization terminated successfully.    (Exit mode 0)\n",
      "            Current function value: 121.86745672988961\n",
      "            Iterations: 14\n",
      "            Function evaluations: 104\n",
      "            Gradient evaluations: 14\n",
      "Optimization terminated successfully.    (Exit mode 0)\n",
      "            Current function value: 80.60009215984027\n",
      "            Iterations: 18\n",
      "            Function evaluations: 139\n",
      "            Gradient evaluations: 18\n",
      "Optimization terminated successfully.    (Exit mode 0)\n",
      "            Current function value: 91.59094064511582\n",
      "            Iterations: 20\n",
      "            Function evaluations: 152\n",
      "            Gradient evaluations: 20\n",
      "Optimization terminated successfully.    (Exit mode 0)\n",
      "            Current function value: 104.40279577197435\n",
      "            Iterations: 12\n",
      "            Function evaluations: 90\n",
      "            Gradient evaluations: 12\n",
      "Optimization terminated successfully.    (Exit mode 0)\n",
      "            Current function value: 119.852286661623\n",
      "            Iterations: 14\n",
      "            Function evaluations: 105\n",
      "            Gradient evaluations: 14\n",
      "Optimization terminated successfully.    (Exit mode 0)\n",
      "            Current function value: 139.63729662560002\n",
      "            Iterations: 14\n",
      "            Function evaluations: 104\n",
      "            Gradient evaluations: 14\n",
      "Optimization terminated successfully.    (Exit mode 0)\n",
      "            Current function value: 90.70003156047476\n",
      "            Iterations: 18\n",
      "            Function evaluations: 139\n",
      "            Gradient evaluations: 18\n",
      "Optimization terminated successfully.    (Exit mode 0)\n",
      "            Current function value: 103.21872723939592\n",
      "            Iterations: 19\n",
      "            Function evaluations: 146\n",
      "            Gradient evaluations: 19\n",
      "Optimization terminated successfully.    (Exit mode 0)\n",
      "            Current function value: 117.84963889044441\n",
      "            Iterations: 12\n",
      "            Function evaluations: 90\n",
      "            Gradient evaluations: 12\n",
      "Optimization terminated successfully.    (Exit mode 0)\n",
      "            Current function value: 135.54080636499626\n",
      "            Iterations: 15\n",
      "            Function evaluations: 111\n",
      "            Gradient evaluations: 15\n",
      "Optimization terminated successfully.    (Exit mode 0)\n",
      "            Current function value: 158.26335122685063\n",
      "            Iterations: 13\n",
      "            Function evaluations: 99\n",
      "            Gradient evaluations: 13\n"
     ]
    }
   ],
   "source": [
    "R3 = 180\n",
    "#R4 = 350\n",
    "phi = 40\n",
    "\n",
    "R4 = np.arange(201,402,20)\n",
    "lim = np.arange(0.85,0.99,0.03)\n",
    "B_o = np.zeros(len(R4))\n",
    "\n",
    "B = np.zeros([len(B_o),len(lim)])\n",
    "m = np.zeros([len(B_o),len(lim)])\n",
    "\n",
    "bounds = [(0, 1) for i in range(0, 5)] #Indica que os valores R_m_x variam de 0 a 1\n",
    "\n",
    "for i in range(len(R4)):\n",
    "    X = np.array([[150,200,R4[i],40,200,40]])\n",
    "    B_o[i] = modelo_cunha_default.predict(X)\n",
    "    for j in range(len(lim)):\n",
    "        \n",
    "        constraints = [{\"type\": \"ineq\",\n",
    "                \"fun\": lambda x:  -restriction_B(np.array([x]),lim[j])}] #impõe a limitação de campo\n",
    "        \n",
    "        y = minimize(mass,1*np.ones(5),args=(R3,R4[i],phi),constraints=constraints,bounds=bounds,options={'disp': True})\n",
    "        B[i,j] = B_o[i]*lim[j]\n",
    "        m[i,j] = y.fun\n",
    "        "
   ]
  },
  {
   "cell_type": "code",
   "execution_count": 282,
   "metadata": {},
   "outputs": [
    {
     "data": {
      "text/plain": [
       "(array([0.87628866, 0.90721649, 0.93814433, 0.96907216, 1.        ]),\n",
       " array([ 6.62415946,  7.40641601,  8.28395752,  9.29920088, 10.54031376]))"
      ]
     },
     "execution_count": 282,
     "metadata": {},
     "output_type": "execute_result"
    }
   ],
   "source": [
    "B[0]/max(B[0]),m[0]"
   ]
  },
  {
   "cell_type": "code",
   "execution_count": 283,
   "metadata": {
    "scrolled": true
   },
   "outputs": [
    {
     "data": {
      "image/png": "[encoded data removed]",
      "text/plain": [
       "<Figure size 432x288 with 1 Axes>"
      ]
     },
     "metadata": {
      "needs_background": "light"
     },
     "output_type": "display_data"
    }
   ],
   "source": [
    "for i in range(len(R4)):\n",
    "    plt.plot(m[i]/max(m[i]),B[i]/max(B[i]),label = str(R4[i]))\n",
    "plt.legend()\n",
    "plt.grid()"
   ]
  },
  {
   "cell_type": "code",
   "execution_count": null,
   "metadata": {},
   "outputs": [],
   "source": []
  },
  {
   "cell_type": "code",
   "execution_count": 284,
   "metadata": {},
   "outputs": [],
   "source": [
    "m_mag = np.zeros(len(R4))\n",
    "B_p = np.zeros(len(R4))\n",
    "m_mag[0] = np.pi*(R4[0]**2 - R3**2)*200*7500*10**-9\n",
    "B_p[0] = B_o[0] \n",
    "for i in range(1,len(R4)):\n",
    "    m_mag[i] = np.pi*(R4[i]**2 - R4[i-1]**2)*200*7500*10**-9\n",
    "    B_p[i] = B_o[i] - B_o[i-1]\n"
   ]
  },
  {
   "cell_type": "code",
   "execution_count": 295,
   "metadata": {},
   "outputs": [
    {
     "data": {
      "image/png": "[encoded data removed]",
      "text/plain": [
       "<Figure size 432x288 with 1 Axes>"
      ]
     },
     "metadata": {
      "needs_background": "light"
     },
     "output_type": "display_data"
    }
   ],
   "source": [
    "plt.plot((R4**2-R3**2)/(max(R4)**2-R3**2),B_o/max(B_o),'o:')\n",
    "plt.plot(m[0]/max(m[0]),B[0]/max(B[0]),'x--')\n",
    "plt.xlim(0.6,1)\n",
    "plt.ylim(0.85,1)\n",
    "plt.grid()"
   ]
  },
  {
   "cell_type": "code",
   "execution_count": 286,
   "metadata": {},
   "outputs": [
    {
     "data": {
      "text/plain": [
       "[<matplotlib.lines.Line2D at 0x21ec25fea08>]"
      ]
     },
     "execution_count": 286,
     "metadata": {},
     "output_type": "execute_result"
    },
    {
     "data": {
      "image/png": "[encoded data removed]",
      "text/plain": [
       "<Figure size 432x288 with 1 Axes>"
      ]
     },
     "metadata": {
      "needs_background": "light"
     },
     "output_type": "display_data"
    }
   ],
   "source": [
    "plt.plot(R4,B_o)"
   ]
  },
  {
   "cell_type": "code",
   "execution_count": 287,
   "metadata": {},
   "outputs": [
    {
     "data": {
      "text/plain": [
       "[<matplotlib.lines.Line2D at 0x21ec25b6f88>]"
      ]
     },
     "execution_count": 287,
     "metadata": {},
     "output_type": "execute_result"
    },
    {
     "data": {
      "image/png": "[encoded data removed]",
      "text/plain": [
       "<Figure size 432x288 with 1 Axes>"
      ]
     },
     "metadata": {
      "needs_background": "light"
     },
     "output_type": "display_data"
    }
   ],
   "source": [
    "plt.plot(Lim,Mass,'--o')"
   ]
  },
  {
   "cell_type": "code",
   "execution_count": 319,
   "metadata": {},
   "outputs": [
    {
     "data": {
      "text/plain": [
       "array([ 20,  60, 100])"
      ]
     },
     "execution_count": 319,
     "metadata": {},
     "output_type": "execute_result"
    }
   ],
   "source": [
    "m_fr"
   ]
  },
  {
   "cell_type": "code",
   "execution_count": 346,
   "metadata": {},
   "outputs": [
    {
     "ename": "TypeError",
     "evalue": "unsupported operand type(s) for /: 'list' and 'int'",
     "output_type": "error",
     "traceback": [
      "\u001b[1;31m---------------------------------------------------------------------------\u001b[0m",
      "\u001b[1;31mTypeError\u001b[0m                                 Traceback (most recent call last)",
      "\u001b[1;32m<ipython-input-346-b0a620d02400>\u001b[0m in \u001b[0;36m<module>\u001b[1;34m\u001b[0m\n\u001b[0;32m      2\u001b[0m \u001b[0mm_fr\u001b[0m \u001b[1;33m=\u001b[0m \u001b[1;33m[\u001b[0m\u001b[1;36m20\u001b[0m\u001b[1;33m,\u001b[0m\u001b[1;36m60\u001b[0m\u001b[1;33m,\u001b[0m\u001b[1;36m100\u001b[0m\u001b[1;33m]\u001b[0m\u001b[1;33m\u001b[0m\u001b[1;33m\u001b[0m\u001b[0m\n\u001b[0;32m      3\u001b[0m \u001b[0mA\u001b[0m \u001b[1;33m=\u001b[0m \u001b[0mnp\u001b[0m\u001b[1;33m.\u001b[0m\u001b[0mpi\u001b[0m\u001b[1;33m*\u001b[0m\u001b[1;33m(\u001b[0m\u001b[1;36m22.4\u001b[0m\u001b[1;33m/\u001b[0m\u001b[1;36m1000\u001b[0m\u001b[1;33m)\u001b[0m\u001b[1;33m**\u001b[0m\u001b[1;36m2\u001b[0m\u001b[1;33m/\u001b[0m\u001b[1;36m4\u001b[0m\u001b[1;33m\u001b[0m\u001b[1;33m\u001b[0m\u001b[0m\n\u001b[1;32m----> 4\u001b[1;33m \u001b[0mv\u001b[0m \u001b[1;33m=\u001b[0m \u001b[0mm_fr\u001b[0m\u001b[1;33m/\u001b[0m\u001b[1;36m3600\u001b[0m\u001b[1;33m/\u001b[0m\u001b[0mA\u001b[0m\u001b[1;33m/\u001b[0m\u001b[1;36m1000\u001b[0m\u001b[1;33m\u001b[0m\u001b[1;33m\u001b[0m\u001b[0m\n\u001b[0m\u001b[0;32m      5\u001b[0m \u001b[0mdp\u001b[0m \u001b[1;33m=\u001b[0m \u001b[1;36m500\u001b[0m\u001b[1;33m*\u001b[0m\u001b[1;36m10\u001b[0m\u001b[1;33m**\u001b[0m\u001b[1;33m-\u001b[0m\u001b[1;36m6\u001b[0m\u001b[1;33m\u001b[0m\u001b[1;33m\u001b[0m\u001b[0m\n\u001b[0;32m      6\u001b[0m \u001b[0mmu\u001b[0m \u001b[1;33m=\u001b[0m \u001b[1;36m0.8\u001b[0m\u001b[1;33m*\u001b[0m\u001b[1;36m10\u001b[0m\u001b[1;33m**\u001b[0m\u001b[1;33m-\u001b[0m\u001b[1;36m3\u001b[0m\u001b[1;33m\u001b[0m\u001b[1;33m\u001b[0m\u001b[0m\n",
      "\u001b[1;31mTypeError\u001b[0m: unsupported operand type(s) for /: 'list' and 'int'"
     ]
    }
   ],
   "source": [
    "m_fr = np.arange(20,100,1)\n",
    "m_fr = [20,60,100]\n",
    "A = np.pi*(22.4/1000)**2/4\n",
    "v = m_fr/3600/A/1000\n",
    "dp = 500*10**-6\n",
    "mu = 0.8*10**-3\n",
    "Epsilon = 0.29\n",
    "dP_29 = (150*mu*(1-Epsilon)**2*v/(dp**2*Epsilon**3) + 1.75*1000*(1-Epsilon)*v**2/(dp*Epsilon**3))*0.05"
   ]
  },
  {
   "cell_type": "code",
   "execution_count": 347,
   "metadata": {},
   "outputs": [],
   "source": [
    "m_exp = np.array([20,60,100])\n",
    "v_exp = m_exp/3600/A/1000\n",
    "dP_exp = np.array([0.08,0.3,0.6])"
   ]
  },
  {
   "cell_type": "code",
   "execution_count": null,
   "metadata": {},
   "outputs": [],
   "source": []
  },
  {
   "cell_type": "code",
   "execution_count": 363,
   "metadata": {},
   "outputs": [
    {
     "data": {
      "image/png": "[encoded data removed]",
      "text/plain": [
       "<Figure size 432x288 with 1 Axes>"
      ]
     },
     "metadata": {
      "needs_background": "light"
     },
     "output_type": "display_data"
    }
   ],
   "source": [
    "plt.plot(v,dP_36/10**5,'--', label = 'Esperado')\n",
    "plt.plot(v_exp,dP_exp,'o', label = 'Medido')\n",
    "plt.plot(v,dP_29/10**5,'--', label = 'Corrigido')\n",
    "plt.legend()\n",
    "plt.xlabel('Velocidade Superficial [m/s]')\n",
    "plt.ylabel('Perda de Carga [bar]')\n",
    "plt.grid()\n",
    "\n",
    "plt.savefig('Perda de Carga.png',format = 'png', dpi=500,bbox_inches='tight')"
   ]
  },
  {
   "cell_type": "code",
   "execution_count": null,
   "metadata": {},
   "outputs": [],
   "source": []
  }
 ],
 "metadata": {
  "kernelspec": {
   "display_name": "Python 3",
   "language": "python",
   "name": "python3"
  },
  "language_info": {
   "codemirror_mode": {
    "name": "ipython",
    "version": 3
   },
   "file_extension": ".py",
   "mimetype": "text/x-python",
   "name": "python",
   "nbconvert_exporter": "python",
   "pygments_lexer": "ipython3",
   "version": "3.7.4"
  }
 },
 "nbformat": 4,
 "nbformat_minor": 2
}
