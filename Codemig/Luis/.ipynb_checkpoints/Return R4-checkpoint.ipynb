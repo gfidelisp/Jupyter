{
 "cells": [
  {
   "cell_type": "code",
   "execution_count": 1,
   "metadata": {},
   "outputs": [],
   "source": [
    "%matplotlib inline\n",
    "from pathlib import Path\n",
    "import numpy as np\n",
    "import os\n",
    "import scipy.optimize\n",
    "import matplotlib.pyplot as plt\n",
    "import matplotlib\n",
    "import pandas as pd\n",
    "import nemplot\n",
    "import openpyxl as ex\n",
    "from scipy.optimize import curve_fit\n",
    "import matplotlib as mpl\n",
    "from joblib import dump, load\n",
    "\n",
    "import warnings\n",
    "warnings.filterwarnings('ignore')"
   ]
  },
  {
   "cell_type": "code",
   "execution_count": 2,
   "metadata": {},
   "outputs": [],
   "source": [
    "#Importa os modelos de regressão / fitting. Mudar o interior da função Path() para onde foi colocado o arquivo\n",
    "#Para fazer as predições, basta fazer modelo_cunha_default.predict(X) por exemplo\n",
    "\n",
    "#modelo_cunha_default é o modelo 'clássico', apenas com os parâmetros primários e sem subsegmentos.\n",
    "#A entrada X é da forma np.array([R2,R3,R4,h_fc,L_mag,phi]), nessa ordem. Retorna o respectivo B, calculado como a \n",
    "#média de B de 0 a 22.5º no meio do gap.\n",
    "modelo_cunha_default = load(Path(\"F:\\\\GitHub\\\\magnet3D-polomag\\\\results\") / 'modelo_cunha_otimo.joblib')"
   ]
  },
  {
   "cell_type": "code",
   "execution_count": 3,
   "metadata": {},
   "outputs": [
    {
     "name": "stdout",
     "output_type": "stream",
     "text": [
      "B_target= 0.800   R4 =  [145.50711614]   B_real = [0.80004883]\n",
      "B_target= 0.825   R4 =  [150.95291418]   B_real = [0.82507324]\n",
      "B_target= 0.850   R4 =  [156.41926162]   B_real = [0.84997559]\n",
      "B_target= 0.875   R4 =  [161.95530274]   B_real = [0.875]\n",
      "B_target= 0.900   R4 =  [167.5665731]   B_real = [0.90002441]\n",
      "B_target= 0.925   R4 =  [173.24627489]   B_real = [0.92504883]\n",
      "B_target= 0.950   R4 =  [178.99354114]   B_real = [0.94995117]\n",
      "B_target= 0.975   R4 =  [184.78263341]   B_real = [0.97497559]\n",
      "B_target= 1.000   R4 =  [190.66189722]   B_real = [0.99987793]\n",
      "B_target= 1.025   R4 =  [196.65159989]   B_real = [1.02502441]\n",
      "B_target= 1.050   R4 =  [202.66497676]   B_real = [1.05004883]\n",
      "B_target= 1.075   R4 =  [208.78290491]   B_real = [1.07495117]\n",
      "B_target= 1.100   R4 =  [215.04321627]   B_real = [1.09997559]\n",
      "B_target= 1.125   R4 =  [221.32031347]   B_real = [1.12487793]\n",
      "B_target= 1.150   R4 =  [227.80027241]   B_real = [1.15002441]\n",
      "B_target= 1.175   R4 =  [234.22842303]   B_real = [1.17492676]\n",
      "B_target= 1.200   R4 =  [240.8862685]   B_real = [1.19995117]\n",
      "B_target= 1.225   R4 =  [249.90880657]   B_real = [1.23327637]\n",
      "B_target= 1.250   R4 =  [254.43473573]   B_real = [1.25]\n",
      "B_target= 1.275   R4 =  [261.40942226]   B_real = [1.27502441]\n",
      "B_target= 1.300   R4 =  [268.49500026]   B_real = [1.30004883]\n",
      "B_target= 1.325   R4 =  [275.74935277]   B_real = [1.32495117]\n",
      "B_target= 1.350   R4 =  [283.08162338]   B_real = [1.34997559]\n",
      "B_target= 1.375   R4 =  [290.66566074]   B_real = [1.375]\n",
      "B_target= 1.400   R4 =  [298.34435321]   B_real = [1.40002441]\n",
      "B_target= 1.425   R4 =  [306.19547092]   B_real = [1.42504883]\n",
      "B_target= 1.450   R4 =  [314.21441123]   B_real = [1.44995117]\n",
      "B_target= 1.475   R4 =  [322.51500202]   B_real = [1.47497559]\n",
      "B_target= 1.500   R4 =  [331.00907976]   B_real = [1.5]\n",
      "B_target= 1.525   R4 =  [339.69950914]   B_real = [1.52502441]\n",
      "B_target= 1.550   R4 =  [348.69120093]   B_real = [1.55004883]\n",
      "B_target= 1.575   R4 =  [357.86585439]   B_real = [1.5748291]\n",
      "B_target= 1.600   R4 =  [367.48389919]   B_real = [1.60009766]\n",
      "B_target= 1.625   R4 =  [377.4191267]   B_real = [1.625]\n",
      "B_target= 1.650   R4 =  [387.72142262]   B_real = [1.65002441]\n",
      "B_target= 1.675   R4 =  [398.40018062]   B_real = [1.67504883]\n",
      "B_target= 1.700   R4 =  [409.55684859]   B_real = [1.69995117]\n",
      "B_target= 1.725   R4 =  [421.33562681]   B_real = [1.72497559]\n",
      "B_target= 1.750   R4 =  [433.85020811]   B_real = [1.75]\n",
      "B_target= 1.775   R4 =  [447.07464012]   B_real = [1.77502441]\n"
     ]
    }
   ],
   "source": [
    "h_fc_t = 100\n",
    "R3_t = 170\n",
    "phi_t = 60\n",
    "R2_t = 140\n",
    "L_mag_t = 170\n",
    "solve = scipy.optimize.fsolve\n",
    "def fm(R4_t,*data):\n",
    "    R2_t,R3_t,h_fc_t,L_mag_t,phi_t,B_t = data\n",
    "    return modelo_cunha_default.predict(np.array([[R2_t,R3_t,R4_t,h_fc_t,L_mag_t,phi_t]]))-B_t\n",
    "result = np.array([[],[],[]])\n",
    "for B_t in np.arange(0.8,1.8,0.025):\n",
    "    data = R2_t,R3_t,h_fc_t,L_mag_t,phi_t,B_t\n",
    "    R = solve(fm,250,args=data,maxfev=4000)\n",
    "    B_r = modelo_cunha_default.predict(np.array([[R2_t,R3_t,R,h_fc_t,L_mag_t,phi_t]]))\n",
    "    print('B_target= %.3f'%B_t, '  R4 = ',R, '  B_real =', B_r)"
   ]
  },
  {
   "cell_type": "code",
   "execution_count": null,
   "metadata": {},
   "outputs": [],
   "source": []
  }
 ],
 "metadata": {
  "kernelspec": {
   "display_name": "Python 3",
   "language": "python",
   "name": "python3"
  },
  "language_info": {
   "codemirror_mode": {
    "name": "ipython",
    "version": 3
   },
   "file_extension": ".py",
   "mimetype": "text/x-python",
   "name": "python",
   "nbconvert_exporter": "python",
   "pygments_lexer": "ipython3",
   "version": "3.7.4"
  }
 },
 "nbformat": 4,
 "nbformat_minor": 2
}
