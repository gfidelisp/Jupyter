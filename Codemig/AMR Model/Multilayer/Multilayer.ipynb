{
 "cells": [
  {
   "cell_type": "code",
   "execution_count": 40,
   "metadata": {},
   "outputs": [],
   "source": [
    "from numpy import *\n",
    "from matplotlib import *\n",
    "from pylab import *\n",
    "from scipy import *\n",
    "from numpy import*\n",
    "import csv\n",
    "import xlrd\n",
    "\n",
    "rc('text',usetex = True)\n",
    "rc('font', family='serif')\n",
    "\n",
    "from scipy.optimize import curve_fit"
   ]
  },
  {
   "cell_type": "code",
   "execution_count": 369,
   "metadata": {},
   "outputs": [],
   "source": [
    "Prop = xlrd.open_workbook('Gd-Y.xlsx') #Import Properties File\n",
    "SpecHeat = Prop.sheet_by_name('C') # #Import Specific Heat\n",
    "dTad = Prop.sheet_by_name('dT') #Import Adiabatic Temperature Change\n",
    "\n",
    "T_exp = dTad.col_values(0) #Import experimented temperatures \n",
    "B_exp = dTad.col_values(1) #Import experimented magnetic fields\n",
    "\n",
    "T = arange(min(T_exp),max(T_exp)+0.01,0.1)\n",
    "\n",
    "K = len(dTad.col_values(0)) #Import data number"
   ]
  },
  {
   "cell_type": "code",
   "execution_count": 370,
   "metadata": {},
   "outputs": [],
   "source": [
    "N_ml = 4 #Number of Multilayer Layers\n",
    "T_l = [273,278,283,290] # Temperature of Curie of the multilayer"
   ]
  },
  {
   "cell_type": "code",
   "execution_count": 371,
   "metadata": {},
   "outputs": [],
   "source": [
    "dT = zeros([N_ml,K])\n",
    "C = zeros([N_ml,K])\n",
    "for i in range(N_ml):\n",
    "    dT[i,:] = (dTad.col_values(i+2))    #Data of Adiabatic Temperature change\n",
    "    C[i,:] = (SpecHeat.col_values(i+2)) #Dara of specific heat"
   ]
  },
  {
   "cell_type": "code",
   "execution_count": 372,
   "metadata": {},
   "outputs": [],
   "source": [
    "def Properties(SpecHeat,dTad,B_l_int,B_h_int,T,N_ml):\n",
    "    #T_exp = dTad.col_values(0)\n",
    "    #B_exp = dTad.col_values(1)\n",
    "\n",
    "    #K = len(dTad.col_values(0))\n",
    "\n",
    "    #dT = zeros([N_l,K])\n",
    "    #C = zeros([N_l,K])\n",
    "    \n",
    "    #for i in range(4):\n",
    "        #dT[i,:] = (dTad.col_values(i+2))\n",
    "        #C[i,:] = (SpecHeat.col_values(i+2))\n",
    "    \n",
    "\n",
    "    C_l = np.zeros([N_ml,len(T)])\n",
    "    C_h = np.zeros([N_ml,len(T)])\n",
    "    dT_l = np.zeros([N_ml,len(T)])\n",
    "    dT_h = np.zeros([N_ml,len(T)])\n",
    "    \n",
    "\n",
    "    for i in range(K):\n",
    "        if B_exp[i] == B_l_int:\n",
    "            for j in range(N_ml):\n",
    "                C_l[j][i]=C[j,i]\n",
    "                dT_l[j][i]=dT[j,i]\n",
    "                \n",
    "                #C_l[j].append(C[j,i])\n",
    "                #dT_l[j].append(dT[j,i])\n",
    "        if B_exp[i] == B_h_int and B_exp[i-1]< B_h_int:\n",
    "            A = i\n",
    "        if B_exp[i] == B_h_int:\n",
    "            for j in range(N_ml):\n",
    "                C_h[j][i-A]=C[j,i]\n",
    "                dT_h[j][i-A]=dT[j,i]               \n",
    "                \n",
    "                #C_h[j].append(C[j,i])\n",
    "                #dT_h[j].append(dT[j,i])\n",
    "                \n",
    "    return(C_l,C_h,dT_l,dT_h)"
   ]
  },
  {
   "cell_type": "code",
   "execution_count": 373,
   "metadata": {},
   "outputs": [],
   "source": [
    "(C_l,C_h,dT_l,dT_h) = Properties(SpecHeat,dTad,0,1,T,N_ml) #Properties of low and high fields\n",
    "dT_ad = np.array(dT_h)-np.array(dT_l)"
   ]
  },
  {
   "cell_type": "code",
   "execution_count": 374,
   "metadata": {},
   "outputs": [],
   "source": [
    "T_dem = zeros([N_ml,len(T)])\n",
    "for j in range(N_ml):\n",
    "    T_dem[j] = T + dT_ad[j]"
   ]
  },
  {
   "cell_type": "code",
   "execution_count": 375,
   "metadata": {},
   "outputs": [
    {
     "data": {
      "text/plain": [
       "<matplotlib.legend.Legend at 0x15acd151f60>"
      ]
     },
     "execution_count": 375,
     "metadata": {},
     "output_type": "execute_result"
    },
    {
     "data": {
      "image/png": "[encoded data removed]",
      "text/plain": [
       "<Figure size 432x288 with 1 Axes>"
      ]
     },
     "metadata": {},
     "output_type": "display_data"
    }
   ],
   "source": [
    "plt.plot(T,dT_ad[0],label = 'mag')\n",
    "plt.plot(T_dem[0],dT_ad[0],label = 'dmag')\n",
    "plt.legend()"
   ]
  },
  {
   "cell_type": "code",
   "execution_count": 376,
   "metadata": {},
   "outputs": [],
   "source": [
    "dT_ad_d = np.zeros([N_ml,len(T)])\n",
    "for i in range(N_ml):\n",
    "    for j in range(len(T)):\n",
    "        for k in range(len(T_dem[i])):\n",
    "            if  T[j] > T_dem[i][k] and T[j] <= T_dem[i][k+1]:\n",
    "                dT_ad_d[i][j] = (dT_ad[i][k] + (T[j] - T_dem[i][k])*(dT_ad[i][k+1]-dT_ad[i][k])/(T[k+1]-T[k]))\n"
   ]
  },
  {
   "cell_type": "code",
   "execution_count": 405,
   "metadata": {
    "scrolled": false
   },
   "outputs": [],
   "source": [
    "#Metric(Th,Tc,T_l,T_layer,L_layer)\n",
    "\n",
    "Th = 300\n",
    "Tc = 270\n",
    "\n",
    "C_mag = []\n",
    "C_dmag = []\n",
    "dT_mag = []\n",
    "dT_dmag = []\n",
    "\n",
    "T_int = np.arange(Tc,Th+0.01,0.1)\n",
    "\n",
    "\n",
    "T_layer = [273,289.9]\n",
    "L_layer = [50,50]\n",
    "N_l = len(T_layer)\n",
    "\n",
    "A = np.int((Tc - 242.5)/0.1)\n",
    "\n",
    "\n",
    "\n",
    "T_t = []\n",
    "L = 0\n",
    "\n",
    "for i in range(N_l):\n",
    "    L = L + L_layer[i]\n",
    "    T_tr = Tc + 0.001 +L/100*(Th-Tc)\n",
    "    T_t.append(T_tr)\n",
    "\n",
    "k = 0    \n",
    "for i in range (len(T_int)):\n",
    "    #print(T_int[i])\n",
    "    if T_int[i] <=T_t[k]:\n",
    "        #print(T_int[i],T_t[k])\n",
    "        for j in range(len(T_l)):\n",
    "            #print(T_layer[k],T_l[j])\n",
    "            if T_layer[k] >= T_l[j] and T_layer[k] < T_l[j+1]:\n",
    "                #print('Hello')\n",
    "                #print(T_int[i],T_t[k],T_layer[k],T_l[j],T_l[j+1])\n",
    "                C_mag.append(C_h[j+1][int(i+A)]-(C_h[j+1][int(i+A)]-C_h[j][int(i+A)])*(T_l[j+1]-T_layer[k])/(T_l[j+1]-T_l[j]))\n",
    "                #print(T_int[i],C_h[j+1][int(i+A)],C_h[j][int(i+A)],(C_h[j+1][int(i+A)]-(C_h[j+1][int(i+A)]-C_h[j][int(i+A)])*(T_l[j+1]-T_layer[k])/(T_l[j+1]-T_l[j])))\n",
    "    else:\n",
    "        for j in range(len(T_l)):\n",
    "            if T_layer[k+1] >= T_l[j] and T_layer[k+1] < T_l[j+1]:\n",
    "                C_mag.append(C_h[j][int(i+A)]+(C_h[j+1][int(i+A)]-C_h[j][int(i+A)])*(T_layer[k+1]-T_l[j])/(T_l[j+1]-T_l[j]))\n",
    "                #print(T_int[i],C_h[j+1][int(i+A)],C_h[j][int(i+A)],T_l[j+1],T_l[j],T_layer[k],(C_h[j+1][int(i+A)]-(C_h[j+1][int(i+A)]-C_h[j][int(i+A)])*(T_l[j+1]-T_layer[k])/(T_l[j+1]-T_l[j])))\n",
    "        k = k + 1\n",
    "        "
   ]
  },
  {
   "cell_type": "code",
   "execution_count": 408,
   "metadata": {},
   "outputs": [
    {
     "data": {
      "text/plain": [
       "<matplotlib.legend.Legend at 0x15acdce9be0>"
      ]
     },
     "execution_count": 408,
     "metadata": {},
     "output_type": "execute_result"
    },
    {
     "data": {
      "image/png": "[encoded data removed]",
      "text/plain": [
       "<Figure size 432x288 with 1 Axes>"
      ]
     },
     "metadata": {},
     "output_type": "display_data"
    }
   ],
   "source": [
    "plt.plot(T,C_h[0],label = '273')\n",
    "plt.plot(T,C_h[3],label = '290')\n",
    "plt.plot(T_int,C_mag)\n",
    "plt.grid()\n",
    "plt.legend()"
   ]
  },
  {
   "cell_type": "code",
   "execution_count": 279,
   "metadata": {},
   "outputs": [],
   "source": [
    "def Cdt(T_m,L_m,Th,Tc,T,T_dem,C_m,C_d,dT_ad):\n",
    "    \n",
    "    C_mag = []\n",
    "    C_dmag = []\n",
    "    dT_mag = []\n",
    "    dT_dmag = []\n",
    "    T_t = []\n",
    "    T_int = []\n",
    "    \n",
    "    N_l = len(T_m)\n",
    "    a = zeros(N_l)\n",
    "    \n",
    "\n",
    "    \n",
    "    for i in range (N_l):\n",
    "        for j in range(len(T_t)+1):\n",
    "            if T_m[i]>T_l[j] and T_m[i]<=T_l[j+1]:\n",
    "                C_mag.append(C_h[j][i]+(C_h[j+1][i]-C_h[j][i])*(T_m[i]-T_l[j])/(T_l[j+1]-T_l[j]))\n",
    "                C_dmag.append(C_l[j][i]+(C_l[j+1][i]-C_l[j][i])*(T_m[i]-T_l[j])/(T_l[j+1]-T_l[j]))\n",
    "                dT_mag.append(dT_ad[j][i]+(dT_ad[j+1][i]-dT_ad[j][i])*(T_m[i]-T_l[j])/(T_l[j+1]-T_l[j]))\n",
    "                dT_dmag.append(dT_ad_d[j][i]+(dT_ad_d[j+1][i]-dT_ad_d[j][i])*(T_m[i]-T_l[j])/(T_l[j+1]-T_l[j]))\n",
    "                T_int.append(T[i]) \n",
    "                          \n",
    "    return(C_mag,C_dmag,dT_mag,dT_dmag,T_int,dT_ad_d)"
   ]
  },
  {
   "cell_type": "code",
   "execution_count": 96,
   "metadata": {
    "scrolled": false
   },
   "outputs": [
    {
     "ename": "IndexError",
     "evalue": "list index out of range",
     "output_type": "error",
     "traceback": [
      "\u001b[1;31m---------------------------------------------------------------------------\u001b[0m",
      "\u001b[1;31mIndexError\u001b[0m                                Traceback (most recent call last)",
      "\u001b[1;32m<ipython-input-96-37e489cbd265>\u001b[0m in \u001b[0;36m<module>\u001b[1;34m()\u001b[0m\n\u001b[1;32m----> 1\u001b[1;33m \u001b[1;33m(\u001b[0m\u001b[0mC_mag\u001b[0m\u001b[1;33m,\u001b[0m\u001b[0mC_dmag\u001b[0m\u001b[1;33m,\u001b[0m\u001b[0mdT_mag\u001b[0m\u001b[1;33m,\u001b[0m\u001b[0mdT_dmag\u001b[0m\u001b[1;33m,\u001b[0m\u001b[0mT_int\u001b[0m\u001b[1;33m,\u001b[0m\u001b[0mdT_ad_d\u001b[0m\u001b[1;33m)\u001b[0m \u001b[1;33m=\u001b[0m \u001b[0mCdt\u001b[0m\u001b[1;33m(\u001b[0m\u001b[1;33m[\u001b[0m\u001b[1;36m273\u001b[0m\u001b[1;33m,\u001b[0m\u001b[1;36m300\u001b[0m\u001b[1;33m]\u001b[0m\u001b[1;33m,\u001b[0m\u001b[1;33m[\u001b[0m\u001b[1;36m50\u001b[0m\u001b[1;33m,\u001b[0m\u001b[1;36m50\u001b[0m\u001b[1;33m]\u001b[0m\u001b[1;33m,\u001b[0m\u001b[1;36m300\u001b[0m\u001b[1;33m,\u001b[0m\u001b[1;36m270\u001b[0m\u001b[1;33m,\u001b[0m\u001b[0mT\u001b[0m\u001b[1;33m,\u001b[0m\u001b[0mT_dem\u001b[0m\u001b[1;33m,\u001b[0m\u001b[0mC_m\u001b[0m\u001b[1;33m,\u001b[0m\u001b[0mC_d\u001b[0m\u001b[1;33m,\u001b[0m\u001b[0mdT_ad\u001b[0m\u001b[1;33m)\u001b[0m\u001b[1;33m\u001b[0m\u001b[0m\n\u001b[0m",
      "\u001b[1;32m<ipython-input-95-db3805829b17>\u001b[0m in \u001b[0;36mCdt\u001b[1;34m(T_m, L_m, Th, Tc, T, T_dem, C_m, C_d, dT_ad)\u001b[0m\n\u001b[0;32m     24\u001b[0m     \u001b[1;32mfor\u001b[0m \u001b[0mi\u001b[0m \u001b[1;32min\u001b[0m \u001b[0mrange\u001b[0m \u001b[1;33m(\u001b[0m\u001b[0mN_l\u001b[0m\u001b[1;33m)\u001b[0m\u001b[1;33m:\u001b[0m\u001b[1;33m\u001b[0m\u001b[0m\n\u001b[0;32m     25\u001b[0m         \u001b[1;32mfor\u001b[0m \u001b[0mj\u001b[0m \u001b[1;32min\u001b[0m \u001b[0mrange\u001b[0m\u001b[1;33m(\u001b[0m\u001b[0mlen\u001b[0m\u001b[1;33m(\u001b[0m\u001b[0mT_l\u001b[0m\u001b[1;33m)\u001b[0m\u001b[1;33m+\u001b[0m\u001b[1;36m1\u001b[0m\u001b[1;33m)\u001b[0m\u001b[1;33m:\u001b[0m\u001b[1;33m\u001b[0m\u001b[0m\n\u001b[1;32m---> 26\u001b[1;33m             \u001b[1;32mif\u001b[0m \u001b[0mT_m\u001b[0m\u001b[1;33m[\u001b[0m\u001b[0mi\u001b[0m\u001b[1;33m]\u001b[0m\u001b[1;33m==\u001b[0m\u001b[0mT_l\u001b[0m\u001b[1;33m[\u001b[0m\u001b[0mj\u001b[0m\u001b[1;33m]\u001b[0m \u001b[1;33m&\u001b[0m \u001b[0mT_m\u001b[0m\u001b[1;33m[\u001b[0m\u001b[0mi\u001b[0m\u001b[1;33m]\u001b[0m\u001b[1;33m<=\u001b[0m\u001b[0mT_l\u001b[0m\u001b[1;33m[\u001b[0m\u001b[0mj\u001b[0m\u001b[1;33m+\u001b[0m\u001b[1;36m1\u001b[0m\u001b[1;33m]\u001b[0m\u001b[1;33m:\u001b[0m\u001b[1;33m\u001b[0m\u001b[0m\n\u001b[0m\u001b[0;32m     27\u001b[0m                 \u001b[0mC_mag\u001b[0m\u001b[1;33m.\u001b[0m\u001b[0mappend\u001b[0m\u001b[1;33m(\u001b[0m\u001b[0mC_h\u001b[0m\u001b[1;33m[\u001b[0m\u001b[0mj\u001b[0m\u001b[1;33m]\u001b[0m\u001b[1;33m[\u001b[0m\u001b[0mi\u001b[0m\u001b[1;33m]\u001b[0m\u001b[1;33m+\u001b[0m\u001b[1;33m(\u001b[0m\u001b[0mC_h\u001b[0m\u001b[1;33m[\u001b[0m\u001b[0mj\u001b[0m\u001b[1;33m+\u001b[0m\u001b[1;36m1\u001b[0m\u001b[1;33m]\u001b[0m\u001b[1;33m[\u001b[0m\u001b[0mi\u001b[0m\u001b[1;33m]\u001b[0m\u001b[1;33m-\u001b[0m\u001b[0mC_h\u001b[0m\u001b[1;33m[\u001b[0m\u001b[0mj\u001b[0m\u001b[1;33m]\u001b[0m\u001b[1;33m[\u001b[0m\u001b[0mi\u001b[0m\u001b[1;33m]\u001b[0m\u001b[1;33m)\u001b[0m\u001b[1;33m*\u001b[0m\u001b[1;33m(\u001b[0m\u001b[0mT_m\u001b[0m\u001b[1;33m[\u001b[0m\u001b[0mi\u001b[0m\u001b[1;33m]\u001b[0m\u001b[1;33m-\u001b[0m\u001b[0mT_l\u001b[0m\u001b[1;33m[\u001b[0m\u001b[0mj\u001b[0m\u001b[1;33m]\u001b[0m\u001b[1;33m)\u001b[0m\u001b[1;33m/\u001b[0m\u001b[1;33m(\u001b[0m\u001b[0mT_l\u001b[0m\u001b[1;33m[\u001b[0m\u001b[0mj\u001b[0m\u001b[1;33m+\u001b[0m\u001b[1;36m1\u001b[0m\u001b[1;33m]\u001b[0m\u001b[1;33m-\u001b[0m\u001b[0mT_l\u001b[0m\u001b[1;33m[\u001b[0m\u001b[0mj\u001b[0m\u001b[1;33m]\u001b[0m\u001b[1;33m)\u001b[0m\u001b[1;33m)\u001b[0m\u001b[1;33m\u001b[0m\u001b[0m\n\u001b[0;32m     28\u001b[0m                 \u001b[0mC_dmag\u001b[0m\u001b[1;33m.\u001b[0m\u001b[0mappend\u001b[0m\u001b[1;33m(\u001b[0m\u001b[0mC_l\u001b[0m\u001b[1;33m[\u001b[0m\u001b[0mj\u001b[0m\u001b[1;33m]\u001b[0m\u001b[1;33m[\u001b[0m\u001b[0mi\u001b[0m\u001b[1;33m]\u001b[0m\u001b[1;33m+\u001b[0m\u001b[1;33m(\u001b[0m\u001b[0mC_l\u001b[0m\u001b[1;33m[\u001b[0m\u001b[0mj\u001b[0m\u001b[1;33m+\u001b[0m\u001b[1;36m1\u001b[0m\u001b[1;33m]\u001b[0m\u001b[1;33m[\u001b[0m\u001b[0mi\u001b[0m\u001b[1;33m]\u001b[0m\u001b[1;33m-\u001b[0m\u001b[0mC_l\u001b[0m\u001b[1;33m[\u001b[0m\u001b[0mj\u001b[0m\u001b[1;33m]\u001b[0m\u001b[1;33m[\u001b[0m\u001b[0mi\u001b[0m\u001b[1;33m]\u001b[0m\u001b[1;33m)\u001b[0m\u001b[1;33m*\u001b[0m\u001b[1;33m(\u001b[0m\u001b[0mT_m\u001b[0m\u001b[1;33m[\u001b[0m\u001b[0mi\u001b[0m\u001b[1;33m]\u001b[0m\u001b[1;33m-\u001b[0m\u001b[0mT_l\u001b[0m\u001b[1;33m[\u001b[0m\u001b[0mj\u001b[0m\u001b[1;33m]\u001b[0m\u001b[1;33m)\u001b[0m\u001b[1;33m/\u001b[0m\u001b[1;33m(\u001b[0m\u001b[0mT_l\u001b[0m\u001b[1;33m[\u001b[0m\u001b[0mj\u001b[0m\u001b[1;33m+\u001b[0m\u001b[1;36m1\u001b[0m\u001b[1;33m]\u001b[0m\u001b[1;33m-\u001b[0m\u001b[0mT_l\u001b[0m\u001b[1;33m[\u001b[0m\u001b[0mj\u001b[0m\u001b[1;33m]\u001b[0m\u001b[1;33m)\u001b[0m\u001b[1;33m)\u001b[0m\u001b[1;33m\u001b[0m\u001b[0m\n",
      "\u001b[1;31mIndexError\u001b[0m: list index out of range"
     ]
    }
   ],
   "source": [
    "(C_mag,C_dmag,dT_mag,dT_dmag,T_int,dT_ad_d) = Cdt([273,300],[50,50],300,270,T,T_dem,C_m,C_d,dT_ad)"
   ]
  },
  {
   "cell_type": "code",
   "execution_count": null,
   "metadata": {
    "scrolled": true
   },
   "outputs": [],
   "source": [
    "plt.plot(T_int,dT_mag,label = 'mag')\n",
    "plt.plot(T_int,dT_dmag, label = 'dmag')\n",
    "plt.legend()\n",
    "plt.show()"
   ]
  },
  {
   "cell_type": "code",
   "execution_count": null,
   "metadata": {},
   "outputs": [],
   "source": []
  }
 ],
 "metadata": {
  "kernelspec": {
   "display_name": "Python 3",
   "language": "python",
   "name": "python3"
  },
  "language_info": {
   "codemirror_mode": {
    "name": "ipython",
    "version": 3
   },
   "file_extension": ".py",
   "mimetype": "text/x-python",
   "name": "python",
   "nbconvert_exporter": "python",
   "pygments_lexer": "ipython3",
   "version": "3.6.5"
  }
 },
 "nbformat": 4,
 "nbformat_minor": 2
}
