{
 "cells": [
  {
   "cell_type": "code",
   "execution_count": 1,
   "metadata": {},
   "outputs": [],
   "source": [
    "from numpy import *\n",
    "from scipy import *\n",
    "import numpy as np\n",
    "from matplotlib import *\n",
    "\n",
    "from scipy import integrate\n",
    "from scipy import interpolate\n",
    "from scipy.optimize import curve_fit\n",
    "import matplotlib.pyplot as plt\n",
    "\n",
    "import xlrd\n",
    "\n",
    "rc('text',usetex = True)\n",
    "rc('font', family='serif',size = 12)"
   ]
  },
  {
   "cell_type": "code",
   "execution_count": 23,
   "metadata": {},
   "outputs": [],
   "source": [
    "def R4(X): \n",
    "    R2,R3,B = X\n",
    "    return (1.27708795*(R2**-1.18177842)*(R3**2.14218804)*(B**0.70136265))"
   ]
  },
  {
   "cell_type": "code",
   "execution_count": 24,
   "metadata": {},
   "outputs": [],
   "source": [
    "def Qc(X): \n",
    "    P1,P2,P3,P4,P5= X\n",
    "    return (2.22068098*P1+0.52868254*P2+-2.22664497*P3+-0.02146037*P4+-5.09505357*P5)"
   ]
  },
  {
   "cell_type": "code",
   "execution_count": 25,
   "metadata": {},
   "outputs": [],
   "source": [
    "def Qh(X): \n",
    "    P1,P2,P3,P4,P5= X\n",
    "    return (2.77459330e+00*P1+1.28933075e+00*P2-2.79557285e+00*P3+1.29594714e-03*P4-4.39735607e+00*P5)"
   ]
  },
  {
   "cell_type": "code",
   "execution_count": 26,
   "metadata": {},
   "outputs": [],
   "source": [
    "def W_Hex(X):\n",
    "    P1,P2 = X\n",
    "    return (a*P1**b + c*P2**d)"
   ]
  },
  {
   "cell_type": "code",
   "execution_count": 22,
   "metadata": {},
   "outputs": [],
   "source": [
    "def Prop_param(X):\n",
    "    T_c,T_h,B = X\n",
    "    C_H = 1.65161038/100*T_c+2.59946197*T_h-1.14324309*100*B\n",
    "    C_L = 10.16443738*T_c-5.32568341*T_h-0.71305997*B\n",
    "    dT_mg = -0.01057708*T_c+0.01163704*T_h+1.73509682*B\n",
    "    dT_dmg = -0.01229483*T_c+0.01376157*T_h+0.76454655*B\n",
    "    CdT_mg = -9.517569*T_c+11.49711993*T_h+820.04168503*B\n",
    "    CdT_dmg = 4.39480124*T_c-7.07931118/10*T_h+9.15928168*100*B\n",
    "    return(C_H,C_l,dT_mg,dT_dmg,CdT_mg,CdT_dmg)"
   ]
  },
  {
   "cell_type": "code",
   "execution_count": 7,
   "metadata": {},
   "outputs": [],
   "source": [
    "##Properties of the solid \n",
    "\n",
    "rho_s = 7900  #[kg/m3] Density of the solid\n",
    "k_s   = 8 #[W/(m2.K)] #Thermal conductivity of the solid\n",
    "\n",
    "## Propertis of the fluid\n",
    "\n",
    "rho_f = 1000  #[kg/m3] Density of the fluid\n",
    "c_f   = 4181  #[kJ/(kg.K)] # Specific heat of the fluid\n",
    "Pr_f  = 6.136 #[-] Prandtl of the fluid\n",
    "mu_f  = 0.0008901 #[kg/m-2] #Viscosity of the fluid\n",
    "k_f   = 0.6065  #[W/(m2.K)] #Thermal conductivity of the fluid\n",
    "\n",
    "## Porous medium\n",
    "d_p = 500*10**(-6) #[m] Particle diameter\n",
    "Epsilon = 0.45  #[-] Porosity\n",
    "\n",
    "#Magnetic Circuit\n",
    "B_rem = 1.35\n",
    "N_p = 2\n",
    "N_Rp = 2"
   ]
  },
  {
   "cell_type": "markdown",
   "metadata": {},
   "source": [
    "Calculation"
   ]
  },
  {
   "cell_type": "code",
   "execution_count": 16,
   "metadata": {},
   "outputs": [
    {
     "ename": "NameError",
     "evalue": "name 'L' is not defined",
     "output_type": "error",
     "traceback": [
      "\u001b[1;31m---------------------------------------------------------------------------\u001b[0m",
      "\u001b[1;31mNameError\u001b[0m                                 Traceback (most recent call last)",
      "\u001b[1;32m<ipython-input-16-625d51b5b910>\u001b[0m in \u001b[0;36m<module>\u001b[1;34m()\u001b[0m\n\u001b[0;32m      1\u001b[0m \u001b[1;31m#Porous medium\u001b[0m\u001b[1;33m\u001b[0m\u001b[1;33m\u001b[0m\u001b[0m\n\u001b[1;32m----> 2\u001b[1;33m \u001b[0mm_s\u001b[0m   \u001b[1;33m=\u001b[0m \u001b[0mL\u001b[0m\u001b[1;33m*\u001b[0m\u001b[0mW\u001b[0m\u001b[1;33m*\u001b[0m\u001b[0mH\u001b[0m\u001b[1;33m*\u001b[0m\u001b[1;36m10\u001b[0m\u001b[1;33m**\u001b[0m\u001b[1;33m-\u001b[0m\u001b[1;36m9\u001b[0m\u001b[1;33m*\u001b[0m\u001b[1;33m(\u001b[0m\u001b[1;36m1\u001b[0m\u001b[1;33m-\u001b[0m\u001b[0mEpsilon\u001b[0m\u001b[1;33m)\u001b[0m\u001b[1;33m*\u001b[0m\u001b[0mrho_s\u001b[0m \u001b[1;31m#mass of the AMR\u001b[0m\u001b[1;33m\u001b[0m\u001b[0m\n\u001b[0m\u001b[0;32m      3\u001b[0m \u001b[0mBeta\u001b[0m \u001b[1;33m=\u001b[0m \u001b[1;33m(\u001b[0m\u001b[1;36m1\u001b[0m\u001b[1;33m-\u001b[0m\u001b[0mEpsilon\u001b[0m\u001b[1;33m)\u001b[0m\u001b[1;33m*\u001b[0m\u001b[1;36m6\u001b[0m\u001b[1;33m/\u001b[0m\u001b[0md_p\u001b[0m\u001b[1;33m\u001b[0m\u001b[0m\n\u001b[0;32m      4\u001b[0m \u001b[0mv_s\u001b[0m   \u001b[1;33m=\u001b[0m \u001b[1;33m(\u001b[0m\u001b[0mm_f\u001b[0m\u001b[1;33m/\u001b[0m\u001b[1;36m3600\u001b[0m\u001b[1;33m)\u001b[0m\u001b[1;33m/\u001b[0m\u001b[1;33m(\u001b[0m\u001b[0mrho_f\u001b[0m\u001b[1;33m*\u001b[0m\u001b[0mW\u001b[0m\u001b[1;33m*\u001b[0m\u001b[0mH\u001b[0m\u001b[1;33m*\u001b[0m\u001b[1;36m10\u001b[0m\u001b[1;33m**\u001b[0m\u001b[1;33m-\u001b[0m\u001b[1;36m6\u001b[0m\u001b[1;33m)\u001b[0m \u001b[1;31m#Superficial velocity\u001b[0m\u001b[1;33m\u001b[0m\u001b[0m\n\u001b[0;32m      5\u001b[0m \u001b[1;33m\u001b[0m\u001b[0m\n",
      "\u001b[1;31mNameError\u001b[0m: name 'L' is not defined"
     ]
    }
   ],
   "source": [
    "#Porous medium\n",
    "m_s   = L*W*H*10**-9*(1-Epsilon)*rho_s #mass of the AMR\n",
    "Beta = (1-Epsilon)*6/d_p\n",
    "v_s   = (m_f/3600)/(rho_f*W*H*10**-6) #Superficial velocity\n",
    "\n",
    "#Dimensionless Numbers\n",
    "Re_dp = d_p*v_s*rho_f/((1-Epsilon)*mu_f) #Reynolds number\n",
    "Nu = 2*(1+4*(1-Epsilon)/Epsilon)+((1-Epsilon)**0.5)*Re_dp**0.6*Pr_f**(1/3) # Nusselt number\n",
    "Pe = Re_dp*Pr_f\n",
    "\n",
    "h_int = Nu*k_f/d_p\n",
    "dP = L*(150*(1-Epsilon)**2*mu_f*v_s/(Epsilon**3*d_p**2) + 1.75*(1-Epsilon)*rho_f*v_s**2/(Epsilon**3*d_p))\n",
    "\n",
    "\n",
    "#Effective conduction\n",
    "k_e_f = k_f*Epsilon #Fluid effective conduction\n",
    "\n",
    "\n",
    "a_0 = exp(-1.084-6.778*(Epsilon-0.298))\n",
    "f_0 = 0.8\n",
    "k_e_s = k_f*((1-a_0)*(Epsilon*f_0+(1-Epsilon*f_0)*k_s/k_f)/(1-Epsilon*(1-f_0)+k_s/k_f*Epsilon*(1-f_0))+a_0*(2*((k_s/k_f)**2)*(1-Epsilon)+(1+2*Epsilon)*k_s/k_f)/((2+Epsilon)*k_s/k_f+(1-Epsilon))) #Solid effective conduction\n",
    "\n",
    "D_ = (k_f*rho_f/c_f)*0.75*Pe/2\n",
    "\n",
    "k_s_eff = k_e_s\n",
    "k_f_eff = k_e_f + rho_f*c_f*D_"
   ]
  },
  {
   "cell_type": "code",
   "execution_count": 14,
   "metadata": {},
   "outputs": [
    {
     "ename": "NameError",
     "evalue": "name 'h_int' is not defined",
     "output_type": "error",
     "traceback": [
      "\u001b[1;31m---------------------------------------------------------------------------\u001b[0m",
      "\u001b[1;31mNameError\u001b[0m                                 Traceback (most recent call last)",
      "\u001b[1;32m<ipython-input-14-deb9c6d8bf41>\u001b[0m in \u001b[0;36m<module>\u001b[1;34m()\u001b[0m\n\u001b[1;32m----> 1\u001b[1;33m \u001b[0mNTU_f\u001b[0m  \u001b[1;33m=\u001b[0m \u001b[0mh_int\u001b[0m\u001b[1;33m*\u001b[0m\u001b[0mBeta\u001b[0m\u001b[1;33m*\u001b[0m\u001b[1;33m(\u001b[0m\u001b[0mL\u001b[0m\u001b[1;33m*\u001b[0m\u001b[0mW\u001b[0m\u001b[1;33m*\u001b[0m\u001b[0mH\u001b[0m\u001b[1;33m*\u001b[0m\u001b[1;36m10\u001b[0m\u001b[1;33m**\u001b[0m\u001b[1;33m(\u001b[0m\u001b[1;33m-\u001b[0m\u001b[1;36m9\u001b[0m\u001b[1;33m)\u001b[0m\u001b[1;33m)\u001b[0m\u001b[1;33m/\u001b[0m\u001b[1;33m(\u001b[0m\u001b[0mm_f\u001b[0m\u001b[1;33m/\u001b[0m\u001b[1;36m3600\u001b[0m\u001b[1;33m*\u001b[0m\u001b[0mc_f\u001b[0m\u001b[1;33m)\u001b[0m\u001b[1;33m\u001b[0m\u001b[0m\n\u001b[0m\u001b[0;32m      2\u001b[0m \u001b[1;33m\u001b[0m\u001b[0m\n\u001b[0;32m      3\u001b[0m \u001b[1;33m\u001b[0m\u001b[0m\n\u001b[0;32m      4\u001b[0m \u001b[0mEff\u001b[0m \u001b[1;33m=\u001b[0m \u001b[0mData\u001b[0m\u001b[1;33m.\u001b[0m\u001b[0msheet_by_name\u001b[0m\u001b[1;33m(\u001b[0m\u001b[1;34m'Eff'\u001b[0m\u001b[1;33m)\u001b[0m\u001b[1;33m\u001b[0m\u001b[0m\n\u001b[0;32m      5\u001b[0m \u001b[1;33m\u001b[0m\u001b[0m\n",
      "\u001b[1;31mNameError\u001b[0m: name 'h_int' is not defined"
     ]
    }
   ],
   "source": [
    "NTU_f  = h_int*Beta*(L*W*H*10**(-9))/(m_f/3600*c_f) \n",
    "\n",
    "\n",
    "Eff = Data.sheet_by_name('Eff') \n",
    "\n",
    "Effect = []\n",
    "\n",
    "for i in range(7):\n",
    "     Effect.append(array(Eff.col_values(i)))\n",
    "\n",
    "phi = np.arange(0.1,2.01,0.1)\n",
    "NTU = np.arange(50,351,50)\n",
    "NN,PP = np.meshgrid(NTU,phi)\n",
    "\n",
    "Effectiv = interpolate.interp2d(phi,NTU,Effect,kind = 'linear')"
   ]
  },
  {
   "cell_type": "code",
   "execution_count": null,
   "metadata": {},
   "outputs": [],
   "source": [
    "Pi_6 = ((m_f)*c_f)/(m_s*C_L*f)\n",
    "\n",
    "Efness_HB = zeros(len(Pi_6))\n",
    "Efness_CB = zeros(len(Pi_6))\n",
    "\n",
    "for i in range(len(Pi_6)):\n",
    "    Efness_HB[i] = Effectiv(Pi_6[i]/2,NTU_f[i])\n",
    "    Efness_CB[i] = Effectiv(Pi_6[i]/(2*Pi_4[i]),NTU_f[i])\n",
    "\n",
    "\n",
    "Q_pas_CB = Efness_CB*(T_h - T_c)*m_f*FE*c_f\n",
    "Q_act_CB = dT_mg*m_f*c_f*FE\n",
    "\n",
    "Q_pas_HB = Efness_HB*(T_h - T_c)*m_f*FE*c_f\n",
    "Q_act_HB = dT_dmg*m_f*c_f*FE\n",
    "\n",
    "Q_span = (T_h - T_c)*m_f*c_f*FE\n",
    "Q_cond = ((1-Epsilon)*k_s_eff + Epsilon*k_f_eff)*(W*H*10**-6)*(T_h-T_c)/L\n",
    "W_mag  = m_s*f*(CdT_mg - CdT_dmg)"
   ]
  },
  {
   "cell_type": "markdown",
   "metadata": {},
   "source": [
    "### Closure Relations"
   ]
  },
  {
   "cell_type": "markdown",
   "metadata": {},
   "source": [
    "Regenerator arranges"
   ]
  },
  {
   "cell_type": "code",
   "execution_count": 9,
   "metadata": {},
   "outputs": [
    {
     "ename": "NameError",
     "evalue": "name 'FE' is not defined",
     "output_type": "error",
     "traceback": [
      "\u001b[1;31m---------------------------------------------------------------------------\u001b[0m",
      "\u001b[1;31mNameError\u001b[0m                                 Traceback (most recent call last)",
      "\u001b[1;32m<ipython-input-9-47e62f0b4977>\u001b[0m in \u001b[0;36m<module>\u001b[1;34m()\u001b[0m\n\u001b[1;32m----> 1\u001b[1;33m \u001b[0mN_arr\u001b[0m \u001b[1;33m=\u001b[0m \u001b[1;36m1\u001b[0m\u001b[1;33m/\u001b[0m\u001b[0mFE\u001b[0m\u001b[1;33m\u001b[0m\u001b[0m\n\u001b[0m\u001b[0;32m      2\u001b[0m \u001b[0mN_r\u001b[0m \u001b[1;33m=\u001b[0m \u001b[0mN_Rp\u001b[0m\u001b[1;33m*\u001b[0m\u001b[0mN_p\u001b[0m\u001b[1;33m*\u001b[0m\u001b[0mN_arr\u001b[0m\u001b[1;33m\u001b[0m\u001b[0m\n",
      "\u001b[1;31mNameError\u001b[0m: name 'FE' is not defined"
     ]
    }
   ],
   "source": [
    "N_arr = 1/FE\n",
    "N_r = N_Rp*N_p*N_arr"
   ]
  },
  {
   "cell_type": "markdown",
   "metadata": {},
   "source": [
    "Heat Exchangers"
   ]
  },
  {
   "cell_type": "code",
   "execution_count": null,
   "metadata": {},
   "outputs": [],
   "source": [
    "ECr_h = Q_h/(m_f*c_f*(T_he - T_h))\n",
    "ECr_c = Q_c/(m_f*c_f*(T_c - T_ce))"
   ]
  }
 ],
 "metadata": {
  "kernelspec": {
   "display_name": "Python 3",
   "language": "python",
   "name": "python3"
  },
  "language_info": {
   "codemirror_mode": {
    "name": "ipython",
    "version": 3
   },
   "file_extension": ".py",
   "mimetype": "text/x-python",
   "name": "python",
   "nbconvert_exporter": "python",
   "pygments_lexer": "ipython3",
   "version": "3.6.5"
  }
 },
 "nbformat": 4,
 "nbformat_minor": 2
}
