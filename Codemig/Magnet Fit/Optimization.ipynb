{
 "cells": [
  {
   "cell_type": "code",
   "execution_count": 1,
   "metadata": {},
   "outputs": [],
   "source": [
    "from numpy import *\n",
    "from scipy import *\n",
    "import numpy as np\n",
    "from matplotlib import *\n",
    "\n",
    "from scipy import integrate\n",
    "from scipy import interpolate\n",
    "from scipy.optimize import curve_fit\n",
    "import matplotlib.pyplot as plt\n",
    "\n",
    "import xlrd\n",
    "\n",
    "rc('text',usetex = True)\n",
    "rc('font', family='serif',size = 12)"
   ]
  },
  {
   "cell_type": "code",
   "execution_count": 29,
   "metadata": {},
   "outputs": [],
   "source": [
    "Data = xlrd.open_workbook('AMR_Inputs.xlsx')\n",
    "Eff = Data.sheet_by_name('Eff') \n",
    "Effect = []\n",
    "\n",
    "for i in range(7):\n",
    "     Effect.append(array(Eff.col_values(i)))\n",
    "\n",
    "phi = np.arange(0.1,2.01,0.1)\n",
    "NTU = np.arange(50,351,50)\n",
    "NN,PP = np.meshgrid(NTU,phi)\n",
    "Effectiv = interpolate.interp2d(phi,NTU,Effect,kind = 'linear')"
   ]
  },
  {
   "cell_type": "code",
   "execution_count": 2,
   "metadata": {},
   "outputs": [],
   "source": [
    "def R4(X): \n",
    "    R2,R3,B = X\n",
    "    return (1.27708795*(R2**-1.18177842)*(R3**2.14218804)*(B**0.70136265))"
   ]
  },
  {
   "cell_type": "code",
   "execution_count": 3,
   "metadata": {},
   "outputs": [],
   "source": [
    "def Qc(X): \n",
    "    P1,P2,P3,P4,P5= X #Q_pas_CB,Q_act_CB,Q_span,W_mag,W_p\n",
    "    return (2.22068098*P1+0.52868254*P2+-2.22664497*P3+-0.02146037*P4+-5.09505357*P5)"
   ]
  },
  {
   "cell_type": "code",
   "execution_count": 4,
   "metadata": {},
   "outputs": [],
   "source": [
    "def Qh(X): \n",
    "    P1,P2,P3,P4,P5= X\n",
    "    return (2.77459330e+00*P1+1.28933075e+00*P2-2.79557285e+00*P3+1.29594714e-03*P4-4.39735607e+00*P5)"
   ]
  },
  {
   "cell_type": "code",
   "execution_count": 5,
   "metadata": {},
   "outputs": [],
   "source": [
    "def W_Hex(X):\n",
    "    P1,P2 = X\n",
    "    return (a*P1**b + c*P2**d)"
   ]
  },
  {
   "cell_type": "code",
   "execution_count": 11,
   "metadata": {},
   "outputs": [],
   "source": [
    "def Prop_param(X):\n",
    "    T_c,T_h,B = X\n",
    "    C_H = 1.65161038/100*T_c+2.59946197*T_h-1.14324309*100*B\n",
    "    C_L = 10.16443738*T_c-5.32568341*T_h-0.71305997*B\n",
    "    dT_mg = -0.01057708*T_c+0.01163704*T_h+1.73509682*B\n",
    "    dT_dmg = -0.01229483*T_c+0.01376157*T_h+0.76454655*B\n",
    "    CdT_mg = -9.517569*T_c+11.49711993*T_h+820.04168503*B\n",
    "    CdT_dmg = 4.39480124*T_c-7.07931118/10*T_h+9.15928168*100*B\n",
    "    return(C_H,C_L,dT_mg,dT_dmg,CdT_mg,CdT_dmg)"
   ]
  },
  {
   "cell_type": "markdown",
   "metadata": {},
   "source": [
    "Calculation"
   ]
  },
  {
   "cell_type": "code",
   "execution_count": 120,
   "metadata": {},
   "outputs": [],
   "source": [
    "def Optimal(m_f,FE,f,L,H,W,B,Qc_target,Tc,Th,Tce,The):\n",
    "    \n",
    "    ##Properties of the solid \n",
    "    rho_s = 7900  #[kg/m3] Density of the solid\n",
    "    k_s   = 8 #[W/(m2.K)] #Thermal conductivity of the solid\n",
    "\n",
    "    ## Propertis of the fluid\n",
    "    rho_f = 1000  #[kg/m3] Density of the fluid\n",
    "    c_f   = 4181  #[kJ/(kg.K)] # Specific heat of the fluid\n",
    "    Pr_f  = 6.136 #[-] Prandtl of the fluid\n",
    "    mu_f  = 0.00061 #0.0008901 #[kg/m-2] #Viscosity of the fluid\n",
    "    k_f   = 0.6065  #[W/(m2.K)] #Thermal conductivity of the fluid\n",
    "\n",
    "    ## Porous medium\n",
    "    d_p = 500*10**(-6) #[m] Particle diameter\n",
    "    Epsilon = 0.45  #[-] Porosity\n",
    "\n",
    "    #Magnetic Circuit\n",
    "    B_rem = 1.35\n",
    "    N_p = 2\n",
    "    N_Rp = 2\n",
    "    \n",
    "    ### CALCULATION ###\n",
    "    \n",
    "    #Porous medium\n",
    "    m_s   = L*W*H*10**-9*(1-Epsilon)*rho_s #mass of the AMR\n",
    "    Beta = (1-Epsilon)*6/d_p\n",
    "    v_s   = (m_f)/(rho_f*W*H*10**-6) #Superficial velocity\n",
    "\n",
    "    #Dimensionless Numbers\n",
    "    Re_dp = d_p*v_s*rho_f/((1-Epsilon)*mu_f) #Reynolds number\n",
    "    Nu = 2*(1+4*(1-Epsilon)/Epsilon)+((1-Epsilon)**0.5)*Re_dp**0.6*Pr_f**(1/3) # Nusselt number\n",
    "    Pe = Re_dp*Pr_f\n",
    "    h_int = Nu*k_f/d_p\n",
    "    NTU_f  = h_int*Beta*(L*W*H*10**(-9))/(m_f*c_f) \n",
    "    dP = (L/1000)*(150*(1-Epsilon)**2*mu_f*v_s/(Epsilon**3*d_p**2) + 1.75*(1-Epsilon)*rho_f*v_s**2/(Epsilon**3*d_p))\n",
    "\n",
    "    #Effective conduction\n",
    "    k_e_f = k_f*Epsilon #Fluid effective conduction\n",
    "\n",
    "    a_0 = exp(-1.084-6.778*(Epsilon-0.298))\n",
    "    f_0 = 0.8\n",
    "    k_e_s = k_f*((1-a_0)*(Epsilon*f_0+(1-Epsilon*f_0)*k_s/k_f)/(1-Epsilon*(1-f_0)+k_s/k_f*Epsilon*(1-f_0))+a_0*(2*((k_s/k_f)**2)*(1-Epsilon)+(1+2*Epsilon)*k_s/k_f)/((2+Epsilon)*k_s/k_f+(1-Epsilon))) #Solid effective conduction\n",
    "\n",
    "    D_ = (k_f*rho_f/c_f)*0.75*Pe/2\n",
    "\n",
    "    k_s_eff = k_e_s\n",
    "    k_f_eff = k_e_f + rho_f*c_f*D_\n",
    "    \n",
    "    ##### Properties Calculation ######\n",
    "    \n",
    "    C_H,C_L,dT_mg,dT_dmg,CdT_mg,CdT_dmg = Prop_param((Tce,The,B))\n",
    "    \n",
    "    ##### Porous media effectivness #####\n",
    "    \n",
    "    Pi_6 = ((m_f)*c_f)/(m_s*C_L*f)\n",
    "    Pi_4 = CdT_mg/CdT_dmg\n",
    "\n",
    "    Efness_HB = Effectiv(Pi_6/2,NTU_f)\n",
    "    Efness_CB = Effectiv(Pi_6/(2*Pi_4),NTU_f)\n",
    "\n",
    "    \n",
    "    ## Metrics ##\n",
    "    \n",
    "    Q_pas_CB = Efness_CB*(The - Tce)*m_f*FE*c_f\n",
    "    Q_act_CB = dT_mg*m_f*c_f*FE\n",
    "\n",
    "    Q_pas_HB = Efness_HB*(The - Tce)*m_f*FE*c_f\n",
    "    Q_act_HB = dT_dmg*m_f*c_f*FE\n",
    "\n",
    "    Q_span = (The - Tce)*m_f*c_f*FE\n",
    "    print(The-Tce,m_f*3600,c_f,FE)\n",
    "    Q_cond = ((1-Epsilon)*k_s_eff + Epsilon*k_f_eff)*(W*H*10**-6)*(The-Tce)/L\n",
    "    W_mag  = m_s*f*(CdT_mg - CdT_dmg)\n",
    "    W_pump = dP*m_f/rho_f*2*(FE)\n",
    "    \n",
    "    print(Q_pas_CB,Q_act_CB,Q_span,W_mag,W_pump)\n",
    "    \n",
    "    ######Calculation#######\n",
    "    \n",
    "    Qc_reg = Qc((Q_pas_CB,Q_act_CB,Q_span,W_mag,W_pump))\n",
    "    Qh_reg = Qh((Q_pas_HB,Q_act_HB,Q_span,W_mag,W_pump))\n",
    "    \n",
    "    N_reg = Qc_target/Qc_reg\n",
    "    Qh_target= Qh_reg*N_reg\n",
    "    \n",
    "    ECr_c = Qc_target/(FE*N_reg*m_f*c_f*(Tc-Tce))\n",
    "    ECr_h = Qh_target/(FE*N_reg*m_f*c_f*(The-Th))\n",
    "    \n",
    "    T_CHex = Tce + Qc_target/(FE*N_reg*m_f*c_f) - 273.15\n",
    "    T_HHex = The - Qh_target/(FE*N_reg*m_f*c_f) - 273.15\n",
    "    \n",
    "    return (Qc_reg,Qh_reg,N_reg,ECr_c,ECr_h,T_CHex,T_HHex,dP)"
   ]
  },
  {
   "cell_type": "code",
   "execution_count": 121,
   "metadata": {},
   "outputs": [
    {
     "name": "stdout",
     "output_type": "stream",
     "text": [
      "29.0 800.0 4181 0.25\n",
      "[6601.56396771] 753.6222080902222 6736.055555555555 -1051.6677836679357 8.390634724535698\n"
     ]
    },
    {
     "data": {
      "text/plain": [
       "(array([39.40867045]),\n",
       " array([40.00151477]),\n",
       " array([67.24408536]),\n",
       " array([0.02120773]),\n",
       " array([0.02152677]),\n",
       " array([14.16966182]),\n",
       " array([42.82778587]),\n",
       " 75515.71252082128)"
      ]
     },
     "execution_count": 121,
     "metadata": {},
     "output_type": "execute_result"
    }
   ],
   "source": [
    "Optimal(800/3600,0.25,3,160,30,60,1.5,2650,22+273.15,35+273.15,14+273.15,43+273.15)"
   ]
  },
  {
   "cell_type": "code",
   "execution_count": null,
   "metadata": {},
   "outputs": [],
   "source": [
    "Pi_6 = ((m_f)*c_f)/(m_s*C_L*f)\n",
    "\n",
    "Efness_HB = zeros(len(Pi_6))\n",
    "Efness_CB = zeros(len(Pi_6))\n",
    "\n",
    "for i in range(len(Pi_6)):\n",
    "    Efness_HB[i] = Effectiv(Pi_6[i]/2,NTU_f[i])\n",
    "    Efness_CB[i] = Effectiv(Pi_6[i]/(2*Pi_4[i]),NTU_f[i])\n",
    "\n",
    "\n",
    "Q_pas_CB = Efness_CB*(T_h - T_c)*m_f*FE*c_f\n",
    "Q_act_CB = dT_mg*m_f*c_f*FE\n",
    "\n",
    "Q_pas_HB = Efness_HB*(T_h - T_c)*m_f*FE*c_f\n",
    "Q_act_HB = dT_dmg*m_f*c_f*FE\n",
    "\n",
    "Q_span = (T_h - T_c)*m_f*c_f*FE\n",
    "Q_cond = ((1-Epsilon)*k_s_eff + Epsilon*k_f_eff)*(W*H*10**-6)*(T_h-T_c)/L\n",
    "W_mag  = m_s*f*(CdT_mg - CdT_dmg)"
   ]
  },
  {
   "cell_type": "markdown",
   "metadata": {},
   "source": [
    "### Closure Relations"
   ]
  },
  {
   "cell_type": "markdown",
   "metadata": {},
   "source": [
    "Regenerator arranges"
   ]
  },
  {
   "cell_type": "code",
   "execution_count": 9,
   "metadata": {},
   "outputs": [
    {
     "ename": "NameError",
     "evalue": "name 'FE' is not defined",
     "output_type": "error",
     "traceback": [
      "\u001b[1;31m---------------------------------------------------------------------------\u001b[0m",
      "\u001b[1;31mNameError\u001b[0m                                 Traceback (most recent call last)",
      "\u001b[1;32m<ipython-input-9-47e62f0b4977>\u001b[0m in \u001b[0;36m<module>\u001b[1;34m()\u001b[0m\n\u001b[1;32m----> 1\u001b[1;33m \u001b[0mN_arr\u001b[0m \u001b[1;33m=\u001b[0m \u001b[1;36m1\u001b[0m\u001b[1;33m/\u001b[0m\u001b[0mFE\u001b[0m\u001b[1;33m\u001b[0m\u001b[0m\n\u001b[0m\u001b[0;32m      2\u001b[0m \u001b[0mN_r\u001b[0m \u001b[1;33m=\u001b[0m \u001b[0mN_Rp\u001b[0m\u001b[1;33m*\u001b[0m\u001b[0mN_p\u001b[0m\u001b[1;33m*\u001b[0m\u001b[0mN_arr\u001b[0m\u001b[1;33m\u001b[0m\u001b[0m\n",
      "\u001b[1;31mNameError\u001b[0m: name 'FE' is not defined"
     ]
    }
   ],
   "source": [
    "N_arr = 1/FE\n",
    "N_r = N_Rp*N_p*N_arr"
   ]
  },
  {
   "cell_type": "markdown",
   "metadata": {},
   "source": [
    "Heat Exchangers"
   ]
  },
  {
   "cell_type": "code",
   "execution_count": null,
   "metadata": {},
   "outputs": [],
   "source": [
    "ECr_h = Q_h/(m_f*c_f*(T_he - T_h))\n",
    "ECr_c = Q_c/(m_f*c_f*(T_c - T_ce))"
   ]
  }
 ],
 "metadata": {
  "kernelspec": {
   "display_name": "Python 3",
   "language": "python",
   "name": "python3"
  },
  "language_info": {
   "codemirror_mode": {
    "name": "ipython",
    "version": 3
   },
   "file_extension": ".py",
   "mimetype": "text/x-python",
   "name": "python",
   "nbconvert_exporter": "python",
   "pygments_lexer": "ipython3",
   "version": "3.7.3"
  }
 },
 "nbformat": 4,
 "nbformat_minor": 2
}
