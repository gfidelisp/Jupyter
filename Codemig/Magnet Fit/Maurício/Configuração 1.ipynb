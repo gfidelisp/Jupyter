{
 "cells": [
  {
   "cell_type": "code",
   "execution_count": 1,
   "metadata": {},
   "outputs": [],
   "source": [
    "from numpy import *\n",
    "from matplotlib import *\n",
    "from pylab import *\n",
    "from scipy import *\n",
    "from numpy import*\n",
    "import csv\n",
    "import xlrd\n",
    "import matplotlib.pyplot as plt\n",
    "from scipy.optimize import fsolve\n",
    "\n",
    "rc('text',usetex = True)\n",
    "rc('font', family='serif')"
   ]
  },
  {
   "cell_type": "code",
   "execution_count": 2,
   "metadata": {},
   "outputs": [],
   "source": [
    "import csv\n",
    "\n",
    "H_Fe = []\n",
    "B_Fe = []\n",
    "\n",
    "csv.register_dialect('myDialect', delimiter = ';')\n",
    "with open('BH_S235JR.csv', 'r') as csvFile:\n",
    "    reader = csv.reader(csvFile, dialect='myDialect')\n",
    "    for row in reader:\n",
    "        H_Fe.append((row[0]))\n",
    "        B_Fe.append((row[1]))\n",
    "csvFile.close()"
   ]
  },
  {
   "cell_type": "code",
   "execution_count": 3,
   "metadata": {},
   "outputs": [],
   "source": [
    "alpha_mag = (45*pi/180)/3\n",
    "Rg = 190\n",
    "Ro = 155\n",
    "Ri = 30\n",
    "Bsat = 1.8\n",
    "N = 3\n",
    "mu_rec = 1.1\n",
    "mu_0 = 4*pi*10**-7\n",
    "Br = 1.41\n",
    "alpha_ar = (10*pi/180)\n",
    "alpha_dente = (10*pi/180)\n",
    "aux = np.arange(0,N)\n",
    "K_disp = 0.1\n",
    "L = 160\n",
    "\n",
    "k_disp1 = 1\n",
    "k_disp2 = 1\n",
    "k_disp3 = 1\n",
    "k_a = 1"
   ]
  },
  {
   "cell_type": "code",
   "execution_count": 148,
   "metadata": {},
   "outputs": [],
   "source": [
    "aux = np.arange(0,N)\n",
    "B_target = 1\n",
    "Bgap = np.zeros(N)\n",
    "\n",
    "Bgap[0] = B_target/10\n",
    "Bgap[1] = B_target\n",
    "Bgap[2] = B_target"
   ]
  },
  {
   "cell_type": "code",
   "execution_count": 149,
   "metadata": {},
   "outputs": [],
   "source": [
    "B_r = Bgap*(3*alpha_mag/2)*(Rg+Ro)/(Ro - Ri)"
   ]
  },
  {
   "cell_type": "code",
   "execution_count": 150,
   "metadata": {},
   "outputs": [],
   "source": [
    "for i in range(1,len(H_Fe)-1):\n",
    "    if B_r[0] <np.float(B_Fe[i+1]) and B_r[0]>np.float(B_Fe[i]):\n",
    "        Hr1 = np.float(H_Fe[i]) + (np.float(H_Fe[i+1])-np.float(H_Fe[i]))*(B_r[0]-np.float(B_Fe[i]))/(np.float(B_Fe[i+1])-np.float(B_Fe[i]))\n",
    "    if B_r[1] <np.float(B_Fe[i+1]) and B_r[1]>np.float(B_Fe[i]):\n",
    "        Hr2 = np.float(H_Fe[i]) + (np.float(H_Fe[i+1])-np.float(H_Fe[i]))*(B_r[1]-np.float(B_Fe[i]))/(np.float(B_Fe[i+1])-np.float(B_Fe[i]))\n",
    "    if B_r[2] <np.float(B_Fe[i+1]) and B_r[2]>np.float(B_Fe[i]):\n",
    "        Hr3 = np.float(H_Fe[i]) + (np.float(H_Fe[i+1])-np.float(H_Fe[i]))*(B_r[2]-np.float(B_Fe[i]))/(np.float(B_Fe[i+1])-np.float(B_Fe[i]))\n",
    "    if Bsat <np.float(B_Fe[i+1]) and Bsat>np.float(B_Fe[i]):\n",
    "        Hsat = np.float(H_Fe[i]) + (np.float(H_Fe[i+1])-np.float(H_Fe[i]))*(Bsat-np.float(B_Fe[i]))/(np.float(B_Fe[i+1])-np.float(B_Fe[i]))"
   ]
  },
  {
   "cell_type": "code",
   "execution_count": 151,
   "metadata": {},
   "outputs": [],
   "source": [
    "H_g = Bgap/mu_0\n",
    "\n",
    "Hg1 = H_g[0]\n",
    "Hg2 = H_g[1]\n",
    "Hg3 = H_g[2]\n",
    "\n",
    "Hc1 = Hsat\n",
    "Hc2 = Hsat\n",
    "Hc3 = Hsat\n",
    "\n",
    "Hd = Hsat\n",
    "Hp = Hsat"
   ]
  },
  {
   "cell_type": "markdown",
   "metadata": {},
   "source": [
    "def equations(X):\n",
    "    Hm1,Hm2,Hm3,Rs1,Rs2,Rs3,Rc1,Rc2,Rc3,Ha,Rso = X\n",
    "    #Áreas:\n",
    "    \n",
    "    Sr1 = (Ro-Ri)/3*L\n",
    "    Sr2 = Sr1\n",
    "    Sr3 = Sr1\n",
    "    \n",
    "    Sg1 = alpha_mag*(Rg+Ro)/2*L\n",
    "    Sg2 = Sg1\n",
    "    Sg3 = Sg1\n",
    "    \n",
    "    Sm1 = alpha_mag*(Rs1+Rg)/2*L\n",
    "    Sm2 = alpha_mag*(Rs2+Rg)/2*L\n",
    "    Sm3 = alpha_mag*(Rs3+Rg)/2*L\n",
    "    \n",
    "    Sc1 = (Rc1-Rs1)/4*L\n",
    "    Sc2 = (Rc2-Rs2)/4*L\n",
    "    Sc3 = (Rc3-Rs3)/4*L\n",
    "    \n",
    "    Sa = (k_a*Rso-Rg)*L\n",
    "    Sb = Sa\n",
    "    \n",
    "    alpha_0 = pi/2 - alpha_ar- 3*alpha_mag - alpha_dente\n",
    "    \n",
    "    #Comprimentos:\n",
    "    Lr1 = 2*(alpha_0 + alpha_dente+alpha_ar+1*alpha_mag/2)*(Ri+3*(Ro-Ri)/4) + 2*1*(Ro-Ri)/4\n",
    "    Lr2 = 2*(alpha_0 + alpha_dente+alpha_ar+3*alpha_mag/2)*(Ri+2*(Ro-Ri)/4) + 2*2*(Ro-Ri)/4\n",
    "    Lr3 = 2*(alpha_0 + alpha_dente+alpha_ar+5*alpha_mag/2)*(Ri+1*(Ro-Ri)/4) + 2*3*(Ro-Ri)/4\n",
    "    \n",
    "    Lg1 = Rg - Ro\n",
    "    Lg2 = Lg1\n",
    "    Lg3 = Lg1\n",
    "    \n",
    "    Lm1 = Rs1 - Rg\n",
    "    Lm2 = Rs2 - Rg\n",
    "    Lm3 = Rs3 - Rg\n",
    "        \n",
    "    Lc1 = 2*(alpha_0 + alpha_dente+alpha_ar+1*alpha_mag/2)*(Rs1+1*(Rc1-Rs1)/4) + 2*1*(Rc1-Rs1)/4\n",
    "    Lc2 = 2*(alpha_0 + alpha_dente+alpha_ar+3*alpha_mag/2)*(Rs2+2*(Rc2-Rs2)/4) + 2*2*(Rc2-Rs2)/4\n",
    "    Lc3 = 2*(alpha_0 + alpha_dente+alpha_ar+5*alpha_mag/2)*(Rs3+3*(Rc3-Rs3)/4) + 2*3*(Rc3-Rs3)/4\n",
    "    \n",
    "    Lp = 2*(alpha_0+alpha_dente)*(Rso+Rg)/2\n",
    "    La = alpha_ar*(Rso+Rg)/2 \n",
    "    Lb=La    \n",
    "    \n",
    "    return(\n",
    "        2*Hm1*Lm1 + 2*Lg1*Hg1+ Hr1*Lr1+ Lc1*Hc1,\n",
    "        2*Hm2*Lm2 + 2*Lg2*Hg2+ Hr2*Lr2+ Lc2*Hc2,\n",
    "        2*Hm3*Lm3 + 2*Lg3*Hg3+ Hr3*Lr3+ Lc3*Hc3,\n",
    "        \n",
    "        2*Lm1*Hm1 + 2*Ha*La + Lp*Hp + Hc1*Lc1,\n",
    "        \n",
    "        k_disp1*(mu_rec*mu_0*Hm1+Br)*Sm1 - Bgap[0]*Sg1 - mu_0*Ha*Sa,\n",
    "        k_disp2*(mu_rec*mu_0*Hm2+Br)*Sm2 - Bgap[1]*Sg2,\n",
    "        k_disp3*(mu_rec*mu_0*Hm3+Br)*Sm3 - Bgap[2]*Sg3,\n",
    "        \n",
    "        #B_r1*Sr1 - Bgap[0]*Sg1,\n",
    "        #B_r2*Sr2 - Bgap[1]*Sg2,\n",
    "        #B_r3*Sr3 - Bgap[2]*Sg3,\n",
    "        \n",
    "        #mu_0*Ha*(k_a*Rso-Rg)*L - B_sat*(Rso-Rg)*L,\n",
    "        mu_0*Ha- Bsat,\n",
    "        \n",
    "        k_disp1*(mu_rec*mu_0*Hm1+Br)*Sm1 - Bsat*Sc1 - mu_0*Ha*Sa,\n",
    "        k_disp2*(mu_rec*mu_0*Hm2+Br)*Sm2 - Bsat*Sc2,\n",
    "        k_disp3*(mu_rec*mu_0*Hm3+Br)*Sm3 - Bsat*Sc3,\n",
    "        \n",
    "    )"
   ]
  },
  {
   "cell_type": "code",
   "execution_count": 152,
   "metadata": {},
   "outputs": [],
   "source": [
    "alpha_0 = pi/2 - alpha_ar- 3*alpha_mag - alpha_dente\n",
    "Ha = Bsat/mu_0"
   ]
  },
  {
   "cell_type": "code",
   "execution_count": 158,
   "metadata": {},
   "outputs": [],
   "source": [
    "def equations(X):\n",
    "    Hm1,Hm2,Hm3,Rs1,Rs2,Rs3,Rc1,Rc2,Rc3,H_p = X\n",
    "    #Áreas:\n",
    "    \n",
    "    #Sr1 = (Ro-Ri)/3*L\n",
    "    #Sr2 = Sr1\n",
    "    #Sr3 = Sr1\n",
    "    \n",
    "    #Sg1 = alpha_mag*(Rg+Ro)/2*L\n",
    "    #Sg2 = Sg1\n",
    "    #Sg3 = Sg1\n",
    "    \n",
    "    #Sm1 = alpha_mag*(Rs1+Rg)/2*L\n",
    "    #Sm2 = alpha_mag*(Rs2+Rg)/2*L\n",
    "    #Sm3 = alpha_mag*(Rs3+Rg)/2*L\n",
    "    \n",
    "    #Sc1 = (Rc1-Rs1)/4*L\n",
    "    #Sc2 = (Rc2-Rs2)/4*L\n",
    "    #Sc3 = (Rc3-Rs3)/4*L\n",
    "    \n",
    "    #Sa = (k_a*Rso-Rg)*L\n",
    "    #Sb = Sa\n",
    "    \n",
    "    #alpha_0 = pi/2 - alpha_ar- 3*alpha_mag - alpha_dente\n",
    "    \n",
    "    #Comprimentos:\n",
    "    \n",
    "    #Lr1 = (2*(alpha_0 + alpha_dente+alpha_ar+1*alpha_mag/2)*(Ri+3*(Ro-Ri)/4) + 2*1*(Ro-Ri)/4)\n",
    "    #Lr2 = (2*(alpha_0 + alpha_dente+alpha_ar+3*alpha_mag/2)*(Ri+2*(Ro-Ri)/4) + 2*2*(Ro-Ri)/4)\n",
    "    #Lr3 = (2*(alpha_0 + alpha_dente+alpha_ar+5*alpha_mag/2)*(Ri+1*(Ro-Ri)/4) + 2*3*(Ro-Ri)/4)\n",
    "    \n",
    "    #Lg1 = (Rg - Ro)\n",
    "    #Lg2 = Lg1\n",
    "    #Lg3 = Lg1\n",
    "    \n",
    "    #Lm1 = (Rs1 - Rg)\n",
    "    #Lm2 = (Rs2 - Rg)\n",
    "    #Lm3 = (Rs3 - Rg)\n",
    "        \n",
    "    #Lc1 = (2*(alpha_0 + alpha_dente+alpha_ar+1*alpha_mag/2)*(Rs1+1*(Rc1-Rs1)/4) + 2*1*(Rc1-Rs1)/4)\n",
    "    #Lc2 = (2*(alpha_0 + alpha_dente+alpha_ar+3*alpha_mag/2)*(Rs2+2*(Rc2-Rs2)/4) + 2*2*(Rc2-Rs2)/4)\n",
    "    #Lc3 = (2*(alpha_0 + alpha_dente+alpha_ar+5*alpha_mag/2)*(Rs3+3*(Rc3-Rs3)/4) + 2*3*(Rc3-Rs3)/4)\n",
    "    \n",
    "    #Lp = 2*(alpha_0+alpha_dente)*(Rso+Rg)/2\n",
    "    #La = alpha_ar*(Rso+Rg)/2 \n",
    "    #Lb=La    \n",
    "    \n",
    "    return(\n",
    "        2*Hm1*(Rs1 - Rg) + 2*(Rg - Ro)*Hg1+ Hr1*(2*(alpha_0 + alpha_dente+alpha_ar+1*alpha_mag/2)*(Ri+3*(Ro-Ri)/4) + 2*1*(Ro-Ri)/4)+ (2*(alpha_0 + alpha_dente+alpha_ar+1*alpha_mag/2)*(Rs1+3*(Rc1-Rs1)/8) + 2*3*(Rc1-Rs1)/8)*Hc1,\n",
    "        2*Hm2*(Rs2 - Rg) + 2*(Rg - Ro)*Hg2+ Hr2*(2*(alpha_0 + alpha_dente+alpha_ar+3*alpha_mag/2)*(Ri+2*(Ro-Ri)/4) + 2*2*(Ro-Ri)/4)+ (2*(alpha_0 + alpha_dente+alpha_ar+3*alpha_mag/2)*(Rs2+5*(Rc2-Rs2)/8) + 2*5*(Rc2-Rs2)/8)*Hc2,\n",
    "        2*Hm3*(Rs3 - Rg) + 2*(Rg - Ro)*Hg3+ Hr3*(2*(alpha_0 + alpha_dente+alpha_ar+5*alpha_mag/2)*(Ri+1*(Ro-Ri)/4) + 2*3*(Ro-Ri)/4)+ (2*(alpha_0 + alpha_dente+alpha_ar+5*alpha_mag/2)*(Rs3+7*(Rc3-Rs3)/8) + 2*7*(Rc3-Rs3)/8)*Hc3,\n",
    "        \n",
    "        2*(Rs1 - Rg)*Hm1 + 2*Ha*(alpha_ar*(Rso+Rg)/2) + 2*(alpha_0+alpha_dente)*(Rso+Rg)/2*Hp + Hc1*(2*(alpha_0 + alpha_dente+alpha_ar+1*alpha_mag/2)*(Rs1+1*(Rc1-Rs1)/8) + 2*1*(Rc1-Rs1)/8),\n",
    "        #2*(Rs1 - Rg)*Hm1 + 2*Ha*alpha_ar*(Rg) + 2*(alpha_0+alpha_dente)*(Rg)*Hp + Hc1*(2*(alpha_0 + alpha_dente+alpha_ar+1*alpha_mag/2)*(Rs1+1*(Rc1-Rs1)/4) + 2*1*(Rc1-Rs1)/4),\n",
    "        \n",
    "        (mu_rec*mu_0*Hm1+Br)*alpha_mag*(Rs1+Rg)/2 -Bgap[0]*alpha_mag*(Rg+Ro)/2 - Bsat*(Rso-Rg),\n",
    "        #(mu_rec*mu_0*Hm1+Br)*alpha_mag*(Rs1+Rg)/2 - Bgap[0]*alpha_mag*(Rg+Ro)/2,\n",
    "        (mu_rec*mu_0*Hm2+Br)*alpha_mag*(Rs2+Rg)/2 - Bgap[1]*alpha_mag*(Rg+Ro)/2,\n",
    "        (mu_rec*mu_0*Hm3+Br)*alpha_mag*(Rs3+Rg)/2 - Bgap[2]*alpha_mag*(Rg+Ro)/2,\n",
    "        \n",
    "        #B_r1*Sr1 - Bgap[0]*Sg1,\n",
    "        #B_r2*Sr2 - Bgap[1]*Sg2,\n",
    "        #B_r3*Sr3 - Bgap[2]*Sg3,\n",
    "        \n",
    "        #mu_0*Ha*(k_a*Rso-Rg)*L - B_sat*(Rso-Rg)*L,\n",
    "        #mu_0*Ha- Bsat,\n",
    "        #Rso -320,\n",
    "        \n",
    "        (mu_rec*mu_0*Hm1+Br)*alpha_mag*(Rs1+Rg)/2 -Bsat*(Rc1-Rs1)/4 - *(Rso-Rg),\n",
    "        #(mu_rec*mu_0*Hm1+Br)*alpha_mag*(Rs1+Rg)/2 - Bsat*(Rc1-Rs1)/4,\n",
    "        (mu_rec*mu_0*Hm2+Br)*alpha_mag*(Rs2+Rg)/2 - Bsat*(Rc2-Rs2)/4,\n",
    "        (mu_rec*mu_0*Hm3+Br)*alpha_mag*(Rs3+Rg)/2 - Bsat*(Rc3-Rs3)/4,\n",
    "        \n",
    "    )"
   ]
  },
  {
   "cell_type": "code",
   "execution_count": 159,
   "metadata": {},
   "outputs": [],
   "source": [
    "from scipy.optimize import minimize"
   ]
  },
  {
   "cell_type": "code",
   "execution_count": 160,
   "metadata": {
    "scrolled": true
   },
   "outputs": [
    {
     "ename": "ValueError",
     "evalue": "only 2 non-keyword arguments accepted",
     "output_type": "error",
     "traceback": [
      "\u001b[1;31m---------------------------------------------------------------------------\u001b[0m",
      "\u001b[1;31mValueError\u001b[0m                                Traceback (most recent call last)",
      "\u001b[1;32m<ipython-input-160-d5c9eac2e543>\u001b[0m in \u001b[0;36m<module>\u001b[1;34m\u001b[0m\n\u001b[1;32m----> 1\u001b[1;33m \u001b[0mHm1\u001b[0m\u001b[1;33m,\u001b[0m\u001b[0mHm2\u001b[0m\u001b[1;33m,\u001b[0m\u001b[0mHm3\u001b[0m\u001b[1;33m,\u001b[0m\u001b[0mRs1\u001b[0m\u001b[1;33m,\u001b[0m\u001b[0mRs2\u001b[0m\u001b[1;33m,\u001b[0m\u001b[0mRs3\u001b[0m\u001b[1;33m,\u001b[0m\u001b[0mRc1\u001b[0m\u001b[1;33m,\u001b[0m\u001b[0mRc2\u001b[0m\u001b[1;33m,\u001b[0m\u001b[0mRc3\u001b[0m\u001b[1;33m,\u001b[0m\u001b[0mRso\u001b[0m \u001b[1;33m=\u001b[0m \u001b[0mminimize\u001b[0m\u001b[1;33m(\u001b[0m\u001b[0mequations\u001b[0m\u001b[1;33m,\u001b[0m\u001b[0mnp\u001b[0m\u001b[1;33m.\u001b[0m\u001b[0marray\u001b[0m\u001b[1;33m(\u001b[0m\u001b[1;33m-\u001b[0m\u001b[1;36m350164\u001b[0m\u001b[1;33m,\u001b[0m\u001b[1;33m-\u001b[0m\u001b[1;36m300000\u001b[0m\u001b[1;33m,\u001b[0m\u001b[1;33m-\u001b[0m\u001b[1;36m300000\u001b[0m\u001b[1;33m,\u001b[0m\u001b[0mRg\u001b[0m\u001b[1;33m+\u001b[0m\u001b[1;36m150\u001b[0m\u001b[1;33m,\u001b[0m\u001b[0mRg\u001b[0m\u001b[1;33m+\u001b[0m\u001b[1;36m150\u001b[0m\u001b[1;33m,\u001b[0m\u001b[0mRg\u001b[0m\u001b[1;33m+\u001b[0m\u001b[1;36m150\u001b[0m\u001b[1;33m,\u001b[0m\u001b[0mRg\u001b[0m\u001b[1;33m+\u001b[0m\u001b[1;36m250\u001b[0m\u001b[1;33m,\u001b[0m\u001b[0mRg\u001b[0m\u001b[1;33m+\u001b[0m\u001b[1;36m250\u001b[0m\u001b[1;33m,\u001b[0m\u001b[0mRg\u001b[0m\u001b[1;33m+\u001b[0m\u001b[1;36m250\u001b[0m\u001b[1;33m,\u001b[0m\u001b[0mRg\u001b[0m\u001b[1;33m+\u001b[0m\u001b[1;36m50\u001b[0m\u001b[1;33m)\u001b[0m\u001b[1;33m)\u001b[0m\u001b[1;33m\u001b[0m\u001b[1;33m\u001b[0m\u001b[0m\n\u001b[0m",
      "\u001b[1;31mValueError\u001b[0m: only 2 non-keyword arguments accepted"
     ]
    }
   ],
   "source": [
    "Hm1,Hm2,Hm3,Rs1,Rs2,Rs3,Rc1,Rc2,Rc3,Rso = minimize(equations,np.array(-350164,-300000,-300000,Rg+150,Rg+150,Rg+150,Rg+250,Rg+250,Rg+250,Rg+50))"
   ]
  },
  {
   "cell_type": "code",
   "execution_count": null,
   "metadata": {},
   "outputs": [],
   "source": []
  },
  {
   "cell_type": "code",
   "execution_count": 161,
   "metadata": {
    "scrolled": true
   },
   "outputs": [],
   "source": [
    "x0 = np.array([-350164,-300000,-300000,Rg+150,Rg+150,Rg+150,Rg+250,Rg+250,Rg+250,Rg+50])\n"
   ]
  },
  {
   "cell_type": "code",
   "execution_count": 162,
   "metadata": {},
   "outputs": [
    {
     "data": {
      "text/plain": [
       "(45.16039439736458, 45.160394395353265, 234.0)"
      ]
     },
     "execution_count": 162,
     "metadata": {},
     "output_type": "execute_result"
    }
   ],
   "source": [
    "(mu_rec*mu_0*Hm1+Br)*alpha_mag*(Rs1+Rg)/2,Bsat*(Rc1-Rs1)/4,Bsat*(Rso-Rg)"
   ]
  },
  {
   "cell_type": "code",
   "execution_count": 163,
   "metadata": {},
   "outputs": [],
   "source": [
    "Hm1,Hm2,Hm3,Rs1,Rs2,Rs3,Rc1,Rc2,Rc3,Rso = fsolve(equations,x0,maxfev = 1000000000)"
   ]
  },
  {
   "cell_type": "code",
   "execution_count": 164,
   "metadata": {},
   "outputs": [
    {
     "data": {
      "text/plain": [
       "(0.22235686660225706, 1.41)"
      ]
     },
     "execution_count": 164,
     "metadata": {},
     "output_type": "execute_result"
    }
   ],
   "source": [
    "mu_rec*mu_0*Hm1+Br,Br"
   ]
  },
  {
   "cell_type": "code",
   "execution_count": 168,
   "metadata": {},
   "outputs": [
    {
     "data": {
      "text/plain": [
       "-48.93076919290859"
      ]
     },
     "execution_count": 168,
     "metadata": {},
     "output_type": "execute_result"
    }
   ],
   "source": []
  },
  {
   "cell_type": "code",
   "execution_count": 128,
   "metadata": {},
   "outputs": [
    {
     "data": {
      "text/plain": [
       "(-1651289.8429597947,\n",
       " -329225.3337770487,\n",
       " -332763.3420410535,\n",
       " 215.29174874268267,\n",
       " 296.69945204435027,\n",
       " 298.8965432714897,\n",
       " 2093.4523809976686,\n",
       " 630.2091018246454,\n",
       " 531.4613167644713,\n",
       " 91.64506266661887)"
      ]
     },
     "execution_count": 128,
     "metadata": {},
     "output_type": "execute_result"
    }
   ],
   "source": [
    "Hm1,Hm2,Hm3,Rs1,Rs2,Rs3,Rc1,Rc2,Rc3,Rso"
   ]
  },
  {
   "cell_type": "code",
   "execution_count": null,
   "metadata": {},
   "outputs": [],
   "source": [
    "Sr1 = (Ro-Ri)/3*L\n",
    "Sr2 = Sr1\n",
    "Sr3 = Sr1\n",
    "\n",
    "Sg1 = alpha_mag*(Rg+Ro)/2*L\n",
    "Sg2 = Sg1\n",
    "Sg3 = Sg1\n",
    "\n",
    "Sm1 = alpha_mag*(Rs1+Rg)/2*L\n",
    "Sm2 = alpha_mag*(Rs2+Rg)/2*L\n",
    "Sm3 = alpha_mag*(Rs3+Rg)/2*L\n",
    "\n",
    "Sc1 = (Rc1-Rs1)/4*L\n",
    "Sc2 = (Rc2-Rs2)/4*L\n",
    "Sc3 = (Rc3-Rs3)/4*L\n",
    "\n",
    "Sa = (k_a*Rso-Rg)*L\n",
    "Sb = Sa\n",
    "\n",
    "alpha_0 = pi/2 - alpha_ar- 3*alpha_mag - alpha_dente\n",
    "\n",
    "#Comprimentos:\n",
    "Lr1 = 2*(alpha_0 + alpha_dente+alpha_ar+1*alpha_mag/2)*(Ri+3*(Ro-Ri)/4) + 2*1*(Ro-Ri)/4\n",
    "Lr2 = 2*(alpha_0 + alpha_dente+alpha_ar+3*alpha_mag/2)*(Ri+2*(Ro-Ri)/4) + 2*2*(Ro-Ri)/4\n",
    "Lr3 = 2*(alpha_0 + alpha_dente+alpha_ar+5*alpha_mag/2)*(Ri+1*(Ro-Ri)/4) + 2*3*(Ro-Ri)/4\n",
    "\n",
    "Lg1 = Rg - Ro\n",
    "Lg2 = Lg1\n",
    "Lg3 = Lg1\n",
    "\n",
    "Lm1 = Rs1 - Rg\n",
    "Lm2 = Rs2 - Rg\n",
    "Lm3 = Rs3 - Rg\n",
    "\n",
    "Lc1 = 2*(alpha_0 + alpha_dente+alpha_ar+1*alpha_mag/2)*(Rs1+1*(Rc1-Rs1)/4) + 2*1*(Rc1-Rs1)/4\n",
    "Lc2 = 2*(alpha_0 + alpha_dente+alpha_ar+3*alpha_mag/2)*(Rs2+2*(Rc2-Rs2)/4) + 2*2*(Rc2-Rs2)/4\n",
    "Lc3 = 2*(alpha_0 + alpha_dente+alpha_ar+5*alpha_mag/2)*(Rs3+3*(Rc3-Rs3)/4) + 2*3*(Rc3-Rs3)/4\n",
    "\n",
    "Lp = 2*(alpha_0+alpha_dente)*(Rso+Rg)/2\n",
    "La = alpha_ar*(Rso+Rg)/2 \n",
    "Lb=La "
   ]
  },
  {
   "cell_type": "code",
   "execution_count": null,
   "metadata": {},
   "outputs": [],
   "source": [
    "2*Hm1*Lm1+2*Lg1*Hg1+Hr1*Lr1+Lc1*Hc1,\n",
    "2*Hm2*Lm2+2*Lg2*Hg2+Hr1*Lr2+Lc2*Hc2,\n",
    "2*Hm3*Lm3+2*Lg3*Hg3+Hr1*Lr3+Lc3*Hc3,\n",
    "\n",
    "2*Lm1*Hm1 + 2*Ha*La + Lp*Hp + Hc1*Lc1,\n",
    "\n",
    "k_disp1*(mu_rec*mu_0*Hm1+Br)*Sm1 - Bgap[0]*Sg1 - mu_0*Ha*Sa,\n",
    "k_disp2*(mu_rec*mu_0*Hm2+Br)*Sm2 - Bgap[1]*Sg2,\n",
    "k_disp3*(mu_rec*mu_0*Hm3+Br)*Sm3 - Bgap[2]*Sg3,\n",
    "\n",
    "#B_r1*Sr1 - Bgap[0]*Sg1,\n",
    "#B_r2*Sr2 - Bgap[1]*Sg2,\n",
    "#B_r3*Sr3 - Bgap[2]*Sg3,\n",
    "\n",
    "mu_0*Ha*(k_a*Rso-Rg)*L - B_sat*(Rso-Rg)*L,\n",
    "\n",
    "\n",
    "k_disp1*(mu_rec*mu_0*Hm1+Br)*Sm1 - Bsat*Sc1 - mu_0*Ha*Sa,\n",
    "k_disp2*(mu_rec*mu_0*Hm2+Br)*Sm2 - Bsat*Sc2,\n",
    "k_disp3*(mu_rec*mu_0*Hm3+Br)*Sm3 - Bsat*Sc3,"
   ]
  },
  {
   "cell_type": "code",
   "execution_count": null,
   "metadata": {},
   "outputs": [],
   "source": [
    "2*(alpha_0 + alpha_dente+alpha_ar+1*alpha_mag/2)*(Rs1+1*(Rc1-Rs1/4)) + 2*1*(Rc1-Rs1/4)"
   ]
  },
  {
   "cell_type": "code",
   "execution_count": null,
   "metadata": {},
   "outputs": [],
   "source": [
    "Rs1"
   ]
  },
  {
   "cell_type": "code",
   "execution_count": null,
   "metadata": {},
   "outputs": [],
   "source": [
    "Lr1,Lr2,Lr3"
   ]
  },
  {
   "cell_type": "code",
   "execution_count": null,
   "metadata": {},
   "outputs": [],
   "source": []
  },
  {
   "cell_type": "code",
   "execution_count": null,
   "metadata": {},
   "outputs": [],
   "source": []
  },
  {
   "cell_type": "code",
   "execution_count": null,
   "metadata": {},
   "outputs": [],
   "source": []
  }
 ],
 "metadata": {
  "kernelspec": {
   "display_name": "Python 3",
   "language": "python",
   "name": "python3"
  },
  "language_info": {
   "codemirror_mode": {
    "name": "ipython",
    "version": 3
   },
   "file_extension": ".py",
   "mimetype": "text/x-python",
   "name": "python",
   "nbconvert_exporter": "python",
   "pygments_lexer": "ipython3",
   "version": "3.7.4"
  }
 },
 "nbformat": 4,
 "nbformat_minor": 2
}
