{
 "cells": [
  {
   "cell_type": "code",
   "execution_count": 1,
   "metadata": {},
   "outputs": [],
   "source": [
    "from numpy import *\n",
    "from matplotlib import *\n",
    "from pylab import *\n",
    "from scipy import *\n",
    "from numpy import*\n",
    "import csv\n",
    "import xlrd\n",
    "\n",
    "from scipy.optimize import fsolve"
   ]
  },
  {
   "cell_type": "code",
   "execution_count": 2,
   "metadata": {},
   "outputs": [],
   "source": [
    "Epsilon = 0.36\n",
    "mu = 8.9 * 10 ** -4\n",
    "rho = 1000\n",
    "Ac = 40/1000*40/1000\n",
    "dP = 200000"
   ]
  },
  {
   "cell_type": "code",
   "execution_count": 3,
   "metadata": {},
   "outputs": [],
   "source": [
    "def func(mf,L,d,dP,Epsilon,mu_f,rho_f,Ac):\n",
    "    f = dP - (1-Epsilon)*mu/((Epsilon**3)*rho_f*Ac)*(1.8*3.1415**2*L*mf/d**2+18*mf**2*L/(mu_f*Ac*d))\n",
    "    return (f)"
   ]
  },
  {
   "cell_type": "code",
   "execution_count": 4,
   "metadata": {},
   "outputs": [],
   "source": [
    "L = np.arange(0.05,0.2,0.01)\n",
    "d = np.arange(0.4/1000,0.1/1000,0.1/1000)\n",
    "\n",
    "mf = zeros([len(d),len(L)])\n",
    "for i in range(len(L)):\n",
    "    for j in range(len(d)):\n",
    "        mf[j][i] = fsolve(lambda mf: func(mf,L[i],d[j],dP,Epsilon,mu,rho,Ac),x0 = 0)*3600"
   ]
  },
  {
   "cell_type": "code",
   "execution_count": 5,
   "metadata": {},
   "outputs": [],
   "source": [
    "for i in range(len(d)):\n",
    "    plt.plot(L,mf[i])"
   ]
  },
  {
   "cell_type": "code",
   "execution_count": null,
   "metadata": {},
   "outputs": [],
   "source": []
  }
 ],
 "metadata": {
  "kernelspec": {
   "display_name": "Python 3",
   "language": "python",
   "name": "python3"
  },
  "language_info": {
   "codemirror_mode": {
    "name": "ipython",
    "version": 3
   },
   "file_extension": ".py",
   "mimetype": "text/x-python",
   "name": "python",
   "nbconvert_exporter": "python",
   "pygments_lexer": "ipython3",
   "version": "3.7.0"
  }
 },
 "nbformat": 4,
 "nbformat_minor": 2
}
