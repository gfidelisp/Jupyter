{
 "cells": [
  {
   "cell_type": "code",
   "execution_count": 1,
   "metadata": {},
   "outputs": [],
   "source": [
    "from numpy import *\n",
    "from matplotlib import *\n",
    "from pylab import *\n",
    "from scipy import *\n",
    "from numpy import*\n",
    "import csv\n",
    "import xlrd\n",
    "\n",
    "rc('text',usetex = True)\n",
    "rc('font', family='serif')\n",
    "\n",
    "from scipy.optimize import curve_fit"
   ]
  },
  {
   "cell_type": "code",
   "execution_count": 11,
   "metadata": {},
   "outputs": [],
   "source": [
    "workbook = xlrd.open_workbook('Input.xlsx')\n",
    "worksheet = workbook.sheet_by_name('Data')"
   ]
  },
  {
   "cell_type": "code",
   "execution_count": 12,
   "metadata": {},
   "outputs": [],
   "source": [
    "N = 41\n",
    "R1 = zeros(N)\n",
    "R2 = zeros(N)\n",
    "R3 = zeros(N)\n",
    "R4 = zeros(N)\n",
    "h = zeros(N)\n",
    "Pi1 = zeros(N)\n",
    "Pi2 = zeros(N)\n",
    "B = zeros(N)\n",
    "\n",
    "for i in range(N):\n",
    "    R1[i] = worksheet.cell(0, i).value\n",
    "    R2[i] = worksheet.cell(1, i).value\n",
    "    R3[i] = worksheet.cell(2, i).value\n",
    "    R4[i] = worksheet.cell(3, i).value\n",
    "    h[i] = worksheet.cell(4, i).value\n",
    "    B[i] = worksheet.cell(5, i).value\n",
    "    #B[i] = worksheet.cell(6, i).value"
   ]
  },
  {
   "cell_type": "code",
   "execution_count": 13,
   "metadata": {
    "scrolled": true
   },
   "outputs": [
    {
     "data": {
      "text/plain": [
       "array([1.4, 1.4, 1.4, 1.4, 1.4, 1.4, 1.4, 1.4, 1.4, 1.4, 1.4, 1.4, 1.4,\n",
       "       1.4, 1.4, 1.4, 1.4, 1.4, 1.4, 1.4, 1.4, 1.4, 1.4, 1.4, 1.4, 1.4,\n",
       "       1.4, 1.4, 1.4, 1.4, 1.4, 1.4, 1.4, 1.4, 1.4, 1.4, 1.4, 1.4, 1.4,\n",
       "       1.4, 1.4])"
      ]
     },
     "execution_count": 13,
     "metadata": {},
     "output_type": "execute_result"
    }
   ],
   "source": [
    "h"
   ]
  },
  {
   "cell_type": "code",
   "execution_count": 14,
   "metadata": {},
   "outputs": [
    {
     "data": {
      "text/plain": [
       "[<matplotlib.lines.Line2D at 0x269320baf28>]"
      ]
     },
     "execution_count": 14,
     "metadata": {},
     "output_type": "execute_result"
    },
    {
     "data": {
      "image/png": "[encoded data removed]",
      "text/plain": [
       "<Figure size 432x288 with 1 Axes>"
      ]
     },
     "metadata": {},
     "output_type": "display_data"
    }
   ],
   "source": [
    "plt.plot((R4**2 - R3**2 + R2**2-20**2),B**2*(R3**2-R2**2)/(R4**2 - R3**2+R2**2-20**2)/h**2,'o')"
   ]
  },
  {
   "cell_type": "code",
   "execution_count": 15,
   "metadata": {},
   "outputs": [],
   "source": [
    "def eta(X,a,b,c,d,e): \n",
    "    P1,P2,P3,P4= X\n",
    "    return (a*(P1**b)*(P2**c)*(P3)**d*P4**e)"
   ]
  },
  {
   "cell_type": "code",
   "execution_count": 16,
   "metadata": {
    "scrolled": true
   },
   "outputs": [
    {
     "data": {
      "text/plain": [
       "array([ 0.17225372,  0.44005854, -1.52059856,  1.31112856,  0.59874638])"
      ]
     },
     "execution_count": 16,
     "metadata": {},
     "output_type": "execute_result"
    }
   ],
   "source": [
    "M = curve_fit(eta,(R2,R3,R4,h),B)\n",
    "#M = curve_fit(eta,phi, Qc,bounds=([-100,-100], [100,100]))\n",
    "M[0]"
   ]
  },
  {
   "cell_type": "code",
   "execution_count": 20,
   "metadata": {
    "scrolled": true
   },
   "outputs": [
    {
     "data": {
      "text/plain": [
       "[<matplotlib.lines.Line2D at 0x26932808c88>]"
      ]
     },
     "execution_count": 20,
     "metadata": {},
     "output_type": "execute_result"
    },
    {
     "data": {
      "image/png": "[encoded data removed]",
      "text/plain": [
       "<Figure size 432x288 with 1 Axes>"
      ]
     },
     "metadata": {},
     "output_type": "display_data"
    }
   ],
   "source": [
    "plt.plot(R4,B,'o')\n",
    "plt.plot(R4,eta((R2,R3,R4,h),M[0][0],M[0][1],M[0][2],M[0][3],M[0][4]),'o')"
   ]
  },
  {
   "cell_type": "code",
   "execution_count": 18,
   "metadata": {},
   "outputs": [],
   "source": [
    "Erro = abs(B- eta((R2,R3,R4,h),M[0][0],M[0][1],M[0][2],M[0][3],M[0][4]))/(B)*100"
   ]
  },
  {
   "cell_type": "code",
   "execution_count": 19,
   "metadata": {},
   "outputs": [
    {
     "data": {
      "text/plain": [
       "[<matplotlib.lines.Line2D at 0x269327ee5c0>]"
      ]
     },
     "execution_count": 19,
     "metadata": {},
     "output_type": "execute_result"
    },
    {
     "data": {
      "image/png": "[encoded data removed]",
      "text/plain": [
       "<Figure size 432x288 with 1 Axes>"
      ]
     },
     "metadata": {},
     "output_type": "display_data"
    }
   ],
   "source": [
    "plt.plot(R2,Erro,'o')"
   ]
  },
  {
   "cell_type": "code",
   "execution_count": null,
   "metadata": {},
   "outputs": [],
   "source": []
  }
 ],
 "metadata": {
  "kernelspec": {
   "display_name": "Python 3",
   "language": "python",
   "name": "python3"
  },
  "language_info": {
   "codemirror_mode": {
    "name": "ipython",
    "version": 3
   },
   "file_extension": ".py",
   "mimetype": "text/x-python",
   "name": "python",
   "nbconvert_exporter": "python",
   "pygments_lexer": "ipython3",
   "version": "3.6.5"
  }
 },
 "nbformat": 4,
 "nbformat_minor": 2
}
