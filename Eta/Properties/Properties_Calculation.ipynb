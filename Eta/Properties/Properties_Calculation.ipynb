{
 "cells": [
  {
   "cell_type": "code",
   "execution_count": 1,
   "metadata": {},
   "outputs": [],
   "source": [
    "from numpy import *\n",
    "from matplotlib import *\n",
    "from pylab import *\n",
    "from scipy import *\n",
    "from numpy import*\n",
    "import csv\n",
    "import xlrd\n",
    "\n",
    "rc('text',usetex = True)\n",
    "rc('font', family='serif')\n",
    "\n",
    "from scipy.optimize import curve_fit\n",
    "from scipy import integrate\n",
    "from scipy.optimize import fsolve\n",
    "\n",
    "from IPython.core.interactiveshell import InteractiveShell\n",
    "InteractiveShell.ast_node_interactivity = \"all\""
   ]
  },
  {
   "cell_type": "code",
   "execution_count": 2,
   "metadata": {},
   "outputs": [],
   "source": [
    "def Prop_int(Prop,T,B,T_int,B_int):\n",
    "    i = 0\n",
    "    i_int = 0\n",
    "    while T_int > T[i]:\n",
    "            i_int = i\n",
    "            i = i+1\n",
    "    j = 0 \n",
    "    j_int = 0\n",
    "    while B_int > B[j]:\n",
    "            j_int = j\n",
    "            j = j+1\n",
    "                   \n",
    "    Prop_int  = Prop[j_int+1][i_int] \n",
    "    return Prop_int"
   ]
  },
  {
   "cell_type": "code",
   "execution_count": 3,
   "metadata": {},
   "outputs": [],
   "source": [
    "def H_eff(H,Tc,Th,n,M):\n",
    "    N_cas = (2*n/np.sqrt(np.pi))*(2*(2*n/(np.sqrt(np.pi)))+1)**-1\n",
    "    N_t = 1/3 + (1-0.36)*(N_cas-1/3)\n",
    "    T_e = np.arange(Tc,Th+0.01,0.1)\n",
    "    M_eff = zeros([len(H),len(T_e)]) \n",
    "    H_eff = zeros([len(H),len(T_e)])\n",
    "    for i in range(len(H)):\n",
    "        for j in range(len(T_e)):\n",
    "            M_eff[i][j] = Prop_int(M_m,T,B,T_e[j],H[i])*4*np.pi*10**-7\n",
    "            H_ef = fsolve(lambda H_ef: f(H_ef,M_m,T,B,H[i],T_e[j],N_t),H[i])\n",
    "            #print(H_ef)\n",
    "            H_eff[i][j] = H_ef\n",
    "            \n",
    "    return (H_eff)"
   ]
  },
  {
   "cell_type": "code",
   "execution_count": 4,
   "metadata": {},
   "outputs": [],
   "source": [
    "def Mean_C(T,B,H,Tc,Th,n,cp_m):\n",
    "\n",
    "    T_p = np.arange(Tc,Th+0.01,0.1)\n",
    "    H_e = H_eff(H,Tc,Th,n,M_m)\n",
    "    \n",
    "    C_low = []\n",
    "    C_high = []\n",
    "    \n",
    "    \n",
    "    for i in range(len(T_p)):\n",
    "        #print(H_e[0][i])\n",
    "        C_low.append(Prop_int(cp_m,T,B,T_p[i],H_e[0][i]))\n",
    "        C_high.append(Prop_int(cp_m,T,B,T_p[i],H_e[1][i]))\n",
    "\n",
    "    C_low_mean = integrate.simps(C_low,T_p)/(Th-Tc)\n",
    "    C_high_mean = integrate.simps(C_high,T_p)/(Th-Tc)\n",
    "    return(C_low_mean,C_high_mean)"
   ]
  },
  {
   "cell_type": "code",
   "execution_count": 5,
   "metadata": {},
   "outputs": [],
   "source": [
    "def Mean_dT(T,B,Tc,Th,H,n,dT_m,T_dm):\n",
    "    \n",
    "    T_p = np.arange(Tc,Th+0.01,0.1)\n",
    "    \n",
    "    H_e = H_eff(H,Tc,Th,n,M_m)\n",
    "    \n",
    "    dT_low_mag = []\n",
    "    dT_high_mag = []\n",
    "    dT_low_dmag = []\n",
    "    dT_high_dmag = []\n",
    "\n",
    "    \n",
    "    for i in range(len(T_p)):\n",
    "        j = 0\n",
    "        j_l = 0\n",
    "        \n",
    "        while H_e[0][i] > B[j]:\n",
    "            j_l = j\n",
    "            j = j+1\n",
    "    \n",
    "        j_h = 0\n",
    "        \n",
    "        while H_e[1][i] > B[j]:\n",
    "            j_h = j\n",
    "            j = j+1\n",
    "            \n",
    "        dT_low_mag.append(Prop_int(dT_m,T,B,T_p[i],H_e[0][i]))\n",
    "        dT_high_mag.append(Prop_int(dT_m,T,B,T_p[i],H_e[1][i]))\n",
    "        dT_low_dmag.append(Prop_int(dT_m,T_dm[j_l],B,T_p[i],H_e[0][i]))\n",
    "        dT_high_dmag.append(Prop_int(dT_m,T_dm[j_h],B,T_p[i],H_e[1][i]))\n",
    "        \n",
    "    dT_mag = np.array(dT_high_mag) - np.array(dT_low_mag)\n",
    "    dT_dmag = np.array(dT_high_dmag) - np.array(dT_low_dmag)\n",
    "    \n",
    "    dT_mag_mean = integrate.simps(dT_mag,T_p)/(Th-Tc)\n",
    "    dT_dmag_mean = integrate.simps(dT_dmag,T_p)/(Th-Tc)\n",
    "    \n",
    "    return(dT_mag_mean,dT_dmag_mean)"
   ]
  },
  {
   "cell_type": "code",
   "execution_count": 6,
   "metadata": {},
   "outputs": [],
   "source": [
    "def f(H_ef,M_m,T,B,H_ap,T_in,N_t):\n",
    "    f = H_ef +Prop_int(M_m,T,B,T_in,H_ef)*4*np.pi*10**-7*N_t - H_ap\n",
    "    return f"
   ]
  },
  {
   "cell_type": "code",
   "execution_count": 7,
   "metadata": {},
   "outputs": [],
   "source": [
    "workbook = xlrd.open_workbook('Tc_290.xlsx')\n",
    "Prop = workbook.sheet_by_name('Prop')"
   ]
  },
  {
   "cell_type": "code",
   "execution_count": 8,
   "metadata": {},
   "outputs": [],
   "source": [
    "T = np.arange(242.5,309.59,0.1)\n",
    "B = np.arange(0,2.001,0.01)"
   ]
  },
  {
   "cell_type": "code",
   "execution_count": 9,
   "metadata": {},
   "outputs": [],
   "source": [
    "N =len(Prop.col(0))\n",
    "\n",
    "T_v = []\n",
    "B_v = []\n",
    "cp_v = []\n",
    "dS_v = []\n",
    "dT_v = []\n",
    "M_v = []\n",
    "\n",
    "for i in range(N):\n",
    "    T_v.append(Prop.cell(i,0).value)\n",
    "    B_v.append(Prop.cell(i,1).value)\n",
    "    cp_v.append(Prop.cell(i,2).value)\n",
    "    dS_v.append(Prop.cell(i,3).value)\n",
    "    dT_v.append(Prop.cell(i,4).value)\n",
    "    M_v.append(Prop.cell(i,5).value)"
   ]
  },
  {
   "cell_type": "code",
   "execution_count": 10,
   "metadata": {},
   "outputs": [],
   "source": [
    "cp_m = zeros([len(B),len(T)])\n",
    "dS_m = zeros([len(B),len(T)])\n",
    "dT_m = zeros([len(B),len(T)])\n",
    "M_m  = zeros([len(B),len(T)])\n",
    "\n",
    "cp_a = np.array(cp_v)\n",
    "dS_a = np.array(dS_v)\n",
    "dT_a = np.array(dT_v)\n",
    "M_a = np.array(M_v)\n",
    "\n",
    "for k in range(len(B)):\n",
    "    cp_m[k] = cp_a[len(T)*k:len(T)*(k+1)]\n",
    "    dS_m[k] = dS_a[len(T)*k:len(T)*(k+1)]\n",
    "    dT_m[k] = dT_a[len(T)*k:len(T)*(k+1)]\n",
    "    M_m[k] = M_a[len(T)*k:len(T)*(k+1)]      "
   ]
  },
  {
   "cell_type": "code",
   "execution_count": 11,
   "metadata": {},
   "outputs": [],
   "source": [
    "tau = np.arange(0,1,0.01)\n",
    "#H = 1.69*np.abs(np.sin(pi*tau+pi/4))\n",
    "H = [0.01,1.52]\n",
    "T_dm = T+dT_m"
   ]
  },
  {
   "cell_type": "code",
   "execution_count": 12,
   "metadata": {},
   "outputs": [],
   "source": [
    "Tc = 270\n",
    "Th = 300\n",
    "l = 100\n",
    "d = 22.4\n",
    "n = l/d"
   ]
  },
  {
   "cell_type": "code",
   "execution_count": 13,
   "metadata": {
    "scrolled": true
   },
   "outputs": [
    {
     "data": {
      "text/plain": [
       "(280.30151495725653, 279.9194170841702)"
      ]
     },
     "execution_count": 13,
     "metadata": {},
     "output_type": "execute_result"
    }
   ],
   "source": [
    "Mean_C(T,B,H,Tc,Th,n,cp_m)"
   ]
  },
  {
   "cell_type": "code",
   "execution_count": 14,
   "metadata": {},
   "outputs": [
    {
     "data": {
      "text/plain": [
       "(2.6139226803887268, 2.5720356635748187)"
      ]
     },
     "execution_count": 14,
     "metadata": {},
     "output_type": "execute_result"
    }
   ],
   "source": [
    "Mean_dT(T,B,Tc,Th,H,n,dT_m,T_dm)"
   ]
  },
  {
   "cell_type": "code",
   "execution_count": 22,
   "metadata": {},
   "outputs": [
    {
     "data": {
      "text/plain": [
       "array([0.01])"
      ]
     },
     "execution_count": 22,
     "metadata": {},
     "output_type": "execute_result"
    }
   ],
   "source": [
    "fsolve(lambda H_ef: f(H_ef,M_m,T,B,H[0],280,0.4),H[0])"
   ]
  },
  {
   "cell_type": "code",
   "execution_count": 24,
   "metadata": {},
   "outputs": [
    {
     "data": {
      "text/plain": [
       "array([0.  , 0.01, 0.02, 0.03, 0.04, 0.05, 0.06, 0.07, 0.08, 0.09, 0.1 ,\n",
       "       0.11, 0.12, 0.13, 0.14, 0.15, 0.16, 0.17, 0.18, 0.19, 0.2 , 0.21,\n",
       "       0.22, 0.23, 0.24, 0.25, 0.26, 0.27, 0.28, 0.29, 0.3 , 0.31, 0.32,\n",
       "       0.33, 0.34, 0.35, 0.36, 0.37, 0.38, 0.39, 0.4 , 0.41, 0.42, 0.43,\n",
       "       0.44, 0.45, 0.46, 0.47, 0.48, 0.49, 0.5 , 0.51, 0.52, 0.53, 0.54,\n",
       "       0.55, 0.56, 0.57, 0.58, 0.59, 0.6 , 0.61, 0.62, 0.63, 0.64, 0.65,\n",
       "       0.66, 0.67, 0.68, 0.69, 0.7 , 0.71, 0.72, 0.73, 0.74, 0.75, 0.76,\n",
       "       0.77, 0.78, 0.79, 0.8 , 0.81, 0.82, 0.83, 0.84, 0.85, 0.86, 0.87,\n",
       "       0.88, 0.89, 0.9 , 0.91, 0.92, 0.93, 0.94, 0.95, 0.96, 0.97, 0.98,\n",
       "       0.99, 1.  , 1.01, 1.02, 1.03, 1.04, 1.05, 1.06, 1.07, 1.08, 1.09,\n",
       "       1.1 , 1.11, 1.12, 1.13, 1.14, 1.15, 1.16, 1.17, 1.18, 1.19, 1.2 ,\n",
       "       1.21, 1.22, 1.23, 1.24, 1.25, 1.26, 1.27, 1.28, 1.29, 1.3 , 1.31,\n",
       "       1.32, 1.33, 1.34, 1.35, 1.36, 1.37, 1.38, 1.39, 1.4 , 1.41, 1.42,\n",
       "       1.43, 1.44, 1.45, 1.46, 1.47, 1.48, 1.49, 1.5 , 1.51, 1.52, 1.53,\n",
       "       1.54, 1.55, 1.56, 1.57, 1.58, 1.59, 1.6 , 1.61, 1.62, 1.63, 1.64,\n",
       "       1.65, 1.66, 1.67, 1.68, 1.69, 1.7 , 1.71, 1.72, 1.73, 1.74, 1.75,\n",
       "       1.76, 1.77, 1.78, 1.79, 1.8 , 1.81, 1.82, 1.83, 1.84, 1.85, 1.86,\n",
       "       1.87, 1.88, 1.89, 1.9 , 1.91, 1.92, 1.93, 1.94, 1.95, 1.96, 1.97,\n",
       "       1.98, 1.99, 2.  ])"
      ]
     },
     "execution_count": 24,
     "metadata": {},
     "output_type": "execute_result"
    }
   ],
   "source": [
    "B"
   ]
  }
 ],
 "metadata": {
  "kernelspec": {
   "display_name": "Python 3",
   "language": "python",
   "name": "python3"
  },
  "language_info": {
   "codemirror_mode": {
    "name": "ipython",
    "version": 3
   },
   "file_extension": ".py",
   "mimetype": "text/x-python",
   "name": "python",
   "nbconvert_exporter": "python",
   "pygments_lexer": "ipython3",
   "version": "3.6.5"
  }
 },
 "nbformat": 4,
 "nbformat_minor": 2
}
