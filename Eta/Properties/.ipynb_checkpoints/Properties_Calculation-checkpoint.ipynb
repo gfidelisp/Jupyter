{
 "cells": [
  {
   "cell_type": "code",
   "execution_count": 71,
   "metadata": {},
   "outputs": [],
   "source": [
    "from numpy import *\n",
    "from matplotlib import *\n",
    "from pylab import *\n",
    "from scipy import *\n",
    "from numpy import*\n",
    "import csv\n",
    "import xlrd\n",
    "\n",
    "rc('text',usetex = True)\n",
    "rc('font', family='serif')\n",
    "\n",
    "from scipy.optimize import curve_fit\n",
    "from scipy import integrate"
   ]
  },
  {
   "cell_type": "code",
   "execution_count": 72,
   "metadata": {},
   "outputs": [],
   "source": [
    "workbook = xlrd.open_workbook('Tc_290.xlsx')\n",
    "Prop = workbook.sheet_by_name('Prop')"
   ]
  },
  {
   "cell_type": "code",
   "execution_count": 73,
   "metadata": {},
   "outputs": [],
   "source": [
    "N =len(Prop.col(0))\n",
    "\n",
    "T_v = []\n",
    "B_v = []\n",
    "cp_v = []\n",
    "dS_v = []\n",
    "dT_v = []\n",
    "M_v = []\n",
    "\n",
    "for i in range(N):\n",
    "    T_v.append(Prop.cell(i,0).value)\n",
    "    B_v.append(Prop.cell(i,1).value)\n",
    "    cp_v.append(Prop.cell(i,2).value)\n",
    "    dS_v.append(Prop.cell(i,3).value)\n",
    "    dT_v.append(Prop.cell(i,4).value)\n",
    "    M_v.append(Prop.cell(i,5).value)"
   ]
  },
  {
   "cell_type": "code",
   "execution_count": 74,
   "metadata": {},
   "outputs": [],
   "source": [
    "T = np.arange(242.5,309.59,0.1)\n",
    "B = np.arange(0,2.001,0.01)"
   ]
  },
  {
   "cell_type": "code",
   "execution_count": 75,
   "metadata": {},
   "outputs": [],
   "source": [
    "cp_m = zeros([len(B),len(T)])\n",
    "dS_m = zeros([len(B),len(T)])\n",
    "dT_m = zeros([len(B),len(T)])\n",
    "M_m  = zeros([len(B),len(T)])\n",
    "\n",
    "cp_a = np.array(cp_v)\n",
    "dS_a = np.array(dS_v)\n",
    "dT_a = np.array(dT_v)\n",
    "M_a = np.array(M_v)\n",
    "\n",
    "for k in range(len(B)):\n",
    "    cp_m[k] = cp_a[len(T)*k:len(T)*(k+1)]\n",
    "    dS_m[k] = dS_a[len(T)*k:len(T)*(k+1)]\n",
    "    dT_m[k] = dT_a[len(T)*k:len(T)*(k+1)]\n",
    "    M_m[k] = M_a[len(T)*k:len(T)*(k+1)]      "
   ]
  },
  {
   "cell_type": "code",
   "execution_count": 6,
   "metadata": {},
   "outputs": [],
   "source": [
    "def Prop_int(Prop,T,B,T_int,B_int):\n",
    "    i = 0\n",
    "    i_int = 0\n",
    "    while T_int > T[i]:\n",
    "            i_int = i\n",
    "            i = i+1\n",
    "    j = 0 \n",
    "    j_int = 0\n",
    "    while B_int > B[j]:\n",
    "            j_int = j\n",
    "            j = j+1\n",
    "                   \n",
    "    Prop_int  = Prop[j_int+1][i_int] \n",
    "    return Prop_int"
   ]
  },
  {
   "cell_type": "code",
   "execution_count": 7,
   "metadata": {},
   "outputs": [],
   "source": [
    "def H_eff(H,Tc,Th,n,M):\n",
    "    N_cas = (2*n/np.sqrt(np.pi))*(2*(2*n/(np.sqrt(np.pi)))+1)**-1\n",
    "    N_t = 1/3 + (1-0.36)*(N_cas-1/3)\n",
    "    T_e = np.arange(Tc,Th+0.01,0.1)\n",
    "    M_eff = zeros([len(H),len(T_e)]) \n",
    "    H_eff = zeros([len(H),len(T_e)])\n",
    "    for i in range(len(H)):\n",
    "        for j in range(len(T_e)):\n",
    "            M_eff[i][j] = Prop_int(M_m,T,B,T_e[j],H[i])*4*np.pi*10**-7\n",
    "            #print(T_e[j],H[i],M_eff[i][j])\n",
    "            H_eff[i][j] = H[i] - N_t*M_eff[i][j]       \n",
    "    return(H_eff)"
   ]
  },
  {
   "cell_type": "code",
   "execution_count": 8,
   "metadata": {},
   "outputs": [],
   "source": [
    "tau = np.arange(0,1,0.01)\n",
    "H = 1.69*np.abs(np.sin(pi*tau+pi/4))\n",
    "H = [0.63,1.52]\n",
    "T_h = np.arange(270,300,0.1)\n",
    "T_dm = T+dT_m"
   ]
  },
  {
   "cell_type": "code",
   "execution_count": 9,
   "metadata": {},
   "outputs": [],
   "source": [
    "H_e = H_eff(H,270,300,0.1/0.0224,M_m)"
   ]
  },
  {
   "cell_type": "code",
   "execution_count": 11,
   "metadata": {},
   "outputs": [],
   "source": [
    "def Mean_C(Tc,Th):\n",
    "\n",
    "    T_p = np.arange(Tc,Th+0.01,0.1)\n",
    "\n",
    "    C_low = []\n",
    "    C_high = []\n",
    "    for i in range(len(T_p)):\n",
    "        C_low.append(Prop_int(cp_m,T,B,T_p[i],H_e[0][i]))\n",
    "        C_high.append(Prop_int(cp_m,T,B,T_p[i],H_e[1][i]))\n",
    "\n",
    "    C_low_mean = integrate.simps(C_low,T_p)/(Th-Tc)\n",
    "    C_high_mean = integrate.simps(C_high,T_p)/(Th-Tc)\n",
    "    return(C_low_mean,C_high_mean)"
   ]
  },
  {
   "cell_type": "code",
   "execution_count": 61,
   "metadata": {},
   "outputs": [],
   "source": [
    "def Mean_dT(Tc,Th):\n",
    "    T_p = np.arange(Tc,Th+0.01,0.1)\n",
    "    \n",
    "    dT_low_mag = []\n",
    "    dT_high_mag = []\n",
    "    dT_low_dmag = []\n",
    "    dT_high_dmag = []\n",
    "\n",
    "    \n",
    "    for i in range(len(T_p)):\n",
    "        j = 0\n",
    "        j_l = 0\n",
    "        \n",
    "        while H_e[0][i] > B[j]:\n",
    "            j_l = j\n",
    "            j = j+1\n",
    "    \n",
    "        j_h = 0\n",
    "        \n",
    "        while H_e[1][i] > B[j]:\n",
    "            j_h = j\n",
    "            j = j+1\n",
    "            \n",
    "        dT_low_mag.append(Prop_int(dT_m,T,B,T_p[i],H_e[0][i]))\n",
    "        dT_high_mag.append(Prop_int(dT_m,T,B,T_p[i],H_e[1][i]))\n",
    "        dT_low_dmag.append(Prop_int(dT_m,T_dm[j_l],B,T_p[i],H_e[0][i]))\n",
    "        dT_high_dmag.append(Prop_int(dT_m,T_dm[j_h],B,T_p[i],H_e[1][i]))\n",
    "        \n",
    "    dT_mag = np.array(dT_high_mag) - np.array(dT_low_mag)\n",
    "    dT_dmag = np.array(dT_high_dmag) - np.array(dT_low_dmag)\n",
    "    \n",
    "    dT_mag_mean = integrate.simps(dT_mag,T_p)/(Th-Tc)\n",
    "    dT_dmag_mean = integrate.simps(dT_dmag,T_p)/(Th-Tc)\n",
    "    \n",
    "    return(dT_mag_mean,dT_dmag_mean)"
   ]
  },
  {
   "cell_type": "code",
   "execution_count": 62,
   "metadata": {},
   "outputs": [],
   "source": [
    "A1,A2,A3,A4,A5,A6,A7,A8 = Mean_dT(270,300)"
   ]
  }
 ],
 "metadata": {
  "kernelspec": {
   "display_name": "Python 3",
   "language": "python",
   "name": "python3"
  },
  "language_info": {
   "codemirror_mode": {
    "name": "ipython",
    "version": 3
   },
   "file_extension": ".py",
   "mimetype": "text/x-python",
   "name": "python",
   "nbconvert_exporter": "python",
   "pygments_lexer": "ipython3",
   "version": "3.6.5"
  }
 },
 "nbformat": 4,
 "nbformat_minor": 2
}
