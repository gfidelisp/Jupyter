{
 "cells": [
  {
   "cell_type": "code",
   "execution_count": 58,
   "metadata": {},
   "outputs": [],
   "source": [
    "from numpy import *\n",
    "from matplotlib import *\n",
    "from pylab import *\n",
    "from scipy import *\n",
    "from numpy import*\n",
    "import csv\n",
    "import xlrd\n",
    "\n",
    "rc('text',usetex = True)\n",
    "rc('font', family='serif')\n",
    "\n",
    "from scipy.optimize import curve_fit\n",
    "from scipy import integrate\n",
    "from scipy.optimize import fsolve\n",
    "import xlsxwriter\n",
    "\n",
    "#from IPython.core.interactiveshell import InteractiveShell\n",
    "#InteractiveShell.ast_node_interactivity = \"all\""
   ]
  },
  {
   "cell_type": "code",
   "execution_count": 55,
   "metadata": {},
   "outputs": [],
   "source": [
    "def Prop_int(Prop,T,B,T_int,B_int):\n",
    "    i = 0\n",
    "    i_int = 0\n",
    "    while T_int > T[i]:\n",
    "            i_int = i\n",
    "            i = i+1\n",
    "    j = 0 \n",
    "    j_int = 0\n",
    "    while B_int > B[j]:\n",
    "            j_int = j\n",
    "            j = j+1\n",
    "                   \n",
    "    Prop_int  = Prop[j_int+1][i_int] \n",
    "    return Prop_int"
   ]
  },
  {
   "cell_type": "code",
   "execution_count": 59,
   "metadata": {},
   "outputs": [],
   "source": [
    "def H_eff(H,Tc,Th,n,M):\n",
    "    N_cas = (2*n/np.sqrt(np.pi))*(2*(2*n/(np.sqrt(np.pi)))+1)**-1\n",
    "    N_t = 1/3 + (1-0.36)*(N_cas-1/3)\n",
    "    T_e = np.arange(Tc,Th+0.01,0.1)\n",
    "    M_eff = zeros([len(H),len(T_e)]) \n",
    "    H_eff = zeros([len(H),len(T_e)])\n",
    "    for i in range(len(H)):\n",
    "        for j in range(len(T_e)):\n",
    "            M_eff[i][j] = Prop_int(M_m,T,B,T_e[j],H[i])*4*np.pi*10**-7\n",
    "            H_ef = fsolve(lambda H_ef: f(H_ef,M_m,T,B,H[i],T_e[j],N_t),H[i])\n",
    "            #print(H_ef)\n",
    "            H_eff[i][j] = H_ef\n",
    "            \n",
    "    return (H_eff)"
   ]
  },
  {
   "cell_type": "code",
   "execution_count": 4,
   "metadata": {},
   "outputs": [],
   "source": [
    "def Mean_C(T,B,H,Tc,Th,n,cp_m):\n",
    "\n",
    "    T_p = np.arange(Tc,Th+0.01,0.1)\n",
    "    H_e = H_eff(H,Tc,Th,n,M_m)\n",
    "    \n",
    "    C_low = []\n",
    "    C_high = []\n",
    "    \n",
    "    \n",
    "    for i in range(len(T_p)):\n",
    "        #print(H_e[0][i])\n",
    "        C_low.append(Prop_int(cp_m,T,B,T_p[i],H_e[0][i]))\n",
    "        C_high.append(Prop_int(cp_m,T,B,T_p[i],H_e[1][i]))\n",
    "\n",
    "    C_low_mean = integrate.simps(C_low,T_p)/(Th-Tc)\n",
    "    C_high_mean = integrate.simps(C_high,T_p)/(Th-Tc)\n",
    "    return(C_low_mean,C_high_mean)"
   ]
  },
  {
   "cell_type": "code",
   "execution_count": 60,
   "metadata": {},
   "outputs": [],
   "source": [
    "def Mean_dT(T,B,Tc,Th,H,n,dT_m,T_dm):\n",
    "    \n",
    "    T_p = np.arange(Tc,Th+0.01,0.1)\n",
    "    \n",
    "    H_e = H_eff(H,Tc,Th,n,M_m)\n",
    "    \n",
    "    dT_low_mag = []\n",
    "    dT_high_mag = []\n",
    "    dT_low_dmag = []\n",
    "    dT_high_dmag = []\n",
    "\n",
    "    \n",
    "    for i in range(len(T_p)):\n",
    "        j = 0\n",
    "        j_l = 0\n",
    "        \n",
    "        while H_e[0][i] > B[j]:\n",
    "            j_l = j\n",
    "            j = j+1\n",
    "    \n",
    "        j_h = 0\n",
    "        \n",
    "        while H_e[1][i] > B[j]:\n",
    "            j_h = j\n",
    "            j = j+1\n",
    "            \n",
    "        dT_low_mag.append(Prop_int(dT_m,T,B,T_p[i],H_e[0][i]))\n",
    "        dT_high_mag.append(Prop_int(dT_m,T,B,T_p[i],H_e[1][i]))\n",
    "        dT_low_dmag.append(Prop_int(dT_m,T_dm[j_l],B,T_p[i],H_e[0][i]))\n",
    "        dT_high_dmag.append(Prop_int(dT_m,T_dm[j_h],B,T_p[i],H_e[1][i]))\n",
    "        \n",
    "    dT_mag = np.array(dT_high_mag) - np.array(dT_low_mag)\n",
    "    dT_dmag = np.array(dT_high_dmag) - np.array(dT_low_dmag)\n",
    "    \n",
    "    dT_mag_mean = integrate.simps(dT_mag,T_p)/(Th-Tc)\n",
    "    dT_dmag_mean = integrate.simps(dT_dmag,T_p)/(Th-Tc)\n",
    "    \n",
    "    return(dT_mag_mean,dT_dmag_mean)"
   ]
  },
  {
   "cell_type": "code",
   "execution_count": 61,
   "metadata": {},
   "outputs": [],
   "source": [
    "def f(H_ef,M_m,T,B,H_ap,T_in,N_t):\n",
    "    f = H_ef +Prop_int(M_m,T,B,T_in,H_ef)*4*np.pi*10**-7*N_t - H_ap\n",
    "    return f"
   ]
  },
  {
   "cell_type": "code",
   "execution_count": 62,
   "metadata": {},
   "outputs": [
    {
     "name": "stderr",
     "output_type": "stream",
     "text": [
      "Exception ignored in: <bound method Workbook.__del__ of <xlsxwriter.workbook.Workbook object at 0x000002886301C1D0>>\n",
      "Traceback (most recent call last):\n",
      "  File \"C:\\Users\\Usuario\\Anaconda_new\\lib\\site-packages\\xlsxwriter\\workbook.py\", line 154, in __del__\n",
      "    raise Exception(\"Exception caught in workbook destructor. \"\n",
      "Exception: Exception caught in workbook destructor. Explicit close() may be required for workbook.\n"
     ]
    }
   ],
   "source": [
    "workbook = xlrd.open_workbook('Tc_290.xlsx')\n",
    "Prop = workbook.sheet_by_name('Prop')"
   ]
  },
  {
   "cell_type": "code",
   "execution_count": 63,
   "metadata": {},
   "outputs": [],
   "source": [
    "workbook = xlrd.open_workbook('Data_Jaime_2014.xlsx')\n",
    "worksheet = workbook.sheet_by_name('Plan2')"
   ]
  },
  {
   "cell_type": "code",
   "execution_count": 64,
   "metadata": {},
   "outputs": [],
   "source": [
    "T = np.arange(242.5,309.59,0.1)\n",
    "B = np.arange(0,2.001,0.01)"
   ]
  },
  {
   "cell_type": "code",
   "execution_count": 65,
   "metadata": {},
   "outputs": [],
   "source": [
    "N =len(Prop.col(0))\n",
    "\n",
    "T_v = []\n",
    "B_v = []\n",
    "cp_v = []\n",
    "dS_v = []\n",
    "dT_v = []\n",
    "M_v = []\n",
    "\n",
    "for i in range(N):\n",
    "    T_v.append(Prop.cell(i,0).value)\n",
    "    B_v.append(Prop.cell(i,1).value)\n",
    "    cp_v.append(Prop.cell(i,2).value)\n",
    "    dS_v.append(Prop.cell(i,3).value)\n",
    "    dT_v.append(Prop.cell(i,4).value)\n",
    "    M_v.append(Prop.cell(i,5).value)"
   ]
  },
  {
   "cell_type": "code",
   "execution_count": 19,
   "metadata": {},
   "outputs": [],
   "source": [
    "cp_m = zeros([len(B),len(T)])\n",
    "dS_m = zeros([len(B),len(T)])\n",
    "dT_m = zeros([len(B),len(T)])\n",
    "M_m  = zeros([len(B),len(T)])\n",
    "\n",
    "cp_a = np.array(cp_v)\n",
    "dS_a = np.array(dS_v)\n",
    "dT_a = np.array(dT_v)\n",
    "M_a = np.array(M_v)\n",
    "\n",
    "for k in range(len(B)):\n",
    "    cp_m[k] = cp_a[len(T)*k:len(T)*(k+1)]\n",
    "    dS_m[k] = dS_a[len(T)*k:len(T)*(k+1)]\n",
    "    dT_m[k] = dT_a[len(T)*k:len(T)*(k+1)]\n",
    "    M_m[k] = M_a[len(T)*k:len(T)*(k+1)]      "
   ]
  },
  {
   "cell_type": "code",
   "execution_count": 20,
   "metadata": {},
   "outputs": [],
   "source": [
    "H = [0.01,1.2]\n",
    "T_dm = T+dT_m"
   ]
  },
  {
   "cell_type": "code",
   "execution_count": 49,
   "metadata": {},
   "outputs": [],
   "source": [
    "N1 = 29\n",
    "dT = zeros(N1)\n",
    "Th = zeros(N1)\n",
    "\n",
    "for i in range(0,N1):\n",
    "    Th[i] = worksheet.cell(i, 0).value\n",
    "    dT[i] = worksheet.cell(i, 1).value"
   ]
  },
  {
   "cell_type": "code",
   "execution_count": 50,
   "metadata": {},
   "outputs": [
    {
     "data": {
      "text/plain": [
       "array([ 2.42,  9.84, 15.78, 17.52, 18.9 , 18.74, 18.34, 17.69, 16.76,\n",
       "       15.93, 14.97,  0.19, 11.23, 15.86, 18.52,  1.07, 10.54, 16.05,\n",
       "       19.15,  0.26,  8.52, 14.27, 17.31,  1.52, 12.63, 15.31,  0.9 ,\n",
       "       11.43, 14.46])"
      ]
     },
     "execution_count": 50,
     "metadata": {},
     "output_type": "execute_result"
    }
   ],
   "source": [
    "for i in range(N1):\n",
    "    if dT[i] <0.1:\n",
    "        dT[i] = 0.2\n",
    "\n",
    "Tc = Th - dT"
   ]
  },
  {
   "cell_type": "code",
   "execution_count": 52,
   "metadata": {},
   "outputs": [
    {
     "name": "stdout",
     "output_type": "stream",
     "text": [
      "0\n",
      "1\n"
     ]
    },
    {
     "name": "stderr",
     "output_type": "stream",
     "text": [
      "C:\\Users\\Usuario\\Anaconda_new\\lib\\site-packages\\scipy\\optimize\\minpack.py:163: RuntimeWarning: The iteration is not making good progress, as measured by the \n",
      "  improvement from the last ten iterations.\n",
      "  warnings.warn(msg, RuntimeWarning)\n"
     ]
    },
    {
     "name": "stdout",
     "output_type": "stream",
     "text": [
      "2\n",
      "3\n"
     ]
    },
    {
     "name": "stderr",
     "output_type": "stream",
     "text": [
      "C:\\Users\\Usuario\\Anaconda_new\\lib\\site-packages\\scipy\\optimize\\minpack.py:163: RuntimeWarning: The iteration is not making good progress, as measured by the \n",
      "  improvement from the last five Jacobian evaluations.\n",
      "  warnings.warn(msg, RuntimeWarning)\n"
     ]
    },
    {
     "name": "stdout",
     "output_type": "stream",
     "text": [
      "4\n",
      "5\n",
      "6\n",
      "7\n",
      "8\n",
      "9\n",
      "10\n",
      "11\n",
      "12\n",
      "13\n",
      "14\n",
      "15\n",
      "16\n",
      "17\n",
      "18\n",
      "19\n",
      "20\n",
      "21\n",
      "22\n",
      "23\n",
      "24\n",
      "25\n",
      "26\n",
      "27\n",
      "28\n"
     ]
    }
   ],
   "source": [
    "C_low = zeros(N1)\n",
    "C_high = zeros(N1)\n",
    "\n",
    "\n",
    "dT_mag = zeros(N1)\n",
    "dT_dmag = zeros(N1)\n",
    "\n",
    "for i in range(N1):\n",
    "    print(i)\n",
    "    C_low[i],C_high[i] = Mean_C(T,B,H,Tc[i],Th[i],100/22.4,cp_m)\n",
    "    dT_mag[i],dT_dmag[i]     = Mean_dT(T,B,Tc[i],Th[i],H,100/22.4,dT_m,T_dm)"
   ]
  },
  {
   "cell_type": "code",
   "execution_count": 54,
   "metadata": {},
   "outputs": [],
   "source": [
    "workbook = xlsxwriter.Workbook('C_h.xlsx')\n",
    "Data = workbook.add_worksheet('C')\n",
    "\n",
    "for i in range(N1):\n",
    "    Data.write(i, 0,C_low[i])\n",
    "    Data.write(i, 1,C_high[i])\n",
    "    Data.write(i, 2,dT_mag[i])\n",
    "    Data.write(i, 3,dT_dmag[i])"
   ]
  },
  {
   "cell_type": "code",
   "execution_count": 66,
   "metadata": {},
   "outputs": [
    {
     "name": "stderr",
     "output_type": "stream",
     "text": [
      "C:\\Users\\Usuario\\Anaconda_new\\lib\\site-packages\\scipy\\optimize\\minpack.py:163: RuntimeWarning: The iteration is not making good progress, as measured by the \n",
      "  improvement from the last ten iterations.\n",
      "  warnings.warn(msg, RuntimeWarning)\n"
     ]
    }
   ],
   "source": [
    "[A,B] = H_eff(H,270,280,100/25,M_v)"
   ]
  },
  {
   "cell_type": "code",
   "execution_count": 71,
   "metadata": {},
   "outputs": [
    {
     "data": {
      "text/plain": [
       "[<matplotlib.lines.Line2D at 0x2886e629908>]"
      ]
     },
     "execution_count": 71,
     "metadata": {},
     "output_type": "execute_result"
    },
    {
     "data": {
      "image/png": "[encoded data removed]",
      "text/plain": [
       "<Figure size 432x288 with 1 Axes>"
      ]
     },
     "metadata": {},
     "output_type": "display_data"
    }
   ],
   "source": [
    "plt.plot(B)"
   ]
  }
 ],
 "metadata": {
  "kernelspec": {
   "display_name": "Python 3",
   "language": "python",
   "name": "python3"
  },
  "language_info": {
   "codemirror_mode": {
    "name": "ipython",
    "version": 3
   },
   "file_extension": ".py",
   "mimetype": "text/x-python",
   "name": "python",
   "nbconvert_exporter": "python",
   "pygments_lexer": "ipython3",
   "version": "3.6.5"
  }
 },
 "nbformat": 4,
 "nbformat_minor": 2
}
