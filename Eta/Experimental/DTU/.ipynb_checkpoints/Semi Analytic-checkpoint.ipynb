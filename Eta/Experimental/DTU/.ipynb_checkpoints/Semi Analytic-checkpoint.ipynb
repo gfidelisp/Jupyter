{
 "cells": [
  {
   "cell_type": "code",
   "execution_count": 29,
   "metadata": {},
   "outputs": [],
   "source": [
    "from numpy import *\n",
    "from matplotlib import *\n",
    "from pylab import *\n",
    "from numpy import*\n",
    "import csv\n",
    "import xlrd\n",
    "\n",
    "rc('text',usetex = True)\n",
    "rc('font', family='serif')\n",
    "\n",
    "from scipy.optimize import curve_fit\n",
    "from scipy import integrate\n",
    "from scipy.optimize import fsolve\n",
    "\n",
    "from IPython.core.interactiveshell import InteractiveShell\n",
    "InteractiveShell.ast_node_interactivity = \"all\""
   ]
  },
  {
   "cell_type": "code",
   "execution_count": 197,
   "metadata": {},
   "outputs": [],
   "source": [
    "def eta(X,a,b,c,d,e,f,g): \n",
    "    Pi1,Pi2,Pi3,Pi4,Pi5,Pi6 = X\n",
    "    return (a + b*Pi1 + c*Pi2 -Pi3+e*Pi4+f*Pi5 + g*Pi6)"
   ]
  },
  {
   "cell_type": "code",
   "execution_count": 221,
   "metadata": {},
   "outputs": [],
   "source": [
    "workbook = xlrd.open_workbook('Data_Jaime_2014.xlsx')\n",
    "worksheet = workbook.sheet_by_name('Input')"
   ]
  },
  {
   "cell_type": "code",
   "execution_count": 227,
   "metadata": {},
   "outputs": [],
   "source": [
    "N1 = 16\n",
    "\n",
    "phi = zeros(N1)\n",
    "Qc = zeros(N1)\n",
    "W_mag_CB = zeros(N1)\n",
    "W_mag_HB = zeros(N1)\n",
    "\n",
    "Q_reg_HB= zeros(N1)\n",
    "Q_pas_CB = zeros(N1)\n",
    "Q_at_CB = zeros(N1)\n",
    "Q_cas = zeros(N1)\n",
    "W_p = zeros(N1)\n",
    "K = zeros(N1)\n",
    "dT = zeros(N1)\n",
    "f = zeros(N1)\n",
    "Q_cas = zeros(N1)\n",
    "\n",
    "\n",
    "for i in range(N1):\n",
    "    phi[i] = worksheet.cell(0, i).value\n",
    "    Qc[i] = worksheet.cell(1, i).value\n",
    "    W_mag_CB[i] = worksheet.cell(2, i).value\n",
    "    W_mag_HB[i] = worksheet.cell(3, i).value\n",
    "    Q_reg_HB[i] = worksheet.cell(4, i).value\n",
    "    Q_pas_CB[i] = worksheet.cell(5, i).value\n",
    "    W_p[i] = worksheet.cell(6, i).value\n",
    "    #dT[i] = worksheet.cell(7, i).value\n",
    "    f[i] = worksheet.cell(8, i).value\n",
    "    Q_cas[i] = worksheet.cell(7, i).value"
   ]
  },
  {
   "cell_type": "code",
   "execution_count": 228,
   "metadata": {
    "scrolled": true
   },
   "outputs": [
    {
     "name": "stderr",
     "output_type": "stream",
     "text": [
      "C:\\Users\\Usuario\\Anaconda_new\\lib\\site-packages\\scipy\\optimize\\minpack.py:794: OptimizeWarning: Covariance of the parameters could not be estimated\n",
      "  category=OptimizeWarning)\n"
     ]
    },
    {
     "data": {
      "text/plain": [
       "array([ 2.64870829e+01, -1.53340132e-01, -1.48056287e-01,  1.00000000e+00,\n",
       "        1.34890257e+02,  6.29802301e-01, -4.47233393e+04])"
      ]
     },
     "execution_count": 228,
     "metadata": {},
     "output_type": "execute_result"
    }
   ],
   "source": [
    "M = curve_fit(eta,(W_mag_CB-W_mag_HB,f,W_p,Q_reg_HB,Q_pas_CB,Q_cas),Qc)\n",
    "M[0]"
   ]
  },
  {
   "cell_type": "code",
   "execution_count": 229,
   "metadata": {
    "scrolled": true
   },
   "outputs": [
    {
     "data": {
      "text/plain": [
       "[<matplotlib.lines.Line2D at 0x22983304390>]"
      ]
     },
     "execution_count": 229,
     "metadata": {},
     "output_type": "execute_result"
    },
    {
     "data": {
      "text/plain": [
       "[<matplotlib.lines.Line2D at 0x229832d0278>]"
      ]
     },
     "execution_count": 229,
     "metadata": {},
     "output_type": "execute_result"
    },
    {
     "data": {
      "text/plain": [
       "Text(0.5,0,'$\\\\phi$ [-]')"
      ]
     },
     "execution_count": 229,
     "metadata": {},
     "output_type": "execute_result"
    },
    {
     "data": {
      "text/plain": [
       "Text(0,0.5,'$\\\\eta$ [-]')"
      ]
     },
     "execution_count": 229,
     "metadata": {},
     "output_type": "execute_result"
    },
    {
     "data": {
      "text/plain": [
       "<matplotlib.legend.Legend at 0x22983304ef0>"
      ]
     },
     "execution_count": 229,
     "metadata": {},
     "output_type": "execute_result"
    },
    {
     "data": {
      "image/png": "[encoded data removed]",
      "text/plain": [
       "<Figure size 432x288 with 1 Axes>"
      ]
     },
     "metadata": {},
     "output_type": "display_data"
    }
   ],
   "source": [
    "plt.plot(phi,Qc,'o',label = 'Experimental')\n",
    "#plt.plot(phir,Qcr,'o',label = 'Numerical')\n",
    "plt.plot(phi,eta((W_mag_CB-W_mag_HB,f,W_p,Q_reg_HB,Q_pas_CB,Q_cas),M[0][0],M[0][1],M[0][2],M[0][3],M[0][4],M[0][5],M[0][6]),'o',label = 'Fitting')\n",
    "\n",
    "plt.xlabel('$\\phi$ [-]')\n",
    "plt.ylabel('$\\eta$ [-]')\n",
    "plt.legend()\n",
    "plt.grid()\n",
    "#plt.savefig('Fitting _Restricted_8_Reduced.png',format = 'png', dpi=1000,bbox_inches='tight')"
   ]
  },
  {
   "cell_type": "code",
   "execution_count": 230,
   "metadata": {},
   "outputs": [],
   "source": [
    "Erro_rel2 = (Qc-eta((W_mag_CB-W_mag_HB,f,W_p,Q_reg_HB,Q_pas_CB,Q_cas),M[0][0],M[0][1],M[0][2],M[0][3],M[0][4],M[0][5],M[0][6]))/Qc*100"
   ]
  },
  {
   "cell_type": "code",
   "execution_count": 231,
   "metadata": {
    "scrolled": true
   },
   "outputs": [
    {
     "data": {
      "text/plain": [
       "[<matplotlib.lines.Line2D at 0x2298335ef28>]"
      ]
     },
     "execution_count": 231,
     "metadata": {},
     "output_type": "execute_result"
    },
    {
     "data": {
      "text/plain": [
       "Text(0.5,0,'$\\\\phi$ [-]')"
      ]
     },
     "execution_count": 231,
     "metadata": {},
     "output_type": "execute_result"
    },
    {
     "data": {
      "text/plain": [
       "Text(0,0.5,'Error [$\\\\%$]')"
      ]
     },
     "execution_count": 231,
     "metadata": {},
     "output_type": "execute_result"
    },
    {
     "data": {
      "image/png": "[encoded data removed]",
      "text/plain": [
       "<Figure size 432x288 with 1 Axes>"
      ]
     },
     "metadata": {},
     "output_type": "display_data"
    }
   ],
   "source": [
    "#plt.plot(phi,abs(Erro_rel),'o')\n",
    "plt.plot(phi,(Erro_rel2),'o')\n",
    "plt.xlabel('$\\phi$ [-]')\n",
    "plt.ylabel('Error [$\\%$]')\n",
    "plt.grid()\n",
    "\n",
    "plt.savefig('Error_Restricted_8.png',format = 'png', dpi=1000,bbox_inches='tight')"
   ]
  },
  {
   "cell_type": "code",
   "execution_count": 62,
   "metadata": {},
   "outputs": [
    {
     "data": {
      "text/plain": [
       "array([0.66671263, 0.66671263, 0.66671263, 0.66671263, 0.66671263,\n",
       "       0.66671263, 0.66671263, 0.66671263, 0.66671263, 0.66671263,\n",
       "       0.66671263, 0.66671263, 0.66671263, 0.66671263, 0.66671263,\n",
       "       0.66671263, 0.66671263, 0.66671263, 0.66671263, 0.66671263,\n",
       "       0.66671263, 0.66671263, 0.66671263, 0.66671263, 0.66671263,\n",
       "       0.66671263, 0.66671263])"
      ]
     },
     "execution_count": 62,
     "metadata": {},
     "output_type": "execute_result"
    }
   ],
   "source": [
    "W_p"
   ]
  }
 ],
 "metadata": {
  "kernelspec": {
   "display_name": "Python 3",
   "language": "python",
   "name": "python3"
  },
  "language_info": {
   "codemirror_mode": {
    "name": "ipython",
    "version": 3
   },
   "file_extension": ".py",
   "mimetype": "text/x-python",
   "name": "python",
   "nbconvert_exporter": "python",
   "pygments_lexer": "ipython3",
   "version": "3.6.5"
  }
 },
 "nbformat": 4,
 "nbformat_minor": 2
}
