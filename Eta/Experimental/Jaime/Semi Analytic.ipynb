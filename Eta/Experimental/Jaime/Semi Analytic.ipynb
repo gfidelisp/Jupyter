{
 "cells": [
  {
   "cell_type": "code",
   "execution_count": 1,
   "metadata": {},
   "outputs": [],
   "source": [
    "from numpy import *\n",
    "from matplotlib import *\n",
    "from pylab import *\n",
    "from numpy import*\n",
    "import csv\n",
    "import xlrd\n",
    "\n",
    "rc('text',usetex = True)\n",
    "rc('font', family='serif')\n",
    "\n",
    "from scipy.optimize import curve_fit\n",
    "from scipy import integrate\n",
    "from scipy.optimize import fsolve\n",
    "\n",
    "from IPython.core.interactiveshell import InteractiveShell\n",
    "InteractiveShell.ast_node_interactivity = \"all\""
   ]
  },
  {
   "cell_type": "code",
   "execution_count": 265,
   "metadata": {},
   "outputs": [],
   "source": [
    "def eta(X,a,b,c,d,e,f,g,h,i): \n",
    "    Pi1,Pi2,Pi3,Pi4,Pi5,Pi6,Pi7,Pi8 = X\n",
    "    return (a +b*Pi1 + c*Pi2 + d*Pi3+e*Pi4+f*Pi5+g*Pi6+h*Pi7 + 0*Pi8)"
   ]
  },
  {
   "cell_type": "code",
   "execution_count": 266,
   "metadata": {},
   "outputs": [],
   "source": [
    "workbook = xlrd.open_workbook('Data_Jaime.xlsx')\n",
    "worksheet = workbook.sheet_by_name('Input')"
   ]
  },
  {
   "cell_type": "code",
   "execution_count": 267,
   "metadata": {},
   "outputs": [],
   "source": [
    "N1 = 25\n",
    "\n",
    "phi = zeros(N1)\n",
    "Qc = zeros(N1)\n",
    "W_mag_CB = zeros(N1)\n",
    "W_mag_HB = zeros(N1)\n",
    "\n",
    "Q_reg_HB= zeros(N1)\n",
    "Q_pas_CB = zeros(N1)\n",
    "Q_at_CB = zeros(N1)\n",
    "Q_cas = zeros(N1)\n",
    "W_p = zeros(N1)\n",
    "K = zeros(N1)\n",
    "\n",
    "\n",
    "for i in range(N1):\n",
    "    phi[i] = worksheet.cell(0, i).value\n",
    "    Qc[i] = worksheet.cell(1, i).value\n",
    "    W_mag_CB[i] = worksheet.cell(2, i).value\n",
    "    W_mag_HB[i] = worksheet.cell(3, i).value\n",
    "    Q_reg_HB[i] = worksheet.cell(4, i).value\n",
    "    Q_pas_CB[i] = worksheet.cell(5, i).value\n",
    "    Q_at_CB[i] = worksheet.cell(6, i).value\n",
    "    Q_cas[i] = worksheet.cell(7, i).value\n",
    "    W_p[i] = worksheet.cell(8, i).value\n",
    "    K[i] = worksheet.cell(9, i).value"
   ]
  },
  {
   "cell_type": "code",
   "execution_count": 268,
   "metadata": {},
   "outputs": [
    {
     "data": {
      "text/plain": [
       "array([ 3.95200616e+00,  2.53248431e+00, -2.42746982e+00,  3.75540501e+00,\n",
       "        3.06064926e-01,  2.22623337e-02, -2.27055844e+02,  1.78594504e+02,\n",
       "        3.52135603e-02])"
      ]
     },
     "execution_count": 268,
     "metadata": {},
     "output_type": "execute_result"
    }
   ],
   "source": [
    "M = curve_fit(eta,(W_mag_CB,W_mag_HB,W_p,Q_reg_HB,Q_pas_CB,K,Q_cas,Q_at_CB), Qc)\n",
    "M[0]"
   ]
  },
  {
   "cell_type": "code",
   "execution_count": 269,
   "metadata": {
    "scrolled": true
   },
   "outputs": [
    {
     "data": {
      "text/plain": [
       "[<matplotlib.lines.Line2D at 0x25f818cd7f0>]"
      ]
     },
     "execution_count": 269,
     "metadata": {},
     "output_type": "execute_result"
    },
    {
     "data": {
      "text/plain": [
       "[<matplotlib.lines.Line2D at 0x25f80735978>]"
      ]
     },
     "execution_count": 269,
     "metadata": {},
     "output_type": "execute_result"
    },
    {
     "data": {
      "text/plain": [
       "Text(0.5,0,'$\\\\phi$ [-]')"
      ]
     },
     "execution_count": 269,
     "metadata": {},
     "output_type": "execute_result"
    },
    {
     "data": {
      "text/plain": [
       "Text(0,0.5,'$\\\\eta$ [-]')"
      ]
     },
     "execution_count": 269,
     "metadata": {},
     "output_type": "execute_result"
    },
    {
     "data": {
      "text/plain": [
       "<matplotlib.legend.Legend at 0x25f818cdeb8>"
      ]
     },
     "execution_count": 269,
     "metadata": {},
     "output_type": "execute_result"
    },
    {
     "data": {
      "image/png": "[encoded data removed]",
      "text/plain": [
       "<Figure size 432x288 with 1 Axes>"
      ]
     },
     "metadata": {},
     "output_type": "display_data"
    }
   ],
   "source": [
    "plt.plot(phi,Qc,'o',label = 'Experimental')\n",
    "#plt.plot(phir,Qcr,'o',label = 'Numerical')\n",
    "plt.plot(phi,eta((W_mag_CB,W_mag_HB,W_p,Q_reg_HB,Q_pas_CB,K,Q_cas,Q_at_CB),M[0][0],M[0][1],M[0][2],M[0][3],M[0][4],M[0][5],M[0][6],M[0][7],M[0][8]),'o',label = 'Fitting')\n",
    "\n",
    "plt.xlabel('$\\phi$ [-]')\n",
    "plt.ylabel('$\\eta$ [-]')\n",
    "plt.legend()\n",
    "plt.grid()\n",
    "#plt.savefig('Fitting _Restricted_8_Reduced.png',format = 'png', dpi=1000,bbox_inches='tight')"
   ]
  },
  {
   "cell_type": "code",
   "execution_count": 270,
   "metadata": {},
   "outputs": [],
   "source": [
    "Erro_rel2 = (Qc-eta((W_mag_CB,W_mag_HB,W_p,Q_reg_HB,Q_pas_CB,K,Q_cas,Q_at_CB),M[0][0],M[0][1],M[0][2],M[0][3],M[0][4],M[0][5],M[0][6],M[0][7],M[0][8]))"
   ]
  },
  {
   "cell_type": "code",
   "execution_count": 271,
   "metadata": {
    "scrolled": true
   },
   "outputs": [
    {
     "data": {
      "text/plain": [
       "[<matplotlib.lines.Line2D at 0x25ff2e6c240>]"
      ]
     },
     "execution_count": 271,
     "metadata": {},
     "output_type": "execute_result"
    },
    {
     "data": {
      "text/plain": [
       "Text(0.5,0,'$\\\\phi$ [-]')"
      ]
     },
     "execution_count": 271,
     "metadata": {},
     "output_type": "execute_result"
    },
    {
     "data": {
      "text/plain": [
       "Text(0,0.5,'Error [$\\\\%$]')"
      ]
     },
     "execution_count": 271,
     "metadata": {},
     "output_type": "execute_result"
    },
    {
     "data": {
      "image/png": "[encoded data removed]",
      "text/plain": [
       "<Figure size 432x288 with 1 Axes>"
      ]
     },
     "metadata": {},
     "output_type": "display_data"
    }
   ],
   "source": [
    "#plt.plot(phi,abs(Erro_rel),'o')\n",
    "plt.plot(phi,(Erro_rel2),'o')\n",
    "plt.xlabel('$\\phi$ [-]')\n",
    "plt.ylabel('Error [$\\%$]')\n",
    "plt.grid()\n",
    "\n",
    "plt.savefig('Error_Restricted_8.png',format = 'png', dpi=1000,bbox_inches='tight')"
   ]
  },
  {
   "cell_type": "code",
   "execution_count": 138,
   "metadata": {},
   "outputs": [
    {
     "data": {
      "text/plain": [
       "21.684531197869152"
      ]
     },
     "execution_count": 138,
     "metadata": {},
     "output_type": "execute_result"
    }
   ],
   "source": [
    "max(abs(Erro_rel))"
   ]
  }
 ],
 "metadata": {
  "kernelspec": {
   "display_name": "Python 3",
   "language": "python",
   "name": "python3"
  },
  "language_info": {
   "codemirror_mode": {
    "name": "ipython",
    "version": 3
   },
   "file_extension": ".py",
   "mimetype": "text/x-python",
   "name": "python",
   "nbconvert_exporter": "python",
   "pygments_lexer": "ipython3",
   "version": "3.6.5"
  }
 },
 "nbformat": 4,
 "nbformat_minor": 2
}
