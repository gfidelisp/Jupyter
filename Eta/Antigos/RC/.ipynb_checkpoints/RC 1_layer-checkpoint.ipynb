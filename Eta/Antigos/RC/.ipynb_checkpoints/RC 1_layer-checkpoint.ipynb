{
 "cells": [
  {
   "cell_type": "code",
   "execution_count": 2,
   "metadata": {
    "collapsed": true
   },
   "outputs": [],
   "source": [
    "import numpy as np\n",
    "import math\n",
    "import xlrd\n",
    "from itertools import zip_longest as izip\n",
    "from itertools import product as products\n",
    "from scipy.interpolate import interp1d\n",
    "from scipy.integrate import simps\n",
    "from scipy.integrate import trapz\n",
    "from matplotlib import *\n",
    "\n",
    "rc('text',usetex = True)\n",
    "rc('font', family='serif')\n",
    "\n"
   ]
  },
  {
   "cell_type": "markdown",
   "metadata": {},
   "source": [
    "# Material properties data"
   ]
  },
  {
   "cell_type": "markdown",
   "metadata": {},
   "source": [
    "### $\\Delta T_\\mathrm{ad}$ data"
   ]
  },
  {
   "cell_type": "code",
   "execution_count": 3,
   "metadata": {
    "collapsed": false
   },
   "outputs": [],
   "source": [
    "path = \"DTad_polo.xlsx\"\n",
    "book = xlrd.open_workbook(path)\n",
    "\n",
    "data_T_DTad= book.sheet_by_index(0).col_values(0)\n",
    "data_H_DTad= book.sheet_by_index(0).col_values(1)\n",
    "data_DTad= book.sheet_by_index(0).col_values(2)"
   ]
  },
  {
   "cell_type": "markdown",
   "metadata": {},
   "source": [
    "### $\\Delta S$ data"
   ]
  },
  {
   "cell_type": "code",
   "execution_count": 4,
   "metadata": {
    "collapsed": true
   },
   "outputs": [],
   "source": [
    "path = \"DS_polo.xlsx\"\n",
    "book = xlrd.open_workbook(path)\n",
    "\n",
    "data_T= book.sheet_by_index(0).col_values(0)\n",
    "data_H= book.sheet_by_index(0).col_values(1)\n",
    "data_Ds= book.sheet_by_index(0).col_values(2)\n"
   ]
  },
  {
   "cell_type": "markdown",
   "metadata": {},
   "source": [
    "### Selecting $\\Delta S$, $\\Delta T_\\mathrm{ad}$ and $T$ for a magnetic field variation"
   ]
  },
  {
   "cell_type": "code",
   "execution_count": 5,
   "metadata": {
    "collapsed": true
   },
   "outputs": [],
   "source": [
    "B_min = 0\n",
    "B_max = 1\n",
    "\n",
    "#B_min = 0\n",
    "#B_max = 0.73\n",
    "\n",
    "\n",
    "if B_min == 0:\n",
    "    \n",
    "    index_Bmax = [i for i, j in enumerate(data_H) if round(j,2) == B_max]\n",
    "    Ds = [data_Ds[i] for i in index_Bmax]\n",
    "    DTad = [data_DTad[i] for i in index_Bmax]\n",
    "    T = [data_T[i] for i in index_Bmax]\n",
    "    \n",
    "else:\n",
    "    \n",
    "    index_Bmin = [i for i, j in enumerate(data_H) if round(j,2) == B_min]\n",
    "    index_Bmax = [i for i, j in enumerate(data_H) if round(j,2) == B_max]\n",
    "    Ds = [data_Ds[i] - data_Ds[j] for i,j in izip(index_Bmax,index_Bmin)]\n",
    "    DTad = [data_DTad[i] - data_DTad[j] for i,j in izip(index_Bmax,index_Bmin)]\n",
    "    T = [data_T[i] for i,j in izip(index_Bmax,index_Bmin)]\n",
    "\n"
   ]
  },
  {
   "cell_type": "markdown",
   "metadata": {},
   "source": [
    "### Properties refining"
   ]
  },
  {
   "cell_type": "code",
   "execution_count": 6,
   "metadata": {
    "collapsed": false,
    "scrolled": true
   },
   "outputs": [],
   "source": [
    "order = 3\n",
    "T_step=10**(-order)\n",
    "n_of_T=round(((T[-1]-T[0])/T_step) +1)\n",
    "T_ref=np.linspace(T[0],T[-1],n_of_T)\n",
    "\n",
    "f = interp1d(T, Ds) #Linear interpolation\n",
    "Ds_ref=f(T_ref)\n",
    "\n",
    "g = interp1d(T, DTad) #Linear interpolation\n",
    "DTad_ref=g(T_ref)"
   ]
  },
  {
   "cell_type": "markdown",
   "metadata": {},
   "source": [
    "### T  shift if using Demag properties"
   ]
  },
  {
   "cell_type": "code",
   "execution_count": 7,
   "metadata": {
    "collapsed": false
   },
   "outputs": [],
   "source": [
    "T_shift=round(max(DTad_ref),3)\n",
    "T_ref_new=[i+T_shift for i in T_ref]\n"
   ]
  },
  {
   "cell_type": "markdown",
   "metadata": {},
   "source": [
    "# Main Routine"
   ]
  },
  {
   "cell_type": "markdown",
   "metadata": {},
   "source": [
    "### Temperatures"
   ]
  },
  {
   "cell_type": "code",
   "execution_count": 31,
   "metadata": {
    "collapsed": false
   },
   "outputs": [],
   "source": [
    "Ths = [298]\n",
    "spans = np.arange(0.001,40.001)\n",
    "caso=0\n",
    "\n",
    "Th=Ths[caso] \n",
    "span=spans[caso]\n",
    "\n",
    "Tc=Th-spans"
   ]
  },
  {
   "cell_type": "markdown",
   "metadata": {},
   "source": [
    "### Mag RC"
   ]
  },
  {
   "cell_type": "code",
   "execution_count": 36,
   "metadata": {
    "collapsed": false,
    "scrolled": false
   },
   "outputs": [],
   "source": [
    "shift = 0 \n",
    "RC_mag = np.zeros(len(Tc)) \n",
    "\n",
    "for k in range(len(spans)):\n",
    "    Tc_shift = Tc[k] + shift\n",
    "    Th_shift = Th + shift #define temperatures for the cold layer Ds calculation\n",
    "\n",
    "\n",
    "    #Defining indexs for Ds and T\n",
    "\n",
    "    index_Ds= [[i for i,j in enumerate(T_ref) if j == Tc_shift], [a for a, b in enumerate(T_ref) if b == Th_shift]]\n",
    "    index_Ds = index_Ds[0]+index_Ds[1] #indexs for Ds of cold layer, including shift\n",
    "\n",
    "\n",
    "    index_T= [[i for i,j in enumerate(T_ref) if j == Tc[k]], [a for a, b in enumerate(T_ref) if b == Th]]\n",
    "    index_T = index_T[0]+index_T[1] #indexs for T of cold layer\n",
    "\n",
    "    #RC calculation\n",
    "\n",
    "    RC_mag[k]=trapz(Ds_ref[index_Ds[0]:index_Ds[1]+1], T_ref[index_T[0]:index_T[1]+1])/spans[k]\n",
    "\n",
    "\n",
    "    \n",
    "    \n",
    "print(RC_mag)\n"
   ]
  },
  {
   "cell_type": "code",
   "execution_count": 51,
   "metadata": {
    "collapsed": false
   },
   "outputs": [
    {
     "data": {
      "image/png": "[encoded data removed]",
      "text/plain": [
       "<matplotlib.figure.Figure at 0x17b0c7cfa58>"
      ]
     },
     "metadata": {},
     "output_type": "display_data"
    }
   ],
   "source": [
    "fig, ax = plt.subplots()\n",
    "\n",
    "plt.plot(spans,RC_mag)\n",
    "plt.grid(True)\n",
    "plt.ylabel('$ \\overline{ \\Delta S }$ [kJ/(kg.K)]')\n",
    "plt.xlabel('$\\Delta$ T [K]')\n",
    "plt.show()\n",
    "\n",
    "fig.savefig('dS.pdf',format = 'pdf', dpi=1000,bbox_inches='tight')"
   ]
  },
  {
   "cell_type": "code",
   "execution_count": 37,
   "metadata": {
    "collapsed": false
   },
   "outputs": [
    {
     "data": {
      "text/plain": [
       "2.9802318316848098"
      ]
     },
     "execution_count": 37,
     "metadata": {},
     "output_type": "execute_result"
    }
   ],
   "source": [
    "RC_mag"
   ]
  }
 ],
 "metadata": {
  "anaconda-cloud": {},
  "kernelspec": {
   "display_name": "Python [default]",
   "language": "python",
   "name": "python3"
  },
  "language_info": {
   "codemirror_mode": {
    "name": "ipython",
    "version": 3
   },
   "file_extension": ".py",
   "mimetype": "text/x-python",
   "name": "python",
   "nbconvert_exporter": "python",
   "pygments_lexer": "ipython3",
   "version": "3.5.3"
  }
 },
 "nbformat": 4,
 "nbformat_minor": 2
}
