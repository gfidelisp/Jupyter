{
 "cells": [
  {
   "cell_type": "code",
   "execution_count": 128,
   "metadata": {},
   "outputs": [],
   "source": [
    "import numpy as np\n",
    "import matplotlib.pyplot as plt\n",
    "import matplotlib.patches as mpatches\n",
    "from matplotlib import *\n",
    "from math import *\n",
    "rc('text',usetex = True)\n",
    "rc('font', family='serif',size = 12)"
   ]
  },
  {
   "cell_type": "code",
   "execution_count": 11,
   "metadata": {},
   "outputs": [],
   "source": [
    "mpatches.Circle(0, 5,ec = 'none')\n",
    "plt.show()"
   ]
  },
  {
   "cell_type": "code",
   "execution_count": 12,
   "metadata": {},
   "outputs": [],
   "source": [
    "def radius(R):\n",
    "    x = np.arange(0,R+R/100,R/100)\n",
    "    y = np.sqrt(R**2 - x**2)\n",
    "    return x,y"
   ]
  },
  {
   "cell_type": "code",
   "execution_count": 158,
   "metadata": {
    "scrolled": true
   },
   "outputs": [
    {
     "data": {
      "image/png": "[encoded data removed]",
      "text/plain": [
       "<Figure size 432x288 with 1 Axes>"
      ]
     },
     "metadata": {
      "needs_background": "light"
     },
     "output_type": "display_data"
    }
   ],
   "source": [
    "import numpy as np\n",
    "from matplotlib.patches import Circle, Wedge, Polygon\n",
    "from matplotlib.collections import PatchCollection\n",
    "import matplotlib.pyplot as plt\n",
    "\n",
    "\n",
    "fig, ax = plt.subplots()\n",
    "\n",
    "\n",
    "R1 = 0.05\n",
    "R2 = 0.14\n",
    "R3 = 0.22\n",
    "R4 = 0.32\n",
    "R5 = 0.35\n",
    "\n",
    "\n",
    "# Some limiting conditions on Wedge\n",
    "\n",
    "stator = [Wedge((0, 0), R2, 0, 90, width=R2-R1)]\n",
    "amr    = [Wedge((0, 0), R3-0.003, 1, 22, width=R3 - R2-0.006), Wedge((0, 0), R3-0.003, 23, 44, width=R3 - R2-0.006), Wedge((0, 0), R3-0.003, 45, 66, width=R3 - R2-0.006), Wedge((0, 0), R3-0.003, 67, 89, width=R3 - R2-0.006)]\n",
    "cas    = [Wedge((0, 0), R3-0.003, 0, 23, width=R3 - R2-0.006), Wedge((0, 0), R3-0.003, 23, 45, width=R3 - R2-0.006), Wedge((0, 0), R3-0.003, 45, 67, width=R3 - R2-0.006), Wedge((0, 0), R3-0.003, 67, 90, width=R3 - R2-0.006)]\n",
    "rotor  = [Wedge((0, 0), R4, 0, 90, width=R4 - R3)]\n",
    "iron   = [Wedge((0, 0), R5, 0, 90, width=R5 - R4)]\n",
    "\n",
    "#patches = [ Wedge((0, 0), 0.4, 0, 90, width=0.15), Wedge((0, 0), 0.8, 0, 90, width=0.15)]\n",
    "#patches_2 = [Wedge((0, 0), 0.65, 22.5, 45+22.5, width=0.25)]\n",
    "\n",
    "colors = [1]\n",
    "\n",
    "\n",
    "s = PatchCollection(stator,cmap='Greys_r', alpha=0.5)\n",
    "s.set_array(np.array(colors))\n",
    "\n",
    "a = PatchCollection(amr,cmap='Greys_r', alpha=0.3)\n",
    "a.set_array(np.array(colors))\n",
    "\n",
    "c = PatchCollection(cas,cmap='Greys_r', alpha=0.8)\n",
    "c.set_array(np.array(colors))\n",
    "\n",
    "r = PatchCollection(rotor,cmap='Greys_r', alpha=0.5)\n",
    "r.set_array(np.array(colors))\n",
    "\n",
    "i = PatchCollection(iron,cmap='Greys_r', alpha=0.8)\n",
    "i.set_array(np.array(colors))\n",
    "\n",
    "\n",
    "ax.add_collection(s)\n",
    "#ax.add_collection(c)\n",
    "ax.add_collection(a)\n",
    "ax.add_collection(r)\n",
    "ax.add_collection(i)\n",
    "\n",
    "\n",
    "plt.xlim([0,0.36])\n",
    "plt.ylim([0,0.36])\n",
    "\n",
    "x1 = [R1,R2,R3,R4,R5]\n",
    "radii = ['R1','R2','R3','R4','R5']\n",
    "\n",
    "ax.set_xticks(x1)\n",
    "ax.set_xticklabels(radii, minor=False, rotation=0)\n",
    "\n",
    "y1 = [R1/2,R1 + (R2-R1)/2,R2 + (R3-R2)/2,R3 + (R4-R3)/2,R4 + (R5-R4)/2]\n",
    "\n",
    "elem = ['Shaft','Stator','Air Gap','Rotor','Iron Ring']\n",
    "\n",
    "ax.set_yticks(y1)\n",
    "ax.set_yticklabels(elem, minor=False, rotation=00)\n",
    "\n",
    "\n",
    "plt.tight_layout()\n",
    "\n",
    "\n",
    "R_1 = radius(R1)\n",
    "R_2 = radius(R2)\n",
    "R_3 = radius(R3)\n",
    "R_4 = radius(R4)\n",
    "R_5 = radius(R5)\n",
    "\n",
    "plt.plot(R_1[0],R_1[1],'k')\n",
    "plt.plot(R_2[0],R_2[1],'k')\n",
    "plt.plot(R_3[0],R_3[1],'k')\n",
    "plt.plot(R_4[0],R_4[1],'k')\n",
    "plt.plot(R_5[0],R_5[1],'k')\n",
    "\n",
    "Rk = R2+(R3-R2)/2.2\n",
    "\n",
    "plt.text(0.05*Rk,(Rk**2 - (0.05*Rk)**2)**0.5, r'$AMR$',rotation=-180/3.1415*(atan(0.15*Rk/(Rk**2 -(0.15*Rk)**2)**0.5)))\n",
    "#plt.text(0.45*Rk,(Rk**2 - (0.45*Rk)**2)**0.5, r'$AMR$',rotation=-180/3.1415*(atan(0.55*Rk/(Rk**2 -(0.55*Rk)**2)**0.5)))\n",
    "#plt.text(0.76*Rk,(Rk**2 - (0.76*Rk)**2)**0.5, r'$AMR$',rotation=-180/3.1415*(atan(0.8*Rk/(Rk**2 -(0.8*Rk)**2)**0.5)))\n",
    "#plt.text(0.96*Rk,(Rk**2 - (0.96*Rk)**2)**0.5, r'$AMR$',rotation=-180/3.1415*(atan(0.97*Rk/(Rk**2 -(0.97*Rk)**2)**0.5)))\n",
    "#plt.text(1.1*R2/2, 0.85*R2+(R3-R2)/2, r'$AMR$',rotation=-35)\n",
    "#plt.text(0.6*R2+(R3-R2)/2, 0.75*R2, r'$AMR$',rotation=-50)\n",
    "\n",
    "plt.gca().set_aspect('equal', adjustable='box')\n",
    "\n",
    "plt.savefig('Schematics.pdf',format = 'pdf', dpi=1000,bbox_inches='tight')"
   ]
  },
  {
   "cell_type": "code",
   "execution_count": 132,
   "metadata": {},
   "outputs": [
    {
     "data": {
      "text/plain": [
       "2.8660685102780845"
      ]
     },
     "execution_count": 132,
     "metadata": {},
     "output_type": "execute_result"
    }
   ],
   "source": [
    "180/3.1415*(atan(0.05*Rk/(Rk**2 -(0.05*Rk)**2)**0.5))"
   ]
  },
  {
   "cell_type": "code",
   "execution_count": 43,
   "metadata": {},
   "outputs": [
    {
     "data": {
      "text/plain": [
       "(0.14, 0.22, 0.18)"
      ]
     },
     "execution_count": 43,
     "metadata": {},
     "output_type": "execute_result"
    }
   ],
   "source": [
    "R2,R3,R2+(R3-R2)/2"
   ]
  },
  {
   "cell_type": "code",
   "execution_count": 203,
   "metadata": {},
   "outputs": [],
   "source": [
    "R_in = 175\n",
    "R_out = 400"
   ]
  },
  {
   "cell_type": "code",
   "execution_count": 232,
   "metadata": {},
   "outputs": [],
   "source": [
    "cs = np.cos(42*np.pi/180)\n",
    "sn = np.sin(42*np.pi/180)"
   ]
  },
  {
   "cell_type": "code",
   "execution_count": 305,
   "metadata": {},
   "outputs": [],
   "source": [
    "x = np.arange(R_in,R_out,0.01)\n",
    "x1 = np.arange(R_in*cs,R_in*3**0.5/2,1)\n",
    "x2 = np.arange(R_out*cs,R_out*3**0.5/2,1)\n",
    "x3 = np.arange(0,6,0.1)\n",
    "\n",
    "pl_1 = np.arange((175/2*(3**0.5+1)+60*2**0.5)/(1+np.tan(42*3.1415/180)),(175/2*(3**0.5+1)+60*2**0.5)/(1+np.tan(30*3.1415/180)),0.1)\n",
    "pl_2 = np.arange((175/2*(3**0.5+1)+2*60*2**0.5)/(1+np.tan(42*3.1415/180)),(175/2*(3**0.5+1)+2*60*2**0.5)/(1+np.tan(30*3.1415/180)),0.1)\n",
    "pl_3 = np.arange((175/2*(3**0.5+1)+3*60*2**0.5)/(1+np.tan(42*3.1415/180)),(175/2*(3**0.5+1)+3*60*2**0.5)/(1+np.tan(30*3.1415/180)),0.1)"
   ]
  },
  {
   "cell_type": "code",
   "execution_count": 306,
   "metadata": {},
   "outputs": [
    {
     "data": {
      "text/plain": [
       "205.35165449307058"
      ]
     },
     "execution_count": 306,
     "metadata": {},
     "output_type": "execute_result"
    }
   ],
   "source": [
    "(175/2*(3**0.5+1)+60*2**0.5)/(1+np.tan(30*3.1415/180))"
   ]
  },
  {
   "cell_type": "code",
   "execution_count": 307,
   "metadata": {},
   "outputs": [],
   "source": [
    "theta_rem = 45\n",
    "ref = np.arange(R_in*np.cos(3.1415*45/180),R_out*np.cos(3.1415*45/180))"
   ]
  },
  {
   "cell_type": "code",
   "execution_count": 323,
   "metadata": {},
   "outputs": [
    {
     "data": {
      "image/png": "[encoded data removed]",
      "text/plain": [
       "<Figure size 432x288 with 1 Axes>"
      ]
     },
     "metadata": {
      "needs_background": "light"
     },
     "output_type": "display_data"
    }
   ],
   "source": [
    "plt.plot(x*cs,x*sn,'k')\n",
    "plt.plot(x*3**0.5/2,x/2,'k')\n",
    "plt.plot(x1,(R_in**2-x1**2)**0.5,'k')\n",
    "plt.plot(x2,(R_out**2-(x2)**2)**0.5,'k')\n",
    "plt.arrow(165,115,120,120*np.tan(45*np.pi/180),head_width=10, head_length=15, fc='k', ec='k')\n",
    "#plt.plot(x*3**0.5/2,x*3**0.5/2 + 175*(-3**0.5/2 + 0.5))\n",
    "plt.plot(pl_1,-pl_1 + 175*(3**0.5/2+0.5) + 60*2**0.5,'--k')\n",
    "plt.plot(pl_2,-pl_2 + 175*(3**0.5/2+0.5) + 2*60*2**0.5,'--k')\n",
    "plt.plot(pl_3,-pl_3 + 175*(3**0.5/2+0.5) + 3*60*2**0.5,'--k')\n",
    "#plt.plot(x2,-x2+4,'--k')\n",
    "#plt.plot(x3,-x3+6,'--k')\n",
    "plt.grid(linestyle=':')\n",
    "plt.plot()\n",
    "plt.gca().set_aspect('equal', adjustable='box')\n",
    "plt.savefig('Segment.pdf',format = 'pdf', dpi=500,bbox_inches='tight')"
   ]
  },
  {
   "cell_type": "code",
   "execution_count": 295,
   "metadata": {},
   "outputs": [
    {
     "data": {
      "text/plain": [
       "array([], dtype=float64)"
      ]
     },
     "execution_count": 295,
     "metadata": {},
     "output_type": "execute_result"
    }
   ],
   "source": []
  }
 ],
 "metadata": {
  "kernelspec": {
   "display_name": "Python 3",
   "language": "python",
   "name": "python3"
  },
  "language_info": {
   "codemirror_mode": {
    "name": "ipython",
    "version": 3
   },
   "file_extension": ".py",
   "mimetype": "text/x-python",
   "name": "python",
   "nbconvert_exporter": "python",
   "pygments_lexer": "ipython3",
   "version": "3.7.3"
  }
 },
 "nbformat": 4,
 "nbformat_minor": 2
}
