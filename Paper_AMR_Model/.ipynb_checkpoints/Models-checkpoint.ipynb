{
 "cells": [
  {
   "cell_type": "code",
   "execution_count": 123,
   "metadata": {},
   "outputs": [],
   "source": [
    "from numpy import *\n",
    "from scipy import *\n",
    "import numpy as np\n",
    "from matplotlib import *\n",
    "\n",
    "from scipy import integrate\n",
    "from scipy import interpolate\n",
    "from scipy.optimize import curve_fit\n",
    "import matplotlib.pyplot as plt\n",
    "\n",
    "import xlrd\n",
    "\n",
    "rc('text',usetex = True)\n",
    "rc('font', family='serif',size = 12)"
   ]
  },
  {
   "cell_type": "code",
   "execution_count": 124,
   "metadata": {},
   "outputs": [],
   "source": [
    "def Properties(SpecHeat,dTad,B_exp,B_l_int,B_h_int,T,N_ml): #Get the properties on the low and high field\n",
    "\n",
    "    C_l = zeros([N_ml,len(T)])\n",
    "    C_h = zeros([N_ml,len(T)])\n",
    "    dT_l = zeros([N_ml,len(T)])\n",
    "    dT_h = zeros([N_ml,len(T)])\n",
    "    \n",
    "    A_2 = 0\n",
    "    A_1 = 0\n",
    "    \n",
    "    for i in range(K):\n",
    "        if B_exp[i] == B_l_int and B_exp[i-1]< B_l_int:\n",
    "            A_2 = np.int(i)  \n",
    "        if B_exp[i] == B_l_int:\n",
    "            for j in range(N_ml):\n",
    "                C_l[j][i-A_2]=C[j,i]\n",
    "                dT_l[j][i-A_2]=dT[j,i]\n",
    "\n",
    "        if B_exp[i] == B_h_int and B_exp[i-1]< B_h_int:\n",
    "            A_1 = np.int(i)\n",
    "        if B_exp[i] == B_h_int:\n",
    "            for j in range(N_ml):\n",
    "                C_h[j][i-A_1]=C[j,i]\n",
    "                dT_h[j][i-A_1]=dT[j,i]\n",
    "                \n",
    "    return(C_l,C_h,dT_l,dT_h)"
   ]
  },
  {
   "cell_type": "code",
   "execution_count": 125,
   "metadata": {},
   "outputs": [],
   "source": [
    "def SubMetrics(Th,Tc,T_l,T_layer,L_layer,C_h,C_l,dT_ad,dT_ad_d):\n",
    "\n",
    "\n",
    "    C_mag = []\n",
    "    C_dmag = []\n",
    "    dT_mag = []\n",
    "    dT_dmag = []\n",
    "\n",
    "    T_int = np.arange(Tc,Th+0.001,0.1)\n",
    "\n",
    "    N_l = len(T_layer)\n",
    "\n",
    "    A = np.int((Tc - min(T_exp))/0.1)\n",
    "\n",
    "\n",
    "\n",
    "    T_t = []\n",
    "    L = 0\n",
    "\n",
    "    for i in range(N_l):\n",
    "        L = L + L_layer[i]\n",
    "        T_tr = Tc + 0.001 +L/100*(Th-Tc)\n",
    "        T_t.append(T_tr)\n",
    "    \n",
    "    \n",
    "    k = 0    \n",
    "    for i in range (len(T_int)):\n",
    "        if T_int[i] <=T_t[k]:\n",
    "            for j in range(len(T_l)):\n",
    "                if T_layer[k] >= T_l[j] and T_layer[k] < T_l[j+1]:\n",
    "                    C_mag.append(C_h[j+1][int(i+A)]-(C_h[j+1][int(i+A)]-C_h[j][int(i+A)])*(T_l[j+1]-T_layer[k])/(T_l[j+1]-T_l[j]))\n",
    "                    C_dmag.append(C_l[j+1][int(i+A)]-(C_l[j+1][int(i+A)]-C_l[j][int(i+A)])*(T_l[j+1]-T_layer[k])/(T_l[j+1]-T_l[j]))\n",
    "                    dT_mag.append(dT_ad[j+1][int(i+A)]-(dT_ad[j+1][int(i+A)]-dT_ad[j][int(i+A)])*(T_l[j+1]-T_layer[k])/(T_l[j+1]-T_l[j]))\n",
    "                    dT_dmag.append(dT_ad_d[j+1][int(i+A)]-(dT_ad_d[j+1][int(i+A)]-dT_ad_d[j][int(i+A)])*(T_l[j+1]-T_layer[k])/(T_l[j+1]-T_l[j]))\n",
    "        else:\n",
    "            for j in range(len(T_l)):\n",
    "                if T_layer[k+1] >= T_l[j] and T_layer[k+1] < T_l[j+1]:\n",
    "                    C_mag.append(C_h[j][int(i+A)]+(C_h[j+1][int(i+A)]-C_h[j][int(i+A)])*(T_layer[k+1]-T_l[j])/(T_l[j+1]-T_l[j]))\n",
    "                    C_dmag.append(C_l[j][int(i+A)]+(C_l[j+1][int(i+A)]-C_l[j][int(i+A)])*(T_layer[k+1]-T_l[j])/(T_l[j+1]-T_l[j]))\n",
    "                    dT_mag.append(dT_ad[j][int(i+A)]+(dT_ad[j+1][int(i+A)]-dT_ad[j][int(i+A)])*(T_layer[k+1]-T_l[j])/(T_l[j+1]-T_l[j]))\n",
    "                    dT_dmag.append(dT_ad_d[j][int(i+A)]+(dT_ad_d[j+1][int(i+A)]-dT_ad_d[j][int(i+A)])*(T_layer[k+1]-T_l[j])/(T_l[j+1]-T_l[j]))\n",
    "            k = k + 1\n",
    "            \n",
    "    return (C_mag,C_dmag,dT_mag,dT_dmag)"
   ]
  },
  {
   "cell_type": "code",
   "execution_count": 126,
   "metadata": {},
   "outputs": [],
   "source": [
    "def Parameters(C_mag,C_dmag,dT_mag,dT_dmag,T_int):\n",
    "    print(len(C_mag),len(T_int))\n",
    "    C_mag_mean   = integrate.simps(C_mag,T_int)/(max(T_int)-min(T_int))\n",
    "    C_dmag_mean  = integrate.simps(C_dmag,T_int)/(max(T_int)-min(T_int))\n",
    "    \n",
    "    dT_mag_mean  = integrate.simps(dT_mag,T_int)/(max(T_int)-min(T_int))\n",
    "    dT_dmag_mean = integrate.simps(dT_dmag,T_int)/(max(T_int)-min(T_int))\n",
    "    \n",
    "    CdT_mag_mean   = integrate.simps(np.array(C_mag)*np.array(dT_mag),T_int)/(max(T_int)-min(T_int))\n",
    "    CdT_dmag_mean  = integrate.simps(np.array(C_dmag)*np.array(dT_dmag),T_int)/(max(T_int)-min(T_int))\n",
    "    return C_mag_mean, C_dmag_mean, dT_mag_mean,dT_dmag_mean,CdT_mag_mean,CdT_dmag_mean"
   ]
  },
  {
   "cell_type": "code",
   "execution_count": 127,
   "metadata": {},
   "outputs": [],
   "source": [
    "def Metrics (SpecHeat,dTad,B_l_int,B_h_int,T_arg,N_ml,Th,Tc,T_l,T_layer,L_layer):\n",
    "    (C_l,C_h,dT_l,dT_h) = Properties(SpecHeat,dTad,B_exp,B_l_int,B_h_int,T_arg,N_ml) #Properties of low and high fields\n",
    "    dT_ad = np.array(dT_h)-np.array(dT_l)\n",
    "             \n",
    "    T_dem = zeros([N_ml,len(T_arg)])\n",
    "    for j in range(N_ml):\n",
    "        T_dem[j] = T_arg + dT_ad[j]\n",
    "             \n",
    "    dT_ad_d = np.zeros([N_ml,len(T_arg)])\n",
    "    for i in range(N_ml):\n",
    "        for j in range(len(T_arg)):\n",
    "            for k in range(len(T_dem[i])):\n",
    "                if  T_arg[j] > T_dem[i][k] and T_arg[j] <= T_dem[i][k+1]:\n",
    "                    dT_ad_d[i][j] = (dT_ad[i][k] + (T_arg[j] - T_dem[i][k])*(dT_ad[i][k+1]-dT_ad[i][k])/(T_arg[k+1]-T_arg[k]))\n",
    "\n",
    "    (C_mag,C_dmag,dT_mag,dT_dmag) = SubMetrics(Th,Tc,T_l,T_layer,L_layer,C_h,C_l,dT_ad,dT_ad_d)\n",
    "    \n",
    "    T_int = np.arange(Tc,Th+0.001,0.1)\n",
    "    \n",
    "    C_mag_mean, C_dmag_mean, dT_mag_mean,dT_dmag_mean,CdT_mag_mean,CdT_dmag_mean = Parameters(C_mag,C_dmag,dT_mag,dT_dmag,T_int)\n",
    "    \n",
    "    return C_mag_mean, C_dmag_mean, dT_mag_mean,dT_dmag_mean,CdT_mag_mean,CdT_dmag_mean"
   ]
  },
  {
   "cell_type": "markdown",
   "metadata": {},
   "source": [
    "Constant inputs"
   ]
  },
  {
   "cell_type": "code",
   "execution_count": 426,
   "metadata": {},
   "outputs": [],
   "source": [
    "##Properties of the solid \n",
    "\n",
    "rho_s = 7900  #[kg/m3] Density of the solid\n",
    "k_s   = 8 #[W/(m2.K)] #Thermal conductivity of the solid\n",
    "\n",
    "## Propertis of the fluid\n",
    "\n",
    "rho_f = 1000  #[kg/m3] Density of the fluid\n",
    "c_f   = 4181  #[kJ/(kg.K)] # Specific heat of the fluid\n",
    "Pr_f  = 6.136 #[-] Prandtl of the fluid\n",
    "mu_f  = 0.0008901 #[kg/m-2] #Viscosity of the fluid\n",
    "k_f   = 0.6065  #[W/(m2.K)] #Thermal conductivity of the fluid\n",
    "\n",
    "## Porous medium\n",
    "#d_p = 512.5*10**(-6) #[m] Particle diameter\n",
    "Epsilon = 0.36  #[-] Porosity"
   ]
  },
  {
   "cell_type": "markdown",
   "metadata": {},
   "source": [
    "Properties Calculation"
   ]
  },
  {
   "cell_type": "code",
   "execution_count": 461,
   "metadata": {},
   "outputs": [],
   "source": [
    "Prop = xlrd.open_workbook('Gd-Y.xlsx') #Import Properties File\n",
    "SpecHeat = Prop.sheet_by_name('C') # #Import Specific Heat\n",
    "dTad = Prop.sheet_by_name('dT') #Import Adiabatic Temperature Change\n",
    "\n",
    "T_exp = dTad.col_values(0) #Import experimented temperatures \n",
    "B_exp = dTad.col_values(1) #Import experimented magnetic fields\n",
    "\n",
    "T_arg = arange(min(T_exp),max(T_exp)+0.01,0.1)\n",
    "\n",
    "K = len(dTad.col_values(0)) #Import data number\n",
    "\n",
    "T_l =  [273,277,283,290]#arange(270,315,2)#Temperature  of Curie of the multilayer\n",
    "N_ml = len(T_l) #Number of Multilayer Layers\n",
    "\n",
    "\n",
    "dT = zeros([N_ml,K])\n",
    "C = zeros([N_ml,K])\n",
    "for i in range(N_ml):\n",
    "    dT[i,:] = (dTad.col_values(i+2))    #Data of Adiabatic Temperature change\n",
    "    C[i,:] = (SpecHeat.col_values(i+2)) #Data of specific heat"
   ]
  },
  {
   "cell_type": "code",
   "execution_count": 462,
   "metadata": {},
   "outputs": [],
   "source": [
    "T_layer = [289.9,289.9]\n",
    "L_layer = [50,50]\n",
    "Nr = 1"
   ]
  },
  {
   "cell_type": "markdown",
   "metadata": {},
   "source": [
    "Importing AMR simulation inputs"
   ]
  },
  {
   "cell_type": "code",
   "execution_count": 560,
   "metadata": {
    "scrolled": true
   },
   "outputs": [],
   "source": [
    "Data = xlrd.open_workbook('AMR_Inputs.xlsx') #Import inputs File\n",
    "Inputs = Data.sheet_by_name('Data') \n",
    "\n",
    "L   = array(Inputs.col_values(0))/1000 #Import AMR Length [mm]\n",
    "H   = array(Inputs.col_values(1))/1000 #Import AMR Height [mm]\n",
    "W   = array(Inputs.col_values(2))/1000 #Import AMR Width [mm]\n",
    "T_h = array(Inputs.col_values(3)) #Import temperature span [K]\n",
    "T_c = array(Inputs.col_values(4)) #Import temperature span [K]\n",
    "B   = array(Inputs.col_values(5)) #Import magnetic field [T]\n",
    "B_l   = array(Inputs.col_values(6)) #Import magnetic field [T]\n",
    "f   = array(Inputs.col_values(7)) #Import frequency [Hz]\n",
    "m_f = array(Inputs.col_values(8))/3600 #Import mass flow rate [kg/h]\n",
    "FE = array(Inputs.col_values(9)) #Import mass flow rate [kg/h]\n",
    "\n",
    "Q_c = array(Inputs.col_values(10)) #Import Cooling capacity [W]\n",
    "Q_h = array(Inputs.col_values(11)) #Import Rejected heat [W]\n",
    "W_p = array(Inputs.col_values(12)) #Import Pumping power [W]\n",
    "d_p = array(Inputs.col_values(13))/1000 #Import Magnetic power [W]"
   ]
  },
  {
   "cell_type": "markdown",
   "metadata": {},
   "source": [
    "Calculation"
   ]
  },
  {
   "cell_type": "code",
   "execution_count": 561,
   "metadata": {},
   "outputs": [],
   "source": [
    "#Porous medium\n",
    "m_s   = L*W*H*(1-Epsilon)*rho_s #mass of the AMR\n",
    "Beta = (1-Epsilon)*6/d_p\n",
    "v_s   = (m_f)/(rho_f*W*H) #Superficial velocity\n",
    "dP = L*(150*(1-Epsilon)**2/(Epsilon**3)*(mu_f*v_s)/d_p**2 + 1.75*(1-Epsilon)/Epsilon**3*rho_f*v_s**2/d_p)\n",
    "W_pump = dP*m_f/rho_f\n",
    "\n",
    "\n",
    "#Dimensionless Numbers\n",
    "Re_dp = d_p*v_s*rho_f/((1-Epsilon)*mu_f) #Reynolds number\n",
    "Nu = 2*(1+4*(1-Epsilon)/Epsilon)+((1-Epsilon)**0.5)*Re_dp**0.6*Pr_f**(1/3) # Nusselt number\n",
    "Pe = Re_dp*Pr_f\n",
    "\n",
    "h_int = Nu*k_f/d_p\n",
    "\n",
    "#Effective conduction\n",
    "k_e_f = k_f*Epsilon #Fluid effective conduction\n",
    "\n",
    "\n",
    "a_0 = exp(-1.084-6.778*(Epsilon-0.298))\n",
    "f_0 = 0.8\n",
    "k_e_s = k_f*((1-a_0)*(Epsilon*f_0+(1-Epsilon*f_0)*k_s/k_f)/(1-Epsilon*(1-f_0)+k_s/k_f*Epsilon*(1-f_0))+a_0*(2*((k_s/k_f)**2)*(1-Epsilon)+(1+2*Epsilon)*k_s/k_f)/((2+Epsilon)*k_s/k_f+(1-Epsilon))) #Solid effective conduction\n",
    "\n",
    "D_ = (k_f*rho_f/c_f)*0.75*Pe/2\n",
    "\n",
    "k_s_eff = k_e_s\n",
    "k_f_eff = k_e_f + rho_f*c_f*D_"
   ]
  },
  {
   "cell_type": "code",
   "execution_count": 562,
   "metadata": {},
   "outputs": [],
   "source": [
    "C_H = zeros(len(L))\n",
    "C_L = zeros(len(L))\n",
    "dT_mg = zeros(len(L))\n",
    "dT_dmg = zeros(len(L))\n",
    "CdT_mg = zeros(len(L))\n",
    "CdT_dmg = zeros(len(L))"
   ]
  },
  {
   "cell_type": "code",
   "execution_count": 563,
   "metadata": {
    "scrolled": true
   },
   "outputs": [
    {
     "name": "stdout",
     "output_type": "stream",
     "text": [
      "0\n",
      "91 91\n",
      "1\n",
      "63 63\n",
      "2\n",
      "75 75\n",
      "3\n",
      "82 82\n",
      "4\n",
      "90 90\n",
      "5\n",
      "156 156\n",
      "6\n",
      "189 189\n",
      "7\n",
      "220 220\n",
      "8\n",
      "217 217\n",
      "9\n",
      "88 88\n",
      "10\n",
      "49 49\n",
      "11\n",
      "69 69\n",
      "12\n",
      "231 231\n",
      "13\n",
      "74 74\n",
      "14\n",
      "55 55\n",
      "15\n",
      "280 280\n",
      "16\n",
      "255 255\n",
      "17\n",
      "311 311\n",
      "18\n",
      "2 2\n",
      "19\n",
      "287 287\n",
      "20\n",
      "241 241\n",
      "21\n",
      "304 304\n",
      "22\n",
      "281 281\n",
      "23\n",
      "61 61\n",
      "24\n",
      "29 29\n",
      "25\n",
      "228 228\n",
      "26\n",
      "39 39\n",
      "27\n",
      "55 55\n",
      "28\n",
      "137 137\n",
      "29\n",
      "132 132\n",
      "30\n",
      "186 186\n",
      "31\n",
      "192 192\n",
      "32\n",
      "174 174\n",
      "33\n",
      "154 154\n",
      "34\n",
      "145 145\n",
      "35\n",
      "166 166\n",
      "36\n",
      "2 2\n",
      "37\n",
      "195 195\n",
      "38\n",
      "292 292\n",
      "39\n",
      "236 236\n",
      "40\n",
      "262 262\n",
      "41\n",
      "192 192\n",
      "42\n",
      "248 248\n",
      "43\n",
      "227 227\n",
      "44\n",
      "4 4\n",
      "45\n",
      "72 72\n",
      "46\n",
      "29 29\n",
      "47\n",
      "66 66\n",
      "48\n",
      "40 40\n",
      "49\n",
      "14 14\n",
      "50\n",
      "155 155\n",
      "51\n",
      "31 31\n",
      "52\n",
      "2 2\n",
      "53\n",
      "190 190\n",
      "54\n",
      "242 242\n",
      "55\n",
      "221 221\n",
      "56\n",
      "2 2\n",
      "57\n",
      "262 262\n",
      "58\n",
      "271 271\n",
      "59\n",
      "19 19\n",
      "60\n",
      "184 184\n",
      "61\n",
      "56 56\n",
      "62\n",
      "183 183\n",
      "63\n",
      "117 117\n",
      "64\n",
      "170 170\n",
      "65\n",
      "108 108\n",
      "66\n",
      "155 155\n",
      "67\n",
      "264 264\n",
      "68\n",
      "2 2\n",
      "69\n",
      "232 232\n",
      "70\n",
      "22 22\n",
      "71\n",
      "38 38\n",
      "72\n",
      "153 153\n",
      "73\n",
      "99 99\n",
      "74\n",
      "193 193\n",
      "75\n",
      "229 229\n",
      "76\n",
      "2 2\n",
      "77\n",
      "223 223\n",
      "78\n",
      "25 25\n",
      "79\n",
      "99 99\n",
      "80\n",
      "158 158\n",
      "81\n",
      "176 176\n",
      "82\n",
      "190 190\n",
      "83\n",
      "188 188\n",
      "84\n",
      "184 184\n",
      "85\n",
      "177 177\n",
      "86\n",
      "168 168\n",
      "87\n",
      "160 160\n",
      "88\n",
      "150 150\n",
      "89\n",
      "159 159\n",
      "90\n",
      "161 161\n",
      "91\n",
      "143 143\n",
      "92\n",
      "127 127\n",
      "93\n",
      "115 115\n",
      "94\n",
      "199 199\n",
      "95\n",
      "192 192\n",
      "96\n",
      "107 107\n",
      "97\n",
      "95 95\n",
      "98\n",
      "113 113\n",
      "99\n",
      "232 232\n",
      "100\n",
      "62 62\n",
      "101\n",
      "2 2\n",
      "102\n",
      "33 33\n",
      "103\n",
      "152 152\n",
      "104\n",
      "81 81\n",
      "105\n",
      "2 2\n",
      "106\n",
      "2 2\n",
      "107\n",
      "193 193\n",
      "108\n",
      "126 126\n",
      "109\n",
      "57 57\n",
      "110\n",
      "66 66\n",
      "111\n",
      "231 231\n",
      "112\n",
      "167 167\n",
      "113\n",
      "95 95\n",
      "114\n",
      "178 178\n",
      "115\n",
      "119 119\n",
      "116\n",
      "204 204\n",
      "117\n",
      "46 46\n",
      "118\n",
      "113 113\n",
      "119\n",
      "2 2\n",
      "120\n",
      "152 152\n",
      "121\n",
      "2 2\n",
      "122\n",
      "27 27\n",
      "123\n",
      "3 3\n",
      "124\n",
      "10 10\n",
      "125\n",
      "85 85\n",
      "126\n",
      "77 77\n",
      "127\n",
      "27 27\n",
      "128\n",
      "27 27\n",
      "129\n",
      "113 113\n",
      "130\n",
      "106 106\n",
      "131\n",
      "86 86\n",
      "132\n",
      "16 16\n",
      "133\n",
      "2 2\n",
      "134\n",
      "170 170\n",
      "135\n",
      "82 82\n",
      "136\n",
      "36 36\n",
      "137\n",
      "156 156\n",
      "138\n",
      "2 2\n",
      "139\n",
      "2 2\n",
      "140\n",
      "2 2\n",
      "141\n",
      "65 65\n",
      "142\n",
      "2 2\n",
      "143\n",
      "3 3\n",
      "144\n",
      "159 159\n",
      "145\n",
      "76 76\n",
      "146\n",
      "51 51\n",
      "147\n",
      "35 35\n",
      "148\n",
      "11 11\n",
      "149\n",
      "36 36\n",
      "150\n",
      "2 2\n",
      "151\n",
      "2 2\n",
      "152\n",
      "114 114\n",
      "153\n",
      "2 2\n",
      "154\n",
      "97 97\n",
      "155\n",
      "29 29\n",
      "156\n",
      "2 2\n",
      "157\n",
      "48 48\n",
      "158\n",
      "71 71\n",
      "159\n",
      "13 13\n",
      "160\n",
      "2 2\n",
      "161\n",
      "2 2\n",
      "162\n",
      "48 48\n",
      "163\n",
      "25 25\n",
      "164\n",
      "2 2\n"
     ]
    }
   ],
   "source": [
    "for i in range(len(L)):\n",
    "    print(i)\n",
    "    C_H[i],C_L[i],dT_mg[i],dT_dmg[i],CdT_mg[i],CdT_dmg[i] = Metrics (SpecHeat,dTad,B_l[i],B[i],T_arg,N_ml,T_h[i],T_c[i],T_l,T_layer,L_layer)"
   ]
  },
  {
   "cell_type": "markdown",
   "metadata": {},
   "source": [
    "Porous Medium Eff"
   ]
  },
  {
   "cell_type": "code",
   "execution_count": 564,
   "metadata": {},
   "outputs": [],
   "source": [
    "NTU_f  = h_int*Beta*(L*W*H*10**(-9))/(m_f/3600*c_f) \n",
    "#NTU_HB = h_int*Beta*(L*W*H*10**(-9))/(m_s*C_H*f)\n",
    "#NTU_CB = h_int*Beta*(L*W*H*10**(-9))/(m_s*C_L*f)\n",
    "\n",
    "Eff = Data.sheet_by_name('Eff') \n",
    "\n",
    "Effect = []\n",
    "\n",
    "for i in range(7):\n",
    "     Effect.append(array(Eff.col_values(i)))\n",
    "\n",
    "phi = np.arange(0.1,2.01,0.1)\n",
    "NTU = np.arange(50,351,50)\n",
    "NN,PP = np.meshgrid(NTU,phi)\n",
    "\n",
    "Effectiv = interpolate.interp2d(phi,NTU,Effect,kind = 'linear')"
   ]
  },
  {
   "cell_type": "markdown",
   "metadata": {},
   "source": [
    "Model Parameters - Similarity"
   ]
  },
  {
   "cell_type": "code",
   "execution_count": 565,
   "metadata": {
    "scrolled": true
   },
   "outputs": [],
   "source": [
    "Pi_1 = k_s_eff*(T_h-T_c)/(rho_s*f*L**2*CdT_dmg)\n",
    "Pi_2 = Epsilon/(1-Epsilon)*k_f_eff*(T_h-T_c)/(rho_s*f*L**2*CdT_dmg)\n",
    "Pi_3 = W_p/(m_s*f*CdT_dmg)\n",
    "Pi_4 = CdT_mg/CdT_dmg\n",
    "Pi_5 = h_int*Beta/(f*rho_s*CdT_dmg) #dT_sf unknown\n",
    "Pi_6 = ((m_f/3600)*c_f)/(m_s*C_L*f)\n",
    "Pi_7 = (T_h-T_c)/(dT_dmg)\n",
    "\n",
    "Pi_8 = Q_c/(m_s*f*CdT_dmg)\n",
    "Pi_9 = Q_h/(m_s*f*CdT_dmg)\n",
    "#Pi_10 = W_m/(m_s*f*CdT_dmg)\n",
    "\n",
    "Efness_HB = zeros(len(Pi_6))\n",
    "Efness_CB = zeros(len(Pi_6))\n",
    "\n",
    "for i in range(len(Pi_6)):\n",
    "    Efness_HB[i] = Effectiv(Pi_6[i]/2,NTU_f[i])\n",
    "    Efness_CB[i] = Effectiv(Pi_6[i]/(2*Pi_4[i]),NTU_f[i])"
   ]
  },
  {
   "cell_type": "markdown",
   "metadata": {},
   "source": [
    "Model Parameters - Integral"
   ]
  },
  {
   "cell_type": "code",
   "execution_count": 566,
   "metadata": {},
   "outputs": [
    {
     "data": {
      "text/plain": [
       "array([ 2.60022401,  1.23650854,  1.28247869,  1.29420547,  1.30020853,\n",
       "        1.493     ,  2.        ,  2.0366    ,  2.1027    ,  2.4960016 ,\n",
       "        2.50680109,  2.52493496,  2.6144    ,  2.6748014 ,  2.67492016,\n",
       "        2.7117    ,  2.8394    ,  2.9787    ,  2.9887    ,  2.9948    ,\n",
       "        3.1905    ,  3.5431    ,  3.6078    ,  3.68858098,  3.78633314,\n",
       "        3.8427    ,  3.85747995,  3.90520392,  3.9408    ,  4.0424    ,\n",
       "        4.16666667,  4.16666667,  4.16666667,  4.16666667,  4.16666667,\n",
       "        4.5034    ,  4.6182    ,  4.7423    ,  4.7931    ,  4.8077    ,\n",
       "        4.8233    ,  4.8605    ,  4.9112    ,  4.9857    ,  5.02301296,\n",
       "        5.02544845,  5.0486269 ,  5.06157356,  5.0729001 ,  5.1786583 ,\n",
       "        5.2478    ,  5.3028    ,  5.4128    ,  5.5014    ,  5.6953    ,\n",
       "        5.7041    ,  5.7461    ,  5.823     ,  6.1271    ,  6.19894042,\n",
       "        6.3911    ,  6.4069    ,  6.5509    ,  6.5536    ,  6.7177    ,\n",
       "        6.926     ,  7.0471    ,  7.0879    ,  7.4457    ,  7.4674    ,\n",
       "        7.51046361,  7.52608571,  7.6535    ,  7.7045    ,  7.7797    ,\n",
       "        7.9278    ,  8.2445    ,  8.2524    ,  8.33333333,  8.33333333,\n",
       "        8.33333333,  8.33333333,  8.33333333,  8.33333333,  8.33333333,\n",
       "        8.33333333,  8.33333333,  8.33333333,  8.33333333,  8.33333333,\n",
       "        8.33333333,  8.33333333,  8.33333333,  8.33333333,  8.3499    ,\n",
       "        8.4575    ,  8.626     ,  8.7862    ,  9.0152    ,  9.0701    ,\n",
       "        9.3312    ,  9.4075    ,  9.5133    ,  9.5751    , 10.354     ,\n",
       "       10.6244    , 10.6673    , 10.8378    , 10.8734    , 10.9689    ,\n",
       "       11.5544    , 11.6742    , 11.9247    , 12.1596    , 12.2478    ,\n",
       "       12.6123    , 12.8501    , 12.8526    , 13.8223    , 13.9302    ,\n",
       "       13.9738    , 14.4017    , 14.4736    , 14.4765    , 15.41666667,\n",
       "       15.5461    , 15.9477    , 16.4225    , 16.4225    , 16.66666667,\n",
       "       16.66666667, 16.66666667, 16.66666667, 16.836     , 17.4872    ,\n",
       "       17.9655    , 18.3943    , 19.3268    , 19.7085    , 20.1439    ,\n",
       "       20.1439    , 20.7601    , 21.0576    , 21.66666667, 22.2199    ,\n",
       "       22.9099    , 22.9964    , 23.6833    , 24.625     , 25.8073    ,\n",
       "       26.29166667, 27.0591    , 27.4018    , 27.9985    , 28.336     ,\n",
       "       29.1859    , 33.1694    , 33.8932    , 34.4027    , 34.5884    ,\n",
       "       38.7584    , 39.5635    , 40.0533    , 46.9683    , 53.713     ])"
      ]
     },
     "execution_count": 566,
     "metadata": {},
     "output_type": "execute_result"
    }
   ],
   "source": [
    "Q_c"
   ]
  },
  {
   "cell_type": "code",
   "execution_count": 567,
   "metadata": {},
   "outputs": [],
   "source": [
    "Q_pas_CB = FE*Efness_CB*(T_h - T_c)*m_f*c_f\n",
    "Q_act_CB = FE*dT_mg*m_f*c_f\n",
    "Q_span = FE*(T_h - T_c)*m_f*c_f\n",
    "Q_cond = ((1-Epsilon)*k_s_eff + Epsilon*k_f_eff)*(W*H*10**-6)*(T_h-T_c)/L\n",
    "W_mag  = m_s*f*(CdT_mg - CdT_dmg)\n",
    "#Q_loss = 10*f\n",
    "#Q_leak = (0.23+5.75+13.88)*(T_h-T_c)"
   ]
  },
  {
   "cell_type": "code",
   "execution_count": 568,
   "metadata": {},
   "outputs": [
    {
     "data": {
      "text/plain": [
       "array([ 59.58 ,   1.986, 375.354, 478.626, 436.92 ,   1.986, 518.346,\n",
       "       536.22 , 363.438, 109.23 , 361.452, 230.376, 335.634, 212.502,\n",
       "       305.844, 522.318,   1.986, 458.766, 301.872, 194.628, 381.312,\n",
       "       452.808,   1.986, 440.892, 393.228, 379.326, 210.516, 186.684,\n",
       "       222.432, 458.766, 121.146,   1.986,  63.552, 299.886, 158.88 ,\n",
       "         1.986,   1.986, 381.312, 248.25 , 111.216, 129.09 , 456.78 ,\n",
       "       329.676, 186.684, 351.522, 234.348, 403.158,  89.37 , 222.432,\n",
       "         1.986, 299.886,   1.986,  51.636,   3.972, 166.824, 150.936,\n",
       "        51.636,   1.986, 335.634, 160.866,  69.51 , 307.83 ,   1.986,\n",
       "         1.986, 127.104,   1.986, 313.788, 148.95 ,  99.3  ,  67.524,\n",
       "        69.51 ,   1.986, 224.418,   1.986, 190.656,  55.608,   1.986,\n",
       "        93.342, 139.02 ,  23.832,   1.986,   1.986,  93.342,  47.664,\n",
       "         1.986])"
      ]
     },
     "execution_count": 568,
     "metadata": {},
     "output_type": "execute_result"
    }
   ],
   "source": [
    "Q_leak"
   ]
  },
  {
   "cell_type": "code",
   "execution_count": 569,
   "metadata": {},
   "outputs": [
    {
     "data": {
      "text/plain": [
       "array([ 0.84892294,  0.63609294,  0.72313611,  0.76512735,  0.85430176,\n",
       "        7.31194358, 10.27693672, 13.04867251, 12.91939937,  0.83409863,\n",
       "        0.54600919,  0.66530221, 13.99747624,  0.70247239,  0.59015992,\n",
       "       16.59539761, 15.65144007, 16.99150894,  2.00321897, 16.80739708,\n",
       "       14.77053828, 17.00324931, 16.61867959,  0.61414039,  0.45977327,\n",
       "       13.74728917,  0.49949928,  0.59015992,  6.10067064,  5.80047718,\n",
       "        4.65328042,  5.09338897,  3.89279271,  2.91006617,  2.5610327 ,\n",
       "        8.10060812,  2.00321897, 10.70752033, 16.88147701, 14.39701306,\n",
       "       16.09232282, 10.56254114, 15.2431773 , 13.7993977 ,  0.38424953,\n",
       "        0.68720727,  0.45977327,  0.64528037,  0.51191134,  0.405131  ,\n",
       "        7.23681367,  2.40473968,  2.00321897, 10.23301957, 14.96562384,\n",
       "       13.1382545 ,  2.00321897, 16.09232282, 16.34192976,  0.4215622 ,\n",
       "        9.80678237,  2.90966973,  9.57983328,  5.00740771,  8.43303773,\n",
       "        4.52567398,  7.23681367, 16.17534057,  2.00321897, 14.21305067,\n",
       "        0.43309601,  0.50297829,  7.08908504,  4.22159378, 10.51766725,\n",
       "       13.96698794,  2.00321897, 13.31544852,  0.45810769,  0.96399905,\n",
       "        2.08371995,  2.70390216,  3.26198747,  3.22858345,  3.04298367,\n",
       "        2.74458424,  2.40517635,  2.14321555,  1.86097475,  3.12765572,\n",
       "        3.21894457,  2.48978586,  1.99812973,  1.70286972, 11.23093045,\n",
       "       10.56254114,  4.54997948,  4.00963874,  4.74609047, 14.21305067,\n",
       "        3.09322862,  2.00321897,  2.43976266,  7.12305135,  3.54978276,\n",
       "        2.00321897,  2.00321897, 10.51766725,  5.38402536,  2.97278343,\n",
       "        3.14947953, 13.99747624,  8.30347917,  4.00963874,  9.12801521,\n",
       "        5.10629049, 11.70770794,  2.68993515,  4.74609047,  2.00321897,\n",
       "        7.12305135,  2.00321897,  2.36741898,  1.98603516,  0.55131294,\n",
       "        3.67214589,  3.48413985,  2.36741898,  4.76852564,  1.65948195,\n",
       "        1.51858461,  1.1902687 ,  0.5824774 ,  2.00321897,  8.43303773,\n",
       "        3.63001966,  2.49502301,  7.31194358,  2.00321897,  2.00321897,\n",
       "        4.07227559,  3.12536671,  2.00321897,  0.52856086,  7.65517223,\n",
       "        3.40751943,  2.7985954 ,  2.47719894,  0.56511647,  2.49502301,\n",
       "        0.52213823,  2.00321897,  4.86376733,  2.00321897,  4.14370613,\n",
       "        2.4015529 ,  2.00321897,  2.73223943,  3.27265542,  2.1211407 ,\n",
       "        2.00321897,  2.00321897,  2.73223943,  2.30970376,  2.00321897])"
      ]
     },
     "execution_count": 569,
     "metadata": {},
     "output_type": "execute_result"
    }
   ],
   "source": [
    "CdT_mg-CdT_dmg"
   ]
  },
  {
   "cell_type": "code",
   "execution_count": 575,
   "metadata": {},
   "outputs": [
    {
     "data": {
      "text/plain": [
       "[<matplotlib.lines.Line2D at 0x2419d2ba9b0>]"
      ]
     },
     "execution_count": 575,
     "metadata": {},
     "output_type": "execute_result"
    },
    {
     "data": {
      "image/png": "[encoded data removed]",
      "text/plain": [
       "<Figure size 432x288 with 1 Axes>"
      ]
     },
     "metadata": {},
     "output_type": "display_data"
    }
   ],
   "source": [
    "plt.plot(Pi_7,Q_c,'o')"
   ]
  },
  {
   "cell_type": "code",
   "execution_count": 576,
   "metadata": {},
   "outputs": [],
   "source": [
    "def fitting(X,a,b,c,d): \n",
    "    P1,P2= X\n",
    "    return ((a*(P1**b)+c*(P1*P2)**(d)))"
   ]
  },
  {
   "cell_type": "code",
   "execution_count": 577,
   "metadata": {},
   "outputs": [],
   "source": [
    "def fit_int(X,a,b,c,d,e): \n",
    "    P1,P2,P3,P4,P5= X\n",
    "    return (a*(P1)+b*(P2)+c*(P3)+d*(P4)+e*P5)"
   ]
  },
  {
   "cell_type": "code",
   "execution_count": 578,
   "metadata": {},
   "outputs": [
    {
     "data": {
      "text/plain": [
       "array([ 2.60022401,  1.23650854,  1.28247869,  1.29420547,  1.30020853,\n",
       "        1.493     ,  2.        ,  2.0366    ,  2.1027    ,  2.4960016 ,\n",
       "        2.50680109,  2.52493496,  2.6144    ,  2.6748014 ,  2.67492016,\n",
       "        2.7117    ,  2.8394    ,  2.9787    ,  2.9887    ,  2.9948    ,\n",
       "        3.1905    ,  3.5431    ,  3.6078    ,  3.68858098,  3.78633314,\n",
       "        3.8427    ,  3.85747995,  3.90520392,  3.9408    ,  4.0424    ,\n",
       "        4.16666667,  4.16666667,  4.16666667,  4.16666667,  4.16666667,\n",
       "        4.5034    ,  4.6182    ,  4.7423    ,  4.7931    ,  4.8077    ,\n",
       "        4.8233    ,  4.8605    ,  4.9112    ,  4.9857    ,  5.02301296,\n",
       "        5.02544845,  5.0486269 ,  5.06157356,  5.0729001 ,  5.1786583 ,\n",
       "        5.2478    ,  5.3028    ,  5.4128    ,  5.5014    ,  5.6953    ,\n",
       "        5.7041    ,  5.7461    ,  5.823     ,  6.1271    ,  6.19894042,\n",
       "        6.3911    ,  6.4069    ,  6.5509    ,  6.5536    ,  6.7177    ,\n",
       "        6.926     ,  7.0471    ,  7.0879    ,  7.4457    ,  7.4674    ,\n",
       "        7.51046361,  7.52608571,  7.6535    ,  7.7045    ,  7.7797    ,\n",
       "        7.9278    ,  8.2445    ,  8.2524    ,  8.33333333,  8.33333333,\n",
       "        8.33333333,  8.33333333,  8.33333333,  8.33333333,  8.33333333,\n",
       "        8.33333333,  8.33333333,  8.33333333,  8.33333333,  8.33333333,\n",
       "        8.33333333,  8.33333333,  8.33333333,  8.33333333,  8.3499    ,\n",
       "        8.4575    ,  8.626     ,  8.7862    ,  9.0152    ,  9.0701    ,\n",
       "        9.3312    ,  9.4075    ,  9.5133    ,  9.5751    , 10.354     ,\n",
       "       10.6244    , 10.6673    , 10.8378    , 10.8734    , 10.9689    ,\n",
       "       11.5544    , 11.6742    , 11.9247    , 12.1596    , 12.2478    ,\n",
       "       12.6123    , 12.8501    , 12.8526    , 13.8223    , 13.9302    ,\n",
       "       13.9738    , 14.4017    , 14.4736    , 14.4765    , 15.41666667,\n",
       "       15.5461    , 15.9477    , 16.4225    , 16.4225    , 16.66666667,\n",
       "       16.66666667, 16.66666667, 16.66666667, 16.836     , 17.4872    ,\n",
       "       17.9655    , 18.3943    , 19.3268    , 19.7085    , 20.1439    ,\n",
       "       20.1439    , 20.7601    , 21.0576    , 21.66666667, 22.2199    ,\n",
       "       22.9099    , 22.9964    , 23.6833    , 24.625     , 25.8073    ,\n",
       "       26.29166667, 27.0591    , 27.4018    , 27.9985    , 28.336     ,\n",
       "       29.1859    , 33.1694    , 33.8932    , 34.4027    , 34.5884    ,\n",
       "       38.7584    , 39.5635    , 40.0533    , 46.9683    , 53.713     ])"
      ]
     },
     "execution_count": 578,
     "metadata": {},
     "output_type": "execute_result"
    }
   ],
   "source": [
    "Q_c"
   ]
  },
  {
   "cell_type": "code",
   "execution_count": 579,
   "metadata": {},
   "outputs": [
    {
     "data": {
      "text/plain": [
       "(array([ 139.60090527,    0.79475277, -134.12548077,    4.34622064,\n",
       "           1.7125188 ]),\n",
       " array([[ 1.34487005e+10, -6.39772292e+01, -1.29147871e+10,\n",
       "          1.39567647e+03,  1.36279168e+04],\n",
       "        [-6.39771668e+01,  2.01423725e-03,  6.14371672e+01,\n",
       "         -3.13091296e-03, -7.77476101e-02],\n",
       "        [-1.29147871e+10,  6.14372272e+01,  1.24020700e+10,\n",
       "         -1.34026898e+03, -1.30868864e+04],\n",
       "        [ 1.39567638e+03, -3.13091297e-03, -1.34026891e+03,\n",
       "          2.99715469e-01,  3.16314282e-01],\n",
       "        [ 1.36279140e+04, -7.77476102e-02, -1.30868837e+04,\n",
       "          3.16314282e-01,  4.63114383e+00]]))"
      ]
     },
     "execution_count": 579,
     "metadata": {},
     "output_type": "execute_result"
    }
   ],
   "source": [
    "Coef = curve_fit(fit_int,(Q_pas_CB,Q_act_CB,Q_span,W_mag,W_pump),Q_c,maxfev=1000)\n",
    "Coef"
   ]
  },
  {
   "cell_type": "code",
   "execution_count": 580,
   "metadata": {},
   "outputs": [],
   "source": [
    "Error_bar = np.arange(0,60,1)"
   ]
  },
  {
   "cell_type": "code",
   "execution_count": 581,
   "metadata": {},
   "outputs": [],
   "source": [
    "Erro = np.abs(Q_c - fit_int((Q_pas_CB,Q_act_CB,Q_span,W_mag,W_pump),Coef[0][0],Coef[0][1],Coef[0][2],Coef[0][3],Coef[0][4]))/Q_c*100"
   ]
  },
  {
   "cell_type": "code",
   "execution_count": 582,
   "metadata": {},
   "outputs": [
    {
     "data": {
      "image/png": "[encoded data removed]",
      "text/plain": [
       "<Figure size 432x288 with 1 Axes>"
      ]
     },
     "metadata": {},
     "output_type": "display_data"
    }
   ],
   "source": [
    "plt.plot(Q_c,fit_int((Q_pas_CB,Q_act_CB,Q_span,W_mag,W_pump),Coef[0][0],Coef[0][1],Coef[0][2],Coef[0][3],Coef[0][4]),'o')\n",
    "plt.plot(Error_bar,1.1*Error_bar,'k--')\n",
    "plt.plot(Error_bar,0.9*Error_bar,'k--')\n",
    "plt.grid()\n",
    "plt.xlabel('Experimental Cooling Capacity [W]')\n",
    "plt.ylabel('Integral Model Cooling Capacity [W]')\n",
    "plt.title('Results Paulo - Above 10 W')\n",
    "plt.savefig('Paulo_Above_10W.png',format = 'png', dpi=500,bbox_inches='tight')"
   ]
  },
  {
   "cell_type": "code",
   "execution_count": 583,
   "metadata": {},
   "outputs": [
    {
     "data": {
      "text/plain": [
       "[<matplotlib.lines.Line2D at 0x2419c7faa20>]"
      ]
     },
     "execution_count": 583,
     "metadata": {},
     "output_type": "execute_result"
    },
    {
     "data": {
      "image/png": "[encoded data removed]",
      "text/plain": [
       "<Figure size 432x288 with 1 Axes>"
      ]
     },
     "metadata": {},
     "output_type": "display_data"
    }
   ],
   "source": [
    "plt.plot(Q_c, Erro,'o')\n",
    "#plt.xlim(0,10)"
   ]
  },
  {
   "cell_type": "code",
   "execution_count": null,
   "metadata": {},
   "outputs": [],
   "source": []
  },
  {
   "cell_type": "code",
   "execution_count": null,
   "metadata": {},
   "outputs": [],
   "source": []
  }
 ],
 "metadata": {
  "kernelspec": {
   "display_name": "Python 3",
   "language": "python",
   "name": "python3"
  },
  "language_info": {
   "codemirror_mode": {
    "name": "ipython",
    "version": 3
   },
   "file_extension": ".py",
   "mimetype": "text/x-python",
   "name": "python",
   "nbconvert_exporter": "python",
   "pygments_lexer": "ipython3",
   "version": "3.6.5"
  }
 },
 "nbformat": 4,
 "nbformat_minor": 2
}
