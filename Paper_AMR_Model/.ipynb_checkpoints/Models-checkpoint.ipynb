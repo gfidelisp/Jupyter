{
 "cells": [
  {
   "cell_type": "code",
   "execution_count": 1,
   "metadata": {},
   "outputs": [],
   "source": [
    "from numpy import *\n",
    "from scipy import *\n",
    "import numpy as np\n",
    "from matplotlib import *\n",
    "\n",
    "from scipy import integrate\n",
    "from scipy import interpolate\n",
    "from scipy.optimize import curve_fit\n",
    "import matplotlib.pyplot as plt\n",
    "\n",
    "import xlrd\n",
    "\n",
    "rc('text',usetex = True)\n",
    "rc('font', family='serif',size = 12)"
   ]
  },
  {
   "cell_type": "code",
   "execution_count": 2,
   "metadata": {},
   "outputs": [],
   "source": [
    "def Properties(SpecHeat,dTad,B_exp,B_l_int,B_h_int,T,N_ml): #Get the properties on the low and high field\n",
    "\n",
    "    C_l = zeros([N_ml,len(T)])\n",
    "    C_h = zeros([N_ml,len(T)])\n",
    "    dT_l = zeros([N_ml,len(T)])\n",
    "    dT_h = zeros([N_ml,len(T)])\n",
    "    \n",
    "    A_2 = 0\n",
    "    A_1 = 0\n",
    "    \n",
    "    for i in range(K):\n",
    "        if B_exp[i] == B_l_int and B_exp[i-1]< B_l_int:\n",
    "            A_2 = np.int(i)  \n",
    "        if B_exp[i] == B_l_int:\n",
    "            for j in range(N_ml):\n",
    "                C_l[j][i-A_2]=C[j,i]\n",
    "                dT_l[j][i-A_2]=dT[j,i]\n",
    "\n",
    "        if B_exp[i] == B_h_int and B_exp[i-1]< B_h_int:\n",
    "            A_1 = np.int(i)\n",
    "        if B_exp[i] == B_h_int:\n",
    "            for j in range(N_ml):\n",
    "                C_h[j][i-A_1]=C[j,i]\n",
    "                dT_h[j][i-A_1]=dT[j,i]\n",
    "                \n",
    "    return(C_l,C_h,dT_l,dT_h)"
   ]
  },
  {
   "cell_type": "code",
   "execution_count": 3,
   "metadata": {},
   "outputs": [],
   "source": [
    "def SubMetrics(Th,Tc,T_l,T_layer,L_layer,C_h,C_l,dT_ad,dT_ad_d):\n",
    "\n",
    "\n",
    "    C_mag = []\n",
    "    C_dmag = []\n",
    "    dT_mag = []\n",
    "    dT_dmag = []\n",
    "\n",
    "    T_int = np.arange(Tc,Th+0.001,0.1)\n",
    "\n",
    "    N_l = len(T_layer)\n",
    "\n",
    "    A = np.int((Tc - min(T_exp))/0.1)\n",
    "\n",
    "\n",
    "\n",
    "    T_t = []\n",
    "    L = 0\n",
    "\n",
    "    for i in range(N_l):\n",
    "        L = L + L_layer[i]\n",
    "        T_tr = Tc + 0.001 +L/100*(Th-Tc)\n",
    "        T_t.append(T_tr)\n",
    "    \n",
    "    \n",
    "    k = 0    \n",
    "    for i in range (len(T_int)):\n",
    "        if T_int[i] <=T_t[k]:\n",
    "            for j in range(len(T_l)):\n",
    "                if T_layer[k] >= T_l[j] and T_layer[k] < T_l[j+1]:\n",
    "                    C_mag.append(C_h[j+1][int(i+A)]-(C_h[j+1][int(i+A)]-C_h[j][int(i+A)])*(T_l[j+1]-T_layer[k])/(T_l[j+1]-T_l[j]))\n",
    "                    C_dmag.append(C_l[j+1][int(i+A)]-(C_l[j+1][int(i+A)]-C_l[j][int(i+A)])*(T_l[j+1]-T_layer[k])/(T_l[j+1]-T_l[j]))\n",
    "                    dT_mag.append(dT_ad[j+1][int(i+A)]-(dT_ad[j+1][int(i+A)]-dT_ad[j][int(i+A)])*(T_l[j+1]-T_layer[k])/(T_l[j+1]-T_l[j]))\n",
    "                    dT_dmag.append(dT_ad_d[j+1][int(i+A)]-(dT_ad_d[j+1][int(i+A)]-dT_ad_d[j][int(i+A)])*(T_l[j+1]-T_layer[k])/(T_l[j+1]-T_l[j]))\n",
    "        else:\n",
    "            for j in range(len(T_l)):\n",
    "                if T_layer[k+1] >= T_l[j] and T_layer[k+1] < T_l[j+1]:\n",
    "                    C_mag.append(C_h[j][int(i+A)]+(C_h[j+1][int(i+A)]-C_h[j][int(i+A)])*(T_layer[k+1]-T_l[j])/(T_l[j+1]-T_l[j]))\n",
    "                    C_dmag.append(C_l[j][int(i+A)]+(C_l[j+1][int(i+A)]-C_l[j][int(i+A)])*(T_layer[k+1]-T_l[j])/(T_l[j+1]-T_l[j]))\n",
    "                    dT_mag.append(dT_ad[j][int(i+A)]+(dT_ad[j+1][int(i+A)]-dT_ad[j][int(i+A)])*(T_layer[k+1]-T_l[j])/(T_l[j+1]-T_l[j]))\n",
    "                    dT_dmag.append(dT_ad_d[j][int(i+A)]+(dT_ad_d[j+1][int(i+A)]-dT_ad_d[j][int(i+A)])*(T_layer[k+1]-T_l[j])/(T_l[j+1]-T_l[j]))\n",
    "            k = k + 1\n",
    "            \n",
    "    return (C_mag,C_dmag,dT_mag,dT_dmag)"
   ]
  },
  {
   "cell_type": "code",
   "execution_count": 4,
   "metadata": {},
   "outputs": [],
   "source": [
    "def Parameters(C_mag,C_dmag,dT_mag,dT_dmag,T_int):\n",
    "    print(len(C_mag),len(T_int))\n",
    "    C_mag_mean   = integrate.simps(C_mag,T_int)/(max(T_int)-min(T_int))\n",
    "    C_dmag_mean  = integrate.simps(C_dmag,T_int)/(max(T_int)-min(T_int))\n",
    "    \n",
    "    dT_mag_mean  = integrate.simps(dT_mag,T_int)/(max(T_int)-min(T_int))\n",
    "    dT_dmag_mean = integrate.simps(dT_dmag,T_int)/(max(T_int)-min(T_int))\n",
    "    \n",
    "    CdT_mag_mean   = integrate.simps(np.array(C_mag)*np.array(dT_mag),T_int)/(max(T_int)-min(T_int))\n",
    "    CdT_dmag_mean  = integrate.simps(np.array(C_dmag)*np.array(dT_dmag),T_int)/(max(T_int)-min(T_int))\n",
    "    return C_mag_mean, C_dmag_mean, dT_mag_mean,dT_dmag_mean,CdT_mag_mean,CdT_dmag_mean"
   ]
  },
  {
   "cell_type": "code",
   "execution_count": 5,
   "metadata": {},
   "outputs": [],
   "source": [
    "def Metrics (SpecHeat,dTad,B_l_int,B_h_int,T_arg,N_ml,Th,Tc,T_l,T_layer,L_layer):\n",
    "    (C_l,C_h,dT_l,dT_h) = Properties(SpecHeat,dTad,B_exp,B_l_int,B_h_int,T_arg,N_ml) #Properties of low and high fields\n",
    "    dT_ad = np.array(dT_h)-np.array(dT_l)\n",
    "             \n",
    "    T_dem = zeros([N_ml,len(T_arg)])\n",
    "    for j in range(N_ml):\n",
    "        T_dem[j] = T_arg + dT_ad[j]\n",
    "             \n",
    "    dT_ad_d = np.zeros([N_ml,len(T_arg)])\n",
    "    for i in range(N_ml):\n",
    "        for j in range(len(T_arg)):\n",
    "            for k in range(len(T_dem[i])):\n",
    "                if  T_arg[j] > T_dem[i][k] and T_arg[j] <= T_dem[i][k+1]:\n",
    "                    dT_ad_d[i][j] = (dT_ad[i][k] + (T_arg[j] - T_dem[i][k])*(dT_ad[i][k+1]-dT_ad[i][k])/(T_arg[k+1]-T_arg[k]))\n",
    "\n",
    "    (C_mag,C_dmag,dT_mag,dT_dmag) = SubMetrics(Th,Tc,T_l,T_layer,L_layer,C_h,C_l,dT_ad,dT_ad_d)\n",
    "    \n",
    "    T_int = np.arange(Tc,Th+0.001,0.1)\n",
    "    \n",
    "    C_mag_mean, C_dmag_mean, dT_mag_mean,dT_dmag_mean,CdT_mag_mean,CdT_dmag_mean = Parameters(C_mag,C_dmag,dT_mag,dT_dmag,T_int)\n",
    "    \n",
    "    return C_mag_mean, C_dmag_mean, dT_mag_mean,dT_dmag_mean,CdT_mag_mean,CdT_dmag_mean"
   ]
  },
  {
   "cell_type": "markdown",
   "metadata": {},
   "source": [
    "Constant inputs"
   ]
  },
  {
   "cell_type": "code",
   "execution_count": 6,
   "metadata": {},
   "outputs": [],
   "source": [
    "##Properties of the solid \n",
    "\n",
    "rho_s = 7900  #[kg/m3] Density of the solid\n",
    "k_s   = 8 #[W/(m2.K)] #Thermal conductivity of the solid\n",
    "\n",
    "## Propertis of the fluid\n",
    "\n",
    "rho_f = 1000  #[kg/m3] Density of the fluid\n",
    "c_f   = 4181  #[kJ/(kg.K)] # Specific heat of the fluid\n",
    "Pr_f  = 6.136 #[-] Prandtl of the fluid\n",
    "mu_f  = 0.0008901 #[kg/m-2] #Viscosity of the fluid\n",
    "k_f   = 0.6065  #[W/(m2.K)] #Thermal conductivity of the fluid\n",
    "\n",
    "## Porous medium\n",
    "#d_p = 512.5*10**(-6) #[m] Particle diameter\n",
    "Epsilon = 0.36  #[-] Porosity"
   ]
  },
  {
   "cell_type": "markdown",
   "metadata": {},
   "source": [
    "Properties Calculation"
   ]
  },
  {
   "cell_type": "code",
   "execution_count": 7,
   "metadata": {},
   "outputs": [],
   "source": [
    "Prop = xlrd.open_workbook('Gd-Y.xlsx') #Import Properties File\n",
    "SpecHeat = Prop.sheet_by_name('C') # #Import Specific Heat\n",
    "dTad = Prop.sheet_by_name('dT') #Import Adiabatic Temperature Change\n",
    "\n",
    "T_exp = dTad.col_values(0) #Import experimented temperatures \n",
    "B_exp = dTad.col_values(1) #Import experimented magnetic fields\n",
    "\n",
    "T_arg = arange(min(T_exp),max(T_exp)+0.01,0.1)\n",
    "\n",
    "K = len(dTad.col_values(0)) #Import data number\n",
    "\n",
    "T_l =  [273,277,283,290]#arange(270,315,2)#Temperature  of Curie of the multilayer\n",
    "N_ml = len(T_l) #Number of Multilayer Layers\n",
    "\n",
    "\n",
    "dT = zeros([N_ml,K])\n",
    "C = zeros([N_ml,K])\n",
    "for i in range(N_ml):\n",
    "    dT[i,:] = (dTad.col_values(i+2))    #Data of Adiabatic Temperature change\n",
    "    C[i,:] = (SpecHeat.col_values(i+2)) #Data of specific heat"
   ]
  },
  {
   "cell_type": "code",
   "execution_count": 8,
   "metadata": {},
   "outputs": [],
   "source": [
    "T_layer = [289.9,289.9]\n",
    "L_layer = [50,50]\n",
    "Nr = 1"
   ]
  },
  {
   "cell_type": "markdown",
   "metadata": {},
   "source": [
    "Importing AMR simulation inputs"
   ]
  },
  {
   "cell_type": "code",
   "execution_count": 80,
   "metadata": {
    "scrolled": true
   },
   "outputs": [],
   "source": [
    "Data = xlrd.open_workbook('AMR_Inputs.xlsx') #Import inputs File\n",
    "Inputs = Data.sheet_by_name('Data') \n",
    "\n",
    "L   = array(Inputs.col_values(0))/1000 #Import AMR Length [mm]\n",
    "H   = array(Inputs.col_values(1))/1000 #Import AMR Height [mm]\n",
    "W   = array(Inputs.col_values(2))/1000 #Import AMR Width [mm]\n",
    "T_h = array(Inputs.col_values(3)) #Import temperature span [K]\n",
    "T_c = array(Inputs.col_values(4)) #Import temperature span [K]\n",
    "B   = array(Inputs.col_values(5)) #Import magnetic field [T]\n",
    "B_l   = array(Inputs.col_values(6)) #Import magnetic field [T]\n",
    "f   = array(Inputs.col_values(7)) #Import frequency [Hz]\n",
    "m_f = array(Inputs.col_values(8))/3600 #Import mass flow rate [kg/h]\n",
    "FE = array(Inputs.col_values(9)) #Import mass flow rate [kg/h]\n",
    "\n",
    "Q_c = array(Inputs.col_values(10)) #Import Cooling capacity [W]\n",
    "Q_h = array(Inputs.col_values(11)) #Import Rejected heat [W]\n",
    "W_p = array(Inputs.col_values(12)) #Import Pumping power [W]\n",
    "d_p = array(Inputs.col_values(13))/1000 #Import Magnetic power [W]"
   ]
  },
  {
   "cell_type": "markdown",
   "metadata": {},
   "source": [
    "Calculation"
   ]
  },
  {
   "cell_type": "code",
   "execution_count": 98,
   "metadata": {},
   "outputs": [],
   "source": [
    "#Porous medium\n",
    "m_s   = L*W*H*(1-Epsilon)*rho_s #mass of the AMR\n",
    "Beta = (1-Epsilon)*6/d_p\n",
    "v_s   = (m_f)/(rho_f*W*H) #Superficial velocity\n",
    "dP = L*(150*(1-Epsilon)**2/(Epsilon**3)*(mu_f*v_s)/d_p**2 + 1.75*(1-Epsilon)/Epsilon**3*rho_f*v_s**2/d_p)\n",
    "W_pump = dP*m_f/rho_f\n",
    "\n",
    "\n",
    "#Dimensionless Numbers\n",
    "Re_dp = d_p*v_s*rho_f/((1-Epsilon)*mu_f) #Reynolds number\n",
    "Nu = 2*(1+4*(1-Epsilon)/Epsilon)+((1-Epsilon)**0.5)*Re_dp**0.6*Pr_f**(1/3) # Nusselt number\n",
    "Pe = Re_dp*Pr_f\n",
    "\n",
    "h_int = Nu*k_f/d_p\n",
    "\n",
    "#Effective conduction\n",
    "k_e_f = k_f*Epsilon #Fluid effective conduction\n",
    "\n",
    "\n",
    "a_0 = exp(-1.084-6.778*(Epsilon-0.298))\n",
    "f_0 = 0.8\n",
    "k_e_s = k_f*((1-a_0)*(Epsilon*f_0+(1-Epsilon*f_0)*k_s/k_f)/(1-Epsilon*(1-f_0)+k_s/k_f*Epsilon*(1-f_0))+a_0*(2*((k_s/k_f)**2)*(1-Epsilon)+(1+2*Epsilon)*k_s/k_f)/((2+Epsilon)*k_s/k_f+(1-Epsilon))) #Solid effective conduction\n",
    "\n",
    "D_ = (k_f*rho_f/c_f)*0.75*Pe/2\n",
    "\n",
    "k_s_eff = k_e_s\n",
    "k_f_eff = k_e_f + rho_f*c_f*D_"
   ]
  },
  {
   "cell_type": "code",
   "execution_count": 82,
   "metadata": {},
   "outputs": [],
   "source": [
    "C_H = zeros(len(L))\n",
    "C_L = zeros(len(L))\n",
    "dT_mg = zeros(len(L))\n",
    "dT_dmg = zeros(len(L))\n",
    "CdT_mg = zeros(len(L))\n",
    "CdT_dmg = zeros(len(L))"
   ]
  },
  {
   "cell_type": "code",
   "execution_count": 83,
   "metadata": {
    "scrolled": true
   },
   "outputs": [
    {
     "name": "stdout",
     "output_type": "stream",
     "text": [
      "0\n",
      "91 91\n",
      "1\n",
      "88 88\n",
      "2\n",
      "49 49\n",
      "3\n",
      "69 69\n",
      "4\n",
      "74 74\n",
      "5\n",
      "55 55\n",
      "6\n",
      "61 61\n",
      "7\n",
      "29 29\n",
      "8\n",
      "39 39\n",
      "9\n",
      "55 55\n",
      "10\n",
      "4 4\n",
      "11\n",
      "72 72\n",
      "12\n",
      "29 29\n",
      "13\n",
      "66 66\n",
      "14\n",
      "40 40\n",
      "15\n",
      "14 14\n",
      "16\n",
      "19 19\n",
      "17\n",
      "22 22\n",
      "18\n",
      "38 38\n"
     ]
    }
   ],
   "source": [
    "for i in range(len(L)):\n",
    "    print(i)\n",
    "    C_H[i],C_L[i],dT_mg[i],dT_dmg[i],CdT_mg[i],CdT_dmg[i] = Metrics (SpecHeat,dTad,B_l[i],B[i],T_arg,N_ml,T_h[i],T_c[i],T_l,T_layer,L_layer)"
   ]
  },
  {
   "cell_type": "markdown",
   "metadata": {},
   "source": [
    "Porous Medium Eff"
   ]
  },
  {
   "cell_type": "code",
   "execution_count": 84,
   "metadata": {},
   "outputs": [],
   "source": [
    "NTU_f  = h_int*Beta*(L*W*H*10**(-9))/(m_f/3600*c_f) \n",
    "#NTU_HB = h_int*Beta*(L*W*H*10**(-9))/(m_s*C_H*f)\n",
    "#NTU_CB = h_int*Beta*(L*W*H*10**(-9))/(m_s*C_L*f)\n",
    "\n",
    "Eff = Data.sheet_by_name('Eff') \n",
    "\n",
    "Effect = []\n",
    "\n",
    "for i in range(7):\n",
    "     Effect.append(array(Eff.col_values(i)))\n",
    "\n",
    "phi = np.arange(0.1,2.01,0.1)\n",
    "NTU = np.arange(50,351,50)\n",
    "NN,PP = np.meshgrid(NTU,phi)\n",
    "\n",
    "Effectiv = interpolate.interp2d(phi,NTU,Effect,kind = 'linear')"
   ]
  },
  {
   "cell_type": "markdown",
   "metadata": {},
   "source": [
    "Model Parameters - Similarity"
   ]
  },
  {
   "cell_type": "code",
   "execution_count": 85,
   "metadata": {
    "scrolled": true
   },
   "outputs": [],
   "source": [
    "Pi_1 = k_s_eff*(T_h-T_c)/(rho_s*f*L**2*CdT_dmg)\n",
    "Pi_2 = Epsilon/(1-Epsilon)*k_f_eff*(T_h-T_c)/(rho_s*f*L**2*CdT_dmg)\n",
    "Pi_3 = W_p/(m_s*f*CdT_dmg)\n",
    "Pi_4 = CdT_mg/CdT_dmg\n",
    "Pi_5 = h_int*Beta/(f*rho_s*CdT_dmg) #dT_sf unknown\n",
    "Pi_6 = ((m_f/3600)*c_f)/(m_s*C_L*f)\n",
    "Pi_7 = (T_h-T_c)/(dT_dmg)\n",
    "\n",
    "Pi_8 = Q_c/(m_s*f*CdT_dmg)\n",
    "Pi_9 = Q_h/(m_s*f*CdT_dmg)\n",
    "#Pi_10 = W_m/(m_s*f*CdT_dmg)\n",
    "\n",
    "Efness_HB = zeros(len(Pi_6))\n",
    "Efness_CB = zeros(len(Pi_6))\n",
    "\n",
    "for i in range(len(Pi_6)):\n",
    "    Efness_HB[i] = Effectiv(Pi_6[i]/2,NTU_f[i])\n",
    "    Efness_CB[i] = Effectiv(Pi_6[i]/(2*Pi_4[i]),NTU_f[i])"
   ]
  },
  {
   "cell_type": "markdown",
   "metadata": {},
   "source": [
    "Model Parameters - Integral"
   ]
  },
  {
   "cell_type": "code",
   "execution_count": 86,
   "metadata": {},
   "outputs": [
    {
     "data": {
      "text/plain": [
       "array([2.60022401, 2.4960016 , 2.50680109, 2.52493496, 2.6748014 ,\n",
       "       2.67492016, 3.68858098, 3.78633314, 3.85747995, 3.90520392,\n",
       "       5.02301296, 5.02544845, 5.0486269 , 5.06157356, 5.0729001 ,\n",
       "       5.1786583 , 6.19894042, 7.51046361, 7.52608571])"
      ]
     },
     "execution_count": 86,
     "metadata": {},
     "output_type": "execute_result"
    }
   ],
   "source": [
    "Q_c"
   ]
  },
  {
   "cell_type": "code",
   "execution_count": 87,
   "metadata": {},
   "outputs": [],
   "source": [
    "Q_pas_CB = FE*Efness_CB*(T_h - T_c)*m_f*c_f\n",
    "Q_act_CB = FE*dT_mg*m_f*c_f\n",
    "Q_span = FE*(T_h - T_c)*m_f*c_f\n",
    "Q_cond = ((1-Epsilon)*k_s_eff + Epsilon*k_f_eff)*(W*H*10**-6)*(T_h-T_c)/L\n",
    "W_mag  = m_s*f*(CdT_mg - CdT_dmg)\n",
    "Q_loss = 20*f"
   ]
  },
  {
   "cell_type": "code",
   "execution_count": 88,
   "metadata": {},
   "outputs": [
    {
     "data": {
      "text/plain": [
       "array([0.84892294, 0.83409863, 0.54600919, 0.66530221, 0.70247239,\n",
       "       0.59015992, 0.61414039, 0.45977327, 0.49949928, 0.59015992,\n",
       "       0.38424953, 0.68720727, 0.45977327, 0.64528037, 0.51191134,\n",
       "       0.405131  , 0.4215622 , 0.43309601, 0.50297829])"
      ]
     },
     "execution_count": 88,
     "metadata": {},
     "output_type": "execute_result"
    }
   ],
   "source": [
    "CdT_mg-CdT_dmg"
   ]
  },
  {
   "cell_type": "code",
   "execution_count": 89,
   "metadata": {},
   "outputs": [
    {
     "data": {
      "text/plain": [
       "[<matplotlib.lines.Line2D at 0x2418b37d470>]"
      ]
     },
     "execution_count": 89,
     "metadata": {},
     "output_type": "execute_result"
    },
    {
     "data": {
      "image/png": "[encoded data removed]",
      "text/plain": [
       "<Figure size 432x288 with 1 Axes>"
      ]
     },
     "metadata": {},
     "output_type": "display_data"
    }
   ],
   "source": [
    "plt.plot(Pi_7,Q_c,'o')"
   ]
  },
  {
   "cell_type": "code",
   "execution_count": 90,
   "metadata": {},
   "outputs": [],
   "source": [
    "def fitting(X,a,b,c,d): \n",
    "    P1,P2= X\n",
    "    return ((a*(P1**b)+c*(P1*P2)**(d)))"
   ]
  },
  {
   "cell_type": "code",
   "execution_count": 91,
   "metadata": {},
   "outputs": [],
   "source": [
    "def fit_int(X,a,b,c,d,e): \n",
    "    P1,P2,P3,P4,P5= X\n",
    "    return (a*(P1)+b*(P2)+c*(P3)+d*(P4)+e*P5)"
   ]
  },
  {
   "cell_type": "code",
   "execution_count": 106,
   "metadata": {},
   "outputs": [
    {
     "data": {
      "text/plain": [
       "(array([126.16624797, 106.73594873,  33.80697805,  71.62199988,\n",
       "         76.84988309,  47.48660576,  63.25738676,  19.86595617,\n",
       "         33.54558389,  56.98392691,   2.43967883,  99.67830641,\n",
       "         29.79893426,  79.89948162,  41.3002773 ,  11.76273721,\n",
       "         19.34316785,  26.2265474 ,  52.27883203]),\n",
       " array([9.30565353, 8.10695535, 4.0210586 , 6.45552403, 6.56903316,\n",
       "        5.16058762, 6.28031691, 3.76803025, 4.86380214, 6.19270514,\n",
       "        3.48831798, 8.69767622, 5.65204538, 7.45373728, 5.89199527,\n",
       "        4.49465127, 5.47741255, 6.45028925, 7.80498199]))"
      ]
     },
     "execution_count": 106,
     "metadata": {},
     "output_type": "execute_result"
    }
   ],
   "source": []
  },
  {
   "cell_type": "code",
   "execution_count": 99,
   "metadata": {},
   "outputs": [
    {
     "data": {
      "text/plain": [
       "(array([-89.71488297,   1.14934607,  86.06489472,  16.17417001,\n",
       "          7.20855431]),\n",
       " array([[ 2.29373468e+10, -1.93901226e+03, -2.20267343e+10,\n",
       "          7.73912704e+04,  4.24949392e+04],\n",
       "        [-1.93901264e+03,  7.15833485e-03,  1.86203384e+03,\n",
       "         -3.35574532e-01, -1.28162793e-01],\n",
       "        [-2.20267343e+10,  1.86203347e+03,  2.11522731e+10,\n",
       "         -7.43188692e+04, -4.08078908e+04],\n",
       "        [ 7.73913111e+04, -3.35574534e-01, -7.43189083e+04,\n",
       "          1.03024290e+02, -1.91568825e+00],\n",
       "        [ 4.24949476e+04, -1.28162793e-01, -4.08078988e+04,\n",
       "         -1.91568830e+00,  4.14752312e+00]]))"
      ]
     },
     "execution_count": 99,
     "metadata": {},
     "output_type": "execute_result"
    }
   ],
   "source": [
    "Coef = curve_fit(fit_int,(Q_pas_CB,Q_act_CB,Q_span,W_mag,W_pump),Q_c,maxfev=10000)\n",
    "Coef"
   ]
  },
  {
   "cell_type": "code",
   "execution_count": 120,
   "metadata": {},
   "outputs": [],
   "source": [
    "Error_bar = np.arange(2*16,16*8,1)"
   ]
  },
  {
   "cell_type": "code",
   "execution_count": 121,
   "metadata": {},
   "outputs": [],
   "source": [
    "Erro = np.abs(Q_c - fit_int((Q_pas_CB,Q_act_CB,Q_span,W_mag,W_pump),Coef[0][0],Coef[0][1],Coef[0][2],Coef[0][3],Coef[0][4]))/Q_c*100"
   ]
  },
  {
   "cell_type": "code",
   "execution_count": 122,
   "metadata": {},
   "outputs": [
    {
     "data": {
      "text/plain": [
       "Text(0,0.5,'Integral Model Cooling Capacity [W]')"
      ]
     },
     "execution_count": 122,
     "metadata": {},
     "output_type": "execute_result"
    },
    {
     "data": {
      "image/png": "[encoded data removed]",
      "text/plain": [
       "<Figure size 432x288 with 1 Axes>"
      ]
     },
     "metadata": {},
     "output_type": "display_data"
    }
   ],
   "source": [
    "plt.plot(16*Q_c,16*fit_int((Q_pas_CB,Q_act_CB,Q_span,W_mag,W_pump),Coef[0][0],Coef[0][1],Coef[0][2],Coef[0][3],Coef[0][4]),'o')\n",
    "plt.plot(Error_bar,1.1*Error_bar,'k--')\n",
    "plt.plot(Error_bar,0.9*Error_bar,'k--')\n",
    "plt.grid()\n",
    "plt.xlabel('Numerical Cooling Capacity [W]')\n",
    "plt.ylabel('Integral Model Cooling Capacity [W]')"
   ]
  },
  {
   "cell_type": "code",
   "execution_count": 103,
   "metadata": {},
   "outputs": [
    {
     "data": {
      "text/plain": [
       "[<matplotlib.lines.Line2D at 0x2418a396c88>]"
      ]
     },
     "execution_count": 103,
     "metadata": {},
     "output_type": "execute_result"
    },
    {
     "data": {
      "image/png": "[encoded data removed]",
      "text/plain": [
       "<Figure size 432x288 with 1 Axes>"
      ]
     },
     "metadata": {},
     "output_type": "display_data"
    }
   ],
   "source": [
    "plt.plot(Q_c, Erro,'o')\n",
    "#plt.ylim(0,50)"
   ]
  },
  {
   "cell_type": "code",
   "execution_count": null,
   "metadata": {},
   "outputs": [],
   "source": []
  },
  {
   "cell_type": "code",
   "execution_count": null,
   "metadata": {},
   "outputs": [],
   "source": []
  }
 ],
 "metadata": {
  "kernelspec": {
   "display_name": "Python 3",
   "language": "python",
   "name": "python3"
  },
  "language_info": {
   "codemirror_mode": {
    "name": "ipython",
    "version": 3
   },
   "file_extension": ".py",
   "mimetype": "text/x-python",
   "name": "python",
   "nbconvert_exporter": "python",
   "pygments_lexer": "ipython3",
   "version": "3.6.5"
  }
 },
 "nbformat": 4,
 "nbformat_minor": 2
}
